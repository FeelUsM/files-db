{
 "cells": [
  {
   "cell_type": "code",
   "execution_count": 1,
   "id": "5bdbc9fb-bbc0-4300-84ec-29aae94985b5",
   "metadata": {},
   "outputs": [
    {
     "data": {
      "text/plain": [
       "'\\ntodo\\n\\nсинхронизировать 2 пишущих потока\\n\\nмониторинговые и интерфейсные функции\\n\\nlist_owners(path, show_deleted)\\n    # выводить только если owner и owner родителя не совпадают\\n    deleted - с пометками\\n\\nset_owner(path, owner, *, save, update, in_deleted, del_hist)\\n\\nls_hist(path, owner, static_modified)\\n\\nпо 1-2 теста независимых на каждую функцию\\n\\npause, continue, stop\\n\\nловля ошибок и восстановление в режиме PRODUCTION_MODE\\n\\nсделать журнал с ошибками берущимися из ФС\\n\\nподготовиться к ошибкам permission denied\\n\\nrotate(time)\\n\\nполе с сообщением в hist\\n\\nразмер папок хранить в stat\\n\\nхранить историю размеров некоторых папок\\n\\nкэшировать id2path/path2ids\\n'"
      ]
     },
     "execution_count": 1,
     "metadata": {},
     "output_type": "execute_result"
    }
   ],
   "source": [
    "'''\n",
    "todo\n",
    "\n",
    "set_modified \n",
    "    только отдельный файл\n",
    "    диапозон родитель - ребёнок\n",
    "\n",
    "поле с сообщением в hist\n",
    "\n",
    "размер папок хранить в stat\n",
    "\n",
    "хранить историю размеров некоторых папок\n",
    "\n",
    "кэшировать id2path/path2ids\n",
    "\n",
    "по 1-2 теста независимых на каждую функцию\n",
    "\n",
    "pause, continue, stop\n",
    "\n",
    "ловля ошибок и восстановление в режиме PRODUCTION_MODE\n",
    "\n",
    "сделать журнал с ошибками берущимися из ФС\n",
    "\n",
    "подготовиться к ошибкам permission denied\n",
    "\n",
    "rotate(time)\n",
    "\n",
    "\n",
    "'''"
   ]
  },
  {
   "cell_type": "code",
   "execution_count": 1,
   "id": "eace7c9f-1ca7-4c06-8e5c-aba645d826e6",
   "metadata": {},
   "outputs": [],
   "source": [
    "%load_ext autoreload\n",
    "%autoreload 2"
   ]
  },
  {
   "cell_type": "code",
   "execution_count": 137,
   "id": "d4a4a4de-35a7-4e05-ad77-bb9442f4b733",
   "metadata": {},
   "outputs": [
    {
     "name": "stdout",
     "output_type": "stream",
     "text": [
      "walk root_dirs:\n"
     ]
    },
    {
     "name": "stderr",
     "output_type": "stream",
     "text": [
      "100%|█████████████████████████████████████████████| 1/1 [00:17<00:00, 17.61s/it]\n"
     ]
    },
    {
     "name": "stdout",
     "output_type": "stream",
     "text": [
      "calc hashes:\n"
     ]
    },
    {
     "name": "stderr",
     "output_type": "stream",
     "text": [
      "Exception ignored in: <function filesdb.__del__ at 0x738a903f68e0>56, 49.19it/s]\n",
      "Traceback (most recent call last):\n",
      "  File \"/home/feelus/pyfiles/src/pyfiles.py\", line 1486, in __del__\n",
      "sqlite3.ProgrammingError: SQLite objects created in a thread can only be used in that same thread. The object was created in thread id 127039806390400 and this is thread id 127039384323776.\n",
      "Exception ignored in: <function filesdb.__del__ at 0x738a903f68e0>\n",
      "Traceback (most recent call last):\n",
      "  File \"/home/feelus/pyfiles/src/pyfiles.py\", line 1486, in __del__\n",
      "sqlite3.ProgrammingError: SQLite objects created in a thread can only be used in that same thread. The object was created in thread id 127039806390400 and this is thread id 127039384323776.\n",
      "Exception ignored in: <function filesdb.__del__ at 0x738a903f68e0>\n",
      "Traceback (most recent call last):\n",
      "  File \"/home/feelus/pyfiles/src/pyfiles.py\", line 1486, in __del__\n",
      "sqlite3.ProgrammingError: SQLite objects created in a thread can only be used in that same thread. The object was created in thread id 127039806390400 and this is thread id 127039384323776.\n",
      "Exception ignored in: <function filesdb.__del__ at 0x738a903f68e0>\n",
      "Traceback (most recent call last):\n",
      "  File \"/home/feelus/pyfiles/src/pyfiles.py\", line 1486, in __del__\n",
      "sqlite3.ProgrammingError: SQLite objects created in a thread can only be used in that same thread. The object was created in thread id 127039806390400 and this is thread id 127039384323776.\n",
      "Exception ignored in: <function filesdb.__del__ at 0x738a903f68e0>\n",
      "Traceback (most recent call last):\n",
      "  File \"/home/feelus/pyfiles/src/pyfiles.py\", line 1486, in __del__\n",
      "sqlite3.ProgrammingError: SQLite objects created in a thread can only be used in that same thread. The object was created in thread id 127039806390400 and this is thread id 127039384323776.\n",
      "Exception ignored in: <function filesdb.__del__ at 0x738a90265da0>\n",
      "Traceback (most recent call last):\n",
      "  File \"/home/feelus/pyfiles/src/filesdb.py\", line 1488, in __del__\n",
      "    self.CON.close()\n",
      "sqlite3.ProgrammingError: SQLite objects created in a thread can only be used in that same thread. The object was created in thread id 127039806390400 and this is thread id 127039384323776.\n",
      "100%|████████████████████████████████████| 92999/92999 [06:50<00:00, 226.53it/s]\n"
     ]
    }
   ],
   "source": [
    "from filesdb import filesdb\n",
    "fdb = filesdb('home.db','/home/feelus',ro=False)"
   ]
  },
  {
   "cell_type": "code",
   "execution_count": null,
   "id": "424dc3e5-b0f3-4d0f-b223-b7cdd374a6db",
   "metadata": {},
   "outputs": [],
   "source": []
  },
  {
   "cell_type": "code",
   "execution_count": null,
   "id": "54eb0918-1570-4fdf-b4d7-4e2ff9482690",
   "metadata": {},
   "outputs": [],
   "source": []
  },
  {
   "cell_type": "code",
   "execution_count": null,
   "id": "0352f127-a962-4752-83e9-664fcd86be62",
   "metadata": {},
   "outputs": [],
   "source": []
  },
  {
   "cell_type": "code",
   "execution_count": 7,
   "id": "1323645a-39b5-489c-9a0d-642fd564f2e2",
   "metadata": {},
   "outputs": [],
   "source": [
    "#!rm -f files2.db"
   ]
  },
  {
   "cell_type": "code",
   "execution_count": 1,
   "id": "6ac5497b-86f6-4aa4-a402-66e50fcb7e80",
   "metadata": {},
   "outputs": [],
   "source": [
    "%load_ext autoreload\n",
    "%autoreload 2"
   ]
  },
  {
   "cell_type": "code",
   "execution_count": 2,
   "id": "b324653e-f8f2-40ee-bcbc-aab0c6284724",
   "metadata": {},
   "outputs": [],
   "source": [
    "from filesdb import filesdb\n",
    "fdb = filesdb('home.db',ro=False)#, nocheck = True)"
   ]
  },
  {
   "cell_type": "code",
   "execution_count": 3,
   "id": "8d70b99c-7ebc-49d4-b758-7f56c8cdd690",
   "metadata": {
    "scrolled": true
   },
   "outputs": [
    {
     "name": "stdout",
     "output_type": "stream",
     "text": [
      "start walk_stat_all\n",
      "2025-01-26 22:23:47.581611 M True 104324 - /home/feelus/.config/sublime-text/Local/Auto Save Session.sublime_session\n",
      "2025-01-26 22:23:47.655867 M True 30195 - /home/feelus/.ipython/profile_default/history.sqlite\n",
      "2025-01-26 22:23:49.301440 M True 90845 - /home/feelus/pyfiles/src/Untitled.ipynb\n",
      "2025-01-26 22:23:49.314901 M True 90856 - /home/feelus/pyfiles/src/filesdb.py\n",
      "2025-01-26 22:23:49.326599 M True 90851 - /home/feelus/pyfiles/src/home.db\n",
      "2025-01-26 22:23:49.338329 M True 105386 - /home/feelus/pyfiles/src/home.db-shm\n",
      "2025-01-26 22:23:49.351022 M True 105385 - /home/feelus/pyfiles/src/home.db-wal\n",
      "2025-01-26 22:23:50.204589 D True 105411 - /home/feelus/snap/firefox/common/.cache/mozilla/firefox/2yebzj4a.default/cache2/entries/C3A9DD85BC8715793D2A3A538FF77090ADB39C75\n",
      "2025-01-26 22:23:50.208520 D True 105406 - /home/feelus/snap/firefox/common/.cache/mozilla/firefox/2yebzj4a.default/cache2/entries/C5F929C1E789C495D5EFF91FDD21C1D51155AF71\n",
      "2025-01-26 22:23:50.281434 M True 74135 - /home/feelus/snap/firefox/common/.cache/mozilla/firefox/2yebzj4a.default/cache2/entries/112D3454505F1577CF1EFDABDD32B61879AE4D7A\n",
      "2025-01-26 22:23:50.485464 M True 74846 - /home/feelus/snap/firefox/common/.cache/mozilla/firefox/2yebzj4a.default/cache2/entries/E56624C8F84395B6330CF01709E38BA6AA222F9A\n",
      "2025-01-26 22:23:50.521642 C True 105579 - /home/feelus/snap/firefox/common/.cache/mozilla/firefox/2yebzj4a.default/cache2/entries/764117610823B57107978CF3D06666CB45720677\n",
      "2025-01-26 22:23:50.536151 C True 105580 - /home/feelus/snap/firefox/common/.cache/mozilla/firefox/2yebzj4a.default/cache2/entries/06C0939434BFC223E39B69376612BDB64B07A35B\n",
      "2025-01-26 22:23:50.547619 C True 105581 - /home/feelus/snap/firefox/common/.cache/mozilla/firefox/2yebzj4a.default/cache2/entries/D28633A6FD50C68A664BDF95B1D92AA754049D28\n",
      "2025-01-26 22:23:50.559563 C True 105582 - /home/feelus/snap/firefox/common/.cache/mozilla/firefox/2yebzj4a.default/cache2/entries/49B6FCA76DA01B769B1A79837AA9F1F93B68BA65\n",
      "2025-01-26 22:23:50.591416 M True 76269 - /home/feelus/snap/firefox/common/.mozilla/firefox/2yebzj4a.default/AlternateServices.bin\n",
      "2025-01-26 22:23:50.605699 M True 76291 - /home/feelus/snap/firefox/common/.mozilla/firefox/2yebzj4a.default/cookies.sqlite\n",
      "2025-01-26 22:23:50.616607 M True 76317 - /home/feelus/snap/firefox/common/.mozilla/firefox/2yebzj4a.default/cookies.sqlite-wal\n",
      "2025-01-26 22:23:50.648835 M True 76764 - /home/feelus/snap/firefox/common/.mozilla/firefox/2yebzj4a.default/datareporting/glean/db/data.safe.bin\n",
      "2025-01-26 22:23:50.680131 M True 76277 - /home/feelus/snap/firefox/common/.mozilla/firefox/2yebzj4a.default/places.sqlite-wal\n",
      "2025-01-26 22:23:50.690342 M True 76296 - /home/feelus/snap/firefox/common/.mozilla/firefox/2yebzj4a.default/prefs.js\n",
      "2025-01-26 22:23:50.703395 M True 76829 - /home/feelus/snap/firefox/common/.mozilla/firefox/2yebzj4a.default/sessionstore-backups/recovery.baklz4\n",
      "2025-01-26 22:23:50.715101 M True 76830 - /home/feelus/snap/firefox/common/.mozilla/firefox/2yebzj4a.default/sessionstore-backups/recovery.jsonlz4\n",
      "2025-01-26 22:23:50.785223 M True 79054 - /home/feelus/snap/firefox/common/.mozilla/firefox/2yebzj4a.default/storage/default/https+++vk.com/ls/data.sqlite\n",
      "2025-01-26 22:23:50.801214 M True 79055 - /home/feelus/snap/firefox/common/.mozilla/firefox/2yebzj4a.default/storage/default/https+++vk.com/ls/usage\n",
      "2025-01-26 22:23:50.873276 M True 79361 - /home/feelus/snap/firefox/common/.mozilla/firefox/2yebzj4a.default/storage/default/moz-extension+++098cbc6a-514b-4e23-a91a-70755caa6025^userContextId=4294967295/idb/3647222921wleabcEoxlt-eengsairo.sqlite\n",
      "2025-01-26 22:23:50.887444 M True 79360 - /home/feelus/snap/firefox/common/.mozilla/firefox/2yebzj4a.default/storage/default/moz-extension+++098cbc6a-514b-4e23-a91a-70755caa6025^userContextId=4294967295/idb/3647222921wleabcEoxlt-eengsairo.sqlite-wal\n",
      "2025-01-26 22:23:51.825817 C True 105583 - /home/feelus/snap/telegram-desktop/6489/.local/share/TelegramDesktop/tdata/user_data/cache/0/44/CE95DD5C689B\n",
      "2025-01-26 22:23:51.930126 C True 105584 - /home/feelus/snap/telegram-desktop/6489/.local/share/TelegramDesktop/tdata/user_data/cache/0/5F/8411C25C565A\n",
      "2025-01-26 22:23:52.032855 C True 105585 - /home/feelus/snap/telegram-desktop/6489/.local/share/TelegramDesktop/tdata/user_data/cache/0/7F/82EBB7306928\n",
      "2025-01-26 22:23:52.101020 C True 105586 - /home/feelus/snap/telegram-desktop/6489/.local/share/TelegramDesktop/tdata/user_data/cache/0/94/6BCACB27C3AB\n",
      "2025-01-26 22:23:52.401010 M True 31532 - /home/feelus/snap/telegram-desktop/6489/.local/share/TelegramDesktop/tdata/user_data/cache/0/binlog\n",
      "walk_stat_all finished\n",
      "All started... MainThread 2025-01-26 22:23:52.970026\n",
      "2025-01-26 22:23:53.222399 D False 105580 - /home/feelus/snap/firefox/common/.cache/mozilla/firefox/2yebzj4a.default/cache2/entries/06C0939434BFC223E39B69376612BDB64B07A35B\n",
      "2025-01-26 22:23:53.223910 D False 105579 - /home/feelus/snap/firefox/common/.cache/mozilla/firefox/2yebzj4a.default/cache2/entries/764117610823B57107978CF3D06666CB45720677\n",
      "2025-01-26 22:23:55.451971 C False 105587 - /home/feelus/snap/firefox/common/.mozilla/firefox/2yebzj4a.default/storage/default/https+++vk.com/ls/data.sqlite-journal\n",
      "2025-01-26 22:23:55.453706 C False 105588 - /home/feelus/snap/firefox/common/.mozilla/firefox/2yebzj4a.default/storage/default/https+++vk.com/ls/usage-journal\n",
      "2025-01-26 22:23:55.526438 D False 105587 - /home/feelus/snap/firefox/common/.mozilla/firefox/2yebzj4a.default/storage/default/https+++vk.com/ls/data.sqlite-journal\n",
      "2025-01-26 22:23:55.527898 D False 105588 - /home/feelus/snap/firefox/common/.mozilla/firefox/2yebzj4a.default/storage/default/https+++vk.com/ls/usage-journal\n",
      "2025-01-26 22:23:56.558253 M False 79034 - /home/feelus/snap/firefox/common/.mozilla/firefox/2yebzj4a.default/storage/default/https+++vk.com/idb/2449276127r1evf-obrdg-eedg-asrt.sqlite-wal\n",
      "2025-01-26 22:23:56.559784 M False 79046 - /home/feelus/snap/firefox/common/.mozilla/firefox/2yebzj4a.default/storage/default/https+++vk.com/idb/2449276127r1evf-obrdg-eedg-asrt.sqlite\n",
      "2025-01-26 22:23:58.017755 C False 105589 - /home/feelus/snap/firefox/common/.cache/mozilla/firefox/2yebzj4a.default/cache2/entries/779E260602BCB634900EEDFBF5623AF48213BA1B\n",
      "2025-01-26 22:23:58.019511 C False 105590 - /home/feelus/snap/firefox/common/.cache/mozilla/firefox/2yebzj4a.default/cache2/entries/5589F92A7A667CD87661E935886C751CE3C7355D\n",
      "2025-01-26 22:23:59.065413 D False 105581 - /home/feelus/snap/firefox/common/.cache/mozilla/firefox/2yebzj4a.default/cache2/entries/D28633A6FD50C68A664BDF95B1D92AA754049D28\n",
      "2025-01-26 22:23:59.619957 C False 105591 - /home/feelus/pyfiles/src/.~Untitled.ipynb\n",
      "2025-01-26 22:23:59.621871 M False 90845 - /home/feelus/pyfiles/src/Untitled.ipynb\n",
      "2025-01-26 22:24:00.164682 D False 105591 - /home/feelus/pyfiles/src/.~Untitled.ipynb\n",
      "2025-01-26 22:24:00.587630 C False 105587 - /home/feelus/snap/firefox/common/.mozilla/firefox/2yebzj4a.default/storage/default/https+++vk.com/ls/data.sqlite-journal\n",
      "2025-01-26 22:24:00.589312 C False 105588 - /home/feelus/snap/firefox/common/.mozilla/firefox/2yebzj4a.default/storage/default/https+++vk.com/ls/usage-journal\n",
      "2025-01-26 22:24:00.663758 D False 105587 - /home/feelus/snap/firefox/common/.mozilla/firefox/2yebzj4a.default/storage/default/https+++vk.com/ls/data.sqlite-journal\n",
      "2025-01-26 22:24:00.664909 D False 105588 - /home/feelus/snap/firefox/common/.mozilla/firefox/2yebzj4a.default/storage/default/https+++vk.com/ls/usage-journal\n",
      "2025-01-26 22:24:03.054497 D False 105582 - /home/feelus/snap/firefox/common/.cache/mozilla/firefox/2yebzj4a.default/cache2/entries/49B6FCA76DA01B769B1A79837AA9F1F93B68BA65\n",
      "2025-01-26 22:24:04.085050 C False 105592 - /home/feelus/snap/firefox/common/.cache/mozilla/firefox/2yebzj4a.default/cache2/entries/EBF8B268470EE444C712E38B4FBAC0DE997952CB\n",
      "2025-01-26 22:24:04.087182 C False 105593 - /home/feelus/snap/firefox/common/.cache/mozilla/firefox/2yebzj4a.default/cache2/entries/41296C916B37FB8D81800B73CF900B30A79756E5\n",
      "2025-01-26 22:24:05.636429 C False 105587 - /home/feelus/snap/firefox/common/.mozilla/firefox/2yebzj4a.default/storage/default/https+++vk.com/ls/data.sqlite-journal\n",
      "2025-01-26 22:24:05.638190 C False 105588 - /home/feelus/snap/firefox/common/.mozilla/firefox/2yebzj4a.default/storage/default/https+++vk.com/ls/usage-journal\n",
      "2025-01-26 22:24:05.639945 M False 79055 - /home/feelus/snap/firefox/common/.mozilla/firefox/2yebzj4a.default/storage/default/https+++vk.com/ls/usage\n",
      "2025-01-26 22:24:06.350768 M False 79054 - /home/feelus/snap/firefox/common/.mozilla/firefox/2yebzj4a.default/storage/default/https+++vk.com/ls/data.sqlite\n",
      "2025-01-26 22:24:06.376116 D False 105587 - /home/feelus/snap/firefox/common/.mozilla/firefox/2yebzj4a.default/storage/default/https+++vk.com/ls/data.sqlite-journal\n",
      "2025-01-26 22:24:06.377229 D False 105588 - /home/feelus/snap/firefox/common/.mozilla/firefox/2yebzj4a.default/storage/default/https+++vk.com/ls/usage-journal\n",
      "2025-01-26 22:24:10.924862 C False 105587 - /home/feelus/snap/firefox/common/.mozilla/firefox/2yebzj4a.default/storage/default/https+++vk.com/ls/data.sqlite-journal\n",
      "2025-01-26 22:24:10.926268 C False 105588 - /home/feelus/snap/firefox/common/.mozilla/firefox/2yebzj4a.default/storage/default/https+++vk.com/ls/usage-journal\n",
      "2025-01-26 22:24:11.997698 D False 105587 - /home/feelus/snap/firefox/common/.mozilla/firefox/2yebzj4a.default/storage/default/https+++vk.com/ls/data.sqlite-journal\n",
      "2025-01-26 22:24:11.999274 D False 105588 - /home/feelus/snap/firefox/common/.mozilla/firefox/2yebzj4a.default/storage/default/https+++vk.com/ls/usage-journal\n",
      "2025-01-26 22:24:15.606673 C False 105594 - /home/feelus/.local/share/gnome-shell/.goutputstream-N0SC12\n",
      "2025-01-26 22:24:15.607266 M False 2219 - /home/feelus/.local/share/gnome-shell/application_state\n",
      "2025-01-26 22:24:16.470188 V False 105594 - /home/feelus/.local/share/gnome-shell/.goutputstream-N0SC12\n",
      "2025-01-26 22:24:16.557807 M False 79034 - /home/feelus/snap/firefox/common/.mozilla/firefox/2yebzj4a.default/storage/default/https+++vk.com/idb/2449276127r1evf-obrdg-eedg-asrt.sqlite-wal\n",
      "2025-01-26 22:24:16.558390 M False 79046 - /home/feelus/snap/firefox/common/.mozilla/firefox/2yebzj4a.default/storage/default/https+++vk.com/idb/2449276127r1evf-obrdg-eedg-asrt.sqlite\n",
      "2025-01-26 22:24:16.585812 M False 76357 - /home/feelus/snap/firefox/common/.mozilla/firefox/2yebzj4a.default/datareporting/aborted-session-ping\n",
      "2025-01-26 22:24:16.589924 C False 105595 - /home/feelus/snap/firefox/common/.mozilla/firefox/2yebzj4a.default/datareporting/glean/db/data.safe.tmp\n",
      "2025-01-26 22:24:16.591389 V False 105595 - /home/feelus/snap/firefox/common/.mozilla/firefox/2yebzj4a.default/datareporting/glean/db/data.safe.tmp\n",
      "2025-01-26 22:24:16.593252 C False 105596 - /home/feelus/snap/firefox/common/.cache/mozilla/firefox/2yebzj4a.default/activity-stream.discovery_stream.json.tmp\n",
      "2025-01-26 22:24:16.595223 V False 105596 - /home/feelus/snap/firefox/common/.cache/mozilla/firefox/2yebzj4a.default/activity-stream.discovery_stream.json.tmp\n",
      "2025-01-26 22:24:16.596110 M False 67589 - /home/feelus/snap/firefox/common/.cache/mozilla/firefox/2yebzj4a.default/activity-stream.discovery_stream.json\n",
      "2025-01-26 22:24:16.643630 C False 105597 - /home/feelus/snap/firefox/common/.mozilla/firefox/2yebzj4a.default/datareporting/glean/db/data.safe.tmp\n",
      "2025-01-26 22:24:16.644728 V False 105597 - /home/feelus/snap/firefox/common/.mozilla/firefox/2yebzj4a.default/datareporting/glean/db/data.safe.tmp\n",
      "2025-01-26 22:24:16.646009 D False 105595 - /home/feelus/snap/firefox/common/.mozilla/firefox/2yebzj4a.default/datareporting/glean/db/1\n",
      "2025-01-26 22:24:16.647346 M False 76764 - /home/feelus/snap/firefox/common/.mozilla/firefox/2yebzj4a.default/datareporting/glean/db/data.safe.bin\n",
      "2025-01-26 22:24:18.717672 M False 76852 - /home/feelus/snap/firefox/common/.mozilla/firefox/2yebzj4a.default/storage/permanent/chrome/idb/1657114595AmcateirvtiSty.sqlite-wal\n",
      "2025-01-26 22:24:20.948574 C False 105587 - /home/feelus/snap/firefox/common/.mozilla/firefox/2yebzj4a.default/storage/default/https+++vk.com/ls/data.sqlite-journal\n",
      "2025-01-26 22:24:20.951298 C False 105588 - /home/feelus/snap/firefox/common/.mozilla/firefox/2yebzj4a.default/storage/default/https+++vk.com/ls/usage-journal\n",
      "2025-01-26 22:24:20.953160 M False 79055 - /home/feelus/snap/firefox/common/.mozilla/firefox/2yebzj4a.default/storage/default/https+++vk.com/ls/usage\n",
      "2025-01-26 22:24:21.761717 M False 79054 - /home/feelus/snap/firefox/common/.mozilla/firefox/2yebzj4a.default/storage/default/https+++vk.com/ls/data.sqlite\n",
      "2025-01-26 22:24:21.786279 D False 105587 - /home/feelus/snap/firefox/common/.mozilla/firefox/2yebzj4a.default/storage/default/https+++vk.com/ls/data.sqlite-journal\n",
      "2025-01-26 22:24:21.787408 D False 105588 - /home/feelus/snap/firefox/common/.mozilla/firefox/2yebzj4a.default/storage/default/https+++vk.com/ls/usage-journal\n",
      "2025-01-26 22:24:22.671980 C False 105598 - /home/feelus/snap/firefox/common/.mozilla/firefox/2yebzj4a.default/datareporting/glean/db/data.safe.tmp\n",
      "2025-01-26 22:24:22.673703 V False 105598 - /home/feelus/snap/firefox/common/.mozilla/firefox/2yebzj4a.default/datareporting/glean/db/data.safe.tmp\n",
      "2025-01-26 22:24:22.674056 D False 105597 - /home/feelus/snap/firefox/common/.mozilla/firefox/2yebzj4a.default/datareporting/glean/db/1\n",
      "2025-01-26 22:24:23.021073 D False 105590 - /home/feelus/snap/firefox/common/.cache/mozilla/firefox/2yebzj4a.default/cache2/entries/5589F92A7A667CD87661E935886C751CE3C7355D\n",
      "2025-01-26 22:24:23.023763 D False 105589 - /home/feelus/snap/firefox/common/.cache/mozilla/firefox/2yebzj4a.default/cache2/entries/779E260602BCB634900EEDFBF5623AF48213BA1B\n",
      "2025-01-26 22:24:24.101954 D False 105592 - /home/feelus/snap/firefox/common/.cache/mozilla/firefox/2yebzj4a.default/cache2/entries/EBF8B268470EE444C712E38B4FBAC0DE997952CB\n",
      "2025-01-26 22:24:28.270056 C False 105599 - /home/feelus/snap/firefox/common/.cache/mozilla/firefox/2yebzj4a.default/cache2/entries/E2C3B35C47E432F3544F6ECE4821F274B7FDBA5C\n",
      "2025-01-26 22:24:28.282413 C False 105600 - /home/feelus/snap/firefox/common/.cache/mozilla/firefox/2yebzj4a.default/cache2/entries/408BDBDE0B30F4726CE56A2A68916804FB43299E\n",
      "2025-01-26 22:24:28.283901 C False 105601 - /home/feelus/snap/firefox/common/.cache/mozilla/firefox/2yebzj4a.default/cache2/entries/5E073F82B7D70378764B8786F4F32F74031CD4F2\n",
      "2025-01-26 22:24:28.286918 D False 105593 - /home/feelus/snap/firefox/common/.cache/mozilla/firefox/2yebzj4a.default/cache2/entries/41296C916B37FB8D81800B73CF900B30A79756E5\n",
      "2025-01-26 22:24:28.719011 M False 76852 - /home/feelus/snap/firefox/common/.mozilla/firefox/2yebzj4a.default/storage/permanent/chrome/idb/1657114595AmcateirvtiSty.sqlite-wal\n",
      "2025-01-26 22:24:28.720458 M False 76853 - /home/feelus/snap/firefox/common/.mozilla/firefox/2yebzj4a.default/storage/permanent/chrome/idb/1657114595AmcateirvtiSty.sqlite\n",
      "2025-01-26 22:24:28.721310 M False 76854 - /home/feelus/snap/firefox/common/.mozilla/firefox/2yebzj4a.default/storage/permanent/chrome/idb/3870112724rsegmnoittet-es.sqlite-wal\n",
      "2025-01-26 22:24:28.722085 M False 76858 - /home/feelus/snap/firefox/common/.mozilla/firefox/2yebzj4a.default/storage/permanent/chrome/idb/3870112724rsegmnoittet-es.sqlite\n",
      "2025-01-26 22:24:28.966107 M False 76317 - /home/feelus/snap/firefox/common/.mozilla/firefox/2yebzj4a.default/cookies.sqlite-wal\n",
      "2025-01-26 22:24:29.108888 C False 105587 - /home/feelus/snap/firefox/common/.mozilla/firefox/2yebzj4a.default/storage/default/https+++vk.com/ls/data.sqlite-journal\n",
      "2025-01-26 22:24:29.110351 C False 105588 - /home/feelus/snap/firefox/common/.mozilla/firefox/2yebzj4a.default/storage/default/https+++vk.com/ls/usage-journal\n",
      "2025-01-26 22:24:29.180317 D False 105587 - /home/feelus/snap/firefox/common/.mozilla/firefox/2yebzj4a.default/storage/default/https+++vk.com/ls/data.sqlite-journal\n",
      "2025-01-26 22:24:29.181787 D False 105588 - /home/feelus/snap/firefox/common/.mozilla/firefox/2yebzj4a.default/storage/default/https+++vk.com/ls/usage-journal\n",
      "2025-01-26 22:24:32.225659 D False 105601 - /home/feelus/snap/firefox/common/.cache/mozilla/firefox/2yebzj4a.default/cache2/entries/5E073F82B7D70378764B8786F4F32F74031CD4F2\n",
      "2025-01-26 22:24:33.207317 C False 105602 - /home/feelus/snap/firefox/common/.cache/mozilla/firefox/2yebzj4a.default/cache2/entries/4556FBC471BC32269999F7D3389DFFE8CB613393\n",
      "2025-01-26 22:24:33.209647 C False 105603 - /home/feelus/snap/firefox/common/.cache/mozilla/firefox/2yebzj4a.default/cache2/entries/2CAE470D45A643834BDAE1AD05C0FCE34E110E45\n",
      "2025-01-26 22:24:36.560402 M False 79034 - /home/feelus/snap/firefox/common/.mozilla/firefox/2yebzj4a.default/storage/default/https+++vk.com/idb/2449276127r1evf-obrdg-eedg-asrt.sqlite-wal\n",
      "2025-01-26 22:24:36.561967 M False 79046 - /home/feelus/snap/firefox/common/.mozilla/firefox/2yebzj4a.default/storage/default/https+++vk.com/idb/2449276127r1evf-obrdg-eedg-asrt.sqlite\n",
      "2025-01-26 22:24:36.563193 C False 105587 - /home/feelus/snap/firefox/common/.mozilla/firefox/2yebzj4a.default/storage/default/https+++vk.com/ls/data.sqlite-journal\n",
      "2025-01-26 22:24:36.564899 C False 105588 - /home/feelus/snap/firefox/common/.mozilla/firefox/2yebzj4a.default/storage/default/https+++vk.com/ls/usage-journal\n",
      "2025-01-26 22:24:36.566328 M False 79055 - /home/feelus/snap/firefox/common/.mozilla/firefox/2yebzj4a.default/storage/default/https+++vk.com/ls/usage\n",
      "2025-01-26 22:24:36.608911 M False 79054 - /home/feelus/snap/firefox/common/.mozilla/firefox/2yebzj4a.default/storage/default/https+++vk.com/ls/data.sqlite\n",
      "2025-01-26 22:24:36.633351 D False 105587 - /home/feelus/snap/firefox/common/.mozilla/firefox/2yebzj4a.default/storage/default/https+++vk.com/ls/data.sqlite-journal\n",
      "2025-01-26 22:24:36.634172 D False 105588 - /home/feelus/snap/firefox/common/.mozilla/firefox/2yebzj4a.default/storage/default/https+++vk.com/ls/usage-journal\n",
      "2025-01-26 22:24:41.526883 M False 76317 - /home/feelus/snap/firefox/common/.mozilla/firefox/2yebzj4a.default/cookies.sqlite-wal\n",
      "2025-01-26 22:24:46.341507 C False 105587 - /home/feelus/snap/firefox/common/.mozilla/firefox/2yebzj4a.default/storage/default/https+++vk.com/ls/data.sqlite-journal\n",
      "2025-01-26 22:24:46.343717 C False 105588 - /home/feelus/snap/firefox/common/.mozilla/firefox/2yebzj4a.default/storage/default/https+++vk.com/ls/usage-journal\n",
      "2025-01-26 22:24:46.427587 D False 105587 - /home/feelus/snap/firefox/common/.mozilla/firefox/2yebzj4a.default/storage/default/https+++vk.com/ls/data.sqlite-journal\n",
      "2025-01-26 22:24:46.429134 D False 105588 - /home/feelus/snap/firefox/common/.mozilla/firefox/2yebzj4a.default/storage/default/https+++vk.com/ls/usage-journal\n",
      "2025-01-26 22:24:47.333677 M False 76291 - /home/feelus/snap/firefox/common/.mozilla/firefox/2yebzj4a.default/cookies.sqlite\n",
      "2025-01-26 22:24:48.043747 M False 76269 - /home/feelus/snap/firefox/common/.mozilla/firefox/2yebzj4a.default/AlternateServices.bin\n",
      "2025-01-26 22:24:48.620408 M False 74444 - /home/feelus/snap/firefox/common/.cache/mozilla/firefox/2yebzj4a.default/cache2/entries/55AAF2FE5C109566AB1EAE7A57991F9BD9B09F55\n",
      "2025-01-26 22:24:48.624460 M False 76779 - /home/feelus/snap/firefox/common/.mozilla/firefox/2yebzj4a.default/settings/data.safe.bin\n",
      "2025-01-26 22:24:49.139255 C False 105604 - /home/feelus/snap/firefox/common/.mozilla/firefox/2yebzj4a.default/prefs-1.js\n",
      "2025-01-26 22:24:49.251556 V False 105604 - /home/feelus/snap/firefox/common/.mozilla/firefox/2yebzj4a.default/prefs-1.js\n",
      "2025-01-26 22:24:51.348765 C False 105587 - /home/feelus/snap/firefox/common/.mozilla/firefox/2yebzj4a.default/storage/default/https+++vk.com/ls/data.sqlite-journal\n",
      "2025-01-26 22:24:51.350902 C False 105588 - /home/feelus/snap/firefox/common/.mozilla/firefox/2yebzj4a.default/storage/default/https+++vk.com/ls/usage-journal\n",
      "2025-01-26 22:24:51.352254 M False 79055 - /home/feelus/snap/firefox/common/.mozilla/firefox/2yebzj4a.default/storage/default/https+++vk.com/ls/usage\n",
      "2025-01-26 22:24:51.914345 M False 79054 - /home/feelus/snap/firefox/common/.mozilla/firefox/2yebzj4a.default/storage/default/https+++vk.com/ls/data.sqlite\n",
      "2025-01-26 22:24:51.938807 D False 105587 - /home/feelus/snap/firefox/common/.mozilla/firefox/2yebzj4a.default/storage/default/https+++vk.com/ls/data.sqlite-journal\n",
      "2025-01-26 22:24:51.939591 D False 105588 - /home/feelus/snap/firefox/common/.mozilla/firefox/2yebzj4a.default/storage/default/https+++vk.com/ls/usage-journal\n",
      "COMMIT 2025-01-26 22:24:52.983302\n",
      "2025-01-26 22:24:52.983984 M False 105385 - /home/feelus/pyfiles/src/home.db-wal\n",
      "2025-01-26 22:24:53.060750 D False 105600 - /home/feelus/snap/firefox/common/.cache/mozilla/firefox/2yebzj4a.default/cache2/entries/408BDBDE0B30F4726CE56A2A68916804FB43299E\n",
      "2025-01-26 22:24:53.065252 D False 105599 - /home/feelus/snap/firefox/common/.cache/mozilla/firefox/2yebzj4a.default/cache2/entries/E2C3B35C47E432F3544F6ECE4821F274B7FDBA5C\n",
      "2025-01-26 22:24:53.112408 D False 105602 - /home/feelus/snap/firefox/common/.cache/mozilla/firefox/2yebzj4a.default/cache2/entries/4556FBC471BC32269999F7D3389DFFE8CB613393\n",
      "2025-01-26 22:24:56.455878 C False 105587 - /home/feelus/snap/firefox/common/.mozilla/firefox/2yebzj4a.default/storage/default/https+++vk.com/ls/data.sqlite-journal\n",
      "2025-01-26 22:24:56.457372 C False 105588 - /home/feelus/snap/firefox/common/.mozilla/firefox/2yebzj4a.default/storage/default/https+++vk.com/ls/usage-journal\n",
      "2025-01-26 22:24:56.584674 M False 79034 - /home/feelus/snap/firefox/common/.mozilla/firefox/2yebzj4a.default/storage/default/https+++vk.com/idb/2449276127r1evf-obrdg-eedg-asrt.sqlite-wal\n",
      "2025-01-26 22:24:56.585802 M False 79046 - /home/feelus/snap/firefox/common/.mozilla/firefox/2yebzj4a.default/storage/default/https+++vk.com/idb/2449276127r1evf-obrdg-eedg-asrt.sqlite\n",
      "2025-01-26 22:24:57.072212 D False 105587 - /home/feelus/snap/firefox/common/.mozilla/firefox/2yebzj4a.default/storage/default/https+++vk.com/ls/data.sqlite-journal\n",
      "2025-01-26 22:24:57.073234 D False 105588 - /home/feelus/snap/firefox/common/.mozilla/firefox/2yebzj4a.default/storage/default/https+++vk.com/ls/usage-journal\n",
      "2025-01-26 22:24:57.268302 D False 105603 - /home/feelus/snap/firefox/common/.cache/mozilla/firefox/2yebzj4a.default/cache2/entries/2CAE470D45A643834BDAE1AD05C0FCE34E110E45\n",
      "2025-01-26 22:24:58.098169 C False 105605 - /home/feelus/snap/firefox/common/.cache/mozilla/firefox/2yebzj4a.default/cache2/entries/322DF2C560A3569939E851E9692DABAC8203F76F\n",
      "2025-01-26 22:24:58.100088 C False 105606 - /home/feelus/snap/firefox/common/.cache/mozilla/firefox/2yebzj4a.default/cache2/entries/17EE52CAF3A29C0A34E0D6265551FC0545B94FF7\n",
      "2025-01-26 22:24:58.101657 C False 105607 - /home/feelus/snap/firefox/common/.cache/mozilla/firefox/2yebzj4a.default/cache2/entries/DA299DC7607951571E3BE2B56349000636D1D489\n",
      "2025-01-26 22:24:58.133891 C False 105608 - /home/feelus/snap/firefox/common/.cache/mozilla/firefox/2yebzj4a.default/cache2/entries/91E14034D2A689EB294345B0330C4207441B852E\n",
      "2025-01-26 22:24:58.555678 C False 105609 - /home/feelus/snap/firefox/common/.mozilla/firefox/2yebzj4a.default/datareporting/glean/db/data.safe.tmp\n",
      "2025-01-26 22:24:58.557747 V False 105609 - /home/feelus/snap/firefox/common/.mozilla/firefox/2yebzj4a.default/datareporting/glean/db/data.safe.tmp\n",
      "2025-01-26 22:24:58.558229 D False 105598 - /home/feelus/snap/firefox/common/.mozilla/firefox/2yebzj4a.default/datareporting/glean/db/1\n",
      "2025-01-26 22:25:00.249200 M False 76854 - /home/feelus/snap/firefox/common/.mozilla/firefox/2yebzj4a.default/storage/permanent/chrome/idb/3870112724rsegmnoittet-es.sqlite-wal\n",
      "2025-01-26 22:25:00.250824 M False 76859 - /home/feelus/snap/firefox/common/.mozilla/firefox/2yebzj4a.default/storage/permanent/chrome/idb/2918063365piupsah.sqlite-wal\n",
      "2025-01-26 22:25:00.252030 M False 76856 - /home/feelus/snap/firefox/common/.mozilla/firefox/2yebzj4a.default/storage/permanent/chrome/idb/2918063365piupsah.sqlite\n",
      "2025-01-26 22:25:00.253114 M False 76858 - /home/feelus/snap/firefox/common/.mozilla/firefox/2yebzj4a.default/storage/permanent/chrome/idb/3870112724rsegmnoittet-es.sqlite\n",
      "2025-01-26 22:25:01.522364 C False 105587 - /home/feelus/snap/firefox/common/.mozilla/firefox/2yebzj4a.default/storage/default/https+++vk.com/ls/data.sqlite-journal\n",
      "2025-01-26 22:25:01.524468 C False 105588 - /home/feelus/snap/firefox/common/.mozilla/firefox/2yebzj4a.default/storage/default/https+++vk.com/ls/usage-journal\n",
      "2025-01-26 22:25:01.525893 M False 79055 - /home/feelus/snap/firefox/common/.mozilla/firefox/2yebzj4a.default/storage/default/https+++vk.com/ls/usage\n",
      "2025-01-26 22:25:01.596940 D False 105587 - /home/feelus/snap/firefox/common/.mozilla/firefox/2yebzj4a.default/storage/default/https+++vk.com/ls/data.sqlite-journal\n",
      "2025-01-26 22:25:01.597369 D False 105588 - /home/feelus/snap/firefox/common/.mozilla/firefox/2yebzj4a.default/storage/default/https+++vk.com/ls/usage-journal\n",
      "2025-01-26 22:25:06.603960 C False 105587 - /home/feelus/snap/firefox/common/.mozilla/firefox/2yebzj4a.default/storage/default/https+++vk.com/ls/data.sqlite-journal\n",
      "2025-01-26 22:25:06.605980 C False 105588 - /home/feelus/snap/firefox/common/.mozilla/firefox/2yebzj4a.default/storage/default/https+++vk.com/ls/usage-journal\n",
      "2025-01-26 22:25:06.850832 M False 79054 - /home/feelus/snap/firefox/common/.mozilla/firefox/2yebzj4a.default/storage/default/https+++vk.com/ls/data.sqlite\n",
      "2025-01-26 22:25:06.875584 D False 105587 - /home/feelus/snap/firefox/common/.mozilla/firefox/2yebzj4a.default/storage/default/https+++vk.com/ls/data.sqlite-journal\n",
      "2025-01-26 22:25:06.876929 D False 105588 - /home/feelus/snap/firefox/common/.mozilla/firefox/2yebzj4a.default/storage/default/https+++vk.com/ls/usage-journal\n",
      "2025-01-26 22:25:07.168010 D False 105608 - /home/feelus/snap/firefox/common/.cache/mozilla/firefox/2yebzj4a.default/cache2/entries/91E14034D2A689EB294345B0330C4207441B852E\n",
      "2025-01-26 22:25:08.268233 M False 79184 - /home/feelus/snap/firefox/common/.mozilla/firefox/2yebzj4a.default/storage/default/moz-extension+++9f7e445c-1f55-4aca-aa38-386dee801400^userContextId=4294967295/idb/3647222921wleabcEoxlt-eengsairo.sqlite-wal\n",
      "2025-01-26 22:25:08.271146 M False 76768 - /home/feelus/snap/firefox/common/.mozilla/firefox/2yebzj4a.default/datareporting/glean/events/events\n",
      "2025-01-26 22:25:08.273001 M False 439 - /home/feelus/Загрузки/STG-backups-FF-134.0.2/auto-stg-backup-day-of-month-26@drive4ik.json\n",
      "2025-01-26 22:25:08.284461 C False 105610 - /home/feelus/Загрузки/STG-backups-FF-134.0.2/auto-stg-backup-day-of-month-26@drive4ik.json.part\n",
      "2025-01-26 22:25:08.303854 V False 105610 - /home/feelus/Загрузки/STG-backups-FF-134.0.2/auto-stg-backup-day-of-month-26@drive4ik.json.part\n",
      "2025-01-26 22:25:08.557817 C False 105611 - /home/feelus/snap/firefox/5647/.local/share/recently-used.xbel.TGQB12\n",
      "2025-01-26 22:25:08.588035 V False 105611 - /home/feelus/snap/firefox/5647/.local/share/recently-used.xbel.TGQB12\n",
      "2025-01-26 22:25:08.612351 M False 67515 - /home/feelus/snap/firefox/5647/.local/share/recently-used.xbel\n",
      "2025-01-26 22:25:08.622025 C False 105612 - /home/feelus/snap/firefox/common/.mozilla/firefox/2yebzj4a.default/datareporting/glean/db/data.safe.tmp\n",
      "2025-01-26 22:25:08.624296 V False 105612 - /home/feelus/snap/firefox/common/.mozilla/firefox/2yebzj4a.default/datareporting/glean/db/data.safe.tmp\n",
      "2025-01-26 22:25:08.624648 D False 105609 - /home/feelus/snap/firefox/common/.mozilla/firefox/2yebzj4a.default/datareporting/glean/db/1\n",
      "2025-01-26 22:25:09.912015 M False 79360 - /home/feelus/snap/firefox/common/.mozilla/firefox/2yebzj4a.default/storage/default/moz-extension+++098cbc6a-514b-4e23-a91a-70755caa6025^userContextId=4294967295/idb/3647222921wleabcEoxlt-eengsairo.sqlite-wal\n",
      "2025-01-26 22:25:10.339565 M False 79185 - /home/feelus/snap/firefox/common/.mozilla/firefox/2yebzj4a.default/storage/default/moz-extension+++9f7e445c-1f55-4aca-aa38-386dee801400^userContextId=4294967295/idb/3647222921wleabcEoxlt-eengsairo.sqlite\n",
      "2025-01-26 22:25:11.686959 C False 105587 - /home/feelus/snap/firefox/common/.mozilla/firefox/2yebzj4a.default/storage/default/https+++vk.com/ls/data.sqlite-journal\n",
      "2025-01-26 22:25:11.688792 C False 105588 - /home/feelus/snap/firefox/common/.mozilla/firefox/2yebzj4a.default/storage/default/https+++vk.com/ls/usage-journal\n",
      "2025-01-26 22:25:11.689581 M False 79055 - /home/feelus/snap/firefox/common/.mozilla/firefox/2yebzj4a.default/storage/default/https+++vk.com/ls/usage\n",
      "2025-01-26 22:25:11.788112 C False 105613 - /home/feelus/snap/telegram-desktop/6489/.local/share/TelegramDesktop/tdata/user_data/cache/0/0D/3D6BE05E9169\n",
      "2025-01-26 22:25:11.791060 M False 31532 - /home/feelus/snap/telegram-desktop/6489/.local/share/TelegramDesktop/tdata/user_data/cache/0/binlog\n",
      "2025-01-26 22:25:11.792593 D False 105587 - /home/feelus/snap/firefox/common/.mozilla/firefox/2yebzj4a.default/storage/default/https+++vk.com/ls/data.sqlite-journal\n",
      "2025-01-26 22:25:11.793984 D False 105588 - /home/feelus/snap/firefox/common/.mozilla/firefox/2yebzj4a.default/storage/default/https+++vk.com/ls/usage-journal\n",
      "2025-01-26 22:25:11.993680 M False 79361 - /home/feelus/snap/firefox/common/.mozilla/firefox/2yebzj4a.default/storage/default/moz-extension+++098cbc6a-514b-4e23-a91a-70755caa6025^userContextId=4294967295/idb/3647222921wleabcEoxlt-eengsairo.sqlite\n",
      "2025-01-26 22:25:12.188115 C False 105614 - /home/feelus/snap/firefox/common/.cache/mozilla/firefox/2yebzj4a.default/cache2/entries/2759C5292755AA01D62F4E2EFDADCBC80C15EB28\n",
      "2025-01-26 22:25:16.611511 M False 79034 - /home/feelus/snap/firefox/common/.mozilla/firefox/2yebzj4a.default/storage/default/https+++vk.com/idb/2449276127r1evf-obrdg-eedg-asrt.sqlite-wal\n",
      "2025-01-26 22:25:16.613552 M False 79046 - /home/feelus/snap/firefox/common/.mozilla/firefox/2yebzj4a.default/storage/default/https+++vk.com/idb/2449276127r1evf-obrdg-eedg-asrt.sqlite\n",
      "2025-01-26 22:25:16.793525 C False 105587 - /home/feelus/snap/firefox/common/.mozilla/firefox/2yebzj4a.default/storage/default/https+++vk.com/ls/data.sqlite-journal\n",
      "2025-01-26 22:25:16.794778 C False 105588 - /home/feelus/snap/firefox/common/.mozilla/firefox/2yebzj4a.default/storage/default/https+++vk.com/ls/usage-journal\n",
      "2025-01-26 22:25:17.589220 M False 79054 - /home/feelus/snap/firefox/common/.mozilla/firefox/2yebzj4a.default/storage/default/https+++vk.com/ls/data.sqlite\n",
      "2025-01-26 22:25:17.613065 D False 105587 - /home/feelus/snap/firefox/common/.mozilla/firefox/2yebzj4a.default/storage/default/https+++vk.com/ls/data.sqlite-journal\n",
      "2025-01-26 22:25:17.613629 D False 105588 - /home/feelus/snap/firefox/common/.mozilla/firefox/2yebzj4a.default/storage/default/https+++vk.com/ls/usage-journal\n",
      "2025-01-26 22:25:18.145050 D False 105607 - /home/feelus/snap/firefox/common/.cache/mozilla/firefox/2yebzj4a.default/cache2/entries/DA299DC7607951571E3BE2B56349000636D1D489\n",
      "2025-01-26 22:25:20.363475 M False 79184 - /home/feelus/snap/firefox/common/.mozilla/firefox/2yebzj4a.default/storage/default/moz-extension+++9f7e445c-1f55-4aca-aa38-386dee801400^userContextId=4294967295/idb/3647222921wleabcEoxlt-eengsairo.sqlite-wal\n",
      "2025-01-26 22:25:20.364307 M False 79185 - /home/feelus/snap/firefox/common/.mozilla/firefox/2yebzj4a.default/storage/default/moz-extension+++9f7e445c-1f55-4aca-aa38-386dee801400^userContextId=4294967295/idb/3647222921wleabcEoxlt-eengsairo.sqlite\n",
      "2025-01-26 22:25:21.900138 C False 105587 - /home/feelus/snap/firefox/common/.mozilla/firefox/2yebzj4a.default/storage/default/https+++vk.com/ls/data.sqlite-journal\n",
      "2025-01-26 22:25:21.901224 C False 105588 - /home/feelus/snap/firefox/common/.mozilla/firefox/2yebzj4a.default/storage/default/https+++vk.com/ls/usage-journal\n",
      "2025-01-26 22:25:21.901890 M False 79055 - /home/feelus/snap/firefox/common/.mozilla/firefox/2yebzj4a.default/storage/default/https+++vk.com/ls/usage\n",
      "2025-01-26 22:25:22.099066 M False 79360 - /home/feelus/snap/firefox/common/.mozilla/firefox/2yebzj4a.default/storage/default/moz-extension+++098cbc6a-514b-4e23-a91a-70755caa6025^userContextId=4294967295/idb/3647222921wleabcEoxlt-eengsairo.sqlite-wal\n",
      "2025-01-26 22:25:22.100342 M False 79361 - /home/feelus/snap/firefox/common/.mozilla/firefox/2yebzj4a.default/storage/default/moz-extension+++098cbc6a-514b-4e23-a91a-70755caa6025^userContextId=4294967295/idb/3647222921wleabcEoxlt-eengsairo.sqlite\n",
      "2025-01-26 22:25:22.555183 D False 105587 - /home/feelus/snap/firefox/common/.mozilla/firefox/2yebzj4a.default/storage/default/https+++vk.com/ls/data.sqlite-journal\n",
      "2025-01-26 22:25:22.556294 D False 105588 - /home/feelus/snap/firefox/common/.mozilla/firefox/2yebzj4a.default/storage/default/https+++vk.com/ls/usage-journal\n",
      "2025-01-26 22:25:23.103356 D False 105605 - /home/feelus/snap/firefox/common/.cache/mozilla/firefox/2yebzj4a.default/cache2/entries/322DF2C560A3569939E851E9692DABAC8203F76F\n",
      "2025-01-26 22:25:23.106128 D False 105606 - /home/feelus/snap/firefox/common/.cache/mozilla/firefox/2yebzj4a.default/cache2/entries/17EE52CAF3A29C0A34E0D6265551FC0545B94FF7\n",
      "2025-01-26 22:25:23.152758 C False 105615 - /home/feelus/snap/firefox/common/.cache/mozilla/firefox/2yebzj4a.default/cache2/entries/194291BFC070B4B57D59FA14BB8F14E705D20057\n",
      "2025-01-26 22:25:23.153889 C False 105616 - /home/feelus/snap/firefox/common/.cache/mozilla/firefox/2yebzj4a.default/cache2/entries/1064E2D4331C229A459CED24BA75B46AD7651F13\n",
      "2025-01-26 22:25:23.154927 C False 105617 - /home/feelus/snap/firefox/common/.cache/mozilla/firefox/2yebzj4a.default/cache2/entries/00E10F1C84261DCD8CAFCB65F84BAED1F31A6182\n",
      "2025-01-26 22:25:26.968516 C False 105587 - /home/feelus/snap/firefox/common/.mozilla/firefox/2yebzj4a.default/storage/default/https+++vk.com/ls/data.sqlite-journal\n",
      "2025-01-26 22:25:26.971123 C False 105588 - /home/feelus/snap/firefox/common/.mozilla/firefox/2yebzj4a.default/storage/default/https+++vk.com/ls/usage-journal\n",
      "2025-01-26 22:25:27.376991 D False 105587 - /home/feelus/snap/firefox/common/.mozilla/firefox/2yebzj4a.default/storage/default/https+++vk.com/ls/data.sqlite-journal\n",
      "2025-01-26 22:25:27.378050 D False 105588 - /home/feelus/snap/firefox/common/.mozilla/firefox/2yebzj4a.default/storage/default/https+++vk.com/ls/usage-journal\n",
      "2025-01-26 22:25:29.019901 M False 76317 - /home/feelus/snap/firefox/common/.mozilla/firefox/2yebzj4a.default/cookies.sqlite-wal\n",
      "2025-01-26 22:25:32.073889 C False 105587 - /home/feelus/snap/firefox/common/.mozilla/firefox/2yebzj4a.default/storage/default/https+++vk.com/ls/data.sqlite-journal\n",
      "2025-01-26 22:25:32.076169 C False 105588 - /home/feelus/snap/firefox/common/.mozilla/firefox/2yebzj4a.default/storage/default/https+++vk.com/ls/usage-journal\n",
      "2025-01-26 22:25:32.077961 M False 79055 - /home/feelus/snap/firefox/common/.mozilla/firefox/2yebzj4a.default/storage/default/https+++vk.com/ls/usage\n",
      "2025-01-26 22:25:32.139234 M False 79054 - /home/feelus/snap/firefox/common/.mozilla/firefox/2yebzj4a.default/storage/default/https+++vk.com/ls/data.sqlite\n",
      "2025-01-26 22:25:32.165022 D False 105587 - /home/feelus/snap/firefox/common/.mozilla/firefox/2yebzj4a.default/storage/default/https+++vk.com/ls/data.sqlite-journal\n",
      "2025-01-26 22:25:32.166122 D False 105588 - /home/feelus/snap/firefox/common/.mozilla/firefox/2yebzj4a.default/storage/default/https+++vk.com/ls/usage-journal\n",
      "2025-01-26 22:25:32.204617 D False 105614 - /home/feelus/snap/firefox/common/.cache/mozilla/firefox/2yebzj4a.default/cache2/entries/2759C5292755AA01D62F4E2EFDADCBC80C15EB28\n",
      "2025-01-26 22:25:34.052936 C False 105618 - /home/feelus/snap/firefox/common/.cache/mozilla/firefox/2yebzj4a.default/cache2/entries/AB3FB0312AA71381058F882488F882383566F719\n",
      "2025-01-26 22:25:37.054217 M False 79034 - /home/feelus/snap/firefox/common/.mozilla/firefox/2yebzj4a.default/storage/default/https+++vk.com/idb/2449276127r1evf-obrdg-eedg-asrt.sqlite-wal\n",
      "2025-01-26 22:25:37.055878 M False 79046 - /home/feelus/snap/firefox/common/.mozilla/firefox/2yebzj4a.default/storage/default/https+++vk.com/idb/2449276127r1evf-obrdg-eedg-asrt.sqlite\n",
      "2025-01-26 22:25:37.153795 C False 105587 - /home/feelus/snap/firefox/common/.mozilla/firefox/2yebzj4a.default/storage/default/https+++vk.com/ls/data.sqlite-journal\n",
      "2025-01-26 22:25:37.154634 C False 105588 - /home/feelus/snap/firefox/common/.mozilla/firefox/2yebzj4a.default/storage/default/https+++vk.com/ls/usage-journal\n",
      "2025-01-26 22:25:37.390211 M False 76764 - /home/feelus/snap/firefox/common/.mozilla/firefox/2yebzj4a.default/datareporting/glean/db/data.safe.bin\n",
      "2025-01-26 22:25:38.028654 M False 76277 - /home/feelus/snap/firefox/common/.mozilla/firefox/2yebzj4a.default/places.sqlite-wal\n",
      "2025-01-26 22:25:38.347836 D False 105587 - /home/feelus/snap/firefox/common/.mozilla/firefox/2yebzj4a.default/storage/default/https+++vk.com/ls/data.sqlite-journal\n",
      "2025-01-26 22:25:38.348928 D False 105588 - /home/feelus/snap/firefox/common/.mozilla/firefox/2yebzj4a.default/storage/default/https+++vk.com/ls/usage-journal\n",
      "2025-01-26 22:25:41.528957 M False 76317 - /home/feelus/snap/firefox/common/.mozilla/firefox/2yebzj4a.default/cookies.sqlite-wal\n",
      "2025-01-26 22:25:42.179167 C False 105587 - /home/feelus/snap/firefox/common/.mozilla/firefox/2yebzj4a.default/storage/default/https+++vk.com/ls/data.sqlite-journal\n",
      "2025-01-26 22:25:42.180485 C False 105588 - /home/feelus/snap/firefox/common/.mozilla/firefox/2yebzj4a.default/storage/default/https+++vk.com/ls/usage-journal\n",
      "2025-01-26 22:25:42.181748 M False 79055 - /home/feelus/snap/firefox/common/.mozilla/firefox/2yebzj4a.default/storage/default/https+++vk.com/ls/usage\n",
      "2025-01-26 22:25:42.231138 M False 79054 - /home/feelus/snap/firefox/common/.mozilla/firefox/2yebzj4a.default/storage/default/https+++vk.com/ls/data.sqlite\n",
      "2025-01-26 22:25:42.256646 D False 105587 - /home/feelus/snap/firefox/common/.mozilla/firefox/2yebzj4a.default/storage/default/https+++vk.com/ls/data.sqlite-journal\n",
      "2025-01-26 22:25:42.257775 D False 105588 - /home/feelus/snap/firefox/common/.mozilla/firefox/2yebzj4a.default/storage/default/https+++vk.com/ls/usage-journal\n",
      "2025-01-26 22:25:43.170857 D False 105615 - /home/feelus/snap/firefox/common/.cache/mozilla/firefox/2yebzj4a.default/cache2/entries/194291BFC070B4B57D59FA14BB8F14E705D20057\n",
      "2025-01-26 22:25:45.194913 D False 105618 - /home/feelus/snap/firefox/common/.cache/mozilla/firefox/2yebzj4a.default/cache2/entries/AB3FB0312AA71381058F882488F882383566F719\n",
      "2025-01-26 22:25:47.262714 C False 105587 - /home/feelus/snap/firefox/common/.mozilla/firefox/2yebzj4a.default/storage/default/https+++vk.com/ls/data.sqlite-journal\n",
      "2025-01-26 22:25:47.264698 C False 105588 - /home/feelus/snap/firefox/common/.mozilla/firefox/2yebzj4a.default/storage/default/https+++vk.com/ls/usage-journal\n",
      "2025-01-26 22:25:47.394860 C False 105619 - /home/feelus/snap/firefox/common/.mozilla/firefox/2yebzj4a.default/datareporting/glean/db/data.safe.tmp\n",
      "2025-01-26 22:25:47.396280 V False 105619 - /home/feelus/snap/firefox/common/.mozilla/firefox/2yebzj4a.default/datareporting/glean/db/data.safe.tmp\n",
      "2025-01-26 22:25:47.396768 D False 105612 - /home/feelus/snap/firefox/common/.mozilla/firefox/2yebzj4a.default/datareporting/glean/db/1\n",
      "2025-01-26 22:25:47.901849 D False 105587 - /home/feelus/snap/firefox/common/.mozilla/firefox/2yebzj4a.default/storage/default/https+++vk.com/ls/data.sqlite-journal\n",
      "2025-01-26 22:25:47.903340 D False 105588 - /home/feelus/snap/firefox/common/.mozilla/firefox/2yebzj4a.default/storage/default/https+++vk.com/ls/usage-journal\n",
      "2025-01-26 22:25:48.259632 C False 105620 - /home/feelus/snap/firefox/common/.cache/mozilla/firefox/2yebzj4a.default/cache2/entries/1439EAB08C9EBB6C6EF323008213192C19216C27\n",
      "2025-01-26 22:25:48.261739 C False 105621 - /home/feelus/snap/firefox/common/.cache/mozilla/firefox/2yebzj4a.default/cache2/entries/8869E31380B6A88AD37F909E9299082474F8A983\n",
      "2025-01-26 22:25:52.618158 C False 105587 - /home/feelus/snap/firefox/common/.mozilla/firefox/2yebzj4a.default/storage/default/https+++vk.com/ls/data.sqlite-journal\n",
      "2025-01-26 22:25:52.620724 C False 105588 - /home/feelus/snap/firefox/common/.mozilla/firefox/2yebzj4a.default/storage/default/https+++vk.com/ls/usage-journal\n",
      "2025-01-26 22:25:52.622504 M False 79055 - /home/feelus/snap/firefox/common/.mozilla/firefox/2yebzj4a.default/storage/default/https+++vk.com/ls/usage\n",
      "COMMIT 2025-01-26 22:25:53.340588\n",
      "2025-01-26 22:25:53.341608 M False 105385 - /home/feelus/pyfiles/src/home.db-wal\n",
      "2025-01-26 22:25:53.343107 D False 105617 - /home/feelus/snap/firefox/common/.cache/mozilla/firefox/2yebzj4a.default/cache2/entries/00E10F1C84261DCD8CAFCB65F84BAED1F31A6182\n",
      "2025-01-26 22:25:53.344640 D False 105616 - /home/feelus/snap/firefox/common/.cache/mozilla/firefox/2yebzj4a.default/cache2/entries/1064E2D4331C229A459CED24BA75B46AD7651F13\n",
      "2025-01-26 22:25:53.388812 M False 79054 - /home/feelus/snap/firefox/common/.mozilla/firefox/2yebzj4a.default/storage/default/https+++vk.com/ls/data.sqlite\n",
      "2025-01-26 22:25:53.413645 D False 105587 - /home/feelus/snap/firefox/common/.mozilla/firefox/2yebzj4a.default/storage/default/https+++vk.com/ls/data.sqlite-journal\n",
      "2025-01-26 22:25:53.414748 D False 105588 - /home/feelus/snap/firefox/common/.mozilla/firefox/2yebzj4a.default/storage/default/https+++vk.com/ls/usage-journal\n",
      "2025-01-26 22:25:56.559917 M False 79034 - /home/feelus/snap/firefox/common/.mozilla/firefox/2yebzj4a.default/storage/default/https+++vk.com/idb/2449276127r1evf-obrdg-eedg-asrt.sqlite-wal\n",
      "2025-01-26 22:25:56.561506 M False 79046 - /home/feelus/snap/firefox/common/.mozilla/firefox/2yebzj4a.default/storage/default/https+++vk.com/idb/2449276127r1evf-obrdg-eedg-asrt.sqlite\n",
      "2025-01-26 22:25:58.237040 C False 105622 - /home/feelus/snap/firefox/common/.cache/mozilla/firefox/2yebzj4a.default/cache2/entries/73FBEF54C4D2EC46C27ABAA36FD0CB07D7731EDE\n",
      "2025-01-26 22:25:58.239227 C False 105623 - /home/feelus/snap/firefox/common/.cache/mozilla/firefox/2yebzj4a.default/cache2/entries/7B6E05D240ECDCDEA2728C26C648951D6556DABE\n",
      "2025-01-26 22:26:02.573510 C False 105587 - /home/feelus/snap/firefox/common/.mozilla/firefox/2yebzj4a.default/storage/default/https+++vk.com/ls/data.sqlite-journal\n",
      "2025-01-26 22:26:02.575525 C False 105588 - /home/feelus/snap/firefox/common/.mozilla/firefox/2yebzj4a.default/storage/default/https+++vk.com/ls/usage-journal\n",
      "2025-01-26 22:26:03.002640 D False 105587 - /home/feelus/snap/firefox/common/.mozilla/firefox/2yebzj4a.default/storage/default/https+++vk.com/ls/data.sqlite-journal\n",
      "2025-01-26 22:26:03.003303 D False 105588 - /home/feelus/snap/firefox/common/.mozilla/firefox/2yebzj4a.default/storage/default/https+++vk.com/ls/usage-journal\n",
      "2025-01-26 22:26:05.532473 C False 105624 - /home/feelus/snap/firefox/common/.cache/mozilla/firefox/2yebzj4a.default/cache2/entries/A3CF44FB781C2462E4191DCBAF024AD6483FF566\n",
      "2025-01-26 22:26:05.535295 D False 69859 - /home/feelus/snap/firefox/common/.cache/mozilla/firefox/2yebzj4a.default/cache2/entries/90AD6BA73FDDB3A135D1F6089FBE0233A28169B4\n",
      "2025-01-26 22:26:06.710289 C False 105625 - /home/feelus/snap/firefox/common/.mozilla/firefox/2yebzj4a.default/storage/default/moz-extension+++098cbc6a-514b-4e23-a91a-70755caa6025/idb/1671402671ueBglaorcokt0SCeahc.files/journals/664\n",
      "2025-01-26 22:26:06.711441 C False 105626 - /home/feelus/snap/firefox/common/.mozilla/firefox/2yebzj4a.default/storage/default/moz-extension+++098cbc6a-514b-4e23-a91a-70755caa6025/idb/1671402671ueBglaorcokt0SCeahc.files/journals/663\n",
      "2025-01-26 22:26:06.712157 M False 79500 - /home/feelus/snap/firefox/common/.mozilla/firefox/2yebzj4a.default/storage/default/moz-extension+++098cbc6a-514b-4e23-a91a-70755caa6025/idb/1671402671ueBglaorcokt0SCeahc.sqlite-wal\n",
      "2025-01-26 22:26:06.768255 D False 105418 - /home/feelus/snap/firefox/common/.mozilla/firefox/2yebzj4a.default/storage/default/moz-extension+++098cbc6a-514b-4e23-a91a-70755caa6025/idb/1671402671ueBglaorcokt0SCeahc.files/664\n",
      "2025-01-26 22:26:06.770593 D False 105625 - /home/feelus/snap/firefox/common/.mozilla/firefox/2yebzj4a.default/storage/default/moz-extension+++098cbc6a-514b-4e23-a91a-70755caa6025/idb/1671402671ueBglaorcokt0SCeahc.files/journals/664\n",
      "2025-01-26 22:26:06.771064 D False 105419 - /home/feelus/snap/firefox/common/.mozilla/firefox/2yebzj4a.default/storage/default/moz-extension+++098cbc6a-514b-4e23-a91a-70755caa6025/idb/1671402671ueBglaorcokt0SCeahc.files/663\n",
      "2025-01-26 22:26:06.772230 D False 105626 - /home/feelus/snap/firefox/common/.mozilla/firefox/2yebzj4a.default/storage/default/moz-extension+++098cbc6a-514b-4e23-a91a-70755caa6025/idb/1671402671ueBglaorcokt0SCeahc.files/journals/663\n",
      "2025-01-26 22:26:06.821861 C False 105627 - /home/feelus/snap/firefox/common/.mozilla/firefox/2yebzj4a.default/storage/default/moz-extension+++098cbc6a-514b-4e23-a91a-70755caa6025^userContextId=4294967295/idb/3647222921wleabcEoxlt-eengsairo.files/journals/861\n",
      "2025-01-26 22:26:06.823671 C False 105628 - /home/feelus/snap/firefox/common/.mozilla/firefox/2yebzj4a.default/storage/default/moz-extension+++098cbc6a-514b-4e23-a91a-70755caa6025^userContextId=4294967295/idb/3647222921wleabcEoxlt-eengsairo.files/journals/860\n",
      "2025-01-26 22:26:06.825277 M False 79360 - /home/feelus/snap/firefox/common/.mozilla/firefox/2yebzj4a.default/storage/default/moz-extension+++098cbc6a-514b-4e23-a91a-70755caa6025^userContextId=4294967295/idb/3647222921wleabcEoxlt-eengsairo.sqlite-wal\n",
      "2025-01-26 22:26:06.866524 D False 105422 - /home/feelus/snap/firefox/common/.mozilla/firefox/2yebzj4a.default/storage/default/moz-extension+++098cbc6a-514b-4e23-a91a-70755caa6025^userContextId=4294967295/idb/3647222921wleabcEoxlt-eengsairo.files/861\n",
      "2025-01-26 22:26:06.867949 D False 105627 - /home/feelus/snap/firefox/common/.mozilla/firefox/2yebzj4a.default/storage/default/moz-extension+++098cbc6a-514b-4e23-a91a-70755caa6025^userContextId=4294967295/idb/3647222921wleabcEoxlt-eengsairo.files/journals/861\n",
      "2025-01-26 22:26:06.868805 D False 105421 - /home/feelus/snap/firefox/common/.mozilla/firefox/2yebzj4a.default/storage/default/moz-extension+++098cbc6a-514b-4e23-a91a-70755caa6025^userContextId=4294967295/idb/3647222921wleabcEoxlt-eengsairo.files/860\n",
      "2025-01-26 22:26:06.869377 D False 105628 - /home/feelus/snap/firefox/common/.mozilla/firefox/2yebzj4a.default/storage/default/moz-extension+++098cbc6a-514b-4e23-a91a-70755caa6025^userContextId=4294967295/idb/3647222921wleabcEoxlt-eengsairo.files/journals/860\n",
      "2025-01-26 22:26:06.892400 C False 105629 - /home/feelus/snap/firefox/common/.mozilla/firefox/2yebzj4a.default/storage/default/moz-extension+++098cbc6a-514b-4e23-a91a-70755caa6025^userContextId=4294967295/idb/3647222921wleabcEoxlt-eengsairo.files/journals/862\n",
      "2025-01-26 22:26:06.893653 C False 105630 - /home/feelus/snap/firefox/common/.mozilla/firefox/2yebzj4a.default/storage/default/moz-extension+++098cbc6a-514b-4e23-a91a-70755caa6025^userContextId=4294967295/idb/3647222921wleabcEoxlt-eengsairo.files/862\n",
      "2025-01-26 22:26:06.966419 C False 105631 - /home/feelus/snap/firefox/common/.mozilla/firefox/2yebzj4a.default/storage/default/moz-extension+++098cbc6a-514b-4e23-a91a-70755caa6025^userContextId=4294967295/idb/3647222921wleabcEoxlt-eengsairo.files/journals/848\n",
      "2025-01-26 22:26:06.967944 D False 105629 - /home/feelus/snap/firefox/common/.mozilla/firefox/2yebzj4a.default/storage/default/moz-extension+++098cbc6a-514b-4e23-a91a-70755caa6025^userContextId=4294967295/idb/3647222921wleabcEoxlt-eengsairo.files/journals/862\n",
      "2025-01-26 22:26:06.968650 D False 79364 - /home/feelus/snap/firefox/common/.mozilla/firefox/2yebzj4a.default/storage/default/moz-extension+++098cbc6a-514b-4e23-a91a-70755caa6025^userContextId=4294967295/idb/3647222921wleabcEoxlt-eengsairo.files/848\n",
      "2025-01-26 22:26:06.969349 D False 105631 - /home/feelus/snap/firefox/common/.mozilla/firefox/2yebzj4a.default/storage/default/moz-extension+++098cbc6a-514b-4e23-a91a-70755caa6025^userContextId=4294967295/idb/3647222921wleabcEoxlt-eengsairo.files/journals/848\n",
      "2025-01-26 22:26:07.568181 C False 105632 - /home/feelus/snap/firefox/common/.mozilla/firefox/2yebzj4a.default/storage/default/moz-extension+++098cbc6a-514b-4e23-a91a-70755caa6025/idb/1671402671ueBglaorcokt0SCeahc.files/journals/665\n",
      "2025-01-26 22:26:07.570718 C False 105633 - /home/feelus/snap/firefox/common/.mozilla/firefox/2yebzj4a.default/storage/default/moz-extension+++098cbc6a-514b-4e23-a91a-70755caa6025/idb/1671402671ueBglaorcokt0SCeahc.files/665\n",
      "2025-01-26 22:26:07.591229 C False 105587 - /home/feelus/snap/firefox/common/.mozilla/firefox/2yebzj4a.default/storage/default/https+++vk.com/ls/data.sqlite-journal\n",
      "2025-01-26 22:26:07.592156 C False 105588 - /home/feelus/snap/firefox/common/.mozilla/firefox/2yebzj4a.default/storage/default/https+++vk.com/ls/usage-journal\n",
      "2025-01-26 22:26:07.592853 M False 79055 - /home/feelus/snap/firefox/common/.mozilla/firefox/2yebzj4a.default/storage/default/https+++vk.com/ls/usage\n",
      "2025-01-26 22:26:07.597795 C False 105634 - /home/feelus/snap/firefox/common/.mozilla/firefox/2yebzj4a.default/storage/default/moz-extension+++098cbc6a-514b-4e23-a91a-70755caa6025^userContextId=4294967295/idb/3647222921wleabcEoxlt-eengsairo.files/journals/863\n",
      "2025-01-26 22:26:07.598889 C False 105635 - /home/feelus/snap/firefox/common/.mozilla/firefox/2yebzj4a.default/storage/default/moz-extension+++098cbc6a-514b-4e23-a91a-70755caa6025^userContextId=4294967295/idb/3647222921wleabcEoxlt-eengsairo.files/863\n",
      "2025-01-26 22:26:07.709677 M False 79054 - /home/feelus/snap/firefox/common/.mozilla/firefox/2yebzj4a.default/storage/default/https+++vk.com/ls/data.sqlite\n",
      "2025-01-26 22:26:07.713835 D False 105632 - /home/feelus/snap/firefox/common/.mozilla/firefox/2yebzj4a.default/storage/default/moz-extension+++098cbc6a-514b-4e23-a91a-70755caa6025/idb/1671402671ueBglaorcokt0SCeahc.files/journals/665\n",
      "2025-01-26 22:26:07.714665 D False 79510 - /home/feelus/snap/firefox/common/.mozilla/firefox/2yebzj4a.default/storage/default/moz-extension+++098cbc6a-514b-4e23-a91a-70755caa6025/idb/1671402671ueBglaorcokt0SCeahc.files/653\n",
      "2025-01-26 22:26:07.735977 C False 105636 - /home/feelus/snap/firefox/common/.mozilla/firefox/2yebzj4a.default/storage/default/moz-extension+++098cbc6a-514b-4e23-a91a-70755caa6025^userContextId=4294967295/idb/3647222921wleabcEoxlt-eengsairo.files/journals/849\n",
      "2025-01-26 22:26:07.737687 D False 105634 - /home/feelus/snap/firefox/common/.mozilla/firefox/2yebzj4a.default/storage/default/moz-extension+++098cbc6a-514b-4e23-a91a-70755caa6025^userContextId=4294967295/idb/3647222921wleabcEoxlt-eengsairo.files/journals/863\n",
      "2025-01-26 22:26:07.738959 D False 79367 - /home/feelus/snap/firefox/common/.mozilla/firefox/2yebzj4a.default/storage/default/moz-extension+++098cbc6a-514b-4e23-a91a-70755caa6025^userContextId=4294967295/idb/3647222921wleabcEoxlt-eengsairo.files/849\n",
      "2025-01-26 22:26:07.740069 D False 105636 - /home/feelus/snap/firefox/common/.mozilla/firefox/2yebzj4a.default/storage/default/moz-extension+++098cbc6a-514b-4e23-a91a-70755caa6025^userContextId=4294967295/idb/3647222921wleabcEoxlt-eengsairo.files/journals/849\n",
      "2025-01-26 22:26:07.757102 D False 105587 - /home/feelus/snap/firefox/common/.mozilla/firefox/2yebzj4a.default/storage/default/https+++vk.com/ls/data.sqlite-journal\n",
      "2025-01-26 22:26:07.757899 D False 105588 - /home/feelus/snap/firefox/common/.mozilla/firefox/2yebzj4a.default/storage/default/https+++vk.com/ls/usage-journal\n",
      "2025-01-26 22:26:08.234890 D False 105620 - /home/feelus/snap/firefox/common/.cache/mozilla/firefox/2yebzj4a.default/cache2/entries/1439EAB08C9EBB6C6EF323008213192C19216C27\n",
      "2025-01-26 22:26:08.243481 V False 76830 - /home/feelus/snap/firefox/common/.mozilla/firefox/2yebzj4a.default/sessionstore-backups/recovery.jsonlz4\n",
      "2025-01-26 22:26:08.257946 C False 105637 - /home/feelus/snap/firefox/common/.mozilla/firefox/2yebzj4a.default/sessionstore-backups/recovery.jsonlz4.tmp\n",
      "2025-01-26 22:26:08.260008 V False 105637 - /home/feelus/snap/firefox/common/.mozilla/firefox/2yebzj4a.default/sessionstore-backups/recovery.jsonlz4.tmp\n",
      "2025-01-26 22:26:08.260226 D False 76830 - /home/feelus/snap/firefox/common/.mozilla/firefox/2yebzj4a.default/sessionstore-backups/1\n",
      "2025-01-26 22:26:09.747742 M False 79501 - /home/feelus/snap/firefox/common/.mozilla/firefox/2yebzj4a.default/storage/default/moz-extension+++098cbc6a-514b-4e23-a91a-70755caa6025/idb/1671402671ueBglaorcokt0SCeahc.sqlite\n",
      "2025-01-26 22:26:09.772188 M False 79361 - /home/feelus/snap/firefox/common/.mozilla/firefox/2yebzj4a.default/storage/default/moz-extension+++098cbc6a-514b-4e23-a91a-70755caa6025^userContextId=4294967295/idb/3647222921wleabcEoxlt-eengsairo.sqlite\n",
      "2025-01-26 22:26:10.239990 D False 105621 - /home/feelus/snap/firefox/common/.cache/mozilla/firefox/2yebzj4a.default/cache2/entries/8869E31380B6A88AD37F909E9299082474F8A983\n",
      "2025-01-26 22:26:12.697616 C False 105587 - /home/feelus/snap/firefox/common/.mozilla/firefox/2yebzj4a.default/storage/default/https+++vk.com/ls/data.sqlite-journal\n",
      "2025-01-26 22:26:12.700160 C False 105588 - /home/feelus/snap/firefox/common/.mozilla/firefox/2yebzj4a.default/storage/default/https+++vk.com/ls/usage-journal\n",
      "2025-01-26 22:26:12.770151 D False 105587 - /home/feelus/snap/firefox/common/.mozilla/firefox/2yebzj4a.default/storage/default/https+++vk.com/ls/data.sqlite-journal\n",
      "2025-01-26 22:26:12.770644 D False 105588 - /home/feelus/snap/firefox/common/.mozilla/firefox/2yebzj4a.default/storage/default/https+++vk.com/ls/usage-journal\n",
      "2025-01-26 22:26:13.245236 C False 105638 - /home/feelus/snap/firefox/common/.cache/mozilla/firefox/2yebzj4a.default/cache2/entries/22DE0BFF4D8217D32CD431B1F583AB36D44669F5\n",
      "2025-01-26 22:26:13.247548 C False 105639 - /home/feelus/snap/firefox/common/.cache/mozilla/firefox/2yebzj4a.default/cache2/entries/824C0821DCC118CD1C207B164BBEC99CAFFECFB7\n"
     ]
    },
    {
     "name": "stdin",
     "output_type": "stream",
     "text": [
      " q\n"
     ]
    },
    {
     "name": "stdout",
     "output_type": "stream",
     "text": [
      "1 <sqlite3.Connection object at 0x7db32f30ce50>\n",
      "2 <sqlite3.Connection object at 0x7db32f30ce50>\n"
     ]
    }
   ],
   "source": [
    "fdb.watch()"
   ]
  },
  {
   "cell_type": "code",
   "execution_count": 4,
   "id": "c98bb342-4eac-4b4a-b8fa-44ddb415be67",
   "metadata": {
    "scrolled": true
   },
   "outputs": [
    {
     "name": "stdout",
     "output_type": "stream",
     "text": [
      "/home/feelus/\n",
      "/home/feelus/.config/\n",
      "/home/feelus/.config/dconf/\n",
      "/home/feelus/.config/dconf/user\n",
      "/home/feelus/.config/sublime-text/\n",
      "/home/feelus/.config/sublime-text/Local/\n",
      "/home/feelus/.config/sublime-text/Local/Auto Save Session.sublime_session\n",
      "/home/feelus/.config/tiling-assistant/\n",
      "/home/feelus/.config/tiling-assistant/tiledSessionRestore.json\n",
      "/home/feelus/.ipython/\n",
      "/home/feelus/.ipython/profile_default/\n",
      "/home/feelus/.ipython/profile_default/history.sqlite\n",
      "/home/feelus/.local/\n",
      "/home/feelus/.local/share/\n",
      "/home/feelus/.local/share/gnome-shell/\n",
      "/home/feelus/.local/share/gnome-shell/1\n",
      "/home/feelus/.local/share/gnome-shell/application_state\n",
      "/home/feelus/.local/share/gvfs-metadata/\n",
      "/home/feelus/.local/share/gvfs-metadata/root\n",
      "/home/feelus/.local/share/gvfs-metadata/root-288e192d.log\n",
      "/home/feelus/.local/share/nautilus/\n",
      "/home/feelus/.local/share/nautilus/tags/\n",
      "/home/feelus/.local/share/xorg/\n",
      "/home/feelus/.local/share/xorg/Xorg.0.log\n",
      "/home/feelus/.local/state/\n",
      "/home/feelus/.local/state/wireplumber/\n",
      "/home/feelus/.local/state/wireplumber/default-routes\n",
      "/home/feelus/pyfiles/\n",
      "/home/feelus/pyfiles/src/\n",
      "/home/feelus/pyfiles/src/Untitled.ipynb\n",
      "/home/feelus/pyfiles/src/files2.db\n",
      "/home/feelus/pyfiles/src/filesdb.py\n",
      "/home/feelus/pyfiles/src/home.db\n",
      "/home/feelus/pyfiles/src/home.db-shm\n",
      "/home/feelus/pyfiles/src/home.db-wal\n",
      "/home/feelus/snap/\n",
      "/home/feelus/snap/firefox/\n",
      "/home/feelus/snap/firefox/5647/\n",
      "/home/feelus/snap/firefox/5647/.local/\n",
      "/home/feelus/snap/firefox/5647/.local/share/\n",
      "/home/feelus/snap/firefox/5647/.local/share/1\n",
      "/home/feelus/snap/firefox/5647/.local/share/recently-used.xbel\n",
      "/home/feelus/snap/firefox/common/\n",
      "/home/feelus/snap/firefox/common/.cache/\n",
      "/home/feelus/snap/firefox/common/.cache/mozilla/\n",
      "/home/feelus/snap/firefox/common/.cache/mozilla/firefox/\n",
      "/home/feelus/snap/firefox/common/.cache/mozilla/firefox/2yebzj4a.default/\n",
      "/home/feelus/snap/firefox/common/.cache/mozilla/firefox/2yebzj4a.default/1\n",
      "/home/feelus/snap/firefox/common/.cache/mozilla/firefox/2yebzj4a.default/activity-stream.discovery_stream.json\n",
      "/home/feelus/snap/firefox/common/.cache/mozilla/firefox/2yebzj4a.default/cache2/\n",
      "/home/feelus/snap/firefox/common/.cache/mozilla/firefox/2yebzj4a.default/cache2/doomed/\n",
      "/home/feelus/snap/firefox/common/.cache/mozilla/firefox/2yebzj4a.default/cache2/entries/\n",
      "/home/feelus/snap/firefox/common/.cache/mozilla/firefox/2yebzj4a.default/cache2/entries/112D3454505F1577CF1EFDABDD32B61879AE4D7A\n",
      "/home/feelus/snap/firefox/common/.cache/mozilla/firefox/2yebzj4a.default/cache2/entries/22DE0BFF4D8217D32CD431B1F583AB36D44669F5\n",
      "/home/feelus/snap/firefox/common/.cache/mozilla/firefox/2yebzj4a.default/cache2/entries/372A702BC3D800C64254D32A75B6E4CA25049E2A\n",
      "/home/feelus/snap/firefox/common/.cache/mozilla/firefox/2yebzj4a.default/cache2/entries/55AAF2FE5C109566AB1EAE7A57991F9BD9B09F55\n",
      "/home/feelus/snap/firefox/common/.cache/mozilla/firefox/2yebzj4a.default/cache2/entries/63F48F4F7F1BC3195F5AB831F9794F3DBA2D30E1\n",
      "/home/feelus/snap/firefox/common/.cache/mozilla/firefox/2yebzj4a.default/cache2/entries/6983FBF15331BE559CF5239CE650F9DD6970B505\n",
      "/home/feelus/snap/firefox/common/.cache/mozilla/firefox/2yebzj4a.default/cache2/entries/6CD934AD0AE1E7498A5949F845117D508A23B67E\n",
      "/home/feelus/snap/firefox/common/.cache/mozilla/firefox/2yebzj4a.default/cache2/entries/6D89348819C8881868053197CA0754F36784BF5F\n",
      "/home/feelus/snap/firefox/common/.cache/mozilla/firefox/2yebzj4a.default/cache2/entries/6E2FE87261FCFF754D74D4A1F09D300271D683B2\n",
      "/home/feelus/snap/firefox/common/.cache/mozilla/firefox/2yebzj4a.default/cache2/entries/73FBEF54C4D2EC46C27ABAA36FD0CB07D7731EDE\n",
      "/home/feelus/snap/firefox/common/.cache/mozilla/firefox/2yebzj4a.default/cache2/entries/7B6E05D240ECDCDEA2728C26C648951D6556DABE\n",
      "/home/feelus/snap/firefox/common/.cache/mozilla/firefox/2yebzj4a.default/cache2/entries/824C0821DCC118CD1C207B164BBEC99CAFFECFB7\n",
      "/home/feelus/snap/firefox/common/.cache/mozilla/firefox/2yebzj4a.default/cache2/entries/8E900591D6D17A4E196980A55F72386736F8B3CB\n",
      "/home/feelus/snap/firefox/common/.cache/mozilla/firefox/2yebzj4a.default/cache2/entries/A3CF44FB781C2462E4191DCBAF024AD6483FF566\n",
      "/home/feelus/snap/firefox/common/.cache/mozilla/firefox/2yebzj4a.default/cache2/entries/B879DFBCE50AFB16EDE401550910C4303139143C\n",
      "/home/feelus/snap/firefox/common/.cache/mozilla/firefox/2yebzj4a.default/cache2/entries/C363A4D0505B7C2E6CDC089D3CADAFC1AAEC6C7C\n",
      "/home/feelus/snap/firefox/common/.cache/mozilla/firefox/2yebzj4a.default/cache2/entries/CDCF5C529D4F9395AD8506C3B9D17AE29F176F9D\n",
      "/home/feelus/snap/firefox/common/.cache/mozilla/firefox/2yebzj4a.default/cache2/entries/E56624C8F84395B6330CF01709E38BA6AA222F9A\n",
      "/home/feelus/snap/firefox/common/.cache/mozilla/firefox/2yebzj4a.default/cache2/entries/E5A6A633E19A693C86663F1051E1F6AA43936922\n",
      "/home/feelus/snap/firefox/common/.cache/mozilla/firefox/2yebzj4a.default/cache2/index\n",
      "/home/feelus/snap/firefox/common/.cache/mozilla/firefox/2yebzj4a.default/safebrowsing/\n",
      "/home/feelus/snap/firefox/common/.cache/mozilla/firefox/2yebzj4a.default/safebrowsing/ads-track-digest256.sbstore\n",
      "/home/feelus/snap/firefox/common/.cache/mozilla/firefox/2yebzj4a.default/safebrowsing/ads-track-digest256.vlpset\n",
      "/home/feelus/snap/firefox/common/.cache/mozilla/firefox/2yebzj4a.default/safebrowsing/analytics-track-digest256.sbstore\n",
      "/home/feelus/snap/firefox/common/.cache/mozilla/firefox/2yebzj4a.default/safebrowsing/analytics-track-digest256.vlpset\n",
      "/home/feelus/snap/firefox/common/.cache/mozilla/firefox/2yebzj4a.default/safebrowsing/base-cryptomining-track-digest256.sbstore\n",
      "/home/feelus/snap/firefox/common/.cache/mozilla/firefox/2yebzj4a.default/safebrowsing/base-cryptomining-track-digest256.vlpset\n",
      "/home/feelus/snap/firefox/common/.cache/mozilla/firefox/2yebzj4a.default/safebrowsing/base-email-track-digest256.sbstore\n",
      "/home/feelus/snap/firefox/common/.cache/mozilla/firefox/2yebzj4a.default/safebrowsing/base-email-track-digest256.vlpset\n",
      "/home/feelus/snap/firefox/common/.cache/mozilla/firefox/2yebzj4a.default/safebrowsing/base-fingerprinting-track-digest256.sbstore\n",
      "/home/feelus/snap/firefox/common/.cache/mozilla/firefox/2yebzj4a.default/safebrowsing/base-fingerprinting-track-digest256.vlpset\n",
      "/home/feelus/snap/firefox/common/.cache/mozilla/firefox/2yebzj4a.default/safebrowsing/content-email-track-digest256.sbstore\n",
      "/home/feelus/snap/firefox/common/.cache/mozilla/firefox/2yebzj4a.default/safebrowsing/content-email-track-digest256.vlpset\n",
      "/home/feelus/snap/firefox/common/.cache/mozilla/firefox/2yebzj4a.default/safebrowsing/content-track-digest256.sbstore\n",
      "/home/feelus/snap/firefox/common/.cache/mozilla/firefox/2yebzj4a.default/safebrowsing/content-track-digest256.vlpset\n",
      "/home/feelus/snap/firefox/common/.cache/mozilla/firefox/2yebzj4a.default/safebrowsing/google-trackwhite-digest256.sbstore\n",
      "/home/feelus/snap/firefox/common/.cache/mozilla/firefox/2yebzj4a.default/safebrowsing/google-trackwhite-digest256.vlpset\n",
      "/home/feelus/snap/firefox/common/.cache/mozilla/firefox/2yebzj4a.default/safebrowsing/google4/\n",
      "/home/feelus/snap/firefox/common/.cache/mozilla/firefox/2yebzj4a.default/safebrowsing/google4/goog-badbinurl-proto.metadata\n",
      "/home/feelus/snap/firefox/common/.cache/mozilla/firefox/2yebzj4a.default/safebrowsing/google4/goog-badbinurl-proto.vlpset\n",
      "/home/feelus/snap/firefox/common/.cache/mozilla/firefox/2yebzj4a.default/safebrowsing/google4/goog-downloadwhite-proto.metadata\n",
      "/home/feelus/snap/firefox/common/.cache/mozilla/firefox/2yebzj4a.default/safebrowsing/google4/goog-downloadwhite-proto.vlpset\n",
      "/home/feelus/snap/firefox/common/.cache/mozilla/firefox/2yebzj4a.default/safebrowsing/google4/goog-malware-proto.metadata\n",
      "/home/feelus/snap/firefox/common/.cache/mozilla/firefox/2yebzj4a.default/safebrowsing/google4/goog-malware-proto.vlpset\n",
      "/home/feelus/snap/firefox/common/.cache/mozilla/firefox/2yebzj4a.default/safebrowsing/google4/goog-phish-proto.metadata\n",
      "/home/feelus/snap/firefox/common/.cache/mozilla/firefox/2yebzj4a.default/safebrowsing/google4/goog-phish-proto.vlpset\n",
      "/home/feelus/snap/firefox/common/.cache/mozilla/firefox/2yebzj4a.default/safebrowsing/google4/goog-unwanted-proto.metadata\n",
      "/home/feelus/snap/firefox/common/.cache/mozilla/firefox/2yebzj4a.default/safebrowsing/google4/goog-unwanted-proto.vlpset\n",
      "/home/feelus/snap/firefox/common/.cache/mozilla/firefox/2yebzj4a.default/safebrowsing/mozplugin-block-digest256.sbstore\n",
      "/home/feelus/snap/firefox/common/.cache/mozilla/firefox/2yebzj4a.default/safebrowsing/mozplugin-block-digest256.vlpset\n",
      "/home/feelus/snap/firefox/common/.cache/mozilla/firefox/2yebzj4a.default/safebrowsing/mozstd-trackwhite-digest256.sbstore\n",
      "/home/feelus/snap/firefox/common/.cache/mozilla/firefox/2yebzj4a.default/safebrowsing/mozstd-trackwhite-digest256.vlpset\n",
      "/home/feelus/snap/firefox/common/.cache/mozilla/firefox/2yebzj4a.default/safebrowsing/social-track-digest256.sbstore\n",
      "/home/feelus/snap/firefox/common/.cache/mozilla/firefox/2yebzj4a.default/safebrowsing/social-track-digest256.vlpset\n",
      "/home/feelus/snap/firefox/common/.cache/mozilla/firefox/2yebzj4a.default/safebrowsing/social-tracking-protection-facebook-digest256.sbstore\n",
      "/home/feelus/snap/firefox/common/.cache/mozilla/firefox/2yebzj4a.default/safebrowsing/social-tracking-protection-facebook-digest256.vlpset\n",
      "/home/feelus/snap/firefox/common/.cache/mozilla/firefox/2yebzj4a.default/safebrowsing/social-tracking-protection-linkedin-digest256.sbstore\n",
      "/home/feelus/snap/firefox/common/.cache/mozilla/firefox/2yebzj4a.default/safebrowsing/social-tracking-protection-linkedin-digest256.vlpset\n",
      "/home/feelus/snap/firefox/common/.cache/mozilla/firefox/2yebzj4a.default/safebrowsing/social-tracking-protection-twitter-digest256.sbstore\n",
      "/home/feelus/snap/firefox/common/.cache/mozilla/firefox/2yebzj4a.default/safebrowsing/social-tracking-protection-twitter-digest256.vlpset\n",
      "/home/feelus/snap/firefox/common/.mozilla/\n",
      "/home/feelus/snap/firefox/common/.mozilla/firefox/\n",
      "/home/feelus/snap/firefox/common/.mozilla/firefox/2yebzj4a.default/\n",
      "/home/feelus/snap/firefox/common/.mozilla/firefox/2yebzj4a.default/1\n",
      "/home/feelus/snap/firefox/common/.mozilla/firefox/2yebzj4a.default/AlternateServices.bin\n",
      "/home/feelus/snap/firefox/common/.mozilla/firefox/2yebzj4a.default/SiteSecurityServiceState.bin\n",
      "/home/feelus/snap/firefox/common/.mozilla/firefox/2yebzj4a.default/bounce-tracking-protection.sqlite\n",
      "/home/feelus/snap/firefox/common/.mozilla/firefox/2yebzj4a.default/cookies.sqlite\n",
      "/home/feelus/snap/firefox/common/.mozilla/firefox/2yebzj4a.default/cookies.sqlite-wal\n",
      "/home/feelus/snap/firefox/common/.mozilla/firefox/2yebzj4a.default/datareporting/\n",
      "/home/feelus/snap/firefox/common/.mozilla/firefox/2yebzj4a.default/datareporting/aborted-session-ping\n",
      "/home/feelus/snap/firefox/common/.mozilla/firefox/2yebzj4a.default/datareporting/archived/\n",
      "/home/feelus/snap/firefox/common/.mozilla/firefox/2yebzj4a.default/datareporting/archived/2025-01/\n",
      "/home/feelus/snap/firefox/common/.mozilla/firefox/2yebzj4a.default/datareporting/archived/2025-01/1737912250642.bd6f847a-c186-49ed-85b9-e7ffc544ab02.event.jsonlz4\n",
      "/home/feelus/snap/firefox/common/.mozilla/firefox/2yebzj4a.default/datareporting/archived/2025-01/1737912444856.3172c44e-fee6-4be8-86be-679546b5a06a.sync.jsonlz4\n",
      "/home/feelus/snap/firefox/common/.mozilla/firefox/2yebzj4a.default/datareporting/archived/2025-01/1737915851006.a122eec6-e79d-4605-8f5b-ed2b41841137.event.jsonlz4\n",
      "/home/feelus/snap/firefox/common/.mozilla/firefox/2yebzj4a.default/datareporting/glean/\n",
      "/home/feelus/snap/firefox/common/.mozilla/firefox/2yebzj4a.default/datareporting/glean/db/\n",
      "/home/feelus/snap/firefox/common/.mozilla/firefox/2yebzj4a.default/datareporting/glean/db/1\n",
      "/home/feelus/snap/firefox/common/.mozilla/firefox/2yebzj4a.default/datareporting/glean/db/data.safe.bin\n",
      "/home/feelus/snap/firefox/common/.mozilla/firefox/2yebzj4a.default/datareporting/glean/events/\n",
      "/home/feelus/snap/firefox/common/.mozilla/firefox/2yebzj4a.default/datareporting/glean/events/events\n",
      "/home/feelus/snap/firefox/common/.mozilla/firefox/2yebzj4a.default/datareporting/glean/pending_pings/\n",
      "/home/feelus/snap/firefox/common/.mozilla/firefox/2yebzj4a.default/datareporting/glean/tmp/\n",
      "/home/feelus/snap/firefox/common/.mozilla/firefox/2yebzj4a.default/logins-backup.json\n",
      "/home/feelus/snap/firefox/common/.mozilla/firefox/2yebzj4a.default/logins.json\n",
      "/home/feelus/snap/firefox/common/.mozilla/firefox/2yebzj4a.default/permissions.sqlite\n",
      "/home/feelus/snap/firefox/common/.mozilla/firefox/2yebzj4a.default/places.sqlite\n",
      "/home/feelus/snap/firefox/common/.mozilla/firefox/2yebzj4a.default/places.sqlite-wal\n",
      "/home/feelus/snap/firefox/common/.mozilla/firefox/2yebzj4a.default/prefs.js\n",
      "/home/feelus/snap/firefox/common/.mozilla/firefox/2yebzj4a.default/saved-telemetry-pings/\n",
      "/home/feelus/snap/firefox/common/.mozilla/firefox/2yebzj4a.default/sessionstore-backups/\n",
      "/home/feelus/snap/firefox/common/.mozilla/firefox/2yebzj4a.default/sessionstore-backups/1\n",
      "/home/feelus/snap/firefox/common/.mozilla/firefox/2yebzj4a.default/sessionstore-backups/recovery.baklz4\n",
      "/home/feelus/snap/firefox/common/.mozilla/firefox/2yebzj4a.default/settings/\n",
      "/home/feelus/snap/firefox/common/.mozilla/firefox/2yebzj4a.default/settings/data.safe.bin\n",
      "/home/feelus/snap/firefox/common/.mozilla/firefox/2yebzj4a.default/signedInUser.json\n",
      "/home/feelus/snap/firefox/common/.mozilla/firefox/2yebzj4a.default/storage/\n",
      "/home/feelus/snap/firefox/common/.mozilla/firefox/2yebzj4a.default/storage/default/\n",
      "/home/feelus/snap/firefox/common/.mozilla/firefox/2yebzj4a.default/storage/default/https+++vk.com/\n",
      "/home/feelus/snap/firefox/common/.mozilla/firefox/2yebzj4a.default/storage/default/https+++vk.com/idb/\n",
      "/home/feelus/snap/firefox/common/.mozilla/firefox/2yebzj4a.default/storage/default/https+++vk.com/idb/2449276127r1evf-obrdg-eedg-asrt.sqlite\n",
      "/home/feelus/snap/firefox/common/.mozilla/firefox/2yebzj4a.default/storage/default/https+++vk.com/idb/2449276127r1evf-obrdg-eedg-asrt.sqlite-wal\n",
      "/home/feelus/snap/firefox/common/.mozilla/firefox/2yebzj4a.default/storage/default/https+++vk.com/ls/\n",
      "/home/feelus/snap/firefox/common/.mozilla/firefox/2yebzj4a.default/storage/default/https+++vk.com/ls/data.sqlite\n",
      "/home/feelus/snap/firefox/common/.mozilla/firefox/2yebzj4a.default/storage/default/https+++vk.com/ls/usage\n",
      "/home/feelus/snap/firefox/common/.mozilla/firefox/2yebzj4a.default/storage/default/moz-extension+++098cbc6a-514b-4e23-a91a-70755caa6025/\n",
      "/home/feelus/snap/firefox/common/.mozilla/firefox/2yebzj4a.default/storage/default/moz-extension+++098cbc6a-514b-4e23-a91a-70755caa6025/idb/\n",
      "/home/feelus/snap/firefox/common/.mozilla/firefox/2yebzj4a.default/storage/default/moz-extension+++098cbc6a-514b-4e23-a91a-70755caa6025/idb/1671402671ueBglaorcokt0SCeahc.files/\n",
      "/home/feelus/snap/firefox/common/.mozilla/firefox/2yebzj4a.default/storage/default/moz-extension+++098cbc6a-514b-4e23-a91a-70755caa6025/idb/1671402671ueBglaorcokt0SCeahc.files/662\n",
      "/home/feelus/snap/firefox/common/.mozilla/firefox/2yebzj4a.default/storage/default/moz-extension+++098cbc6a-514b-4e23-a91a-70755caa6025/idb/1671402671ueBglaorcokt0SCeahc.files/665\n",
      "/home/feelus/snap/firefox/common/.mozilla/firefox/2yebzj4a.default/storage/default/moz-extension+++098cbc6a-514b-4e23-a91a-70755caa6025/idb/1671402671ueBglaorcokt0SCeahc.files/journals/\n",
      "/home/feelus/snap/firefox/common/.mozilla/firefox/2yebzj4a.default/storage/default/moz-extension+++098cbc6a-514b-4e23-a91a-70755caa6025/idb/1671402671ueBglaorcokt0SCeahc.sqlite\n",
      "/home/feelus/snap/firefox/common/.mozilla/firefox/2yebzj4a.default/storage/default/moz-extension+++098cbc6a-514b-4e23-a91a-70755caa6025/idb/1671402671ueBglaorcokt0SCeahc.sqlite-wal\n",
      "/home/feelus/snap/firefox/common/.mozilla/firefox/2yebzj4a.default/storage/default/moz-extension+++098cbc6a-514b-4e23-a91a-70755caa6025^userContextId=4294967295/\n",
      "/home/feelus/snap/firefox/common/.mozilla/firefox/2yebzj4a.default/storage/default/moz-extension+++098cbc6a-514b-4e23-a91a-70755caa6025^userContextId=4294967295/idb/\n",
      "/home/feelus/snap/firefox/common/.mozilla/firefox/2yebzj4a.default/storage/default/moz-extension+++098cbc6a-514b-4e23-a91a-70755caa6025^userContextId=4294967295/idb/3647222921wleabcEoxlt-eengsairo.files/\n",
      "/home/feelus/snap/firefox/common/.mozilla/firefox/2yebzj4a.default/storage/default/moz-extension+++098cbc6a-514b-4e23-a91a-70755caa6025^userContextId=4294967295/idb/3647222921wleabcEoxlt-eengsairo.files/862\n",
      "/home/feelus/snap/firefox/common/.mozilla/firefox/2yebzj4a.default/storage/default/moz-extension+++098cbc6a-514b-4e23-a91a-70755caa6025^userContextId=4294967295/idb/3647222921wleabcEoxlt-eengsairo.files/863\n",
      "/home/feelus/snap/firefox/common/.mozilla/firefox/2yebzj4a.default/storage/default/moz-extension+++098cbc6a-514b-4e23-a91a-70755caa6025^userContextId=4294967295/idb/3647222921wleabcEoxlt-eengsairo.files/journals/\n",
      "/home/feelus/snap/firefox/common/.mozilla/firefox/2yebzj4a.default/storage/default/moz-extension+++098cbc6a-514b-4e23-a91a-70755caa6025^userContextId=4294967295/idb/3647222921wleabcEoxlt-eengsairo.sqlite\n",
      "/home/feelus/snap/firefox/common/.mozilla/firefox/2yebzj4a.default/storage/default/moz-extension+++098cbc6a-514b-4e23-a91a-70755caa6025^userContextId=4294967295/idb/3647222921wleabcEoxlt-eengsairo.sqlite-wal\n",
      "/home/feelus/snap/firefox/common/.mozilla/firefox/2yebzj4a.default/storage/default/moz-extension+++9f7e445c-1f55-4aca-aa38-386dee801400^userContextId=4294967295/\n",
      "/home/feelus/snap/firefox/common/.mozilla/firefox/2yebzj4a.default/storage/default/moz-extension+++9f7e445c-1f55-4aca-aa38-386dee801400^userContextId=4294967295/idb/\n",
      "/home/feelus/snap/firefox/common/.mozilla/firefox/2yebzj4a.default/storage/default/moz-extension+++9f7e445c-1f55-4aca-aa38-386dee801400^userContextId=4294967295/idb/3647222921wleabcEoxlt-eengsairo.sqlite\n",
      "/home/feelus/snap/firefox/common/.mozilla/firefox/2yebzj4a.default/storage/default/moz-extension+++9f7e445c-1f55-4aca-aa38-386dee801400^userContextId=4294967295/idb/3647222921wleabcEoxlt-eengsairo.sqlite-wal\n",
      "/home/feelus/snap/firefox/common/.mozilla/firefox/2yebzj4a.default/storage/default/moz-extension+++fb2f57ad-66e1-4108-86a7-5d4fdc297170^userContextId=4294967295/\n",
      "/home/feelus/snap/firefox/common/.mozilla/firefox/2yebzj4a.default/storage/default/moz-extension+++fb2f57ad-66e1-4108-86a7-5d4fdc297170^userContextId=4294967295/idb/\n",
      "/home/feelus/snap/firefox/common/.mozilla/firefox/2yebzj4a.default/storage/default/moz-extension+++fb2f57ad-66e1-4108-86a7-5d4fdc297170^userContextId=4294967295/idb/3647222921wleabcEoxlt-eengsairo.sqlite\n",
      "/home/feelus/snap/firefox/common/.mozilla/firefox/2yebzj4a.default/storage/default/moz-extension+++fb2f57ad-66e1-4108-86a7-5d4fdc297170^userContextId=4294967295/idb/3647222921wleabcEoxlt-eengsairo.sqlite-wal\n",
      "/home/feelus/snap/firefox/common/.mozilla/firefox/2yebzj4a.default/storage/permanent/\n",
      "/home/feelus/snap/firefox/common/.mozilla/firefox/2yebzj4a.default/storage/permanent/chrome/\n",
      "/home/feelus/snap/firefox/common/.mozilla/firefox/2yebzj4a.default/storage/permanent/chrome/idb/\n",
      "/home/feelus/snap/firefox/common/.mozilla/firefox/2yebzj4a.default/storage/permanent/chrome/idb/1657114595AmcateirvtiSty.sqlite\n",
      "/home/feelus/snap/firefox/common/.mozilla/firefox/2yebzj4a.default/storage/permanent/chrome/idb/1657114595AmcateirvtiSty.sqlite-wal\n",
      "/home/feelus/snap/firefox/common/.mozilla/firefox/2yebzj4a.default/storage/permanent/chrome/idb/2918063365piupsah.sqlite\n",
      "/home/feelus/snap/firefox/common/.mozilla/firefox/2yebzj4a.default/storage/permanent/chrome/idb/2918063365piupsah.sqlite-wal\n",
      "/home/feelus/snap/firefox/common/.mozilla/firefox/2yebzj4a.default/storage/permanent/chrome/idb/3870112724rsegmnoittet-es.sqlite\n",
      "/home/feelus/snap/firefox/common/.mozilla/firefox/2yebzj4a.default/storage/permanent/chrome/idb/3870112724rsegmnoittet-es.sqlite-wal\n",
      "/home/feelus/snap/firefox/common/.mozilla/firefox/2yebzj4a.default/synced-tabs.db-shm\n",
      "/home/feelus/snap/firefox/common/.mozilla/firefox/2yebzj4a.default/synced-tabs.db-wal\n",
      "/home/feelus/snap/firefox/common/.mozilla/firefox/2yebzj4a.default/weave/\n",
      "/home/feelus/snap/firefox/common/.mozilla/firefox/2yebzj4a.default/weave/addonsreconciler.json\n",
      "/home/feelus/snap/firefox/common/.mozilla/firefox/2yebzj4a.default/weave/changes/\n",
      "/home/feelus/snap/firefox/common/.mozilla/firefox/2yebzj4a.default/weave/changes/addons.json\n",
      "/home/feelus/snap/firefox/common/.mozilla/firefox/2yebzj4a.default/weave/changes/clients.json\n",
      "/home/feelus/snap/firefox/common/.mozilla/firefox/2yebzj4a.default/weave/changes/forms.json\n",
      "/home/feelus/snap/firefox/common/.mozilla/firefox/2yebzj4a.default/weave/changes/history.json\n",
      "/home/feelus/snap/firefox/common/.mozilla/firefox/2yebzj4a.default/weave/failed/\n",
      "/home/feelus/snap/firefox/common/.mozilla/firefox/2yebzj4a.default/weave/failed/addons.json\n",
      "/home/feelus/snap/firefox/common/.mozilla/firefox/2yebzj4a.default/weave/failed/bookmarks.json\n",
      "/home/feelus/snap/firefox/common/.mozilla/firefox/2yebzj4a.default/weave/failed/clients.json\n",
      "/home/feelus/snap/firefox/common/.mozilla/firefox/2yebzj4a.default/weave/failed/extension-storage.json\n",
      "/home/feelus/snap/firefox/common/.mozilla/firefox/2yebzj4a.default/weave/failed/forms.json\n",
      "/home/feelus/snap/firefox/common/.mozilla/firefox/2yebzj4a.default/weave/failed/history.json\n",
      "/home/feelus/snap/firefox/common/.mozilla/firefox/2yebzj4a.default/weave/failed/passwords.json\n",
      "/home/feelus/snap/firefox/common/.mozilla/firefox/2yebzj4a.default/weave/failed/tabs.json\n",
      "/home/feelus/snap/firmware-updater/\n",
      "/home/feelus/snap/firmware-updater/147/\n",
      "/home/feelus/snap/firmware-updater/147/.config/\n",
      "/home/feelus/snap/firmware-updater/147/.config/ibus/\n",
      "/home/feelus/snap/firmware-updater/147/.config/ibus/bus\n",
      "/home/feelus/snap/telegram-desktop/\n",
      "/home/feelus/snap/telegram-desktop/6489/\n",
      "/home/feelus/snap/telegram-desktop/6489/.local/\n",
      "/home/feelus/snap/telegram-desktop/6489/.local/share/\n",
      "/home/feelus/snap/telegram-desktop/6489/.local/share/TelegramDesktop/\n",
      "/home/feelus/snap/telegram-desktop/6489/.local/share/TelegramDesktop/log.txt\n",
      "/home/feelus/snap/telegram-desktop/6489/.local/share/TelegramDesktop/tdata/\n",
      "/home/feelus/snap/telegram-desktop/6489/.local/share/TelegramDesktop/tdata/D877F783D5D3EF8C/\n",
      "/home/feelus/snap/telegram-desktop/6489/.local/share/TelegramDesktop/tdata/D877F783D5D3EF8C/configs\n",
      "/home/feelus/snap/telegram-desktop/6489/.local/share/TelegramDesktop/tdata/user_data/\n",
      "/home/feelus/snap/telegram-desktop/6489/.local/share/TelegramDesktop/tdata/user_data/cache/\n",
      "/home/feelus/snap/telegram-desktop/6489/.local/share/TelegramDesktop/tdata/user_data/cache/0/\n",
      "/home/feelus/snap/telegram-desktop/6489/.local/share/TelegramDesktop/tdata/user_data/cache/0/03/\n",
      "/home/feelus/snap/telegram-desktop/6489/.local/share/TelegramDesktop/tdata/user_data/cache/0/03/583DE851B67F\n",
      "/home/feelus/snap/telegram-desktop/6489/.local/share/TelegramDesktop/tdata/user_data/cache/0/03/E2CE27DF8A09\n",
      "/home/feelus/snap/telegram-desktop/6489/.local/share/TelegramDesktop/tdata/user_data/cache/0/03/E7F2AE339629\n",
      "/home/feelus/snap/telegram-desktop/6489/.local/share/TelegramDesktop/tdata/user_data/cache/0/04/\n",
      "/home/feelus/snap/telegram-desktop/6489/.local/share/TelegramDesktop/tdata/user_data/cache/0/04/27C0323B0687\n",
      "/home/feelus/snap/telegram-desktop/6489/.local/share/TelegramDesktop/tdata/user_data/cache/0/05/\n",
      "/home/feelus/snap/telegram-desktop/6489/.local/share/TelegramDesktop/tdata/user_data/cache/0/05/491E82E88DE5\n",
      "/home/feelus/snap/telegram-desktop/6489/.local/share/TelegramDesktop/tdata/user_data/cache/0/06/\n",
      "/home/feelus/snap/telegram-desktop/6489/.local/share/TelegramDesktop/tdata/user_data/cache/0/06/26E8F08A0FF4\n",
      "/home/feelus/snap/telegram-desktop/6489/.local/share/TelegramDesktop/tdata/user_data/cache/0/06/456401E76E61\n",
      "/home/feelus/snap/telegram-desktop/6489/.local/share/TelegramDesktop/tdata/user_data/cache/0/0B/\n",
      "/home/feelus/snap/telegram-desktop/6489/.local/share/TelegramDesktop/tdata/user_data/cache/0/0B/1628761D9065\n",
      "/home/feelus/snap/telegram-desktop/6489/.local/share/TelegramDesktop/tdata/user_data/cache/0/0C/\n",
      "/home/feelus/snap/telegram-desktop/6489/.local/share/TelegramDesktop/tdata/user_data/cache/0/0C/8C21883BBCF9\n",
      "/home/feelus/snap/telegram-desktop/6489/.local/share/TelegramDesktop/tdata/user_data/cache/0/0D/\n",
      "/home/feelus/snap/telegram-desktop/6489/.local/share/TelegramDesktop/tdata/user_data/cache/0/0D/3D6BE05E9169\n",
      "/home/feelus/snap/telegram-desktop/6489/.local/share/TelegramDesktop/tdata/user_data/cache/0/0F/\n",
      "/home/feelus/snap/telegram-desktop/6489/.local/share/TelegramDesktop/tdata/user_data/cache/0/0F/DFA4BCB0502C\n",
      "/home/feelus/snap/telegram-desktop/6489/.local/share/TelegramDesktop/tdata/user_data/cache/0/12/\n",
      "/home/feelus/snap/telegram-desktop/6489/.local/share/TelegramDesktop/tdata/user_data/cache/0/12/B546B2CCD89E\n",
      "/home/feelus/snap/telegram-desktop/6489/.local/share/TelegramDesktop/tdata/user_data/cache/0/15/\n",
      "/home/feelus/snap/telegram-desktop/6489/.local/share/TelegramDesktop/tdata/user_data/cache/0/15/06324C2BEC1F\n",
      "/home/feelus/snap/telegram-desktop/6489/.local/share/TelegramDesktop/tdata/user_data/cache/0/16/\n",
      "/home/feelus/snap/telegram-desktop/6489/.local/share/TelegramDesktop/tdata/user_data/cache/0/16/5BB2E8060317\n",
      "/home/feelus/snap/telegram-desktop/6489/.local/share/TelegramDesktop/tdata/user_data/cache/0/16/5F8C67DFB483\n",
      "/home/feelus/snap/telegram-desktop/6489/.local/share/TelegramDesktop/tdata/user_data/cache/0/17/\n",
      "/home/feelus/snap/telegram-desktop/6489/.local/share/TelegramDesktop/tdata/user_data/cache/0/17/2AFE52EF287D\n",
      "/home/feelus/snap/telegram-desktop/6489/.local/share/TelegramDesktop/tdata/user_data/cache/0/17/F0D3BD6322F7\n",
      "/home/feelus/snap/telegram-desktop/6489/.local/share/TelegramDesktop/tdata/user_data/cache/0/18/\n",
      "/home/feelus/snap/telegram-desktop/6489/.local/share/TelegramDesktop/tdata/user_data/cache/0/18/17ABAA7D9F8B\n",
      "/home/feelus/snap/telegram-desktop/6489/.local/share/TelegramDesktop/tdata/user_data/cache/0/1A/\n",
      "/home/feelus/snap/telegram-desktop/6489/.local/share/TelegramDesktop/tdata/user_data/cache/0/1A/6670676E14FF\n",
      "/home/feelus/snap/telegram-desktop/6489/.local/share/TelegramDesktop/tdata/user_data/cache/0/1B/\n",
      "/home/feelus/snap/telegram-desktop/6489/.local/share/TelegramDesktop/tdata/user_data/cache/0/1B/DFE6FE64A90B\n",
      "/home/feelus/snap/telegram-desktop/6489/.local/share/TelegramDesktop/tdata/user_data/cache/0/1C/\n",
      "/home/feelus/snap/telegram-desktop/6489/.local/share/TelegramDesktop/tdata/user_data/cache/0/1C/6E9735194285\n",
      "/home/feelus/snap/telegram-desktop/6489/.local/share/TelegramDesktop/tdata/user_data/cache/0/1C/9C25F77F34EF\n",
      "/home/feelus/snap/telegram-desktop/6489/.local/share/TelegramDesktop/tdata/user_data/cache/0/21/\n",
      "/home/feelus/snap/telegram-desktop/6489/.local/share/TelegramDesktop/tdata/user_data/cache/0/21/00BA3D75DE13\n",
      "/home/feelus/snap/telegram-desktop/6489/.local/share/TelegramDesktop/tdata/user_data/cache/0/24/\n",
      "/home/feelus/snap/telegram-desktop/6489/.local/share/TelegramDesktop/tdata/user_data/cache/0/24/B4D743FB1D4E\n",
      "/home/feelus/snap/telegram-desktop/6489/.local/share/TelegramDesktop/tdata/user_data/cache/0/28/\n",
      "/home/feelus/snap/telegram-desktop/6489/.local/share/TelegramDesktop/tdata/user_data/cache/0/28/98E26B31792E\n",
      "/home/feelus/snap/telegram-desktop/6489/.local/share/TelegramDesktop/tdata/user_data/cache/0/29/\n",
      "/home/feelus/snap/telegram-desktop/6489/.local/share/TelegramDesktop/tdata/user_data/cache/0/29/086D7F42416C\n",
      "/home/feelus/snap/telegram-desktop/6489/.local/share/TelegramDesktop/tdata/user_data/cache/0/29/469F40764007\n",
      "/home/feelus/snap/telegram-desktop/6489/.local/share/TelegramDesktop/tdata/user_data/cache/0/29/E96B008DBA46\n",
      "/home/feelus/snap/telegram-desktop/6489/.local/share/TelegramDesktop/tdata/user_data/cache/0/2B/\n",
      "/home/feelus/snap/telegram-desktop/6489/.local/share/TelegramDesktop/tdata/user_data/cache/0/2B/5790D96C3B0D\n",
      "/home/feelus/snap/telegram-desktop/6489/.local/share/TelegramDesktop/tdata/user_data/cache/0/31/\n",
      "/home/feelus/snap/telegram-desktop/6489/.local/share/TelegramDesktop/tdata/user_data/cache/0/31/A60E2F70AADB\n",
      "/home/feelus/snap/telegram-desktop/6489/.local/share/TelegramDesktop/tdata/user_data/cache/0/33/\n",
      "/home/feelus/snap/telegram-desktop/6489/.local/share/TelegramDesktop/tdata/user_data/cache/0/33/62A453068EC5\n",
      "/home/feelus/snap/telegram-desktop/6489/.local/share/TelegramDesktop/tdata/user_data/cache/0/33/6479842B1425\n",
      "/home/feelus/snap/telegram-desktop/6489/.local/share/TelegramDesktop/tdata/user_data/cache/0/33/7907E72C6712\n",
      "/home/feelus/snap/telegram-desktop/6489/.local/share/TelegramDesktop/tdata/user_data/cache/0/34/\n",
      "/home/feelus/snap/telegram-desktop/6489/.local/share/TelegramDesktop/tdata/user_data/cache/0/34/0C1EDA1E599F\n",
      "/home/feelus/snap/telegram-desktop/6489/.local/share/TelegramDesktop/tdata/user_data/cache/0/37/\n",
      "/home/feelus/snap/telegram-desktop/6489/.local/share/TelegramDesktop/tdata/user_data/cache/0/37/7905241E1A5A\n",
      "/home/feelus/snap/telegram-desktop/6489/.local/share/TelegramDesktop/tdata/user_data/cache/0/39/\n",
      "/home/feelus/snap/telegram-desktop/6489/.local/share/TelegramDesktop/tdata/user_data/cache/0/39/6DD51A68B2E4\n",
      "/home/feelus/snap/telegram-desktop/6489/.local/share/TelegramDesktop/tdata/user_data/cache/0/3B/\n",
      "/home/feelus/snap/telegram-desktop/6489/.local/share/TelegramDesktop/tdata/user_data/cache/0/3B/37F03C8D76AB\n",
      "/home/feelus/snap/telegram-desktop/6489/.local/share/TelegramDesktop/tdata/user_data/cache/0/3B/BF61D82A439A\n",
      "/home/feelus/snap/telegram-desktop/6489/.local/share/TelegramDesktop/tdata/user_data/cache/0/40/\n",
      "/home/feelus/snap/telegram-desktop/6489/.local/share/TelegramDesktop/tdata/user_data/cache/0/40/0FD5AE88D848\n",
      "/home/feelus/snap/telegram-desktop/6489/.local/share/TelegramDesktop/tdata/user_data/cache/0/40/5A939B4BC782\n",
      "/home/feelus/snap/telegram-desktop/6489/.local/share/TelegramDesktop/tdata/user_data/cache/0/41/\n",
      "/home/feelus/snap/telegram-desktop/6489/.local/share/TelegramDesktop/tdata/user_data/cache/0/41/85A2FE6EE432\n",
      "/home/feelus/snap/telegram-desktop/6489/.local/share/TelegramDesktop/tdata/user_data/cache/0/42/\n",
      "/home/feelus/snap/telegram-desktop/6489/.local/share/TelegramDesktop/tdata/user_data/cache/0/42/63F25C003348\n",
      "/home/feelus/snap/telegram-desktop/6489/.local/share/TelegramDesktop/tdata/user_data/cache/0/42/A0EB9D89A8E6\n",
      "/home/feelus/snap/telegram-desktop/6489/.local/share/TelegramDesktop/tdata/user_data/cache/0/44/\n",
      "/home/feelus/snap/telegram-desktop/6489/.local/share/TelegramDesktop/tdata/user_data/cache/0/44/CE95DD5C689B\n",
      "/home/feelus/snap/telegram-desktop/6489/.local/share/TelegramDesktop/tdata/user_data/cache/0/45/\n",
      "/home/feelus/snap/telegram-desktop/6489/.local/share/TelegramDesktop/tdata/user_data/cache/0/45/BE9B5ABEBE49\n",
      "/home/feelus/snap/telegram-desktop/6489/.local/share/TelegramDesktop/tdata/user_data/cache/0/45/C5CB25BA18A6\n",
      "/home/feelus/snap/telegram-desktop/6489/.local/share/TelegramDesktop/tdata/user_data/cache/0/47/\n",
      "/home/feelus/snap/telegram-desktop/6489/.local/share/TelegramDesktop/tdata/user_data/cache/0/47/4C1D5EB47F70\n",
      "/home/feelus/snap/telegram-desktop/6489/.local/share/TelegramDesktop/tdata/user_data/cache/0/47/DCBD51A9196A\n",
      "/home/feelus/snap/telegram-desktop/6489/.local/share/TelegramDesktop/tdata/user_data/cache/0/49/\n",
      "/home/feelus/snap/telegram-desktop/6489/.local/share/TelegramDesktop/tdata/user_data/cache/0/49/9599F60108B8\n",
      "/home/feelus/snap/telegram-desktop/6489/.local/share/TelegramDesktop/tdata/user_data/cache/0/4C/\n",
      "/home/feelus/snap/telegram-desktop/6489/.local/share/TelegramDesktop/tdata/user_data/cache/0/4C/61714F436C30\n",
      "/home/feelus/snap/telegram-desktop/6489/.local/share/TelegramDesktop/tdata/user_data/cache/0/4D/\n",
      "/home/feelus/snap/telegram-desktop/6489/.local/share/TelegramDesktop/tdata/user_data/cache/0/4D/CD6D83D859E2\n",
      "/home/feelus/snap/telegram-desktop/6489/.local/share/TelegramDesktop/tdata/user_data/cache/0/4F/\n",
      "/home/feelus/snap/telegram-desktop/6489/.local/share/TelegramDesktop/tdata/user_data/cache/0/4F/AF2A61BFFD4F\n",
      "/home/feelus/snap/telegram-desktop/6489/.local/share/TelegramDesktop/tdata/user_data/cache/0/50/\n",
      "/home/feelus/snap/telegram-desktop/6489/.local/share/TelegramDesktop/tdata/user_data/cache/0/50/B781A02B272E\n",
      "/home/feelus/snap/telegram-desktop/6489/.local/share/TelegramDesktop/tdata/user_data/cache/0/54/\n",
      "/home/feelus/snap/telegram-desktop/6489/.local/share/TelegramDesktop/tdata/user_data/cache/0/54/197DEABD556F\n",
      "/home/feelus/snap/telegram-desktop/6489/.local/share/TelegramDesktop/tdata/user_data/cache/0/56/\n",
      "/home/feelus/snap/telegram-desktop/6489/.local/share/TelegramDesktop/tdata/user_data/cache/0/56/5A34EF78A272\n",
      "/home/feelus/snap/telegram-desktop/6489/.local/share/TelegramDesktop/tdata/user_data/cache/0/56/9EF837EB44C0\n",
      "/home/feelus/snap/telegram-desktop/6489/.local/share/TelegramDesktop/tdata/user_data/cache/0/58/\n",
      "/home/feelus/snap/telegram-desktop/6489/.local/share/TelegramDesktop/tdata/user_data/cache/0/58/2E08EEB63B61\n",
      "/home/feelus/snap/telegram-desktop/6489/.local/share/TelegramDesktop/tdata/user_data/cache/0/59/\n",
      "/home/feelus/snap/telegram-desktop/6489/.local/share/TelegramDesktop/tdata/user_data/cache/0/59/72BA511D3034\n",
      "/home/feelus/snap/telegram-desktop/6489/.local/share/TelegramDesktop/tdata/user_data/cache/0/5D/\n",
      "/home/feelus/snap/telegram-desktop/6489/.local/share/TelegramDesktop/tdata/user_data/cache/0/5D/3FBD661D0E27\n",
      "/home/feelus/snap/telegram-desktop/6489/.local/share/TelegramDesktop/tdata/user_data/cache/0/5E/\n",
      "/home/feelus/snap/telegram-desktop/6489/.local/share/TelegramDesktop/tdata/user_data/cache/0/5E/C7DCD475983E\n",
      "/home/feelus/snap/telegram-desktop/6489/.local/share/TelegramDesktop/tdata/user_data/cache/0/5F/\n",
      "/home/feelus/snap/telegram-desktop/6489/.local/share/TelegramDesktop/tdata/user_data/cache/0/5F/8411C25C565A\n",
      "/home/feelus/snap/telegram-desktop/6489/.local/share/TelegramDesktop/tdata/user_data/cache/0/5F/E4F9427E8B2F\n",
      "/home/feelus/snap/telegram-desktop/6489/.local/share/TelegramDesktop/tdata/user_data/cache/0/60/\n",
      "/home/feelus/snap/telegram-desktop/6489/.local/share/TelegramDesktop/tdata/user_data/cache/0/60/C53454FDD27C\n",
      "/home/feelus/snap/telegram-desktop/6489/.local/share/TelegramDesktop/tdata/user_data/cache/0/62/\n",
      "/home/feelus/snap/telegram-desktop/6489/.local/share/TelegramDesktop/tdata/user_data/cache/0/62/A741B023F0B5\n",
      "/home/feelus/snap/telegram-desktop/6489/.local/share/TelegramDesktop/tdata/user_data/cache/0/63/\n",
      "/home/feelus/snap/telegram-desktop/6489/.local/share/TelegramDesktop/tdata/user_data/cache/0/63/99EE709E83CE\n",
      "/home/feelus/snap/telegram-desktop/6489/.local/share/TelegramDesktop/tdata/user_data/cache/0/64/\n",
      "/home/feelus/snap/telegram-desktop/6489/.local/share/TelegramDesktop/tdata/user_data/cache/0/64/09E2D5455B48\n",
      "/home/feelus/snap/telegram-desktop/6489/.local/share/TelegramDesktop/tdata/user_data/cache/0/64/208967BCEF1E\n",
      "/home/feelus/snap/telegram-desktop/6489/.local/share/TelegramDesktop/tdata/user_data/cache/0/65/\n",
      "/home/feelus/snap/telegram-desktop/6489/.local/share/TelegramDesktop/tdata/user_data/cache/0/65/E7D6A2F5378D\n",
      "/home/feelus/snap/telegram-desktop/6489/.local/share/TelegramDesktop/tdata/user_data/cache/0/67/\n",
      "/home/feelus/snap/telegram-desktop/6489/.local/share/TelegramDesktop/tdata/user_data/cache/0/67/BED7B17D8636\n",
      "/home/feelus/snap/telegram-desktop/6489/.local/share/TelegramDesktop/tdata/user_data/cache/0/6A/\n",
      "/home/feelus/snap/telegram-desktop/6489/.local/share/TelegramDesktop/tdata/user_data/cache/0/6A/F088D529BF27\n",
      "/home/feelus/snap/telegram-desktop/6489/.local/share/TelegramDesktop/tdata/user_data/cache/0/6B/\n",
      "/home/feelus/snap/telegram-desktop/6489/.local/share/TelegramDesktop/tdata/user_data/cache/0/6B/02E7B461DCD4\n",
      "/home/feelus/snap/telegram-desktop/6489/.local/share/TelegramDesktop/tdata/user_data/cache/0/6B/57972A0B48B6\n",
      "/home/feelus/snap/telegram-desktop/6489/.local/share/TelegramDesktop/tdata/user_data/cache/0/6B/EC9F45A34B5B\n",
      "/home/feelus/snap/telegram-desktop/6489/.local/share/TelegramDesktop/tdata/user_data/cache/0/6E/\n",
      "/home/feelus/snap/telegram-desktop/6489/.local/share/TelegramDesktop/tdata/user_data/cache/0/6E/83C4AACD557F\n",
      "/home/feelus/snap/telegram-desktop/6489/.local/share/TelegramDesktop/tdata/user_data/cache/0/73/\n",
      "/home/feelus/snap/telegram-desktop/6489/.local/share/TelegramDesktop/tdata/user_data/cache/0/73/BA94236D7E98\n",
      "/home/feelus/snap/telegram-desktop/6489/.local/share/TelegramDesktop/tdata/user_data/cache/0/74/\n",
      "/home/feelus/snap/telegram-desktop/6489/.local/share/TelegramDesktop/tdata/user_data/cache/0/74/BF31B5DF33D0\n",
      "/home/feelus/snap/telegram-desktop/6489/.local/share/TelegramDesktop/tdata/user_data/cache/0/75/\n",
      "/home/feelus/snap/telegram-desktop/6489/.local/share/TelegramDesktop/tdata/user_data/cache/0/75/A3B766D6BBF7\n",
      "/home/feelus/snap/telegram-desktop/6489/.local/share/TelegramDesktop/tdata/user_data/cache/0/77/\n",
      "/home/feelus/snap/telegram-desktop/6489/.local/share/TelegramDesktop/tdata/user_data/cache/0/77/FBFA05C50984\n",
      "/home/feelus/snap/telegram-desktop/6489/.local/share/TelegramDesktop/tdata/user_data/cache/0/7A/\n",
      "/home/feelus/snap/telegram-desktop/6489/.local/share/TelegramDesktop/tdata/user_data/cache/0/7A/6C3B6A2F4CA2\n",
      "/home/feelus/snap/telegram-desktop/6489/.local/share/TelegramDesktop/tdata/user_data/cache/0/7C/\n",
      "/home/feelus/snap/telegram-desktop/6489/.local/share/TelegramDesktop/tdata/user_data/cache/0/7C/2715D9E85FDC\n",
      "/home/feelus/snap/telegram-desktop/6489/.local/share/TelegramDesktop/tdata/user_data/cache/0/7C/FAA44377A108\n",
      "/home/feelus/snap/telegram-desktop/6489/.local/share/TelegramDesktop/tdata/user_data/cache/0/7D/\n",
      "/home/feelus/snap/telegram-desktop/6489/.local/share/TelegramDesktop/tdata/user_data/cache/0/7D/8370CED33409\n",
      "/home/feelus/snap/telegram-desktop/6489/.local/share/TelegramDesktop/tdata/user_data/cache/0/7E/\n",
      "/home/feelus/snap/telegram-desktop/6489/.local/share/TelegramDesktop/tdata/user_data/cache/0/7E/BE459538BD29\n",
      "/home/feelus/snap/telegram-desktop/6489/.local/share/TelegramDesktop/tdata/user_data/cache/0/7F/\n",
      "/home/feelus/snap/telegram-desktop/6489/.local/share/TelegramDesktop/tdata/user_data/cache/0/7F/584830B97261\n",
      "/home/feelus/snap/telegram-desktop/6489/.local/share/TelegramDesktop/tdata/user_data/cache/0/7F/6AC1DDAC3D5F\n",
      "/home/feelus/snap/telegram-desktop/6489/.local/share/TelegramDesktop/tdata/user_data/cache/0/7F/82EBB7306928\n",
      "/home/feelus/snap/telegram-desktop/6489/.local/share/TelegramDesktop/tdata/user_data/cache/0/80/\n",
      "/home/feelus/snap/telegram-desktop/6489/.local/share/TelegramDesktop/tdata/user_data/cache/0/80/8892ECFD257D\n",
      "/home/feelus/snap/telegram-desktop/6489/.local/share/TelegramDesktop/tdata/user_data/cache/0/80/9069F684281C\n",
      "/home/feelus/snap/telegram-desktop/6489/.local/share/TelegramDesktop/tdata/user_data/cache/0/81/\n",
      "/home/feelus/snap/telegram-desktop/6489/.local/share/TelegramDesktop/tdata/user_data/cache/0/81/6BA19A9D88F4\n",
      "/home/feelus/snap/telegram-desktop/6489/.local/share/TelegramDesktop/tdata/user_data/cache/0/84/\n",
      "/home/feelus/snap/telegram-desktop/6489/.local/share/TelegramDesktop/tdata/user_data/cache/0/84/6168C8BB0483\n",
      "/home/feelus/snap/telegram-desktop/6489/.local/share/TelegramDesktop/tdata/user_data/cache/0/84/624371C293BB\n",
      "/home/feelus/snap/telegram-desktop/6489/.local/share/TelegramDesktop/tdata/user_data/cache/0/87/\n",
      "/home/feelus/snap/telegram-desktop/6489/.local/share/TelegramDesktop/tdata/user_data/cache/0/87/E992C208827B\n",
      "/home/feelus/snap/telegram-desktop/6489/.local/share/TelegramDesktop/tdata/user_data/cache/0/88/\n",
      "/home/feelus/snap/telegram-desktop/6489/.local/share/TelegramDesktop/tdata/user_data/cache/0/88/0B4AD7E7675F\n",
      "/home/feelus/snap/telegram-desktop/6489/.local/share/TelegramDesktop/tdata/user_data/cache/0/8C/\n",
      "/home/feelus/snap/telegram-desktop/6489/.local/share/TelegramDesktop/tdata/user_data/cache/0/8C/174A3B22A386\n",
      "/home/feelus/snap/telegram-desktop/6489/.local/share/TelegramDesktop/tdata/user_data/cache/0/8C/8F6AF782DBCD\n",
      "/home/feelus/snap/telegram-desktop/6489/.local/share/TelegramDesktop/tdata/user_data/cache/0/8D/\n",
      "/home/feelus/snap/telegram-desktop/6489/.local/share/TelegramDesktop/tdata/user_data/cache/0/8D/BE3DC714A777\n",
      "/home/feelus/snap/telegram-desktop/6489/.local/share/TelegramDesktop/tdata/user_data/cache/0/8D/E4EDD0626060\n",
      "/home/feelus/snap/telegram-desktop/6489/.local/share/TelegramDesktop/tdata/user_data/cache/0/8E/\n",
      "/home/feelus/snap/telegram-desktop/6489/.local/share/TelegramDesktop/tdata/user_data/cache/0/8E/90F760AE23B0\n",
      "/home/feelus/snap/telegram-desktop/6489/.local/share/TelegramDesktop/tdata/user_data/cache/0/91/\n",
      "/home/feelus/snap/telegram-desktop/6489/.local/share/TelegramDesktop/tdata/user_data/cache/0/91/2003CFDA52E0\n",
      "/home/feelus/snap/telegram-desktop/6489/.local/share/TelegramDesktop/tdata/user_data/cache/0/93/\n",
      "/home/feelus/snap/telegram-desktop/6489/.local/share/TelegramDesktop/tdata/user_data/cache/0/93/797F402FA77D\n",
      "/home/feelus/snap/telegram-desktop/6489/.local/share/TelegramDesktop/tdata/user_data/cache/0/94/\n",
      "/home/feelus/snap/telegram-desktop/6489/.local/share/TelegramDesktop/tdata/user_data/cache/0/94/5BB352EE7555\n",
      "/home/feelus/snap/telegram-desktop/6489/.local/share/TelegramDesktop/tdata/user_data/cache/0/94/6BCACB27C3AB\n",
      "/home/feelus/snap/telegram-desktop/6489/.local/share/TelegramDesktop/tdata/user_data/cache/0/94/9F2491DBC4BD\n",
      "/home/feelus/snap/telegram-desktop/6489/.local/share/TelegramDesktop/tdata/user_data/cache/0/94/A5DB09309428\n",
      "/home/feelus/snap/telegram-desktop/6489/.local/share/TelegramDesktop/tdata/user_data/cache/0/96/\n",
      "/home/feelus/snap/telegram-desktop/6489/.local/share/TelegramDesktop/tdata/user_data/cache/0/96/18523FA31E0A\n",
      "/home/feelus/snap/telegram-desktop/6489/.local/share/TelegramDesktop/tdata/user_data/cache/0/97/\n",
      "/home/feelus/snap/telegram-desktop/6489/.local/share/TelegramDesktop/tdata/user_data/cache/0/97/34F6ED4D7D21\n",
      "/home/feelus/snap/telegram-desktop/6489/.local/share/TelegramDesktop/tdata/user_data/cache/0/97/57EC6CACF215\n",
      "/home/feelus/snap/telegram-desktop/6489/.local/share/TelegramDesktop/tdata/user_data/cache/0/98/\n",
      "/home/feelus/snap/telegram-desktop/6489/.local/share/TelegramDesktop/tdata/user_data/cache/0/98/B022BC272579\n",
      "/home/feelus/snap/telegram-desktop/6489/.local/share/TelegramDesktop/tdata/user_data/cache/0/9A/\n",
      "/home/feelus/snap/telegram-desktop/6489/.local/share/TelegramDesktop/tdata/user_data/cache/0/9A/6FA3FD02E0D9\n",
      "/home/feelus/snap/telegram-desktop/6489/.local/share/TelegramDesktop/tdata/user_data/cache/0/9D/\n",
      "/home/feelus/snap/telegram-desktop/6489/.local/share/TelegramDesktop/tdata/user_data/cache/0/9D/6E49185051A3\n",
      "/home/feelus/snap/telegram-desktop/6489/.local/share/TelegramDesktop/tdata/user_data/cache/0/9D/CCEC85AAD8B6\n",
      "/home/feelus/snap/telegram-desktop/6489/.local/share/TelegramDesktop/tdata/user_data/cache/0/9E/\n",
      "/home/feelus/snap/telegram-desktop/6489/.local/share/TelegramDesktop/tdata/user_data/cache/0/9E/562ABF4D8224\n",
      "/home/feelus/snap/telegram-desktop/6489/.local/share/TelegramDesktop/tdata/user_data/cache/0/9F/\n",
      "/home/feelus/snap/telegram-desktop/6489/.local/share/TelegramDesktop/tdata/user_data/cache/0/9F/3DD1FBAEEF01\n",
      "/home/feelus/snap/telegram-desktop/6489/.local/share/TelegramDesktop/tdata/user_data/cache/0/9F/8D73C6054DFE\n",
      "/home/feelus/snap/telegram-desktop/6489/.local/share/TelegramDesktop/tdata/user_data/cache/0/A1/\n",
      "/home/feelus/snap/telegram-desktop/6489/.local/share/TelegramDesktop/tdata/user_data/cache/0/A1/2937E9786C29\n",
      "/home/feelus/snap/telegram-desktop/6489/.local/share/TelegramDesktop/tdata/user_data/cache/0/A3/\n",
      "/home/feelus/snap/telegram-desktop/6489/.local/share/TelegramDesktop/tdata/user_data/cache/0/A3/F142F1E4B844\n",
      "/home/feelus/snap/telegram-desktop/6489/.local/share/TelegramDesktop/tdata/user_data/cache/0/A9/\n",
      "/home/feelus/snap/telegram-desktop/6489/.local/share/TelegramDesktop/tdata/user_data/cache/0/A9/600ECCD6D543\n",
      "/home/feelus/snap/telegram-desktop/6489/.local/share/TelegramDesktop/tdata/user_data/cache/0/A9/97E385307E6C\n",
      "/home/feelus/snap/telegram-desktop/6489/.local/share/TelegramDesktop/tdata/user_data/cache/0/A9/B3E243020FCC\n",
      "/home/feelus/snap/telegram-desktop/6489/.local/share/TelegramDesktop/tdata/user_data/cache/0/AB/\n",
      "/home/feelus/snap/telegram-desktop/6489/.local/share/TelegramDesktop/tdata/user_data/cache/0/AB/5F0A5966D325\n",
      "/home/feelus/snap/telegram-desktop/6489/.local/share/TelegramDesktop/tdata/user_data/cache/0/AB/CD27411BD419\n",
      "/home/feelus/snap/telegram-desktop/6489/.local/share/TelegramDesktop/tdata/user_data/cache/0/AC/\n",
      "/home/feelus/snap/telegram-desktop/6489/.local/share/TelegramDesktop/tdata/user_data/cache/0/AC/DD3EF64E5E7D\n",
      "/home/feelus/snap/telegram-desktop/6489/.local/share/TelegramDesktop/tdata/user_data/cache/0/AF/\n",
      "/home/feelus/snap/telegram-desktop/6489/.local/share/TelegramDesktop/tdata/user_data/cache/0/AF/39B6B2D45BA3\n",
      "/home/feelus/snap/telegram-desktop/6489/.local/share/TelegramDesktop/tdata/user_data/cache/0/B1/\n",
      "/home/feelus/snap/telegram-desktop/6489/.local/share/TelegramDesktop/tdata/user_data/cache/0/B1/E217EC2EF408\n",
      "/home/feelus/snap/telegram-desktop/6489/.local/share/TelegramDesktop/tdata/user_data/cache/0/B3/\n",
      "/home/feelus/snap/telegram-desktop/6489/.local/share/TelegramDesktop/tdata/user_data/cache/0/B3/87F03BB407A5\n",
      "/home/feelus/snap/telegram-desktop/6489/.local/share/TelegramDesktop/tdata/user_data/cache/0/B7/\n",
      "/home/feelus/snap/telegram-desktop/6489/.local/share/TelegramDesktop/tdata/user_data/cache/0/B7/4A4E4373AC10\n",
      "/home/feelus/snap/telegram-desktop/6489/.local/share/TelegramDesktop/tdata/user_data/cache/0/B7/830C131FF085\n",
      "/home/feelus/snap/telegram-desktop/6489/.local/share/TelegramDesktop/tdata/user_data/cache/0/B7/B1DBAAA7E5DE\n",
      "/home/feelus/snap/telegram-desktop/6489/.local/share/TelegramDesktop/tdata/user_data/cache/0/B8/\n",
      "/home/feelus/snap/telegram-desktop/6489/.local/share/TelegramDesktop/tdata/user_data/cache/0/B8/722FCB2A84C8\n",
      "/home/feelus/snap/telegram-desktop/6489/.local/share/TelegramDesktop/tdata/user_data/cache/0/B9/\n",
      "/home/feelus/snap/telegram-desktop/6489/.local/share/TelegramDesktop/tdata/user_data/cache/0/B9/AE90E7A34098\n",
      "/home/feelus/snap/telegram-desktop/6489/.local/share/TelegramDesktop/tdata/user_data/cache/0/BB/\n",
      "/home/feelus/snap/telegram-desktop/6489/.local/share/TelegramDesktop/tdata/user_data/cache/0/BB/81744D2B27EC\n",
      "/home/feelus/snap/telegram-desktop/6489/.local/share/TelegramDesktop/tdata/user_data/cache/0/BD/\n",
      "/home/feelus/snap/telegram-desktop/6489/.local/share/TelegramDesktop/tdata/user_data/cache/0/BD/EC6C61F3FEB8\n",
      "/home/feelus/snap/telegram-desktop/6489/.local/share/TelegramDesktop/tdata/user_data/cache/0/BE/\n",
      "/home/feelus/snap/telegram-desktop/6489/.local/share/TelegramDesktop/tdata/user_data/cache/0/BE/A22DA17CAEF2\n",
      "/home/feelus/snap/telegram-desktop/6489/.local/share/TelegramDesktop/tdata/user_data/cache/0/BE/D0C59749DD77\n",
      "/home/feelus/snap/telegram-desktop/6489/.local/share/TelegramDesktop/tdata/user_data/cache/0/C2/\n",
      "/home/feelus/snap/telegram-desktop/6489/.local/share/TelegramDesktop/tdata/user_data/cache/0/C2/2CA9936460DB\n",
      "/home/feelus/snap/telegram-desktop/6489/.local/share/TelegramDesktop/tdata/user_data/cache/0/C2/78A5AA3C8415\n",
      "/home/feelus/snap/telegram-desktop/6489/.local/share/TelegramDesktop/tdata/user_data/cache/0/C2/F90ED01F61CC\n",
      "/home/feelus/snap/telegram-desktop/6489/.local/share/TelegramDesktop/tdata/user_data/cache/0/C3/\n",
      "/home/feelus/snap/telegram-desktop/6489/.local/share/TelegramDesktop/tdata/user_data/cache/0/C3/2B5CEA2F555E\n",
      "/home/feelus/snap/telegram-desktop/6489/.local/share/TelegramDesktop/tdata/user_data/cache/0/C4/\n",
      "/home/feelus/snap/telegram-desktop/6489/.local/share/TelegramDesktop/tdata/user_data/cache/0/C4/332F3ED9277D\n",
      "/home/feelus/snap/telegram-desktop/6489/.local/share/TelegramDesktop/tdata/user_data/cache/0/C7/\n",
      "/home/feelus/snap/telegram-desktop/6489/.local/share/TelegramDesktop/tdata/user_data/cache/0/C7/26CAD5BBE3F7\n",
      "/home/feelus/snap/telegram-desktop/6489/.local/share/TelegramDesktop/tdata/user_data/cache/0/C9/\n",
      "/home/feelus/snap/telegram-desktop/6489/.local/share/TelegramDesktop/tdata/user_data/cache/0/C9/666E79594F38\n",
      "/home/feelus/snap/telegram-desktop/6489/.local/share/TelegramDesktop/tdata/user_data/cache/0/CA/\n",
      "/home/feelus/snap/telegram-desktop/6489/.local/share/TelegramDesktop/tdata/user_data/cache/0/CA/6D35BE951F62\n",
      "/home/feelus/snap/telegram-desktop/6489/.local/share/TelegramDesktop/tdata/user_data/cache/0/CE/\n",
      "/home/feelus/snap/telegram-desktop/6489/.local/share/TelegramDesktop/tdata/user_data/cache/0/CE/A8215420056C\n",
      "/home/feelus/snap/telegram-desktop/6489/.local/share/TelegramDesktop/tdata/user_data/cache/0/D0/\n",
      "/home/feelus/snap/telegram-desktop/6489/.local/share/TelegramDesktop/tdata/user_data/cache/0/D0/F9A9F618B34B\n",
      "/home/feelus/snap/telegram-desktop/6489/.local/share/TelegramDesktop/tdata/user_data/cache/0/D1/\n",
      "/home/feelus/snap/telegram-desktop/6489/.local/share/TelegramDesktop/tdata/user_data/cache/0/D1/422DC7807149\n",
      "/home/feelus/snap/telegram-desktop/6489/.local/share/TelegramDesktop/tdata/user_data/cache/0/D2/\n",
      "/home/feelus/snap/telegram-desktop/6489/.local/share/TelegramDesktop/tdata/user_data/cache/0/D2/78F977AC3BCE\n",
      "/home/feelus/snap/telegram-desktop/6489/.local/share/TelegramDesktop/tdata/user_data/cache/0/D2/881071670E47\n",
      "/home/feelus/snap/telegram-desktop/6489/.local/share/TelegramDesktop/tdata/user_data/cache/0/D2/EED9D4E594E2\n",
      "/home/feelus/snap/telegram-desktop/6489/.local/share/TelegramDesktop/tdata/user_data/cache/0/D3/\n",
      "/home/feelus/snap/telegram-desktop/6489/.local/share/TelegramDesktop/tdata/user_data/cache/0/D3/D1900623AED1\n",
      "/home/feelus/snap/telegram-desktop/6489/.local/share/TelegramDesktop/tdata/user_data/cache/0/D4/\n",
      "/home/feelus/snap/telegram-desktop/6489/.local/share/TelegramDesktop/tdata/user_data/cache/0/D4/3893DBB91F87\n",
      "/home/feelus/snap/telegram-desktop/6489/.local/share/TelegramDesktop/tdata/user_data/cache/0/D5/\n",
      "/home/feelus/snap/telegram-desktop/6489/.local/share/TelegramDesktop/tdata/user_data/cache/0/D5/785AB6819381\n",
      "/home/feelus/snap/telegram-desktop/6489/.local/share/TelegramDesktop/tdata/user_data/cache/0/DB/\n",
      "/home/feelus/snap/telegram-desktop/6489/.local/share/TelegramDesktop/tdata/user_data/cache/0/DB/963A3D9629C8\n",
      "/home/feelus/snap/telegram-desktop/6489/.local/share/TelegramDesktop/tdata/user_data/cache/0/DC/\n",
      "/home/feelus/snap/telegram-desktop/6489/.local/share/TelegramDesktop/tdata/user_data/cache/0/DC/D3F2FCC86F43\n",
      "/home/feelus/snap/telegram-desktop/6489/.local/share/TelegramDesktop/tdata/user_data/cache/0/DD/\n",
      "/home/feelus/snap/telegram-desktop/6489/.local/share/TelegramDesktop/tdata/user_data/cache/0/DD/F9B2B0EFE732\n",
      "/home/feelus/snap/telegram-desktop/6489/.local/share/TelegramDesktop/tdata/user_data/cache/0/DE/\n",
      "/home/feelus/snap/telegram-desktop/6489/.local/share/TelegramDesktop/tdata/user_data/cache/0/DE/7EC7CF204A8B\n",
      "/home/feelus/snap/telegram-desktop/6489/.local/share/TelegramDesktop/tdata/user_data/cache/0/E5/\n",
      "/home/feelus/snap/telegram-desktop/6489/.local/share/TelegramDesktop/tdata/user_data/cache/0/E5/2E103E1EF178\n",
      "/home/feelus/snap/telegram-desktop/6489/.local/share/TelegramDesktop/tdata/user_data/cache/0/E7/\n",
      "/home/feelus/snap/telegram-desktop/6489/.local/share/TelegramDesktop/tdata/user_data/cache/0/E7/1E3B24827B4C\n",
      "/home/feelus/snap/telegram-desktop/6489/.local/share/TelegramDesktop/tdata/user_data/cache/0/EA/\n",
      "/home/feelus/snap/telegram-desktop/6489/.local/share/TelegramDesktop/tdata/user_data/cache/0/EA/274182A98C3C\n",
      "/home/feelus/snap/telegram-desktop/6489/.local/share/TelegramDesktop/tdata/user_data/cache/0/EA/A3BCC39DDB89\n",
      "/home/feelus/snap/telegram-desktop/6489/.local/share/TelegramDesktop/tdata/user_data/cache/0/EA/BF66FC9FD9B5\n",
      "/home/feelus/snap/telegram-desktop/6489/.local/share/TelegramDesktop/tdata/user_data/cache/0/EB/\n",
      "/home/feelus/snap/telegram-desktop/6489/.local/share/TelegramDesktop/tdata/user_data/cache/0/EB/9918BE06D5AC\n",
      "/home/feelus/snap/telegram-desktop/6489/.local/share/TelegramDesktop/tdata/user_data/cache/0/EC/\n",
      "/home/feelus/snap/telegram-desktop/6489/.local/share/TelegramDesktop/tdata/user_data/cache/0/EC/421C9C23C6C0\n",
      "/home/feelus/snap/telegram-desktop/6489/.local/share/TelegramDesktop/tdata/user_data/cache/0/EC/F01AA236F284\n",
      "/home/feelus/snap/telegram-desktop/6489/.local/share/TelegramDesktop/tdata/user_data/cache/0/EE/\n",
      "/home/feelus/snap/telegram-desktop/6489/.local/share/TelegramDesktop/tdata/user_data/cache/0/EE/6D067D0E479B\n",
      "/home/feelus/snap/telegram-desktop/6489/.local/share/TelegramDesktop/tdata/user_data/cache/0/F0/\n",
      "/home/feelus/snap/telegram-desktop/6489/.local/share/TelegramDesktop/tdata/user_data/cache/0/F0/1DA2425391E4\n",
      "/home/feelus/snap/telegram-desktop/6489/.local/share/TelegramDesktop/tdata/user_data/cache/0/F1/\n",
      "/home/feelus/snap/telegram-desktop/6489/.local/share/TelegramDesktop/tdata/user_data/cache/0/F1/E423CB547D8D\n",
      "/home/feelus/snap/telegram-desktop/6489/.local/share/TelegramDesktop/tdata/user_data/cache/0/F2/\n",
      "/home/feelus/snap/telegram-desktop/6489/.local/share/TelegramDesktop/tdata/user_data/cache/0/F2/24FE573BF9D9\n",
      "/home/feelus/snap/telegram-desktop/6489/.local/share/TelegramDesktop/tdata/user_data/cache/0/F5/\n",
      "/home/feelus/snap/telegram-desktop/6489/.local/share/TelegramDesktop/tdata/user_data/cache/0/F5/660868BA75EE\n",
      "/home/feelus/snap/telegram-desktop/6489/.local/share/TelegramDesktop/tdata/user_data/cache/0/FA/\n",
      "/home/feelus/snap/telegram-desktop/6489/.local/share/TelegramDesktop/tdata/user_data/cache/0/FA/6640560E246A\n",
      "/home/feelus/snap/telegram-desktop/6489/.local/share/TelegramDesktop/tdata/user_data/cache/0/FB/\n",
      "/home/feelus/snap/telegram-desktop/6489/.local/share/TelegramDesktop/tdata/user_data/cache/0/FB/A41F63B2D7AE\n",
      "/home/feelus/snap/telegram-desktop/6489/.local/share/TelegramDesktop/tdata/user_data/cache/0/FC/\n",
      "/home/feelus/snap/telegram-desktop/6489/.local/share/TelegramDesktop/tdata/user_data/cache/0/FC/8A9050EF0721\n",
      "/home/feelus/snap/telegram-desktop/6489/.local/share/TelegramDesktop/tdata/user_data/cache/0/FD/\n",
      "/home/feelus/snap/telegram-desktop/6489/.local/share/TelegramDesktop/tdata/user_data/cache/0/FD/D7174CA8AE20\n",
      "/home/feelus/snap/telegram-desktop/6489/.local/share/TelegramDesktop/tdata/user_data/cache/0/FE/\n",
      "/home/feelus/snap/telegram-desktop/6489/.local/share/TelegramDesktop/tdata/user_data/cache/0/FE/8E0BCC8A4316\n",
      "/home/feelus/snap/telegram-desktop/6489/.local/share/TelegramDesktop/tdata/user_data/cache/0/FF/\n",
      "/home/feelus/snap/telegram-desktop/6489/.local/share/TelegramDesktop/tdata/user_data/cache/0/FF/93D05ED091AF\n",
      "/home/feelus/snap/telegram-desktop/6489/.local/share/TelegramDesktop/tdata/user_data/cache/0/binlog\n",
      "/home/feelus/snap/telegram-desktop/6489/.local/share/TelegramDesktop/tdata/user_data/media_cache/\n",
      "/home/feelus/snap/telegram-desktop/6489/.local/share/TelegramDesktop/tdata/user_data/media_cache/0/\n",
      "/home/feelus/snap/telegram-desktop/6489/.local/share/TelegramDesktop/tdata/user_data/media_cache/0/binlog\n",
      "/home/feelus/Загрузки/\n",
      "/home/feelus/Загрузки/STG-backups-FF-134.0.2/\n",
      "/home/feelus/Загрузки/STG-backups-FF-134.0.2/1\n",
      "/home/feelus/Загрузки/STG-backups-FF-134.0.2/auto-stg-backup-day-of-month-26@drive4ik.json\n"
     ]
    }
   ],
   "source": [
    "fdb.list_modified()"
   ]
  },
  {
   "cell_type": "code",
   "execution_count": 5,
   "id": "e1d6c7d1-6424-437d-a8d2-7dca3728a4d7",
   "metadata": {
    "scrolled": true
   },
   "outputs": [
    {
     "name": "stdout",
     "output_type": "stream",
     "text": [
      "cnt\tid ?D\tpath\n",
      "--------------------\n",
      "1\t104884  \t/home/feelus/.config/dconf/user\n",
      "2\t104324  \t/home/feelus/.config/sublime-text/Local/Auto Save Session.sublime_session\n",
      "1\t105023  \t/home/feelus/.config/tiling-assistant/tiledSessionRestore.json\n",
      "3\t30195  \t/home/feelus/.ipython/profile_default/history.sqlite\n",
      "2\t105594  \t/home/feelus/.local/share/gnome-shell/1\n",
      "3\t2219  \t/home/feelus/.local/share/gnome-shell/application_state\n",
      "1\t2205  \t/home/feelus/.local/share/gvfs-metadata/root\n",
      "1\t105404  \t/home/feelus/.local/share/gvfs-metadata/root-288e192d.log\n",
      "1\t2202 D\t/home/feelus/.local/share/gvfs-metadata/root-9a4f5152.log\n",
      "1\t2214  \t/home/feelus/.local/share/xorg/Xorg.0.log\n",
      "1\t2147  \t/home/feelus/.local/state/wireplumber/default-routes\n",
      "4\t90845  \t/home/feelus/pyfiles/src/Untitled.ipynb\n",
      "1\t90859  \t/home/feelus/pyfiles/src/files2.db\n",
      "2\t90856  \t/home/feelus/pyfiles/src/filesdb.py\n",
      "2\t90851  \t/home/feelus/pyfiles/src/home.db\n",
      "3\t105386  \t/home/feelus/pyfiles/src/home.db-shm\n",
      "5\t105385  \t/home/feelus/pyfiles/src/home.db-wal\n",
      "2\t105591 D\t/home/feelus/pyfiles/src/.~Untitled.ipynb\n",
      "1\t90850 D\t/home/feelus/pyfiles/src/files2.db-shm\n",
      "1\t90849 D\t/home/feelus/pyfiles/src/files2.db-wal\n",
      "1\t90854 D\t/home/feelus/pyfiles/src/home.db-journal\n",
      "2\t105611  \t/home/feelus/snap/firefox/5647/.local/share/1\n",
      "2\t67515  \t/home/feelus/snap/firefox/5647/.local/share/recently-used.xbel\n",
      "2\t105596  \t/home/feelus/snap/firefox/common/.cache/mozilla/firefox/2yebzj4a.default/1\n",
      "3\t67589  \t/home/feelus/snap/firefox/common/.cache/mozilla/firefox/2yebzj4a.default/activity-stream.discovery_stream.json\n",
      "3\t74135  \t/home/feelus/snap/firefox/common/.cache/mozilla/firefox/2yebzj4a.default/cache2/entries/112D3454505F1577CF1EFDABDD32B61879AE4D7A\n",
      "1\t105638  \t/home/feelus/snap/firefox/common/.cache/mozilla/firefox/2yebzj4a.default/cache2/entries/22DE0BFF4D8217D32CD431B1F583AB36D44669F5\n",
      "1\t105407  \t/home/feelus/snap/firefox/common/.cache/mozilla/firefox/2yebzj4a.default/cache2/entries/372A702BC3D800C64254D32A75B6E4CA25049E2A\n",
      "2\t74444  \t/home/feelus/snap/firefox/common/.cache/mozilla/firefox/2yebzj4a.default/cache2/entries/55AAF2FE5C109566AB1EAE7A57991F9BD9B09F55\n",
      "1\t73749  \t/home/feelus/snap/firefox/common/.cache/mozilla/firefox/2yebzj4a.default/cache2/entries/63F48F4F7F1BC3195F5AB831F9794F3DBA2D30E1\n",
      "1\t105412  \t/home/feelus/snap/firefox/common/.cache/mozilla/firefox/2yebzj4a.default/cache2/entries/6983FBF15331BE559CF5239CE650F9DD6970B505\n",
      "1\t105413  \t/home/feelus/snap/firefox/common/.cache/mozilla/firefox/2yebzj4a.default/cache2/entries/6CD934AD0AE1E7498A5949F845117D508A23B67E\n",
      "1\t72914  \t/home/feelus/snap/firefox/common/.cache/mozilla/firefox/2yebzj4a.default/cache2/entries/6D89348819C8881868053197CA0754F36784BF5F\n",
      "1\t105408  \t/home/feelus/snap/firefox/common/.cache/mozilla/firefox/2yebzj4a.default/cache2/entries/6E2FE87261FCFF754D74D4A1F09D300271D683B2\n",
      "1\t105622  \t/home/feelus/snap/firefox/common/.cache/mozilla/firefox/2yebzj4a.default/cache2/entries/73FBEF54C4D2EC46C27ABAA36FD0CB07D7731EDE\n",
      "1\t105623  \t/home/feelus/snap/firefox/common/.cache/mozilla/firefox/2yebzj4a.default/cache2/entries/7B6E05D240ECDCDEA2728C26C648951D6556DABE\n",
      "1\t105639  \t/home/feelus/snap/firefox/common/.cache/mozilla/firefox/2yebzj4a.default/cache2/entries/824C0821DCC118CD1C207B164BBEC99CAFFECFB7\n",
      "1\t71080  \t/home/feelus/snap/firefox/common/.cache/mozilla/firefox/2yebzj4a.default/cache2/entries/8E900591D6D17A4E196980A55F72386736F8B3CB\n",
      "1\t105624  \t/home/feelus/snap/firefox/common/.cache/mozilla/firefox/2yebzj4a.default/cache2/entries/A3CF44FB781C2462E4191DCBAF024AD6483FF566\n",
      "1\t105410  \t/home/feelus/snap/firefox/common/.cache/mozilla/firefox/2yebzj4a.default/cache2/entries/B879DFBCE50AFB16EDE401550910C4303139143C\n",
      "1\t105405  \t/home/feelus/snap/firefox/common/.cache/mozilla/firefox/2yebzj4a.default/cache2/entries/C363A4D0505B7C2E6CDC089D3CADAFC1AAEC6C7C\n",
      "1\t105414  \t/home/feelus/snap/firefox/common/.cache/mozilla/firefox/2yebzj4a.default/cache2/entries/CDCF5C529D4F9395AD8506C3B9D17AE29F176F9D\n",
      "3\t74846  \t/home/feelus/snap/firefox/common/.cache/mozilla/firefox/2yebzj4a.default/cache2/entries/E56624C8F84395B6330CF01709E38BA6AA222F9A\n",
      "1\t105409  \t/home/feelus/snap/firefox/common/.cache/mozilla/firefox/2yebzj4a.default/cache2/entries/E5A6A633E19A693C86663F1051E1F6AA43936922\n",
      "2\t105617 D\t/home/feelus/snap/firefox/common/.cache/mozilla/firefox/2yebzj4a.default/cache2/entries/00E10F1C84261DCD8CAFCB65F84BAED1F31A6182\n",
      "2\t105580 D\t/home/feelus/snap/firefox/common/.cache/mozilla/firefox/2yebzj4a.default/cache2/entries/06C0939434BFC223E39B69376612BDB64B07A35B\n",
      "2\t105616 D\t/home/feelus/snap/firefox/common/.cache/mozilla/firefox/2yebzj4a.default/cache2/entries/1064E2D4331C229A459CED24BA75B46AD7651F13\n",
      "2\t105620 D\t/home/feelus/snap/firefox/common/.cache/mozilla/firefox/2yebzj4a.default/cache2/entries/1439EAB08C9EBB6C6EF323008213192C19216C27\n",
      "2\t105606 D\t/home/feelus/snap/firefox/common/.cache/mozilla/firefox/2yebzj4a.default/cache2/entries/17EE52CAF3A29C0A34E0D6265551FC0545B94FF7\n",
      "2\t105388 D\t/home/feelus/snap/firefox/common/.cache/mozilla/firefox/2yebzj4a.default/cache2/entries/191708D2EF01726777A49F1C57747F862503EB5C\n",
      "2\t105615 D\t/home/feelus/snap/firefox/common/.cache/mozilla/firefox/2yebzj4a.default/cache2/entries/194291BFC070B4B57D59FA14BB8F14E705D20057\n",
      "2\t105614 D\t/home/feelus/snap/firefox/common/.cache/mozilla/firefox/2yebzj4a.default/cache2/entries/2759C5292755AA01D62F4E2EFDADCBC80C15EB28\n",
      "2\t105603 D\t/home/feelus/snap/firefox/common/.cache/mozilla/firefox/2yebzj4a.default/cache2/entries/2CAE470D45A643834BDAE1AD05C0FCE34E110E45\n",
      "2\t105605 D\t/home/feelus/snap/firefox/common/.cache/mozilla/firefox/2yebzj4a.default/cache2/entries/322DF2C560A3569939E851E9692DABAC8203F76F\n",
      "2\t105600 D\t/home/feelus/snap/firefox/common/.cache/mozilla/firefox/2yebzj4a.default/cache2/entries/408BDBDE0B30F4726CE56A2A68916804FB43299E\n",
      "2\t105593 D\t/home/feelus/snap/firefox/common/.cache/mozilla/firefox/2yebzj4a.default/cache2/entries/41296C916B37FB8D81800B73CF900B30A79756E5\n",
      "2\t105602 D\t/home/feelus/snap/firefox/common/.cache/mozilla/firefox/2yebzj4a.default/cache2/entries/4556FBC471BC32269999F7D3389DFFE8CB613393\n",
      "2\t105582 D\t/home/feelus/snap/firefox/common/.cache/mozilla/firefox/2yebzj4a.default/cache2/entries/49B6FCA76DA01B769B1A79837AA9F1F93B68BA65\n",
      "2\t105590 D\t/home/feelus/snap/firefox/common/.cache/mozilla/firefox/2yebzj4a.default/cache2/entries/5589F92A7A667CD87661E935886C751CE3C7355D\n",
      "2\t105601 D\t/home/feelus/snap/firefox/common/.cache/mozilla/firefox/2yebzj4a.default/cache2/entries/5E073F82B7D70378764B8786F4F32F74031CD4F2\n",
      "2\t105579 D\t/home/feelus/snap/firefox/common/.cache/mozilla/firefox/2yebzj4a.default/cache2/entries/764117610823B57107978CF3D06666CB45720677\n",
      "1\t71263 D\t/home/feelus/snap/firefox/common/.cache/mozilla/firefox/2yebzj4a.default/cache2/entries/773145828ADE81481DE28A386FB404069AADCA5B\n",
      "2\t105589 D\t/home/feelus/snap/firefox/common/.cache/mozilla/firefox/2yebzj4a.default/cache2/entries/779E260602BCB634900EEDFBF5623AF48213BA1B\n",
      "2\t105621 D\t/home/feelus/snap/firefox/common/.cache/mozilla/firefox/2yebzj4a.default/cache2/entries/8869E31380B6A88AD37F909E9299082474F8A983\n",
      "2\t105390 D\t/home/feelus/snap/firefox/common/.cache/mozilla/firefox/2yebzj4a.default/cache2/entries/8A61990EED7353BEBE8CA8EF1AC1CD3A67C76914\n",
      "1\t69859 D\t/home/feelus/snap/firefox/common/.cache/mozilla/firefox/2yebzj4a.default/cache2/entries/90AD6BA73FDDB3A135D1F6089FBE0233A28169B4\n",
      "2\t105608 D\t/home/feelus/snap/firefox/common/.cache/mozilla/firefox/2yebzj4a.default/cache2/entries/91E14034D2A689EB294345B0330C4207441B852E\n",
      "2\t105618 D\t/home/feelus/snap/firefox/common/.cache/mozilla/firefox/2yebzj4a.default/cache2/entries/AB3FB0312AA71381058F882488F882383566F719\n",
      "2\t105387 D\t/home/feelus/snap/firefox/common/.cache/mozilla/firefox/2yebzj4a.default/cache2/entries/ADAAC1B8FF1D5FCD6ECAFB13BE0FBC398CC7CABB\n",
      "2\t105389 D\t/home/feelus/snap/firefox/common/.cache/mozilla/firefox/2yebzj4a.default/cache2/entries/B0957CFD0B547A86F61E5BA3D30B4F095227C5DD\n",
      "2\t105411 D\t/home/feelus/snap/firefox/common/.cache/mozilla/firefox/2yebzj4a.default/cache2/entries/C3A9DD85BC8715793D2A3A538FF77090ADB39C75\n",
      "2\t105406 D\t/home/feelus/snap/firefox/common/.cache/mozilla/firefox/2yebzj4a.default/cache2/entries/C5F929C1E789C495D5EFF91FDD21C1D51155AF71\n",
      "2\t105581 D\t/home/feelus/snap/firefox/common/.cache/mozilla/firefox/2yebzj4a.default/cache2/entries/D28633A6FD50C68A664BDF95B1D92AA754049D28\n",
      "2\t105607 D\t/home/feelus/snap/firefox/common/.cache/mozilla/firefox/2yebzj4a.default/cache2/entries/DA299DC7607951571E3BE2B56349000636D1D489\n",
      "2\t105599 D\t/home/feelus/snap/firefox/common/.cache/mozilla/firefox/2yebzj4a.default/cache2/entries/E2C3B35C47E432F3544F6ECE4821F274B7FDBA5C\n",
      "1\t68315 D\t/home/feelus/snap/firefox/common/.cache/mozilla/firefox/2yebzj4a.default/cache2/entries/E4A21765A8F49833B70B52F933D19BC6ED9C4B15\n",
      "1\t71224 D\t/home/feelus/snap/firefox/common/.cache/mozilla/firefox/2yebzj4a.default/cache2/entries/E9F55EB3A89F6D996FD439FF5AFF888F5D9A493A\n",
      "2\t105592 D\t/home/feelus/snap/firefox/common/.cache/mozilla/firefox/2yebzj4a.default/cache2/entries/EBF8B268470EE444C712E38B4FBAC0DE997952CB\n",
      "2\t67612  \t/home/feelus/snap/firefox/common/.cache/mozilla/firefox/2yebzj4a.default/cache2/index\n",
      "2\t76199  \t/home/feelus/snap/firefox/common/.cache/mozilla/firefox/2yebzj4a.default/safebrowsing/ads-track-digest256.sbstore\n",
      "2\t76176  \t/home/feelus/snap/firefox/common/.cache/mozilla/firefox/2yebzj4a.default/safebrowsing/ads-track-digest256.vlpset\n",
      "2\t76193  \t/home/feelus/snap/firefox/common/.cache/mozilla/firefox/2yebzj4a.default/safebrowsing/analytics-track-digest256.sbstore\n",
      "2\t76180  \t/home/feelus/snap/firefox/common/.cache/mozilla/firefox/2yebzj4a.default/safebrowsing/analytics-track-digest256.vlpset\n",
      "2\t76177  \t/home/feelus/snap/firefox/common/.cache/mozilla/firefox/2yebzj4a.default/safebrowsing/base-cryptomining-track-digest256.sbstore\n",
      "2\t76179  \t/home/feelus/snap/firefox/common/.cache/mozilla/firefox/2yebzj4a.default/safebrowsing/base-cryptomining-track-digest256.vlpset\n",
      "2\t76195  \t/home/feelus/snap/firefox/common/.cache/mozilla/firefox/2yebzj4a.default/safebrowsing/base-email-track-digest256.sbstore\n",
      "2\t76183  \t/home/feelus/snap/firefox/common/.cache/mozilla/firefox/2yebzj4a.default/safebrowsing/base-email-track-digest256.vlpset\n",
      "2\t76174  \t/home/feelus/snap/firefox/common/.cache/mozilla/firefox/2yebzj4a.default/safebrowsing/base-fingerprinting-track-digest256.sbstore\n",
      "2\t76190  \t/home/feelus/snap/firefox/common/.cache/mozilla/firefox/2yebzj4a.default/safebrowsing/base-fingerprinting-track-digest256.vlpset\n",
      "2\t76196  \t/home/feelus/snap/firefox/common/.cache/mozilla/firefox/2yebzj4a.default/safebrowsing/content-email-track-digest256.sbstore\n",
      "2\t76192  \t/home/feelus/snap/firefox/common/.cache/mozilla/firefox/2yebzj4a.default/safebrowsing/content-email-track-digest256.vlpset\n",
      "2\t76191  \t/home/feelus/snap/firefox/common/.cache/mozilla/firefox/2yebzj4a.default/safebrowsing/content-track-digest256.sbstore\n",
      "2\t76194  \t/home/feelus/snap/firefox/common/.cache/mozilla/firefox/2yebzj4a.default/safebrowsing/content-track-digest256.vlpset\n",
      "2\t76181  \t/home/feelus/snap/firefox/common/.cache/mozilla/firefox/2yebzj4a.default/safebrowsing/google-trackwhite-digest256.sbstore\n",
      "2\t76187  \t/home/feelus/snap/firefox/common/.cache/mozilla/firefox/2yebzj4a.default/safebrowsing/google-trackwhite-digest256.vlpset\n",
      "2\t76208  \t/home/feelus/snap/firefox/common/.cache/mozilla/firefox/2yebzj4a.default/safebrowsing/google4/goog-badbinurl-proto.metadata\n",
      "2\t76203  \t/home/feelus/snap/firefox/common/.cache/mozilla/firefox/2yebzj4a.default/safebrowsing/google4/goog-badbinurl-proto.vlpset\n",
      "2\t76201  \t/home/feelus/snap/firefox/common/.cache/mozilla/firefox/2yebzj4a.default/safebrowsing/google4/goog-downloadwhite-proto.metadata\n",
      "2\t76204  \t/home/feelus/snap/firefox/common/.cache/mozilla/firefox/2yebzj4a.default/safebrowsing/google4/goog-downloadwhite-proto.vlpset\n",
      "2\t76207  \t/home/feelus/snap/firefox/common/.cache/mozilla/firefox/2yebzj4a.default/safebrowsing/google4/goog-malware-proto.metadata\n",
      "2\t76209  \t/home/feelus/snap/firefox/common/.cache/mozilla/firefox/2yebzj4a.default/safebrowsing/google4/goog-malware-proto.vlpset\n",
      "2\t76210  \t/home/feelus/snap/firefox/common/.cache/mozilla/firefox/2yebzj4a.default/safebrowsing/google4/goog-phish-proto.metadata\n",
      "2\t76205  \t/home/feelus/snap/firefox/common/.cache/mozilla/firefox/2yebzj4a.default/safebrowsing/google4/goog-phish-proto.vlpset\n",
      "2\t76202  \t/home/feelus/snap/firefox/common/.cache/mozilla/firefox/2yebzj4a.default/safebrowsing/google4/goog-unwanted-proto.metadata\n",
      "2\t76206  \t/home/feelus/snap/firefox/common/.cache/mozilla/firefox/2yebzj4a.default/safebrowsing/google4/goog-unwanted-proto.vlpset\n",
      "2\t76185  \t/home/feelus/snap/firefox/common/.cache/mozilla/firefox/2yebzj4a.default/safebrowsing/mozplugin-block-digest256.sbstore\n",
      "2\t76198  \t/home/feelus/snap/firefox/common/.cache/mozilla/firefox/2yebzj4a.default/safebrowsing/mozplugin-block-digest256.vlpset\n",
      "2\t76173  \t/home/feelus/snap/firefox/common/.cache/mozilla/firefox/2yebzj4a.default/safebrowsing/mozstd-trackwhite-digest256.sbstore\n",
      "2\t76186  \t/home/feelus/snap/firefox/common/.cache/mozilla/firefox/2yebzj4a.default/safebrowsing/mozstd-trackwhite-digest256.vlpset\n",
      "2\t76200  \t/home/feelus/snap/firefox/common/.cache/mozilla/firefox/2yebzj4a.default/safebrowsing/social-track-digest256.sbstore\n",
      "2\t76184  \t/home/feelus/snap/firefox/common/.cache/mozilla/firefox/2yebzj4a.default/safebrowsing/social-track-digest256.vlpset\n",
      "2\t76189  \t/home/feelus/snap/firefox/common/.cache/mozilla/firefox/2yebzj4a.default/safebrowsing/social-tracking-protection-facebook-digest256.sbstore\n",
      "2\t76178  \t/home/feelus/snap/firefox/common/.cache/mozilla/firefox/2yebzj4a.default/safebrowsing/social-tracking-protection-facebook-digest256.vlpset\n",
      "2\t76182  \t/home/feelus/snap/firefox/common/.cache/mozilla/firefox/2yebzj4a.default/safebrowsing/social-tracking-protection-linkedin-digest256.sbstore\n",
      "2\t76197  \t/home/feelus/snap/firefox/common/.cache/mozilla/firefox/2yebzj4a.default/safebrowsing/social-tracking-protection-linkedin-digest256.vlpset\n",
      "2\t76175  \t/home/feelus/snap/firefox/common/.cache/mozilla/firefox/2yebzj4a.default/safebrowsing/social-tracking-protection-twitter-digest256.sbstore\n",
      "2\t76188  \t/home/feelus/snap/firefox/common/.cache/mozilla/firefox/2yebzj4a.default/safebrowsing/social-tracking-protection-twitter-digest256.vlpset\n",
      "2\t105604  \t/home/feelus/snap/firefox/common/.mozilla/firefox/2yebzj4a.default/1\n",
      "4\t76269  \t/home/feelus/snap/firefox/common/.mozilla/firefox/2yebzj4a.default/AlternateServices.bin\n",
      "1\t76318  \t/home/feelus/snap/firefox/common/.mozilla/firefox/2yebzj4a.default/SiteSecurityServiceState.bin\n",
      "2\t76280  \t/home/feelus/snap/firefox/common/.mozilla/firefox/2yebzj4a.default/bounce-tracking-protection.sqlite\n",
      "4\t76291  \t/home/feelus/snap/firefox/common/.mozilla/firefox/2yebzj4a.default/cookies.sqlite\n",
      "7\t76317  \t/home/feelus/snap/firefox/common/.mozilla/firefox/2yebzj4a.default/cookies.sqlite-wal\n",
      "3\t76357  \t/home/feelus/snap/firefox/common/.mozilla/firefox/2yebzj4a.default/datareporting/aborted-session-ping\n",
      "1\t105417  \t/home/feelus/snap/firefox/common/.mozilla/firefox/2yebzj4a.default/datareporting/archived/2025-01/1737912250642.bd6f847a-c186-49ed-85b9-e7ffc544ab02.event.jsonlz4\n",
      "1\t105415  \t/home/feelus/snap/firefox/common/.mozilla/firefox/2yebzj4a.default/datareporting/archived/2025-01/1737912444856.3172c44e-fee6-4be8-86be-679546b5a06a.sync.jsonlz4\n",
      "1\t105416  \t/home/feelus/snap/firefox/common/.mozilla/firefox/2yebzj4a.default/datareporting/archived/2025-01/1737915851006.a122eec6-e79d-4605-8f5b-ed2b41841137.event.jsonlz4\n",
      "2\t105619  \t/home/feelus/snap/firefox/common/.mozilla/firefox/2yebzj4a.default/datareporting/glean/db/1\n",
      "5\t76764  \t/home/feelus/snap/firefox/common/.mozilla/firefox/2yebzj4a.default/datareporting/glean/db/data.safe.bin\n",
      "3\t105612 D\t/home/feelus/snap/firefox/common/.mozilla/firefox/2yebzj4a.default/datareporting/glean/db/1\n",
      "2\t76768  \t/home/feelus/snap/firefox/common/.mozilla/firefox/2yebzj4a.default/datareporting/glean/events/events\n",
      "1\t76302  \t/home/feelus/snap/firefox/common/.mozilla/firefox/2yebzj4a.default/logins-backup.json\n",
      "1\t76285  \t/home/feelus/snap/firefox/common/.mozilla/firefox/2yebzj4a.default/logins.json\n",
      "2\t76268  \t/home/feelus/snap/firefox/common/.mozilla/firefox/2yebzj4a.default/permissions.sqlite\n",
      "1\t76316  \t/home/feelus/snap/firefox/common/.mozilla/firefox/2yebzj4a.default/places.sqlite\n",
      "4\t76277  \t/home/feelus/snap/firefox/common/.mozilla/firefox/2yebzj4a.default/places.sqlite-wal\n",
      "3\t76296  \t/home/feelus/snap/firefox/common/.mozilla/firefox/2yebzj4a.default/prefs.js\n",
      "2\t105637  \t/home/feelus/snap/firefox/common/.mozilla/firefox/2yebzj4a.default/sessionstore-backups/1\n",
      "3\t76829  \t/home/feelus/snap/firefox/common/.mozilla/firefox/2yebzj4a.default/sessionstore-backups/recovery.baklz4\n",
      "5\t76830 D\t/home/feelus/snap/firefox/common/.mozilla/firefox/2yebzj4a.default/sessionstore-backups/1\n",
      "2\t76779  \t/home/feelus/snap/firefox/common/.mozilla/firefox/2yebzj4a.default/settings/data.safe.bin\n",
      "1\t76288  \t/home/feelus/snap/firefox/common/.mozilla/firefox/2yebzj4a.default/signedInUser.json\n",
      "7\t79046  \t/home/feelus/snap/firefox/common/.mozilla/firefox/2yebzj4a.default/storage/default/https+++vk.com/idb/2449276127r1evf-obrdg-eedg-asrt.sqlite\n",
      "7\t79034  \t/home/feelus/snap/firefox/common/.mozilla/firefox/2yebzj4a.default/storage/default/https+++vk.com/idb/2449276127r1evf-obrdg-eedg-asrt.sqlite-wal\n",
      "13\t79054  \t/home/feelus/snap/firefox/common/.mozilla/firefox/2yebzj4a.default/storage/default/https+++vk.com/ls/data.sqlite\n",
      "14\t79055  \t/home/feelus/snap/firefox/common/.mozilla/firefox/2yebzj4a.default/storage/default/https+++vk.com/ls/usage\n",
      "48\t105587 D\t/home/feelus/snap/firefox/common/.mozilla/firefox/2yebzj4a.default/storage/default/https+++vk.com/ls/data.sqlite-journal\n",
      "48\t105588 D\t/home/feelus/snap/firefox/common/.mozilla/firefox/2yebzj4a.default/storage/default/https+++vk.com/ls/usage-journal\n",
      "1\t105420  \t/home/feelus/snap/firefox/common/.mozilla/firefox/2yebzj4a.default/storage/default/moz-extension+++098cbc6a-514b-4e23-a91a-70755caa6025/idb/1671402671ueBglaorcokt0SCeahc.files/662\n",
      "1\t105633  \t/home/feelus/snap/firefox/common/.mozilla/firefox/2yebzj4a.default/storage/default/moz-extension+++098cbc6a-514b-4e23-a91a-70755caa6025/idb/1671402671ueBglaorcokt0SCeahc.files/665\n",
      "2\t105626 D\t/home/feelus/snap/firefox/common/.mozilla/firefox/2yebzj4a.default/storage/default/moz-extension+++098cbc6a-514b-4e23-a91a-70755caa6025/idb/1671402671ueBglaorcokt0SCeahc.files/journals/663\n",
      "2\t105625 D\t/home/feelus/snap/firefox/common/.mozilla/firefox/2yebzj4a.default/storage/default/moz-extension+++098cbc6a-514b-4e23-a91a-70755caa6025/idb/1671402671ueBglaorcokt0SCeahc.files/journals/664\n",
      "2\t105632 D\t/home/feelus/snap/firefox/common/.mozilla/firefox/2yebzj4a.default/storage/default/moz-extension+++098cbc6a-514b-4e23-a91a-70755caa6025/idb/1671402671ueBglaorcokt0SCeahc.files/journals/665\n",
      "1\t79506 D\t/home/feelus/snap/firefox/common/.mozilla/firefox/2yebzj4a.default/storage/default/moz-extension+++098cbc6a-514b-4e23-a91a-70755caa6025/idb/1671402671ueBglaorcokt0SCeahc.files/618\n",
      "1\t79510 D\t/home/feelus/snap/firefox/common/.mozilla/firefox/2yebzj4a.default/storage/default/moz-extension+++098cbc6a-514b-4e23-a91a-70755caa6025/idb/1671402671ueBglaorcokt0SCeahc.files/653\n",
      "1\t79504 D\t/home/feelus/snap/firefox/common/.mozilla/firefox/2yebzj4a.default/storage/default/moz-extension+++098cbc6a-514b-4e23-a91a-70755caa6025/idb/1671402671ueBglaorcokt0SCeahc.files/660\n",
      "1\t79507 D\t/home/feelus/snap/firefox/common/.mozilla/firefox/2yebzj4a.default/storage/default/moz-extension+++098cbc6a-514b-4e23-a91a-70755caa6025/idb/1671402671ueBglaorcokt0SCeahc.files/661\n",
      "2\t105419 D\t/home/feelus/snap/firefox/common/.mozilla/firefox/2yebzj4a.default/storage/default/moz-extension+++098cbc6a-514b-4e23-a91a-70755caa6025/idb/1671402671ueBglaorcokt0SCeahc.files/663\n",
      "2\t105418 D\t/home/feelus/snap/firefox/common/.mozilla/firefox/2yebzj4a.default/storage/default/moz-extension+++098cbc6a-514b-4e23-a91a-70755caa6025/idb/1671402671ueBglaorcokt0SCeahc.files/664\n",
      "2\t79501  \t/home/feelus/snap/firefox/common/.mozilla/firefox/2yebzj4a.default/storage/default/moz-extension+++098cbc6a-514b-4e23-a91a-70755caa6025/idb/1671402671ueBglaorcokt0SCeahc.sqlite\n",
      "2\t79500  \t/home/feelus/snap/firefox/common/.mozilla/firefox/2yebzj4a.default/storage/default/moz-extension+++098cbc6a-514b-4e23-a91a-70755caa6025/idb/1671402671ueBglaorcokt0SCeahc.sqlite-wal\n",
      "1\t105630  \t/home/feelus/snap/firefox/common/.mozilla/firefox/2yebzj4a.default/storage/default/moz-extension+++098cbc6a-514b-4e23-a91a-70755caa6025^userContextId=4294967295/idb/3647222921wleabcEoxlt-eengsairo.files/862\n",
      "1\t105635  \t/home/feelus/snap/firefox/common/.mozilla/firefox/2yebzj4a.default/storage/default/moz-extension+++098cbc6a-514b-4e23-a91a-70755caa6025^userContextId=4294967295/idb/3647222921wleabcEoxlt-eengsairo.files/863\n",
      "2\t105631 D\t/home/feelus/snap/firefox/common/.mozilla/firefox/2yebzj4a.default/storage/default/moz-extension+++098cbc6a-514b-4e23-a91a-70755caa6025^userContextId=4294967295/idb/3647222921wleabcEoxlt-eengsairo.files/journals/848\n",
      "2\t105636 D\t/home/feelus/snap/firefox/common/.mozilla/firefox/2yebzj4a.default/storage/default/moz-extension+++098cbc6a-514b-4e23-a91a-70755caa6025^userContextId=4294967295/idb/3647222921wleabcEoxlt-eengsairo.files/journals/849\n",
      "2\t105628 D\t/home/feelus/snap/firefox/common/.mozilla/firefox/2yebzj4a.default/storage/default/moz-extension+++098cbc6a-514b-4e23-a91a-70755caa6025^userContextId=4294967295/idb/3647222921wleabcEoxlt-eengsairo.files/journals/860\n",
      "2\t105627 D\t/home/feelus/snap/firefox/common/.mozilla/firefox/2yebzj4a.default/storage/default/moz-extension+++098cbc6a-514b-4e23-a91a-70755caa6025^userContextId=4294967295/idb/3647222921wleabcEoxlt-eengsairo.files/journals/861\n",
      "2\t105629 D\t/home/feelus/snap/firefox/common/.mozilla/firefox/2yebzj4a.default/storage/default/moz-extension+++098cbc6a-514b-4e23-a91a-70755caa6025^userContextId=4294967295/idb/3647222921wleabcEoxlt-eengsairo.files/journals/862\n",
      "2\t105634 D\t/home/feelus/snap/firefox/common/.mozilla/firefox/2yebzj4a.default/storage/default/moz-extension+++098cbc6a-514b-4e23-a91a-70755caa6025^userContextId=4294967295/idb/3647222921wleabcEoxlt-eengsairo.files/journals/863\n",
      "1\t79364 D\t/home/feelus/snap/firefox/common/.mozilla/firefox/2yebzj4a.default/storage/default/moz-extension+++098cbc6a-514b-4e23-a91a-70755caa6025^userContextId=4294967295/idb/3647222921wleabcEoxlt-eengsairo.files/848\n",
      "1\t79367 D\t/home/feelus/snap/firefox/common/.mozilla/firefox/2yebzj4a.default/storage/default/moz-extension+++098cbc6a-514b-4e23-a91a-70755caa6025^userContextId=4294967295/idb/3647222921wleabcEoxlt-eengsairo.files/849\n",
      "1\t79366 D\t/home/feelus/snap/firefox/common/.mozilla/firefox/2yebzj4a.default/storage/default/moz-extension+++098cbc6a-514b-4e23-a91a-70755caa6025^userContextId=4294967295/idb/3647222921wleabcEoxlt-eengsairo.files/858\n",
      "1\t79363 D\t/home/feelus/snap/firefox/common/.mozilla/firefox/2yebzj4a.default/storage/default/moz-extension+++098cbc6a-514b-4e23-a91a-70755caa6025^userContextId=4294967295/idb/3647222921wleabcEoxlt-eengsairo.files/859\n",
      "2\t105421 D\t/home/feelus/snap/firefox/common/.mozilla/firefox/2yebzj4a.default/storage/default/moz-extension+++098cbc6a-514b-4e23-a91a-70755caa6025^userContextId=4294967295/idb/3647222921wleabcEoxlt-eengsairo.files/860\n",
      "2\t105422 D\t/home/feelus/snap/firefox/common/.mozilla/firefox/2yebzj4a.default/storage/default/moz-extension+++098cbc6a-514b-4e23-a91a-70755caa6025^userContextId=4294967295/idb/3647222921wleabcEoxlt-eengsairo.files/861\n",
      "6\t79361  \t/home/feelus/snap/firefox/common/.mozilla/firefox/2yebzj4a.default/storage/default/moz-extension+++098cbc6a-514b-4e23-a91a-70755caa6025^userContextId=4294967295/idb/3647222921wleabcEoxlt-eengsairo.sqlite\n",
      "6\t79360  \t/home/feelus/snap/firefox/common/.mozilla/firefox/2yebzj4a.default/storage/default/moz-extension+++098cbc6a-514b-4e23-a91a-70755caa6025^userContextId=4294967295/idb/3647222921wleabcEoxlt-eengsairo.sqlite-wal\n",
      "3\t79185  \t/home/feelus/snap/firefox/common/.mozilla/firefox/2yebzj4a.default/storage/default/moz-extension+++9f7e445c-1f55-4aca-aa38-386dee801400^userContextId=4294967295/idb/3647222921wleabcEoxlt-eengsairo.sqlite\n",
      "3\t79184  \t/home/feelus/snap/firefox/common/.mozilla/firefox/2yebzj4a.default/storage/default/moz-extension+++9f7e445c-1f55-4aca-aa38-386dee801400^userContextId=4294967295/idb/3647222921wleabcEoxlt-eengsairo.sqlite-wal\n",
      "1\t79273  \t/home/feelus/snap/firefox/common/.mozilla/firefox/2yebzj4a.default/storage/default/moz-extension+++fb2f57ad-66e1-4108-86a7-5d4fdc297170^userContextId=4294967295/idb/3647222921wleabcEoxlt-eengsairo.sqlite\n",
      "1\t79272  \t/home/feelus/snap/firefox/common/.mozilla/firefox/2yebzj4a.default/storage/default/moz-extension+++fb2f57ad-66e1-4108-86a7-5d4fdc297170^userContextId=4294967295/idb/3647222921wleabcEoxlt-eengsairo.sqlite-wal\n",
      "1\t76853  \t/home/feelus/snap/firefox/common/.mozilla/firefox/2yebzj4a.default/storage/permanent/chrome/idb/1657114595AmcateirvtiSty.sqlite\n",
      "4\t76852  \t/home/feelus/snap/firefox/common/.mozilla/firefox/2yebzj4a.default/storage/permanent/chrome/idb/1657114595AmcateirvtiSty.sqlite-wal\n",
      "1\t76856  \t/home/feelus/snap/firefox/common/.mozilla/firefox/2yebzj4a.default/storage/permanent/chrome/idb/2918063365piupsah.sqlite\n",
      "1\t76859  \t/home/feelus/snap/firefox/common/.mozilla/firefox/2yebzj4a.default/storage/permanent/chrome/idb/2918063365piupsah.sqlite-wal\n",
      "2\t76858  \t/home/feelus/snap/firefox/common/.mozilla/firefox/2yebzj4a.default/storage/permanent/chrome/idb/3870112724rsegmnoittet-es.sqlite\n",
      "2\t76854  \t/home/feelus/snap/firefox/common/.mozilla/firefox/2yebzj4a.default/storage/permanent/chrome/idb/3870112724rsegmnoittet-es.sqlite-wal\n",
      "2\t76270  \t/home/feelus/snap/firefox/common/.mozilla/firefox/2yebzj4a.default/synced-tabs.db-shm\n",
      "2\t76293  \t/home/feelus/snap/firefox/common/.mozilla/firefox/2yebzj4a.default/synced-tabs.db-wal\n",
      "2\t76784  \t/home/feelus/snap/firefox/common/.mozilla/firefox/2yebzj4a.default/weave/addonsreconciler.json\n",
      "2\t76819  \t/home/feelus/snap/firefox/common/.mozilla/firefox/2yebzj4a.default/weave/changes/addons.json\n",
      "2\t76818  \t/home/feelus/snap/firefox/common/.mozilla/firefox/2yebzj4a.default/weave/changes/clients.json\n",
      "2\t76821  \t/home/feelus/snap/firefox/common/.mozilla/firefox/2yebzj4a.default/weave/changes/forms.json\n",
      "2\t76820  \t/home/feelus/snap/firefox/common/.mozilla/firefox/2yebzj4a.default/weave/changes/history.json\n",
      "2\t76809  \t/home/feelus/snap/firefox/common/.mozilla/firefox/2yebzj4a.default/weave/failed/addons.json\n",
      "2\t76814  \t/home/feelus/snap/firefox/common/.mozilla/firefox/2yebzj4a.default/weave/failed/bookmarks.json\n",
      "2\t76808  \t/home/feelus/snap/firefox/common/.mozilla/firefox/2yebzj4a.default/weave/failed/clients.json\n",
      "2\t76815  \t/home/feelus/snap/firefox/common/.mozilla/firefox/2yebzj4a.default/weave/failed/extension-storage.json\n",
      "2\t76813  \t/home/feelus/snap/firefox/common/.mozilla/firefox/2yebzj4a.default/weave/failed/forms.json\n",
      "2\t76812  \t/home/feelus/snap/firefox/common/.mozilla/firefox/2yebzj4a.default/weave/failed/history.json\n",
      "2\t76810  \t/home/feelus/snap/firefox/common/.mozilla/firefox/2yebzj4a.default/weave/failed/passwords.json\n",
      "2\t76811  \t/home/feelus/snap/firefox/common/.mozilla/firefox/2yebzj4a.default/weave/failed/tabs.json\n",
      "1\t30285  \t/home/feelus/snap/firmware-updater/147/.config/ibus/bus\n",
      "2\t30349  \t/home/feelus/snap/telegram-desktop/6489/.local/share/TelegramDesktop/log.txt\n",
      "1\t30372  \t/home/feelus/snap/telegram-desktop/6489/.local/share/TelegramDesktop/tdata/D877F783D5D3EF8C/configs\n",
      "1\t105423  \t/home/feelus/snap/telegram-desktop/6489/.local/share/TelegramDesktop/tdata/user_data/cache/0/03/583DE851B67F\n",
      "1\t105425  \t/home/feelus/snap/telegram-desktop/6489/.local/share/TelegramDesktop/tdata/user_data/cache/0/03/E2CE27DF8A09\n",
      "1\t105424  \t/home/feelus/snap/telegram-desktop/6489/.local/share/TelegramDesktop/tdata/user_data/cache/0/03/E7F2AE339629\n",
      "1\t105426  \t/home/feelus/snap/telegram-desktop/6489/.local/share/TelegramDesktop/tdata/user_data/cache/0/04/27C0323B0687\n",
      "1\t105427  \t/home/feelus/snap/telegram-desktop/6489/.local/share/TelegramDesktop/tdata/user_data/cache/0/05/491E82E88DE5\n",
      "1\t105391  \t/home/feelus/snap/telegram-desktop/6489/.local/share/TelegramDesktop/tdata/user_data/cache/0/06/26E8F08A0FF4\n",
      "1\t105428  \t/home/feelus/snap/telegram-desktop/6489/.local/share/TelegramDesktop/tdata/user_data/cache/0/06/456401E76E61\n",
      "1\t105392  \t/home/feelus/snap/telegram-desktop/6489/.local/share/TelegramDesktop/tdata/user_data/cache/0/0B/1628761D9065\n",
      "1\t105429  \t/home/feelus/snap/telegram-desktop/6489/.local/share/TelegramDesktop/tdata/user_data/cache/0/0C/8C21883BBCF9\n",
      "1\t105613  \t/home/feelus/snap/telegram-desktop/6489/.local/share/TelegramDesktop/tdata/user_data/cache/0/0D/3D6BE05E9169\n",
      "1\t105430  \t/home/feelus/snap/telegram-desktop/6489/.local/share/TelegramDesktop/tdata/user_data/cache/0/0F/DFA4BCB0502C\n",
      "1\t105431  \t/home/feelus/snap/telegram-desktop/6489/.local/share/TelegramDesktop/tdata/user_data/cache/0/12/B546B2CCD89E\n",
      "1\t105432  \t/home/feelus/snap/telegram-desktop/6489/.local/share/TelegramDesktop/tdata/user_data/cache/0/15/06324C2BEC1F\n",
      "1\t105433  \t/home/feelus/snap/telegram-desktop/6489/.local/share/TelegramDesktop/tdata/user_data/cache/0/16/5BB2E8060317\n",
      "1\t105434  \t/home/feelus/snap/telegram-desktop/6489/.local/share/TelegramDesktop/tdata/user_data/cache/0/16/5F8C67DFB483\n",
      "1\t105436  \t/home/feelus/snap/telegram-desktop/6489/.local/share/TelegramDesktop/tdata/user_data/cache/0/17/2AFE52EF287D\n",
      "1\t105435  \t/home/feelus/snap/telegram-desktop/6489/.local/share/TelegramDesktop/tdata/user_data/cache/0/17/F0D3BD6322F7\n",
      "1\t105437  \t/home/feelus/snap/telegram-desktop/6489/.local/share/TelegramDesktop/tdata/user_data/cache/0/18/17ABAA7D9F8B\n",
      "1\t105438  \t/home/feelus/snap/telegram-desktop/6489/.local/share/TelegramDesktop/tdata/user_data/cache/0/1A/6670676E14FF\n",
      "1\t105439  \t/home/feelus/snap/telegram-desktop/6489/.local/share/TelegramDesktop/tdata/user_data/cache/0/1B/DFE6FE64A90B\n",
      "1\t105440  \t/home/feelus/snap/telegram-desktop/6489/.local/share/TelegramDesktop/tdata/user_data/cache/0/1C/6E9735194285\n",
      "1\t105441  \t/home/feelus/snap/telegram-desktop/6489/.local/share/TelegramDesktop/tdata/user_data/cache/0/1C/9C25F77F34EF\n",
      "1\t105393  \t/home/feelus/snap/telegram-desktop/6489/.local/share/TelegramDesktop/tdata/user_data/cache/0/21/00BA3D75DE13\n",
      "1\t105442  \t/home/feelus/snap/telegram-desktop/6489/.local/share/TelegramDesktop/tdata/user_data/cache/0/24/B4D743FB1D4E\n",
      "1\t105443  \t/home/feelus/snap/telegram-desktop/6489/.local/share/TelegramDesktop/tdata/user_data/cache/0/28/98E26B31792E\n",
      "1\t105444  \t/home/feelus/snap/telegram-desktop/6489/.local/share/TelegramDesktop/tdata/user_data/cache/0/29/086D7F42416C\n",
      "1\t105445  \t/home/feelus/snap/telegram-desktop/6489/.local/share/TelegramDesktop/tdata/user_data/cache/0/29/469F40764007\n",
      "1\t105446  \t/home/feelus/snap/telegram-desktop/6489/.local/share/TelegramDesktop/tdata/user_data/cache/0/29/E96B008DBA46\n",
      "1\t105394  \t/home/feelus/snap/telegram-desktop/6489/.local/share/TelegramDesktop/tdata/user_data/cache/0/2B/5790D96C3B0D\n",
      "1\t105447  \t/home/feelus/snap/telegram-desktop/6489/.local/share/TelegramDesktop/tdata/user_data/cache/0/31/A60E2F70AADB\n",
      "1\t105448  \t/home/feelus/snap/telegram-desktop/6489/.local/share/TelegramDesktop/tdata/user_data/cache/0/33/62A453068EC5\n",
      "1\t105450  \t/home/feelus/snap/telegram-desktop/6489/.local/share/TelegramDesktop/tdata/user_data/cache/0/33/6479842B1425\n",
      "1\t105449  \t/home/feelus/snap/telegram-desktop/6489/.local/share/TelegramDesktop/tdata/user_data/cache/0/33/7907E72C6712\n",
      "1\t105451  \t/home/feelus/snap/telegram-desktop/6489/.local/share/TelegramDesktop/tdata/user_data/cache/0/34/0C1EDA1E599F\n",
      "1\t105452  \t/home/feelus/snap/telegram-desktop/6489/.local/share/TelegramDesktop/tdata/user_data/cache/0/37/7905241E1A5A\n",
      "1\t105453  \t/home/feelus/snap/telegram-desktop/6489/.local/share/TelegramDesktop/tdata/user_data/cache/0/39/6DD51A68B2E4\n",
      "1\t105455  \t/home/feelus/snap/telegram-desktop/6489/.local/share/TelegramDesktop/tdata/user_data/cache/0/3B/37F03C8D76AB\n",
      "1\t105454  \t/home/feelus/snap/telegram-desktop/6489/.local/share/TelegramDesktop/tdata/user_data/cache/0/3B/BF61D82A439A\n",
      "1\t105456  \t/home/feelus/snap/telegram-desktop/6489/.local/share/TelegramDesktop/tdata/user_data/cache/0/40/0FD5AE88D848\n",
      "1\t105457  \t/home/feelus/snap/telegram-desktop/6489/.local/share/TelegramDesktop/tdata/user_data/cache/0/40/5A939B4BC782\n",
      "1\t105458  \t/home/feelus/snap/telegram-desktop/6489/.local/share/TelegramDesktop/tdata/user_data/cache/0/41/85A2FE6EE432\n",
      "1\t105459  \t/home/feelus/snap/telegram-desktop/6489/.local/share/TelegramDesktop/tdata/user_data/cache/0/42/63F25C003348\n",
      "1\t105460  \t/home/feelus/snap/telegram-desktop/6489/.local/share/TelegramDesktop/tdata/user_data/cache/0/42/A0EB9D89A8E6\n",
      "1\t105583  \t/home/feelus/snap/telegram-desktop/6489/.local/share/TelegramDesktop/tdata/user_data/cache/0/44/CE95DD5C689B\n",
      "1\t105461  \t/home/feelus/snap/telegram-desktop/6489/.local/share/TelegramDesktop/tdata/user_data/cache/0/45/BE9B5ABEBE49\n",
      "1\t105462  \t/home/feelus/snap/telegram-desktop/6489/.local/share/TelegramDesktop/tdata/user_data/cache/0/45/C5CB25BA18A6\n",
      "1\t105395  \t/home/feelus/snap/telegram-desktop/6489/.local/share/TelegramDesktop/tdata/user_data/cache/0/47/4C1D5EB47F70\n",
      "1\t105463  \t/home/feelus/snap/telegram-desktop/6489/.local/share/TelegramDesktop/tdata/user_data/cache/0/47/DCBD51A9196A\n",
      "1\t105464  \t/home/feelus/snap/telegram-desktop/6489/.local/share/TelegramDesktop/tdata/user_data/cache/0/49/9599F60108B8\n",
      "1\t105465  \t/home/feelus/snap/telegram-desktop/6489/.local/share/TelegramDesktop/tdata/user_data/cache/0/4C/61714F436C30\n",
      "1\t105466  \t/home/feelus/snap/telegram-desktop/6489/.local/share/TelegramDesktop/tdata/user_data/cache/0/4D/CD6D83D859E2\n",
      "1\t105467  \t/home/feelus/snap/telegram-desktop/6489/.local/share/TelegramDesktop/tdata/user_data/cache/0/4F/AF2A61BFFD4F\n",
      "1\t105468  \t/home/feelus/snap/telegram-desktop/6489/.local/share/TelegramDesktop/tdata/user_data/cache/0/50/B781A02B272E\n",
      "1\t105469  \t/home/feelus/snap/telegram-desktop/6489/.local/share/TelegramDesktop/tdata/user_data/cache/0/54/197DEABD556F\n",
      "1\t105470  \t/home/feelus/snap/telegram-desktop/6489/.local/share/TelegramDesktop/tdata/user_data/cache/0/56/5A34EF78A272\n",
      "1\t105471  \t/home/feelus/snap/telegram-desktop/6489/.local/share/TelegramDesktop/tdata/user_data/cache/0/56/9EF837EB44C0\n",
      "1\t105472  \t/home/feelus/snap/telegram-desktop/6489/.local/share/TelegramDesktop/tdata/user_data/cache/0/58/2E08EEB63B61\n",
      "1\t105473  \t/home/feelus/snap/telegram-desktop/6489/.local/share/TelegramDesktop/tdata/user_data/cache/0/59/72BA511D3034\n",
      "1\t105474  \t/home/feelus/snap/telegram-desktop/6489/.local/share/TelegramDesktop/tdata/user_data/cache/0/5D/3FBD661D0E27\n",
      "1\t105475  \t/home/feelus/snap/telegram-desktop/6489/.local/share/TelegramDesktop/tdata/user_data/cache/0/5E/C7DCD475983E\n",
      "1\t105584  \t/home/feelus/snap/telegram-desktop/6489/.local/share/TelegramDesktop/tdata/user_data/cache/0/5F/8411C25C565A\n",
      "1\t105476  \t/home/feelus/snap/telegram-desktop/6489/.local/share/TelegramDesktop/tdata/user_data/cache/0/5F/E4F9427E8B2F\n",
      "1\t105477  \t/home/feelus/snap/telegram-desktop/6489/.local/share/TelegramDesktop/tdata/user_data/cache/0/60/C53454FDD27C\n",
      "1\t105478  \t/home/feelus/snap/telegram-desktop/6489/.local/share/TelegramDesktop/tdata/user_data/cache/0/62/A741B023F0B5\n",
      "1\t105479  \t/home/feelus/snap/telegram-desktop/6489/.local/share/TelegramDesktop/tdata/user_data/cache/0/63/99EE709E83CE\n",
      "1\t105480  \t/home/feelus/snap/telegram-desktop/6489/.local/share/TelegramDesktop/tdata/user_data/cache/0/64/09E2D5455B48\n",
      "1\t105481  \t/home/feelus/snap/telegram-desktop/6489/.local/share/TelegramDesktop/tdata/user_data/cache/0/64/208967BCEF1E\n",
      "1\t105482  \t/home/feelus/snap/telegram-desktop/6489/.local/share/TelegramDesktop/tdata/user_data/cache/0/65/E7D6A2F5378D\n",
      "1\t105483  \t/home/feelus/snap/telegram-desktop/6489/.local/share/TelegramDesktop/tdata/user_data/cache/0/67/BED7B17D8636\n",
      "1\t105484  \t/home/feelus/snap/telegram-desktop/6489/.local/share/TelegramDesktop/tdata/user_data/cache/0/6A/F088D529BF27\n",
      "1\t105486  \t/home/feelus/snap/telegram-desktop/6489/.local/share/TelegramDesktop/tdata/user_data/cache/0/6B/02E7B461DCD4\n",
      "1\t105485  \t/home/feelus/snap/telegram-desktop/6489/.local/share/TelegramDesktop/tdata/user_data/cache/0/6B/57972A0B48B6\n",
      "1\t105487  \t/home/feelus/snap/telegram-desktop/6489/.local/share/TelegramDesktop/tdata/user_data/cache/0/6B/EC9F45A34B5B\n",
      "1\t105488  \t/home/feelus/snap/telegram-desktop/6489/.local/share/TelegramDesktop/tdata/user_data/cache/0/6E/83C4AACD557F\n",
      "1\t105489  \t/home/feelus/snap/telegram-desktop/6489/.local/share/TelegramDesktop/tdata/user_data/cache/0/73/BA94236D7E98\n",
      "1\t105396  \t/home/feelus/snap/telegram-desktop/6489/.local/share/TelegramDesktop/tdata/user_data/cache/0/74/BF31B5DF33D0\n",
      "1\t105490  \t/home/feelus/snap/telegram-desktop/6489/.local/share/TelegramDesktop/tdata/user_data/cache/0/75/A3B766D6BBF7\n",
      "1\t105491  \t/home/feelus/snap/telegram-desktop/6489/.local/share/TelegramDesktop/tdata/user_data/cache/0/77/FBFA05C50984\n",
      "1\t105492  \t/home/feelus/snap/telegram-desktop/6489/.local/share/TelegramDesktop/tdata/user_data/cache/0/7A/6C3B6A2F4CA2\n",
      "1\t105493  \t/home/feelus/snap/telegram-desktop/6489/.local/share/TelegramDesktop/tdata/user_data/cache/0/7C/2715D9E85FDC\n",
      "1\t105494  \t/home/feelus/snap/telegram-desktop/6489/.local/share/TelegramDesktop/tdata/user_data/cache/0/7C/FAA44377A108\n",
      "1\t105397  \t/home/feelus/snap/telegram-desktop/6489/.local/share/TelegramDesktop/tdata/user_data/cache/0/7D/8370CED33409\n",
      "1\t105495  \t/home/feelus/snap/telegram-desktop/6489/.local/share/TelegramDesktop/tdata/user_data/cache/0/7E/BE459538BD29\n",
      "1\t105497  \t/home/feelus/snap/telegram-desktop/6489/.local/share/TelegramDesktop/tdata/user_data/cache/0/7F/584830B97261\n",
      "1\t105496  \t/home/feelus/snap/telegram-desktop/6489/.local/share/TelegramDesktop/tdata/user_data/cache/0/7F/6AC1DDAC3D5F\n",
      "1\t105585  \t/home/feelus/snap/telegram-desktop/6489/.local/share/TelegramDesktop/tdata/user_data/cache/0/7F/82EBB7306928\n",
      "1\t105499  \t/home/feelus/snap/telegram-desktop/6489/.local/share/TelegramDesktop/tdata/user_data/cache/0/80/8892ECFD257D\n",
      "1\t105498  \t/home/feelus/snap/telegram-desktop/6489/.local/share/TelegramDesktop/tdata/user_data/cache/0/80/9069F684281C\n",
      "1\t105500  \t/home/feelus/snap/telegram-desktop/6489/.local/share/TelegramDesktop/tdata/user_data/cache/0/81/6BA19A9D88F4\n",
      "1\t105501  \t/home/feelus/snap/telegram-desktop/6489/.local/share/TelegramDesktop/tdata/user_data/cache/0/84/6168C8BB0483\n",
      "1\t105502  \t/home/feelus/snap/telegram-desktop/6489/.local/share/TelegramDesktop/tdata/user_data/cache/0/84/624371C293BB\n",
      "1\t105503  \t/home/feelus/snap/telegram-desktop/6489/.local/share/TelegramDesktop/tdata/user_data/cache/0/87/E992C208827B\n",
      "1\t105504  \t/home/feelus/snap/telegram-desktop/6489/.local/share/TelegramDesktop/tdata/user_data/cache/0/88/0B4AD7E7675F\n",
      "1\t105505  \t/home/feelus/snap/telegram-desktop/6489/.local/share/TelegramDesktop/tdata/user_data/cache/0/8C/174A3B22A386\n",
      "1\t105506  \t/home/feelus/snap/telegram-desktop/6489/.local/share/TelegramDesktop/tdata/user_data/cache/0/8C/8F6AF782DBCD\n",
      "1\t105508  \t/home/feelus/snap/telegram-desktop/6489/.local/share/TelegramDesktop/tdata/user_data/cache/0/8D/BE3DC714A777\n",
      "1\t105507  \t/home/feelus/snap/telegram-desktop/6489/.local/share/TelegramDesktop/tdata/user_data/cache/0/8D/E4EDD0626060\n",
      "1\t105509  \t/home/feelus/snap/telegram-desktop/6489/.local/share/TelegramDesktop/tdata/user_data/cache/0/8E/90F760AE23B0\n",
      "1\t105510  \t/home/feelus/snap/telegram-desktop/6489/.local/share/TelegramDesktop/tdata/user_data/cache/0/91/2003CFDA52E0\n",
      "1\t105511  \t/home/feelus/snap/telegram-desktop/6489/.local/share/TelegramDesktop/tdata/user_data/cache/0/93/797F402FA77D\n",
      "1\t105512  \t/home/feelus/snap/telegram-desktop/6489/.local/share/TelegramDesktop/tdata/user_data/cache/0/94/5BB352EE7555\n",
      "1\t105586  \t/home/feelus/snap/telegram-desktop/6489/.local/share/TelegramDesktop/tdata/user_data/cache/0/94/6BCACB27C3AB\n",
      "1\t105513  \t/home/feelus/snap/telegram-desktop/6489/.local/share/TelegramDesktop/tdata/user_data/cache/0/94/9F2491DBC4BD\n",
      "1\t105514  \t/home/feelus/snap/telegram-desktop/6489/.local/share/TelegramDesktop/tdata/user_data/cache/0/94/A5DB09309428\n",
      "1\t105515  \t/home/feelus/snap/telegram-desktop/6489/.local/share/TelegramDesktop/tdata/user_data/cache/0/96/18523FA31E0A\n",
      "1\t105516  \t/home/feelus/snap/telegram-desktop/6489/.local/share/TelegramDesktop/tdata/user_data/cache/0/97/34F6ED4D7D21\n",
      "1\t105517  \t/home/feelus/snap/telegram-desktop/6489/.local/share/TelegramDesktop/tdata/user_data/cache/0/97/57EC6CACF215\n",
      "1\t105518  \t/home/feelus/snap/telegram-desktop/6489/.local/share/TelegramDesktop/tdata/user_data/cache/0/98/B022BC272579\n",
      "1\t105519  \t/home/feelus/snap/telegram-desktop/6489/.local/share/TelegramDesktop/tdata/user_data/cache/0/9A/6FA3FD02E0D9\n",
      "1\t105520  \t/home/feelus/snap/telegram-desktop/6489/.local/share/TelegramDesktop/tdata/user_data/cache/0/9D/6E49185051A3\n",
      "1\t105521  \t/home/feelus/snap/telegram-desktop/6489/.local/share/TelegramDesktop/tdata/user_data/cache/0/9D/CCEC85AAD8B6\n",
      "1\t105522  \t/home/feelus/snap/telegram-desktop/6489/.local/share/TelegramDesktop/tdata/user_data/cache/0/9E/562ABF4D8224\n",
      "1\t105523  \t/home/feelus/snap/telegram-desktop/6489/.local/share/TelegramDesktop/tdata/user_data/cache/0/9F/3DD1FBAEEF01\n",
      "1\t105524  \t/home/feelus/snap/telegram-desktop/6489/.local/share/TelegramDesktop/tdata/user_data/cache/0/9F/8D73C6054DFE\n",
      "1\t105525  \t/home/feelus/snap/telegram-desktop/6489/.local/share/TelegramDesktop/tdata/user_data/cache/0/A1/2937E9786C29\n",
      "1\t105526  \t/home/feelus/snap/telegram-desktop/6489/.local/share/TelegramDesktop/tdata/user_data/cache/0/A3/F142F1E4B844\n",
      "1\t105529  \t/home/feelus/snap/telegram-desktop/6489/.local/share/TelegramDesktop/tdata/user_data/cache/0/A9/600ECCD6D543\n",
      "1\t105527  \t/home/feelus/snap/telegram-desktop/6489/.local/share/TelegramDesktop/tdata/user_data/cache/0/A9/97E385307E6C\n",
      "1\t105528  \t/home/feelus/snap/telegram-desktop/6489/.local/share/TelegramDesktop/tdata/user_data/cache/0/A9/B3E243020FCC\n",
      "1\t105530  \t/home/feelus/snap/telegram-desktop/6489/.local/share/TelegramDesktop/tdata/user_data/cache/0/AB/5F0A5966D325\n",
      "1\t105531  \t/home/feelus/snap/telegram-desktop/6489/.local/share/TelegramDesktop/tdata/user_data/cache/0/AB/CD27411BD419\n",
      "1\t105532  \t/home/feelus/snap/telegram-desktop/6489/.local/share/TelegramDesktop/tdata/user_data/cache/0/AC/DD3EF64E5E7D\n",
      "1\t105533  \t/home/feelus/snap/telegram-desktop/6489/.local/share/TelegramDesktop/tdata/user_data/cache/0/AF/39B6B2D45BA3\n",
      "1\t105534  \t/home/feelus/snap/telegram-desktop/6489/.local/share/TelegramDesktop/tdata/user_data/cache/0/B1/E217EC2EF408\n",
      "1\t105535  \t/home/feelus/snap/telegram-desktop/6489/.local/share/TelegramDesktop/tdata/user_data/cache/0/B3/87F03BB407A5\n",
      "1\t105538  \t/home/feelus/snap/telegram-desktop/6489/.local/share/TelegramDesktop/tdata/user_data/cache/0/B7/4A4E4373AC10\n",
      "1\t105536  \t/home/feelus/snap/telegram-desktop/6489/.local/share/TelegramDesktop/tdata/user_data/cache/0/B7/830C131FF085\n",
      "1\t105537  \t/home/feelus/snap/telegram-desktop/6489/.local/share/TelegramDesktop/tdata/user_data/cache/0/B7/B1DBAAA7E5DE\n",
      "1\t105539  \t/home/feelus/snap/telegram-desktop/6489/.local/share/TelegramDesktop/tdata/user_data/cache/0/B8/722FCB2A84C8\n",
      "1\t105540  \t/home/feelus/snap/telegram-desktop/6489/.local/share/TelegramDesktop/tdata/user_data/cache/0/B9/AE90E7A34098\n",
      "1\t105541  \t/home/feelus/snap/telegram-desktop/6489/.local/share/TelegramDesktop/tdata/user_data/cache/0/BB/81744D2B27EC\n",
      "1\t105542  \t/home/feelus/snap/telegram-desktop/6489/.local/share/TelegramDesktop/tdata/user_data/cache/0/BD/EC6C61F3FEB8\n",
      "1\t105543  \t/home/feelus/snap/telegram-desktop/6489/.local/share/TelegramDesktop/tdata/user_data/cache/0/BE/A22DA17CAEF2\n",
      "1\t105544  \t/home/feelus/snap/telegram-desktop/6489/.local/share/TelegramDesktop/tdata/user_data/cache/0/BE/D0C59749DD77\n",
      "1\t105545  \t/home/feelus/snap/telegram-desktop/6489/.local/share/TelegramDesktop/tdata/user_data/cache/0/C2/2CA9936460DB\n",
      "1\t105547  \t/home/feelus/snap/telegram-desktop/6489/.local/share/TelegramDesktop/tdata/user_data/cache/0/C2/78A5AA3C8415\n",
      "1\t105546  \t/home/feelus/snap/telegram-desktop/6489/.local/share/TelegramDesktop/tdata/user_data/cache/0/C2/F90ED01F61CC\n",
      "1\t105398  \t/home/feelus/snap/telegram-desktop/6489/.local/share/TelegramDesktop/tdata/user_data/cache/0/C3/2B5CEA2F555E\n",
      "1\t105548  \t/home/feelus/snap/telegram-desktop/6489/.local/share/TelegramDesktop/tdata/user_data/cache/0/C4/332F3ED9277D\n",
      "1\t105549  \t/home/feelus/snap/telegram-desktop/6489/.local/share/TelegramDesktop/tdata/user_data/cache/0/C7/26CAD5BBE3F7\n",
      "1\t105550  \t/home/feelus/snap/telegram-desktop/6489/.local/share/TelegramDesktop/tdata/user_data/cache/0/C9/666E79594F38\n",
      "1\t105399  \t/home/feelus/snap/telegram-desktop/6489/.local/share/TelegramDesktop/tdata/user_data/cache/0/CA/6D35BE951F62\n",
      "1\t105551  \t/home/feelus/snap/telegram-desktop/6489/.local/share/TelegramDesktop/tdata/user_data/cache/0/CE/A8215420056C\n",
      "1\t105552  \t/home/feelus/snap/telegram-desktop/6489/.local/share/TelegramDesktop/tdata/user_data/cache/0/D0/F9A9F618B34B\n",
      "1\t105553  \t/home/feelus/snap/telegram-desktop/6489/.local/share/TelegramDesktop/tdata/user_data/cache/0/D1/422DC7807149\n",
      "1\t105554  \t/home/feelus/snap/telegram-desktop/6489/.local/share/TelegramDesktop/tdata/user_data/cache/0/D2/78F977AC3BCE\n",
      "1\t105555  \t/home/feelus/snap/telegram-desktop/6489/.local/share/TelegramDesktop/tdata/user_data/cache/0/D2/881071670E47\n",
      "1\t105556  \t/home/feelus/snap/telegram-desktop/6489/.local/share/TelegramDesktop/tdata/user_data/cache/0/D2/EED9D4E594E2\n",
      "1\t105557  \t/home/feelus/snap/telegram-desktop/6489/.local/share/TelegramDesktop/tdata/user_data/cache/0/D3/D1900623AED1\n",
      "1\t105558  \t/home/feelus/snap/telegram-desktop/6489/.local/share/TelegramDesktop/tdata/user_data/cache/0/D4/3893DBB91F87\n",
      "1\t105559  \t/home/feelus/snap/telegram-desktop/6489/.local/share/TelegramDesktop/tdata/user_data/cache/0/D5/785AB6819381\n",
      "1\t105560  \t/home/feelus/snap/telegram-desktop/6489/.local/share/TelegramDesktop/tdata/user_data/cache/0/DB/963A3D9629C8\n",
      "1\t105400  \t/home/feelus/snap/telegram-desktop/6489/.local/share/TelegramDesktop/tdata/user_data/cache/0/DC/D3F2FCC86F43\n",
      "1\t105561  \t/home/feelus/snap/telegram-desktop/6489/.local/share/TelegramDesktop/tdata/user_data/cache/0/DD/F9B2B0EFE732\n",
      "1\t105562  \t/home/feelus/snap/telegram-desktop/6489/.local/share/TelegramDesktop/tdata/user_data/cache/0/DE/7EC7CF204A8B\n",
      "1\t105563  \t/home/feelus/snap/telegram-desktop/6489/.local/share/TelegramDesktop/tdata/user_data/cache/0/E5/2E103E1EF178\n",
      "1\t105564  \t/home/feelus/snap/telegram-desktop/6489/.local/share/TelegramDesktop/tdata/user_data/cache/0/E7/1E3B24827B4C\n",
      "1\t105566  \t/home/feelus/snap/telegram-desktop/6489/.local/share/TelegramDesktop/tdata/user_data/cache/0/EA/274182A98C3C\n",
      "1\t105401  \t/home/feelus/snap/telegram-desktop/6489/.local/share/TelegramDesktop/tdata/user_data/cache/0/EA/A3BCC39DDB89\n",
      "1\t105565  \t/home/feelus/snap/telegram-desktop/6489/.local/share/TelegramDesktop/tdata/user_data/cache/0/EA/BF66FC9FD9B5\n",
      "1\t105567  \t/home/feelus/snap/telegram-desktop/6489/.local/share/TelegramDesktop/tdata/user_data/cache/0/EB/9918BE06D5AC\n",
      "1\t105568  \t/home/feelus/snap/telegram-desktop/6489/.local/share/TelegramDesktop/tdata/user_data/cache/0/EC/421C9C23C6C0\n",
      "1\t105569  \t/home/feelus/snap/telegram-desktop/6489/.local/share/TelegramDesktop/tdata/user_data/cache/0/EC/F01AA236F284\n",
      "1\t105570  \t/home/feelus/snap/telegram-desktop/6489/.local/share/TelegramDesktop/tdata/user_data/cache/0/EE/6D067D0E479B\n",
      "1\t105571  \t/home/feelus/snap/telegram-desktop/6489/.local/share/TelegramDesktop/tdata/user_data/cache/0/F0/1DA2425391E4\n",
      "1\t105402  \t/home/feelus/snap/telegram-desktop/6489/.local/share/TelegramDesktop/tdata/user_data/cache/0/F1/E423CB547D8D\n",
      "1\t105572  \t/home/feelus/snap/telegram-desktop/6489/.local/share/TelegramDesktop/tdata/user_data/cache/0/F2/24FE573BF9D9\n",
      "1\t105573  \t/home/feelus/snap/telegram-desktop/6489/.local/share/TelegramDesktop/tdata/user_data/cache/0/F5/660868BA75EE\n",
      "1\t105574  \t/home/feelus/snap/telegram-desktop/6489/.local/share/TelegramDesktop/tdata/user_data/cache/0/FA/6640560E246A\n",
      "1\t105575  \t/home/feelus/snap/telegram-desktop/6489/.local/share/TelegramDesktop/tdata/user_data/cache/0/FB/A41F63B2D7AE\n",
      "1\t105403  \t/home/feelus/snap/telegram-desktop/6489/.local/share/TelegramDesktop/tdata/user_data/cache/0/FC/8A9050EF0721\n",
      "1\t105576  \t/home/feelus/snap/telegram-desktop/6489/.local/share/TelegramDesktop/tdata/user_data/cache/0/FD/D7174CA8AE20\n",
      "1\t105577  \t/home/feelus/snap/telegram-desktop/6489/.local/share/TelegramDesktop/tdata/user_data/cache/0/FE/8E0BCC8A4316\n",
      "1\t105578  \t/home/feelus/snap/telegram-desktop/6489/.local/share/TelegramDesktop/tdata/user_data/cache/0/FF/93D05ED091AF\n",
      "4\t31532  \t/home/feelus/snap/telegram-desktop/6489/.local/share/TelegramDesktop/tdata/user_data/cache/0/binlog\n",
      "1\t30661  \t/home/feelus/snap/telegram-desktop/6489/.local/share/TelegramDesktop/tdata/user_data/media_cache/0/binlog\n",
      "2\t105610  \t/home/feelus/Загрузки/STG-backups-FF-134.0.2/1\n",
      "2\t439  \t/home/feelus/Загрузки/STG-backups-FF-134.0.2/auto-stg-backup-day-of-month-26@drive4ik.json\n"
     ]
    }
   ],
   "source": [
    "fdb.ls_hist()"
   ]
  },
  {
   "cell_type": "code",
   "execution_count": 6,
   "id": "37d6a703-c62c-49df-bd48-14e3e804368a",
   "metadata": {},
   "outputs": [
    {
     "name": "stdout",
     "output_type": "stream",
     "text": [
      "True\tNone\t2  \t/home/feelus\n",
      "unused:\n",
      "------\n"
     ]
    }
   ],
   "source": [
    "fdb.list_owners(show_deleted=True)"
   ]
  },
  {
   "cell_type": "code",
   "execution_count": null,
   "id": "59c8ce79-c502-45c0-9926-36d8f0070b2a",
   "metadata": {},
   "outputs": [],
   "source": []
  },
  {
   "cell_type": "code",
   "execution_count": null,
   "id": "cbb4ca41-e846-4961-ac03-5b79c9b13278",
   "metadata": {},
   "outputs": [],
   "source": []
  },
  {
   "cell_type": "code",
   "execution_count": null,
   "id": "459a665a-4014-4f54-9626-11be96ab4745",
   "metadata": {},
   "outputs": [],
   "source": []
  },
  {
   "cell_type": "code",
   "execution_count": null,
   "id": "c3da5349-e4a0-4dee-94eb-14dc5f05659f",
   "metadata": {},
   "outputs": [],
   "source": []
  },
  {
   "cell_type": "code",
   "execution_count": null,
   "id": "60aaf66f-6d1d-456f-a6b4-17ec5660a38a",
   "metadata": {},
   "outputs": [],
   "source": []
  },
  {
   "cell_type": "code",
   "execution_count": null,
   "id": "25e13414-e45d-4974-bbd3-e7f8f456527b",
   "metadata": {},
   "outputs": [],
   "source": []
  },
  {
   "cell_type": "code",
   "execution_count": null,
   "id": "03f645a3-f50f-4acb-8a0b-0e0cc5fe11ef",
   "metadata": {},
   "outputs": [],
   "source": []
  },
  {
   "cell_type": "code",
   "execution_count": null,
   "id": "c6cbe6c0-f70a-4758-bb18-48268b8028d0",
   "metadata": {},
   "outputs": [],
   "source": []
  },
  {
   "cell_type": "code",
   "execution_count": 120,
   "id": "ad55e238-b47c-4709-80a1-cd1f71058d59",
   "metadata": {},
   "outputs": [],
   "source": [
    "fdb.update_owner('pyfiles-git',False)\n",
    "fdb.update_owner('filesdb',False)\n",
    "fdb.update_owner('backup',True)\n"
   ]
  },
  {
   "cell_type": "code",
   "execution_count": 109,
   "id": "57ef4b55-162f-4e3d-8404-1376642b6359",
   "metadata": {},
   "outputs": [
    {
     "data": {
      "text/plain": [
       "9"
      ]
     },
     "execution_count": 109,
     "metadata": {},
     "output_type": "execute_result"
    }
   ],
   "source": [
    "fdb.set_owner('.git','pyfiles-git',update=True,in_deleted=True,del_hist=True)"
   ]
  },
  {
   "cell_type": "code",
   "execution_count": 125,
   "id": "b79393d7-e70b-4e78-821f-436f92b054ee",
   "metadata": {},
   "outputs": [
    {
     "data": {
      "text/plain": [
       "134"
      ]
     },
     "execution_count": 125,
     "metadata": {},
     "output_type": "execute_result"
    }
   ],
   "source": [
    "fdb.set_owner('files2.db','filesdb',update=True,in_deleted=True,del_hist=True)\n",
    "fdb.set_owner('files2.db-shm','filesdb',update=True,in_deleted=True,del_hist=True)\n",
    "fdb.set_owner('files2.db-wal','filesdb',update=True,in_deleted=True,del_hist=True)\n",
    "fdb.set_owner('files2.db-journal','filesdb',update=True,in_deleted=True,del_hist=True)\n",
    "\n",
    "\n",
    "fdb.set_owner('.~Untitled.ipynb','backup',update=True,in_deleted=True,del_hist=True)"
   ]
  },
  {
   "cell_type": "code",
   "execution_count": 46,
   "id": "13a9be56-5b5a-4e28-8c35-6322d6e6b93c",
   "metadata": {},
   "outputs": [
    {
     "name": "stdout",
     "output_type": "stream",
     "text": [
      "[1, 2, 3, 4] /home/feelus/pyfiles/src :\n",
      "M 9\tdrwxrwxr-x\t2025-01-26 10:44:24.880991\t.git\t<=pyfiles-git\n",
      "- 16\t-rw-rw-r--\t2025-01-14 15:40:53.793935\t.gitignore\t\n",
      "M 8\tdrwxrwxr-x\t2025-01-13 08:34:06.240780\t.ipynb_checkpoints\t\n",
      "M 10\t-rw-rw-r--\t2025-01-26 14:43:39.722876\tUntitled.ipynb\t\n",
      "- 5\tdrwxr-xr-x\t2025-01-21 20:49:29.131182\t__pycache__\t\n",
      "- 6\tdrwxr-xr-x\t2025-01-20 16:06:39.900124\ta\t\n",
      "- 15\t-rw-rw-r--\t2025-01-16 12:56:40.531080\tbackup.sql\t\n",
      "- 12\t-rw-r--r--\t2025-01-14 14:42:09.380068\tfiles.db\t\n",
      "- 19\t-rw-r--r--\t2025-01-16 13:15:31.733491\tfiles1.db\t\n",
      "M 22\t-rw-r--r--\t2025-01-26 14:35:28.760391\tfiles2.db\t\n",
      "M 133\t-rw-r--r--\t2025-01-26 14:44:04.116853\tfiles2.db-shm\t\n",
      "M 132\t-rw-r--r--\t2025-01-26 14:44:04.186853\tfiles2.db-wal\t\n",
      "- 21\t-rw-r--r--\t2025-01-21 20:16:22.474247\tfiles3.db\t\n",
      "- 11\t-rw-r--r--\t2025-01-24 09:55:31.319546\tfiles:files2.db?mode=ro\t\n",
      "- 7\tlrwxrwxrwx\t2025-01-19 14:20:40.827281\tlink\t\n",
      "- 14\t-rw-rw-r--\t2025-01-14 04:24:33.066536\tnotify.py\t\n",
      "- 13\tprw-rw-r--\t2025-01-19 14:20:49.398276\tpipe\t\n",
      "M 17\t-rw-rw-r--\t2025-01-26 14:37:24.417271\tpyfiles.py\t\n",
      "- 20\t-rw-rw-r--\t2025-01-23 19:29:55.544149\ttest\t\n",
      "/home/feelus/pyfiles/src/.git :\n",
      "M 33\t-rw-rw-r--\t2025-01-26 10:44:24.879991\tCOMMIT_EDITMSG\t<=pyfiles-git\n",
      "- 37\t-rw-rw-r--\t2025-01-21 19:32:25.142279\tHEAD\t<=pyfiles-git\n",
      "- 32\tdrwxrwxr-x\t2025-01-14 15:39:20.944929\tbranches\t<=pyfiles-git\n",
      "- 36\t-rw-rw-r--\t2025-01-21 19:42:17.528071\tconfig\t<=pyfiles-git\n",
      "- 35\t-rw-rw-r--\t2025-01-14 15:39:20.597929\tdescription\t<=pyfiles-git\n",
      "- 31\tdrwxrwxr-x\t2025-01-14 15:39:20.944929\thooks\t<=pyfiles-git\n",
      "M 34\t-rw-rw-r--\t2025-01-26 10:44:24.879991\tindex\t<=pyfiles-git\n",
      "- 29\tdrwxrwxr-x\t2025-01-14 15:39:20.535928\tinfo\t<=pyfiles-git\n",
      "M 30\tdrwxrwxr-x\t2025-01-14 15:44:36.214953\tlogs\t<=pyfiles-git\n",
      "M 28\tdrwxrwxr-x\t2025-01-26 10:44:24.882991\tobjects\t<=pyfiles-git\n",
      "M 27\tdrwxrwxr-x\t2025-01-21 19:42:17.529071\trefs\t<=pyfiles-git\n",
      "/home/feelus/pyfiles/src/.git/branches :\n",
      "/home/feelus/pyfiles/src/.git/hooks :\n",
      "- 130\t-rwxrwxr-x\t2025-01-14 15:39:20.943928\tapplypatch-msg.sample\t<=pyfiles-git\n",
      "- 119\t-rwxrwxr-x\t2025-01-14 15:39:20.599929\tcommit-msg.sample\t<=pyfiles-git\n",
      "- 131\t-rwxrwxr-x\t2025-01-14 15:39:20.944929\tfsmonitor-watchman.sample\t<=pyfiles-git\n",
      "- 118\t-rwxrwxr-x\t2025-01-14 15:39:20.598928\tpost-update.sample\t<=pyfiles-git\n",
      "- 127\t-rwxrwxr-x\t2025-01-14 15:39:20.942929\tpre-applypatch.sample\t<=pyfiles-git\n",
      "- 128\t-rwxrwxr-x\t2025-01-14 15:39:20.943928\tpre-commit.sample\t<=pyfiles-git\n",
      "- 125\t-rwxrwxr-x\t2025-01-14 15:39:20.941929\tpre-merge-commit.sample\t<=pyfiles-git\n",
      "- 122\t-rwxrwxr-x\t2025-01-14 15:39:20.928929\tpre-push.sample\t<=pyfiles-git\n",
      "- 124\t-rwxrwxr-x\t2025-01-14 15:39:20.941929\tpre-rebase.sample\t<=pyfiles-git\n",
      "- 120\t-rwxrwxr-x\t2025-01-14 15:39:20.599929\tpre-receive.sample\t<=pyfiles-git\n",
      "- 129\t-rwxrwxr-x\t2025-01-14 15:39:20.943928\tprepare-commit-msg.sample\t<=pyfiles-git\n",
      "- 123\t-rwxrwxr-x\t2025-01-14 15:39:20.940928\tpush-to-checkout.sample\t<=pyfiles-git\n",
      "- 121\t-rwxrwxr-x\t2025-01-14 15:39:20.730928\tsendemail-validate.sample\t<=pyfiles-git\n",
      "- 126\t-rwxrwxr-x\t2025-01-14 15:39:20.942929\tupdate.sample\t<=pyfiles-git\n",
      "/home/feelus/pyfiles/src/.git/info :\n",
      "- 110\t-rw-rw-r--\t2025-01-14 15:39:20.546928\texclude\t<=pyfiles-git\n",
      "/home/feelus/pyfiles/src/.git/logs :\n",
      "M 112\t-rw-rw-r--\t2025-01-26 10:44:24.880991\tHEAD\t<=pyfiles-git\n",
      "M 111\tdrwxrwxr-x\t2025-01-21 19:42:17.529071\trefs\t<=pyfiles-git\n",
      "/home/feelus/pyfiles/src/.git/logs/refs :\n",
      "M 114\tdrwxrwxr-x\t2025-01-21 19:32:25.141279\theads\t<=pyfiles-git\n",
      "- 113\tdrwxrwxr-x\t2025-01-21 19:42:17.530071\tremotes\t<=pyfiles-git\n",
      "/home/feelus/pyfiles/src/.git/logs/refs/heads :\n",
      "M 117\t-rw-rw-r--\t2025-01-26 10:44:24.880991\tmaster\t<=pyfiles-git\n",
      "/home/feelus/pyfiles/src/.git/logs/refs/remotes :\n",
      "- 115\tdrwxrwxr-x\t2025-01-21 19:42:17.530071\torigin\t<=pyfiles-git\n",
      "/home/feelus/pyfiles/src/.git/logs/refs/remotes/origin :\n",
      "- 116\t-rw-rw-r--\t2025-01-26 01:30:48.518902\tmaster\t<=pyfiles-git\n",
      "/home/feelus/pyfiles/src/.git/objects :\n",
      "- 71\tdrwxrwxr-x\t2025-01-16 14:58:57.933949\t04\t<=pyfiles-git\n",
      "- 52\tdrwxrwxr-x\t2025-01-26 01:26:51.525162\t07\t<=pyfiles-git\n",
      "- 46\tdrwxrwxr-x\t2025-01-16 14:58:57.935949\t10\t<=pyfiles-git\n",
      "- 64\tdrwxrwxr-x\t2025-01-26 01:26:51.527162\t15\t<=pyfiles-git\n",
      "- 49\tdrwxrwxr-x\t2025-01-15 19:00:34.574902\t23\t<=pyfiles-git\n",
      "- 55\tdrwxrwxr-x\t2025-01-15 19:00:34.575902\t26\t<=pyfiles-git\n",
      "- 73\tdrwxrwxr-x\t2025-01-14 15:44:07.042950\t3b\t<=pyfiles-git\n",
      "- 54\tdrwxrwxr-x\t2025-01-19 06:42:27.272799\t42\t<=pyfiles-git\n",
      "- 48\tdrwxrwxr-x\t2025-01-24 13:40:02.058160\t44\t<=pyfiles-git\n",
      "- 56\tdrwxrwxr-x\t2025-01-14 15:44:36.209953\t45\t<=pyfiles-git\n",
      "- 47\tdrwxrwxr-x\t2025-01-21 19:23:59.882441\t4e\t<=pyfiles-git\n",
      "- 75\tdrwxrwxr-x\t2025-01-26 01:26:51.529162\t56\t<=pyfiles-git\n",
      "- 61\tdrwxrwxr-x\t2025-01-20 11:29:50.542135\t58\t<=pyfiles-git\n",
      "- 69\tdrwxrwxr-x\t2025-01-14 15:44:06.941950\t5c\t<=pyfiles-git\n",
      "M 136\tdrwxrwxr-x\t2025-01-26 10:01:59.060904\t73\t<=pyfiles-git\n",
      "- 72\tdrwxrwxr-x\t2025-01-20 11:29:50.543135\t7e\t<=pyfiles-git\n",
      "M 149\tdrwxrwxr-x\t2025-01-26 10:44:24.878991\t87\t<=pyfiles-git\n",
      "- 66\tdrwxrwxr-x\t2025-01-21 19:23:59.884441\t89\t<=pyfiles-git\n",
      "- 45\tdrwxrwxr-x\t2025-01-21 19:23:59.883441\t90\t<=pyfiles-git\n",
      "- 63\tdrwxrwxr-x\t2025-01-14 15:44:36.212953\t91\t<=pyfiles-git\n",
      "- 57\tdrwxrwxr-x\t2025-01-15 19:00:34.574902\t93\t<=pyfiles-git\n",
      "- 67\tdrwxrwxr-x\t2025-01-14 15:44:06.937950\t98\t<=pyfiles-git\n",
      "- 51\tdrwxrwxr-x\t2025-01-20 11:29:50.541135\ta1\t<=pyfiles-git\n",
      "M 143\tdrwxrwxr-x\t2025-01-26 10:01:59.091904\ta2\t<=pyfiles-git\n",
      "- 50\tdrwxrwxr-x\t2025-01-24 13:40:02.057159\ta9\t<=pyfiles-git\n",
      "- 62\tdrwxrwxr-x\t2025-01-17 08:21:20.993031\tad\t<=pyfiles-git\n",
      "- 68\tdrwxrwxr-x\t2025-01-17 08:21:20.995031\tb1\t<=pyfiles-git\n",
      "- 58\tdrwxrwxr-x\t2025-01-16 14:58:57.934949\tba\t<=pyfiles-git\n",
      "M 59\tdrwxrwxr-x\t2025-01-26 10:44:24.879991\tbb\t<=pyfiles-git\n",
      "- 60\tdrwxrwxr-x\t2025-01-26 01:26:51.528162\tc6\t<=pyfiles-git\n",
      "M 146\tdrwxrwxr-x\t2025-01-26 10:44:24.876991\tcb\t<=pyfiles-git\n",
      "M 141\tdrwxrwxr-x\t2025-01-26 10:01:59.089904\td0\t<=pyfiles-git\n",
      "- 76\tdrwxrwxr-x\t2025-01-17 08:21:20.992031\td8\t<=pyfiles-git\n",
      "M 152\tdrwxrwxr-x\t2025-01-26 10:44:24.880991\tdc\t<=pyfiles-git\n",
      "- 65\tdrwxrwxr-x\t2025-01-19 06:42:27.274799\te6\t<=pyfiles-git\n",
      "- 74\tdrwxrwxr-x\t2025-01-24 13:40:02.057159\tf4\t<=pyfiles-git\n",
      "M 139\tdrwxrwxr-x\t2025-01-26 10:01:59.063904\tf6\t<=pyfiles-git\n",
      "- 53\tdrwxrwxr-x\t2025-01-15 19:00:34.577902\tfa\t<=pyfiles-git\n",
      "- 70\tdrwxrwxr-x\t2025-01-14 15:39:20.962929\tinfo\t<=pyfiles-git\n",
      "- 44\tdrwxrwxr-x\t2025-01-14 15:39:20.962929\tpack\t<=pyfiles-git\n",
      "/home/feelus/pyfiles/src/.git/objects/04 :\n",
      "- 103\t-r--r--r--\t2025-01-16 14:58:57.933949\t8cb8deb88f1aba0612e887c33dc28371cefcde\t<=pyfiles-git\n",
      "/home/feelus/pyfiles/src/.git/objects/07 :\n",
      "- 84\t-r--r--r--\t2025-01-26 01:26:51.525162\t394f97c4519e11e0efc4ea6f5fa52904733094\t<=pyfiles-git\n",
      "/home/feelus/pyfiles/src/.git/objects/10 :\n",
      "- 78\t-r--r--r--\t2025-01-16 14:58:57.935949\t1c776297d45e4abe90a7226544c01a3ef21474\t<=pyfiles-git\n",
      "/home/feelus/pyfiles/src/.git/objects/15 :\n",
      "- 97\t-r--r--r--\t2025-01-26 01:26:51.527162\t4ac03e9ac4648606405b653f2e1376c6952167\t<=pyfiles-git\n",
      "/home/feelus/pyfiles/src/.git/objects/23 :\n",
      "- 81\t-r--r--r--\t2025-01-15 19:00:34.574902\tff026db3ffb96d5313f8e8b2ebc6a583687ab9\t<=pyfiles-git\n",
      "/home/feelus/pyfiles/src/.git/objects/26 :\n",
      "- 87\t-r--r--r--\t2025-01-15 19:00:34.575902\t40e313bcf6f16877bf367d91075aa6864c0ab2\t<=pyfiles-git\n",
      "/home/feelus/pyfiles/src/.git/objects/3b :\n",
      "- 105\t-r--r--r--\t2025-01-14 15:44:07.042950\t1eafb697668adf592c612e00ba3326b99c7b96\t<=pyfiles-git\n",
      "/home/feelus/pyfiles/src/.git/objects/42 :\n",
      "- 86\t-r--r--r--\t2025-01-19 06:42:27.272799\t3450db162c43f9b35b42aab2255876b8567d2a\t<=pyfiles-git\n",
      "/home/feelus/pyfiles/src/.git/objects/44 :\n",
      "- 80\t-r--r--r--\t2025-01-24 13:40:02.058160\t81f6512e4ded2040f7450a3759485244f91841\t<=pyfiles-git\n",
      "/home/feelus/pyfiles/src/.git/objects/45 :\n",
      "- 88\t-r--r--r--\t2025-01-14 15:44:36.209953\ta60472ef26539269d683039e71e488e3587921\t<=pyfiles-git\n",
      "/home/feelus/pyfiles/src/.git/objects/4e :\n",
      "- 79\t-r--r--r--\t2025-01-21 19:23:59.882441\t7aaf0c6bf6a9b3dc0a90f4abf16571a3b02501\t<=pyfiles-git\n",
      "/home/feelus/pyfiles/src/.git/objects/56 :\n",
      "- 107\t-r--r--r--\t2025-01-14 15:44:06.985950\t7c911c411c39a4297dcf082c2cdeb65f653ce8\t<=pyfiles-git\n",
      "- 108\t-r--r--r--\t2025-01-26 01:26:51.529162\t8ba55a2d0acc9b0df9c6936491be0dfac3cb47\t<=pyfiles-git\n",
      "/home/feelus/pyfiles/src/.git/objects/58 :\n",
      "- 94\t-r--r--r--\t2025-01-20 11:29:50.542135\tf4f78a903c850204725f1ac42336d4b5dee5fe\t<=pyfiles-git\n",
      "/home/feelus/pyfiles/src/.git/objects/5c :\n",
      "- 102\t-r--r--r--\t2025-01-14 15:44:06.941950\tc5e241e8363380a7ea3d5163212b0a7c124ed3\t<=pyfiles-git\n",
      "/home/feelus/pyfiles/src/.git/objects/73 :\n",
      "M 138\t-r--r--r--\t2025-01-26 10:01:59.060904\t45a2e4d9b4d5e453bf5ae931f1ab4ef46747cf\t<=pyfiles-git\n",
      "/home/feelus/pyfiles/src/.git/objects/7e :\n",
      "- 104\t-r--r--r--\t2025-01-20 11:29:50.543135\t7dc452c14760e02715cba9aab557be6260088b\t<=pyfiles-git\n",
      "/home/feelus/pyfiles/src/.git/objects/87 :\n",
      "M 150\t-r--r--r--\t2025-01-26 10:44:24.878991\t5e0f875a3c9133d8c9c0cc56028c75dba2a97d\t<=pyfiles-git\n",
      "/home/feelus/pyfiles/src/.git/objects/89 :\n",
      "- 99\t-r--r--r--\t2025-01-21 19:23:59.884441\t18465454f2743946777a79ad93ab781c8fb261\t<=pyfiles-git\n",
      "/home/feelus/pyfiles/src/.git/objects/90 :\n",
      "- 77\t-r--r--r--\t2025-01-21 19:23:59.883441\ta08884128dda359968cc6e5a78c37154af1768\t<=pyfiles-git\n",
      "/home/feelus/pyfiles/src/.git/objects/91 :\n",
      "- 96\t-r--r--r--\t2025-01-14 15:44:36.212953\t5a77d801b565863926525bafc067ad4dc597d9\t<=pyfiles-git\n",
      "/home/feelus/pyfiles/src/.git/objects/93 :\n",
      "- 89\t-r--r--r--\t2025-01-15 19:00:34.574902\t7539b42734d1b86caaae24aca1ad5a9b278261\t<=pyfiles-git\n",
      "/home/feelus/pyfiles/src/.git/objects/98 :\n",
      "- 100\t-r--r--r--\t2025-01-14 15:44:06.937950\te6ef67fad8af56cb3721edbd420b3d6fcc0bb1\t<=pyfiles-git\n",
      "/home/feelus/pyfiles/src/.git/objects/a1 :\n",
      "- 83\t-r--r--r--\t2025-01-20 11:29:50.541135\t9405f020d0e2d525a5782fa08bcf30a2fd0c47\t<=pyfiles-git\n",
      "/home/feelus/pyfiles/src/.git/objects/a2 :\n",
      "M 144\t-r--r--r--\t2025-01-26 10:01:59.091904\tfa6e838d2fb82ffa52f2315774879ad1070b36\t<=pyfiles-git\n",
      "/home/feelus/pyfiles/src/.git/objects/a9 :\n",
      "- 82\t-r--r--r--\t2025-01-24 13:40:02.057159\tdeb8841eed41f05d6289d04badb273782acd3e\t<=pyfiles-git\n",
      "/home/feelus/pyfiles/src/.git/objects/ad :\n",
      "- 95\t-r--r--r--\t2025-01-17 08:21:20.993031\tc454b39427013e7b037058bb4f0c5e63f2016d\t<=pyfiles-git\n",
      "/home/feelus/pyfiles/src/.git/objects/b1 :\n",
      "- 101\t-r--r--r--\t2025-01-17 08:21:20.994031\te41ead66493a01646ca2165d0c6956d13333d0\t<=pyfiles-git\n",
      "/home/feelus/pyfiles/src/.git/objects/ba :\n",
      "- 90\t-r--r--r--\t2025-01-16 14:58:57.934949\t786f9b9400c4ce5a16c243c6834c81d2390fed\t<=pyfiles-git\n",
      "/home/feelus/pyfiles/src/.git/objects/bb :\n",
      "M 151\t-r--r--r--\t2025-01-26 10:44:24.879991\t2c8a683d5d14c63596b5ca46edf5f4670794dc\t<=pyfiles-git\n",
      "- 91\t-r--r--r--\t2025-01-19 06:42:27.271799\t93da1c6a49cc7b87339f3153c1565f520ae0d2\t<=pyfiles-git\n",
      "/home/feelus/pyfiles/src/.git/objects/c6 :\n",
      "- 93\t-r--r--r--\t2025-01-26 01:26:51.528162\taea0699d5b8fc7ebed8ad2271777643f60ec69\t<=pyfiles-git\n",
      "- 92\t-r--r--r--\t2025-01-24 13:40:02.055160\te5986f6092952167d14c7ba193c2937b596bcf\t<=pyfiles-git\n",
      "/home/feelus/pyfiles/src/.git/objects/cb :\n",
      "M 148\t-r--r--r--\t2025-01-26 10:44:24.876991\td3334eb320547616a28c2c14df89b779b4923b\t<=pyfiles-git\n",
      "/home/feelus/pyfiles/src/.git/objects/d0 :\n",
      "M 142\t-r--r--r--\t2025-01-26 10:01:59.089904\tf6f0bfae6a2ac85c3dd6953348dadf9f43ff13\t<=pyfiles-git\n",
      "/home/feelus/pyfiles/src/.git/objects/d8 :\n",
      "- 109\t-r--r--r--\t2025-01-17 08:21:20.992031\ta25ee1ccc41f763ad41dc9247ee1308698f47b\t<=pyfiles-git\n",
      "/home/feelus/pyfiles/src/.git/objects/dc :\n",
      "M 153\t-r--r--r--\t2025-01-26 10:44:24.880991\t371da6af42e3b4ec11b020c7318bdbdb57fe25\t<=pyfiles-git\n",
      "/home/feelus/pyfiles/src/.git/objects/e6 :\n",
      "- 98\t-r--r--r--\t2025-01-19 06:42:27.274799\t6ec043cbde7d52ec0db7049adeafc3426648ee\t<=pyfiles-git\n",
      "/home/feelus/pyfiles/src/.git/objects/f4 :\n",
      "- 106\t-r--r--r--\t2025-01-24 13:40:02.057159\t906b390ada26c6367e8a71e21186da9a78909b\t<=pyfiles-git\n",
      "/home/feelus/pyfiles/src/.git/objects/f6 :\n",
      "M 140\t-r--r--r--\t2025-01-26 10:01:59.063904\tb676145c2731257d980b14552b85590c972cb6\t<=pyfiles-git\n",
      "/home/feelus/pyfiles/src/.git/objects/fa :\n",
      "- 85\t-r--r--r--\t2025-01-15 19:00:34.577902\t35185d2649d89c4ef276f0210f4dd5ba62b967\t<=pyfiles-git\n",
      "/home/feelus/pyfiles/src/.git/objects/info :\n",
      "/home/feelus/pyfiles/src/.git/objects/pack :\n",
      "/home/feelus/pyfiles/src/.git/refs :\n",
      "M 39\tdrwxrwxr-x\t2025-01-26 10:44:24.880991\theads\t<=pyfiles-git\n",
      "- 38\tdrwxrwxr-x\t2025-01-21 19:42:17.529071\tremotes\t<=pyfiles-git\n",
      "- 40\tdrwxrwxr-x\t2025-01-14 15:39:20.945929\ttags\t<=pyfiles-git\n",
      "/home/feelus/pyfiles/src/.git/refs/heads :\n",
      "M 43\t-rw-rw-r--\t2025-01-26 10:44:24.880991\tmaster\t<=pyfiles-git\n",
      "/home/feelus/pyfiles/src/.git/refs/remotes :\n",
      "- 41\tdrwxrwxr-x\t2025-01-26 01:30:48.518902\torigin\t<=pyfiles-git\n",
      "/home/feelus/pyfiles/src/.git/refs/remotes/origin :\n",
      "- 42\t-rw-rw-r--\t2025-01-26 01:30:48.517902\tmaster\t<=pyfiles-git\n",
      "/home/feelus/pyfiles/src/.git/refs/tags :\n",
      "/home/feelus/pyfiles/src/.ipynb_checkpoints :\n",
      "M 25\t-rw-rw-r--\t2025-01-26 14:41:00.628031\tUntitled-checkpoint.ipynb\t\n",
      "- 26\t-rw-rw-r--\t2025-01-12 16:11:30.088646\tpyfiles-checkpoint.py\t\n",
      "/home/feelus/pyfiles/src/__pycache__ :\n",
      "- 23\t-rw-r--r--\t2025-01-21 20:49:29.131182\tpyfiles.cpython-312.pyc\t\n",
      "/home/feelus/pyfiles/src/a :\n",
      "- 24\tdrwxr-xr-x\t2025-01-21 10:45:22.412671\tb\t\n",
      "/home/feelus/pyfiles/src/a/b :\n"
     ]
    }
   ],
   "source": [
    "fdb.ls_r()"
   ]
  },
  {
   "cell_type": "code",
   "execution_count": 16,
   "id": "70c0f5c3-52cb-49e6-90c3-2765cd3cade6",
   "metadata": {},
   "outputs": [
    {
     "data": {
      "text/plain": [
       "'/home/feelus/pyfiles/src/link'"
      ]
     },
     "execution_count": 16,
     "metadata": {},
     "output_type": "execute_result"
    }
   ],
   "source": [
    "fdb.id2path(7)"
   ]
  },
  {
   "cell_type": "code",
   "execution_count": 17,
   "id": "f70132a3-9a3c-4b5f-b335-792d19d51028",
   "metadata": {},
   "outputs": [
    {
     "data": {
      "text/plain": [
       "[(0, 'home', 1, 1, 2),\n",
       " (1, 'feelus', 2, 1, 2),\n",
       " (2, 'pyfiles', 3, 1, 2),\n",
       " (3, 'src', 4, 1, 1),\n",
       " (4, '__pycache__', 5, 1, 0),\n",
       " (4, 'a', 6, 1, 0)]"
      ]
     },
     "execution_count": 17,
     "metadata": {},
     "output_type": "execute_result"
    }
   ],
   "source": [
    "fdb.CON.execute('SELECT * FROM cur_dirs WHERE id < 7').fetchall()"
   ]
  },
  {
   "cell_type": "code",
   "execution_count": 58,
   "id": "e3e77f7d-6386-4d16-ae08-9f7fc802508f",
   "metadata": {},
   "outputs": [
    {
     "ename": "Exception",
     "evalue": "can't find fid 135",
     "output_type": "error",
     "traceback": [
      "\u001b[0;31m---------------------------------------------------------------------------\u001b[0m",
      "\u001b[0;31mException\u001b[0m                                 Traceback (most recent call last)",
      "Cell \u001b[0;32mIn[58], line 1\u001b[0m\n\u001b[0;32m----> 1\u001b[0m \u001b[43mfdb\u001b[49m\u001b[38;5;241;43m.\u001b[39;49m\u001b[43mhist_byid\u001b[49m\u001b[43m(\u001b[49m\u001b[38;5;241;43m135\u001b[39;49m\u001b[43m)\u001b[49m\n",
      "File \u001b[0;32m~/pyfiles/src/pyfiles.py:1320\u001b[0m, in \u001b[0;36mfilesdb.hist_byid\u001b[0;34m(self, fid)\u001b[0m\n\u001b[1;32m   1319\u001b[0m \u001b[38;5;28;01mdef\u001b[39;00m\u001b[38;5;250m \u001b[39m\u001b[38;5;21mhist_byid\u001b[39m(\u001b[38;5;28mself\u001b[39m, fid):\n\u001b[0;32m-> 1320\u001b[0m \t\u001b[38;5;28mprint\u001b[39m(\u001b[38;5;28;43mself\u001b[39;49m\u001b[38;5;241;43m.\u001b[39;49m\u001b[43mid2path_hist\u001b[49m\u001b[43m(\u001b[49m\u001b[43mfid\u001b[49m\u001b[43m,\u001b[49m\u001b[38;5;28;43mself\u001b[39;49m\u001b[38;5;241;43m.\u001b[39;49m\u001b[43mCUR\u001b[49m\u001b[43m)\u001b[49m)\n\u001b[1;32m   1321\u001b[0m \t\u001b[38;5;28;01mwith\u001b[39;00m closing(\u001b[38;5;28mself\u001b[39m\u001b[38;5;241m.\u001b[39mCON\u001b[38;5;241m.\u001b[39mexecute(\u001b[38;5;124m'\u001b[39m\u001b[38;5;124mSELECT * FROM cur_dirs WHERE id = ?\u001b[39m\u001b[38;5;124m'\u001b[39m,(fid,))) \u001b[38;5;28;01mas\u001b[39;00m cursor:\n\u001b[1;32m   1322\u001b[0m \t\t\u001b[38;5;28mlist\u001b[39m(\u001b[38;5;28mself\u001b[39m\u001b[38;5;241m.\u001b[39mprint_fid(cursor))\n",
      "File \u001b[0;32m~/pyfiles/src/pyfiles.py:590\u001b[0m, in \u001b[0;36mfilesdb.id2path_hist\u001b[0;34m(self, fid, cursor)\u001b[0m\n\u001b[1;32m    588\u001b[0m \tn \u001b[38;5;241m=\u001b[39m cursor\u001b[38;5;241m.\u001b[39mexecute(\u001b[38;5;124m'\u001b[39m\u001b[38;5;124mSELECT parent_id, name FROM deleted WHERE id = ?\u001b[39m\u001b[38;5;124m'\u001b[39m,(fid,))\u001b[38;5;241m.\u001b[39mfetchone()\n\u001b[1;32m    589\u001b[0m \t\u001b[38;5;28;01mif\u001b[39;00m n \u001b[38;5;129;01mis\u001b[39;00m \u001b[38;5;28;01mNone\u001b[39;00m:\n\u001b[0;32m--> 590\u001b[0m \t\t\u001b[38;5;28;01mraise\u001b[39;00m \u001b[38;5;167;01mException\u001b[39;00m(\u001b[38;5;124mf\u001b[39m\u001b[38;5;124m\"\u001b[39m\u001b[38;5;124mcan\u001b[39m\u001b[38;5;124m'\u001b[39m\u001b[38;5;124mt find fid \u001b[39m\u001b[38;5;132;01m{\u001b[39;00mfid\u001b[38;5;132;01m}\u001b[39;00m\u001b[38;5;124m\"\u001b[39m)\n\u001b[1;32m    591\u001b[0m (fid, name) \u001b[38;5;241m=\u001b[39m n\n\u001b[1;32m    592\u001b[0m path\u001b[38;5;241m.\u001b[39minsert(\u001b[38;5;241m0\u001b[39m,name)\n",
      "\u001b[0;31mException\u001b[0m: can't find fid 135"
     ]
    }
   ],
   "source": [
    "fdb.hist_byid(135)"
   ]
  },
  {
   "cell_type": "code",
   "execution_count": 71,
   "id": "380ad1eb-55e4-4b45-afcb-6806806394d2",
   "metadata": {},
   "outputs": [],
   "source": [
    "import pyfiles\n",
    "from datetime import datetime\n",
    "def hist_byid(self, fid):\n",
    "    for (parent_id, name, fid, typ, etyp,\n",
    "         st_mode, st_ino, st_dev, st_nlink, st_uid, st_gid, st_size, st_atime, st_mtime, st_ctime, st_blocks, st_blksize,\n",
    "        data, owner, time, static_found) in \\\n",
    "        self.CUR.execute('SELECT * FROM hist WHERE id = ? ORDER BY time DESC',(fid,)).fetchall():\n",
    "            if etyp==pyfiles.ECREAT: etyp = 'C'\n",
    "            elif etyp==pyfiles.EDEL: etyp = 'D'\n",
    "            elif etyp==pyfiles.EMOVE: etyp = 'V'\n",
    "            elif etyp==pyfiles.EMODIF:etyp= 'M'\n",
    "            else: assert False, etyp\n",
    "            if etyp=='V':\n",
    "                print(parent_id, name, etyp+' '+('S' if static_found else 'W')+' '+str(datetime.fromtimestamp(time)),\n",
    "                     self.id2path_hist(parent_id,self.CUR)[0]+'/'+name)\n",
    "            else:\n",
    "                print(parent_id, name, etyp+' '+('S' if static_found else 'W')+' '+str(datetime.fromtimestamp(time)))\n"
   ]
  },
  {
   "cell_type": "code",
   "execution_count": 72,
   "id": "0b4c3239-1280-458f-b570-374c5e63546d",
   "metadata": {},
   "outputs": [
    {
     "name": "stdout",
     "output_type": "stream",
     "text": [
      "9 1 D S 2025-01-26 10:43:10.839712\n",
      "9 index.lock V W 2025-01-26 10:01:59.109761 /home/feelus/pyfiles/src/.git/index.lock\n",
      "-1  C W 2025-01-26 10:01:59.055232\n"
     ]
    }
   ],
   "source": [
    "hist_byid(fdb,135)"
   ]
  },
  {
   "cell_type": "code",
   "execution_count": 73,
   "id": "6e3018ed-a341-4039-9c0c-53fab421d08c",
   "metadata": {},
   "outputs": [
    {
     "data": {
      "text/plain": [
       "'/home/feelus/pyfiles/src/.git'"
      ]
     },
     "execution_count": 73,
     "metadata": {},
     "output_type": "execute_result"
    }
   ],
   "source": [
    "fdb.id2path(9)"
   ]
  },
  {
   "cell_type": "code",
   "execution_count": null,
   "id": "4e987b90-3b74-4bbc-aa7c-7ebd72d8ab67",
   "metadata": {},
   "outputs": [],
   "source": []
  },
  {
   "cell_type": "code",
   "execution_count": null,
   "id": "60a6c968-a74e-45f3-a7f7-9a3f90475089",
   "metadata": {},
   "outputs": [],
   "source": []
  },
  {
   "cell_type": "code",
   "execution_count": null,
   "id": "d12cc88a-39b0-482c-add8-f4470a05527e",
   "metadata": {},
   "outputs": [],
   "source": []
  },
  {
   "cell_type": "code",
   "execution_count": null,
   "id": "044f141b-dcb3-446a-8357-0c3afb132958",
   "metadata": {},
   "outputs": [],
   "source": []
  },
  {
   "cell_type": "code",
   "execution_count": null,
   "id": "a5f9dd25-34cb-4fc7-a88a-6273fdcfd01b",
   "metadata": {},
   "outputs": [],
   "source": []
  },
  {
   "cell_type": "code",
   "execution_count": null,
   "id": "edcd7d33-650c-42ed-bc9f-2d632e07d693",
   "metadata": {},
   "outputs": [],
   "source": []
  },
  {
   "cell_type": "code",
   "execution_count": null,
   "id": "be2cc325-00a5-478a-8c39-500488aa458d",
   "metadata": {},
   "outputs": [],
   "source": []
  },
  {
   "cell_type": "code",
   "execution_count": null,
   "id": "8ea965c5-39b4-42ad-b3d2-cfddf9146666",
   "metadata": {},
   "outputs": [],
   "source": []
  },
  {
   "cell_type": "code",
   "execution_count": null,
   "id": "d248b49f-9465-4607-8a54-7fb878af757e",
   "metadata": {},
   "outputs": [],
   "source": []
  },
  {
   "cell_type": "code",
   "execution_count": null,
   "id": "97c6415c-23aa-4f14-9d48-48ce9a435592",
   "metadata": {},
   "outputs": [],
   "source": []
  },
  {
   "cell_type": "code",
   "execution_count": 43,
   "id": "ca2394c7-5910-4818-baa2-d909b68eadcc",
   "metadata": {},
   "outputs": [],
   "source": [
    "CON = sqlite3.connect('files2.db')\n",
    "CUR = CON.cursor()"
   ]
  },
  {
   "cell_type": "code",
   "execution_count": 44,
   "id": "eb6eb61f-52d6-4410-9885-be8d68717061",
   "metadata": {},
   "outputs": [
    {
     "data": {
      "text/plain": [
       "[(1,),\n",
       " (2,),\n",
       " (3,),\n",
       " (4,),\n",
       " (5,),\n",
       " (6,),\n",
       " (7,),\n",
       " (8,),\n",
       " (9,),\n",
       " (10,),\n",
       " (11,),\n",
       " (12,),\n",
       " (13,),\n",
       " (14,),\n",
       " (15,),\n",
       " (16,),\n",
       " (17,),\n",
       " (18,),\n",
       " (19,),\n",
       " (20,),\n",
       " (21,),\n",
       " (22,),\n",
       " (23,),\n",
       " (24,),\n",
       " (25,),\n",
       " (26,),\n",
       " (27,),\n",
       " (28,),\n",
       " (29,),\n",
       " (30,),\n",
       " (31,),\n",
       " (32,),\n",
       " (33,),\n",
       " (34,),\n",
       " (35,),\n",
       " (36,),\n",
       " (37,),\n",
       " (38,),\n",
       " (39,),\n",
       " (40,),\n",
       " (41,),\n",
       " (42,),\n",
       " (43,),\n",
       " (44,),\n",
       " (45,),\n",
       " (46,),\n",
       " (47,),\n",
       " (48,),\n",
       " (49,),\n",
       " (50,),\n",
       " (51,),\n",
       " (52,),\n",
       " (53,),\n",
       " (54,),\n",
       " (55,),\n",
       " (56,),\n",
       " (57,),\n",
       " (58,),\n",
       " (59,),\n",
       " (60,),\n",
       " (61,),\n",
       " (62,),\n",
       " (63,),\n",
       " (64,),\n",
       " (65,),\n",
       " (66,),\n",
       " (67,),\n",
       " (68,),\n",
       " (69,),\n",
       " (70,),\n",
       " (71,),\n",
       " (72,),\n",
       " (73,),\n",
       " (74,),\n",
       " (75,),\n",
       " (76,),\n",
       " (77,),\n",
       " (78,),\n",
       " (79,),\n",
       " (80,),\n",
       " (81,),\n",
       " (82,),\n",
       " (83,),\n",
       " (84,),\n",
       " (85,),\n",
       " (86,),\n",
       " (87,),\n",
       " (88,),\n",
       " (89,),\n",
       " (90,),\n",
       " (91,),\n",
       " (92,),\n",
       " (93,),\n",
       " (94,),\n",
       " (95,),\n",
       " (96,),\n",
       " (97,),\n",
       " (98,),\n",
       " (99,),\n",
       " (100,),\n",
       " (101,),\n",
       " (102,),\n",
       " (103,),\n",
       " (104,),\n",
       " (105,),\n",
       " (106,),\n",
       " (107,),\n",
       " (108,),\n",
       " (109,),\n",
       " (110,),\n",
       " (111,),\n",
       " (112,),\n",
       " (113,),\n",
       " (114,)]"
      ]
     },
     "execution_count": 44,
     "metadata": {},
     "output_type": "execute_result"
    }
   ],
   "source": [
    "CUR.execute('SELECT id FROM cur_dirs WHERE modified !=2').fetchall()"
   ]
  },
  {
   "cell_type": "code",
   "execution_count": 36,
   "id": "d1921a96-407d-43d9-8606-97c34a2433e2",
   "metadata": {},
   "outputs": [
    {
     "data": {
      "text/plain": [
       "[(1,\n",
       "  1,\n",
       "  16877,\n",
       "  2,\n",
       "  2052,\n",
       "  23,\n",
       "  0,\n",
       "  0,\n",
       "  4096,\n",
       "  1737445335.9309125,\n",
       "  1736555666.500639,\n",
       "  1736555666.500639,\n",
       "  8,\n",
       "  4096,\n",
       "  None,\n",
       "  None)]"
      ]
     },
     "execution_count": 36,
     "metadata": {},
     "output_type": "execute_result"
    }
   ],
   "source": [
    "CUR.execute('SELECT * FROM cur_stat').fetchall()"
   ]
  },
  {
   "cell_type": "code",
   "execution_count": 37,
   "id": "94db12bf-28ba-4255-90c6-e3de25e679dd",
   "metadata": {},
   "outputs": [],
   "source": [
    "CON.close()"
   ]
  },
  {
   "cell_type": "code",
   "execution_count": null,
   "id": "f557f15d-3f02-4de0-b255-0b64399053ab",
   "metadata": {},
   "outputs": [],
   "source": []
  },
  {
   "cell_type": "code",
   "execution_count": null,
   "id": "98865664-3266-40f4-bf2a-795e0ca2acc6",
   "metadata": {},
   "outputs": [],
   "source": []
  },
  {
   "cell_type": "code",
   "execution_count": null,
   "id": "147f713f-4be1-439b-8279-23e6a93fb3b1",
   "metadata": {},
   "outputs": [],
   "source": []
  },
  {
   "cell_type": "code",
   "execution_count": 59,
   "id": "82b03ee7-12d7-4f28-8f57-4ba66842c78f",
   "metadata": {},
   "outputs": [
    {
     "data": {
      "text/plain": [
       "'/home'"
      ]
     },
     "execution_count": 59,
     "metadata": {},
     "output_type": "execute_result"
    }
   ],
   "source": [
    "os.path.abspath('/boot/..//home')"
   ]
  },
  {
   "cell_type": "code",
   "execution_count": null,
   "id": "5be21a23-c491-462b-b5da-9c293a635fb6",
   "metadata": {},
   "outputs": [],
   "source": []
  },
  {
   "cell_type": "code",
   "execution_count": null,
   "id": "13b8dd25-8594-45b3-98f1-4930b71eaf22",
   "metadata": {},
   "outputs": [],
   "source": []
  },
  {
   "cell_type": "code",
   "execution_count": null,
   "id": "26d5224c-8c9b-44f4-ba04-eb4e7e122189",
   "metadata": {},
   "outputs": [],
   "source": []
  },
  {
   "cell_type": "code",
   "execution_count": 3,
   "id": "4c77fd9d-d467-41b5-bb35-d1c27d972f61",
   "metadata": {},
   "outputs": [
    {
     "data": {
      "text/plain": [
       "['/srv',\n",
       " '/bin.usr-is-merged',\n",
       " '/home',\n",
       " '/tmp',\n",
       " '/etc',\n",
       " '/boot',\n",
       " '/var',\n",
       " '/sbin.usr-is-merged',\n",
       " '/snap',\n",
       " '/root',\n",
       " '/lost+found',\n",
       " '/usr',\n",
       " '/opt',\n",
       " '/lib.usr-is-merged']"
      ]
     },
     "execution_count": 3,
     "metadata": {},
     "output_type": "execute_result"
    }
   ],
   "source": [
    "get_root_dirs()"
   ]
  },
  {
   "cell_type": "code",
   "execution_count": 5,
   "id": "9ab2c358-e509-471c-b04a-a1bc0baad2f9",
   "metadata": {},
   "outputs": [
    {
     "data": {
      "text/plain": [
       "1"
      ]
     },
     "execution_count": 5,
     "metadata": {},
     "output_type": "execute_result"
    }
   ],
   "source": [
    "import pyfiles as fd\n",
    "fd.VERBOSE"
   ]
  },
  {
   "cell_type": "code",
   "execution_count": 5,
   "id": "c27fd561-a110-467f-a98d-bc80b0a28420",
   "metadata": {},
   "outputs": [],
   "source": [
    "if 0:\n",
    "    fd.init_connction('files1.db')#['/']\n",
    "if 0:\n",
    "    fd.init_connction('files2.db')#[os.getcwd()]\n",
    "if 1:\n",
    "    fd.init_connction('files1.db',['/home/feelus/pyfiles'])\n",
    "\n"
   ]
  },
  {
   "cell_type": "code",
   "execution_count": 6,
   "id": "318a0cad-ed73-4cd0-9001-d9dfc7cda8fd",
   "metadata": {},
   "outputs": [],
   "source": [
    "# CON.close()"
   ]
  },
  {
   "cell_type": "code",
   "execution_count": 6,
   "id": "627b4da8-c0f9-4096-9a95-fb591f1b5e12",
   "metadata": {},
   "outputs": [
    {
     "data": {
      "text/plain": [
       "'/home/feelus/pyfiles/src'"
      ]
     },
     "execution_count": 6,
     "metadata": {},
     "output_type": "execute_result"
    }
   ],
   "source": [
    "os.getcwd()"
   ]
  },
  {
   "cell_type": "code",
   "execution_count": 9,
   "id": "6941ac37-889a-4e7c-a6a7-1566cd8185f4",
   "metadata": {},
   "outputs": [
    {
     "name": "stdout",
     "output_type": "stream",
     "text": [
      "[(0, 'home', 1, 1, 2), (1, 'feelus', 2, 1, 2), (2, 'pyfiles', 3, 1, 2), (3, 'src', 4, 1, 1), (4, 'link', 5, 2, 0), (4, '.ipynb_checkpoints', 6, 1, 0), (4, '.git', 7, 1, 0), (4, 'Untitled.ipynb', 8, 0, 1), (4, 'files.db', 9, 0, 0), (4, 'pipe', 10, 3, 0), (4, 'notify.py', 11, 0, 0), (4, 'backup.sql', 12, 0, 0), (4, '.gitignore', 13, 0, 0), (4, 'pyfiles.py', 14, 0, 0), (4, 'files2.db-journal', 15, 0, 1), (4, 'files1.db', 16, 0, 0), (4, 'files2.db', 17, 0, 0), (6, 'Untitled-checkpoint.ipynb', 18, 0, 0), (6, 'pyfiles-checkpoint.py', 19, 0, 0), (7, 'refs', 20, 1, 0), (7, 'objects', 21, 1, 0), (7, 'info', 22, 1, 0), (7, 'logs', 23, 1, 0), (7, 'hooks', 24, 1, 0), (7, 'branches', 25, 1, 0), (7, 'COMMIT_EDITMSG', 26, 0, 0), (7, 'index', 27, 0, 0), (7, 'description', 28, 0, 0), (7, 'config', 29, 0, 0), (7, 'HEAD', 30, 0, 0), (20, 'heads', 31, 1, 0), (20, 'tags', 32, 1, 0), (31, 'master', 33, 0, 0), (21, 'pack', 34, 1, 0), (21, '10', 35, 1, 0), (21, '23', 36, 1, 0), (21, 'fa', 37, 1, 0), (21, '42', 38, 1, 0), (21, '26', 39, 1, 0), (21, '45', 40, 1, 0), (21, '93', 41, 1, 0), (21, 'ba', 42, 1, 0), (21, 'bb', 43, 1, 0), (21, 'ad', 44, 1, 0), (21, '91', 45, 1, 0), (21, 'e6', 46, 1, 0), (21, '98', 47, 1, 0), (21, 'b1', 48, 1, 0), (21, '5c', 49, 1, 0), (21, 'info', 50, 1, 0), (21, '04', 51, 1, 0), (21, '3b', 52, 1, 0), (21, '56', 53, 1, 0), (21, 'd8', 54, 1, 0), (35, '1c776297d45e4abe90a7226544c01a3ef21474', 55, 0, 0), (36, 'ff026db3ffb96d5313f8e8b2ebc6a583687ab9', 56, 0, 0), (37, '35185d2649d89c4ef276f0210f4dd5ba62b967', 57, 0, 0), (38, '3450db162c43f9b35b42aab2255876b8567d2a', 58, 0, 0), (39, '40e313bcf6f16877bf367d91075aa6864c0ab2', 59, 0, 0), (40, 'a60472ef26539269d683039e71e488e3587921', 60, 0, 0), (41, '7539b42734d1b86caaae24aca1ad5a9b278261', 61, 0, 0), (42, '786f9b9400c4ce5a16c243c6834c81d2390fed', 62, 0, 0), (43, '93da1c6a49cc7b87339f3153c1565f520ae0d2', 63, 0, 0), (44, 'c454b39427013e7b037058bb4f0c5e63f2016d', 64, 0, 0), (45, '5a77d801b565863926525bafc067ad4dc597d9', 65, 0, 0), (46, '6ec043cbde7d52ec0db7049adeafc3426648ee', 66, 0, 0), (47, 'e6ef67fad8af56cb3721edbd420b3d6fcc0bb1', 67, 0, 0), (48, 'e41ead66493a01646ca2165d0c6956d13333d0', 68, 0, 0), (49, 'c5e241e8363380a7ea3d5163212b0a7c124ed3', 69, 0, 0), (51, '8cb8deb88f1aba0612e887c33dc28371cefcde', 70, 0, 0), (52, '1eafb697668adf592c612e00ba3326b99c7b96', 71, 0, 0), (53, '7c911c411c39a4297dcf082c2cdeb65f653ce8', 72, 0, 0), (54, 'a25ee1ccc41f763ad41dc9247ee1308698f47b', 73, 0, 0), (22, 'exclude', 74, 0, 0), (23, 'refs', 75, 1, 0), (23, 'HEAD', 76, 0, 0), (75, 'heads', 77, 1, 0), (77, 'master', 78, 0, 0), (24, 'post-update.sample', 79, 0, 0), (24, 'commit-msg.sample', 80, 0, 0), (24, 'pre-receive.sample', 81, 0, 0), (24, 'sendemail-validate.sample', 82, 0, 0), (24, 'pre-push.sample', 83, 0, 0), (24, 'push-to-checkout.sample', 84, 0, 0), (24, 'pre-rebase.sample', 85, 0, 0), (24, 'pre-merge-commit.sample', 86, 0, 0), (24, 'update.sample', 87, 0, 0), (24, 'pre-applypatch.sample', 88, 0, 0), (24, 'pre-commit.sample', 89, 0, 0), (24, 'prepare-commit-msg.sample', 90, 0, 0), (24, 'applypatch-msg.sample', 91, 0, 0), (24, 'fsmonitor-watchman.sample', 92, 0, 0), (4, 'a', 94, 1, 1), (94, 'b', 95, 1, 1), (4, 'src', 99, 1, 1), (99, 'files2.db-wal', 100, 0, 1), (4, 'files2.db-wal', 101, 0, 1)]\n"
     ]
    }
   ],
   "source": [
    "if not INIT_MODE:\n",
    "    with CON:\n",
    "        print(CUR.execute('SELECT * FROM cur_dirs').fetchall()[:100])"
   ]
  },
  {
   "cell_type": "markdown",
   "id": "8c32b058-7051-4ca8-85d0-5ccdfebcdd27",
   "metadata": {},
   "source": [
    "## cur_dirs"
   ]
  },
  {
   "cell_type": "code",
   "execution_count": 10,
   "id": "7a63b47a-c9be-4a75-9c46-9822617e64bb",
   "metadata": {},
   "outputs": [],
   "source": []
  },
  {
   "cell_type": "code",
   "execution_count": 11,
   "id": "97067d8f-7f43-4ae5-9b9d-81642ac340e6",
   "metadata": {},
   "outputs": [],
   "source": []
  },
  {
   "cell_type": "code",
   "execution_count": 12,
   "id": "79c9cde0-6563-47c6-99dd-895c42f1c7cb",
   "metadata": {},
   "outputs": [],
   "source": []
  },
  {
   "cell_type": "code",
   "execution_count": 13,
   "id": "e6df4af1-7bc0-478a-9ed7-f576a66ca9f2",
   "metadata": {},
   "outputs": [],
   "source": []
  },
  {
   "cell_type": "code",
   "execution_count": 14,
   "id": "bf0cc3fe-f70c-4ef4-8410-7069997d1f2d",
   "metadata": {},
   "outputs": [],
   "source": []
  },
  {
   "cell_type": "code",
   "execution_count": 15,
   "id": "a84a3f15-760f-4033-9c4f-46c99f4d6133",
   "metadata": {},
   "outputs": [],
   "source": [
    "if INIT_MODE:\n",
    "    with CON:\n",
    "        if CON.in_transaction:\n",
    "            CUR.execute('COMMIT')\n",
    "        CUR.execute('DROP TABLE IF EXISTS cur_dirs')\n",
    "        CUR.execute('''\n",
    "        CREATE TABLE cur_dirs (\n",
    "            parent_id INTEGER NOT NULL,           /* id папки, в которой лежит данный объект */\n",
    "            name TEXT NOT NULL,                   /* имя объекта в папке */\n",
    "            id INTEGER PRIMARY KEY AUTOINCREMENT, /* идентификатор объекта во всей БД */\n",
    "            type INTEGER NOT NULL,                /* MFILE, MDIR, MLINK, MOTHER */\n",
    "            modified INTEGER NOT NULL,            /* параметр обхода:\n",
    "                0 - заходим при полном обходе\n",
    "                1 - заходим приобходе модифицированных объектов\n",
    "                2 - по таблице заходим всегда, но в ФС никогда не просматриваем (и даже stat не делаем) */\n",
    "        UNIQUE(parent_id, name)\n",
    "        )\n",
    "        ''')\n",
    "        create_root('/boot',CUR)\n",
    "    \n",
    "        print(CUR.execute('SELECT * FROM cur_dirs').fetchall())\n",
    "    \n",
    "        create_root('/home',CUR)\n",
    "        print(CUR.execute('SELECT * FROM cur_dirs').fetchall())\n",
    "        CUR.execute('DROP TABLE cur_dirs')\n",
    "        CUR.execute('COMMIT')"
   ]
  },
  {
   "cell_type": "code",
   "execution_count": 16,
   "id": "67a067d5-11ea-42c1-823b-6ad3602059d7",
   "metadata": {},
   "outputs": [],
   "source": []
  },
  {
   "cell_type": "code",
   "execution_count": 17,
   "id": "7b6c8e4a-3174-4c9c-832e-c9f79cedb9c8",
   "metadata": {},
   "outputs": [],
   "source": [
    "if INIT_MODE:\n",
    "    with CON:\n",
    "        CUR.execute('DROP TABLE IF EXISTS cur_dirs; ')\n",
    "    start = time()\n",
    "    init_cur_dirs(ROOT_DIRS)\n",
    "    print(time() - start)\n",
    "# ~ 2min"
   ]
  },
  {
   "cell_type": "code",
   "execution_count": null,
   "id": "8ef0cd68-9654-4362-9d7f-f56e551ec38b",
   "metadata": {},
   "outputs": [],
   "source": []
  },
  {
   "cell_type": "code",
   "execution_count": 18,
   "id": "fd9e4625-2f31-42d5-9929-ac2cb3d48b77",
   "metadata": {
    "scrolled": true
   },
   "outputs": [
    {
     "name": "stdout",
     "output_type": "stream",
     "text": [
      "97\n",
      "(0, 'home', 1, 1, 2)\n",
      "(1, 'feelus', 2, 1, 2)\n",
      "(2, 'pyfiles', 3, 1, 2)\n",
      "(3, 'src', 4, 1, 1)\n",
      "(4, 'link', 5, 2, 0)\n",
      "(4, '.ipynb_checkpoints', 6, 1, 0)\n",
      "(4, '.git', 7, 1, 0)\n",
      "(4, 'Untitled.ipynb', 8, 0, 1)\n",
      "(4, 'files.db', 9, 0, 0)\n",
      "(4, 'pipe', 10, 3, 0)\n",
      "(4, 'notify.py', 11, 0, 0)\n",
      "(4, 'backup.sql', 12, 0, 0)\n",
      "(4, '.gitignore', 13, 0, 0)\n",
      "(4, 'pyfiles.py', 14, 0, 0)\n",
      "(4, 'files2.db-journal', 15, 0, 1)\n",
      "(4, 'files1.db', 16, 0, 0)\n",
      "(4, 'files2.db', 17, 0, 0)\n",
      "(6, 'Untitled-checkpoint.ipynb', 18, 0, 0)\n",
      "(6, 'pyfiles-checkpoint.py', 19, 0, 0)\n",
      "(7, 'refs', 20, 1, 0)\n",
      "(7, 'objects', 21, 1, 0)\n",
      "(7, 'info', 22, 1, 0)\n",
      "(7, 'logs', 23, 1, 0)\n",
      "(7, 'hooks', 24, 1, 0)\n",
      "(7, 'branches', 25, 1, 0)\n",
      "(7, 'COMMIT_EDITMSG', 26, 0, 0)\n",
      "(7, 'index', 27, 0, 0)\n",
      "(7, 'description', 28, 0, 0)\n",
      "(7, 'config', 29, 0, 0)\n",
      "(7, 'HEAD', 30, 0, 0)\n",
      "(20, 'heads', 31, 1, 0)\n",
      "(20, 'tags', 32, 1, 0)\n",
      "(31, 'master', 33, 0, 0)\n",
      "(21, 'pack', 34, 1, 0)\n",
      "(21, '10', 35, 1, 0)\n",
      "(21, '23', 36, 1, 0)\n",
      "(21, 'fa', 37, 1, 0)\n",
      "(21, '42', 38, 1, 0)\n",
      "(21, '26', 39, 1, 0)\n",
      "(21, '45', 40, 1, 0)\n",
      "(21, '93', 41, 1, 0)\n",
      "(21, 'ba', 42, 1, 0)\n",
      "(21, 'bb', 43, 1, 0)\n",
      "(21, 'ad', 44, 1, 0)\n",
      "(21, '91', 45, 1, 0)\n",
      "(21, 'e6', 46, 1, 0)\n",
      "(21, '98', 47, 1, 0)\n",
      "(21, 'b1', 48, 1, 0)\n",
      "(21, '5c', 49, 1, 0)\n",
      "(21, 'info', 50, 1, 0)\n",
      "(21, '04', 51, 1, 0)\n",
      "(21, '3b', 52, 1, 0)\n",
      "(21, '56', 53, 1, 0)\n",
      "(21, 'd8', 54, 1, 0)\n",
      "(35, '1c776297d45e4abe90a7226544c01a3ef21474', 55, 0, 0)\n",
      "(36, 'ff026db3ffb96d5313f8e8b2ebc6a583687ab9', 56, 0, 0)\n",
      "(37, '35185d2649d89c4ef276f0210f4dd5ba62b967', 57, 0, 0)\n",
      "(38, '3450db162c43f9b35b42aab2255876b8567d2a', 58, 0, 0)\n",
      "(39, '40e313bcf6f16877bf367d91075aa6864c0ab2', 59, 0, 0)\n",
      "(40, 'a60472ef26539269d683039e71e488e3587921', 60, 0, 0)\n",
      "(41, '7539b42734d1b86caaae24aca1ad5a9b278261', 61, 0, 0)\n",
      "(42, '786f9b9400c4ce5a16c243c6834c81d2390fed', 62, 0, 0)\n",
      "(43, '93da1c6a49cc7b87339f3153c1565f520ae0d2', 63, 0, 0)\n",
      "(44, 'c454b39427013e7b037058bb4f0c5e63f2016d', 64, 0, 0)\n",
      "(45, '5a77d801b565863926525bafc067ad4dc597d9', 65, 0, 0)\n",
      "(46, '6ec043cbde7d52ec0db7049adeafc3426648ee', 66, 0, 0)\n",
      "(47, 'e6ef67fad8af56cb3721edbd420b3d6fcc0bb1', 67, 0, 0)\n",
      "(48, 'e41ead66493a01646ca2165d0c6956d13333d0', 68, 0, 0)\n",
      "(49, 'c5e241e8363380a7ea3d5163212b0a7c124ed3', 69, 0, 0)\n",
      "(51, '8cb8deb88f1aba0612e887c33dc28371cefcde', 70, 0, 0)\n",
      "(52, '1eafb697668adf592c612e00ba3326b99c7b96', 71, 0, 0)\n",
      "(53, '7c911c411c39a4297dcf082c2cdeb65f653ce8', 72, 0, 0)\n",
      "(54, 'a25ee1ccc41f763ad41dc9247ee1308698f47b', 73, 0, 0)\n",
      "(22, 'exclude', 74, 0, 0)\n",
      "(23, 'refs', 75, 1, 0)\n",
      "(23, 'HEAD', 76, 0, 0)\n",
      "(75, 'heads', 77, 1, 0)\n",
      "(77, 'master', 78, 0, 0)\n",
      "(24, 'post-update.sample', 79, 0, 0)\n",
      "(24, 'commit-msg.sample', 80, 0, 0)\n",
      "(24, 'pre-receive.sample', 81, 0, 0)\n",
      "(24, 'sendemail-validate.sample', 82, 0, 0)\n",
      "(24, 'pre-push.sample', 83, 0, 0)\n",
      "(24, 'push-to-checkout.sample', 84, 0, 0)\n",
      "(24, 'pre-rebase.sample', 85, 0, 0)\n",
      "(24, 'pre-merge-commit.sample', 86, 0, 0)\n",
      "(24, 'update.sample', 87, 0, 0)\n",
      "(24, 'pre-applypatch.sample', 88, 0, 0)\n",
      "(24, 'pre-commit.sample', 89, 0, 0)\n",
      "(24, 'prepare-commit-msg.sample', 90, 0, 0)\n",
      "(24, 'applypatch-msg.sample', 91, 0, 0)\n",
      "(24, 'fsmonitor-watchman.sample', 92, 0, 0)\n",
      "(4, 'a', 94, 1, 1)\n",
      "(94, 'b', 95, 1, 1)\n",
      "(4, 'src', 99, 1, 1)\n",
      "(99, 'files2.db-wal', 100, 0, 1)\n",
      "(4, 'files2.db-wal', 101, 0, 1)\n"
     ]
    }
   ],
   "source": [
    "with CON:\n",
    "    dirs = CUR.execute('SELECT * FROM cur_dirs').fetchall()\n",
    "    # Выводим результаты\n",
    "    print(len(dirs))\n",
    "    for file in dirs[0:1000]:\n",
    "        print(file)\n",
    "    "
   ]
  },
  {
   "cell_type": "code",
   "execution_count": 19,
   "id": "abc1b51a-9be6-4e68-b6b7-41a92307fb7c",
   "metadata": {
    "scrolled": true
   },
   "outputs": [
    {
     "name": "stdout",
     "output_type": "stream",
     "text": [
      "/home/feelus/pyfiles/src/\n",
      "/home/feelus/pyfiles/src/Untitled.ipynb\n",
      "/home/feelus/pyfiles/src/a/\n",
      "/home/feelus/pyfiles/src/a/b/\n",
      "/home/feelus/pyfiles/src/files2.db-journal\n",
      "/home/feelus/pyfiles/src/files2.db-wal\n",
      "/home/feelus/pyfiles/src/src/\n",
      "/home/feelus/pyfiles/src/src/files2.db-wal\n"
     ]
    }
   ],
   "source": [
    "\n",
    "list_modified()"
   ]
  },
  {
   "cell_type": "code",
   "execution_count": 20,
   "id": "a51e2323-1c08-493b-991d-5bcfc523ee27",
   "metadata": {},
   "outputs": [
    {
     "name": "stdout",
     "output_type": "stream",
     "text": [
      "[None]\n"
     ]
    }
   ],
   "source": [
    "with CON:\n",
    "    print(path2ids('/boot',CUR))"
   ]
  },
  {
   "cell_type": "code",
   "execution_count": 21,
   "id": "b06e47c5-6e8b-4d28-b329-1baaae1c0d19",
   "metadata": {},
   "outputs": [
    {
     "name": "stdout",
     "output_type": "stream",
     "text": [
      "/home/feelus/pyfiles\n"
     ]
    }
   ],
   "source": [
    "with CON:\n",
    "    print(id2path(3,CUR))"
   ]
  },
  {
   "cell_type": "markdown",
   "id": "195db08e-7a4f-4a06-a4c4-3668347d8ee1",
   "metadata": {},
   "source": [
    "## cur_stat"
   ]
  },
  {
   "cell_type": "code",
   "execution_count": 24,
   "id": "06d4b074-24b9-4f65-95ba-55870bce6cb4",
   "metadata": {},
   "outputs": [
    {
     "name": "stdout",
     "output_type": "stream",
     "text": [
      "[(0, 'home', 1, 1, 2)]\n"
     ]
    }
   ],
   "source": [
    "with CON:\n",
    "    print(CUR.execute('SELECT * from cur_dirs WHERE parent_id=0').fetchall())"
   ]
  },
  {
   "cell_type": "code",
   "execution_count": 25,
   "id": "7998079b-00d6-4f1f-ab2c-d6d1be877535",
   "metadata": {},
   "outputs": [],
   "source": []
  },
  {
   "cell_type": "code",
   "execution_count": 26,
   "id": "f6792af6-0d96-40ea-9c2b-6b138dd0cd6e",
   "metadata": {},
   "outputs": [
    {
     "data": {
      "text/plain": [
       "'rwxr-xr-x'"
      ]
     },
     "execution_count": 26,
     "metadata": {},
     "output_type": "execute_result"
    }
   ],
   "source": [
    "access_mode(16877)"
   ]
  },
  {
   "cell_type": "code",
   "execution_count": 27,
   "id": "d7311d38-f61a-4550-a890-9fbc1dbabafe",
   "metadata": {},
   "outputs": [
    {
     "data": {
      "text/plain": [
       "'feelus'"
      ]
     },
     "execution_count": 27,
     "metadata": {},
     "output_type": "execute_result"
    }
   ],
   "source": [
    "\n",
    "\n",
    "get_username_by_uid(1000)\n"
   ]
  },
  {
   "cell_type": "code",
   "execution_count": 28,
   "id": "b6f2a8aa-181e-4a7f-b97b-4536cb7ffab8",
   "metadata": {},
   "outputs": [
    {
     "data": {
      "text/plain": [
       "'feelus'"
      ]
     },
     "execution_count": 28,
     "metadata": {},
     "output_type": "execute_result"
    }
   ],
   "source": [
    "\n",
    "\n",
    "get_groupname_by_gid(1000)\n"
   ]
  },
  {
   "cell_type": "code",
   "execution_count": 29,
   "id": "4dd28a70-7648-4b8a-a017-ab8eefb6d84a",
   "metadata": {},
   "outputs": [],
   "source": []
  },
  {
   "cell_type": "code",
   "execution_count": 30,
   "id": "382be082-bc1d-404b-b14d-58652e620200",
   "metadata": {},
   "outputs": [],
   "source": []
  },
  {
   "cell_type": "code",
   "execution_count": 31,
   "id": "898e2b4b-4a86-48f3-be5c-ae8dd21da32b",
   "metadata": {
    "scrolled": true
   },
   "outputs": [
    {
     "name": "stdout",
     "output_type": "stream",
     "text": [
      " :\n",
      "R 1\td\thome\n",
      "/home :\n",
      "R 2\td\tfeelus\n",
      "/home/feelus :\n",
      "R 3\td\tpyfiles\n",
      "/home/feelus/pyfiles :\n",
      "M 4\tdrwxrwxr-x\t2025-01-20 17:30:48.554845\tsrc\t\n",
      "/home/feelus/pyfiles/src :\n",
      "- 7\tdrwxrwxr-x\t2025-01-19 06:42:27.275799\t.git\t<=git\n",
      "- 13\t-rw-rw-r--\t2025-01-14 15:40:53.793935\t.gitignore\t\n",
      "- 6\tdrwxrwxr-x\t2025-01-13 08:34:06.240780\t.ipynb_checkpoints\t\n",
      "M 8\t-rw-rw-r--\t2025-01-20 17:27:56.247324\tUntitled.ipynb\t\n",
      "M 94\tdrwxr-xr-x\t2025-01-20 16:06:39.900124\ta\t\n",
      "- 12\t-rw-rw-r--\t2025-01-16 12:56:40.531080\tbackup.sql\t\n",
      "- 9\t-rw-r--r--\t2025-01-14 14:42:09.380068\tfiles.db\t\n",
      "- 16\t-rw-r--r--\t2025-01-16 13:15:31.733491\tfiles1.db\t\n",
      "- 17\t-rw-r--r--\t2025-01-20 11:20:09.034473\tfiles2.db\t\n",
      "M 15\t-rw-r--r--\t2025-01-20 11:20:10.984473\tfiles2.db-journal\t\n",
      "M 101\t-rw-r--r--\t2025-01-20 17:29:44.936019\tfiles2.db-wal\t\n",
      "- 5\tlrwxrwxrwx\t2025-01-19 14:20:40.827281\tlink\t\n",
      "- 11\t-rw-rw-r--\t2025-01-14 04:24:33.066536\tnotify.py\t\n",
      "- 10\tprw-rw-r--\t2025-01-19 14:20:49.398276\tpipe\t\n",
      "- 14\t-rw-rw-r--\t2025-01-15 06:54:08.153996\tpyfiles.py\t\n",
      "M 99\tdrwxrwxr-x\t2025-01-20 16:23:30.484017\tsrc\t\n",
      "/home/feelus/pyfiles/src/.git :\n",
      "- 26\t-rw-rw-r--\t2025-01-19 06:42:27.273798\tCOMMIT_EDITMSG\t<=git\n",
      "- 30\t-rw-rw-r--\t2025-01-14 15:39:20.947928\tHEAD\t<=git\n",
      "- 25\tdrwxrwxr-x\t2025-01-14 15:39:20.944929\tbranches\t<=git\n",
      "- 29\t-rw-rw-r--\t2025-01-14 15:39:20.961929\tconfig\t<=git\n",
      "- 28\t-rw-rw-r--\t2025-01-14 15:39:20.597929\tdescription\t<=git\n",
      "- 24\tdrwxrwxr-x\t2025-01-14 15:39:20.944929\thooks\t<=git\n",
      "- 27\t-rw-rw-r--\t2025-01-19 06:42:27.272799\tindex\t<=git\n",
      "- 22\tdrwxrwxr-x\t2025-01-14 15:39:20.535928\tinfo\t<=git\n",
      "- 23\tdrwxrwxr-x\t2025-01-14 15:44:36.214953\tlogs\t<=git\n",
      "- 21\tdrwxrwxr-x\t2025-01-19 06:42:27.317798\tobjects\t<=git\n",
      "- 20\tdrwxrwxr-x\t2025-01-14 15:39:20.945929\trefs\t<=git\n",
      "/home/feelus/pyfiles/src/.git/branches :\n",
      "/home/feelus/pyfiles/src/.git/hooks :\n",
      "- 91\t-rwxrwxr-x\t2025-01-14 15:39:20.943928\tapplypatch-msg.sample\t<=git\n",
      "- 80\t-rwxrwxr-x\t2025-01-14 15:39:20.599929\tcommit-msg.sample\t<=git\n",
      "- 92\t-rwxrwxr-x\t2025-01-14 15:39:20.944929\tfsmonitor-watchman.sample\t<=git\n",
      "- 79\t-rwxrwxr-x\t2025-01-14 15:39:20.598928\tpost-update.sample\t<=git\n",
      "- 88\t-rwxrwxr-x\t2025-01-14 15:39:20.942929\tpre-applypatch.sample\t<=git\n",
      "- 89\t-rwxrwxr-x\t2025-01-14 15:39:20.943928\tpre-commit.sample\t<=git\n",
      "- 86\t-rwxrwxr-x\t2025-01-14 15:39:20.941929\tpre-merge-commit.sample\t<=git\n",
      "- 83\t-rwxrwxr-x\t2025-01-14 15:39:20.928929\tpre-push.sample\t<=git\n",
      "- 85\t-rwxrwxr-x\t2025-01-14 15:39:20.941929\tpre-rebase.sample\t<=git\n",
      "- 81\t-rwxrwxr-x\t2025-01-14 15:39:20.599929\tpre-receive.sample\t<=git\n",
      "- 90\t-rwxrwxr-x\t2025-01-14 15:39:20.943928\tprepare-commit-msg.sample\t<=git\n",
      "- 84\t-rwxrwxr-x\t2025-01-14 15:39:20.940928\tpush-to-checkout.sample\t<=git\n",
      "- 82\t-rwxrwxr-x\t2025-01-14 15:39:20.730928\tsendemail-validate.sample\t<=git\n",
      "- 87\t-rwxrwxr-x\t2025-01-14 15:39:20.942929\tupdate.sample\t<=git\n",
      "/home/feelus/pyfiles/src/.git/info :\n",
      "- 74\t-rw-rw-r--\t2025-01-14 15:39:20.546928\texclude\t<=git\n",
      "/home/feelus/pyfiles/src/.git/logs :\n",
      "- 76\t-rw-rw-r--\t2025-01-19 06:42:27.274799\tHEAD\t<=git\n",
      "- 75\tdrwxrwxr-x\t2025-01-14 15:44:36.214953\trefs\t<=git\n",
      "/home/feelus/pyfiles/src/.git/logs/refs :\n",
      "- 77\tdrwxrwxr-x\t2025-01-14 15:44:36.214953\theads\t<=git\n",
      "/home/feelus/pyfiles/src/.git/logs/refs/heads :\n",
      "- 78\t-rw-rw-r--\t2025-01-19 06:42:27.274799\tmaster\t<=git\n",
      "/home/feelus/pyfiles/src/.git/objects :\n",
      "- 51\tdrwxrwxr-x\t2025-01-16 14:58:57.933949\t04\t<=git\n",
      "- 35\tdrwxrwxr-x\t2025-01-16 14:58:57.935949\t10\t<=git\n",
      "- 36\tdrwxrwxr-x\t2025-01-15 19:00:34.574902\t23\t<=git\n",
      "- 39\tdrwxrwxr-x\t2025-01-15 19:00:34.575902\t26\t<=git\n",
      "- 52\tdrwxrwxr-x\t2025-01-14 15:44:07.042950\t3b\t<=git\n",
      "- 38\tdrwxrwxr-x\t2025-01-19 06:42:27.272799\t42\t<=git\n",
      "- 40\tdrwxrwxr-x\t2025-01-14 15:44:36.209953\t45\t<=git\n",
      "- 53\tdrwxrwxr-x\t2025-01-14 15:44:06.985950\t56\t<=git\n",
      "- 49\tdrwxrwxr-x\t2025-01-14 15:44:06.941950\t5c\t<=git\n",
      "- 45\tdrwxrwxr-x\t2025-01-14 15:44:36.212953\t91\t<=git\n",
      "- 41\tdrwxrwxr-x\t2025-01-15 19:00:34.574902\t93\t<=git\n",
      "- 47\tdrwxrwxr-x\t2025-01-14 15:44:06.937950\t98\t<=git\n",
      "- 44\tdrwxrwxr-x\t2025-01-17 08:21:20.993031\tad\t<=git\n",
      "- 48\tdrwxrwxr-x\t2025-01-17 08:21:20.995031\tb1\t<=git\n",
      "- 42\tdrwxrwxr-x\t2025-01-16 14:58:57.934949\tba\t<=git\n",
      "- 43\tdrwxrwxr-x\t2025-01-19 06:42:27.271799\tbb\t<=git\n",
      "- 54\tdrwxrwxr-x\t2025-01-17 08:21:20.992031\td8\t<=git\n",
      "- 46\tdrwxrwxr-x\t2025-01-19 06:42:27.274799\te6\t<=git\n",
      "- 37\tdrwxrwxr-x\t2025-01-15 19:00:34.577902\tfa\t<=git\n",
      "- 50\tdrwxrwxr-x\t2025-01-14 15:39:20.962929\tinfo\t<=git\n",
      "- 34\tdrwxrwxr-x\t2025-01-14 15:39:20.962929\tpack\t<=git\n",
      "/home/feelus/pyfiles/src/.git/objects/04 :\n",
      "- 70\t-r--r--r--\t2025-01-16 14:58:57.933949\t8cb8deb88f1aba0612e887c33dc28371cefcde\t<=git\n",
      "/home/feelus/pyfiles/src/.git/objects/10 :\n",
      "- 55\t-r--r--r--\t2025-01-16 14:58:57.935949\t1c776297d45e4abe90a7226544c01a3ef21474\t<=git\n",
      "/home/feelus/pyfiles/src/.git/objects/23 :\n",
      "- 56\t-r--r--r--\t2025-01-15 19:00:34.574902\tff026db3ffb96d5313f8e8b2ebc6a583687ab9\t<=git\n",
      "/home/feelus/pyfiles/src/.git/objects/26 :\n",
      "- 59\t-r--r--r--\t2025-01-15 19:00:34.575902\t40e313bcf6f16877bf367d91075aa6864c0ab2\t<=git\n",
      "/home/feelus/pyfiles/src/.git/objects/3b :\n",
      "- 71\t-r--r--r--\t2025-01-14 15:44:07.042950\t1eafb697668adf592c612e00ba3326b99c7b96\t<=git\n",
      "/home/feelus/pyfiles/src/.git/objects/42 :\n",
      "- 58\t-r--r--r--\t2025-01-19 06:42:27.272799\t3450db162c43f9b35b42aab2255876b8567d2a\t<=git\n",
      "/home/feelus/pyfiles/src/.git/objects/45 :\n",
      "- 60\t-r--r--r--\t2025-01-14 15:44:36.209953\ta60472ef26539269d683039e71e488e3587921\t<=git\n",
      "/home/feelus/pyfiles/src/.git/objects/56 :\n",
      "- 72\t-r--r--r--\t2025-01-14 15:44:06.985950\t7c911c411c39a4297dcf082c2cdeb65f653ce8\t<=git\n",
      "/home/feelus/pyfiles/src/.git/objects/5c :\n",
      "- 69\t-r--r--r--\t2025-01-14 15:44:06.941950\tc5e241e8363380a7ea3d5163212b0a7c124ed3\t<=git\n",
      "/home/feelus/pyfiles/src/.git/objects/91 :\n",
      "- 65\t-r--r--r--\t2025-01-14 15:44:36.212953\t5a77d801b565863926525bafc067ad4dc597d9\t<=git\n",
      "/home/feelus/pyfiles/src/.git/objects/93 :\n",
      "- 61\t-r--r--r--\t2025-01-15 19:00:34.574902\t7539b42734d1b86caaae24aca1ad5a9b278261\t<=git\n",
      "/home/feelus/pyfiles/src/.git/objects/98 :\n",
      "- 67\t-r--r--r--\t2025-01-14 15:44:06.937950\te6ef67fad8af56cb3721edbd420b3d6fcc0bb1\t<=git\n",
      "/home/feelus/pyfiles/src/.git/objects/ad :\n",
      "- 64\t-r--r--r--\t2025-01-17 08:21:20.993031\tc454b39427013e7b037058bb4f0c5e63f2016d\t<=git\n",
      "/home/feelus/pyfiles/src/.git/objects/b1 :\n",
      "- 68\t-r--r--r--\t2025-01-17 08:21:20.994031\te41ead66493a01646ca2165d0c6956d13333d0\t<=git\n",
      "/home/feelus/pyfiles/src/.git/objects/ba :\n",
      "- 62\t-r--r--r--\t2025-01-16 14:58:57.934949\t786f9b9400c4ce5a16c243c6834c81d2390fed\t<=git\n",
      "/home/feelus/pyfiles/src/.git/objects/bb :\n",
      "- 63\t-r--r--r--\t2025-01-19 06:42:27.271799\t93da1c6a49cc7b87339f3153c1565f520ae0d2\t<=git\n",
      "/home/feelus/pyfiles/src/.git/objects/d8 :\n",
      "- 73\t-r--r--r--\t2025-01-17 08:21:20.992031\ta25ee1ccc41f763ad41dc9247ee1308698f47b\t<=git\n",
      "/home/feelus/pyfiles/src/.git/objects/e6 :\n",
      "- 66\t-r--r--r--\t2025-01-19 06:42:27.274799\t6ec043cbde7d52ec0db7049adeafc3426648ee\t<=git\n",
      "/home/feelus/pyfiles/src/.git/objects/fa :\n",
      "- 57\t-r--r--r--\t2025-01-15 19:00:34.577902\t35185d2649d89c4ef276f0210f4dd5ba62b967\t<=git\n",
      "/home/feelus/pyfiles/src/.git/objects/info :\n",
      "/home/feelus/pyfiles/src/.git/objects/pack :\n",
      "/home/feelus/pyfiles/src/.git/refs :\n",
      "- 31\tdrwxrwxr-x\t2025-01-19 06:42:27.275799\theads\t<=git\n",
      "- 32\tdrwxrwxr-x\t2025-01-14 15:39:20.945929\ttags\t<=git\n",
      "/home/feelus/pyfiles/src/.git/refs/heads :\n",
      "- 33\t-rw-rw-r--\t2025-01-19 06:42:27.274799\tmaster\t<=git\n",
      "/home/feelus/pyfiles/src/.git/refs/tags :\n",
      "/home/feelus/pyfiles/src/.ipynb_checkpoints :\n",
      "- 18\t-rw-rw-r--\t2025-01-20 10:49:01.349173\tUntitled-checkpoint.ipynb\t\n",
      "- 19\t-rw-rw-r--\t2025-01-12 16:11:30.088646\tpyfiles-checkpoint.py\t\n",
      "/home/feelus/pyfiles/src/a :\n",
      "M 95\tdrwxr-xr-x\t2025-01-20 16:06:39.901124\tb\t\n",
      "/home/feelus/pyfiles/src/a/b :\n",
      "/home/feelus/pyfiles/src/src :\n",
      "M 100\t-rw-r--r--\t2025-01-20 16:19:40.293242\tfiles2.db-wal\t\n"
     ]
    }
   ],
   "source": [
    "ls_r(0,strict=False)"
   ]
  },
  {
   "cell_type": "code",
   "execution_count": 32,
   "id": "b8861078-720d-4514-9009-9b1cd180f773",
   "metadata": {},
   "outputs": [
    {
     "name": "stdout",
     "output_type": "stream",
     "text": [
      "- 7\tdrwxrwxr-x\t2025-01-19 06:42:27.275799\t.git\t<=git\n",
      "- 13\t-rw-rw-r--\t2025-01-14 15:40:53.793935\t.gitignore\t\n",
      "- 6\tdrwxrwxr-x\t2025-01-13 08:34:06.240780\t.ipynb_checkpoints\t\n",
      "M 8\t-rw-rw-r--\t2025-01-20 17:27:56.247324\tUntitled.ipynb\t\n",
      "M 94\tdrwxr-xr-x\t2025-01-20 16:06:39.900124\ta\t\n",
      "- 12\t-rw-rw-r--\t2025-01-16 12:56:40.531080\tbackup.sql\t\n",
      "- 9\t-rw-r--r--\t2025-01-14 14:42:09.380068\tfiles.db\t\n",
      "- 16\t-rw-r--r--\t2025-01-16 13:15:31.733491\tfiles1.db\t\n",
      "- 17\t-rw-r--r--\t2025-01-20 11:20:09.034473\tfiles2.db\t\n",
      "M 15\t-rw-r--r--\t2025-01-20 11:20:10.984473\tfiles2.db-journal\t\n",
      "M 101\t-rw-r--r--\t2025-01-20 17:29:44.936019\tfiles2.db-wal\t\n",
      "- 5\tlrwxrwxrwx\t2025-01-19 14:20:40.827281\tlink\t\n",
      "- 11\t-rw-rw-r--\t2025-01-14 04:24:33.066536\tnotify.py\t\n",
      "- 10\tprw-rw-r--\t2025-01-19 14:20:49.398276\tpipe\t\n",
      "- 14\t-rw-rw-r--\t2025-01-15 06:54:08.153996\tpyfiles.py\t\n",
      "M 99\tdrwxrwxr-x\t2025-01-20 16:23:30.484017\tsrc\t\n"
     ]
    }
   ],
   "source": [
    "ls(4,strict=False)"
   ]
  },
  {
   "cell_type": "code",
   "execution_count": null,
   "id": "350e827f-7cd3-49e4-94b6-15ce5501ddc6",
   "metadata": {},
   "outputs": [],
   "source": []
  },
  {
   "cell_type": "code",
   "execution_count": 33,
   "id": "a5f35972-fa97-4724-a204-df85ef3612e5",
   "metadata": {},
   "outputs": [
    {
     "name": "stdout",
     "output_type": "stream",
     "text": [
      "/home/feelus/pyfiles/src/\n",
      "/home/feelus/pyfiles/src/Untitled.ipynb\n",
      "/home/feelus/pyfiles/src/a/\n",
      "/home/feelus/pyfiles/src/a/b/\n",
      "/home/feelus/pyfiles/src/files2.db-journal\n",
      "/home/feelus/pyfiles/src/files2.db-wal\n",
      "/home/feelus/pyfiles/src/src/\n",
      "/home/feelus/pyfiles/src/src/files2.db-wal\n"
     ]
    }
   ],
   "source": [
    "# do stat первый раз\n",
    "if INIT_MODE:\n",
    "\n",
    "    # 45 s\n",
    "list_modified()"
   ]
  },
  {
   "cell_type": "code",
   "execution_count": 34,
   "id": "01d81761-90d4-4ed2-b05e-fbdf247b8604",
   "metadata": {
    "scrolled": true
   },
   "outputs": [
    {
     "name": "stdout",
     "output_type": "stream",
     "text": [
      " :\n",
      "R 1\td\thome\n",
      "/home :\n",
      "R 2\td\tfeelus\n",
      "/home/feelus :\n",
      "R 3\td\tpyfiles\n",
      "/home/feelus/pyfiles :\n",
      "M 4\tdrwxrwxr-x\t2025-01-20 17:30:48.554845\tsrc\t\n",
      "/home/feelus/pyfiles/src :\n",
      "- 7\tdrwxrwxr-x\t2025-01-19 06:42:27.275799\t.git\t<=git\n",
      "- 13\t-rw-rw-r--\t2025-01-14 15:40:53.793935\t.gitignore\t\n",
      "- 6\tdrwxrwxr-x\t2025-01-13 08:34:06.240780\t.ipynb_checkpoints\t\n",
      "M 8\t-rw-rw-r--\t2025-01-20 17:27:56.247324\tUntitled.ipynb\t\n",
      "M 94\tdrwxr-xr-x\t2025-01-20 16:06:39.900124\ta\t\n",
      "- 12\t-rw-rw-r--\t2025-01-16 12:56:40.531080\tbackup.sql\t\n",
      "- 9\t-rw-r--r--\t2025-01-14 14:42:09.380068\tfiles.db\t\n",
      "- 16\t-rw-r--r--\t2025-01-16 13:15:31.733491\tfiles1.db\t\n",
      "- 17\t-rw-r--r--\t2025-01-20 11:20:09.034473\tfiles2.db\t\n",
      "M 15\t-rw-r--r--\t2025-01-20 11:20:10.984473\tfiles2.db-journal\t\n",
      "M 101\t-rw-r--r--\t2025-01-20 17:29:44.936019\tfiles2.db-wal\t\n",
      "- 5\tlrwxrwxrwx\t2025-01-19 14:20:40.827281\tlink\t\n",
      "- 11\t-rw-rw-r--\t2025-01-14 04:24:33.066536\tnotify.py\t\n",
      "- 10\tprw-rw-r--\t2025-01-19 14:20:49.398276\tpipe\t\n",
      "- 14\t-rw-rw-r--\t2025-01-15 06:54:08.153996\tpyfiles.py\t\n",
      "M 99\tdrwxrwxr-x\t2025-01-20 16:23:30.484017\tsrc\t\n",
      "/home/feelus/pyfiles/src/.git :\n",
      "- 26\t-rw-rw-r--\t2025-01-19 06:42:27.273798\tCOMMIT_EDITMSG\t<=git\n",
      "- 30\t-rw-rw-r--\t2025-01-14 15:39:20.947928\tHEAD\t<=git\n",
      "- 25\tdrwxrwxr-x\t2025-01-14 15:39:20.944929\tbranches\t<=git\n",
      "- 29\t-rw-rw-r--\t2025-01-14 15:39:20.961929\tconfig\t<=git\n",
      "- 28\t-rw-rw-r--\t2025-01-14 15:39:20.597929\tdescription\t<=git\n",
      "- 24\tdrwxrwxr-x\t2025-01-14 15:39:20.944929\thooks\t<=git\n",
      "- 27\t-rw-rw-r--\t2025-01-19 06:42:27.272799\tindex\t<=git\n",
      "- 22\tdrwxrwxr-x\t2025-01-14 15:39:20.535928\tinfo\t<=git\n",
      "- 23\tdrwxrwxr-x\t2025-01-14 15:44:36.214953\tlogs\t<=git\n",
      "- 21\tdrwxrwxr-x\t2025-01-19 06:42:27.317798\tobjects\t<=git\n",
      "- 20\tdrwxrwxr-x\t2025-01-14 15:39:20.945929\trefs\t<=git\n",
      "/home/feelus/pyfiles/src/.git/branches :\n",
      "/home/feelus/pyfiles/src/.git/hooks :\n",
      "- 91\t-rwxrwxr-x\t2025-01-14 15:39:20.943928\tapplypatch-msg.sample\t<=git\n",
      "- 80\t-rwxrwxr-x\t2025-01-14 15:39:20.599929\tcommit-msg.sample\t<=git\n",
      "- 92\t-rwxrwxr-x\t2025-01-14 15:39:20.944929\tfsmonitor-watchman.sample\t<=git\n",
      "- 79\t-rwxrwxr-x\t2025-01-14 15:39:20.598928\tpost-update.sample\t<=git\n",
      "- 88\t-rwxrwxr-x\t2025-01-14 15:39:20.942929\tpre-applypatch.sample\t<=git\n",
      "- 89\t-rwxrwxr-x\t2025-01-14 15:39:20.943928\tpre-commit.sample\t<=git\n",
      "- 86\t-rwxrwxr-x\t2025-01-14 15:39:20.941929\tpre-merge-commit.sample\t<=git\n",
      "- 83\t-rwxrwxr-x\t2025-01-14 15:39:20.928929\tpre-push.sample\t<=git\n",
      "- 85\t-rwxrwxr-x\t2025-01-14 15:39:20.941929\tpre-rebase.sample\t<=git\n",
      "- 81\t-rwxrwxr-x\t2025-01-14 15:39:20.599929\tpre-receive.sample\t<=git\n",
      "- 90\t-rwxrwxr-x\t2025-01-14 15:39:20.943928\tprepare-commit-msg.sample\t<=git\n",
      "- 84\t-rwxrwxr-x\t2025-01-14 15:39:20.940928\tpush-to-checkout.sample\t<=git\n",
      "- 82\t-rwxrwxr-x\t2025-01-14 15:39:20.730928\tsendemail-validate.sample\t<=git\n",
      "- 87\t-rwxrwxr-x\t2025-01-14 15:39:20.942929\tupdate.sample\t<=git\n",
      "/home/feelus/pyfiles/src/.git/info :\n",
      "- 74\t-rw-rw-r--\t2025-01-14 15:39:20.546928\texclude\t<=git\n",
      "/home/feelus/pyfiles/src/.git/logs :\n",
      "- 76\t-rw-rw-r--\t2025-01-19 06:42:27.274799\tHEAD\t<=git\n",
      "- 75\tdrwxrwxr-x\t2025-01-14 15:44:36.214953\trefs\t<=git\n",
      "/home/feelus/pyfiles/src/.git/logs/refs :\n",
      "- 77\tdrwxrwxr-x\t2025-01-14 15:44:36.214953\theads\t<=git\n",
      "/home/feelus/pyfiles/src/.git/logs/refs/heads :\n",
      "- 78\t-rw-rw-r--\t2025-01-19 06:42:27.274799\tmaster\t<=git\n",
      "/home/feelus/pyfiles/src/.git/objects :\n",
      "- 51\tdrwxrwxr-x\t2025-01-16 14:58:57.933949\t04\t<=git\n",
      "- 35\tdrwxrwxr-x\t2025-01-16 14:58:57.935949\t10\t<=git\n",
      "- 36\tdrwxrwxr-x\t2025-01-15 19:00:34.574902\t23\t<=git\n",
      "- 39\tdrwxrwxr-x\t2025-01-15 19:00:34.575902\t26\t<=git\n",
      "- 52\tdrwxrwxr-x\t2025-01-14 15:44:07.042950\t3b\t<=git\n",
      "- 38\tdrwxrwxr-x\t2025-01-19 06:42:27.272799\t42\t<=git\n",
      "- 40\tdrwxrwxr-x\t2025-01-14 15:44:36.209953\t45\t<=git\n",
      "- 53\tdrwxrwxr-x\t2025-01-14 15:44:06.985950\t56\t<=git\n",
      "- 49\tdrwxrwxr-x\t2025-01-14 15:44:06.941950\t5c\t<=git\n",
      "- 45\tdrwxrwxr-x\t2025-01-14 15:44:36.212953\t91\t<=git\n",
      "- 41\tdrwxrwxr-x\t2025-01-15 19:00:34.574902\t93\t<=git\n",
      "- 47\tdrwxrwxr-x\t2025-01-14 15:44:06.937950\t98\t<=git\n",
      "- 44\tdrwxrwxr-x\t2025-01-17 08:21:20.993031\tad\t<=git\n",
      "- 48\tdrwxrwxr-x\t2025-01-17 08:21:20.995031\tb1\t<=git\n",
      "- 42\tdrwxrwxr-x\t2025-01-16 14:58:57.934949\tba\t<=git\n",
      "- 43\tdrwxrwxr-x\t2025-01-19 06:42:27.271799\tbb\t<=git\n",
      "- 54\tdrwxrwxr-x\t2025-01-17 08:21:20.992031\td8\t<=git\n",
      "- 46\tdrwxrwxr-x\t2025-01-19 06:42:27.274799\te6\t<=git\n",
      "- 37\tdrwxrwxr-x\t2025-01-15 19:00:34.577902\tfa\t<=git\n",
      "- 50\tdrwxrwxr-x\t2025-01-14 15:39:20.962929\tinfo\t<=git\n",
      "- 34\tdrwxrwxr-x\t2025-01-14 15:39:20.962929\tpack\t<=git\n",
      "/home/feelus/pyfiles/src/.git/objects/04 :\n",
      "- 70\t-r--r--r--\t2025-01-16 14:58:57.933949\t8cb8deb88f1aba0612e887c33dc28371cefcde\t<=git\n",
      "/home/feelus/pyfiles/src/.git/objects/10 :\n",
      "- 55\t-r--r--r--\t2025-01-16 14:58:57.935949\t1c776297d45e4abe90a7226544c01a3ef21474\t<=git\n",
      "/home/feelus/pyfiles/src/.git/objects/23 :\n",
      "- 56\t-r--r--r--\t2025-01-15 19:00:34.574902\tff026db3ffb96d5313f8e8b2ebc6a583687ab9\t<=git\n",
      "/home/feelus/pyfiles/src/.git/objects/26 :\n",
      "- 59\t-r--r--r--\t2025-01-15 19:00:34.575902\t40e313bcf6f16877bf367d91075aa6864c0ab2\t<=git\n",
      "/home/feelus/pyfiles/src/.git/objects/3b :\n",
      "- 71\t-r--r--r--\t2025-01-14 15:44:07.042950\t1eafb697668adf592c612e00ba3326b99c7b96\t<=git\n",
      "/home/feelus/pyfiles/src/.git/objects/42 :\n",
      "- 58\t-r--r--r--\t2025-01-19 06:42:27.272799\t3450db162c43f9b35b42aab2255876b8567d2a\t<=git\n",
      "/home/feelus/pyfiles/src/.git/objects/45 :\n",
      "- 60\t-r--r--r--\t2025-01-14 15:44:36.209953\ta60472ef26539269d683039e71e488e3587921\t<=git\n",
      "/home/feelus/pyfiles/src/.git/objects/56 :\n",
      "- 72\t-r--r--r--\t2025-01-14 15:44:06.985950\t7c911c411c39a4297dcf082c2cdeb65f653ce8\t<=git\n",
      "/home/feelus/pyfiles/src/.git/objects/5c :\n",
      "- 69\t-r--r--r--\t2025-01-14 15:44:06.941950\tc5e241e8363380a7ea3d5163212b0a7c124ed3\t<=git\n",
      "/home/feelus/pyfiles/src/.git/objects/91 :\n",
      "- 65\t-r--r--r--\t2025-01-14 15:44:36.212953\t5a77d801b565863926525bafc067ad4dc597d9\t<=git\n",
      "/home/feelus/pyfiles/src/.git/objects/93 :\n",
      "- 61\t-r--r--r--\t2025-01-15 19:00:34.574902\t7539b42734d1b86caaae24aca1ad5a9b278261\t<=git\n",
      "/home/feelus/pyfiles/src/.git/objects/98 :\n",
      "- 67\t-r--r--r--\t2025-01-14 15:44:06.937950\te6ef67fad8af56cb3721edbd420b3d6fcc0bb1\t<=git\n",
      "/home/feelus/pyfiles/src/.git/objects/ad :\n",
      "- 64\t-r--r--r--\t2025-01-17 08:21:20.993031\tc454b39427013e7b037058bb4f0c5e63f2016d\t<=git\n",
      "/home/feelus/pyfiles/src/.git/objects/b1 :\n",
      "- 68\t-r--r--r--\t2025-01-17 08:21:20.994031\te41ead66493a01646ca2165d0c6956d13333d0\t<=git\n",
      "/home/feelus/pyfiles/src/.git/objects/ba :\n",
      "- 62\t-r--r--r--\t2025-01-16 14:58:57.934949\t786f9b9400c4ce5a16c243c6834c81d2390fed\t<=git\n",
      "/home/feelus/pyfiles/src/.git/objects/bb :\n",
      "- 63\t-r--r--r--\t2025-01-19 06:42:27.271799\t93da1c6a49cc7b87339f3153c1565f520ae0d2\t<=git\n",
      "/home/feelus/pyfiles/src/.git/objects/d8 :\n",
      "- 73\t-r--r--r--\t2025-01-17 08:21:20.992031\ta25ee1ccc41f763ad41dc9247ee1308698f47b\t<=git\n",
      "/home/feelus/pyfiles/src/.git/objects/e6 :\n",
      "- 66\t-r--r--r--\t2025-01-19 06:42:27.274799\t6ec043cbde7d52ec0db7049adeafc3426648ee\t<=git\n",
      "/home/feelus/pyfiles/src/.git/objects/fa :\n",
      "- 57\t-r--r--r--\t2025-01-15 19:00:34.577902\t35185d2649d89c4ef276f0210f4dd5ba62b967\t<=git\n",
      "/home/feelus/pyfiles/src/.git/objects/info :\n",
      "/home/feelus/pyfiles/src/.git/objects/pack :\n",
      "/home/feelus/pyfiles/src/.git/refs :\n",
      "- 31\tdrwxrwxr-x\t2025-01-19 06:42:27.275799\theads\t<=git\n",
      "- 32\tdrwxrwxr-x\t2025-01-14 15:39:20.945929\ttags\t<=git\n",
      "/home/feelus/pyfiles/src/.git/refs/heads :\n",
      "- 33\t-rw-rw-r--\t2025-01-19 06:42:27.274799\tmaster\t<=git\n",
      "/home/feelus/pyfiles/src/.git/refs/tags :\n",
      "/home/feelus/pyfiles/src/.ipynb_checkpoints :\n",
      "- 18\t-rw-rw-r--\t2025-01-20 10:49:01.349173\tUntitled-checkpoint.ipynb\t\n",
      "- 19\t-rw-rw-r--\t2025-01-12 16:11:30.088646\tpyfiles-checkpoint.py\t\n",
      "/home/feelus/pyfiles/src/a :\n",
      "M 95\tdrwxr-xr-x\t2025-01-20 16:06:39.901124\tb\t\n",
      "/home/feelus/pyfiles/src/a/b :\n",
      "/home/feelus/pyfiles/src/src :\n",
      "M 100\t-rw-r--r--\t2025-01-20 16:19:40.293242\tfiles2.db-wal\t\n"
     ]
    }
   ],
   "source": [
    "ls_r(0)"
   ]
  },
  {
   "cell_type": "code",
   "execution_count": 35,
   "id": "6b89493d-fb84-453c-a18f-6d915b842de2",
   "metadata": {
    "scrolled": true
   },
   "outputs": [
    {
     "name": "stdout",
     "output_type": "stream",
     "text": [
      "/home/feelus/pyfiles/src/\n",
      "/home/feelus/pyfiles/src/Untitled.ipynb\n",
      "/home/feelus/pyfiles/src/a/\n",
      "/home/feelus/pyfiles/src/a/b/\n",
      "/home/feelus/pyfiles/src/files2.db-journal\n",
      "/home/feelus/pyfiles/src/files2.db-wal\n",
      "/home/feelus/pyfiles/src/src/\n",
      "/home/feelus/pyfiles/src/src/files2.db-wal\n"
     ]
    }
   ],
   "source": [
    "# calc hashes of files\n",
    "if INIT_MODE:\n",
    "\n",
    "list_modified()"
   ]
  },
  {
   "cell_type": "code",
   "execution_count": 36,
   "id": "e8f4f073-78a2-47c6-b8ed-a89c7f81971e",
   "metadata": {},
   "outputs": [],
   "source": [
    "with CON:\n",
    "    ids = CUR.execute('UPDATE cur_stat SET data = \"00000000000000000000000000000000\" WHERE type = ?',(MOTHER,)).fetchall()"
   ]
  },
  {
   "cell_type": "code",
   "execution_count": 37,
   "id": "6ed82813-a1a4-4f28-882c-ea3a0680e6c4",
   "metadata": {},
   "outputs": [
    {
     "name": "stdout",
     "output_type": "stream",
     "text": [
      "ok\n",
      "/home/feelus/pyfiles/src/\n",
      "/home/feelus/pyfiles/src/Untitled.ipynb\n",
      "/home/feelus/pyfiles/src/a/\n",
      "/home/feelus/pyfiles/src/a/b/\n",
      "/home/feelus/pyfiles/src/files2.db-journal\n",
      "/home/feelus/pyfiles/src/files2.db-wal\n",
      "/home/feelus/pyfiles/src/src/\n",
      "/home/feelus/pyfiles/src/src/files2.db-wal\n"
     ]
    }
   ],
   "source": [
    "with CON:\n",
    "    print(*CUR.execute('PRAGMA integrity_check;').fetchone())\n",
    "list_modified()"
   ]
  },
  {
   "cell_type": "code",
   "execution_count": 38,
   "id": "a1463cd8-c809-4d3a-8314-02aade12e28c",
   "metadata": {},
   "outputs": [
    {
     "name": "stdout",
     "output_type": "stream",
     "text": [
      "/home/feelus/pyfiles/src/\n",
      "/home/feelus/pyfiles/src/Untitled.ipynb\n",
      "/home/feelus/pyfiles/src/a/\n",
      "/home/feelus/pyfiles/src/a/b/\n",
      "/home/feelus/pyfiles/src/files2.db-journal\n",
      "/home/feelus/pyfiles/src/files2.db-wal\n",
      "/home/feelus/pyfiles/src/src/\n",
      "/home/feelus/pyfiles/src/src/files2.db-wal\n"
     ]
    }
   ],
   "source": [
    "# обновить симлинки, директории, сынтегрировать хеши\n",
    "if INIT_MODE:\n",
    "   \n",
    "list_modified()"
   ]
  },
  {
   "cell_type": "code",
   "execution_count": 39,
   "id": "19e0f66f-cec2-4873-998a-f431e321ea25",
   "metadata": {
    "scrolled": true
   },
   "outputs": [
    {
     "name": "stdout",
     "output_type": "stream",
     "text": [
      " :\n",
      "R 1\td\thome\n",
      "/home :\n",
      "R 2\td\tfeelus\n",
      "/home/feelus :\n",
      "R 3\td\tpyfiles\n",
      "/home/feelus/pyfiles :\n",
      "M 4\tdrwxrwxr-x\t2025-01-20 17:30:48.554845\tsrc\t\n",
      "/home/feelus/pyfiles/src :\n",
      "- 7\tdrwxrwxr-x\t2025-01-19 06:42:27.275799\t.git\t<=git\n",
      "- 13\t-rw-rw-r--\t2025-01-14 15:40:53.793935\t.gitignore\t\n",
      "- 6\tdrwxrwxr-x\t2025-01-13 08:34:06.240780\t.ipynb_checkpoints\t\n",
      "M 8\t-rw-rw-r--\t2025-01-20 17:27:56.247324\tUntitled.ipynb\t\n",
      "M 94\tdrwxr-xr-x\t2025-01-20 16:06:39.900124\ta\t\n",
      "- 12\t-rw-rw-r--\t2025-01-16 12:56:40.531080\tbackup.sql\t\n",
      "- 9\t-rw-r--r--\t2025-01-14 14:42:09.380068\tfiles.db\t\n",
      "- 16\t-rw-r--r--\t2025-01-16 13:15:31.733491\tfiles1.db\t\n",
      "- 17\t-rw-r--r--\t2025-01-20 11:20:09.034473\tfiles2.db\t\n",
      "M 15\t-rw-r--r--\t2025-01-20 11:20:10.984473\tfiles2.db-journal\t\n",
      "M 101\t-rw-r--r--\t2025-01-20 17:29:44.936019\tfiles2.db-wal\t\n",
      "- 5\tlrwxrwxrwx\t2025-01-19 14:20:40.827281\tlink\t\n",
      "- 11\t-rw-rw-r--\t2025-01-14 04:24:33.066536\tnotify.py\t\n",
      "- 10\tprw-rw-r--\t2025-01-19 14:20:49.398276\tpipe\t\n",
      "- 14\t-rw-rw-r--\t2025-01-15 06:54:08.153996\tpyfiles.py\t\n",
      "M 99\tdrwxrwxr-x\t2025-01-20 16:23:30.484017\tsrc\t\n",
      "/home/feelus/pyfiles/src/.git :\n",
      "- 26\t-rw-rw-r--\t2025-01-19 06:42:27.273798\tCOMMIT_EDITMSG\t<=git\n",
      "- 30\t-rw-rw-r--\t2025-01-14 15:39:20.947928\tHEAD\t<=git\n",
      "- 25\tdrwxrwxr-x\t2025-01-14 15:39:20.944929\tbranches\t<=git\n",
      "- 29\t-rw-rw-r--\t2025-01-14 15:39:20.961929\tconfig\t<=git\n",
      "- 28\t-rw-rw-r--\t2025-01-14 15:39:20.597929\tdescription\t<=git\n",
      "- 24\tdrwxrwxr-x\t2025-01-14 15:39:20.944929\thooks\t<=git\n",
      "- 27\t-rw-rw-r--\t2025-01-19 06:42:27.272799\tindex\t<=git\n",
      "- 22\tdrwxrwxr-x\t2025-01-14 15:39:20.535928\tinfo\t<=git\n",
      "- 23\tdrwxrwxr-x\t2025-01-14 15:44:36.214953\tlogs\t<=git\n",
      "- 21\tdrwxrwxr-x\t2025-01-19 06:42:27.317798\tobjects\t<=git\n",
      "- 20\tdrwxrwxr-x\t2025-01-14 15:39:20.945929\trefs\t<=git\n",
      "/home/feelus/pyfiles/src/.git/branches :\n",
      "/home/feelus/pyfiles/src/.git/hooks :\n",
      "- 91\t-rwxrwxr-x\t2025-01-14 15:39:20.943928\tapplypatch-msg.sample\t<=git\n",
      "- 80\t-rwxrwxr-x\t2025-01-14 15:39:20.599929\tcommit-msg.sample\t<=git\n",
      "- 92\t-rwxrwxr-x\t2025-01-14 15:39:20.944929\tfsmonitor-watchman.sample\t<=git\n",
      "- 79\t-rwxrwxr-x\t2025-01-14 15:39:20.598928\tpost-update.sample\t<=git\n",
      "- 88\t-rwxrwxr-x\t2025-01-14 15:39:20.942929\tpre-applypatch.sample\t<=git\n",
      "- 89\t-rwxrwxr-x\t2025-01-14 15:39:20.943928\tpre-commit.sample\t<=git\n",
      "- 86\t-rwxrwxr-x\t2025-01-14 15:39:20.941929\tpre-merge-commit.sample\t<=git\n",
      "- 83\t-rwxrwxr-x\t2025-01-14 15:39:20.928929\tpre-push.sample\t<=git\n",
      "- 85\t-rwxrwxr-x\t2025-01-14 15:39:20.941929\tpre-rebase.sample\t<=git\n",
      "- 81\t-rwxrwxr-x\t2025-01-14 15:39:20.599929\tpre-receive.sample\t<=git\n",
      "- 90\t-rwxrwxr-x\t2025-01-14 15:39:20.943928\tprepare-commit-msg.sample\t<=git\n",
      "- 84\t-rwxrwxr-x\t2025-01-14 15:39:20.940928\tpush-to-checkout.sample\t<=git\n",
      "- 82\t-rwxrwxr-x\t2025-01-14 15:39:20.730928\tsendemail-validate.sample\t<=git\n",
      "- 87\t-rwxrwxr-x\t2025-01-14 15:39:20.942929\tupdate.sample\t<=git\n",
      "/home/feelus/pyfiles/src/.git/info :\n",
      "- 74\t-rw-rw-r--\t2025-01-14 15:39:20.546928\texclude\t<=git\n",
      "/home/feelus/pyfiles/src/.git/logs :\n",
      "- 76\t-rw-rw-r--\t2025-01-19 06:42:27.274799\tHEAD\t<=git\n",
      "- 75\tdrwxrwxr-x\t2025-01-14 15:44:36.214953\trefs\t<=git\n",
      "/home/feelus/pyfiles/src/.git/logs/refs :\n",
      "- 77\tdrwxrwxr-x\t2025-01-14 15:44:36.214953\theads\t<=git\n",
      "/home/feelus/pyfiles/src/.git/logs/refs/heads :\n",
      "- 78\t-rw-rw-r--\t2025-01-19 06:42:27.274799\tmaster\t<=git\n",
      "/home/feelus/pyfiles/src/.git/objects :\n",
      "- 51\tdrwxrwxr-x\t2025-01-16 14:58:57.933949\t04\t<=git\n",
      "- 35\tdrwxrwxr-x\t2025-01-16 14:58:57.935949\t10\t<=git\n",
      "- 36\tdrwxrwxr-x\t2025-01-15 19:00:34.574902\t23\t<=git\n",
      "- 39\tdrwxrwxr-x\t2025-01-15 19:00:34.575902\t26\t<=git\n",
      "- 52\tdrwxrwxr-x\t2025-01-14 15:44:07.042950\t3b\t<=git\n",
      "- 38\tdrwxrwxr-x\t2025-01-19 06:42:27.272799\t42\t<=git\n",
      "- 40\tdrwxrwxr-x\t2025-01-14 15:44:36.209953\t45\t<=git\n",
      "- 53\tdrwxrwxr-x\t2025-01-14 15:44:06.985950\t56\t<=git\n",
      "- 49\tdrwxrwxr-x\t2025-01-14 15:44:06.941950\t5c\t<=git\n",
      "- 45\tdrwxrwxr-x\t2025-01-14 15:44:36.212953\t91\t<=git\n",
      "- 41\tdrwxrwxr-x\t2025-01-15 19:00:34.574902\t93\t<=git\n",
      "- 47\tdrwxrwxr-x\t2025-01-14 15:44:06.937950\t98\t<=git\n",
      "- 44\tdrwxrwxr-x\t2025-01-17 08:21:20.993031\tad\t<=git\n",
      "- 48\tdrwxrwxr-x\t2025-01-17 08:21:20.995031\tb1\t<=git\n",
      "- 42\tdrwxrwxr-x\t2025-01-16 14:58:57.934949\tba\t<=git\n",
      "- 43\tdrwxrwxr-x\t2025-01-19 06:42:27.271799\tbb\t<=git\n",
      "- 54\tdrwxrwxr-x\t2025-01-17 08:21:20.992031\td8\t<=git\n",
      "- 46\tdrwxrwxr-x\t2025-01-19 06:42:27.274799\te6\t<=git\n",
      "- 37\tdrwxrwxr-x\t2025-01-15 19:00:34.577902\tfa\t<=git\n",
      "- 50\tdrwxrwxr-x\t2025-01-14 15:39:20.962929\tinfo\t<=git\n",
      "- 34\tdrwxrwxr-x\t2025-01-14 15:39:20.962929\tpack\t<=git\n",
      "/home/feelus/pyfiles/src/.git/objects/04 :\n",
      "- 70\t-r--r--r--\t2025-01-16 14:58:57.933949\t8cb8deb88f1aba0612e887c33dc28371cefcde\t<=git\n",
      "/home/feelus/pyfiles/src/.git/objects/10 :\n",
      "- 55\t-r--r--r--\t2025-01-16 14:58:57.935949\t1c776297d45e4abe90a7226544c01a3ef21474\t<=git\n",
      "/home/feelus/pyfiles/src/.git/objects/23 :\n",
      "- 56\t-r--r--r--\t2025-01-15 19:00:34.574902\tff026db3ffb96d5313f8e8b2ebc6a583687ab9\t<=git\n",
      "/home/feelus/pyfiles/src/.git/objects/26 :\n",
      "- 59\t-r--r--r--\t2025-01-15 19:00:34.575902\t40e313bcf6f16877bf367d91075aa6864c0ab2\t<=git\n",
      "/home/feelus/pyfiles/src/.git/objects/3b :\n",
      "- 71\t-r--r--r--\t2025-01-14 15:44:07.042950\t1eafb697668adf592c612e00ba3326b99c7b96\t<=git\n",
      "/home/feelus/pyfiles/src/.git/objects/42 :\n",
      "- 58\t-r--r--r--\t2025-01-19 06:42:27.272799\t3450db162c43f9b35b42aab2255876b8567d2a\t<=git\n",
      "/home/feelus/pyfiles/src/.git/objects/45 :\n",
      "- 60\t-r--r--r--\t2025-01-14 15:44:36.209953\ta60472ef26539269d683039e71e488e3587921\t<=git\n",
      "/home/feelus/pyfiles/src/.git/objects/56 :\n",
      "- 72\t-r--r--r--\t2025-01-14 15:44:06.985950\t7c911c411c39a4297dcf082c2cdeb65f653ce8\t<=git\n",
      "/home/feelus/pyfiles/src/.git/objects/5c :\n",
      "- 69\t-r--r--r--\t2025-01-14 15:44:06.941950\tc5e241e8363380a7ea3d5163212b0a7c124ed3\t<=git\n",
      "/home/feelus/pyfiles/src/.git/objects/91 :\n",
      "- 65\t-r--r--r--\t2025-01-14 15:44:36.212953\t5a77d801b565863926525bafc067ad4dc597d9\t<=git\n",
      "/home/feelus/pyfiles/src/.git/objects/93 :\n",
      "- 61\t-r--r--r--\t2025-01-15 19:00:34.574902\t7539b42734d1b86caaae24aca1ad5a9b278261\t<=git\n",
      "/home/feelus/pyfiles/src/.git/objects/98 :\n",
      "- 67\t-r--r--r--\t2025-01-14 15:44:06.937950\te6ef67fad8af56cb3721edbd420b3d6fcc0bb1\t<=git\n",
      "/home/feelus/pyfiles/src/.git/objects/ad :\n",
      "- 64\t-r--r--r--\t2025-01-17 08:21:20.993031\tc454b39427013e7b037058bb4f0c5e63f2016d\t<=git\n",
      "/home/feelus/pyfiles/src/.git/objects/b1 :\n",
      "- 68\t-r--r--r--\t2025-01-17 08:21:20.994031\te41ead66493a01646ca2165d0c6956d13333d0\t<=git\n",
      "/home/feelus/pyfiles/src/.git/objects/ba :\n",
      "- 62\t-r--r--r--\t2025-01-16 14:58:57.934949\t786f9b9400c4ce5a16c243c6834c81d2390fed\t<=git\n",
      "/home/feelus/pyfiles/src/.git/objects/bb :\n",
      "- 63\t-r--r--r--\t2025-01-19 06:42:27.271799\t93da1c6a49cc7b87339f3153c1565f520ae0d2\t<=git\n",
      "/home/feelus/pyfiles/src/.git/objects/d8 :\n",
      "- 73\t-r--r--r--\t2025-01-17 08:21:20.992031\ta25ee1ccc41f763ad41dc9247ee1308698f47b\t<=git\n",
      "/home/feelus/pyfiles/src/.git/objects/e6 :\n",
      "- 66\t-r--r--r--\t2025-01-19 06:42:27.274799\t6ec043cbde7d52ec0db7049adeafc3426648ee\t<=git\n",
      "/home/feelus/pyfiles/src/.git/objects/fa :\n",
      "- 57\t-r--r--r--\t2025-01-15 19:00:34.577902\t35185d2649d89c4ef276f0210f4dd5ba62b967\t<=git\n",
      "/home/feelus/pyfiles/src/.git/objects/info :\n",
      "/home/feelus/pyfiles/src/.git/objects/pack :\n",
      "/home/feelus/pyfiles/src/.git/refs :\n",
      "- 31\tdrwxrwxr-x\t2025-01-19 06:42:27.275799\theads\t<=git\n",
      "- 32\tdrwxrwxr-x\t2025-01-14 15:39:20.945929\ttags\t<=git\n",
      "/home/feelus/pyfiles/src/.git/refs/heads :\n",
      "- 33\t-rw-rw-r--\t2025-01-19 06:42:27.274799\tmaster\t<=git\n",
      "/home/feelus/pyfiles/src/.git/refs/tags :\n",
      "/home/feelus/pyfiles/src/.ipynb_checkpoints :\n",
      "- 18\t-rw-rw-r--\t2025-01-20 10:49:01.349173\tUntitled-checkpoint.ipynb\t\n",
      "- 19\t-rw-rw-r--\t2025-01-12 16:11:30.088646\tpyfiles-checkpoint.py\t\n",
      "/home/feelus/pyfiles/src/a :\n",
      "M 95\tdrwxr-xr-x\t2025-01-20 16:06:39.901124\tb\t\n",
      "/home/feelus/pyfiles/src/a/b :\n",
      "/home/feelus/pyfiles/src/src :\n",
      "M 100\t-rw-r--r--\t2025-01-20 16:19:40.293242\tfiles2.db-wal\t\n"
     ]
    }
   ],
   "source": [
    "ls_r(0)"
   ]
  },
  {
   "cell_type": "code",
   "execution_count": 40,
   "id": "00c9642c-0549-4813-a975-f316618ccb77",
   "metadata": {},
   "outputs": [
    {
     "name": "stdout",
     "output_type": "stream",
     "text": [
      "{'st_mode': 16893, 'st_ino': 1341934, 'st_dev': 2052, 'st_nlink': 2, 'st_uid': 1000, 'st_gid': 1000, 'st_size': 4096, 'st_atime': 1737357214.1095748, 'st_mtime': 1736858676.212953, 'st_ctime': 1736858676.212953, 'st_blocks': 8, 'st_blksize': 4096}\n",
      "{'st_mode': 16877, 'st_ino': 1048577, 'st_dev': 2052, 'st_nlink': 3, 'st_uid': 0, 'st_gid': 0, 'st_size': 4096, 'st_atime': 1737189243.211488, 'st_mtime': 1729599119.2648318, 'st_ctime': 1729599119.2648318, 'st_blocks': 8, 'st_blksize': 4096}\n",
      "{'st_mode': 16893, 'st_ino': 1341934, 'st_dev': 2052, 'st_nlink': 2, 'st_uid': 1000, 'st_gid': 1000, 'st_size': 4096, 'st_atime': 1737357214.1095748, 'st_mtime': 1736858676.212953, 'st_ctime': 1736858676.212953, 'st_blocks': 8, 'st_blksize': 4096}\n"
     ]
    }
   ],
   "source": [
    "\n",
    "with CON:\n",
    "    ost = get_stat(45,CUR)\n",
    "    print(ost)\n",
    "    update_stat(45,os.stat('/home'),CUR)\n",
    "    print(get_stat(45,CUR))\n",
    "    update_stat(45,ost,CUR)\n",
    "    print(get_stat(45,CUR))\n",
    "    "
   ]
  },
  {
   "cell_type": "code",
   "execution_count": 41,
   "id": "518ddaa5-bba2-4c55-8780-9417506481fa",
   "metadata": {},
   "outputs": [
    {
     "name": "stdout",
     "output_type": "stream",
     "text": [
      "[(3, 'src', 4, 1, 1), (4, 'Untitled.ipynb', 8, 0, 1), (4, 'files2.db-journal', 15, 0, 1), (4, 'a', 94, 1, 1), (94, 'b', 95, 1, 1), (4, 'src', 99, 1, 1), (99, 'files2.db-wal', 100, 0, 1), (4, 'files2.db-wal', 101, 0, 1)]\n"
     ]
    }
   ],
   "source": [
    "with CON:\n",
    "    print(CUR.execute('SELECT * FROM cur_dirs WHERE modified = 1').fetchall())"
   ]
  },
  {
   "cell_type": "code",
   "execution_count": 42,
   "id": "d14e3f46-e2f3-4295-9a72-53ab96b21cbb",
   "metadata": {},
   "outputs": [
    {
     "name": "stdout",
     "output_type": "stream",
     "text": [
      "/home/feelus/pyfiles/src/\n",
      "/home/feelus/pyfiles/src/Untitled.ipynb\n",
      "/home/feelus/pyfiles/src/a/\n",
      "/home/feelus/pyfiles/src/a/b/\n",
      "/home/feelus/pyfiles/src/files2.db-journal\n",
      "/home/feelus/pyfiles/src/files2.db-wal\n",
      "/home/feelus/pyfiles/src/src/\n",
      "/home/feelus/pyfiles/src/src/files2.db-wal\n"
     ]
    }
   ],
   "source": [
    "list_modified()"
   ]
  },
  {
   "cell_type": "code",
   "execution_count": 43,
   "id": "392524f6-0fd9-40fd-9264-4e29f9db31e2",
   "metadata": {},
   "outputs": [
    {
     "name": "stdout",
     "output_type": "stream",
     "text": [
      "[(0, 'home', 1, 1, 2), (1, 'feelus', 2, 1, 2), (2, 'pyfiles', 3, 1, 2)]\n"
     ]
    }
   ],
   "source": [
    "with CON:\n",
    "    print(CUR.execute('SELECT * FROM cur_dirs WHERE modified = 2').fetchall())"
   ]
  },
  {
   "cell_type": "code",
   "execution_count": 44,
   "id": "68d28667-d256-4850-a1a2-aea15fcb07fb",
   "metadata": {
    "scrolled": true
   },
   "outputs": [
    {
     "name": "stdout",
     "output_type": "stream",
     "text": [
      " :\n",
      "R 1\td\thome\n",
      "/home :\n",
      "R 2\td\tfeelus\n",
      "/home/feelus :\n",
      "R 3\td\tpyfiles\n",
      "/home/feelus/pyfiles :\n",
      "M 4\tdrwxrwxr-x\t2025-01-20 17:30:48.554845\tsrc\t\n",
      "/home/feelus/pyfiles/src :\n",
      "- 7\tdrwxrwxr-x\t2025-01-19 06:42:27.275799\t.git\t<=git\n",
      "- 13\t-rw-rw-r--\t2025-01-14 15:40:53.793935\t.gitignore\t\n",
      "- 6\tdrwxrwxr-x\t2025-01-13 08:34:06.240780\t.ipynb_checkpoints\t\n",
      "M 8\t-rw-rw-r--\t2025-01-20 17:27:56.247324\tUntitled.ipynb\t\n",
      "M 94\tdrwxr-xr-x\t2025-01-20 16:06:39.900124\ta\t\n",
      "- 12\t-rw-rw-r--\t2025-01-16 12:56:40.531080\tbackup.sql\t\n",
      "- 9\t-rw-r--r--\t2025-01-14 14:42:09.380068\tfiles.db\t\n",
      "- 16\t-rw-r--r--\t2025-01-16 13:15:31.733491\tfiles1.db\t\n",
      "- 17\t-rw-r--r--\t2025-01-20 11:20:09.034473\tfiles2.db\t\n",
      "M 15\t-rw-r--r--\t2025-01-20 11:20:10.984473\tfiles2.db-journal\t\n",
      "M 101\t-rw-r--r--\t2025-01-20 17:29:44.936019\tfiles2.db-wal\t\n",
      "- 5\tlrwxrwxrwx\t2025-01-19 14:20:40.827281\tlink\t\n",
      "- 11\t-rw-rw-r--\t2025-01-14 04:24:33.066536\tnotify.py\t\n",
      "- 10\tprw-rw-r--\t2025-01-19 14:20:49.398276\tpipe\t\n",
      "- 14\t-rw-rw-r--\t2025-01-15 06:54:08.153996\tpyfiles.py\t\n",
      "M 99\tdrwxrwxr-x\t2025-01-20 16:23:30.484017\tsrc\t\n",
      "/home/feelus/pyfiles/src/.git :\n",
      "- 26\t-rw-rw-r--\t2025-01-19 06:42:27.273798\tCOMMIT_EDITMSG\t<=git\n",
      "- 30\t-rw-rw-r--\t2025-01-14 15:39:20.947928\tHEAD\t<=git\n",
      "- 25\tdrwxrwxr-x\t2025-01-14 15:39:20.944929\tbranches\t<=git\n",
      "- 29\t-rw-rw-r--\t2025-01-14 15:39:20.961929\tconfig\t<=git\n",
      "- 28\t-rw-rw-r--\t2025-01-14 15:39:20.597929\tdescription\t<=git\n",
      "- 24\tdrwxrwxr-x\t2025-01-14 15:39:20.944929\thooks\t<=git\n",
      "- 27\t-rw-rw-r--\t2025-01-19 06:42:27.272799\tindex\t<=git\n",
      "- 22\tdrwxrwxr-x\t2025-01-14 15:39:20.535928\tinfo\t<=git\n",
      "- 23\tdrwxrwxr-x\t2025-01-14 15:44:36.214953\tlogs\t<=git\n",
      "- 21\tdrwxrwxr-x\t2025-01-19 06:42:27.317798\tobjects\t<=git\n",
      "- 20\tdrwxrwxr-x\t2025-01-14 15:39:20.945929\trefs\t<=git\n",
      "/home/feelus/pyfiles/src/.git/branches :\n",
      "/home/feelus/pyfiles/src/.git/hooks :\n",
      "- 91\t-rwxrwxr-x\t2025-01-14 15:39:20.943928\tapplypatch-msg.sample\t<=git\n",
      "- 80\t-rwxrwxr-x\t2025-01-14 15:39:20.599929\tcommit-msg.sample\t<=git\n",
      "- 92\t-rwxrwxr-x\t2025-01-14 15:39:20.944929\tfsmonitor-watchman.sample\t<=git\n",
      "- 79\t-rwxrwxr-x\t2025-01-14 15:39:20.598928\tpost-update.sample\t<=git\n",
      "- 88\t-rwxrwxr-x\t2025-01-14 15:39:20.942929\tpre-applypatch.sample\t<=git\n",
      "- 89\t-rwxrwxr-x\t2025-01-14 15:39:20.943928\tpre-commit.sample\t<=git\n",
      "- 86\t-rwxrwxr-x\t2025-01-14 15:39:20.941929\tpre-merge-commit.sample\t<=git\n",
      "- 83\t-rwxrwxr-x\t2025-01-14 15:39:20.928929\tpre-push.sample\t<=git\n",
      "- 85\t-rwxrwxr-x\t2025-01-14 15:39:20.941929\tpre-rebase.sample\t<=git\n",
      "- 81\t-rwxrwxr-x\t2025-01-14 15:39:20.599929\tpre-receive.sample\t<=git\n",
      "- 90\t-rwxrwxr-x\t2025-01-14 15:39:20.943928\tprepare-commit-msg.sample\t<=git\n",
      "- 84\t-rwxrwxr-x\t2025-01-14 15:39:20.940928\tpush-to-checkout.sample\t<=git\n",
      "- 82\t-rwxrwxr-x\t2025-01-14 15:39:20.730928\tsendemail-validate.sample\t<=git\n",
      "- 87\t-rwxrwxr-x\t2025-01-14 15:39:20.942929\tupdate.sample\t<=git\n",
      "/home/feelus/pyfiles/src/.git/info :\n",
      "- 74\t-rw-rw-r--\t2025-01-14 15:39:20.546928\texclude\t<=git\n",
      "/home/feelus/pyfiles/src/.git/logs :\n",
      "- 76\t-rw-rw-r--\t2025-01-19 06:42:27.274799\tHEAD\t<=git\n",
      "- 75\tdrwxrwxr-x\t2025-01-14 15:44:36.214953\trefs\t<=git\n",
      "/home/feelus/pyfiles/src/.git/logs/refs :\n",
      "- 77\tdrwxrwxr-x\t2025-01-14 15:44:36.214953\theads\t<=git\n",
      "/home/feelus/pyfiles/src/.git/logs/refs/heads :\n",
      "- 78\t-rw-rw-r--\t2025-01-19 06:42:27.274799\tmaster\t<=git\n",
      "/home/feelus/pyfiles/src/.git/objects :\n",
      "- 51\tdrwxrwxr-x\t2025-01-16 14:58:57.933949\t04\t<=git\n",
      "- 35\tdrwxrwxr-x\t2025-01-16 14:58:57.935949\t10\t<=git\n",
      "- 36\tdrwxrwxr-x\t2025-01-15 19:00:34.574902\t23\t<=git\n",
      "- 39\tdrwxrwxr-x\t2025-01-15 19:00:34.575902\t26\t<=git\n",
      "- 52\tdrwxrwxr-x\t2025-01-14 15:44:07.042950\t3b\t<=git\n",
      "- 38\tdrwxrwxr-x\t2025-01-19 06:42:27.272799\t42\t<=git\n",
      "- 40\tdrwxrwxr-x\t2025-01-14 15:44:36.209953\t45\t<=git\n",
      "- 53\tdrwxrwxr-x\t2025-01-14 15:44:06.985950\t56\t<=git\n",
      "- 49\tdrwxrwxr-x\t2025-01-14 15:44:06.941950\t5c\t<=git\n",
      "- 45\tdrwxrwxr-x\t2025-01-14 15:44:36.212953\t91\t<=git\n",
      "- 41\tdrwxrwxr-x\t2025-01-15 19:00:34.574902\t93\t<=git\n",
      "- 47\tdrwxrwxr-x\t2025-01-14 15:44:06.937950\t98\t<=git\n",
      "- 44\tdrwxrwxr-x\t2025-01-17 08:21:20.993031\tad\t<=git\n",
      "- 48\tdrwxrwxr-x\t2025-01-17 08:21:20.995031\tb1\t<=git\n",
      "- 42\tdrwxrwxr-x\t2025-01-16 14:58:57.934949\tba\t<=git\n",
      "- 43\tdrwxrwxr-x\t2025-01-19 06:42:27.271799\tbb\t<=git\n",
      "- 54\tdrwxrwxr-x\t2025-01-17 08:21:20.992031\td8\t<=git\n",
      "- 46\tdrwxrwxr-x\t2025-01-19 06:42:27.274799\te6\t<=git\n",
      "- 37\tdrwxrwxr-x\t2025-01-15 19:00:34.577902\tfa\t<=git\n",
      "- 50\tdrwxrwxr-x\t2025-01-14 15:39:20.962929\tinfo\t<=git\n",
      "- 34\tdrwxrwxr-x\t2025-01-14 15:39:20.962929\tpack\t<=git\n",
      "/home/feelus/pyfiles/src/.git/objects/04 :\n",
      "- 70\t-r--r--r--\t2025-01-16 14:58:57.933949\t8cb8deb88f1aba0612e887c33dc28371cefcde\t<=git\n",
      "/home/feelus/pyfiles/src/.git/objects/10 :\n",
      "- 55\t-r--r--r--\t2025-01-16 14:58:57.935949\t1c776297d45e4abe90a7226544c01a3ef21474\t<=git\n",
      "/home/feelus/pyfiles/src/.git/objects/23 :\n",
      "- 56\t-r--r--r--\t2025-01-15 19:00:34.574902\tff026db3ffb96d5313f8e8b2ebc6a583687ab9\t<=git\n",
      "/home/feelus/pyfiles/src/.git/objects/26 :\n",
      "- 59\t-r--r--r--\t2025-01-15 19:00:34.575902\t40e313bcf6f16877bf367d91075aa6864c0ab2\t<=git\n",
      "/home/feelus/pyfiles/src/.git/objects/3b :\n",
      "- 71\t-r--r--r--\t2025-01-14 15:44:07.042950\t1eafb697668adf592c612e00ba3326b99c7b96\t<=git\n",
      "/home/feelus/pyfiles/src/.git/objects/42 :\n",
      "- 58\t-r--r--r--\t2025-01-19 06:42:27.272799\t3450db162c43f9b35b42aab2255876b8567d2a\t<=git\n",
      "/home/feelus/pyfiles/src/.git/objects/45 :\n",
      "- 60\t-r--r--r--\t2025-01-14 15:44:36.209953\ta60472ef26539269d683039e71e488e3587921\t<=git\n",
      "/home/feelus/pyfiles/src/.git/objects/56 :\n",
      "- 72\t-r--r--r--\t2025-01-14 15:44:06.985950\t7c911c411c39a4297dcf082c2cdeb65f653ce8\t<=git\n",
      "/home/feelus/pyfiles/src/.git/objects/5c :\n",
      "- 69\t-r--r--r--\t2025-01-14 15:44:06.941950\tc5e241e8363380a7ea3d5163212b0a7c124ed3\t<=git\n",
      "/home/feelus/pyfiles/src/.git/objects/91 :\n",
      "- 65\t-r--r--r--\t2025-01-14 15:44:36.212953\t5a77d801b565863926525bafc067ad4dc597d9\t<=git\n",
      "/home/feelus/pyfiles/src/.git/objects/93 :\n",
      "- 61\t-r--r--r--\t2025-01-15 19:00:34.574902\t7539b42734d1b86caaae24aca1ad5a9b278261\t<=git\n",
      "/home/feelus/pyfiles/src/.git/objects/98 :\n",
      "- 67\t-r--r--r--\t2025-01-14 15:44:06.937950\te6ef67fad8af56cb3721edbd420b3d6fcc0bb1\t<=git\n",
      "/home/feelus/pyfiles/src/.git/objects/ad :\n",
      "- 64\t-r--r--r--\t2025-01-17 08:21:20.993031\tc454b39427013e7b037058bb4f0c5e63f2016d\t<=git\n",
      "/home/feelus/pyfiles/src/.git/objects/b1 :\n",
      "- 68\t-r--r--r--\t2025-01-17 08:21:20.994031\te41ead66493a01646ca2165d0c6956d13333d0\t<=git\n",
      "/home/feelus/pyfiles/src/.git/objects/ba :\n",
      "- 62\t-r--r--r--\t2025-01-16 14:58:57.934949\t786f9b9400c4ce5a16c243c6834c81d2390fed\t<=git\n",
      "/home/feelus/pyfiles/src/.git/objects/bb :\n",
      "- 63\t-r--r--r--\t2025-01-19 06:42:27.271799\t93da1c6a49cc7b87339f3153c1565f520ae0d2\t<=git\n",
      "/home/feelus/pyfiles/src/.git/objects/d8 :\n",
      "- 73\t-r--r--r--\t2025-01-17 08:21:20.992031\ta25ee1ccc41f763ad41dc9247ee1308698f47b\t<=git\n",
      "/home/feelus/pyfiles/src/.git/objects/e6 :\n",
      "- 66\t-r--r--r--\t2025-01-19 06:42:27.274799\t6ec043cbde7d52ec0db7049adeafc3426648ee\t<=git\n",
      "/home/feelus/pyfiles/src/.git/objects/fa :\n",
      "- 57\t-r--r--r--\t2025-01-15 19:00:34.577902\t35185d2649d89c4ef276f0210f4dd5ba62b967\t<=git\n",
      "/home/feelus/pyfiles/src/.git/objects/info :\n",
      "/home/feelus/pyfiles/src/.git/objects/pack :\n",
      "/home/feelus/pyfiles/src/.git/refs :\n",
      "- 31\tdrwxrwxr-x\t2025-01-19 06:42:27.275799\theads\t<=git\n",
      "- 32\tdrwxrwxr-x\t2025-01-14 15:39:20.945929\ttags\t<=git\n",
      "/home/feelus/pyfiles/src/.git/refs/heads :\n",
      "- 33\t-rw-rw-r--\t2025-01-19 06:42:27.274799\tmaster\t<=git\n",
      "/home/feelus/pyfiles/src/.git/refs/tags :\n",
      "/home/feelus/pyfiles/src/.ipynb_checkpoints :\n",
      "- 18\t-rw-rw-r--\t2025-01-20 10:49:01.349173\tUntitled-checkpoint.ipynb\t\n",
      "- 19\t-rw-rw-r--\t2025-01-12 16:11:30.088646\tpyfiles-checkpoint.py\t\n",
      "/home/feelus/pyfiles/src/a :\n",
      "M 95\tdrwxr-xr-x\t2025-01-20 16:06:39.901124\tb\t\n",
      "/home/feelus/pyfiles/src/a/b :\n",
      "/home/feelus/pyfiles/src/src :\n",
      "M 100\t-rw-r--r--\t2025-01-20 16:19:40.293242\tfiles2.db-wal\t\n"
     ]
    }
   ],
   "source": [
    "ls_r(0)"
   ]
  },
  {
   "cell_type": "markdown",
   "id": "a04e3163-d88a-480e-b3b1-a511e162b905",
   "metadata": {},
   "source": [
    "## owners"
   ]
  },
  {
   "cell_type": "code",
   "execution_count": 143,
   "id": "5c872b24-ad7a-4022-8ef0-7472414f1d00",
   "metadata": {},
   "outputs": [],
   "source": []
  },
  {
   "cell_type": "code",
   "execution_count": 47,
   "id": "46fcc6c0-7447-4003-bab9-c49c9eefe103",
   "metadata": {},
   "outputs": [
    {
     "name": "stdout",
     "output_type": "stream",
     "text": [
      "[(1, 'name', 0, None, None, None, None, None), (2, 'git', 1, None, None, None, None, None)]\n"
     ]
    }
   ],
   "source": [
    "update_owner('name',False)\n",
    "update_owner('git',True)\n",
    "\n",
    "with CON:\n",
    "    print(CUR.execute('SELECT * FROM owners').fetchall())"
   ]
  },
  {
   "cell_type": "code",
   "execution_count": 48,
   "id": "60510f67-5167-4f98-a952-6dab4b1005bd",
   "metadata": {},
   "outputs": [],
   "source": [
    "set_owner('/home/feelus/pyfiles/src/.git','git')"
   ]
  },
  {
   "cell_type": "code",
   "execution_count": null,
   "id": "b70aae85-6b51-4357-bc64-633b151fb10a",
   "metadata": {},
   "outputs": [],
   "source": []
  },
  {
   "cell_type": "code",
   "execution_count": 49,
   "id": "2f695d2d-ffd1-4057-92f8-d9875425f27d",
   "metadata": {},
   "outputs": [
    {
     "name": "stdout",
     "output_type": "stream",
     "text": [
      "(13, 0, 33204, 1341872, 2052, 1, 1000, 1000, 5, 1737357214.1105747, 1736858453.7939346, 1736858453.7939346, 8, 4096, '428490a10499a80bc48ec83f3cdbcdaa', None)\n",
      "(4, '.gitignore', 13, 0, 0)\n"
     ]
    }
   ],
   "source": [
    "with CON:\n",
    "    print(CUR.execute('SELECT * FROM cur_stat WHERE id = 13').fetchone())\n",
    "    print(CUR.execute('SELECT * FROM cur_dirs WHERE id = 13').fetchone())"
   ]
  },
  {
   "cell_type": "code",
   "execution_count": 50,
   "id": "f3caa183-c01e-4c2e-8f1d-abb292f25dec",
   "metadata": {},
   "outputs": [
    {
     "data": {
      "text/plain": [
       "1"
      ]
     },
     "execution_count": 50,
     "metadata": {},
     "output_type": "execute_result"
    }
   ],
   "source": [
    "simple_type(16893)"
   ]
  },
  {
   "cell_type": "code",
   "execution_count": 51,
   "id": "9ab30d65-c638-4f13-94ba-aca7cee8512c",
   "metadata": {
    "scrolled": true
   },
   "outputs": [
    {
     "name": "stdout",
     "output_type": "stream",
     "text": [
      " :\n",
      "R 1\td\thome\n",
      "/home :\n",
      "R 2\td\tfeelus\n",
      "/home/feelus :\n",
      "R 3\td\tpyfiles\n",
      "/home/feelus/pyfiles :\n",
      "M 4\tdrwxrwxr-x\t2025-01-20 17:30:48.554845\tsrc\t\n",
      "/home/feelus/pyfiles/src :\n",
      "- 7\tdrwxrwxr-x\t2025-01-19 06:42:27.275799\t.git\t<=git\n",
      "- 13\t-rw-rw-r--\t2025-01-14 15:40:53.793935\t.gitignore\t\n",
      "- 6\tdrwxrwxr-x\t2025-01-13 08:34:06.240780\t.ipynb_checkpoints\t\n",
      "M 8\t-rw-rw-r--\t2025-01-20 17:27:56.247324\tUntitled.ipynb\t\n",
      "M 94\tdrwxr-xr-x\t2025-01-20 16:06:39.900124\ta\t\n",
      "- 12\t-rw-rw-r--\t2025-01-16 12:56:40.531080\tbackup.sql\t\n",
      "- 9\t-rw-r--r--\t2025-01-14 14:42:09.380068\tfiles.db\t\n",
      "- 16\t-rw-r--r--\t2025-01-16 13:15:31.733491\tfiles1.db\t\n",
      "- 17\t-rw-r--r--\t2025-01-20 11:20:09.034473\tfiles2.db\t\n",
      "M 15\t-rw-r--r--\t2025-01-20 11:20:10.984473\tfiles2.db-journal\t\n",
      "M 101\t-rw-r--r--\t2025-01-20 17:29:44.936019\tfiles2.db-wal\t\n",
      "- 5\tlrwxrwxrwx\t2025-01-19 14:20:40.827281\tlink\t\n",
      "- 11\t-rw-rw-r--\t2025-01-14 04:24:33.066536\tnotify.py\t\n",
      "- 10\tprw-rw-r--\t2025-01-19 14:20:49.398276\tpipe\t\n",
      "- 14\t-rw-rw-r--\t2025-01-15 06:54:08.153996\tpyfiles.py\t\n",
      "M 99\tdrwxrwxr-x\t2025-01-20 16:23:30.484017\tsrc\t\n",
      "/home/feelus/pyfiles/src/.git :\n",
      "- 26\t-rw-rw-r--\t2025-01-19 06:42:27.273798\tCOMMIT_EDITMSG\t<=git\n",
      "- 30\t-rw-rw-r--\t2025-01-14 15:39:20.947928\tHEAD\t<=git\n",
      "- 25\tdrwxrwxr-x\t2025-01-14 15:39:20.944929\tbranches\t<=git\n",
      "- 29\t-rw-rw-r--\t2025-01-14 15:39:20.961929\tconfig\t<=git\n",
      "- 28\t-rw-rw-r--\t2025-01-14 15:39:20.597929\tdescription\t<=git\n",
      "- 24\tdrwxrwxr-x\t2025-01-14 15:39:20.944929\thooks\t<=git\n",
      "- 27\t-rw-rw-r--\t2025-01-19 06:42:27.272799\tindex\t<=git\n",
      "- 22\tdrwxrwxr-x\t2025-01-14 15:39:20.535928\tinfo\t<=git\n",
      "- 23\tdrwxrwxr-x\t2025-01-14 15:44:36.214953\tlogs\t<=git\n",
      "- 21\tdrwxrwxr-x\t2025-01-19 06:42:27.317798\tobjects\t<=git\n",
      "- 20\tdrwxrwxr-x\t2025-01-14 15:39:20.945929\trefs\t<=git\n",
      "/home/feelus/pyfiles/src/.git/branches :\n",
      "/home/feelus/pyfiles/src/.git/hooks :\n",
      "- 91\t-rwxrwxr-x\t2025-01-14 15:39:20.943928\tapplypatch-msg.sample\t<=git\n",
      "- 80\t-rwxrwxr-x\t2025-01-14 15:39:20.599929\tcommit-msg.sample\t<=git\n",
      "- 92\t-rwxrwxr-x\t2025-01-14 15:39:20.944929\tfsmonitor-watchman.sample\t<=git\n",
      "- 79\t-rwxrwxr-x\t2025-01-14 15:39:20.598928\tpost-update.sample\t<=git\n",
      "- 88\t-rwxrwxr-x\t2025-01-14 15:39:20.942929\tpre-applypatch.sample\t<=git\n",
      "- 89\t-rwxrwxr-x\t2025-01-14 15:39:20.943928\tpre-commit.sample\t<=git\n",
      "- 86\t-rwxrwxr-x\t2025-01-14 15:39:20.941929\tpre-merge-commit.sample\t<=git\n",
      "- 83\t-rwxrwxr-x\t2025-01-14 15:39:20.928929\tpre-push.sample\t<=git\n",
      "- 85\t-rwxrwxr-x\t2025-01-14 15:39:20.941929\tpre-rebase.sample\t<=git\n",
      "- 81\t-rwxrwxr-x\t2025-01-14 15:39:20.599929\tpre-receive.sample\t<=git\n",
      "- 90\t-rwxrwxr-x\t2025-01-14 15:39:20.943928\tprepare-commit-msg.sample\t<=git\n",
      "- 84\t-rwxrwxr-x\t2025-01-14 15:39:20.940928\tpush-to-checkout.sample\t<=git\n",
      "- 82\t-rwxrwxr-x\t2025-01-14 15:39:20.730928\tsendemail-validate.sample\t<=git\n",
      "- 87\t-rwxrwxr-x\t2025-01-14 15:39:20.942929\tupdate.sample\t<=git\n",
      "/home/feelus/pyfiles/src/.git/info :\n",
      "- 74\t-rw-rw-r--\t2025-01-14 15:39:20.546928\texclude\t<=git\n",
      "/home/feelus/pyfiles/src/.git/logs :\n",
      "- 76\t-rw-rw-r--\t2025-01-19 06:42:27.274799\tHEAD\t<=git\n",
      "- 75\tdrwxrwxr-x\t2025-01-14 15:44:36.214953\trefs\t<=git\n",
      "/home/feelus/pyfiles/src/.git/logs/refs :\n",
      "- 77\tdrwxrwxr-x\t2025-01-14 15:44:36.214953\theads\t<=git\n",
      "/home/feelus/pyfiles/src/.git/logs/refs/heads :\n",
      "- 78\t-rw-rw-r--\t2025-01-19 06:42:27.274799\tmaster\t<=git\n",
      "/home/feelus/pyfiles/src/.git/objects :\n",
      "- 51\tdrwxrwxr-x\t2025-01-16 14:58:57.933949\t04\t<=git\n",
      "- 35\tdrwxrwxr-x\t2025-01-16 14:58:57.935949\t10\t<=git\n",
      "- 36\tdrwxrwxr-x\t2025-01-15 19:00:34.574902\t23\t<=git\n",
      "- 39\tdrwxrwxr-x\t2025-01-15 19:00:34.575902\t26\t<=git\n",
      "- 52\tdrwxrwxr-x\t2025-01-14 15:44:07.042950\t3b\t<=git\n",
      "- 38\tdrwxrwxr-x\t2025-01-19 06:42:27.272799\t42\t<=git\n",
      "- 40\tdrwxrwxr-x\t2025-01-14 15:44:36.209953\t45\t<=git\n",
      "- 53\tdrwxrwxr-x\t2025-01-14 15:44:06.985950\t56\t<=git\n",
      "- 49\tdrwxrwxr-x\t2025-01-14 15:44:06.941950\t5c\t<=git\n",
      "- 45\tdrwxrwxr-x\t2025-01-14 15:44:36.212953\t91\t<=git\n",
      "- 41\tdrwxrwxr-x\t2025-01-15 19:00:34.574902\t93\t<=git\n",
      "- 47\tdrwxrwxr-x\t2025-01-14 15:44:06.937950\t98\t<=git\n",
      "- 44\tdrwxrwxr-x\t2025-01-17 08:21:20.993031\tad\t<=git\n",
      "- 48\tdrwxrwxr-x\t2025-01-17 08:21:20.995031\tb1\t<=git\n",
      "- 42\tdrwxrwxr-x\t2025-01-16 14:58:57.934949\tba\t<=git\n",
      "- 43\tdrwxrwxr-x\t2025-01-19 06:42:27.271799\tbb\t<=git\n",
      "- 54\tdrwxrwxr-x\t2025-01-17 08:21:20.992031\td8\t<=git\n",
      "- 46\tdrwxrwxr-x\t2025-01-19 06:42:27.274799\te6\t<=git\n",
      "- 37\tdrwxrwxr-x\t2025-01-15 19:00:34.577902\tfa\t<=git\n",
      "- 50\tdrwxrwxr-x\t2025-01-14 15:39:20.962929\tinfo\t<=git\n",
      "- 34\tdrwxrwxr-x\t2025-01-14 15:39:20.962929\tpack\t<=git\n",
      "/home/feelus/pyfiles/src/.git/objects/04 :\n",
      "- 70\t-r--r--r--\t2025-01-16 14:58:57.933949\t8cb8deb88f1aba0612e887c33dc28371cefcde\t<=git\n",
      "/home/feelus/pyfiles/src/.git/objects/10 :\n",
      "- 55\t-r--r--r--\t2025-01-16 14:58:57.935949\t1c776297d45e4abe90a7226544c01a3ef21474\t<=git\n",
      "/home/feelus/pyfiles/src/.git/objects/23 :\n",
      "- 56\t-r--r--r--\t2025-01-15 19:00:34.574902\tff026db3ffb96d5313f8e8b2ebc6a583687ab9\t<=git\n",
      "/home/feelus/pyfiles/src/.git/objects/26 :\n",
      "- 59\t-r--r--r--\t2025-01-15 19:00:34.575902\t40e313bcf6f16877bf367d91075aa6864c0ab2\t<=git\n",
      "/home/feelus/pyfiles/src/.git/objects/3b :\n",
      "- 71\t-r--r--r--\t2025-01-14 15:44:07.042950\t1eafb697668adf592c612e00ba3326b99c7b96\t<=git\n",
      "/home/feelus/pyfiles/src/.git/objects/42 :\n",
      "- 58\t-r--r--r--\t2025-01-19 06:42:27.272799\t3450db162c43f9b35b42aab2255876b8567d2a\t<=git\n",
      "/home/feelus/pyfiles/src/.git/objects/45 :\n",
      "- 60\t-r--r--r--\t2025-01-14 15:44:36.209953\ta60472ef26539269d683039e71e488e3587921\t<=git\n",
      "/home/feelus/pyfiles/src/.git/objects/56 :\n",
      "- 72\t-r--r--r--\t2025-01-14 15:44:06.985950\t7c911c411c39a4297dcf082c2cdeb65f653ce8\t<=git\n",
      "/home/feelus/pyfiles/src/.git/objects/5c :\n",
      "- 69\t-r--r--r--\t2025-01-14 15:44:06.941950\tc5e241e8363380a7ea3d5163212b0a7c124ed3\t<=git\n",
      "/home/feelus/pyfiles/src/.git/objects/91 :\n",
      "- 65\t-r--r--r--\t2025-01-14 15:44:36.212953\t5a77d801b565863926525bafc067ad4dc597d9\t<=git\n",
      "/home/feelus/pyfiles/src/.git/objects/93 :\n",
      "- 61\t-r--r--r--\t2025-01-15 19:00:34.574902\t7539b42734d1b86caaae24aca1ad5a9b278261\t<=git\n",
      "/home/feelus/pyfiles/src/.git/objects/98 :\n",
      "- 67\t-r--r--r--\t2025-01-14 15:44:06.937950\te6ef67fad8af56cb3721edbd420b3d6fcc0bb1\t<=git\n",
      "/home/feelus/pyfiles/src/.git/objects/ad :\n",
      "- 64\t-r--r--r--\t2025-01-17 08:21:20.993031\tc454b39427013e7b037058bb4f0c5e63f2016d\t<=git\n",
      "/home/feelus/pyfiles/src/.git/objects/b1 :\n",
      "- 68\t-r--r--r--\t2025-01-17 08:21:20.994031\te41ead66493a01646ca2165d0c6956d13333d0\t<=git\n",
      "/home/feelus/pyfiles/src/.git/objects/ba :\n",
      "- 62\t-r--r--r--\t2025-01-16 14:58:57.934949\t786f9b9400c4ce5a16c243c6834c81d2390fed\t<=git\n",
      "/home/feelus/pyfiles/src/.git/objects/bb :\n",
      "- 63\t-r--r--r--\t2025-01-19 06:42:27.271799\t93da1c6a49cc7b87339f3153c1565f520ae0d2\t<=git\n",
      "/home/feelus/pyfiles/src/.git/objects/d8 :\n",
      "- 73\t-r--r--r--\t2025-01-17 08:21:20.992031\ta25ee1ccc41f763ad41dc9247ee1308698f47b\t<=git\n",
      "/home/feelus/pyfiles/src/.git/objects/e6 :\n",
      "- 66\t-r--r--r--\t2025-01-19 06:42:27.274799\t6ec043cbde7d52ec0db7049adeafc3426648ee\t<=git\n",
      "/home/feelus/pyfiles/src/.git/objects/fa :\n",
      "- 57\t-r--r--r--\t2025-01-15 19:00:34.577902\t35185d2649d89c4ef276f0210f4dd5ba62b967\t<=git\n",
      "/home/feelus/pyfiles/src/.git/objects/info :\n",
      "/home/feelus/pyfiles/src/.git/objects/pack :\n",
      "/home/feelus/pyfiles/src/.git/refs :\n",
      "- 31\tdrwxrwxr-x\t2025-01-19 06:42:27.275799\theads\t<=git\n",
      "- 32\tdrwxrwxr-x\t2025-01-14 15:39:20.945929\ttags\t<=git\n",
      "/home/feelus/pyfiles/src/.git/refs/heads :\n",
      "- 33\t-rw-rw-r--\t2025-01-19 06:42:27.274799\tmaster\t<=git\n",
      "/home/feelus/pyfiles/src/.git/refs/tags :\n",
      "/home/feelus/pyfiles/src/.ipynb_checkpoints :\n",
      "- 18\t-rw-rw-r--\t2025-01-20 10:49:01.349173\tUntitled-checkpoint.ipynb\t\n",
      "- 19\t-rw-rw-r--\t2025-01-12 16:11:30.088646\tpyfiles-checkpoint.py\t\n",
      "/home/feelus/pyfiles/src/a :\n",
      "M 95\tdrwxr-xr-x\t2025-01-20 16:06:39.901124\tb\t\n",
      "/home/feelus/pyfiles/src/a/b :\n",
      "/home/feelus/pyfiles/src/src :\n",
      "M 100\t-rw-r--r--\t2025-01-20 16:19:40.293242\tfiles2.db-wal\t\n"
     ]
    }
   ],
   "source": [
    "ls_r(0)"
   ]
  },
  {
   "cell_type": "code",
   "execution_count": 52,
   "id": "6a7fb8e4-4ba8-44d1-a3ec-7d58e903ac76",
   "metadata": {},
   "outputs": [
    {
     "name": "stdout",
     "output_type": "stream",
     "text": [
      "[1, 2, 3, 4, 7]\n",
      "- 26\t-rw-rw-r--\t2025-01-19 06:42:27.273798\tCOMMIT_EDITMSG\t<=git\n",
      "- 30\t-rw-rw-r--\t2025-01-14 15:39:20.947928\tHEAD\t<=git\n",
      "- 25\tdrwxrwxr-x\t2025-01-14 15:39:20.944929\tbranches\t<=git\n",
      "- 29\t-rw-rw-r--\t2025-01-14 15:39:20.961929\tconfig\t<=git\n",
      "- 28\t-rw-rw-r--\t2025-01-14 15:39:20.597929\tdescription\t<=git\n",
      "- 24\tdrwxrwxr-x\t2025-01-14 15:39:20.944929\thooks\t<=git\n",
      "- 27\t-rw-rw-r--\t2025-01-19 06:42:27.272799\tindex\t<=git\n",
      "- 22\tdrwxrwxr-x\t2025-01-14 15:39:20.535928\tinfo\t<=git\n",
      "- 23\tdrwxrwxr-x\t2025-01-14 15:44:36.214953\tlogs\t<=git\n",
      "- 21\tdrwxrwxr-x\t2025-01-19 06:42:27.317798\tobjects\t<=git\n",
      "- 20\tdrwxrwxr-x\t2025-01-14 15:39:20.945929\trefs\t<=git\n"
     ]
    }
   ],
   "source": [
    "ls('/home/feelus/pyfiles/src/.git')"
   ]
  },
  {
   "cell_type": "code",
   "execution_count": 53,
   "id": "4ae2d31a-d6eb-45ba-a1f1-54ebf5abf810",
   "metadata": {},
   "outputs": [
    {
     "name": "stdout",
     "output_type": "stream",
     "text": [
      "[1, 2, 3, 4, 7, 23]\n",
      "- 76\t-rw-rw-r--\t2025-01-19 06:42:27.274799\tHEAD\t<=git\n",
      "- 75\tdrwxrwxr-x\t2025-01-14 15:44:36.214953\trefs\t<=git\n"
     ]
    }
   ],
   "source": [
    "ls('/home/feelus/pyfiles/src/.git/logs')"
   ]
  },
  {
   "cell_type": "code",
   "execution_count": 54,
   "id": "aef996d1-5656-43b1-8b4b-dcb6c9d5c510",
   "metadata": {},
   "outputs": [
    {
     "name": "stdout",
     "output_type": "stream",
     "text": [
      "[1, 2, 3, 4, 7, 23, 75]\n",
      "- 77\tdrwxrwxr-x\t2025-01-14 15:44:36.214953\theads\t<=git\n"
     ]
    }
   ],
   "source": [
    "ls('/home/feelus/pyfiles/src/.git/logs/refs')"
   ]
  },
  {
   "cell_type": "markdown",
   "id": "617abb93-2aa5-4f7b-a368-b509d0c79025",
   "metadata": {},
   "source": [
    "## deleted"
   ]
  },
  {
   "cell_type": "code",
   "execution_count": 138,
   "id": "54963780-e5df-4d86-aaaa-d6f3d1552144",
   "metadata": {},
   "outputs": [],
   "source": [
    "\n"
   ]
  },
  {
   "cell_type": "code",
   "execution_count": 140,
   "id": "19c2c74b-3b83-442b-a310-6fda9a8b3ae7",
   "metadata": {},
   "outputs": [],
   "source": []
  },
  {
   "cell_type": "code",
   "execution_count": 141,
   "id": "fb8efee7-c21b-4efe-a3e5-4a52a8f7132e",
   "metadata": {},
   "outputs": [
    {
     "name": "stdout",
     "output_type": "stream",
     "text": [
      "('/home/feelus/pyfiles/src/.git/refs/heads/master', False)\n"
     ]
    }
   ],
   "source": [
    "with CON:\n",
    "    print(id2path_hist(33,CUR))"
   ]
  },
  {
   "cell_type": "code",
   "execution_count": 142,
   "id": "0a115655-93b9-48aa-be03-fd672e2dff3b",
   "metadata": {},
   "outputs": [],
   "source": []
  },
  {
   "cell_type": "markdown",
   "id": "1fc890b1-d030-4abe-8343-0d4bc76bfaa4",
   "metadata": {},
   "source": [
    "## hist"
   ]
  },
  {
   "cell_type": "code",
   "execution_count": 131,
   "id": "e64353ac-3739-4bcd-84a9-be600551703d",
   "metadata": {},
   "outputs": [],
   "source": [
    "\n",
    "     \n",
    "        "
   ]
  },
  {
   "cell_type": "code",
   "execution_count": null,
   "id": "1103fc7f-195a-431a-b349-bb5f395065fa",
   "metadata": {},
   "outputs": [],
   "source": []
  },
  {
   "cell_type": "code",
   "execution_count": 58,
   "id": "be3dae41-0812-4de4-b47b-688128a54654",
   "metadata": {},
   "outputs": [],
   "source": []
  },
  {
   "cell_type": "code",
   "execution_count": 59,
   "id": "1e8b8328-43f3-4eec-b60e-78df07a9169f",
   "metadata": {},
   "outputs": [
    {
     "name": "stdout",
     "output_type": "stream",
     "text": [
      "18 4 /home/feelus/pyfiles/src\n",
      "2 8 /home/feelus/pyfiles/src/Untitled.ipynb\n",
      "5 93 /home/feelus/pyfiles/src/test3\n",
      "1 94 /home/feelus/pyfiles/src/a\n",
      "1 95 /home/feelus/pyfiles/src/a/b\n",
      "3 96 /home/feelus/pyfiles/src/c/d/e\n",
      "2 97 /home/feelus/pyfiles/src/c\n",
      "2 98 /home/feelus/pyfiles/src/c/d\n",
      "1 99 /home/feelus/pyfiles/src/src\n",
      "1 100 /home/feelus/pyfiles/src/src/files2.db-wal\n",
      "8 101 /home/feelus/pyfiles/src/files2.db-wal\n",
      "2 102 /home/feelus/pyfiles/src/test2\n",
      "2 103 /home/feelus/pyfiles/src/test2\n",
      "2 104 /home/feelus/pyfiles/src/test2\n",
      "2 105 /home/feelus/pyfiles/src/.~Untitled.ipynb\n",
      "3 106 /home/feelus/pyfiles/src/test2\n",
      "2 107 /home/feelus/pyfiles/src/.~Untitled.ipynb\n"
     ]
    }
   ],
   "source": [
    "ls_hist()"
   ]
  },
  {
   "cell_type": "code",
   "execution_count": 60,
   "id": "00e4e269-b922-4d75-8157-16dfd7c5f199",
   "metadata": {},
   "outputs": [],
   "source": []
  },
  {
   "cell_type": "code",
   "execution_count": 61,
   "id": "a4cc9b45-ae71-458d-981b-fee5335e9425",
   "metadata": {},
   "outputs": [
    {
     "name": "stdout",
     "output_type": "stream",
     "text": [
      "[(-1, '-1', 93, 0, 1, -1, -1, -1, -1, -1, -1, -1, -1.0, -1.0, -1.0, -1, -1, '-1', -1, 1737362017.8649435, 0), (4, 'test2', 93, 0, 2, 33204, 1348653, 2052, 1, 1000, 1000, 0, 1737362015.415834, 1737362015.415834, 1737362015.415834, 0, 4096, None, None, 1737362108.1086524, 0), (4, 'test2', 93, 0, 2, 33204, 1348653, 2052, 1, 1000, 1000, 4, 1737362015.415834, 1737362102.1757042, 1737362102.1757042, 8, 4096, None, None, 1737362280.992503, 0), (4, 'test2', 93, 0, 3, 33204, 1348653, 2052, 1, 1000, 1000, 4, 1737362015.415834, 1737362280.399421, 1737362280.399421, 8, 4096, None, None, 1737362605.6334498, 0), (4, 'test3', 93, 0, 4, 33204, 1348653, 2052, 1, 1000, 1000, 4, 1737362015.415834, 1737362280.399421, 1737362280.399421, 8, 4096, None, None, 1737364158.2099063, 0), (-1, '-1', 94, 1, 1, -1, -1, -1, -1, -1, -1, -1, -1.0, -1.0, -1.0, -1, -1, '-1', -1, 1737378436.954634, 1), (-1, '-1', 95, 1, 1, -1, -1, -1, -1, -1, -1, -1, -1.0, -1.0, -1.0, -1, -1, '-1', -1, 1737378436.9551497, 1), (-1, '-1', 96, 0, 1, -1, -1, -1, -1, -1, -1, -1, -1.0, -1.0, -1.0, -1, -1, '-1', -1, 1737378436.9553094, 0), (-1, '-1', 97, 1, 1, -1, -1, -1, -1, -1, -1, -1, -1.0, -1.0, -1.0, -1, -1, '-1', -1, 1737378738.3088477, 1), (-1, '-1', 98, 1, 1, -1, -1, -1, -1, -1, -1, -1, -1.0, -1.0, -1.0, -1, -1, '-1', -1, 1737378738.3093898, 1), (95, 'test', 96, 0, 3, 33188, 1348922, 2052, 1, 0, 0, 0, 1737378399.9011245, 1737378399.9011245, 1737378399.9011245, 0, 4096, None, None, 1737378738.3094318, 0), (98, 'e', 96, 0, 4, 33188, 1348922, 2052, 1, 0, 0, 0, 1737378399.9011245, 1737378399.9011245, 1737378399.9011245, 0, 4096, None, None, 1737378909.4029357, 1), (97, 'd', 98, 1, 4, 16877, 1348932, 2052, 2, 0, 0, 4096, 1737378687.0034552, 1737378686.9064553, 1737378686.9064553, 8, 4096, None, None, 1737378909.403341, 1), (4, 'c', 97, 1, 4, 16877, 1348930, 2052, 3, 0, 0, 4096, 1737378687.0034552, 1737378686.9044552, 1737378686.9044552, 8, 4096, None, None, 1737378909.403391, 0), (-1, '-1', 99, 1, 1, -1, -1, -1, -1, -1, -1, -1, -1.0, -1.0, -1.0, -1, -1, '-1', -1, 1737379435.8007836, 1), (-1, '-1', 100, 0, 1, -1, -1, -1, -1, -1, -1, -1, -1.0, -1.0, -1.0, -1, -1, '-1', -1, 1737379435.8009503, 0), (-1, '-1', 101, 0, 1, -1, -1, -1, -1, -1, -1, -1, -1.0, -1.0, -1.0, -1, -1, '-1', -1, 1737381815.5576694, 0), (-1, '-1', 102, 0, 1, -1, -1, -1, -1, -1, -1, -1, -1.0, -1.0, -1.0, -1, -1, '-1', -1, 1737381831.9875386, 0), (3, 'src', 4, 1, 2, 16893, 1318666, 2052, 4, 1000, 1000, 4096, 1737361209.097473, 1737361209.084473, 1737361209.084473, 8, 4096, '000000000000000000000000f0f9fdb7', None, 1737381831.98917, 0), (3, 'src', 4, 1, 2, 16893, 1318666, 2052, 5, 1000, 1000, 4096, 1737381815.0779457, 1737381831.9829068, 1737381831.9829068, 8, 4096, '000000000000000000000000f0f9fdb7', None, 1737381831.9920177, 0), (4, 'test2', 102, 0, 4, 33204, 1349068, 2052, 1, 1000, 1000, 0, 1737381831.9839067, 1737381831.9839067, 1737381831.9839067, 0, 4096, None, None, 1737381841.5062976, 0), (3, 'src', 4, 1, 2, 16893, 1318666, 2052, 5, 1000, 1000, 4096, 1737381815.0779457, 1737381831.9829068, 1737381831.9829068, 8, 4096, '000000000000000000000000f0f9fdb7', None, 1737381841.5075622, 0), (4, 'files2.db-wal', 101, 0, 2, 33188, 1348922, 2052, 1, 0, 0, 45352, 1737381423.1378849, 1737379504.0939, 1737381815.5539446, 96, 4096, None, None, 1737382669.8928082, 0), (-1, '-1', 103, 0, 1, -1, -1, -1, -1, -1, -1, -1, -1.0, -1.0, -1.0, -1, -1, '-1', -1, 1737382681.0152926, 0), (3, 'src', 4, 1, 2, 16893, 1318666, 2052, 5, 1000, 1000, 4096, 1737381832.0859065, 1737381841.5028849, 1737381841.5028849, 8, 4096, '000000000000000000000000f0f9fdb7', None, 1737382681.0160491, 0), (3, 'src', 4, 1, 2, 16893, 1318666, 2052, 5, 1000, 1000, 4096, 1737382656.550089, 1737382681.0120363, 1737382681.0120363, 8, 4096, '000000000000000000000000f0f9fdb7', None, 1737382681.0177302, 0), (4, 'files2.db-wal', 101, 0, 2, 33188, 1348922, 2052, 1, 0, 0, 90672, 1737382192.3700979, 1737381913.0107217, 1737382669.8900602, 184, 4096, None, None, 1737382912.7023904, 0), (4, 'test2', 103, 0, 4, 33204, 1349086, 2052, 1, 1000, 1000, 0, 1737382681.0130365, 1737382681.0130365, 1737382681.0130365, 0, 4096, None, None, 1737382918.1817884, 0), (4, 'files2.db-wal', 101, 0, 2, 33188, 1348922, 2052, 1, 0, 0, 135992, 1737382669.8910604, 1737382689.935017, 1737382912.6994648, 272, 4096, None, None, 1737382945.1806295, 0), (-1, '-1', 104, 0, 1, -1, -1, -1, -1, -1, -1, -1, -1.0, -1.0, -1.0, -1, -1, '-1', -1, 1737382948.6592314, 0), (3, 'src', 4, 1, 2, 16893, 1318666, 2052, 5, 1000, 1000, 4096, 1737382656.550089, 1737382681.0120363, 1737382681.0120363, 8, 4096, '000000000000000000000000f0f9fdb7', None, 1737382948.6597204, 0), (3, 'src', 4, 1, 2, 16893, 1318666, 2052, 5, 1000, 1000, 4096, 1737382918.2844453, 1737382948.6573412, 1737382948.6573412, 8, 4096, '000000000000000000000000f0f9fdb7', None, 1737382948.6602967, 0), (4, 'files2.db-wal', 101, 0, 2, 33188, 1348922, 2052, 1, 0, 0, 173072, 1737382912.7004647, 1737382918.1814456, 1737382945.177353, 344, 4096, None, None, 1737383006.7340984, 0), (4, 'test2', 104, 0, 4, 33204, 1349086, 2052, 1, 1000, 1000, 0, 1737382948.6573412, 1737382948.6573412, 1737382948.6573412, 0, 4096, None, None, 1737383010.2213628, 0), (3, 'src', 4, 1, 2, 16893, 1318666, 2052, 5, 1000, 1000, 4096, 1737382918.2844453, 1737382948.6573412, 1737382948.6573412, 8, 4096, '000000000000000000000000f0f9fdb7', None, 1737383010.222055, 0), (-1, '-1', 105, 0, 1, -1, -1, -1, -1, -1, -1, -1, -1.0, -1.0, -1.0, -1, -1, '-1', -1, 1737383018.5505848, 0), (3, 'src', 4, 1, 2, 16893, 1318666, 2052, 5, 1000, 1000, 4096, 1737382948.7603407, 1737383010.219136, 1737383010.219136, 8, 4096, '000000000000000000000000f0f9fdb7', None, 1737383018.5516176, 0), (3, 'src', 4, 1, 2, 16893, 1318666, 2052, 5, 1000, 1000, 4096, 1737383010.3221357, 1737383018.5481088, 1737383018.5481088, 8, 4096, '000000000000000000000000f0f9fdb7', None, 1737383018.5539305, 0), (4, 'Untitled.ipynb', 8, 0, 2, 33204, 1333160, 2052, 1, 1000, 1000, 157305, 1737361145.4854434, 1737361145.2904432, 1737361145.2904432, 312, 4096, '5793e6e79b6a611f195eaf722d332bb6', None, 1737383018.5544856, 0), (3, 'src', 4, 1, 2, 16893, 1318666, 2052, 5, 1000, 1000, 4096, 1737383010.3221357, 1737383018.5481088, 1737383018.5481088, 8, 4096, '000000000000000000000000f0f9fdb7', None, 1737383018.6158047, 0), (4, '.~Untitled.ipynb', 105, 0, 4, 33204, 1349086, 2052, 1, 0, 0, 151764, 1737382898.2295153, 1737382897.121519, 1737383018.549109, 304, 4096, None, None, 1737383018.6158893, 0), (3, 'src', 4, 1, 2, 16893, 1318666, 2052, 5, 1000, 1000, 4096, 1737383010.3221357, 1737383018.6141086, 1737383018.6141086, 8, 4096, '000000000000000000000000f0f9fdb7', None, 1737383018.6160836, 0), (4, 'files2.db-wal', 101, 0, 2, 33188, 1348922, 2052, 1, 0, 0, 218392, 1737382945.179353, 1737382967.2162786, 1737383006.7311475, 432, 4096, None, None, 1737383161.398668, 0), (-1, '-1', 106, 0, 1, -1, -1, -1, -1, -1, -1, -1, -1.0, -1.0, -1.0, -1, -1, '-1', -1, 1737383168.43842, 0), (3, 'src', 4, 1, 2, 16893, 1318666, 2052, 5, 1000, 1000, 4096, 1737383010.3221357, 1737383018.6141086, 1737383018.6141086, 8, 4096, '000000000000000000000000f0f9fdb7', None, 1737383168.4396534, 0), (3, 'src', 4, 1, 2, 16893, 1318666, 2052, 5, 1000, 1000, 4096, 1737383156.1226778, 1737383168.4356406, 1737383168.4356406, 8, 4096, '000000000000000000000000f0f9fdb7', None, 1737383168.4413157, 0), (-1, '-1', 107, 0, 1, -1, -1, -1, -1, -1, -1, -1, -1.0, -1.0, -1.0, -1, -1, '-1', -1, 1737383276.2187052, 0), (3, 'src', 4, 1, 2, 16893, 1318666, 2052, 5, 1000, 1000, 4096, 1737383156.1226778, 1737383168.4356406, 1737383168.4356406, 8, 4096, '000000000000000000000000f0f9fdb7', None, 1737383276.2426317, 0), (3, 'src', 4, 1, 2, 16893, 1318666, 2052, 5, 1000, 1000, 4096, 1737383168.5396404, 1737383276.2163243, 1737383276.2163243, 8, 4096, '000000000000000000000000f0f9fdb7', None, 1737383276.2438362, 0), (4, 'Untitled.ipynb', 8, 0, 2, 33204, 1333160, 2052, 1, 1000, 1000, 152295, 1737382898.2295153, 1737383018.5861087, 1737383018.5861087, 304, 4096, '5793e6e79b6a611f195eaf722d332bb6', None, 1737383276.2444425, 0), (4, 'files2.db-wal', 101, 0, 2, 33188, 1348922, 2052, 1, 0, 0, 263712, 1737383006.7321475, 1737383043.568028, 1737383161.3956618, 520, 4096, None, None, 1737383276.2447395, 0), (3, 'src', 4, 1, 2, 16893, 1318666, 2052, 5, 1000, 1000, 4096, 1737383168.5396404, 1737383276.2163243, 1737383276.2163243, 8, 4096, '000000000000000000000000f0f9fdb7', None, 1737383276.2745001, 0), (4, '.~Untitled.ipynb', 107, 0, 4, 33204, 1349103, 2052, 1, 0, 0, 152937, 1737383156.0956779, 1737383156.051678, 1737383276.2163243, 304, 4096, None, None, 1737383276.2748914, 0), (3, 'src', 4, 1, 2, 16893, 1318666, 2052, 5, 1000, 1000, 4096, 1737383168.5396404, 1737383276.272324, 1737383276.272324, 8, 4096, '000000000000000000000000f0f9fdb7', None, 1737383276.2757688, 0), (4, 'files2.db-wal', 101, 0, 2, 33188, 1348922, 2052, 1, 0, 0, 309032, 1737383161.397662, 1737383276.2183244, 1737383276.2183244, 608, 4096, None, None, 1737383440.0281973, 0), (4, 'test2', 106, 0, 2, 33204, 1349101, 2052, 1, 1000, 1000, 0, 1737383168.4356406, 1737383168.4356406, 1737383168.4356406, 0, 4096, None, None, 1737383444.7171226, 0), (4, 'test2', 106, 0, 4, 33204, 1349101, 2052, 1, 1000, 1000, 0, 1737383444.7148557, 1737383444.7148557, 1737383444.7148557, 0, 4096, None, None, 1737383448.5564117, 0)]\n"
     ]
    }
   ],
   "source": [
    "print(CUR.execute('SELECT * FROM hist').fetchall())"
   ]
  },
  {
   "cell_type": "code",
   "execution_count": 62,
   "id": "bb2699a6-1f95-4a4f-9a0f-7a1a9846c7bc",
   "metadata": {},
   "outputs": [
    {
     "name": "stdout",
     "output_type": "stream",
     "text": [
      "1 2 /home/feelus\n",
      "18 4 /home/feelus/pyfiles/src\n",
      "1 5 /home/feelus/pyfiles/src/link\n",
      "2 8 /home/feelus/pyfiles/src/Untitled.ipynb\n",
      "5 93 /home/feelus/pyfiles/src/test3\n",
      "1 94 /home/feelus/pyfiles/src/a\n",
      "1 95 /home/feelus/pyfiles/src/a/b\n",
      "3 96 /home/feelus/pyfiles/src/c/d/e\n",
      "2 97 /home/feelus/pyfiles/src/c\n",
      "2 98 /home/feelus/pyfiles/src/c/d\n",
      "1 99 /home/feelus/pyfiles/src/src\n",
      "1 100 /home/feelus/pyfiles/src/src/files2.db-wal\n",
      "8 101 /home/feelus/pyfiles/src/files2.db-wal\n",
      "2 102 /home/feelus/pyfiles/src/test2\n",
      "2 103 /home/feelus/pyfiles/src/test2\n",
      "2 104 /home/feelus/pyfiles/src/test2\n",
      "2 105 /home/feelus/pyfiles/src/.~Untitled.ipynb\n",
      "3 106 /home/feelus/pyfiles/src/test2\n",
      "2 107 /home/feelus/pyfiles/src/.~Untitled.ipynb\n",
      "/home/feelus\n",
      "R 2\td\tfeelus\n",
      "C W 2025-01-21 10:43:34.812443\n",
      "/home/feelus/pyfiles/src/link\n",
      "- 5\tlrwxrwxrwx\t2025-01-19 14:20:40.827281\tlink\t\n",
      "D S 2025-01-21 10:43:34.813981\n",
      "---\n"
     ]
    }
   ],
   "source": [
    "with CON:\n",
    "    add_event(2, MDIR, ECREAT, False, CUR)\n",
    "    add_event(5, MLINK, EDEL, True, CUR)\n",
    "    ls_hist()\n",
    "    hist_byid(2)\n",
    "    hist_byid(5)\n",
    "    CUR.execute('DELETE FROM hist')\n",
    "    print('---')\n",
    "    ls_hist()\n",
    "    "
   ]
  },
  {
   "cell_type": "code",
   "execution_count": 11,
   "id": "df0f0f4c-ac48-4878-9309-9f75351b2f6d",
   "metadata": {},
   "outputs": [
    {
     "data": {
      "text/plain": [
       "os.stat_result(st_mode=16893, st_ino=1318666, st_dev=2052, st_nlink=6, st_uid=1000, st_gid=1000, st_size=4096, st_atime=1737628944, st_mtime=1737628943, st_ctime=1737628943)"
      ]
     },
     "execution_count": 11,
     "metadata": {},
     "output_type": "execute_result"
    }
   ],
   "source": [
    "import os\n",
    "os.stat('.')"
   ]
  },
  {
   "cell_type": "code",
   "execution_count": 125,
   "id": "b394da80-40b3-412d-a485-269e3d449f97",
   "metadata": {},
   "outputs": [],
   "source": [
    "\n"
   ]
  },
  {
   "cell_type": "markdown",
   "id": "ad1dfd19-091e-49fb-9ec2-585b1fbd1652",
   "metadata": {
    "jp-MarkdownHeadingCollapsed": true
   },
   "source": [
    "### простой файл"
   ]
  },
  {
   "cell_type": "code",
   "execution_count": 65,
   "id": "436adcb0-5367-45c1-9538-51cfa5c0858f",
   "metadata": {},
   "outputs": [
    {
     "data": {
      "text/plain": [
       "0"
      ]
     },
     "execution_count": 65,
     "metadata": {},
     "output_type": "execute_result"
    }
   ],
   "source": [
    "os.system('touch test2')"
   ]
  },
  {
   "cell_type": "code",
   "execution_count": 66,
   "id": "110b533a-6db1-4726-834d-0e516819eba7",
   "metadata": {},
   "outputs": [],
   "source": [
    "with CON:\n",
    "    created('/home/feelus/pyfiles/src/test2', os.stat('/home/feelus/pyfiles/src/test2'), False, False, CUR)"
   ]
  },
  {
   "cell_type": "code",
   "execution_count": 67,
   "id": "04baaa44-78bb-4360-8861-74e35288bb4f",
   "metadata": {},
   "outputs": [
    {
     "name": "stdout",
     "output_type": "stream",
     "text": [
      "[1, 2, 3, 4]\n",
      "- 7\tdrwxrwxr-x\t2025-01-19 06:42:27.275799\t.git\t<=git\n",
      "- 13\t-rw-rw-r--\t2025-01-14 15:40:53.793935\t.gitignore\t\n",
      "- 6\tdrwxrwxr-x\t2025-01-13 08:34:06.240780\t.ipynb_checkpoints\t\n",
      "M 8\t-rw-rw-r--\t2025-01-20 17:27:56.247324\tUntitled.ipynb\t\n",
      "M 94\tdrwxr-xr-x\t2025-01-20 16:06:39.900124\ta\t\n",
      "- 12\t-rw-rw-r--\t2025-01-16 12:56:40.531080\tbackup.sql\t\n",
      "- 9\t-rw-r--r--\t2025-01-14 14:42:09.380068\tfiles.db\t\n",
      "- 16\t-rw-r--r--\t2025-01-16 13:15:31.733491\tfiles1.db\t\n",
      "- 17\t-rw-r--r--\t2025-01-20 11:20:09.034473\tfiles2.db\t\n",
      "M 15\t-rw-r--r--\t2025-01-20 11:20:10.984473\tfiles2.db-journal\t\n",
      "M 101\t-rw-r--r--\t2025-01-20 17:29:44.936019\tfiles2.db-wal\t\n",
      "- 5\tlrwxrwxrwx\t2025-01-19 14:20:40.827281\tlink\t\n",
      "- 11\t-rw-rw-r--\t2025-01-14 04:24:33.066536\tnotify.py\t\n",
      "- 10\tprw-rw-r--\t2025-01-19 14:20:49.398276\tpipe\t\n",
      "- 14\t-rw-rw-r--\t2025-01-15 06:54:08.153996\tpyfiles.py\t\n",
      "M 99\tdrwxrwxr-x\t2025-01-20 16:23:30.484017\tsrc\t\n",
      "M 108\t-rw-r--r--\t2025-01-21 10:43:36.906808\ttest2\t\n"
     ]
    }
   ],
   "source": [
    "ls('/home/feelus/pyfiles/src')"
   ]
  },
  {
   "cell_type": "code",
   "execution_count": 68,
   "id": "113dd474-36c3-4630-b213-248f2140678b",
   "metadata": {},
   "outputs": [
    {
     "name": "stdout",
     "output_type": "stream",
     "text": [
      "1 108 /home/feelus/pyfiles/src/test2\n"
     ]
    }
   ],
   "source": [
    "ls_hist()"
   ]
  },
  {
   "cell_type": "code",
   "execution_count": 71,
   "id": "c8688ee2-bd12-4243-ba29-064924ea71e2",
   "metadata": {},
   "outputs": [
    {
     "name": "stdout",
     "output_type": "stream",
     "text": [
      "/home/feelus/pyfiles/src/test2\n",
      "M 108\t-rw-r--r--\t2025-01-21 10:43:36.906808\ttest2\t\n",
      "C W 2025-01-21 10:43:37.244680\n"
     ]
    }
   ],
   "source": [
    "hist_byid(108)"
   ]
  },
  {
   "cell_type": "code",
   "execution_count": null,
   "id": "1a5bdfee-f2de-4e8d-a35d-18d7f45ac442",
   "metadata": {},
   "outputs": [],
   "source": []
  },
  {
   "cell_type": "code",
   "execution_count": 72,
   "id": "65e6b753-8f7e-4116-9d0f-5c5a104c406e",
   "metadata": {},
   "outputs": [
    {
     "data": {
      "text/plain": [
       "0"
      ]
     },
     "execution_count": 72,
     "metadata": {},
     "output_type": "execute_result"
    }
   ],
   "source": [
    "os.system('echo 123 > test2')"
   ]
  },
  {
   "cell_type": "code",
   "execution_count": 73,
   "id": "be129918-4707-49a1-9ca9-91558b675c96",
   "metadata": {},
   "outputs": [],
   "source": [
    "with CON:\n",
    "    modified('/home/feelus/pyfiles/src/test2', os.stat('/home/feelus/pyfiles/src/test2'), False, False, CUR)"
   ]
  },
  {
   "cell_type": "code",
   "execution_count": 74,
   "id": "4fccb80b-8904-44d5-a9ed-e775d7f57e09",
   "metadata": {},
   "outputs": [
    {
     "name": "stdout",
     "output_type": "stream",
     "text": [
      "[1, 2, 3, 4]\n",
      "- 7\tdrwxrwxr-x\t8\tfeelus\tfeelus\t4096\t2025-01-19 06:42:27.275799\t.git\t000000000000000000000000b033787a\t<=git\n",
      "- 13\t-rw-rw-r--\t1\tfeelus\tfeelus\t5\t2025-01-14 15:40:53.793935\t.gitignore\t428490a10499a80bc48ec83f3cdbcdaa\t\n",
      "- 6\tdrwxrwxr-x\t2\tfeelus\tfeelus\t4096\t2025-01-13 08:34:06.240780\t.ipynb_checkpoints\t000000000000000000000000a5176ea8\t\n",
      "M 8\t-rw-rw-r--\t1\tfeelus\tfeelus\t152428\t2025-01-20 17:27:56.247324\tUntitled.ipynb\t5793e6e79b6a611f195eaf722d332bb6\t\n",
      "M 94\tdrwxr-xr-x\t3\troot\troot\t4096\t2025-01-20 16:06:39.900124\ta\tNone\t\n",
      "- 12\t-rw-rw-r--\t1\tfeelus\tfeelus\t162029520\t2025-01-16 12:56:40.531080\tbackup.sql\tccd1ee9c869088c865b1237b27147cc2\t\n",
      "- 9\t-rw-r--r--\t1\troot\troot\t220545024\t2025-01-14 14:42:09.380068\tfiles.db\t1691fc18f126cb116505fa62c87ba7ae\t\n",
      "- 16\t-rw-r--r--\t1\tfeelus\tfeelus\t147574784\t2025-01-16 13:15:31.733491\tfiles1.db\t2e37e83cb16f3ad10cd2dfd225a09aac\t\n",
      "- 17\t-rw-r--r--\t1\troot\troot\t32768\t2025-01-20 11:20:09.034473\tfiles2.db\t2285ecb25d98e7323a7a43f7b5c4dfba\t\n",
      "M 15\t-rw-r--r--\t1\troot\troot\t12824\t2025-01-20 11:20:10.984473\tfiles2.db-journal\t42f557fa53797f8a73958a3a26468e70\t\n",
      "M 101\t-rw-r--r--\t1\troot\troot\t362592\t2025-01-20 17:29:44.936019\tfiles2.db-wal\tNone\t\n",
      "- 5\tlrwxrwxrwx\t1\tfeelus\tfeelus\t4\t2025-01-19 14:20:40.827281\tlink\t->.git\t\n",
      "- 11\t-rw-rw-r--\t1\tfeelus\tfeelus\t1422\t2025-01-14 04:24:33.066536\tnotify.py\td10192406f1f74ddcd95ddb1360b704c\t\n",
      "- 10\tprw-rw-r--\t1\tfeelus\tfeelus\t0\t2025-01-19 14:20:49.398276\tpipe\t00000000000000000000000000000000\t\n",
      "- 14\t-rw-rw-r--\t1\tfeelus\tfeelus\t1893\t2025-01-15 06:54:08.153996\tpyfiles.py\t03078892139cf77b505ae7e129b71921\t\n",
      "M 99\tdrwxrwxr-x\t5\tfeelus\tfeelus\t4096\t2025-01-20 16:23:30.484017\tsrc\tNone\t\n",
      "M 108\t-rw-r--r--\t1\troot\troot\t4\t2025-01-21 10:44:00.116778\ttest2\tNone\t\n"
     ]
    }
   ],
   "source": [
    "ls(short=False)"
   ]
  },
  {
   "cell_type": "code",
   "execution_count": 75,
   "id": "3f20756d-394a-49be-8b30-758a273325bf",
   "metadata": {},
   "outputs": [
    {
     "name": "stdout",
     "output_type": "stream",
     "text": [
      "2 108 /home/feelus/pyfiles/src/test2\n"
     ]
    }
   ],
   "source": [
    "ls_hist()"
   ]
  },
  {
   "cell_type": "code",
   "execution_count": 76,
   "id": "4e0b3d78-718c-44ff-95e9-13f864c32b10",
   "metadata": {},
   "outputs": [
    {
     "name": "stdout",
     "output_type": "stream",
     "text": [
      "/home/feelus/pyfiles/src/test2\n",
      "M 108\t-rw-r--r--\t2025-01-21 10:44:00.116778\ttest2\t\n",
      "M W 2025-01-21 10:44:01.929998\n",
      "C W 2025-01-21 10:43:37.244680\n"
     ]
    }
   ],
   "source": [
    "hist_byid(108)"
   ]
  },
  {
   "cell_type": "code",
   "execution_count": null,
   "id": "b0aabf18-760c-4dc5-9ad9-d30c19941d3a",
   "metadata": {},
   "outputs": [],
   "source": []
  },
  {
   "cell_type": "code",
   "execution_count": 77,
   "id": "14c1becb-84d6-43b3-ad90-39a1c0fee1bc",
   "metadata": {},
   "outputs": [
    {
     "data": {
      "text/plain": [
       "0"
      ]
     },
     "execution_count": 77,
     "metadata": {},
     "output_type": "execute_result"
    }
   ],
   "source": [
    "os.system('mv test2 test3')"
   ]
  },
  {
   "cell_type": "code",
   "execution_count": 78,
   "id": "3fdc1750-60fb-4f34-b594-28104a7519be",
   "metadata": {},
   "outputs": [],
   "source": [
    "with CON:\n",
    "    moved('/home/feelus/pyfiles/src/test2','/home/feelus/pyfiles/src/test3', os.stat('/home/feelus/pyfiles/src/test3'), False, False, CUR)"
   ]
  },
  {
   "cell_type": "code",
   "execution_count": 79,
   "id": "2d95ac11-7db4-4bb1-a422-872cc22a35a7",
   "metadata": {},
   "outputs": [
    {
     "name": "stdout",
     "output_type": "stream",
     "text": [
      "[1, 2, 3, 4]\n",
      "- 7\tdrwxrwxr-x\t8\tfeelus\tfeelus\t4096\t2025-01-19 06:42:27.275799\t.git\t000000000000000000000000b033787a\t<=git\n",
      "- 13\t-rw-rw-r--\t1\tfeelus\tfeelus\t5\t2025-01-14 15:40:53.793935\t.gitignore\t428490a10499a80bc48ec83f3cdbcdaa\t\n",
      "- 6\tdrwxrwxr-x\t2\tfeelus\tfeelus\t4096\t2025-01-13 08:34:06.240780\t.ipynb_checkpoints\t000000000000000000000000a5176ea8\t\n",
      "M 8\t-rw-rw-r--\t1\tfeelus\tfeelus\t152428\t2025-01-20 17:27:56.247324\tUntitled.ipynb\t5793e6e79b6a611f195eaf722d332bb6\t\n",
      "M 94\tdrwxr-xr-x\t3\troot\troot\t4096\t2025-01-20 16:06:39.900124\ta\tNone\t\n",
      "- 12\t-rw-rw-r--\t1\tfeelus\tfeelus\t162029520\t2025-01-16 12:56:40.531080\tbackup.sql\tccd1ee9c869088c865b1237b27147cc2\t\n",
      "- 9\t-rw-r--r--\t1\troot\troot\t220545024\t2025-01-14 14:42:09.380068\tfiles.db\t1691fc18f126cb116505fa62c87ba7ae\t\n",
      "- 16\t-rw-r--r--\t1\tfeelus\tfeelus\t147574784\t2025-01-16 13:15:31.733491\tfiles1.db\t2e37e83cb16f3ad10cd2dfd225a09aac\t\n",
      "- 17\t-rw-r--r--\t1\troot\troot\t32768\t2025-01-20 11:20:09.034473\tfiles2.db\t2285ecb25d98e7323a7a43f7b5c4dfba\t\n",
      "M 15\t-rw-r--r--\t1\troot\troot\t12824\t2025-01-20 11:20:10.984473\tfiles2.db-journal\t42f557fa53797f8a73958a3a26468e70\t\n",
      "M 101\t-rw-r--r--\t1\troot\troot\t362592\t2025-01-20 17:29:44.936019\tfiles2.db-wal\tNone\t\n",
      "- 5\tlrwxrwxrwx\t1\tfeelus\tfeelus\t4\t2025-01-19 14:20:40.827281\tlink\t->.git\t\n",
      "- 11\t-rw-rw-r--\t1\tfeelus\tfeelus\t1422\t2025-01-14 04:24:33.066536\tnotify.py\td10192406f1f74ddcd95ddb1360b704c\t\n",
      "- 10\tprw-rw-r--\t1\tfeelus\tfeelus\t0\t2025-01-19 14:20:49.398276\tpipe\t00000000000000000000000000000000\t\n",
      "- 14\t-rw-rw-r--\t1\tfeelus\tfeelus\t1893\t2025-01-15 06:54:08.153996\tpyfiles.py\t03078892139cf77b505ae7e129b71921\t\n",
      "M 99\tdrwxrwxr-x\t5\tfeelus\tfeelus\t4096\t2025-01-20 16:23:30.484017\tsrc\tNone\t\n",
      "M 108\t-rw-r--r--\t1\troot\troot\t4\t2025-01-21 10:44:00.116778\ttest3\tNone\t\n"
     ]
    }
   ],
   "source": [
    "ls(short=False)"
   ]
  },
  {
   "cell_type": "code",
   "execution_count": 80,
   "id": "e3a38450-90a4-4ee8-9b2f-489d81c64343",
   "metadata": {},
   "outputs": [
    {
     "name": "stdout",
     "output_type": "stream",
     "text": [
      "3 108 /home/feelus/pyfiles/src/test3\n"
     ]
    }
   ],
   "source": [
    "ls_hist()"
   ]
  },
  {
   "cell_type": "code",
   "execution_count": 81,
   "id": "6d4b4950-b9e3-4ab5-a3a0-0cfb6fc3155c",
   "metadata": {},
   "outputs": [
    {
     "name": "stdout",
     "output_type": "stream",
     "text": [
      "/home/feelus/pyfiles/src/test3\n",
      "M 108\t-rw-r--r--\t2025-01-21 10:44:00.116778\ttest3\t\n",
      "V W 2025-01-21 10:44:15.190038 /home/feelus/pyfiles/src/test2\n",
      "M W 2025-01-21 10:44:01.929998\n",
      "C W 2025-01-21 10:43:37.244680\n"
     ]
    }
   ],
   "source": [
    "hist_byid(108)"
   ]
  },
  {
   "cell_type": "code",
   "execution_count": null,
   "id": "8f39f43b-2489-4f84-8395-ad929cb04483",
   "metadata": {},
   "outputs": [],
   "source": []
  },
  {
   "cell_type": "code",
   "execution_count": 82,
   "id": "5181483d-f867-4462-a6d6-1e85e4ae5e3c",
   "metadata": {},
   "outputs": [
    {
     "data": {
      "text/plain": [
       "0"
      ]
     },
     "execution_count": 82,
     "metadata": {},
     "output_type": "execute_result"
    }
   ],
   "source": [
    "os.system('rm test3')"
   ]
  },
  {
   "cell_type": "code",
   "execution_count": 83,
   "id": "49ca6ca2-0833-406c-ad9a-d138c66cc5c0",
   "metadata": {},
   "outputs": [],
   "source": [
    "with CON:\n",
    "    deleted('/home/feelus/pyfiles/src/test3', False, False, CUR)"
   ]
  },
  {
   "cell_type": "code",
   "execution_count": 84,
   "id": "c50d8ea7-53aa-46c3-af39-ecc14e988c87",
   "metadata": {},
   "outputs": [
    {
     "name": "stdout",
     "output_type": "stream",
     "text": [
      "[1, 2, 3, 4]\n",
      "- 7\tdrwxrwxr-x\t8\tfeelus\tfeelus\t4096\t2025-01-19 06:42:27.275799\t.git\t000000000000000000000000b033787a\t<=git\n",
      "- 13\t-rw-rw-r--\t1\tfeelus\tfeelus\t5\t2025-01-14 15:40:53.793935\t.gitignore\t428490a10499a80bc48ec83f3cdbcdaa\t\n",
      "- 6\tdrwxrwxr-x\t2\tfeelus\tfeelus\t4096\t2025-01-13 08:34:06.240780\t.ipynb_checkpoints\t000000000000000000000000a5176ea8\t\n",
      "M 8\t-rw-rw-r--\t1\tfeelus\tfeelus\t152428\t2025-01-20 17:27:56.247324\tUntitled.ipynb\t5793e6e79b6a611f195eaf722d332bb6\t\n",
      "M 94\tdrwxr-xr-x\t3\troot\troot\t4096\t2025-01-20 16:06:39.900124\ta\tNone\t\n",
      "- 12\t-rw-rw-r--\t1\tfeelus\tfeelus\t162029520\t2025-01-16 12:56:40.531080\tbackup.sql\tccd1ee9c869088c865b1237b27147cc2\t\n",
      "- 9\t-rw-r--r--\t1\troot\troot\t220545024\t2025-01-14 14:42:09.380068\tfiles.db\t1691fc18f126cb116505fa62c87ba7ae\t\n",
      "- 16\t-rw-r--r--\t1\tfeelus\tfeelus\t147574784\t2025-01-16 13:15:31.733491\tfiles1.db\t2e37e83cb16f3ad10cd2dfd225a09aac\t\n",
      "- 17\t-rw-r--r--\t1\troot\troot\t32768\t2025-01-20 11:20:09.034473\tfiles2.db\t2285ecb25d98e7323a7a43f7b5c4dfba\t\n",
      "M 15\t-rw-r--r--\t1\troot\troot\t12824\t2025-01-20 11:20:10.984473\tfiles2.db-journal\t42f557fa53797f8a73958a3a26468e70\t\n",
      "M 101\t-rw-r--r--\t1\troot\troot\t362592\t2025-01-20 17:29:44.936019\tfiles2.db-wal\tNone\t\n",
      "- 5\tlrwxrwxrwx\t1\tfeelus\tfeelus\t4\t2025-01-19 14:20:40.827281\tlink\t->.git\t\n",
      "- 11\t-rw-rw-r--\t1\tfeelus\tfeelus\t1422\t2025-01-14 04:24:33.066536\tnotify.py\td10192406f1f74ddcd95ddb1360b704c\t\n",
      "- 10\tprw-rw-r--\t1\tfeelus\tfeelus\t0\t2025-01-19 14:20:49.398276\tpipe\t00000000000000000000000000000000\t\n",
      "- 14\t-rw-rw-r--\t1\tfeelus\tfeelus\t1893\t2025-01-15 06:54:08.153996\tpyfiles.py\t03078892139cf77b505ae7e129b71921\t\n",
      "M 99\tdrwxrwxr-x\t5\tfeelus\tfeelus\t4096\t2025-01-20 16:23:30.484017\tsrc\tNone\t\n"
     ]
    }
   ],
   "source": [
    "ls(short=False)"
   ]
  },
  {
   "cell_type": "code",
   "execution_count": 85,
   "id": "c5816b5d-abb4-4d70-a052-d5cee343aad5",
   "metadata": {},
   "outputs": [
    {
     "name": "stdout",
     "output_type": "stream",
     "text": [
      "4 108 /home/feelus/pyfiles/src/test3\n"
     ]
    }
   ],
   "source": [
    "ls_hist()"
   ]
  },
  {
   "cell_type": "code",
   "execution_count": 86,
   "id": "044107ba-7648-487b-afdb-aea3a736a81c",
   "metadata": {},
   "outputs": [
    {
     "name": "stdout",
     "output_type": "stream",
     "text": [
      "/home/feelus/pyfiles/src/test3\n",
      "D W 2025-01-21 10:44:29.848975\n",
      "V W 2025-01-21 10:44:15.190038 /home/feelus/pyfiles/src/test2\n",
      "M W 2025-01-21 10:44:01.929998\n",
      "C W 2025-01-21 10:43:37.244680\n"
     ]
    }
   ],
   "source": [
    "hist_byid(108)"
   ]
  },
  {
   "cell_type": "code",
   "execution_count": 87,
   "id": "9f8c856b-10d2-411b-a399-f13efa12dcbd",
   "metadata": {},
   "outputs": [
    {
     "name": "stdout",
     "output_type": "stream",
     "text": [
      "/home/feelus/pyfiles/src/\n",
      "/home/feelus/pyfiles/src/Untitled.ipynb\n",
      "/home/feelus/pyfiles/src/a/\n",
      "/home/feelus/pyfiles/src/a/b/\n",
      "/home/feelus/pyfiles/src/files2.db-journal\n",
      "/home/feelus/pyfiles/src/files2.db-wal\n",
      "/home/feelus/pyfiles/src/src/\n",
      "/home/feelus/pyfiles/src/src/files2.db-wal\n"
     ]
    }
   ],
   "source": [
    "list_modified()"
   ]
  },
  {
   "cell_type": "markdown",
   "id": "e840d9fb-6003-4bfb-8d74-c6ff062b30d6",
   "metadata": {
    "jp-MarkdownHeadingCollapsed": true
   },
   "source": [
    "### вложенные папки"
   ]
  },
  {
   "cell_type": "code",
   "execution_count": 88,
   "id": "bf9d62fd-99d9-41e2-bb13-41bc49e20441",
   "metadata": {},
   "outputs": [
    {
     "name": "stderr",
     "output_type": "stream",
     "text": [
      "mkdir: невозможно создать каталог «a»: Файл существует\n",
      "mkdir: невозможно создать каталог «a/b»: Файл существует\n"
     ]
    },
    {
     "data": {
      "text/plain": [
       "0"
      ]
     },
     "execution_count": 88,
     "metadata": {},
     "output_type": "execute_result"
    }
   ],
   "source": [
    "os.system('mkdir a')\n",
    "os.system('mkdir a/b')\n",
    "os.system('touch a/b/test')"
   ]
  },
  {
   "cell_type": "code",
   "execution_count": 89,
   "id": "5e7911d4-1f6f-45b1-9853-a741bc1db9c5",
   "metadata": {},
   "outputs": [],
   "source": [
    "with CON:\n",
    "    created('/home/feelus/pyfiles/src/a/b/test', os.stat('/home/feelus/pyfiles/src/a/b/test'), False, False, CUR)"
   ]
  },
  {
   "cell_type": "code",
   "execution_count": 90,
   "id": "e4195391-3e4d-442b-b0cc-05f1e97a5ab4",
   "metadata": {},
   "outputs": [
    {
     "name": "stdout",
     "output_type": "stream",
     "text": [
      "[1, 2, 3, 4]\n",
      "- 7\tdrwxrwxr-x\t2025-01-19 06:42:27.275799\t.git\t<=git\n",
      "- 13\t-rw-rw-r--\t2025-01-14 15:40:53.793935\t.gitignore\t\n",
      "- 6\tdrwxrwxr-x\t2025-01-13 08:34:06.240780\t.ipynb_checkpoints\t\n",
      "M 8\t-rw-rw-r--\t2025-01-20 17:27:56.247324\tUntitled.ipynb\t\n",
      "M 94\tdrwxr-xr-x\t2025-01-20 16:06:39.900124\ta\t\n",
      "- 12\t-rw-rw-r--\t2025-01-16 12:56:40.531080\tbackup.sql\t\n",
      "- 9\t-rw-r--r--\t2025-01-14 14:42:09.380068\tfiles.db\t\n",
      "- 16\t-rw-r--r--\t2025-01-16 13:15:31.733491\tfiles1.db\t\n",
      "- 17\t-rw-r--r--\t2025-01-20 11:20:09.034473\tfiles2.db\t\n",
      "M 15\t-rw-r--r--\t2025-01-20 11:20:10.984473\tfiles2.db-journal\t\n",
      "M 101\t-rw-r--r--\t2025-01-20 17:29:44.936019\tfiles2.db-wal\t\n",
      "- 5\tlrwxrwxrwx\t2025-01-19 14:20:40.827281\tlink\t\n",
      "- 11\t-rw-rw-r--\t2025-01-14 04:24:33.066536\tnotify.py\t\n",
      "- 10\tprw-rw-r--\t2025-01-19 14:20:49.398276\tpipe\t\n",
      "- 14\t-rw-rw-r--\t2025-01-15 06:54:08.153996\tpyfiles.py\t\n",
      "M 99\tdrwxrwxr-x\t2025-01-20 16:23:30.484017\tsrc\t\n"
     ]
    }
   ],
   "source": [
    "ls()"
   ]
  },
  {
   "cell_type": "code",
   "execution_count": 91,
   "id": "9d5b3458-c667-44fc-9219-47fc633516b6",
   "metadata": {},
   "outputs": [
    {
     "name": "stdout",
     "output_type": "stream",
     "text": [
      "[1, 2, 3, 4, 94]\n",
      "M 95\tdrwxr-xr-x\t2025-01-20 16:06:39.901124\tb\t\n",
      "/home/feelus/pyfiles/src/a/b :\n",
      "M 109\t-rw-r--r--\t2025-01-21 10:44:38.838727\ttest\t\n"
     ]
    }
   ],
   "source": [
    "ls_r('a')"
   ]
  },
  {
   "cell_type": "code",
   "execution_count": 92,
   "id": "f2ab2d6a-931e-407c-9549-cd5fe9083306",
   "metadata": {},
   "outputs": [
    {
     "name": "stdout",
     "output_type": "stream",
     "text": [
      "4 108 /home/feelus/pyfiles/src/test3\n",
      "1 109 /home/feelus/pyfiles/src/a/b/test\n"
     ]
    }
   ],
   "source": [
    "ls_hist()"
   ]
  },
  {
   "cell_type": "code",
   "execution_count": 93,
   "id": "d3e84328-c727-41fb-8ba9-01f80cc2e8f9",
   "metadata": {},
   "outputs": [
    {
     "name": "stdout",
     "output_type": "stream",
     "text": [
      "/home/feelus/pyfiles/src/a/b/test\n",
      "M 109\t-rw-r--r--\t2025-01-21 10:44:38.838727\ttest\t\n",
      "C W 2025-01-21 10:44:53.800452\n"
     ]
    }
   ],
   "source": [
    "#hist_byid(94)\n",
    "#hist_byid(95)\n",
    "hist_byid(109)\n"
   ]
  },
  {
   "cell_type": "code",
   "execution_count": null,
   "id": "8187bdb7-f196-440d-affa-b14134bbebad",
   "metadata": {},
   "outputs": [],
   "source": []
  },
  {
   "cell_type": "code",
   "execution_count": 94,
   "id": "87063555-5ae7-4c70-80ee-2772c4cb192b",
   "metadata": {},
   "outputs": [
    {
     "data": {
      "text/plain": [
       "0"
      ]
     },
     "execution_count": 94,
     "metadata": {},
     "output_type": "execute_result"
    }
   ],
   "source": [
    "os.system('mkdir c')\n",
    "os.system('mkdir c/d')\n",
    "os.system('mv a/b/test c/d/e')"
   ]
  },
  {
   "cell_type": "code",
   "execution_count": 95,
   "id": "b1847fa7-55e0-47d4-a21c-9ad0aec6176b",
   "metadata": {},
   "outputs": [],
   "source": [
    "with CON:\n",
    "    moved('/home/feelus/pyfiles/src/a/b/test','/home/feelus/pyfiles/src/c/d/e', os.stat('/home/feelus/pyfiles/src/c/d/e'), False, False, CUR)"
   ]
  },
  {
   "cell_type": "code",
   "execution_count": 96,
   "id": "1c1ee9a8-c248-4403-9874-12bbc6e3f062",
   "metadata": {},
   "outputs": [
    {
     "name": "stdout",
     "output_type": "stream",
     "text": [
      "[1, 2, 3, 4]\n",
      "- 7\tdrwxrwxr-x\t2025-01-19 06:42:27.275799\t.git\t<=git\n",
      "- 13\t-rw-rw-r--\t2025-01-14 15:40:53.793935\t.gitignore\t\n",
      "- 6\tdrwxrwxr-x\t2025-01-13 08:34:06.240780\t.ipynb_checkpoints\t\n",
      "M 8\t-rw-rw-r--\t2025-01-20 17:27:56.247324\tUntitled.ipynb\t\n",
      "M 94\tdrwxr-xr-x\t2025-01-20 16:06:39.900124\ta\t\n",
      "- 12\t-rw-rw-r--\t2025-01-16 12:56:40.531080\tbackup.sql\t\n",
      "M 110\tdrwxr-xr-x\t2025-01-21 10:45:22.408671\tc\t\n",
      "- 9\t-rw-r--r--\t2025-01-14 14:42:09.380068\tfiles.db\t\n",
      "- 16\t-rw-r--r--\t2025-01-16 13:15:31.733491\tfiles1.db\t\n",
      "- 17\t-rw-r--r--\t2025-01-20 11:20:09.034473\tfiles2.db\t\n",
      "M 15\t-rw-r--r--\t2025-01-20 11:20:10.984473\tfiles2.db-journal\t\n",
      "M 101\t-rw-r--r--\t2025-01-20 17:29:44.936019\tfiles2.db-wal\t\n",
      "- 5\tlrwxrwxrwx\t2025-01-19 14:20:40.827281\tlink\t\n",
      "- 11\t-rw-rw-r--\t2025-01-14 04:24:33.066536\tnotify.py\t\n",
      "- 10\tprw-rw-r--\t2025-01-19 14:20:49.398276\tpipe\t\n",
      "- 14\t-rw-rw-r--\t2025-01-15 06:54:08.153996\tpyfiles.py\t\n",
      "M 99\tdrwxrwxr-x\t2025-01-20 16:23:30.484017\tsrc\t\n"
     ]
    }
   ],
   "source": [
    "ls()"
   ]
  },
  {
   "cell_type": "code",
   "execution_count": 97,
   "id": "f655c78e-fd39-4dda-a90e-285e1dc1b11b",
   "metadata": {},
   "outputs": [
    {
     "name": "stdout",
     "output_type": "stream",
     "text": [
      "[1, 2, 3, 4, 110]\n",
      "M 111\tdrwxr-xr-x\t2025-01-21 10:45:22.412671\td\t\n",
      "/home/feelus/pyfiles/src/c/d :\n",
      "M 109\t-rw-r--r--\t2025-01-21 10:44:38.838727\te\t\n"
     ]
    }
   ],
   "source": [
    "ls_r('c')"
   ]
  },
  {
   "cell_type": "code",
   "execution_count": 98,
   "id": "090a254f-7155-46ab-adb1-de018518224c",
   "metadata": {},
   "outputs": [
    {
     "name": "stdout",
     "output_type": "stream",
     "text": [
      "4 108 /home/feelus/pyfiles/src/test3\n",
      "2 109 /home/feelus/pyfiles/src/c/d/e\n",
      "1 110 /home/feelus/pyfiles/src/c\n",
      "1 111 /home/feelus/pyfiles/src/c/d\n"
     ]
    }
   ],
   "source": [
    "ls_hist()"
   ]
  },
  {
   "cell_type": "code",
   "execution_count": 99,
   "id": "f9b20f09-e485-4bac-9765-37aa4389e802",
   "metadata": {},
   "outputs": [
    {
     "name": "stdout",
     "output_type": "stream",
     "text": [
      "/home/feelus/pyfiles/src/c/d/e\n",
      "M 109\t-rw-r--r--\t2025-01-21 10:44:38.838727\te\t\n",
      "V W 2025-01-21 10:45:23.720583 /home/feelus/pyfiles/src/a/b/test\n",
      "C W 2025-01-21 10:44:53.800452\n"
     ]
    }
   ],
   "source": [
    "hist_byid(109)"
   ]
  },
  {
   "cell_type": "code",
   "execution_count": null,
   "id": "c4b609a2-fcd0-4b8b-b926-89a09c220c22",
   "metadata": {},
   "outputs": [],
   "source": []
  },
  {
   "cell_type": "code",
   "execution_count": 100,
   "id": "90c03076-2949-4702-80f7-a79f43efd92e",
   "metadata": {},
   "outputs": [
    {
     "data": {
      "text/plain": [
       "0"
      ]
     },
     "execution_count": 100,
     "metadata": {},
     "output_type": "execute_result"
    }
   ],
   "source": [
    "os.system('rm -rf c')"
   ]
  },
  {
   "cell_type": "code",
   "execution_count": 101,
   "id": "161108a6-cc47-4be0-bb8c-d8698ab012a9",
   "metadata": {},
   "outputs": [],
   "source": [
    "with CON:\n",
    "    deleted('/home/feelus/pyfiles/src/c', False, False, CUR)"
   ]
  },
  {
   "cell_type": "code",
   "execution_count": 102,
   "id": "2576d5f7-6cff-487b-ad97-6a04d94cca66",
   "metadata": {},
   "outputs": [
    {
     "name": "stdout",
     "output_type": "stream",
     "text": [
      "[1, 2, 3, 4]\n",
      "- 7\tdrwxrwxr-x\t2025-01-19 06:42:27.275799\t.git\t<=git\n",
      "- 13\t-rw-rw-r--\t2025-01-14 15:40:53.793935\t.gitignore\t\n",
      "- 6\tdrwxrwxr-x\t2025-01-13 08:34:06.240780\t.ipynb_checkpoints\t\n",
      "M 8\t-rw-rw-r--\t2025-01-20 17:27:56.247324\tUntitled.ipynb\t\n",
      "M 94\tdrwxr-xr-x\t2025-01-20 16:06:39.900124\ta\t\n",
      "- 12\t-rw-rw-r--\t2025-01-16 12:56:40.531080\tbackup.sql\t\n",
      "- 9\t-rw-r--r--\t2025-01-14 14:42:09.380068\tfiles.db\t\n",
      "- 16\t-rw-r--r--\t2025-01-16 13:15:31.733491\tfiles1.db\t\n",
      "- 17\t-rw-r--r--\t2025-01-20 11:20:09.034473\tfiles2.db\t\n",
      "M 15\t-rw-r--r--\t2025-01-20 11:20:10.984473\tfiles2.db-journal\t\n",
      "M 101\t-rw-r--r--\t2025-01-20 17:29:44.936019\tfiles2.db-wal\t\n",
      "- 5\tlrwxrwxrwx\t2025-01-19 14:20:40.827281\tlink\t\n",
      "- 11\t-rw-rw-r--\t2025-01-14 04:24:33.066536\tnotify.py\t\n",
      "- 10\tprw-rw-r--\t2025-01-19 14:20:49.398276\tpipe\t\n",
      "- 14\t-rw-rw-r--\t2025-01-15 06:54:08.153996\tpyfiles.py\t\n",
      "M 99\tdrwxrwxr-x\t2025-01-20 16:23:30.484017\tsrc\t\n"
     ]
    }
   ],
   "source": [
    "ls()"
   ]
  },
  {
   "cell_type": "code",
   "execution_count": 103,
   "id": "fa2b74e7-0f82-4a4b-822b-ef8249bfca8e",
   "metadata": {},
   "outputs": [
    {
     "name": "stdout",
     "output_type": "stream",
     "text": [
      "4 108 /home/feelus/pyfiles/src/test3\n",
      "3 109 /home/feelus/pyfiles/src/c/d/e\n",
      "2 110 /home/feelus/pyfiles/src/c\n",
      "2 111 /home/feelus/pyfiles/src/c/d\n"
     ]
    }
   ],
   "source": [
    "ls_hist()"
   ]
  },
  {
   "cell_type": "code",
   "execution_count": null,
   "id": "95020836-0f5e-4e04-af2b-41a1800bbec0",
   "metadata": {},
   "outputs": [],
   "source": []
  },
  {
   "cell_type": "markdown",
   "id": "b5604f17-3127-4652-ac78-8b4385ef40fe",
   "metadata": {},
   "source": [
    "### онлайн"
   ]
  },
  {
   "cell_type": "code",
   "execution_count": null,
   "id": "8a3de2b1-c6e2-45c0-a80e-2f80e3fc2eff",
   "metadata": {},
   "outputs": [],
   "source": [
    "def set_owner_hist(path, oname, save):\n",
    "    fid = set_owner(path,oname,save)\n",
    "    "
   ]
  },
  {
   "cell_type": "code",
   "execution_count": 132,
   "id": "d5a12ae0-420c-4925-ac97-0c3e46c10d85",
   "metadata": {},
   "outputs": [
    {
     "name": "stdout",
     "output_type": "stream",
     "text": [
      "Observer запущен.  Thread-32\n",
      "Все запущены... MainThread 2025-01-21 11:34:59.158473\n",
      "2025-01-21 11:34:59.161895 M False 101 - /home/feelus/pyfiles/src/files2.db-wal\n",
      "do created as modified /home/feelus/pyfiles/src/.~Untitled.ipynb 2025-01-21 11:35:04.658956\n",
      "2025-01-21 11:35:04.660096 M False 116 - /home/feelus/pyfiles/src/.~Untitled.ipynb\n",
      "2025-01-21 11:35:04.662123 M False 8 - /home/feelus/pyfiles/src/Untitled.ipynb\n",
      "2025-01-21 11:35:04.716453 D False 116 - /home/feelus/pyfiles/src/.~Untitled.ipynb\n",
      "2025-01-21 11:35:04.768903 M False 18 - /home/feelus/pyfiles/src/.ipynb_checkpoints/Untitled-checkpoint.ipynb\n",
      "2025-01-21 11:36:44.595975 C False 117 - /home/feelus/pyfiles/src/.~Untitled.ipynb\n",
      "COMMIT 2025-01-21 11:34:59.160784\n",
      "2025-01-21 11:36:44.627218 M False 8 - /home/feelus/pyfiles/src/Untitled.ipynb\n",
      "2025-01-21 11:36:44.627524 M False 101 - /home/feelus/pyfiles/src/files2.db-wal\n",
      "2025-01-21 11:36:44.660230 D False 117 - /home/feelus/pyfiles/src/.~Untitled.ipynb\n",
      "2025-01-21 11:36:44.707455 M False 18 - /home/feelus/pyfiles/src/.ipynb_checkpoints/Untitled-checkpoint.ipynb\n",
      "2025-01-21 11:36:45.035326 C False 118 - /home/feelus/pyfiles/src/.~Untitled.ipynb\n",
      "2025-01-21 11:36:45.099443 D False 118 - /home/feelus/pyfiles/src/.~Untitled.ipynb\n"
     ]
    },
    {
     "name": "stdin",
     "output_type": "stream",
     "text": [
      " q\n"
     ]
    },
    {
     "name": "stdout",
     "output_type": "stream",
     "text": [
      "Observer остановлен.  Thread-32\n"
     ]
    }
   ],
   "source": []
  },
  {
   "cell_type": "code",
   "execution_count": 135,
   "id": "e4caad1e-697e-4611-b8b6-fdff4ef0f379",
   "metadata": {},
   "outputs": [],
   "source": [
    "with CON:\n",
    "    CUR.execute('INSERT INTO cur_dirs (parent_id, name, type, modified) VALUES (0, \"qwer\", 0, 0)')"
   ]
  },
  {
   "cell_type": "code",
   "execution_count": 136,
   "id": "e8caac39-277e-43af-a2a9-cf38b9b231f7",
   "metadata": {
    "scrolled": true
   },
   "outputs": [
    {
     "name": "stdout",
     "output_type": "stream",
     "text": [
      "[(0, 'home', 1, 1, 2), (1, 'feelus', 2, 1, 2), (2, 'pyfiles', 3, 1, 2), (3, 'src', 4, 1, 1), (4, 'link', 5, 2, 0), (4, '.ipynb_checkpoints', 6, 1, 1), (4, '.git', 7, 1, 0), (4, 'Untitled.ipynb', 8, 0, 1), (4, 'files.db', 9, 0, 0), (4, 'pipe', 10, 3, 0), (4, 'notify.py', 11, 0, 0), (4, 'backup.sql', 12, 0, 0), (4, '.gitignore', 13, 0, 0), (4, 'pyfiles.py', 14, 0, 0), (4, 'files2.db-journal', 15, 0, 1), (4, 'files1.db', 16, 0, 0), (4, 'files2.db', 17, 0, 0), (6, 'Untitled-checkpoint.ipynb', 18, 0, 1), (6, 'pyfiles-checkpoint.py', 19, 0, 0), (7, 'refs', 20, 1, 0), (7, 'objects', 21, 1, 0), (7, 'info', 22, 1, 0), (7, 'logs', 23, 1, 0), (7, 'hooks', 24, 1, 0), (7, 'branches', 25, 1, 0), (7, 'COMMIT_EDITMSG', 26, 0, 0), (7, 'index', 27, 0, 0), (7, 'description', 28, 0, 0), (7, 'config', 29, 0, 0), (7, 'HEAD', 30, 0, 0), (20, 'heads', 31, 1, 0), (20, 'tags', 32, 1, 0), (31, 'master', 33, 0, 0), (21, 'pack', 34, 1, 0), (21, '10', 35, 1, 0), (21, '23', 36, 1, 0), (21, 'fa', 37, 1, 0), (21, '42', 38, 1, 0), (21, '26', 39, 1, 0), (21, '45', 40, 1, 0), (21, '93', 41, 1, 0), (21, 'ba', 42, 1, 0), (21, 'bb', 43, 1, 0), (21, 'ad', 44, 1, 0), (21, '91', 45, 1, 0), (21, 'e6', 46, 1, 0), (21, '98', 47, 1, 0), (21, 'b1', 48, 1, 0), (21, '5c', 49, 1, 0), (21, 'info', 50, 1, 0), (21, '04', 51, 1, 0), (21, '3b', 52, 1, 0), (21, '56', 53, 1, 0), (21, 'd8', 54, 1, 0), (35, '1c776297d45e4abe90a7226544c01a3ef21474', 55, 0, 0), (36, 'ff026db3ffb96d5313f8e8b2ebc6a583687ab9', 56, 0, 0), (37, '35185d2649d89c4ef276f0210f4dd5ba62b967', 57, 0, 0), (38, '3450db162c43f9b35b42aab2255876b8567d2a', 58, 0, 0), (39, '40e313bcf6f16877bf367d91075aa6864c0ab2', 59, 0, 0), (40, 'a60472ef26539269d683039e71e488e3587921', 60, 0, 0), (41, '7539b42734d1b86caaae24aca1ad5a9b278261', 61, 0, 0), (42, '786f9b9400c4ce5a16c243c6834c81d2390fed', 62, 0, 0), (43, '93da1c6a49cc7b87339f3153c1565f520ae0d2', 63, 0, 0), (44, 'c454b39427013e7b037058bb4f0c5e63f2016d', 64, 0, 0), (45, '5a77d801b565863926525bafc067ad4dc597d9', 65, 0, 0), (46, '6ec043cbde7d52ec0db7049adeafc3426648ee', 66, 0, 0), (47, 'e6ef67fad8af56cb3721edbd420b3d6fcc0bb1', 67, 0, 0), (48, 'e41ead66493a01646ca2165d0c6956d13333d0', 68, 0, 0), (49, 'c5e241e8363380a7ea3d5163212b0a7c124ed3', 69, 0, 0), (51, '8cb8deb88f1aba0612e887c33dc28371cefcde', 70, 0, 0), (52, '1eafb697668adf592c612e00ba3326b99c7b96', 71, 0, 0), (53, '7c911c411c39a4297dcf082c2cdeb65f653ce8', 72, 0, 0), (54, 'a25ee1ccc41f763ad41dc9247ee1308698f47b', 73, 0, 0), (22, 'exclude', 74, 0, 0), (23, 'refs', 75, 1, 0), (23, 'HEAD', 76, 0, 0), (75, 'heads', 77, 1, 0), (77, 'master', 78, 0, 0), (24, 'post-update.sample', 79, 0, 0), (24, 'commit-msg.sample', 80, 0, 0), (24, 'pre-receive.sample', 81, 0, 0), (24, 'sendemail-validate.sample', 82, 0, 0), (24, 'pre-push.sample', 83, 0, 0), (24, 'push-to-checkout.sample', 84, 0, 0), (24, 'pre-rebase.sample', 85, 0, 0), (24, 'pre-merge-commit.sample', 86, 0, 0), (24, 'update.sample', 87, 0, 0), (24, 'pre-applypatch.sample', 88, 0, 0), (24, 'pre-commit.sample', 89, 0, 0), (24, 'prepare-commit-msg.sample', 90, 0, 0), (24, 'applypatch-msg.sample', 91, 0, 0), (24, 'fsmonitor-watchman.sample', 92, 0, 0), (4, 'a', 94, 1, 1), (94, 'b', 95, 1, 1), (4, 'src', 99, 1, 1), (99, 'files2.db-wal', 100, 0, 1), (4, 'files2.db-wal', 101, 0, 1), (0, 'asdf', 200, 0, 0), (0, 'qwer', 201, 0, 0)]\n"
     ]
    }
   ],
   "source": [
    "with CON:\n",
    "    print(CUR.execute('SELECT * FROM cur_dirs').fetchall())"
   ]
  },
  {
   "cell_type": "code",
   "execution_count": null,
   "id": "fcadc03b-f64b-4aa2-b2ae-005b02b13c3b",
   "metadata": {},
   "outputs": [],
   "source": []
  },
  {
   "cell_type": "code",
   "execution_count": 175,
   "id": "e7652468-e4f0-4143-aae5-afdc59f12d92",
   "metadata": {},
   "outputs": [
    {
     "name": "stdout",
     "output_type": "stream",
     "text": [
      "- 7\tdrwxrwxr-x\t2025-01-19 06:42:27.275799\t.git\t<=git\n",
      "- 13\t-rw-rw-r--\t2025-01-14 15:40:53.793935\t.gitignore\t\n",
      "- 6\tdrwxrwxr-x\t2025-01-13 08:34:06.240780\t.ipynb_checkpoints\t\n",
      "M 8\t-rw-rw-r--\t2025-01-20 17:27:56.247324\tUntitled.ipynb\t\n",
      "M 94\tdrwxr-xr-x\t2025-01-20 16:06:39.900124\ta\t\n",
      "- 12\t-rw-rw-r--\t2025-01-16 12:56:40.531080\tbackup.sql\t\n",
      "- 9\t-rw-r--r--\t2025-01-14 14:42:09.380068\tfiles.db\t\n",
      "- 16\t-rw-r--r--\t2025-01-16 13:15:31.733491\tfiles1.db\t\n",
      "- 17\t-rw-r--r--\t2025-01-20 11:20:09.034473\tfiles2.db\t\n",
      "M 15\t-rw-r--r--\t2025-01-20 11:20:10.984473\tfiles2.db-journal\t\n",
      "M 101\t-rw-r--r--\t2025-01-20 17:29:44.936019\tfiles2.db-wal\t\n",
      "- 5\tlrwxrwxrwx\t2025-01-19 14:20:40.827281\tlink\t\n",
      "- 11\t-rw-rw-r--\t2025-01-14 04:24:33.066536\tnotify.py\t\n",
      "- 10\tprw-rw-r--\t2025-01-19 14:20:49.398276\tpipe\t\n",
      "- 14\t-rw-rw-r--\t2025-01-15 06:54:08.153996\tpyfiles.py\t\n",
      "M 99\tdrwxrwxr-x\t2025-01-20 16:23:30.484017\tsrc\t\n"
     ]
    }
   ],
   "source": [
    "ls(4)"
   ]
  },
  {
   "cell_type": "code",
   "execution_count": 145,
   "id": "2eb3b10e-2970-4b45-9ad8-c682618f6211",
   "metadata": {},
   "outputs": [
    {
     "name": "stdout",
     "output_type": "stream",
     "text": [
      "[1, 2, 3, 4]\n",
      "- 7\tdrwxrwxr-x\t2025-01-19 06:42:27.275799\t.git\t<=git\n",
      "- 13\t-rw-rw-r--\t2025-01-14 15:40:53.793935\t.gitignore\t\n",
      "- 6\tdrwxrwxr-x\t2025-01-13 08:34:06.240780\t.ipynb_checkpoints\t\n",
      "- 8\t-rw-rw-r--\t2025-01-20 11:19:05.290443\tUntitled.ipynb\t\n",
      "M 94\tdrwxr-xr-x\t2025-01-20 16:06:39.900124\ta\t\n",
      "- 12\t-rw-rw-r--\t2025-01-16 12:56:40.531080\tbackup.sql\t\n",
      "- 9\t-rw-r--r--\t2025-01-14 14:42:09.380068\tfiles.db\t\n",
      "- 16\t-rw-r--r--\t2025-01-16 13:15:31.733491\tfiles1.db\t\n",
      "- 17\t-rw-r--r--\t2025-01-20 11:20:09.034473\tfiles2.db\t\n",
      "M 15\t-rw-r--r--\t2025-01-20 11:20:10.984473\tfiles2.db-journal\t\n",
      "- 5\tlrwxrwxrwx\t2025-01-19 14:20:40.827281\tlink\t\n",
      "- 11\t-rw-rw-r--\t2025-01-14 04:24:33.066536\tnotify.py\t\n",
      "- 10\tprw-rw-r--\t2025-01-19 14:20:49.398276\tpipe\t\n",
      "- 14\t-rw-rw-r--\t2025-01-15 06:54:08.153996\tpyfiles.py\t\n",
      "M 99\tdrwxrwxr-x\t2025-01-20 16:23:30.484017\tsrc\t\n"
     ]
    }
   ],
   "source": [
    "ls()"
   ]
  },
  {
   "cell_type": "code",
   "execution_count": 176,
   "id": "7a9a6e0f-7899-44d7-8400-b60accd97bd4",
   "metadata": {},
   "outputs": [
    {
     "name": "stdout",
     "output_type": "stream",
     "text": [
      "18 4 /home/feelus/pyfiles/src\n",
      "2 8 /home/feelus/pyfiles/src/Untitled.ipynb\n",
      "5 93 /home/feelus/pyfiles/src/test3\n",
      "1 94 /home/feelus/pyfiles/src/a\n",
      "1 95 /home/feelus/pyfiles/src/a/b\n",
      "3 96 /home/feelus/pyfiles/src/c/d/e\n",
      "2 97 /home/feelus/pyfiles/src/c\n",
      "2 98 /home/feelus/pyfiles/src/c/d\n",
      "1 99 /home/feelus/pyfiles/src/src\n",
      "1 100 /home/feelus/pyfiles/src/src/files2.db-wal\n",
      "8 101 /home/feelus/pyfiles/src/files2.db-wal\n",
      "2 102 /home/feelus/pyfiles/src/test2\n",
      "2 103 /home/feelus/pyfiles/src/test2\n",
      "2 104 /home/feelus/pyfiles/src/test2\n",
      "2 105 /home/feelus/pyfiles/src/.~Untitled.ipynb\n",
      "3 106 /home/feelus/pyfiles/src/test2\n",
      "2 107 /home/feelus/pyfiles/src/.~Untitled.ipynb\n"
     ]
    }
   ],
   "source": [
    "ls_hist()"
   ]
  },
  {
   "cell_type": "code",
   "execution_count": 159,
   "id": "3c1f6d02-9ad4-459f-8847-233a26862069",
   "metadata": {},
   "outputs": [
    {
     "name": "stdout",
     "output_type": "stream",
     "text": [
      "/home/feelus/pyfiles/src\n",
      "M 4\tdrwxrwxr-x\t2025-01-20 17:04:01.502885\tsrc\t\n",
      "M W 2025-01-20 17:04:01.507562\n",
      "M W 2025-01-20 17:03:51.992018\n",
      "M W 2025-01-20 17:03:51.989170\n"
     ]
    }
   ],
   "source": [
    "hist_byid(4)"
   ]
  },
  {
   "cell_type": "code",
   "execution_count": null,
   "id": "434ed909-77d0-4918-ab95-dade723fe0c6",
   "metadata": {},
   "outputs": [],
   "source": []
  },
  {
   "cell_type": "code",
   "execution_count": null,
   "id": "10c87d72-6430-42d9-bc5e-ce6f7af6268c",
   "metadata": {},
   "outputs": [],
   "source": []
  },
  {
   "cell_type": "code",
   "execution_count": null,
   "id": "e690ab62-3999-45b5-a191-737a02f189eb",
   "metadata": {},
   "outputs": [],
   "source": []
  },
  {
   "cell_type": "code",
   "execution_count": 163,
   "id": "1df7c585-d119-44e4-ba01-d628b9d9d03b",
   "metadata": {},
   "outputs": [
    {
     "data": {
      "text/plain": [
       "(1, 2, 3)"
      ]
     },
     "execution_count": 163,
     "metadata": {},
     "output_type": "execute_result"
    }
   ],
   "source": [
    "(1,2,3,)"
   ]
  },
  {
   "cell_type": "code",
   "execution_count": null,
   "id": "a416ebc5-ca5e-4da8-8dd7-2ce43ba50d7b",
   "metadata": {},
   "outputs": [],
   "source": []
  },
  {
   "cell_type": "code",
   "execution_count": null,
   "id": "46231896-e094-4033-a374-1f89a8064e62",
   "metadata": {},
   "outputs": [],
   "source": []
  },
  {
   "cell_type": "code",
   "execution_count": 22,
   "id": "1daf79f1-6441-4eea-b743-1a968591a706",
   "metadata": {},
   "outputs": [
    {
     "data": {
      "text/plain": [
       "os.stat_result(st_mode=16893, st_ino=1318666, st_dev=2052, st_nlink=4, st_uid=1000, st_gid=1000, st_size=4096, st_atime=1737211130, st_mtime=1737211130, st_ctime=1737211130)"
      ]
     },
     "execution_count": 22,
     "metadata": {},
     "output_type": "execute_result"
    }
   ],
   "source": [
    "os.stat('.')"
   ]
  },
  {
   "cell_type": "code",
   "execution_count": 23,
   "id": "6670533c-daa2-43d7-8980-a11596d4aba4",
   "metadata": {},
   "outputs": [
    {
     "data": {
      "text/plain": [
       "os.stat_result(st_mode=41471, st_ino=12, st_dev=2052, st_nlink=1, st_uid=0, st_gid=0, st_size=7, st_atime=1737177301, st_mtime=1713791283, st_ctime=1729561328)"
      ]
     },
     "execution_count": 23,
     "metadata": {},
     "output_type": "execute_result"
    }
   ],
   "source": [
    "os.stat('/bin',follow_symlinks=False)"
   ]
  },
  {
   "cell_type": "code",
   "execution_count": 26,
   "id": "fce34747-5935-4927-8078-7a1de75428b8",
   "metadata": {},
   "outputs": [
    {
     "data": {
      "text/plain": [
       "'usr/bin'"
      ]
     },
     "execution_count": 26,
     "metadata": {},
     "output_type": "execute_result"
    }
   ],
   "source": [
    "os.readlink('/bin')"
   ]
  },
  {
   "cell_type": "code",
   "execution_count": 27,
   "id": "06ba1841-8c69-46e1-98cc-9e6e491988d3",
   "metadata": {},
   "outputs": [
    {
     "data": {
      "text/plain": [
       "'1691fc18f126cb116505fa62c87ba7ae'"
      ]
     },
     "execution_count": 27,
     "metadata": {},
     "output_type": "execute_result"
    }
   ],
   "source": [
    "hashstr = hashlib.md5(open('files.db','rb').read()).hexdigest()\n",
    "hashstr"
   ]
  },
  {
   "cell_type": "code",
   "execution_count": 28,
   "id": "f8bfc6c3-9fd2-4cab-98a1-fc1e70f78206",
   "metadata": {},
   "outputs": [
    {
     "data": {
      "text/plain": [
       "'00000000000000000000000000000000'"
      ]
     },
     "execution_count": 28,
     "metadata": {},
     "output_type": "execute_result"
    }
   ],
   "source": [
    "hex( int(hashstr, 16) ^ int(hashstr, 16) )[2:].zfill(32)"
   ]
  },
  {
   "cell_type": "code",
   "execution_count": 29,
   "id": "6c829244-9ac9-434c-afb9-284c03f47bca",
   "metadata": {},
   "outputs": [
    {
     "data": {
      "text/plain": [
       "2"
      ]
     },
     "execution_count": 29,
     "metadata": {},
     "output_type": "execute_result"
    }
   ],
   "source": [
    "len(os.listdir('/home'))"
   ]
  },
  {
   "cell_type": "code",
   "execution_count": 30,
   "id": "613bf919-b53a-4b68-b024-00c309fb1c47",
   "metadata": {},
   "outputs": [
    {
     "data": {
      "text/plain": [
       "'0b1010000000000000'"
      ]
     },
     "execution_count": 30,
     "metadata": {},
     "output_type": "execute_result"
    }
   ],
   "source": [
    "bin(STAT.S_IFLNK) # 1010_0000_0000_0000"
   ]
  },
  {
   "cell_type": "code",
   "execution_count": 31,
   "id": "763c6bd4-ac73-42aa-b3f4-68d6895b395d",
   "metadata": {},
   "outputs": [
    {
     "data": {
      "text/plain": [
       "'0b100000000000000'"
      ]
     },
     "execution_count": 31,
     "metadata": {},
     "output_type": "execute_result"
    }
   ],
   "source": [
    "bin(STAT.S_IFDIR) # 0100_0000_0000_0000"
   ]
  },
  {
   "cell_type": "code",
   "execution_count": 32,
   "id": "815389e8-32b2-462f-9714-6f93077ba747",
   "metadata": {},
   "outputs": [
    {
     "data": {
      "text/plain": [
       "'0b1000000000000000'"
      ]
     },
     "execution_count": 32,
     "metadata": {},
     "output_type": "execute_result"
    }
   ],
   "source": [
    "bin(STAT.S_IFREG) # 1000_0000_0000_0000"
   ]
  },
  {
   "cell_type": "code",
   "execution_count": 33,
   "id": "961a3951-4491-4bc4-966a-6cdb8a2f2919",
   "metadata": {},
   "outputs": [
    {
     "name": "stdout",
     "output_type": "stream",
     "text": [
      "0b100000000000000\n",
      "0b10000000000000\n",
      "0b110000000000000\n",
      "0b1000000000000000\n",
      "0b1000000000000\n",
      "0b1010000000000000\n",
      "0b1100000000000000\n",
      "0b0\n"
     ]
    }
   ],
   "source": [
    "print(bin(STAT.S_IFDIR))\n",
    "print(bin(STAT.S_IFCHR))\n",
    "print(bin(STAT.S_IFBLK))\n",
    "print(bin(STAT.S_IFREG))\n",
    "print(bin(STAT.S_IFIFO))\n",
    "print(bin(STAT.S_IFLNK))\n",
    "print(bin(STAT.S_IFSOCK))\n",
    "print(bin(STAT.S_IFDOOR))"
   ]
  },
  {
   "cell_type": "code",
   "execution_count": 103,
   "id": "efdc355d-3df6-481f-b2db-abb0335b0ba5",
   "metadata": {},
   "outputs": [
    {
     "data": {
      "text/plain": [
       "True"
      ]
     },
     "execution_count": 103,
     "metadata": {},
     "output_type": "execute_result"
    }
   ],
   "source": [
    "check_identifiers()"
   ]
  },
  {
   "cell_type": "code",
   "execution_count": 151,
   "id": "d1b065b7-c505-4a35-a98d-d4a1c69355f4",
   "metadata": {},
   "outputs": [
    {
     "name": "stdout",
     "output_type": "stream",
     "text": [
      "asd\n"
     ]
    }
   ],
   "source": [
    "def foo(x : int):\n",
    "    print(x)\n",
    "foo('asd')"
   ]
  },
  {
   "cell_type": "code",
   "execution_count": null,
   "id": "010c4758-0cf6-46ce-8778-5ca339a10d15",
   "metadata": {},
   "outputs": [],
   "source": []
  },
  {
   "cell_type": "code",
   "execution_count": null,
   "id": "d29e0082-49d8-4930-b5f8-ed47a3c2ecbb",
   "metadata": {},
   "outputs": [],
   "source": []
  },
  {
   "cell_type": "code",
   "execution_count": null,
   "id": "b8ba6d3f-fa90-4fe0-892c-ae17ac93b181",
   "metadata": {},
   "outputs": [],
   "source": []
  },
  {
   "cell_type": "code",
   "execution_count": null,
   "id": "868285c8-830d-4673-b286-77c472ab3407",
   "metadata": {},
   "outputs": [],
   "source": []
  },
  {
   "cell_type": "code",
   "execution_count": null,
   "id": "f2187031-5d19-4342-bd62-e5895c22cc49",
   "metadata": {},
   "outputs": [],
   "source": []
  },
  {
   "cell_type": "code",
   "execution_count": 2,
   "id": "2ec8bae8-ae8e-4758-9b29-39775ac97b2e",
   "metadata": {},
   "outputs": [
    {
     "data": {
      "text/plain": [
       "'/home/feelus/pyfiles/src'"
      ]
     },
     "execution_count": 2,
     "metadata": {},
     "output_type": "execute_result"
    }
   ],
   "source": [
    "import os\n",
    "os.getcwd()"
   ]
  },
  {
   "cell_type": "code",
   "execution_count": 3,
   "id": "35ca2c8a-9833-49cd-9fc3-dc96485c76af",
   "metadata": {},
   "outputs": [
    {
     "data": {
      "text/plain": [
       "()"
      ]
     },
     "execution_count": 3,
     "metadata": {},
     "output_type": "execute_result"
    }
   ],
   "source": [
    "tuple()"
   ]
  },
  {
   "cell_type": "code",
   "execution_count": null,
   "id": "c838507b-1354-4738-b5cf-b61972ec16de",
   "metadata": {},
   "outputs": [],
   "source": []
  }
 ],
 "metadata": {
  "kernelspec": {
   "display_name": "Python 3 (ipykernel)",
   "language": "python",
   "name": "python3"
  },
  "language_info": {
   "codemirror_mode": {
    "name": "ipython",
    "version": 3
   },
   "file_extension": ".py",
   "mimetype": "text/x-python",
   "name": "python",
   "nbconvert_exporter": "python",
   "pygments_lexer": "ipython3",
   "version": "3.12.3"
  }
 },
 "nbformat": 4,
 "nbformat_minor": 5
}
