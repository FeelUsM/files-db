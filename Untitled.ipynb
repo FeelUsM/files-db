{
 "cells": [
  {
   "cell_type": "code",
   "execution_count": 1,
   "id": "50fef2e5-f781-433b-86a4-b0ba84d52aed",
   "metadata": {},
   "outputs": [],
   "source": [
    "import os\n",
    "import stat as STAT\n",
    "import sqlite3\n",
    "from tqdm import tqdm\n",
    "import hashlib\n",
    "from time import time\n",
    "from datetime import datetime\n",
    "\n",
    "# cur_dirs:type\n",
    "MFILE = 0\n",
    "MDIR = 1\n",
    "MLINK = 2\n",
    "MOTHER = 3 # встречаются всякие сокеты, именованные каналы. Не смотря на то, что в /sys, /dev, /proc, /run - не лезем\n",
    "\n",
    "# cur_dirs:modified\n",
    "# 1 - modified\n",
    "# 0 - not modified\n",
    "\n",
    "class AttrDict(dict):\n",
    "    def __getattr__(self, key):\n",
    "        if key not in self:\n",
    "            raise AttributeError(key) # essential for testing by hasattr\n",
    "        return self[key]\n",
    "    def __setattr__(self, key, value):\n",
    "        self[key] = value\n",
    "def make_dict(**kwargs):\n",
    "    return AttrDict(kwargs)"
   ]
  },
  {
   "cell_type": "code",
   "execution_count": 2,
   "id": "7a63b47a-c9be-4a75-9c46-9822617e64bb",
   "metadata": {},
   "outputs": [],
   "source": [
    "def is_link(mode): return STAT.S_ISLNK(mode)\n",
    "def is_dir(mode):  return STAT.S_ISDIR(mode) \n",
    "def is_file(mode): return STAT.S_ISREG(mode) \n",
    "def is_other(mode):return STAT.S_ISCHR(mode) or STAT.S_ISBLK(mode) or\\\n",
    "                    STAT.S_ISFIFO(mode) or STAT.S_ISSOCK(mode) or\\\n",
    "                    STAT.S_ISDOOR(mode) or STAT.S_ISPORT(mode) or\\\n",
    "                    STAT.S_ISWHT(mode) \n",
    "def simple_type(mode):\n",
    "    typ = MLINK if STAT.S_ISLNK(mode) else\\\n",
    "        MDIR if STAT.S_ISDIR(mode) else\\\n",
    "        MFILE if STAT.S_ISREG(mode) else\\\n",
    "        MOTHER if STAT.S_ISCHR(mode) or STAT.S_ISBLK(mode) or\\\n",
    "            STAT.S_ISFIFO(mode) or STAT.S_ISSOCK(mode) or\\\n",
    "            STAT.S_ISDOOR(mode) or STAT.S_ISPORT(mode) or\\\n",
    "            STAT.S_ISWHT(mode) else \\\n",
    "        None\n",
    "    if typ is None:\n",
    "        raise Exception('unknown type')\n",
    "    return typ\n",
    " "
   ]
  },
  {
   "cell_type": "code",
   "execution_count": 3,
   "id": "ca2394c7-5910-4818-baa2-d909b68eadcc",
   "metadata": {},
   "outputs": [],
   "source": [
    "# получить список корневых папок для отслеживания\n",
    "def get_root_dirs():\n",
    "    dirs = []\n",
    "    for rd in os.listdir(path='/'):\n",
    "        if rd in ['media','cdrom','mnt','proc','sys','dev','run']:\n",
    "            continue\n",
    "        mode = os.stat('/'+rd,follow_symlinks=False).st_mode\n",
    "        if STAT.S_ISDIR(mode) and not STAT.S_ISLNK(mode):\n",
    "            dirs.append('/'+rd)\n",
    "    return dirs\n"
   ]
  },
  {
   "cell_type": "code",
   "execution_count": 4,
   "id": "4c77fd9d-d467-41b5-bb35-d1c27d972f61",
   "metadata": {},
   "outputs": [
    {
     "data": {
      "text/plain": [
       "['/srv',\n",
       " '/bin.usr-is-merged',\n",
       " '/home',\n",
       " '/tmp',\n",
       " '/etc',\n",
       " '/boot',\n",
       " '/var',\n",
       " '/sbin.usr-is-merged',\n",
       " '/snap',\n",
       " '/root',\n",
       " '/lost+found',\n",
       " '/usr',\n",
       " '/opt',\n",
       " '/lib.usr-is-merged']"
      ]
     },
     "execution_count": 4,
     "metadata": {},
     "output_type": "execute_result"
    }
   ],
   "source": [
    "get_root_dirs()"
   ]
  },
  {
   "cell_type": "code",
   "execution_count": 5,
   "id": "97067d8f-7f43-4ae5-9b9d-81642ac340e6",
   "metadata": {},
   "outputs": [],
   "source": [
    "def path2ids(path,cursor):\n",
    "    ids = []\n",
    "    cur_id = 0\n",
    "    for name in path.split('/'):\n",
    "        if name=='': continue\n",
    "        n = cursor.execute('SELECT id FROM cur_dirs WHERE parent_id = ? AND name = ?',(cur_id,name)).fetchone()\n",
    "        if n is None:\n",
    "            return ids+[None]\n",
    "            #raise Exception(f\"can't find {name} in {cur_id}\")\n",
    "        cur_id = n[0]\n",
    "        ids.append(cur_id)\n",
    "    return ids\n",
    "    "
   ]
  },
  {
   "cell_type": "code",
   "execution_count": 6,
   "id": "79c9cde0-6563-47c6-99dd-895c42f1c7cb",
   "metadata": {},
   "outputs": [],
   "source": [
    "def id2path(fid,cursor):\n",
    "    path = ''\n",
    "    while fid!=0:\n",
    "        n = cursor.execute('SELECT parent_id, name FROM cur_dirs WHERE id = ? ',(fid,)).fetchone()\n",
    "        assert n is not None\n",
    "        path = '/'+n[1]+path\n",
    "        fid = n[0]\n",
    "    return path"
   ]
  },
  {
   "cell_type": "code",
   "execution_count": 7,
   "id": "e6df4af1-7bc0-478a-9ed7-f576a66ca9f2",
   "metadata": {},
   "outputs": [],
   "source": [
    "def is_modified(fid, cursor):\n",
    "    n = cursor.execute('SELECT modified FROM cur_dirs WHERE id = ?',(fid,)).fetchone()\n",
    "    if n is None: raise Exception(f\"can't find fid {fid}\")\n",
    "    return n[0]==1\n",
    "\n",
    "def set_modified(fid, cursor):\n",
    "    if fid==0: return\n",
    "    n = cursor.execute('SELECT parent_id, modified FROM cur_dirs WHERE id = ?',(fid,)).fetchone()\n",
    "    if n is None: raise Exception(f\"can't find fid {fid}\")\n",
    "    if n[1]==0:\n",
    "        #print('set_modified', fid)\n",
    "        cursor.execute('UPDATE cur_dirs SET modified = 1 WHERE id = ?',(fid,))\n",
    "        set_modified(n[0], cursor)\n",
    "    "
   ]
  },
  {
   "cell_type": "code",
   "execution_count": 8,
   "id": "c27fd561-a110-467f-a98d-bc80b0a28420",
   "metadata": {},
   "outputs": [],
   "source": [
    "if 0:\n",
    "    CON = sqlite3.connect('files1.db')\n",
    "    ROOT_DIRS = get_root_dirs()\n",
    "if 1:\n",
    "    CON = sqlite3.connect('files2.db')\n",
    "    ROOT_DIRS = [os.getcwd()]\n",
    "\n",
    "CUR = CON.cursor()"
   ]
  },
  {
   "cell_type": "code",
   "execution_count": 9,
   "id": "627b4da8-c0f9-4096-9a95-fb591f1b5e12",
   "metadata": {},
   "outputs": [
    {
     "data": {
      "text/plain": [
       "'/home/feelus/pyfiles/src'"
      ]
     },
     "execution_count": 9,
     "metadata": {},
     "output_type": "execute_result"
    }
   ],
   "source": [
    "os.getcwd()"
   ]
  },
  {
   "cell_type": "code",
   "execution_count": 10,
   "id": "2fedf964-40d5-485e-b3b0-e3cdf50ea23e",
   "metadata": {},
   "outputs": [],
   "source": [
    "def check_db_exist():\n",
    "    with CON:\n",
    "        tables = list(CUR.execute(\"SELECT name FROM sqlite_master\").fetchall())\n",
    "        print(tables)\n",
    "        return ('cur_dirs',) in tables"
   ]
  },
  {
   "cell_type": "code",
   "execution_count": 11,
   "id": "c7847fb0-9558-485a-af68-3a07d294f1ff",
   "metadata": {},
   "outputs": [
    {
     "name": "stdout",
     "output_type": "stream",
     "text": [
      "[]\n"
     ]
    },
    {
     "data": {
      "text/plain": [
       "True"
      ]
     },
     "execution_count": 11,
     "metadata": {},
     "output_type": "execute_result"
    }
   ],
   "source": [
    "INIT_MODE = not check_db_exist()\n",
    "INIT_MODE"
   ]
  },
  {
   "cell_type": "code",
   "execution_count": 12,
   "id": "6941ac37-889a-4e7c-a6a7-1566cd8185f4",
   "metadata": {},
   "outputs": [],
   "source": [
    "if not INIT_MODE:\n",
    "    with CON:\n",
    "        print(CUR.execute('SELECT * FROM cur_dirs').fetchall()[:100])"
   ]
  },
  {
   "cell_type": "code",
   "execution_count": 13,
   "id": "bf0cc3fe-f70c-4ef4-8410-7069997d1f2d",
   "metadata": {},
   "outputs": [],
   "source": [
    "def create_root(path,cursor):\n",
    "    ids = path2ids(path,cursor)\n",
    "    assert ids[-1] is None\n",
    "    fid = 0 if len(ids)==1 else ids[-2]\n",
    "\n",
    "    # рассчитываем, что src_path - обсолютный путь, не симлинк, не содержит // типа '/a//b/c'\n",
    "    path = path.split('/')\n",
    "\n",
    "    #print(ids,fid,path)\n",
    "    for name in path[len(ids):-1]:\n",
    "        cursor.execute('INSERT INTO cur_dirs (parent_id, name, modified, type) VALUES (?, ?, 2, ?)',(fid, name, MDIR))\n",
    "        (fid,) = cursor.execute('SELECT id FROM cur_dirs WHERE parent_id =? AND name=?',(fid,name)).fetchone()\n",
    "    cursor.execute('INSERT INTO cur_dirs (parent_id, name, modified, type) VALUES (?, ?, 0, ?)',(fid, path[-1], MDIR))\n",
    "    (fid,) = cursor.execute('SELECT id FROM cur_dirs WHERE parent_id =? AND name=?',(fid,path[-1])).fetchone()\n",
    "    return fid\n"
   ]
  },
  {
   "cell_type": "code",
   "execution_count": 14,
   "id": "a84a3f15-760f-4033-9c4f-46c99f4d6133",
   "metadata": {},
   "outputs": [
    {
     "name": "stdout",
     "output_type": "stream",
     "text": [
      "[(0, 'boot', 1, 1, 0)]\n",
      "[(0, 'boot', 1, 1, 0), (0, 'home', 2, 1, 0)]\n"
     ]
    }
   ],
   "source": [
    "if INIT_MODE:\n",
    "    with CON:\n",
    "        if CON.in_transaction:\n",
    "            CUR.execute('COMMIT')\n",
    "        CUR.execute('DROP TABLE IF EXISTS cur_dirs')\n",
    "        CUR.execute('''\n",
    "        CREATE TABLE cur_dirs (\n",
    "            parent_id INTEGER NOT NULL,           /* id папки, в которой лежит данный объект */\n",
    "            name TEXT NOT NULL,                   /* имя объекта в папке */\n",
    "            id INTEGER PRIMARY KEY AUTOINCREMENT, /* идентификатор объекта во всей БД */\n",
    "            type INTEGER NOT NULL,                /* MFILE, MDIR, MLINK, MOTHER */\n",
    "            modified INTEGER NOT NULL,            /* параметр обхода:\n",
    "                0 - заходим при полном обходе\n",
    "                1 - заходим приобходе модифицированных объектов\n",
    "                2 - по таблице заходим всегда, но в ФС никогда не просматриваем (и даже stat не делаем) */\n",
    "        UNIQUE(parent_id, name)\n",
    "        )\n",
    "        ''')\n",
    "        create_root('/boot',CUR)\n",
    "    \n",
    "        print(CUR.execute('SELECT * FROM cur_dirs').fetchall())\n",
    "    \n",
    "        create_root('/home',CUR)\n",
    "        print(CUR.execute('SELECT * FROM cur_dirs').fetchall())\n",
    "        CUR.execute('DROP TABLE cur_dirs')\n",
    "        CUR.execute('COMMIT')"
   ]
  },
  {
   "cell_type": "code",
   "execution_count": 15,
   "id": "67a067d5-11ea-42c1-823b-6ad3602059d7",
   "metadata": {},
   "outputs": [],
   "source": [
    "def init_cur_dirs(root_dirs):\n",
    "    with CON:\n",
    "        CUR.execute('''\n",
    "        CREATE TABLE cur_dirs (\n",
    "            parent_id INTEGER NOT NULL,           /* id папки, в которой лежит данный объект */\n",
    "            name TEXT NOT NULL,                   /* имя объекта в папке */\n",
    "            id INTEGER PRIMARY KEY AUTOINCREMENT, /* идентификатор объекта во всей БД */\n",
    "            type INTEGER NOT NULL,                /* MFILE, MDIR, MLINK, MOTHER */\n",
    "            modified INTEGER NOT NULL,            /* параметр обхода:\n",
    "                0 - заходим при полном обходе\n",
    "                1 - заходим приобходе модифицированных объектов\n",
    "                2 - по таблице заходим всегда, но в ФС никогда не просматриваем (и даже stat не делаем) */\n",
    "        UNIQUE(parent_id, name)\n",
    "        )\n",
    "        ''')\n",
    "        CUR.execute('CREATE INDEX id_cur_dirs ON cur_dirs (id)')\n",
    "        CUR.execute('CREATE INDEX parname_cur_dirs ON cur_dirs (parent_id, name)')\n",
    "\n",
    "        for root_dir in tqdm(root_dirs):\n",
    "            #print(root_dir)\n",
    "            create_root(root_dir,CUR)\n",
    "            for root, dirs, files in os.walk(root_dir):\n",
    "                pathids = path2ids(root,CUR)\n",
    "                assert pathids[-1] is not None\n",
    "                #print(root,pathids,dirs)\n",
    "                # при выполнении stat MFILE/MDIR может быть заменён на MLINK или MOTHER\n",
    "                CUR.executemany('INSERT INTO cur_dirs (parent_id, name, modified, type) VALUES (?, ?, 0, ?)', [(pathids[-1], x, MDIR) for x in dirs])\n",
    "                CUR.executemany('INSERT INTO cur_dirs (parent_id, name, modified, type) VALUES (?, ?, 0, ?)', [(pathids[-1], x, MFILE) for x in files])\n",
    "\n",
    "        "
   ]
  },
  {
   "cell_type": "code",
   "execution_count": 16,
   "id": "7b6c8e4a-3174-4c9c-832e-c9f79cedb9c8",
   "metadata": {},
   "outputs": [
    {
     "name": "stderr",
     "output_type": "stream",
     "text": [
      "100%|██████████████████████████████████████████████████████████████████████████████| 1/1 [00:00<00:00, 257.05it/s]"
     ]
    },
    {
     "name": "stdout",
     "output_type": "stream",
     "text": [
      "0.39766478538513184\n"
     ]
    },
    {
     "name": "stderr",
     "output_type": "stream",
     "text": [
      "\n"
     ]
    }
   ],
   "source": [
    "if INIT_MODE:\n",
    "    with CON:\n",
    "        CUR.execute('DROP TABLE IF EXISTS cur_dirs; ')\n",
    "    start = time()\n",
    "    init_cur_dirs(ROOT_DIRS)\n",
    "    print(time() - start)\n",
    "# ~ 2min"
   ]
  },
  {
   "cell_type": "code",
   "execution_count": null,
   "id": "8ef0cd68-9654-4362-9d7f-f56e551ec38b",
   "metadata": {},
   "outputs": [],
   "source": []
  },
  {
   "cell_type": "code",
   "execution_count": 17,
   "id": "fd9e4625-2f31-42d5-9929-ac2cb3d48b77",
   "metadata": {
    "scrolled": true
   },
   "outputs": [
    {
     "name": "stdout",
     "output_type": "stream",
     "text": [
      "92\n",
      "(0, 'home', 1, 1, 2)\n",
      "(1, 'feelus', 2, 1, 2)\n",
      "(2, 'pyfiles', 3, 1, 2)\n",
      "(3, 'src', 4, 1, 0)\n",
      "(4, 'link', 5, 1, 0)\n",
      "(4, '.ipynb_checkpoints', 6, 1, 0)\n",
      "(4, '.git', 7, 1, 0)\n",
      "(4, 'Untitled.ipynb', 8, 0, 0)\n",
      "(4, 'files.db', 9, 0, 0)\n",
      "(4, 'pipe', 10, 0, 0)\n",
      "(4, 'notify.py', 11, 0, 0)\n",
      "(4, 'backup.sql', 12, 0, 0)\n",
      "(4, '.gitignore', 13, 0, 0)\n",
      "(4, 'pyfiles.py', 14, 0, 0)\n",
      "(4, 'files2.db-journal', 15, 0, 0)\n",
      "(4, 'files1.db', 16, 0, 0)\n",
      "(4, 'files2.db', 17, 0, 0)\n",
      "(6, 'Untitled-checkpoint.ipynb', 18, 0, 0)\n",
      "(6, 'pyfiles-checkpoint.py', 19, 0, 0)\n",
      "(7, 'refs', 20, 1, 0)\n",
      "(7, 'objects', 21, 1, 0)\n",
      "(7, 'info', 22, 1, 0)\n",
      "(7, 'logs', 23, 1, 0)\n",
      "(7, 'hooks', 24, 1, 0)\n",
      "(7, 'branches', 25, 1, 0)\n",
      "(7, 'COMMIT_EDITMSG', 26, 0, 0)\n",
      "(7, 'index', 27, 0, 0)\n",
      "(7, 'description', 28, 0, 0)\n",
      "(7, 'config', 29, 0, 0)\n",
      "(7, 'HEAD', 30, 0, 0)\n",
      "(20, 'heads', 31, 1, 0)\n",
      "(20, 'tags', 32, 1, 0)\n",
      "(31, 'master', 33, 0, 0)\n",
      "(21, 'pack', 34, 1, 0)\n",
      "(21, '10', 35, 1, 0)\n",
      "(21, '23', 36, 1, 0)\n",
      "(21, 'fa', 37, 1, 0)\n",
      "(21, '42', 38, 1, 0)\n",
      "(21, '26', 39, 1, 0)\n",
      "(21, '45', 40, 1, 0)\n",
      "(21, '93', 41, 1, 0)\n",
      "(21, 'ba', 42, 1, 0)\n",
      "(21, 'bb', 43, 1, 0)\n",
      "(21, 'ad', 44, 1, 0)\n",
      "(21, '91', 45, 1, 0)\n",
      "(21, 'e6', 46, 1, 0)\n",
      "(21, '98', 47, 1, 0)\n",
      "(21, 'b1', 48, 1, 0)\n",
      "(21, '5c', 49, 1, 0)\n",
      "(21, 'info', 50, 1, 0)\n",
      "(21, '04', 51, 1, 0)\n",
      "(21, '3b', 52, 1, 0)\n",
      "(21, '56', 53, 1, 0)\n",
      "(21, 'd8', 54, 1, 0)\n",
      "(35, '1c776297d45e4abe90a7226544c01a3ef21474', 55, 0, 0)\n",
      "(36, 'ff026db3ffb96d5313f8e8b2ebc6a583687ab9', 56, 0, 0)\n",
      "(37, '35185d2649d89c4ef276f0210f4dd5ba62b967', 57, 0, 0)\n",
      "(38, '3450db162c43f9b35b42aab2255876b8567d2a', 58, 0, 0)\n",
      "(39, '40e313bcf6f16877bf367d91075aa6864c0ab2', 59, 0, 0)\n",
      "(40, 'a60472ef26539269d683039e71e488e3587921', 60, 0, 0)\n",
      "(41, '7539b42734d1b86caaae24aca1ad5a9b278261', 61, 0, 0)\n",
      "(42, '786f9b9400c4ce5a16c243c6834c81d2390fed', 62, 0, 0)\n",
      "(43, '93da1c6a49cc7b87339f3153c1565f520ae0d2', 63, 0, 0)\n",
      "(44, 'c454b39427013e7b037058bb4f0c5e63f2016d', 64, 0, 0)\n",
      "(45, '5a77d801b565863926525bafc067ad4dc597d9', 65, 0, 0)\n",
      "(46, '6ec043cbde7d52ec0db7049adeafc3426648ee', 66, 0, 0)\n",
      "(47, 'e6ef67fad8af56cb3721edbd420b3d6fcc0bb1', 67, 0, 0)\n",
      "(48, 'e41ead66493a01646ca2165d0c6956d13333d0', 68, 0, 0)\n",
      "(49, 'c5e241e8363380a7ea3d5163212b0a7c124ed3', 69, 0, 0)\n",
      "(51, '8cb8deb88f1aba0612e887c33dc28371cefcde', 70, 0, 0)\n",
      "(52, '1eafb697668adf592c612e00ba3326b99c7b96', 71, 0, 0)\n",
      "(53, '7c911c411c39a4297dcf082c2cdeb65f653ce8', 72, 0, 0)\n",
      "(54, 'a25ee1ccc41f763ad41dc9247ee1308698f47b', 73, 0, 0)\n",
      "(22, 'exclude', 74, 0, 0)\n",
      "(23, 'refs', 75, 1, 0)\n",
      "(23, 'HEAD', 76, 0, 0)\n",
      "(75, 'heads', 77, 1, 0)\n",
      "(77, 'master', 78, 0, 0)\n",
      "(24, 'post-update.sample', 79, 0, 0)\n",
      "(24, 'commit-msg.sample', 80, 0, 0)\n",
      "(24, 'pre-receive.sample', 81, 0, 0)\n",
      "(24, 'sendemail-validate.sample', 82, 0, 0)\n",
      "(24, 'pre-push.sample', 83, 0, 0)\n",
      "(24, 'push-to-checkout.sample', 84, 0, 0)\n",
      "(24, 'pre-rebase.sample', 85, 0, 0)\n",
      "(24, 'pre-merge-commit.sample', 86, 0, 0)\n",
      "(24, 'update.sample', 87, 0, 0)\n",
      "(24, 'pre-applypatch.sample', 88, 0, 0)\n",
      "(24, 'pre-commit.sample', 89, 0, 0)\n",
      "(24, 'prepare-commit-msg.sample', 90, 0, 0)\n",
      "(24, 'applypatch-msg.sample', 91, 0, 0)\n",
      "(24, 'fsmonitor-watchman.sample', 92, 0, 0)\n"
     ]
    }
   ],
   "source": [
    "with CON:\n",
    "    dirs = CUR.execute('SELECT * FROM cur_dirs').fetchall()\n",
    "    # Выводим результаты\n",
    "    print(len(dirs))\n",
    "    for file in dirs[0:1000]:\n",
    "        print(file)\n",
    "    "
   ]
  },
  {
   "cell_type": "code",
   "execution_count": 18,
   "id": "abc1b51a-9be6-4e68-b6b7-41a92307fb7c",
   "metadata": {
    "scrolled": true
   },
   "outputs": [],
   "source": [
    "def list_modified():\n",
    "    with CON:\n",
    "        def my_walk(did,path):\n",
    "            n = CUR.execute('SELECT name,id,type,modified FROM cur_dirs WHERE parent_id = ? AND (modified = 1 OR modified = 2)',(did,)).fetchall()\n",
    "            for name,fid,ftype,modified in n:\n",
    "                if ftype==MDIR and modified !=0:\n",
    "                    if modified==1:\n",
    "                        print(path+'/'+name+'/')\n",
    "                    my_walk(fid,path+'/'+name)\n",
    "                else:\n",
    "                    print(path+'/'+name)\n",
    "        my_walk(0,'')\n",
    "list_modified()"
   ]
  },
  {
   "cell_type": "code",
   "execution_count": 19,
   "id": "a51e2323-1c08-493b-991d-5bcfc523ee27",
   "metadata": {},
   "outputs": [
    {
     "name": "stdout",
     "output_type": "stream",
     "text": [
      "[None]\n"
     ]
    }
   ],
   "source": [
    "with CON:\n",
    "    print(path2ids('/boot',CUR))"
   ]
  },
  {
   "cell_type": "code",
   "execution_count": 20,
   "id": "b06e47c5-6e8b-4d28-b329-1baaae1c0d19",
   "metadata": {},
   "outputs": [
    {
     "name": "stdout",
     "output_type": "stream",
     "text": [
      "/home/feelus/pyfiles\n"
     ]
    }
   ],
   "source": [
    "with CON:\n",
    "    print(id2path(3,CUR))"
   ]
  },
  {
   "cell_type": "code",
   "execution_count": 21,
   "id": "dbe32c9d-c025-422d-9e1f-2cc2fdf4a48f",
   "metadata": {},
   "outputs": [],
   "source": [
    "if INIT_MODE:\n",
    "    with CON:\n",
    "        if CON.in_transaction:\n",
    "            CUR.execute('COMMIT')\n",
    "        CUR.execute('DROP TABLE IF EXISTS cur_stat')\n",
    "        CUR.execute('''\n",
    "        CREATE TABLE IF NOT EXISTS cur_stat  (\n",
    "        id INTEGER PRIMARY KEY,\n",
    "        type INTEGER NOT NULL,\n",
    "        \n",
    "        st_mode INTEGER, /* поля stat */\n",
    "        st_ino  INTEGER,\n",
    "        st_dev  INTEGER,\n",
    "        st_nlink  INTEGER,\n",
    "        st_uid  INTEGER,\n",
    "        st_gid  INTEGER,\n",
    "        st_size  INTEGER,\n",
    "        st_atime  REAL,\n",
    "        st_mtime  REAL,\n",
    "        st_ctime REAL,\n",
    "        st_blocks INTEGER,\n",
    "        st_blksize INTEGER,\n",
    "        \n",
    "        data TEXT, /* для файлов - хэш, для папок - хэш = xor хэшей вложенных объектов, для симлинков - сама ссылка */\n",
    "        owner INTEGER /*  */\n",
    "        )\n",
    "        ''')\n",
    "        "
   ]
  },
  {
   "cell_type": "code",
   "execution_count": 22,
   "id": "60266a73-e8e3-43b1-b932-fa401a7efbb0",
   "metadata": {},
   "outputs": [],
   "source": [
    "with CON:\n",
    "    # для файлов и папок data это hash, для симлинков - ссылка\n",
    "    CUR.execute('CREATE INDEX IF NOT EXISTS id_cur_stat ON cur_stat (id)')"
   ]
  },
  {
   "cell_type": "code",
   "execution_count": 23,
   "id": "06d4b074-24b9-4f65-95ba-55870bce6cb4",
   "metadata": {},
   "outputs": [
    {
     "name": "stdout",
     "output_type": "stream",
     "text": [
      "[(0, 'home', 1, 1, 2)]\n"
     ]
    }
   ],
   "source": [
    "with CON:\n",
    "    print(CUR.execute('SELECT * from cur_dirs WHERE parent_id=0').fetchall())"
   ]
  },
  {
   "cell_type": "code",
   "execution_count": 24,
   "id": "7998079b-00d6-4f1f-ab2c-d6d1be877535",
   "metadata": {},
   "outputs": [],
   "source": [
    "def access_mode(st_mode):\n",
    "    mode = STAT.S_IMODE(st_mode)\n",
    "    assert mode < 2**9\n",
    "    s = ''\n",
    "    for i in range(6,-1,-3):\n",
    "        s+= 'r' if mode & 2**(i+2) else '-'\n",
    "        s+= 'w' if mode & 2**(i+1) else '-'\n",
    "        s+= 'x' if mode & 2**(i+0) else '-'\n",
    "    return s"
   ]
  },
  {
   "cell_type": "code",
   "execution_count": 25,
   "id": "f6792af6-0d96-40ea-9c2b-6b138dd0cd6e",
   "metadata": {},
   "outputs": [
    {
     "data": {
      "text/plain": [
       "'rwxr-xr-x'"
      ]
     },
     "execution_count": 25,
     "metadata": {},
     "output_type": "execute_result"
    }
   ],
   "source": [
    "access_mode(16877)"
   ]
  },
  {
   "cell_type": "code",
   "execution_count": 26,
   "id": "d7311d38-f61a-4550-a890-9fbc1dbabafe",
   "metadata": {},
   "outputs": [
    {
     "data": {
      "text/plain": [
       "'feelus'"
      ]
     },
     "execution_count": 26,
     "metadata": {},
     "output_type": "execute_result"
    }
   ],
   "source": [
    "import pwd\n",
    "\n",
    "def get_username_by_uid(uid):\n",
    "    try:\n",
    "        return pwd.getpwuid(uid).pw_name\n",
    "    except KeyError:\n",
    "        return None  # Если UID не существует\n",
    "\n",
    "get_username_by_uid(1000)\n"
   ]
  },
  {
   "cell_type": "code",
   "execution_count": 27,
   "id": "b6f2a8aa-181e-4a7f-b97b-4536cb7ffab8",
   "metadata": {},
   "outputs": [
    {
     "data": {
      "text/plain": [
       "'feelus'"
      ]
     },
     "execution_count": 27,
     "metadata": {},
     "output_type": "execute_result"
    }
   ],
   "source": [
    "import grp\n",
    "\n",
    "def get_groupname_by_gid(gid):\n",
    "    try:\n",
    "        return grp.getgrgid(gid).gr_name\n",
    "    except KeyError:\n",
    "        return None  # Если UID не существует\n",
    "\n",
    "get_groupname_by_gid(1000)\n"
   ]
  },
  {
   "cell_type": "code",
   "execution_count": 28,
   "id": "4dd28a70-7648-4b8a-a017-ab8eefb6d84a",
   "metadata": {},
   "outputs": [],
   "source": [
    "def print_fid(cursor, *,strict=True,short=True):\n",
    "    for parent_id,name,fid,typ,modified in cursor:\n",
    "        assert 0 <= modified <= 2\n",
    "        n = CUR.execute('SELECT * FROM cur_stat WHERE id = ?',(fid,)).fetchone()\n",
    "        if n is None:\n",
    "            if strict:\n",
    "                assert 1 <= modified <= 2\n",
    "            if typ==MFILE:   typ = '-'\n",
    "            elif typ==MDIR:  typ = 'd'\n",
    "            elif typ==MLINK: typ = 'l'\n",
    "            else:            \n",
    "                typ = 'o'\n",
    "                assert typ==MOTHER\n",
    "            print(('R' if modified==2 else 'M' if modified==1 else '-')+' '+str(fid),typ,name,sep='\\t')\n",
    "        else:\n",
    "            (fid1,typ1,\n",
    "               st_mode,t_ino,st_dev,st_nlink,st_uid,st_gid,st_size,st_atime,st_mtime,st_ctime,st_blocks,st_blksize,\n",
    "                data,owner) = n\n",
    "            assert fid==fid1 and typ==typ1 and simple_type(st_mode)==typ, (fid,fid1,typ,typ1,simple_type(st_mode),typ)\n",
    "            \n",
    "    # fid drwxr-xr-x 3 root root 1785 Jun 29 10:11 Videos hash/link owner\n",
    "    \n",
    "    #    -. Обычный или исполняемый документ\n",
    "    #    d. Папка.\n",
    "    #    l. Символьная ссылка.\n",
    "    #    p. ФИФО.\n",
    "    #    b. Блочное устройство.\n",
    "    #    s. Сокет.\n",
    "    #    c. Символьное устройство.\n",
    "            if typ==MFILE:   typ = '-'\n",
    "            elif typ==MDIR:  typ = 'd'\n",
    "            elif typ==MLINK: typ = 'l'\n",
    "            else:\n",
    "                assert typ==MOTHER\n",
    "                if STAT.S_ISFIFO(st_mode):   typ = 'p'\n",
    "                elif STAT.S_ISBLK(st_mode):  typ = 'b'\n",
    "                elif STAT.S_ISSOCK(st_mode): typ = 's'\n",
    "                elif STAT.S_ISCHR(st_mode):  typ = 'c'\n",
    "                else:                     typ = '?'\n",
    "            if owner is not None:\n",
    "                (owner,) = CUR.execute('SELECT name FROM owners WHERE id = ?',(owner,)).fetchone()\n",
    "            if short:\n",
    "                print(('M' if modified==1 else '-')+' '+\\\n",
    "                      str(fid),\n",
    "                      typ+access_mode(st_mode),\n",
    "                      datetime.fromtimestamp(st_mtime),\n",
    "                      name,\n",
    "                      '<='+owner if owner is not None else '',\n",
    "                     sep='\\t')\n",
    "            else:\n",
    "                print(('M' if modified==1 else '-')+' '+\\\n",
    "                      str(fid),\n",
    "                      typ+access_mode(st_mode),\n",
    "                      st_nlink,\n",
    "                      get_username_by_uid(st_uid),\n",
    "                      get_groupname_by_gid(st_gid),\n",
    "                      st_size,\n",
    "                      datetime.fromtimestamp(st_mtime),\n",
    "                      name,\n",
    "                      ('->' if typ=='l' else '')+str(data),\n",
    "                      '<='+owner if owner is not None else '',\n",
    "                     sep='\\t')\n",
    "                \n",
    "        if typ=='d':\n",
    "            yield fid\n",
    "        "
   ]
  },
  {
   "cell_type": "code",
   "execution_count": 29,
   "id": "382be082-bc1d-404b-b14d-58652e620200",
   "metadata": {},
   "outputs": [],
   "source": [
    "from contextlib import closing\n",
    "\n",
    "def ls(fid,*,strict=True,short=True):\n",
    "    with CON:\n",
    "        if type(fid)is str:\n",
    "            print(ids := path2ids(fid,CUR))\n",
    "            fid = ids[-1]\n",
    "        with closing(CON.execute('SELECT * FROM cur_dirs WHERE parent_id = ?',(fid,))) as cursor:\n",
    "            list(print_fid(cursor, strict=strict, short=short))\n",
    "def ls_r(fid,*,strict=True,short=True):\n",
    "    with CON:\n",
    "        if type(fid)is str:\n",
    "            print(ids := path2ids(fid,CUR))\n",
    "            fid = ids[-1]\n",
    "        else:\n",
    "            print(id2path(fid,CUR),':')\n",
    "        with closing(print_fid(CON.execute('SELECT * FROM cur_dirs WHERE parent_id = ?',(fid,)), strict=strict)) as cursor:\n",
    "            for x in list(cursor):\n",
    "                ls_r(x,strict=strict, short=short)\n",
    "            "
   ]
  },
  {
   "cell_type": "code",
   "execution_count": 30,
   "id": "898e2b4b-4a86-48f3-be5c-ae8dd21da32b",
   "metadata": {
    "scrolled": true
   },
   "outputs": [
    {
     "name": "stdout",
     "output_type": "stream",
     "text": [
      " :\n",
      "R 1\td\thome\n",
      "/home :\n",
      "R 2\td\tfeelus\n",
      "/home/feelus :\n",
      "R 3\td\tpyfiles\n",
      "/home/feelus/pyfiles :\n",
      "- 4\td\tsrc\n",
      "/home/feelus/pyfiles/src :\n",
      "- 7\td\t.git\n",
      "- 13\t-\t.gitignore\n",
      "- 6\td\t.ipynb_checkpoints\n",
      "- 8\t-\tUntitled.ipynb\n",
      "- 12\t-\tbackup.sql\n",
      "- 9\t-\tfiles.db\n",
      "- 16\t-\tfiles1.db\n",
      "- 17\t-\tfiles2.db\n",
      "- 15\t-\tfiles2.db-journal\n",
      "- 5\td\tlink\n",
      "- 11\t-\tnotify.py\n",
      "- 10\t-\tpipe\n",
      "- 14\t-\tpyfiles.py\n",
      "/home/feelus/pyfiles/src/.git :\n",
      "- 26\t-\tCOMMIT_EDITMSG\n",
      "- 30\t-\tHEAD\n",
      "- 25\td\tbranches\n",
      "- 29\t-\tconfig\n",
      "- 28\t-\tdescription\n",
      "- 24\td\thooks\n",
      "- 27\t-\tindex\n",
      "- 22\td\tinfo\n",
      "- 23\td\tlogs\n",
      "- 21\td\tobjects\n",
      "- 20\td\trefs\n",
      "/home/feelus/pyfiles/src/.git/branches :\n",
      "/home/feelus/pyfiles/src/.git/hooks :\n",
      "- 91\t-\tapplypatch-msg.sample\n",
      "- 80\t-\tcommit-msg.sample\n",
      "- 92\t-\tfsmonitor-watchman.sample\n",
      "- 79\t-\tpost-update.sample\n",
      "- 88\t-\tpre-applypatch.sample\n",
      "- 89\t-\tpre-commit.sample\n",
      "- 86\t-\tpre-merge-commit.sample\n",
      "- 83\t-\tpre-push.sample\n",
      "- 85\t-\tpre-rebase.sample\n",
      "- 81\t-\tpre-receive.sample\n",
      "- 90\t-\tprepare-commit-msg.sample\n",
      "- 84\t-\tpush-to-checkout.sample\n",
      "- 82\t-\tsendemail-validate.sample\n",
      "- 87\t-\tupdate.sample\n",
      "/home/feelus/pyfiles/src/.git/info :\n",
      "- 74\t-\texclude\n",
      "/home/feelus/pyfiles/src/.git/logs :\n",
      "- 76\t-\tHEAD\n",
      "- 75\td\trefs\n",
      "/home/feelus/pyfiles/src/.git/logs/refs :\n",
      "- 77\td\theads\n",
      "/home/feelus/pyfiles/src/.git/logs/refs/heads :\n",
      "- 78\t-\tmaster\n",
      "/home/feelus/pyfiles/src/.git/objects :\n",
      "- 51\td\t04\n",
      "- 35\td\t10\n",
      "- 36\td\t23\n",
      "- 39\td\t26\n",
      "- 52\td\t3b\n",
      "- 38\td\t42\n",
      "- 40\td\t45\n",
      "- 53\td\t56\n",
      "- 49\td\t5c\n",
      "- 45\td\t91\n",
      "- 41\td\t93\n",
      "- 47\td\t98\n",
      "- 44\td\tad\n",
      "- 48\td\tb1\n",
      "- 42\td\tba\n",
      "- 43\td\tbb\n",
      "- 54\td\td8\n",
      "- 46\td\te6\n",
      "- 37\td\tfa\n",
      "- 50\td\tinfo\n",
      "- 34\td\tpack\n",
      "/home/feelus/pyfiles/src/.git/objects/04 :\n",
      "- 70\t-\t8cb8deb88f1aba0612e887c33dc28371cefcde\n",
      "/home/feelus/pyfiles/src/.git/objects/10 :\n",
      "- 55\t-\t1c776297d45e4abe90a7226544c01a3ef21474\n",
      "/home/feelus/pyfiles/src/.git/objects/23 :\n",
      "- 56\t-\tff026db3ffb96d5313f8e8b2ebc6a583687ab9\n",
      "/home/feelus/pyfiles/src/.git/objects/26 :\n",
      "- 59\t-\t40e313bcf6f16877bf367d91075aa6864c0ab2\n",
      "/home/feelus/pyfiles/src/.git/objects/3b :\n",
      "- 71\t-\t1eafb697668adf592c612e00ba3326b99c7b96\n",
      "/home/feelus/pyfiles/src/.git/objects/42 :\n",
      "- 58\t-\t3450db162c43f9b35b42aab2255876b8567d2a\n",
      "/home/feelus/pyfiles/src/.git/objects/45 :\n",
      "- 60\t-\ta60472ef26539269d683039e71e488e3587921\n",
      "/home/feelus/pyfiles/src/.git/objects/56 :\n",
      "- 72\t-\t7c911c411c39a4297dcf082c2cdeb65f653ce8\n",
      "/home/feelus/pyfiles/src/.git/objects/5c :\n",
      "- 69\t-\tc5e241e8363380a7ea3d5163212b0a7c124ed3\n",
      "/home/feelus/pyfiles/src/.git/objects/91 :\n",
      "- 65\t-\t5a77d801b565863926525bafc067ad4dc597d9\n",
      "/home/feelus/pyfiles/src/.git/objects/93 :\n",
      "- 61\t-\t7539b42734d1b86caaae24aca1ad5a9b278261\n",
      "/home/feelus/pyfiles/src/.git/objects/98 :\n",
      "- 67\t-\te6ef67fad8af56cb3721edbd420b3d6fcc0bb1\n",
      "/home/feelus/pyfiles/src/.git/objects/ad :\n",
      "- 64\t-\tc454b39427013e7b037058bb4f0c5e63f2016d\n",
      "/home/feelus/pyfiles/src/.git/objects/b1 :\n",
      "- 68\t-\te41ead66493a01646ca2165d0c6956d13333d0\n",
      "/home/feelus/pyfiles/src/.git/objects/ba :\n",
      "- 62\t-\t786f9b9400c4ce5a16c243c6834c81d2390fed\n",
      "/home/feelus/pyfiles/src/.git/objects/bb :\n",
      "- 63\t-\t93da1c6a49cc7b87339f3153c1565f520ae0d2\n",
      "/home/feelus/pyfiles/src/.git/objects/d8 :\n",
      "- 73\t-\ta25ee1ccc41f763ad41dc9247ee1308698f47b\n",
      "/home/feelus/pyfiles/src/.git/objects/e6 :\n",
      "- 66\t-\t6ec043cbde7d52ec0db7049adeafc3426648ee\n",
      "/home/feelus/pyfiles/src/.git/objects/fa :\n",
      "- 57\t-\t35185d2649d89c4ef276f0210f4dd5ba62b967\n",
      "/home/feelus/pyfiles/src/.git/objects/info :\n",
      "/home/feelus/pyfiles/src/.git/objects/pack :\n",
      "/home/feelus/pyfiles/src/.git/refs :\n",
      "- 31\td\theads\n",
      "- 32\td\ttags\n",
      "/home/feelus/pyfiles/src/.git/refs/heads :\n",
      "- 33\t-\tmaster\n",
      "/home/feelus/pyfiles/src/.git/refs/tags :\n",
      "/home/feelus/pyfiles/src/.ipynb_checkpoints :\n",
      "- 18\t-\tUntitled-checkpoint.ipynb\n",
      "- 19\t-\tpyfiles-checkpoint.py\n",
      "/home/feelus/pyfiles/src/link :\n"
     ]
    }
   ],
   "source": [
    "ls_r(0,strict=False)"
   ]
  },
  {
   "cell_type": "code",
   "execution_count": 31,
   "id": "b8861078-720d-4514-9009-9b1cd180f773",
   "metadata": {},
   "outputs": [
    {
     "name": "stdout",
     "output_type": "stream",
     "text": [
      "- 7\td\t.git\n",
      "- 13\t-\t.gitignore\n",
      "- 6\td\t.ipynb_checkpoints\n",
      "- 8\t-\tUntitled.ipynb\n",
      "- 12\t-\tbackup.sql\n",
      "- 9\t-\tfiles.db\n",
      "- 16\t-\tfiles1.db\n",
      "- 17\t-\tfiles2.db\n",
      "- 15\t-\tfiles2.db-journal\n",
      "- 5\td\tlink\n",
      "- 11\t-\tnotify.py\n",
      "- 10\t-\tpipe\n",
      "- 14\t-\tpyfiles.py\n"
     ]
    }
   ],
   "source": [
    "ls(4,strict=False)"
   ]
  },
  {
   "cell_type": "code",
   "execution_count": null,
   "id": "350e827f-7cd3-49e4-94b6-15ce5501ddc6",
   "metadata": {},
   "outputs": [],
   "source": []
  },
  {
   "cell_type": "code",
   "execution_count": 32,
   "id": "a5f35972-fa97-4724-a204-df85ef3612e5",
   "metadata": {},
   "outputs": [
    {
     "name": "stderr",
     "output_type": "stream",
     "text": [
      "100%|██████████████████████████████████████████████████████████████████████████| 89/89 [00:00<00:00, 15015.21it/s]\n"
     ]
    }
   ],
   "source": [
    "# do stat первый раз\n",
    "if INIT_MODE:\n",
    "    with CON:\n",
    "        # Выбираем всех пользователей\n",
    "        ids = CUR.execute('SELECT id FROM cur_dirs WHERE modified !=2').fetchall()\n",
    "        cnt = 0\n",
    "        for fid in tqdm(ids):\n",
    "            fid = fid[0]\n",
    "            path = None\n",
    "            try:\n",
    "                path = id2path(fid,CUR)\n",
    "                stat = os.stat(path,follow_symlinks=False)\n",
    "                if not is_link(stat.st_mode) and not is_dir(stat.st_mode) and not is_file(stat.st_mode) and not is_other(stat.st_mode):\n",
    "                    raise Exception('unknown type')\n",
    "                    \n",
    "                CUR.execute('UPDATE cur_dirs SET type = ? WHERE id = ?',(simple_type(stat.st_mode),fid))\n",
    "                CUR.execute('''INSERT INTO cur_stat \n",
    "                (id,type,\n",
    "                st_mode,st_ino,st_dev,st_nlink,st_uid,st_gid,st_size,\n",
    "                st_atime,st_mtime,st_ctime,st_blocks,st_blksize) VALUES (?,?,?,?,?,?,?,?,?,?,?,?,?,?)''',\n",
    "                              (fid,simple_type(stat.st_mode),\n",
    "                               stat.st_mode,stat.st_ino,stat.st_dev,stat.st_nlink,stat.st_uid,stat.st_gid,stat.st_size,\n",
    "                               stat.st_atime,stat.st_mtime,stat.st_ctime,stat.st_blocks,stat.st_blksize)\n",
    "                              )\n",
    "                cnt+=1\n",
    "                if cnt%1000000==0:\n",
    "                    CUR.execute('COMMIT')\n",
    "            except FileNotFoundError:\n",
    "                #print(e)\n",
    "                set_modified(fid, cursor)\n",
    "            except Exception as e:\n",
    "                print(fid,path,type(e),e)\n",
    "    # 45 s\n",
    "list_modified()"
   ]
  },
  {
   "cell_type": "code",
   "execution_count": 33,
   "id": "01d81761-90d4-4ed2-b05e-fbdf247b8604",
   "metadata": {
    "scrolled": true
   },
   "outputs": [
    {
     "name": "stdout",
     "output_type": "stream",
     "text": [
      " :\n",
      "R 1\td\thome\n",
      "/home :\n",
      "R 2\td\tfeelus\n",
      "/home/feelus :\n",
      "R 3\td\tpyfiles\n",
      "/home/feelus/pyfiles :\n",
      "- 4\tdrwxrwxr-x\t2025-01-20 11:20:09.084473\tsrc\t\n",
      "/home/feelus/pyfiles/src :\n",
      "- 7\tdrwxrwxr-x\t2025-01-19 06:42:27.275799\t.git\t\n",
      "- 13\t-rw-rw-r--\t2025-01-14 15:40:53.793935\t.gitignore\t\n",
      "- 6\tdrwxrwxr-x\t2025-01-13 08:34:06.240780\t.ipynb_checkpoints\t\n",
      "- 8\t-rw-rw-r--\t2025-01-20 11:19:05.290443\tUntitled.ipynb\t\n",
      "- 12\t-rw-rw-r--\t2025-01-16 12:56:40.531080\tbackup.sql\t\n",
      "- 9\t-rw-r--r--\t2025-01-14 14:42:09.380068\tfiles.db\t\n",
      "- 16\t-rw-r--r--\t2025-01-16 13:15:31.733491\tfiles1.db\t\n",
      "- 17\t-rw-r--r--\t2025-01-20 11:20:09.034473\tfiles2.db\t\n",
      "- 15\t-rw-r--r--\t2025-01-20 11:20:10.984473\tfiles2.db-journal\t\n",
      "- 5\tlrwxrwxrwx\t2025-01-19 14:20:40.827281\tlink\t\n",
      "- 11\t-rw-rw-r--\t2025-01-14 04:24:33.066536\tnotify.py\t\n",
      "- 10\tprw-rw-r--\t2025-01-19 14:20:49.398276\tpipe\t\n",
      "- 14\t-rw-rw-r--\t2025-01-15 06:54:08.153996\tpyfiles.py\t\n",
      "/home/feelus/pyfiles/src/.git :\n",
      "- 26\t-rw-rw-r--\t2025-01-19 06:42:27.273798\tCOMMIT_EDITMSG\t\n",
      "- 30\t-rw-rw-r--\t2025-01-14 15:39:20.947928\tHEAD\t\n",
      "- 25\tdrwxrwxr-x\t2025-01-14 15:39:20.944929\tbranches\t\n",
      "- 29\t-rw-rw-r--\t2025-01-14 15:39:20.961929\tconfig\t\n",
      "- 28\t-rw-rw-r--\t2025-01-14 15:39:20.597929\tdescription\t\n",
      "- 24\tdrwxrwxr-x\t2025-01-14 15:39:20.944929\thooks\t\n",
      "- 27\t-rw-rw-r--\t2025-01-19 06:42:27.272799\tindex\t\n",
      "- 22\tdrwxrwxr-x\t2025-01-14 15:39:20.535928\tinfo\t\n",
      "- 23\tdrwxrwxr-x\t2025-01-14 15:44:36.214953\tlogs\t\n",
      "- 21\tdrwxrwxr-x\t2025-01-19 06:42:27.317798\tobjects\t\n",
      "- 20\tdrwxrwxr-x\t2025-01-14 15:39:20.945929\trefs\t\n",
      "/home/feelus/pyfiles/src/.git/branches :\n",
      "/home/feelus/pyfiles/src/.git/hooks :\n",
      "- 91\t-rwxrwxr-x\t2025-01-14 15:39:20.943928\tapplypatch-msg.sample\t\n",
      "- 80\t-rwxrwxr-x\t2025-01-14 15:39:20.599929\tcommit-msg.sample\t\n",
      "- 92\t-rwxrwxr-x\t2025-01-14 15:39:20.944929\tfsmonitor-watchman.sample\t\n",
      "- 79\t-rwxrwxr-x\t2025-01-14 15:39:20.598928\tpost-update.sample\t\n",
      "- 88\t-rwxrwxr-x\t2025-01-14 15:39:20.942929\tpre-applypatch.sample\t\n",
      "- 89\t-rwxrwxr-x\t2025-01-14 15:39:20.943928\tpre-commit.sample\t\n",
      "- 86\t-rwxrwxr-x\t2025-01-14 15:39:20.941929\tpre-merge-commit.sample\t\n",
      "- 83\t-rwxrwxr-x\t2025-01-14 15:39:20.928929\tpre-push.sample\t\n",
      "- 85\t-rwxrwxr-x\t2025-01-14 15:39:20.941929\tpre-rebase.sample\t\n",
      "- 81\t-rwxrwxr-x\t2025-01-14 15:39:20.599929\tpre-receive.sample\t\n",
      "- 90\t-rwxrwxr-x\t2025-01-14 15:39:20.943928\tprepare-commit-msg.sample\t\n",
      "- 84\t-rwxrwxr-x\t2025-01-14 15:39:20.940928\tpush-to-checkout.sample\t\n",
      "- 82\t-rwxrwxr-x\t2025-01-14 15:39:20.730928\tsendemail-validate.sample\t\n",
      "- 87\t-rwxrwxr-x\t2025-01-14 15:39:20.942929\tupdate.sample\t\n",
      "/home/feelus/pyfiles/src/.git/info :\n",
      "- 74\t-rw-rw-r--\t2025-01-14 15:39:20.546928\texclude\t\n",
      "/home/feelus/pyfiles/src/.git/logs :\n",
      "- 76\t-rw-rw-r--\t2025-01-19 06:42:27.274799\tHEAD\t\n",
      "- 75\tdrwxrwxr-x\t2025-01-14 15:44:36.214953\trefs\t\n",
      "/home/feelus/pyfiles/src/.git/logs/refs :\n",
      "- 77\tdrwxrwxr-x\t2025-01-14 15:44:36.214953\theads\t\n",
      "/home/feelus/pyfiles/src/.git/logs/refs/heads :\n",
      "- 78\t-rw-rw-r--\t2025-01-19 06:42:27.274799\tmaster\t\n",
      "/home/feelus/pyfiles/src/.git/objects :\n",
      "- 51\tdrwxrwxr-x\t2025-01-16 14:58:57.933949\t04\t\n",
      "- 35\tdrwxrwxr-x\t2025-01-16 14:58:57.935949\t10\t\n",
      "- 36\tdrwxrwxr-x\t2025-01-15 19:00:34.574902\t23\t\n",
      "- 39\tdrwxrwxr-x\t2025-01-15 19:00:34.575902\t26\t\n",
      "- 52\tdrwxrwxr-x\t2025-01-14 15:44:07.042950\t3b\t\n",
      "- 38\tdrwxrwxr-x\t2025-01-19 06:42:27.272799\t42\t\n",
      "- 40\tdrwxrwxr-x\t2025-01-14 15:44:36.209953\t45\t\n",
      "- 53\tdrwxrwxr-x\t2025-01-14 15:44:06.985950\t56\t\n",
      "- 49\tdrwxrwxr-x\t2025-01-14 15:44:06.941950\t5c\t\n",
      "- 45\tdrwxrwxr-x\t2025-01-14 15:44:36.212953\t91\t\n",
      "- 41\tdrwxrwxr-x\t2025-01-15 19:00:34.574902\t93\t\n",
      "- 47\tdrwxrwxr-x\t2025-01-14 15:44:06.937950\t98\t\n",
      "- 44\tdrwxrwxr-x\t2025-01-17 08:21:20.993031\tad\t\n",
      "- 48\tdrwxrwxr-x\t2025-01-17 08:21:20.995031\tb1\t\n",
      "- 42\tdrwxrwxr-x\t2025-01-16 14:58:57.934949\tba\t\n",
      "- 43\tdrwxrwxr-x\t2025-01-19 06:42:27.271799\tbb\t\n",
      "- 54\tdrwxrwxr-x\t2025-01-17 08:21:20.992031\td8\t\n",
      "- 46\tdrwxrwxr-x\t2025-01-19 06:42:27.274799\te6\t\n",
      "- 37\tdrwxrwxr-x\t2025-01-15 19:00:34.577902\tfa\t\n",
      "- 50\tdrwxrwxr-x\t2025-01-14 15:39:20.962929\tinfo\t\n",
      "- 34\tdrwxrwxr-x\t2025-01-14 15:39:20.962929\tpack\t\n",
      "/home/feelus/pyfiles/src/.git/objects/04 :\n",
      "- 70\t-r--r--r--\t2025-01-16 14:58:57.933949\t8cb8deb88f1aba0612e887c33dc28371cefcde\t\n",
      "/home/feelus/pyfiles/src/.git/objects/10 :\n",
      "- 55\t-r--r--r--\t2025-01-16 14:58:57.935949\t1c776297d45e4abe90a7226544c01a3ef21474\t\n",
      "/home/feelus/pyfiles/src/.git/objects/23 :\n",
      "- 56\t-r--r--r--\t2025-01-15 19:00:34.574902\tff026db3ffb96d5313f8e8b2ebc6a583687ab9\t\n",
      "/home/feelus/pyfiles/src/.git/objects/26 :\n",
      "- 59\t-r--r--r--\t2025-01-15 19:00:34.575902\t40e313bcf6f16877bf367d91075aa6864c0ab2\t\n",
      "/home/feelus/pyfiles/src/.git/objects/3b :\n",
      "- 71\t-r--r--r--\t2025-01-14 15:44:07.042950\t1eafb697668adf592c612e00ba3326b99c7b96\t\n",
      "/home/feelus/pyfiles/src/.git/objects/42 :\n",
      "- 58\t-r--r--r--\t2025-01-19 06:42:27.272799\t3450db162c43f9b35b42aab2255876b8567d2a\t\n",
      "/home/feelus/pyfiles/src/.git/objects/45 :\n",
      "- 60\t-r--r--r--\t2025-01-14 15:44:36.209953\ta60472ef26539269d683039e71e488e3587921\t\n",
      "/home/feelus/pyfiles/src/.git/objects/56 :\n",
      "- 72\t-r--r--r--\t2025-01-14 15:44:06.985950\t7c911c411c39a4297dcf082c2cdeb65f653ce8\t\n",
      "/home/feelus/pyfiles/src/.git/objects/5c :\n",
      "- 69\t-r--r--r--\t2025-01-14 15:44:06.941950\tc5e241e8363380a7ea3d5163212b0a7c124ed3\t\n",
      "/home/feelus/pyfiles/src/.git/objects/91 :\n",
      "- 65\t-r--r--r--\t2025-01-14 15:44:36.212953\t5a77d801b565863926525bafc067ad4dc597d9\t\n",
      "/home/feelus/pyfiles/src/.git/objects/93 :\n",
      "- 61\t-r--r--r--\t2025-01-15 19:00:34.574902\t7539b42734d1b86caaae24aca1ad5a9b278261\t\n",
      "/home/feelus/pyfiles/src/.git/objects/98 :\n",
      "- 67\t-r--r--r--\t2025-01-14 15:44:06.937950\te6ef67fad8af56cb3721edbd420b3d6fcc0bb1\t\n",
      "/home/feelus/pyfiles/src/.git/objects/ad :\n",
      "- 64\t-r--r--r--\t2025-01-17 08:21:20.993031\tc454b39427013e7b037058bb4f0c5e63f2016d\t\n",
      "/home/feelus/pyfiles/src/.git/objects/b1 :\n",
      "- 68\t-r--r--r--\t2025-01-17 08:21:20.994031\te41ead66493a01646ca2165d0c6956d13333d0\t\n",
      "/home/feelus/pyfiles/src/.git/objects/ba :\n",
      "- 62\t-r--r--r--\t2025-01-16 14:58:57.934949\t786f9b9400c4ce5a16c243c6834c81d2390fed\t\n",
      "/home/feelus/pyfiles/src/.git/objects/bb :\n",
      "- 63\t-r--r--r--\t2025-01-19 06:42:27.271799\t93da1c6a49cc7b87339f3153c1565f520ae0d2\t\n",
      "/home/feelus/pyfiles/src/.git/objects/d8 :\n",
      "- 73\t-r--r--r--\t2025-01-17 08:21:20.992031\ta25ee1ccc41f763ad41dc9247ee1308698f47b\t\n",
      "/home/feelus/pyfiles/src/.git/objects/e6 :\n",
      "- 66\t-r--r--r--\t2025-01-19 06:42:27.274799\t6ec043cbde7d52ec0db7049adeafc3426648ee\t\n",
      "/home/feelus/pyfiles/src/.git/objects/fa :\n",
      "- 57\t-r--r--r--\t2025-01-15 19:00:34.577902\t35185d2649d89c4ef276f0210f4dd5ba62b967\t\n",
      "/home/feelus/pyfiles/src/.git/objects/info :\n",
      "/home/feelus/pyfiles/src/.git/objects/pack :\n",
      "/home/feelus/pyfiles/src/.git/refs :\n",
      "- 31\tdrwxrwxr-x\t2025-01-19 06:42:27.275799\theads\t\n",
      "- 32\tdrwxrwxr-x\t2025-01-14 15:39:20.945929\ttags\t\n",
      "/home/feelus/pyfiles/src/.git/refs/heads :\n",
      "- 33\t-rw-rw-r--\t2025-01-19 06:42:27.274799\tmaster\t\n",
      "/home/feelus/pyfiles/src/.git/refs/tags :\n",
      "/home/feelus/pyfiles/src/.ipynb_checkpoints :\n",
      "- 18\t-rw-rw-r--\t2025-01-20 10:49:01.349173\tUntitled-checkpoint.ipynb\t\n",
      "- 19\t-rw-rw-r--\t2025-01-12 16:11:30.088646\tpyfiles-checkpoint.py\t\n"
     ]
    }
   ],
   "source": [
    "ls_r(0)"
   ]
  },
  {
   "cell_type": "code",
   "execution_count": 34,
   "id": "6b89493d-fb84-453c-a18f-6d915b842de2",
   "metadata": {
    "scrolled": true
   },
   "outputs": [
    {
     "name": "stderr",
     "output_type": "stream",
     "text": [
      "100%|█████████████████████████████████████████████████████████████████████████████| 53/53 [00:01<00:00, 43.70it/s]\n"
     ]
    }
   ],
   "source": [
    "# calc hashes of files\n",
    "if INIT_MODE:\n",
    "    with CON:\n",
    "        with closing(CON.cursor()) as cursor:\n",
    "            ids = cursor.execute('SELECT id FROM cur_stat WHERE type = ?',(MFILE,)).fetchall()\n",
    "            cnt = 0\n",
    "            for fid in tqdm(ids):\n",
    "                fid = fid[0]\n",
    "                path = None\n",
    "                try:\n",
    "                    path = id2path(fid,cursor)\n",
    "                    hsh = hashlib.md5(open(path,'rb').read()).hexdigest()\n",
    "                    cursor.execute('UPDATE cur_stat SET data = ? WHERE id = ?',(hsh,fid))\n",
    "                    cnt+=1\n",
    "                    if cnt%1000000==0:\n",
    "                        cursor.execute('COMMIT')\n",
    "                except FileNotFoundError:\n",
    "                    set_modified(fid, cursor)\n",
    "                except Exception as e:\n",
    "                    print(fid,path,type(e),e)\n",
    "list_modified()"
   ]
  },
  {
   "cell_type": "code",
   "execution_count": 35,
   "id": "e8f4f073-78a2-47c6-b8ed-a89c7f81971e",
   "metadata": {},
   "outputs": [],
   "source": [
    "with CON:\n",
    "    ids = CUR.execute('UPDATE cur_stat SET data = \"00000000000000000000000000000000\" WHERE type = ?',(MOTHER,)).fetchall()"
   ]
  },
  {
   "cell_type": "code",
   "execution_count": 36,
   "id": "6ed82813-a1a4-4f28-882c-ea3a0680e6c4",
   "metadata": {},
   "outputs": [
    {
     "name": "stdout",
     "output_type": "stream",
     "text": [
      "ok\n"
     ]
    }
   ],
   "source": [
    "with CON:\n",
    "    print(*CUR.execute('PRAGMA integrity_check;').fetchone())\n",
    "list_modified()"
   ]
  },
  {
   "cell_type": "code",
   "execution_count": 37,
   "id": "a1463cd8-c809-4d3a-8314-02aade12e28c",
   "metadata": {},
   "outputs": [
    {
     "name": "stdout",
     "output_type": "stream",
     "text": [
      "/home/feelus/pyfiles/src/\n"
     ]
    }
   ],
   "source": [
    "# обновить симлинки, директории, сынтегрировать хеши\n",
    "if INIT_MODE:\n",
    "    with CON:\n",
    "        with closing(CON.cursor()) as cursor:\n",
    "            def my_walk(did,root):\n",
    "                n = cursor.execute('SELECT name,id,type,modified FROM cur_dirs WHERE parent_id = ? ',(did,)).fetchall()\n",
    "                if not root:\n",
    "                    try:\n",
    "                        if len(n)!=len(os.listdir(id2path(did,cursor))):\n",
    "                            set_modified(did, cursor)\n",
    "                    except FileNotFoundError:\n",
    "                        set_modified(did, cursor)\n",
    "                hsh = 0\n",
    "                for name,fid,ftype,modified in n:\n",
    "                    if ftype==MFILE:\n",
    "                        n = cursor.execute('SELECT data FROM cur_stat WHERE id = ?',(fid,)).fetchone()\n",
    "                        if n is None: raise Exception(f\"can't find fid {fid} in cur_stat_file\")\n",
    "                        lhsh = n[0]\n",
    "                    elif ftype==MLINK:\n",
    "                        try:\n",
    "                            lnk = os.readlink(id2path(fid,cursor))\n",
    "                            lhsh = hashlib.md5(lnk.encode()).hexdigest()\n",
    "                            cursor.execute('UPDATE cur_stat SET data = ? WHERE id = ?',(lnk,fid))\n",
    "                        except FileNotFoundError:\n",
    "                            set_modified(fid, cursor)\n",
    "                            lhsh = None\n",
    "                    elif ftype==MDIR:\n",
    "                        lhsh = my_walk(fid,modified==2)\n",
    "                    elif ftype==MOTHER:\n",
    "                        lhsh = hex( 0 )[2:].zfill(32)\n",
    "                    else: \n",
    "                        assert False, (name,fid,ftype)\n",
    "                        \n",
    "                    if lhsh is None:\n",
    "                        hsh = None\n",
    "                    if hsh is not None:\n",
    "                        hsh += int(lhsh, 16)\n",
    "        \n",
    "                if hsh is not None:\n",
    "                    hsh = hex( hsh%(2**32) )[2:].zfill(32)\n",
    "                    if not root:\n",
    "                        cursor.execute('UPDATE cur_stat SET data = ? WHERE id = ?',(hsh,did))\n",
    "                return hsh\n",
    "            my_walk(0,True)     \n",
    "list_modified()"
   ]
  },
  {
   "cell_type": "code",
   "execution_count": 38,
   "id": "19e0f66f-cec2-4873-998a-f431e321ea25",
   "metadata": {
    "scrolled": true
   },
   "outputs": [
    {
     "name": "stdout",
     "output_type": "stream",
     "text": [
      " :\n",
      "R 1\td\thome\n",
      "/home :\n",
      "R 2\td\tfeelus\n",
      "/home/feelus :\n",
      "R 3\td\tpyfiles\n",
      "/home/feelus/pyfiles :\n",
      "M 4\tdrwxrwxr-x\t2025-01-20 11:20:09.084473\tsrc\t\n",
      "/home/feelus/pyfiles/src :\n",
      "- 7\tdrwxrwxr-x\t2025-01-19 06:42:27.275799\t.git\t\n",
      "- 13\t-rw-rw-r--\t2025-01-14 15:40:53.793935\t.gitignore\t\n",
      "- 6\tdrwxrwxr-x\t2025-01-13 08:34:06.240780\t.ipynb_checkpoints\t\n",
      "- 8\t-rw-rw-r--\t2025-01-20 11:19:05.290443\tUntitled.ipynb\t\n",
      "- 12\t-rw-rw-r--\t2025-01-16 12:56:40.531080\tbackup.sql\t\n",
      "- 9\t-rw-r--r--\t2025-01-14 14:42:09.380068\tfiles.db\t\n",
      "- 16\t-rw-r--r--\t2025-01-16 13:15:31.733491\tfiles1.db\t\n",
      "- 17\t-rw-r--r--\t2025-01-20 11:20:09.034473\tfiles2.db\t\n",
      "- 15\t-rw-r--r--\t2025-01-20 11:20:10.984473\tfiles2.db-journal\t\n",
      "- 5\tlrwxrwxrwx\t2025-01-19 14:20:40.827281\tlink\t\n",
      "- 11\t-rw-rw-r--\t2025-01-14 04:24:33.066536\tnotify.py\t\n",
      "- 10\tprw-rw-r--\t2025-01-19 14:20:49.398276\tpipe\t\n",
      "- 14\t-rw-rw-r--\t2025-01-15 06:54:08.153996\tpyfiles.py\t\n",
      "/home/feelus/pyfiles/src/.git :\n",
      "- 26\t-rw-rw-r--\t2025-01-19 06:42:27.273798\tCOMMIT_EDITMSG\t\n",
      "- 30\t-rw-rw-r--\t2025-01-14 15:39:20.947928\tHEAD\t\n",
      "- 25\tdrwxrwxr-x\t2025-01-14 15:39:20.944929\tbranches\t\n",
      "- 29\t-rw-rw-r--\t2025-01-14 15:39:20.961929\tconfig\t\n",
      "- 28\t-rw-rw-r--\t2025-01-14 15:39:20.597929\tdescription\t\n",
      "- 24\tdrwxrwxr-x\t2025-01-14 15:39:20.944929\thooks\t\n",
      "- 27\t-rw-rw-r--\t2025-01-19 06:42:27.272799\tindex\t\n",
      "- 22\tdrwxrwxr-x\t2025-01-14 15:39:20.535928\tinfo\t\n",
      "- 23\tdrwxrwxr-x\t2025-01-14 15:44:36.214953\tlogs\t\n",
      "- 21\tdrwxrwxr-x\t2025-01-19 06:42:27.317798\tobjects\t\n",
      "- 20\tdrwxrwxr-x\t2025-01-14 15:39:20.945929\trefs\t\n",
      "/home/feelus/pyfiles/src/.git/branches :\n",
      "/home/feelus/pyfiles/src/.git/hooks :\n",
      "- 91\t-rwxrwxr-x\t2025-01-14 15:39:20.943928\tapplypatch-msg.sample\t\n",
      "- 80\t-rwxrwxr-x\t2025-01-14 15:39:20.599929\tcommit-msg.sample\t\n",
      "- 92\t-rwxrwxr-x\t2025-01-14 15:39:20.944929\tfsmonitor-watchman.sample\t\n",
      "- 79\t-rwxrwxr-x\t2025-01-14 15:39:20.598928\tpost-update.sample\t\n",
      "- 88\t-rwxrwxr-x\t2025-01-14 15:39:20.942929\tpre-applypatch.sample\t\n",
      "- 89\t-rwxrwxr-x\t2025-01-14 15:39:20.943928\tpre-commit.sample\t\n",
      "- 86\t-rwxrwxr-x\t2025-01-14 15:39:20.941929\tpre-merge-commit.sample\t\n",
      "- 83\t-rwxrwxr-x\t2025-01-14 15:39:20.928929\tpre-push.sample\t\n",
      "- 85\t-rwxrwxr-x\t2025-01-14 15:39:20.941929\tpre-rebase.sample\t\n",
      "- 81\t-rwxrwxr-x\t2025-01-14 15:39:20.599929\tpre-receive.sample\t\n",
      "- 90\t-rwxrwxr-x\t2025-01-14 15:39:20.943928\tprepare-commit-msg.sample\t\n",
      "- 84\t-rwxrwxr-x\t2025-01-14 15:39:20.940928\tpush-to-checkout.sample\t\n",
      "- 82\t-rwxrwxr-x\t2025-01-14 15:39:20.730928\tsendemail-validate.sample\t\n",
      "- 87\t-rwxrwxr-x\t2025-01-14 15:39:20.942929\tupdate.sample\t\n",
      "/home/feelus/pyfiles/src/.git/info :\n",
      "- 74\t-rw-rw-r--\t2025-01-14 15:39:20.546928\texclude\t\n",
      "/home/feelus/pyfiles/src/.git/logs :\n",
      "- 76\t-rw-rw-r--\t2025-01-19 06:42:27.274799\tHEAD\t\n",
      "- 75\tdrwxrwxr-x\t2025-01-14 15:44:36.214953\trefs\t\n",
      "/home/feelus/pyfiles/src/.git/logs/refs :\n",
      "- 77\tdrwxrwxr-x\t2025-01-14 15:44:36.214953\theads\t\n",
      "/home/feelus/pyfiles/src/.git/logs/refs/heads :\n",
      "- 78\t-rw-rw-r--\t2025-01-19 06:42:27.274799\tmaster\t\n",
      "/home/feelus/pyfiles/src/.git/objects :\n",
      "- 51\tdrwxrwxr-x\t2025-01-16 14:58:57.933949\t04\t\n",
      "- 35\tdrwxrwxr-x\t2025-01-16 14:58:57.935949\t10\t\n",
      "- 36\tdrwxrwxr-x\t2025-01-15 19:00:34.574902\t23\t\n",
      "- 39\tdrwxrwxr-x\t2025-01-15 19:00:34.575902\t26\t\n",
      "- 52\tdrwxrwxr-x\t2025-01-14 15:44:07.042950\t3b\t\n",
      "- 38\tdrwxrwxr-x\t2025-01-19 06:42:27.272799\t42\t\n",
      "- 40\tdrwxrwxr-x\t2025-01-14 15:44:36.209953\t45\t\n",
      "- 53\tdrwxrwxr-x\t2025-01-14 15:44:06.985950\t56\t\n",
      "- 49\tdrwxrwxr-x\t2025-01-14 15:44:06.941950\t5c\t\n",
      "- 45\tdrwxrwxr-x\t2025-01-14 15:44:36.212953\t91\t\n",
      "- 41\tdrwxrwxr-x\t2025-01-15 19:00:34.574902\t93\t\n",
      "- 47\tdrwxrwxr-x\t2025-01-14 15:44:06.937950\t98\t\n",
      "- 44\tdrwxrwxr-x\t2025-01-17 08:21:20.993031\tad\t\n",
      "- 48\tdrwxrwxr-x\t2025-01-17 08:21:20.995031\tb1\t\n",
      "- 42\tdrwxrwxr-x\t2025-01-16 14:58:57.934949\tba\t\n",
      "- 43\tdrwxrwxr-x\t2025-01-19 06:42:27.271799\tbb\t\n",
      "- 54\tdrwxrwxr-x\t2025-01-17 08:21:20.992031\td8\t\n",
      "- 46\tdrwxrwxr-x\t2025-01-19 06:42:27.274799\te6\t\n",
      "- 37\tdrwxrwxr-x\t2025-01-15 19:00:34.577902\tfa\t\n",
      "- 50\tdrwxrwxr-x\t2025-01-14 15:39:20.962929\tinfo\t\n",
      "- 34\tdrwxrwxr-x\t2025-01-14 15:39:20.962929\tpack\t\n",
      "/home/feelus/pyfiles/src/.git/objects/04 :\n",
      "- 70\t-r--r--r--\t2025-01-16 14:58:57.933949\t8cb8deb88f1aba0612e887c33dc28371cefcde\t\n",
      "/home/feelus/pyfiles/src/.git/objects/10 :\n",
      "- 55\t-r--r--r--\t2025-01-16 14:58:57.935949\t1c776297d45e4abe90a7226544c01a3ef21474\t\n",
      "/home/feelus/pyfiles/src/.git/objects/23 :\n",
      "- 56\t-r--r--r--\t2025-01-15 19:00:34.574902\tff026db3ffb96d5313f8e8b2ebc6a583687ab9\t\n",
      "/home/feelus/pyfiles/src/.git/objects/26 :\n",
      "- 59\t-r--r--r--\t2025-01-15 19:00:34.575902\t40e313bcf6f16877bf367d91075aa6864c0ab2\t\n",
      "/home/feelus/pyfiles/src/.git/objects/3b :\n",
      "- 71\t-r--r--r--\t2025-01-14 15:44:07.042950\t1eafb697668adf592c612e00ba3326b99c7b96\t\n",
      "/home/feelus/pyfiles/src/.git/objects/42 :\n",
      "- 58\t-r--r--r--\t2025-01-19 06:42:27.272799\t3450db162c43f9b35b42aab2255876b8567d2a\t\n",
      "/home/feelus/pyfiles/src/.git/objects/45 :\n",
      "- 60\t-r--r--r--\t2025-01-14 15:44:36.209953\ta60472ef26539269d683039e71e488e3587921\t\n",
      "/home/feelus/pyfiles/src/.git/objects/56 :\n",
      "- 72\t-r--r--r--\t2025-01-14 15:44:06.985950\t7c911c411c39a4297dcf082c2cdeb65f653ce8\t\n",
      "/home/feelus/pyfiles/src/.git/objects/5c :\n",
      "- 69\t-r--r--r--\t2025-01-14 15:44:06.941950\tc5e241e8363380a7ea3d5163212b0a7c124ed3\t\n",
      "/home/feelus/pyfiles/src/.git/objects/91 :\n",
      "- 65\t-r--r--r--\t2025-01-14 15:44:36.212953\t5a77d801b565863926525bafc067ad4dc597d9\t\n",
      "/home/feelus/pyfiles/src/.git/objects/93 :\n",
      "- 61\t-r--r--r--\t2025-01-15 19:00:34.574902\t7539b42734d1b86caaae24aca1ad5a9b278261\t\n",
      "/home/feelus/pyfiles/src/.git/objects/98 :\n",
      "- 67\t-r--r--r--\t2025-01-14 15:44:06.937950\te6ef67fad8af56cb3721edbd420b3d6fcc0bb1\t\n",
      "/home/feelus/pyfiles/src/.git/objects/ad :\n",
      "- 64\t-r--r--r--\t2025-01-17 08:21:20.993031\tc454b39427013e7b037058bb4f0c5e63f2016d\t\n",
      "/home/feelus/pyfiles/src/.git/objects/b1 :\n",
      "- 68\t-r--r--r--\t2025-01-17 08:21:20.994031\te41ead66493a01646ca2165d0c6956d13333d0\t\n",
      "/home/feelus/pyfiles/src/.git/objects/ba :\n",
      "- 62\t-r--r--r--\t2025-01-16 14:58:57.934949\t786f9b9400c4ce5a16c243c6834c81d2390fed\t\n",
      "/home/feelus/pyfiles/src/.git/objects/bb :\n",
      "- 63\t-r--r--r--\t2025-01-19 06:42:27.271799\t93da1c6a49cc7b87339f3153c1565f520ae0d2\t\n",
      "/home/feelus/pyfiles/src/.git/objects/d8 :\n",
      "- 73\t-r--r--r--\t2025-01-17 08:21:20.992031\ta25ee1ccc41f763ad41dc9247ee1308698f47b\t\n",
      "/home/feelus/pyfiles/src/.git/objects/e6 :\n",
      "- 66\t-r--r--r--\t2025-01-19 06:42:27.274799\t6ec043cbde7d52ec0db7049adeafc3426648ee\t\n",
      "/home/feelus/pyfiles/src/.git/objects/fa :\n",
      "- 57\t-r--r--r--\t2025-01-15 19:00:34.577902\t35185d2649d89c4ef276f0210f4dd5ba62b967\t\n",
      "/home/feelus/pyfiles/src/.git/objects/info :\n",
      "/home/feelus/pyfiles/src/.git/objects/pack :\n",
      "/home/feelus/pyfiles/src/.git/refs :\n",
      "- 31\tdrwxrwxr-x\t2025-01-19 06:42:27.275799\theads\t\n",
      "- 32\tdrwxrwxr-x\t2025-01-14 15:39:20.945929\ttags\t\n",
      "/home/feelus/pyfiles/src/.git/refs/heads :\n",
      "- 33\t-rw-rw-r--\t2025-01-19 06:42:27.274799\tmaster\t\n",
      "/home/feelus/pyfiles/src/.git/refs/tags :\n",
      "/home/feelus/pyfiles/src/.ipynb_checkpoints :\n",
      "- 18\t-rw-rw-r--\t2025-01-20 10:49:01.349173\tUntitled-checkpoint.ipynb\t\n",
      "- 19\t-rw-rw-r--\t2025-01-12 16:11:30.088646\tpyfiles-checkpoint.py\t\n"
     ]
    }
   ],
   "source": [
    "ls_r(0)"
   ]
  },
  {
   "cell_type": "code",
   "execution_count": 39,
   "id": "00c9642c-0549-4813-a975-f316618ccb77",
   "metadata": {},
   "outputs": [
    {
     "name": "stdout",
     "output_type": "stream",
     "text": [
      "{'st_mode': 16893, 'st_ino': 1341934, 'st_dev': 2052, 'st_nlink': 2, 'st_uid': 1000, 'st_gid': 1000, 'st_size': 4096, 'st_atime': 1737357214.1095748, 'st_mtime': 1736858676.212953, 'st_ctime': 1736858676.212953, 'st_blocks': 8, 'st_blksize': 4096}\n",
      "{'st_mode': 16877, 'st_ino': 1048577, 'st_dev': 2052, 'st_nlink': 3, 'st_uid': 0, 'st_gid': 0, 'st_size': 4096, 'st_atime': 1737189243.211488, 'st_mtime': 1729599119.2648318, 'st_ctime': 1729599119.2648318, 'st_blocks': 8, 'st_blksize': 4096}\n",
      "{'st_mode': 16893, 'st_ino': 1341934, 'st_dev': 2052, 'st_nlink': 2, 'st_uid': 1000, 'st_gid': 1000, 'st_size': 4096, 'st_atime': 1737357214.1095748, 'st_mtime': 1736858676.212953, 'st_ctime': 1736858676.212953, 'st_blocks': 8, 'st_blksize': 4096}\n"
     ]
    }
   ],
   "source": [
    "def update_stat(fid, stat, cursor):\n",
    "    cursor.execute('''UPDATE cur_stat SET\n",
    "        st_mode=?,st_ino=?,st_dev=?,st_nlink=?,st_uid=?,st_gid=?,st_size=?,\n",
    "        st_atime=?,st_mtime=?,st_ctime=?,st_blocks=?,st_blksize=? WHERE id = ?''',\n",
    "        (stat.st_mode,stat.st_ino,stat.st_dev,stat.st_nlink,stat.st_uid,stat.st_gid,stat.st_size,\n",
    "        stat.st_atime,stat.st_mtime,stat.st_ctime,stat.st_blocks,stat.st_blksize, fid)\n",
    "    )\n",
    "def get_stat(fid, cursor):\n",
    "    (st_mode,st_ino,st_dev,st_nlink,st_uid,st_gid,st_size,\n",
    "        st_atime,st_mtime,st_ctime,st_blocks,st_blksize) = \\\n",
    "    cursor.execute('''SELECT \n",
    "        st_mode,st_ino,st_dev,st_nlink,st_uid,st_gid,st_size,\n",
    "        st_atime,st_mtime,st_ctime,st_blocks,st_blksize\n",
    "        FROM cur_stat WHERE id = ?''',(fid,)\n",
    "    ).fetchone()\n",
    "    return make_dict(st_mode=st_mode,st_ino=st_ino,st_dev=st_dev,st_nlink=st_nlink,st_uid=st_uid,st_gid=st_gid,st_size=st_size,\n",
    "                       st_atime=st_atime,st_mtime=st_mtime,st_ctime=st_ctime,st_blocks=st_blocks,st_blksize=st_blksize)\n",
    "\n",
    "with CON:\n",
    "    ost = get_stat(45,CUR)\n",
    "    print(ost)\n",
    "    update_stat(45,os.stat('/home'),CUR)\n",
    "    print(get_stat(45,CUR))\n",
    "    update_stat(45,ost,CUR)\n",
    "    print(get_stat(45,CUR))\n",
    "    "
   ]
  },
  {
   "cell_type": "code",
   "execution_count": 40,
   "id": "518ddaa5-bba2-4c55-8780-9417506481fa",
   "metadata": {},
   "outputs": [
    {
     "name": "stdout",
     "output_type": "stream",
     "text": [
      "[(3, 'src', 4, 1, 1)]\n"
     ]
    }
   ],
   "source": [
    "with CON:\n",
    "    print(CUR.execute('SELECT * FROM cur_dirs WHERE modified = 1').fetchall())"
   ]
  },
  {
   "cell_type": "code",
   "execution_count": 41,
   "id": "d14e3f46-e2f3-4295-9a72-53ab96b21cbb",
   "metadata": {},
   "outputs": [
    {
     "name": "stdout",
     "output_type": "stream",
     "text": [
      "/home/feelus/pyfiles/src/\n"
     ]
    }
   ],
   "source": [
    "list_modified()"
   ]
  },
  {
   "cell_type": "code",
   "execution_count": 42,
   "id": "392524f6-0fd9-40fd-9264-4e29f9db31e2",
   "metadata": {},
   "outputs": [
    {
     "name": "stdout",
     "output_type": "stream",
     "text": [
      "[(0, 'home', 1, 1, 2), (1, 'feelus', 2, 1, 2), (2, 'pyfiles', 3, 1, 2)]\n"
     ]
    }
   ],
   "source": [
    "with CON:\n",
    "    print(CUR.execute('SELECT * FROM cur_dirs WHERE modified = 2').fetchall())"
   ]
  },
  {
   "cell_type": "code",
   "execution_count": 43,
   "id": "68d28667-d256-4850-a1a2-aea15fcb07fb",
   "metadata": {
    "scrolled": true
   },
   "outputs": [
    {
     "name": "stdout",
     "output_type": "stream",
     "text": [
      " :\n",
      "R 1\td\thome\n",
      "/home :\n",
      "R 2\td\tfeelus\n",
      "/home/feelus :\n",
      "R 3\td\tpyfiles\n",
      "/home/feelus/pyfiles :\n",
      "M 4\tdrwxrwxr-x\t2025-01-20 11:20:09.084473\tsrc\t\n",
      "/home/feelus/pyfiles/src :\n",
      "- 7\tdrwxrwxr-x\t2025-01-19 06:42:27.275799\t.git\t\n",
      "- 13\t-rw-rw-r--\t2025-01-14 15:40:53.793935\t.gitignore\t\n",
      "- 6\tdrwxrwxr-x\t2025-01-13 08:34:06.240780\t.ipynb_checkpoints\t\n",
      "- 8\t-rw-rw-r--\t2025-01-20 11:19:05.290443\tUntitled.ipynb\t\n",
      "- 12\t-rw-rw-r--\t2025-01-16 12:56:40.531080\tbackup.sql\t\n",
      "- 9\t-rw-r--r--\t2025-01-14 14:42:09.380068\tfiles.db\t\n",
      "- 16\t-rw-r--r--\t2025-01-16 13:15:31.733491\tfiles1.db\t\n",
      "- 17\t-rw-r--r--\t2025-01-20 11:20:09.034473\tfiles2.db\t\n",
      "- 15\t-rw-r--r--\t2025-01-20 11:20:10.984473\tfiles2.db-journal\t\n",
      "- 5\tlrwxrwxrwx\t2025-01-19 14:20:40.827281\tlink\t\n",
      "- 11\t-rw-rw-r--\t2025-01-14 04:24:33.066536\tnotify.py\t\n",
      "- 10\tprw-rw-r--\t2025-01-19 14:20:49.398276\tpipe\t\n",
      "- 14\t-rw-rw-r--\t2025-01-15 06:54:08.153996\tpyfiles.py\t\n",
      "/home/feelus/pyfiles/src/.git :\n",
      "- 26\t-rw-rw-r--\t2025-01-19 06:42:27.273798\tCOMMIT_EDITMSG\t\n",
      "- 30\t-rw-rw-r--\t2025-01-14 15:39:20.947928\tHEAD\t\n",
      "- 25\tdrwxrwxr-x\t2025-01-14 15:39:20.944929\tbranches\t\n",
      "- 29\t-rw-rw-r--\t2025-01-14 15:39:20.961929\tconfig\t\n",
      "- 28\t-rw-rw-r--\t2025-01-14 15:39:20.597929\tdescription\t\n",
      "- 24\tdrwxrwxr-x\t2025-01-14 15:39:20.944929\thooks\t\n",
      "- 27\t-rw-rw-r--\t2025-01-19 06:42:27.272799\tindex\t\n",
      "- 22\tdrwxrwxr-x\t2025-01-14 15:39:20.535928\tinfo\t\n",
      "- 23\tdrwxrwxr-x\t2025-01-14 15:44:36.214953\tlogs\t\n",
      "- 21\tdrwxrwxr-x\t2025-01-19 06:42:27.317798\tobjects\t\n",
      "- 20\tdrwxrwxr-x\t2025-01-14 15:39:20.945929\trefs\t\n",
      "/home/feelus/pyfiles/src/.git/branches :\n",
      "/home/feelus/pyfiles/src/.git/hooks :\n",
      "- 91\t-rwxrwxr-x\t2025-01-14 15:39:20.943928\tapplypatch-msg.sample\t\n",
      "- 80\t-rwxrwxr-x\t2025-01-14 15:39:20.599929\tcommit-msg.sample\t\n",
      "- 92\t-rwxrwxr-x\t2025-01-14 15:39:20.944929\tfsmonitor-watchman.sample\t\n",
      "- 79\t-rwxrwxr-x\t2025-01-14 15:39:20.598928\tpost-update.sample\t\n",
      "- 88\t-rwxrwxr-x\t2025-01-14 15:39:20.942929\tpre-applypatch.sample\t\n",
      "- 89\t-rwxrwxr-x\t2025-01-14 15:39:20.943928\tpre-commit.sample\t\n",
      "- 86\t-rwxrwxr-x\t2025-01-14 15:39:20.941929\tpre-merge-commit.sample\t\n",
      "- 83\t-rwxrwxr-x\t2025-01-14 15:39:20.928929\tpre-push.sample\t\n",
      "- 85\t-rwxrwxr-x\t2025-01-14 15:39:20.941929\tpre-rebase.sample\t\n",
      "- 81\t-rwxrwxr-x\t2025-01-14 15:39:20.599929\tpre-receive.sample\t\n",
      "- 90\t-rwxrwxr-x\t2025-01-14 15:39:20.943928\tprepare-commit-msg.sample\t\n",
      "- 84\t-rwxrwxr-x\t2025-01-14 15:39:20.940928\tpush-to-checkout.sample\t\n",
      "- 82\t-rwxrwxr-x\t2025-01-14 15:39:20.730928\tsendemail-validate.sample\t\n",
      "- 87\t-rwxrwxr-x\t2025-01-14 15:39:20.942929\tupdate.sample\t\n",
      "/home/feelus/pyfiles/src/.git/info :\n",
      "- 74\t-rw-rw-r--\t2025-01-14 15:39:20.546928\texclude\t\n",
      "/home/feelus/pyfiles/src/.git/logs :\n",
      "- 76\t-rw-rw-r--\t2025-01-19 06:42:27.274799\tHEAD\t\n",
      "- 75\tdrwxrwxr-x\t2025-01-14 15:44:36.214953\trefs\t\n",
      "/home/feelus/pyfiles/src/.git/logs/refs :\n",
      "- 77\tdrwxrwxr-x\t2025-01-14 15:44:36.214953\theads\t\n",
      "/home/feelus/pyfiles/src/.git/logs/refs/heads :\n",
      "- 78\t-rw-rw-r--\t2025-01-19 06:42:27.274799\tmaster\t\n",
      "/home/feelus/pyfiles/src/.git/objects :\n",
      "- 51\tdrwxrwxr-x\t2025-01-16 14:58:57.933949\t04\t\n",
      "- 35\tdrwxrwxr-x\t2025-01-16 14:58:57.935949\t10\t\n",
      "- 36\tdrwxrwxr-x\t2025-01-15 19:00:34.574902\t23\t\n",
      "- 39\tdrwxrwxr-x\t2025-01-15 19:00:34.575902\t26\t\n",
      "- 52\tdrwxrwxr-x\t2025-01-14 15:44:07.042950\t3b\t\n",
      "- 38\tdrwxrwxr-x\t2025-01-19 06:42:27.272799\t42\t\n",
      "- 40\tdrwxrwxr-x\t2025-01-14 15:44:36.209953\t45\t\n",
      "- 53\tdrwxrwxr-x\t2025-01-14 15:44:06.985950\t56\t\n",
      "- 49\tdrwxrwxr-x\t2025-01-14 15:44:06.941950\t5c\t\n",
      "- 45\tdrwxrwxr-x\t2025-01-14 15:44:36.212953\t91\t\n",
      "- 41\tdrwxrwxr-x\t2025-01-15 19:00:34.574902\t93\t\n",
      "- 47\tdrwxrwxr-x\t2025-01-14 15:44:06.937950\t98\t\n",
      "- 44\tdrwxrwxr-x\t2025-01-17 08:21:20.993031\tad\t\n",
      "- 48\tdrwxrwxr-x\t2025-01-17 08:21:20.995031\tb1\t\n",
      "- 42\tdrwxrwxr-x\t2025-01-16 14:58:57.934949\tba\t\n",
      "- 43\tdrwxrwxr-x\t2025-01-19 06:42:27.271799\tbb\t\n",
      "- 54\tdrwxrwxr-x\t2025-01-17 08:21:20.992031\td8\t\n",
      "- 46\tdrwxrwxr-x\t2025-01-19 06:42:27.274799\te6\t\n",
      "- 37\tdrwxrwxr-x\t2025-01-15 19:00:34.577902\tfa\t\n",
      "- 50\tdrwxrwxr-x\t2025-01-14 15:39:20.962929\tinfo\t\n",
      "- 34\tdrwxrwxr-x\t2025-01-14 15:39:20.962929\tpack\t\n",
      "/home/feelus/pyfiles/src/.git/objects/04 :\n",
      "- 70\t-r--r--r--\t2025-01-16 14:58:57.933949\t8cb8deb88f1aba0612e887c33dc28371cefcde\t\n",
      "/home/feelus/pyfiles/src/.git/objects/10 :\n",
      "- 55\t-r--r--r--\t2025-01-16 14:58:57.935949\t1c776297d45e4abe90a7226544c01a3ef21474\t\n",
      "/home/feelus/pyfiles/src/.git/objects/23 :\n",
      "- 56\t-r--r--r--\t2025-01-15 19:00:34.574902\tff026db3ffb96d5313f8e8b2ebc6a583687ab9\t\n",
      "/home/feelus/pyfiles/src/.git/objects/26 :\n",
      "- 59\t-r--r--r--\t2025-01-15 19:00:34.575902\t40e313bcf6f16877bf367d91075aa6864c0ab2\t\n",
      "/home/feelus/pyfiles/src/.git/objects/3b :\n",
      "- 71\t-r--r--r--\t2025-01-14 15:44:07.042950\t1eafb697668adf592c612e00ba3326b99c7b96\t\n",
      "/home/feelus/pyfiles/src/.git/objects/42 :\n",
      "- 58\t-r--r--r--\t2025-01-19 06:42:27.272799\t3450db162c43f9b35b42aab2255876b8567d2a\t\n",
      "/home/feelus/pyfiles/src/.git/objects/45 :\n",
      "- 60\t-r--r--r--\t2025-01-14 15:44:36.209953\ta60472ef26539269d683039e71e488e3587921\t\n",
      "/home/feelus/pyfiles/src/.git/objects/56 :\n",
      "- 72\t-r--r--r--\t2025-01-14 15:44:06.985950\t7c911c411c39a4297dcf082c2cdeb65f653ce8\t\n",
      "/home/feelus/pyfiles/src/.git/objects/5c :\n",
      "- 69\t-r--r--r--\t2025-01-14 15:44:06.941950\tc5e241e8363380a7ea3d5163212b0a7c124ed3\t\n",
      "/home/feelus/pyfiles/src/.git/objects/91 :\n",
      "- 65\t-r--r--r--\t2025-01-14 15:44:36.212953\t5a77d801b565863926525bafc067ad4dc597d9\t\n",
      "/home/feelus/pyfiles/src/.git/objects/93 :\n",
      "- 61\t-r--r--r--\t2025-01-15 19:00:34.574902\t7539b42734d1b86caaae24aca1ad5a9b278261\t\n",
      "/home/feelus/pyfiles/src/.git/objects/98 :\n",
      "- 67\t-r--r--r--\t2025-01-14 15:44:06.937950\te6ef67fad8af56cb3721edbd420b3d6fcc0bb1\t\n",
      "/home/feelus/pyfiles/src/.git/objects/ad :\n",
      "- 64\t-r--r--r--\t2025-01-17 08:21:20.993031\tc454b39427013e7b037058bb4f0c5e63f2016d\t\n",
      "/home/feelus/pyfiles/src/.git/objects/b1 :\n",
      "- 68\t-r--r--r--\t2025-01-17 08:21:20.994031\te41ead66493a01646ca2165d0c6956d13333d0\t\n",
      "/home/feelus/pyfiles/src/.git/objects/ba :\n",
      "- 62\t-r--r--r--\t2025-01-16 14:58:57.934949\t786f9b9400c4ce5a16c243c6834c81d2390fed\t\n",
      "/home/feelus/pyfiles/src/.git/objects/bb :\n",
      "- 63\t-r--r--r--\t2025-01-19 06:42:27.271799\t93da1c6a49cc7b87339f3153c1565f520ae0d2\t\n",
      "/home/feelus/pyfiles/src/.git/objects/d8 :\n",
      "- 73\t-r--r--r--\t2025-01-17 08:21:20.992031\ta25ee1ccc41f763ad41dc9247ee1308698f47b\t\n",
      "/home/feelus/pyfiles/src/.git/objects/e6 :\n",
      "- 66\t-r--r--r--\t2025-01-19 06:42:27.274799\t6ec043cbde7d52ec0db7049adeafc3426648ee\t\n",
      "/home/feelus/pyfiles/src/.git/objects/fa :\n",
      "- 57\t-r--r--r--\t2025-01-15 19:00:34.577902\t35185d2649d89c4ef276f0210f4dd5ba62b967\t\n",
      "/home/feelus/pyfiles/src/.git/objects/info :\n",
      "/home/feelus/pyfiles/src/.git/objects/pack :\n",
      "/home/feelus/pyfiles/src/.git/refs :\n",
      "- 31\tdrwxrwxr-x\t2025-01-19 06:42:27.275799\theads\t\n",
      "- 32\tdrwxrwxr-x\t2025-01-14 15:39:20.945929\ttags\t\n",
      "/home/feelus/pyfiles/src/.git/refs/heads :\n",
      "- 33\t-rw-rw-r--\t2025-01-19 06:42:27.274799\tmaster\t\n",
      "/home/feelus/pyfiles/src/.git/refs/tags :\n",
      "/home/feelus/pyfiles/src/.ipynb_checkpoints :\n",
      "- 18\t-rw-rw-r--\t2025-01-20 10:49:01.349173\tUntitled-checkpoint.ipynb\t\n",
      "- 19\t-rw-rw-r--\t2025-01-12 16:11:30.088646\tpyfiles-checkpoint.py\t\n"
     ]
    }
   ],
   "source": [
    "ls_r(0)"
   ]
  },
  {
   "cell_type": "code",
   "execution_count": 44,
   "id": "ca851f9d-6b53-49f4-8c52-f958ff9936a3",
   "metadata": {},
   "outputs": [],
   "source": [
    "with CON:\n",
    "    # todo описание, таймаут, логгирование изменений (diff) для особо выжных файлов\n",
    "\n",
    "    if CON.in_transaction:\n",
    "        CUR.execute('COMMIT')\n",
    "    CUR.execute('''\n",
    "    CREATE TABLE IF NOT EXISTS owners  (\n",
    "        id INTEGER PRIMARY KEY AUTOINCREMENT,\n",
    "        name TEXT NOT NULL, /* например система-код система-логи программа-код, программа-конфиг, программа-данные, человек-проект */\n",
    "        save INTEGER NOT NULL, /* bool - сохранять ли данные об изменении этого объекта в hist */\n",
    "        name1 TEXT, /* если у объекта несколько владельцев, то для каждой группы владельцев свой id, имена через запятую */\n",
    "        name2 TEXT, /* а здесь имена каждого владельца по отдельности */\n",
    "        name3 TEXT,\n",
    "        name4 TEXT,\n",
    "        name5 TEXT,\n",
    "        UNIQUE(name)\n",
    "    )\n",
    "    ''')\n",
    "    CUR.execute('CREATE INDEX IF NOT EXISTS id_owners ON owners (id)')\n",
    "    CUR.execute('CREATE INDEX IF NOT EXISTS name_owners ON owners (name)')\n",
    "    "
   ]
  },
  {
   "cell_type": "code",
   "execution_count": 45,
   "id": "5c872b24-ad7a-4022-8ef0-7472414f1d00",
   "metadata": {},
   "outputs": [],
   "source": [
    "def update_owner(name,save):\n",
    "    with CON:\n",
    "        CUR.execute('''INSERT INTO owners (name, save) VALUES (?, ?) ON CONFLICT(name) DO UPDATE SET\n",
    "            name = excluded.name,    save = excluded.save ''', (name,save))\n",
    "def set_owner(path,name):\n",
    "    # todo добавить флаг, чтобы если есть поддерево с уже установленным владельцем - не менять его\n",
    "    with CON:\n",
    "        with closing(CON.cursor()) as cursor:\n",
    "            if name is not None:\n",
    "                (oid,) = cursor.execute('SELECT id FROM owners WHERE name = ?',(name,)).fetchone()\n",
    "            else:\n",
    "                oid = None\n",
    "            def my_walk(did):\n",
    "                n = cursor.execute('SELECT name,id,type FROM cur_dirs WHERE parent_id = ? ',(did,)).fetchall()\n",
    "                for name,fid,ftype in n:\n",
    "                    cursor.execute('UPDATE cur_stat SET owner = ? WHERE id = ?',(oid,fid))\n",
    "                    if ftype==MDIR:\n",
    "                        my_walk(fid)\n",
    "            fid = path2ids(path,cursor)[-1]\n",
    "            cursor.execute('UPDATE cur_stat SET owner = ? WHERE id = ?',(oid,fid))\n",
    "            (typ,) = cursor.execute('SELECT type FROM cur_dirs WHERE id = ?',(fid,)).fetchone()\n",
    "            if typ==MDIR:\n",
    "                my_walk(fid)\n"
   ]
  },
  {
   "cell_type": "code",
   "execution_count": 46,
   "id": "46fcc6c0-7447-4003-bab9-c49c9eefe103",
   "metadata": {},
   "outputs": [
    {
     "name": "stdout",
     "output_type": "stream",
     "text": [
      "[(1, 'name', 0, None, None, None, None, None), (2, 'git', 1, None, None, None, None, None)]\n"
     ]
    }
   ],
   "source": [
    "update_owner('name',False)\n",
    "update_owner('git',True)\n",
    "\n",
    "with CON:\n",
    "    print(CUR.execute('SELECT * FROM owners').fetchall())"
   ]
  },
  {
   "cell_type": "code",
   "execution_count": 47,
   "id": "60510f67-5167-4f98-a952-6dab4b1005bd",
   "metadata": {},
   "outputs": [],
   "source": [
    "set_owner('/home/feelus/pyfiles/src/.git','git')"
   ]
  },
  {
   "cell_type": "code",
   "execution_count": null,
   "id": "b70aae85-6b51-4357-bc64-633b151fb10a",
   "metadata": {},
   "outputs": [],
   "source": []
  },
  {
   "cell_type": "code",
   "execution_count": 48,
   "id": "2f695d2d-ffd1-4057-92f8-d9875425f27d",
   "metadata": {},
   "outputs": [
    {
     "name": "stdout",
     "output_type": "stream",
     "text": [
      "(13, 0, 33204, 1341872, 2052, 1, 1000, 1000, 5, 1737357214.1105747, 1736858453.7939346, 1736858453.7939346, 8, 4096, '428490a10499a80bc48ec83f3cdbcdaa', None)\n",
      "(4, '.gitignore', 13, 0, 0)\n"
     ]
    }
   ],
   "source": [
    "with CON:\n",
    "    print(CUR.execute('SELECT * FROM cur_stat WHERE id = 13').fetchone())\n",
    "    print(CUR.execute('SELECT * FROM cur_dirs WHERE id = 13').fetchone())"
   ]
  },
  {
   "cell_type": "code",
   "execution_count": 49,
   "id": "f3caa183-c01e-4c2e-8f1d-abb292f25dec",
   "metadata": {},
   "outputs": [
    {
     "data": {
      "text/plain": [
       "1"
      ]
     },
     "execution_count": 49,
     "metadata": {},
     "output_type": "execute_result"
    }
   ],
   "source": [
    "simple_type(16893)"
   ]
  },
  {
   "cell_type": "code",
   "execution_count": 50,
   "id": "9ab30d65-c638-4f13-94ba-aca7cee8512c",
   "metadata": {
    "scrolled": true
   },
   "outputs": [
    {
     "name": "stdout",
     "output_type": "stream",
     "text": [
      " :\n",
      "R 1\td\thome\n",
      "/home :\n",
      "R 2\td\tfeelus\n",
      "/home/feelus :\n",
      "R 3\td\tpyfiles\n",
      "/home/feelus/pyfiles :\n",
      "M 4\tdrwxrwxr-x\t2025-01-20 11:20:09.084473\tsrc\t\n",
      "/home/feelus/pyfiles/src :\n",
      "- 7\tdrwxrwxr-x\t2025-01-19 06:42:27.275799\t.git\t<=git\n",
      "- 13\t-rw-rw-r--\t2025-01-14 15:40:53.793935\t.gitignore\t\n",
      "- 6\tdrwxrwxr-x\t2025-01-13 08:34:06.240780\t.ipynb_checkpoints\t\n",
      "- 8\t-rw-rw-r--\t2025-01-20 11:19:05.290443\tUntitled.ipynb\t\n",
      "- 12\t-rw-rw-r--\t2025-01-16 12:56:40.531080\tbackup.sql\t\n",
      "- 9\t-rw-r--r--\t2025-01-14 14:42:09.380068\tfiles.db\t\n",
      "- 16\t-rw-r--r--\t2025-01-16 13:15:31.733491\tfiles1.db\t\n",
      "- 17\t-rw-r--r--\t2025-01-20 11:20:09.034473\tfiles2.db\t\n",
      "- 15\t-rw-r--r--\t2025-01-20 11:20:10.984473\tfiles2.db-journal\t\n",
      "- 5\tlrwxrwxrwx\t2025-01-19 14:20:40.827281\tlink\t\n",
      "- 11\t-rw-rw-r--\t2025-01-14 04:24:33.066536\tnotify.py\t\n",
      "- 10\tprw-rw-r--\t2025-01-19 14:20:49.398276\tpipe\t\n",
      "- 14\t-rw-rw-r--\t2025-01-15 06:54:08.153996\tpyfiles.py\t\n",
      "/home/feelus/pyfiles/src/.git :\n",
      "- 26\t-rw-rw-r--\t2025-01-19 06:42:27.273798\tCOMMIT_EDITMSG\t<=git\n",
      "- 30\t-rw-rw-r--\t2025-01-14 15:39:20.947928\tHEAD\t<=git\n",
      "- 25\tdrwxrwxr-x\t2025-01-14 15:39:20.944929\tbranches\t<=git\n",
      "- 29\t-rw-rw-r--\t2025-01-14 15:39:20.961929\tconfig\t<=git\n",
      "- 28\t-rw-rw-r--\t2025-01-14 15:39:20.597929\tdescription\t<=git\n",
      "- 24\tdrwxrwxr-x\t2025-01-14 15:39:20.944929\thooks\t<=git\n",
      "- 27\t-rw-rw-r--\t2025-01-19 06:42:27.272799\tindex\t<=git\n",
      "- 22\tdrwxrwxr-x\t2025-01-14 15:39:20.535928\tinfo\t<=git\n",
      "- 23\tdrwxrwxr-x\t2025-01-14 15:44:36.214953\tlogs\t<=git\n",
      "- 21\tdrwxrwxr-x\t2025-01-19 06:42:27.317798\tobjects\t<=git\n",
      "- 20\tdrwxrwxr-x\t2025-01-14 15:39:20.945929\trefs\t<=git\n",
      "/home/feelus/pyfiles/src/.git/branches :\n",
      "/home/feelus/pyfiles/src/.git/hooks :\n",
      "- 91\t-rwxrwxr-x\t2025-01-14 15:39:20.943928\tapplypatch-msg.sample\t<=git\n",
      "- 80\t-rwxrwxr-x\t2025-01-14 15:39:20.599929\tcommit-msg.sample\t<=git\n",
      "- 92\t-rwxrwxr-x\t2025-01-14 15:39:20.944929\tfsmonitor-watchman.sample\t<=git\n",
      "- 79\t-rwxrwxr-x\t2025-01-14 15:39:20.598928\tpost-update.sample\t<=git\n",
      "- 88\t-rwxrwxr-x\t2025-01-14 15:39:20.942929\tpre-applypatch.sample\t<=git\n",
      "- 89\t-rwxrwxr-x\t2025-01-14 15:39:20.943928\tpre-commit.sample\t<=git\n",
      "- 86\t-rwxrwxr-x\t2025-01-14 15:39:20.941929\tpre-merge-commit.sample\t<=git\n",
      "- 83\t-rwxrwxr-x\t2025-01-14 15:39:20.928929\tpre-push.sample\t<=git\n",
      "- 85\t-rwxrwxr-x\t2025-01-14 15:39:20.941929\tpre-rebase.sample\t<=git\n",
      "- 81\t-rwxrwxr-x\t2025-01-14 15:39:20.599929\tpre-receive.sample\t<=git\n",
      "- 90\t-rwxrwxr-x\t2025-01-14 15:39:20.943928\tprepare-commit-msg.sample\t<=git\n",
      "- 84\t-rwxrwxr-x\t2025-01-14 15:39:20.940928\tpush-to-checkout.sample\t<=git\n",
      "- 82\t-rwxrwxr-x\t2025-01-14 15:39:20.730928\tsendemail-validate.sample\t<=git\n",
      "- 87\t-rwxrwxr-x\t2025-01-14 15:39:20.942929\tupdate.sample\t<=git\n",
      "/home/feelus/pyfiles/src/.git/info :\n",
      "- 74\t-rw-rw-r--\t2025-01-14 15:39:20.546928\texclude\t<=git\n",
      "/home/feelus/pyfiles/src/.git/logs :\n",
      "- 76\t-rw-rw-r--\t2025-01-19 06:42:27.274799\tHEAD\t<=git\n",
      "- 75\tdrwxrwxr-x\t2025-01-14 15:44:36.214953\trefs\t<=git\n",
      "/home/feelus/pyfiles/src/.git/logs/refs :\n",
      "- 77\tdrwxrwxr-x\t2025-01-14 15:44:36.214953\theads\t<=git\n",
      "/home/feelus/pyfiles/src/.git/logs/refs/heads :\n",
      "- 78\t-rw-rw-r--\t2025-01-19 06:42:27.274799\tmaster\t<=git\n",
      "/home/feelus/pyfiles/src/.git/objects :\n",
      "- 51\tdrwxrwxr-x\t2025-01-16 14:58:57.933949\t04\t<=git\n",
      "- 35\tdrwxrwxr-x\t2025-01-16 14:58:57.935949\t10\t<=git\n",
      "- 36\tdrwxrwxr-x\t2025-01-15 19:00:34.574902\t23\t<=git\n",
      "- 39\tdrwxrwxr-x\t2025-01-15 19:00:34.575902\t26\t<=git\n",
      "- 52\tdrwxrwxr-x\t2025-01-14 15:44:07.042950\t3b\t<=git\n",
      "- 38\tdrwxrwxr-x\t2025-01-19 06:42:27.272799\t42\t<=git\n",
      "- 40\tdrwxrwxr-x\t2025-01-14 15:44:36.209953\t45\t<=git\n",
      "- 53\tdrwxrwxr-x\t2025-01-14 15:44:06.985950\t56\t<=git\n",
      "- 49\tdrwxrwxr-x\t2025-01-14 15:44:06.941950\t5c\t<=git\n",
      "- 45\tdrwxrwxr-x\t2025-01-14 15:44:36.212953\t91\t<=git\n",
      "- 41\tdrwxrwxr-x\t2025-01-15 19:00:34.574902\t93\t<=git\n",
      "- 47\tdrwxrwxr-x\t2025-01-14 15:44:06.937950\t98\t<=git\n",
      "- 44\tdrwxrwxr-x\t2025-01-17 08:21:20.993031\tad\t<=git\n",
      "- 48\tdrwxrwxr-x\t2025-01-17 08:21:20.995031\tb1\t<=git\n",
      "- 42\tdrwxrwxr-x\t2025-01-16 14:58:57.934949\tba\t<=git\n",
      "- 43\tdrwxrwxr-x\t2025-01-19 06:42:27.271799\tbb\t<=git\n",
      "- 54\tdrwxrwxr-x\t2025-01-17 08:21:20.992031\td8\t<=git\n",
      "- 46\tdrwxrwxr-x\t2025-01-19 06:42:27.274799\te6\t<=git\n",
      "- 37\tdrwxrwxr-x\t2025-01-15 19:00:34.577902\tfa\t<=git\n",
      "- 50\tdrwxrwxr-x\t2025-01-14 15:39:20.962929\tinfo\t<=git\n",
      "- 34\tdrwxrwxr-x\t2025-01-14 15:39:20.962929\tpack\t<=git\n",
      "/home/feelus/pyfiles/src/.git/objects/04 :\n",
      "- 70\t-r--r--r--\t2025-01-16 14:58:57.933949\t8cb8deb88f1aba0612e887c33dc28371cefcde\t<=git\n",
      "/home/feelus/pyfiles/src/.git/objects/10 :\n",
      "- 55\t-r--r--r--\t2025-01-16 14:58:57.935949\t1c776297d45e4abe90a7226544c01a3ef21474\t<=git\n",
      "/home/feelus/pyfiles/src/.git/objects/23 :\n",
      "- 56\t-r--r--r--\t2025-01-15 19:00:34.574902\tff026db3ffb96d5313f8e8b2ebc6a583687ab9\t<=git\n",
      "/home/feelus/pyfiles/src/.git/objects/26 :\n",
      "- 59\t-r--r--r--\t2025-01-15 19:00:34.575902\t40e313bcf6f16877bf367d91075aa6864c0ab2\t<=git\n",
      "/home/feelus/pyfiles/src/.git/objects/3b :\n",
      "- 71\t-r--r--r--\t2025-01-14 15:44:07.042950\t1eafb697668adf592c612e00ba3326b99c7b96\t<=git\n",
      "/home/feelus/pyfiles/src/.git/objects/42 :\n",
      "- 58\t-r--r--r--\t2025-01-19 06:42:27.272799\t3450db162c43f9b35b42aab2255876b8567d2a\t<=git\n",
      "/home/feelus/pyfiles/src/.git/objects/45 :\n",
      "- 60\t-r--r--r--\t2025-01-14 15:44:36.209953\ta60472ef26539269d683039e71e488e3587921\t<=git\n",
      "/home/feelus/pyfiles/src/.git/objects/56 :\n",
      "- 72\t-r--r--r--\t2025-01-14 15:44:06.985950\t7c911c411c39a4297dcf082c2cdeb65f653ce8\t<=git\n",
      "/home/feelus/pyfiles/src/.git/objects/5c :\n",
      "- 69\t-r--r--r--\t2025-01-14 15:44:06.941950\tc5e241e8363380a7ea3d5163212b0a7c124ed3\t<=git\n",
      "/home/feelus/pyfiles/src/.git/objects/91 :\n",
      "- 65\t-r--r--r--\t2025-01-14 15:44:36.212953\t5a77d801b565863926525bafc067ad4dc597d9\t<=git\n",
      "/home/feelus/pyfiles/src/.git/objects/93 :\n",
      "- 61\t-r--r--r--\t2025-01-15 19:00:34.574902\t7539b42734d1b86caaae24aca1ad5a9b278261\t<=git\n",
      "/home/feelus/pyfiles/src/.git/objects/98 :\n",
      "- 67\t-r--r--r--\t2025-01-14 15:44:06.937950\te6ef67fad8af56cb3721edbd420b3d6fcc0bb1\t<=git\n",
      "/home/feelus/pyfiles/src/.git/objects/ad :\n",
      "- 64\t-r--r--r--\t2025-01-17 08:21:20.993031\tc454b39427013e7b037058bb4f0c5e63f2016d\t<=git\n",
      "/home/feelus/pyfiles/src/.git/objects/b1 :\n",
      "- 68\t-r--r--r--\t2025-01-17 08:21:20.994031\te41ead66493a01646ca2165d0c6956d13333d0\t<=git\n",
      "/home/feelus/pyfiles/src/.git/objects/ba :\n",
      "- 62\t-r--r--r--\t2025-01-16 14:58:57.934949\t786f9b9400c4ce5a16c243c6834c81d2390fed\t<=git\n",
      "/home/feelus/pyfiles/src/.git/objects/bb :\n",
      "- 63\t-r--r--r--\t2025-01-19 06:42:27.271799\t93da1c6a49cc7b87339f3153c1565f520ae0d2\t<=git\n",
      "/home/feelus/pyfiles/src/.git/objects/d8 :\n",
      "- 73\t-r--r--r--\t2025-01-17 08:21:20.992031\ta25ee1ccc41f763ad41dc9247ee1308698f47b\t<=git\n",
      "/home/feelus/pyfiles/src/.git/objects/e6 :\n",
      "- 66\t-r--r--r--\t2025-01-19 06:42:27.274799\t6ec043cbde7d52ec0db7049adeafc3426648ee\t<=git\n",
      "/home/feelus/pyfiles/src/.git/objects/fa :\n",
      "- 57\t-r--r--r--\t2025-01-15 19:00:34.577902\t35185d2649d89c4ef276f0210f4dd5ba62b967\t<=git\n",
      "/home/feelus/pyfiles/src/.git/objects/info :\n",
      "/home/feelus/pyfiles/src/.git/objects/pack :\n",
      "/home/feelus/pyfiles/src/.git/refs :\n",
      "- 31\tdrwxrwxr-x\t2025-01-19 06:42:27.275799\theads\t<=git\n",
      "- 32\tdrwxrwxr-x\t2025-01-14 15:39:20.945929\ttags\t<=git\n",
      "/home/feelus/pyfiles/src/.git/refs/heads :\n",
      "- 33\t-rw-rw-r--\t2025-01-19 06:42:27.274799\tmaster\t<=git\n",
      "/home/feelus/pyfiles/src/.git/refs/tags :\n",
      "/home/feelus/pyfiles/src/.ipynb_checkpoints :\n",
      "- 18\t-rw-rw-r--\t2025-01-20 10:49:01.349173\tUntitled-checkpoint.ipynb\t\n",
      "- 19\t-rw-rw-r--\t2025-01-12 16:11:30.088646\tpyfiles-checkpoint.py\t\n"
     ]
    }
   ],
   "source": [
    "ls_r(0)"
   ]
  },
  {
   "cell_type": "code",
   "execution_count": 51,
   "id": "6a7fb8e4-4ba8-44d1-a3ec-7d58e903ac76",
   "metadata": {},
   "outputs": [
    {
     "name": "stdout",
     "output_type": "stream",
     "text": [
      "[1, 2, 3, 4, 7]\n",
      "- 26\t-rw-rw-r--\t2025-01-19 06:42:27.273798\tCOMMIT_EDITMSG\t<=git\n",
      "- 30\t-rw-rw-r--\t2025-01-14 15:39:20.947928\tHEAD\t<=git\n",
      "- 25\tdrwxrwxr-x\t2025-01-14 15:39:20.944929\tbranches\t<=git\n",
      "- 29\t-rw-rw-r--\t2025-01-14 15:39:20.961929\tconfig\t<=git\n",
      "- 28\t-rw-rw-r--\t2025-01-14 15:39:20.597929\tdescription\t<=git\n",
      "- 24\tdrwxrwxr-x\t2025-01-14 15:39:20.944929\thooks\t<=git\n",
      "- 27\t-rw-rw-r--\t2025-01-19 06:42:27.272799\tindex\t<=git\n",
      "- 22\tdrwxrwxr-x\t2025-01-14 15:39:20.535928\tinfo\t<=git\n",
      "- 23\tdrwxrwxr-x\t2025-01-14 15:44:36.214953\tlogs\t<=git\n",
      "- 21\tdrwxrwxr-x\t2025-01-19 06:42:27.317798\tobjects\t<=git\n",
      "- 20\tdrwxrwxr-x\t2025-01-14 15:39:20.945929\trefs\t<=git\n"
     ]
    }
   ],
   "source": [
    "ls('/home/feelus/pyfiles/src/.git')"
   ]
  },
  {
   "cell_type": "code",
   "execution_count": 52,
   "id": "4ae2d31a-d6eb-45ba-a1f1-54ebf5abf810",
   "metadata": {},
   "outputs": [
    {
     "name": "stdout",
     "output_type": "stream",
     "text": [
      "[1, 2, 3, 4, 7, 23]\n",
      "- 76\t-rw-rw-r--\t2025-01-19 06:42:27.274799\tHEAD\t<=git\n",
      "- 75\tdrwxrwxr-x\t2025-01-14 15:44:36.214953\trefs\t<=git\n"
     ]
    }
   ],
   "source": [
    "ls('/home/feelus/pyfiles/src/.git/logs')"
   ]
  },
  {
   "cell_type": "code",
   "execution_count": 53,
   "id": "aef996d1-5656-43b1-8b4b-dcb6c9d5c510",
   "metadata": {},
   "outputs": [
    {
     "name": "stdout",
     "output_type": "stream",
     "text": [
      "[1, 2, 3, 4, 7, 23, 75]\n",
      "- 77\tdrwxrwxr-x\t2025-01-14 15:44:36.214953\theads\t<=git\n"
     ]
    }
   ],
   "source": [
    "ls('/home/feelus/pyfiles/src/.git/logs/refs')"
   ]
  },
  {
   "cell_type": "code",
   "execution_count": 54,
   "id": "e64353ac-3739-4bcd-84a9-be600551703d",
   "metadata": {},
   "outputs": [],
   "source": [
    "ECREAT = 1 # в этом случае все старые записи == -1\n",
    "EMODIF = 2\n",
    "EMOVE = 3\n",
    "EDEL = 4\n",
    "with CON:\n",
    "    with closing(CON.cursor()) as cursor:\n",
    "    \n",
    "        # на id может быть несколько записей\n",
    "        # если объект создан, то поля старого stat = -1\n",
    "        #cursor.execute('DROP TABLE hist_crmod')\n",
    "        cursor.execute('''\n",
    "        CREATE TABLE IF NOT EXISTS hist  (\n",
    "        parent_id INTEGER NOT NULL, /* старая запись из cur_dirs */\n",
    "        name TEXT NOT NULL, /* старая запись из cur_dirs */\n",
    "        id INTEGER NOT NULL, /* на id может быть несколько записей */\n",
    "        type INTEGER NOT NULL, \n",
    "        event_type INTEGER NOT NULL, /* ECREAT, EMODIF, EMOVE, EDEL */\n",
    "        \n",
    "        st_mode INTEGER, /* старая запись из cur_stat */\n",
    "        st_ino  INTEGER,\n",
    "        st_dev  INTEGER,\n",
    "        st_nlink  INTEGER,\n",
    "        st_uid  INTEGER,\n",
    "        st_gid  INTEGER,\n",
    "        st_size  INTEGER,\n",
    "        st_atime  REAL,\n",
    "        st_mtime  REAL,\n",
    "        st_ctime REAL,\n",
    "        st_blocks INTEGER,\n",
    "        st_blksize INTEGER,\n",
    "        data TEXT, /* старая запись из cur_stat */\n",
    "        owner INTEGER, /* старая запись из cur_stat */\n",
    "    \n",
    "        time REAL NOT NULL, /* время события */\n",
    "        static_found INTEGER NOT NULL /* 0 - обнаружено watchdog-ом, 1 - статитсеский обход дерева каталогов */\n",
    "        )\n",
    "        ''')\n",
    "        cursor.execute('CREATE INDEX IF NOT EXISTS id_hist ON hist (id)')\n",
    "        cursor.execute('CREATE INDEX IF NOT EXISTS time_hist ON hist (time)')\n",
    "\n",
    "def add_event(fid, typ, etyp, static_found, cursor):\n",
    "    (otyp,) = cursor.execute('SELECT type FROM cur_dirs WHERE id = ?',(fid,)).fetchone()\n",
    "    if typ is not None:\n",
    "        assert typ == otyp , (typ, otyp)\n",
    "    else:\n",
    "        typ = otyp\n",
    "    if etyp==ECREAT:\n",
    "        cursor.execute('''INSERT INTO hist (parent_id, name, id, type, event_type, \n",
    "            st_mode,st_ino,st_dev,st_nlink,st_uid,st_gid,st_size,\n",
    "            st_atime,st_mtime,st_ctime,st_blocks,st_blksize,data,owner,\n",
    "            time,static_found) VALUES (-1,-1,?,?,?,-1,-1,-1,-1,-1,-1,-1,-1,-1,-1,-1,-1,-1,-1,?,?)''',\n",
    "                       (fid,typ,etyp,time(),static_found))\n",
    "    else:\n",
    "        # просто часть данных копируем а часть заполняем вручную\n",
    "        cursor.execute('''INSERT INTO hist (parent_id, name, id, type, event_type, \n",
    "            st_mode,st_ino,st_dev,st_nlink,st_uid,st_gid,st_size,\n",
    "            st_atime,st_mtime,st_ctime,st_blocks,st_blksize,data,owner,\n",
    "            time,static_found) \n",
    "            SELECT t1.parent_id, t1.name, ?, ?, ?, \n",
    "            t2.st_mode,t2.st_ino,t2.st_dev,t2.st_nlink,t2.st_uid,t2.st_gid,t2.st_size,\n",
    "            t2.st_atime,t2.st_mtime,t2.st_ctime,t2.st_blocks,t2.st_blksize,t2.data,t2.owner,\n",
    "            ?,?\n",
    "            FROM cur_dirs AS t1\n",
    "            JOIN cur_stat AS t2\n",
    "            ON 1=1\n",
    "            WHERE t1.id = ? AND t2.id = ?\n",
    "            ''',\n",
    "                       (fid,typ,etyp,time(),static_found,fid,fid)\n",
    "        )\n",
    "            # INSERT INTO table_target (col1, col2, col3, col4, col5)\n",
    "            # SELECT t1.col1, t1.col2, t2.col3, t2.col4, ?\n",
    "            # FROM table1 AS t1\n",
    "            # JOIN table2 AS t2\n",
    "            # ON 1=1\n",
    "            # WHERE t1.id = ? AND t2.id = ?;        \n",
    "        "
   ]
  },
  {
   "cell_type": "code",
   "execution_count": null,
   "id": "1103fc7f-195a-431a-b349-bb5f395065fa",
   "metadata": {},
   "outputs": [],
   "source": []
  },
  {
   "cell_type": "code",
   "execution_count": 55,
   "id": "19c2c74b-3b83-442b-a310-6fda9a8b3ae7",
   "metadata": {},
   "outputs": [],
   "source": [
    "def id2path_hist(fid,cursor):\n",
    "    path = []\n",
    "    while fid!=0:\n",
    "        n = cursor.execute('SELECT parent_id, name FROM cur_dirs WHERE id = ?',(fid,)).fetchone()\n",
    "        if n is None:\n",
    "            n = cursor.execute('SELECT parent_id, name FROM hist WHERE id = ? ORDER BY time DESC LIMIT 1',(fid,)).fetchone()\n",
    "            if n is None:\n",
    "                raise Exception(f\"can't find fid {fid}\")\n",
    "        (fid, name) = n\n",
    "        path.insert(0,name)\n",
    "    path.insert(0,'')\n",
    "    return '/'.join(path)"
   ]
  },
  {
   "cell_type": "code",
   "execution_count": 56,
   "id": "fb8efee7-c21b-4efe-a3e5-4a52a8f7132e",
   "metadata": {},
   "outputs": [
    {
     "name": "stdout",
     "output_type": "stream",
     "text": [
      "/home/feelus/pyfiles/src/.git/refs/heads/master\n"
     ]
    }
   ],
   "source": [
    "with CON:\n",
    "    print(id2path_hist(33,CUR))"
   ]
  },
  {
   "cell_type": "code",
   "execution_count": 57,
   "id": "be3dae41-0812-4de4-b47b-688128a54654",
   "metadata": {},
   "outputs": [],
   "source": [
    "def ls_hist():\n",
    "    with CON:\n",
    "        for (fid,cnt) in CON.execute('SELECT id, COUNT(*) AS count FROM hist GROUP BY id').fetchall():\n",
    "            print(cnt,fid,id2path_hist(fid,CUR))"
   ]
  },
  {
   "cell_type": "code",
   "execution_count": 58,
   "id": "1e8b8328-43f3-4eec-b60e-78df07a9169f",
   "metadata": {},
   "outputs": [],
   "source": [
    "ls_hist()"
   ]
  },
  {
   "cell_type": "code",
   "execution_count": 66,
   "id": "00e4e269-b922-4d75-8157-16dfd7c5f199",
   "metadata": {},
   "outputs": [],
   "source": [
    "def hist_byid(fid):\n",
    "    print(id2path_hist(fid,CUR))\n",
    "    with closing(CON.execute('SELECT * FROM cur_dirs WHERE id = ?',(fid,))) as cursor:\n",
    "        list(print_fid(cursor))\n",
    "    for (parent_id, name, fid, typ, etyp, \n",
    "         st_mode, st_ino, st_dev, st_nlink, st_uid, st_gid, st_size, st_atime, st_mtime, st_ctime, st_blocks, st_blksize,\n",
    "        data, owner, time, static_found) in \\\n",
    "        CUR.execute('SELECT * FROM hist WHERE id = ? ORDER BY time DESC',(fid,)).fetchall():\n",
    "            if etyp==ECREAT: etyp = 'C'\n",
    "            elif etyp==EDEL: etyp = 'D'\n",
    "            elif etyp==EMOV: etyp = 'V'\n",
    "            elif etyp==EMODIF:etyp= 'M'\n",
    "            else: assert False, etyp\n",
    "            print(etyp+' '+('S' if static_found else 'W')+' '+str(datetime.fromtimestamp(time)))"
   ]
  },
  {
   "cell_type": "code",
   "execution_count": 67,
   "id": "a4cc9b45-ae71-458d-981b-fee5335e9425",
   "metadata": {},
   "outputs": [
    {
     "name": "stdout",
     "output_type": "stream",
     "text": [
      "[]\n"
     ]
    }
   ],
   "source": [
    "print(CUR.execute('SELECT * FROM hist').fetchall())"
   ]
  },
  {
   "cell_type": "code",
   "execution_count": 69,
   "id": "bb2699a6-1f95-4a4f-9a0f-7a1a9846c7bc",
   "metadata": {},
   "outputs": [
    {
     "name": "stdout",
     "output_type": "stream",
     "text": [
      "1 2 /home/feelus\n",
      "1 5 /home/feelus/pyfiles/src/link\n",
      "/home/feelus\n",
      "R 2\td\tfeelus\n",
      "C W 2025-01-20 11:24:16.925530\n",
      "/home/feelus/pyfiles/src/link\n",
      "- 5\tlrwxrwxrwx\t2025-01-19 14:20:40.827281\tlink\t\n",
      "D S 2025-01-20 11:24:16.926240\n",
      "---\n"
     ]
    }
   ],
   "source": [
    "with CON:\n",
    "    add_event(2, MDIR, ECREAT, False, CUR)\n",
    "    add_event(5, MLINK, EDEL, True, CUR)\n",
    "    ls_hist()\n",
    "    hist_byid(2)\n",
    "    hist_byid(5)\n",
    "    CUR.execute('DELETE FROM hist')\n",
    "    print('---')\n",
    "    ls_hist()\n",
    "    "
   ]
  },
  {
   "cell_type": "code",
   "execution_count": 79,
   "id": "df0f0f4c-ac48-4878-9309-9f75351b2f6d",
   "metadata": {},
   "outputs": [],
   "source": [
    "# не взаимодействуем с ФС, кроме create_parents\n",
    "\n",
    "# todo написать тесты отдельно от цикла\n",
    "def owner_save(fid,cursor):\n",
    "    (owner,) = cursor.execute('SELECT owner FROM cur_stat WHERE id = ?',(fid,)).fetchone()\n",
    "    if owner is not None:\n",
    "        (save,) = cursor.execute('SELECT save FROM owners WHERE id = ?',(owner,)).fetchone()\n",
    "    else:\n",
    "        save = True\n",
    "    return (owner,save)\n",
    "\n",
    "\n",
    "# исхоодый объект известен, целевой объект известен, работаем с БД\n",
    "def modified1(fid, stat, is_directory, cursor):\n",
    "    already = is_modified(fid, cursor)\n",
    "    if not already: set_modified(fid, cursor)\n",
    "\n",
    "    (owner,save) = owner_save(fid,cursor)\n",
    "    if save:\n",
    "        # cохранить старый stat. с датой. \n",
    "        # для файла - если дата больше 10 сек\n",
    "        # для папки - если изменился её stat (st_atime, st_mtime не учитываем)\n",
    "        ostat = cursor.execute('''SELECT \n",
    "            id, type,\n",
    "            st_mode,st_ino,st_dev,st_nlink,st_uid,st_gid,st_size,\n",
    "            st_atime,st_mtime,st_ctime,st_blocks,st_blksize,\n",
    "            data,time\n",
    "        FROM hist WHERE id = ? ORDER BY time DESC LIMIT 1;''',(fid,)).fetchone()\n",
    "        if ostat is not None: # раньше этот файл уже обновлялся\n",
    "            (ofid,otype,\n",
    "                           ost_mode,ost_ino,ost_dev,ost_nlink,ost_uid,ost_gid,ost_size,\n",
    "                           ost_atime,ost_mtime,ost_ctime,ost_blocks,ost_blksize, \n",
    "                odata, otime ) = ostat\n",
    "            if simple_type(stat.st_mode)==MDIR:\n",
    "                save = (stat.st_mode,stat.st_ino,stat.st_dev,stat.st_nlink,stat.st_uid,stat.st_gid,stat.st_size,\n",
    "                       stat.st_ctime,stat.st_blocks,stat.st_blksize) != \\\n",
    "                (ost_mode,ost_ino,ost_dev,ost_nlink,ost_uid,ost_gid,ost_size,\n",
    "                           ost_ctime,ost_blocks,ost_blksize,)\n",
    "            else:\n",
    "                save = abs(otime - time())>10\n",
    "        else:\n",
    "            save = True\n",
    "        if save:\n",
    "            add_event(fid, simple_type(stat.st_mode), EMODIF, False, cursor)\n",
    "    \n",
    "    # обновить stat в cur\n",
    "    update_stat(fid,stat,cursor)\n",
    "    \n",
    "def created2(parent_id, name, stat, static_find, save, owner, cursor):\n",
    "    set_modified(parent_id, cursor)\n",
    "    cursor.execute('INSERT INTO cur_dirs (parent_id, name, modified, type) VALUES (?, ?, 1, ?)',(parent_id, name, simple_type(stat.st_mode)))\n",
    "    (fid,) = cursor.execute('SELECT id FROM cur_dirs WHERE parent_id =? AND name=?',(parent_id,name)).fetchone()\n",
    "    if save:\n",
    "        add_event(fid, simple_type(stat.st_mode), ECREAT, static_find, cursor)\n",
    "    # обновить stat в cur\n",
    "    cursor.execute('INSERT INTO cur_stat (id,type,owner) VALUES (?,?,?)',(fid,simple_type(stat.st_mode),owner))\n",
    "    update_stat(fid,stat,cursor)\n",
    "    return fid\n",
    "    \n",
    "def deleted1(fid,cursor):\n",
    "    (owner,save) = owner_save(fid,cursor)\n",
    "\n",
    "    def my_walk(did):\n",
    "        n = cursor.execute('SELECT name,id,type FROM cur_dirs WHERE parent_id = ? ',(did,)).fetchall()\n",
    "        for name,fid,ftype in n:\n",
    "            if ftype==MDIR:\n",
    "                my_walk(fid)\n",
    "            if save:\n",
    "                add_event(fid, None, EDEL, True, cursor)\n",
    "            cursor.execute('DELETE FROM cur_stat WHERE id = ?',(fid,))\n",
    "            cursor.execute('DELETE FROM cur_dirs WHERE id = ?',(fid,))\n",
    "            \n",
    "    my_walk(fid)\n",
    "    if save:\n",
    "        add_event(fid, None, EDEL, False, cursor)\n",
    "    cursor.execute('DELETE FROM cur_stat WHERE id = ?',(fid,))\n",
    "    cursor.execute('DELETE FROM cur_dirs WHERE id = ?',(fid,))\n",
    "\n",
    "def create_parents(path,cursor,ids=None):\n",
    "    if ids is None:\n",
    "        ids = path2ids(path,cursor)\n",
    "        \n",
    "    # рассчитываем, что src_path - обсолютный путь, не симлинк, не содержит // типа '/a//b/c'\n",
    "    path = path.split('/')\n",
    "\n",
    "    fid = ids[-2]\n",
    "    (owner,save) = owner_save(fid,cursor)\n",
    "\n",
    "    parent_path = '/'.join(path[:len(ids)])\n",
    "    for name in path[len(ids):-1]:\n",
    "        parent_path+= ('/'+name)\n",
    "        lstat = os.stat(parent_path, follow_symlinks=False) # FileNotFoundError будет пойман в области watchdog-а\n",
    "        assert simple_type(lstat.st_mode)==MDIR, simple_type(lstat.st_mode)\n",
    "        fid = created2(fid, name, lstat, True, save, owner, cursor)\n",
    "\n",
    "    return fid, save, owner, path[-1]\n",
    "\n",
    "def created1(ids, src_path, stat, is_directory, cursor):\n",
    "    (fid, save, owner, name) = create_parents(src_path,cursor,ids)\n",
    "    created2(fid, name, stat, False, save, owner, cursor)\n",
    "\n",
    "def moved1(fid, dest_path, cursor):\n",
    "    (parent_id, _, _, name) = create_parents(dest_path,cursor)\n",
    "    (_,save) = owner_save(fid,cursor)\n",
    "    if save:\n",
    "        add_event(fid, None, EMOVE, False, cursor)\n",
    "    cursor.execute('UPDATE cur_dirs SET parent_id = ?, name = ? WHERE id = ?',(parent_id, name, fid))\n",
    "\n"
   ]
  },
  {
   "cell_type": "code",
   "execution_count": 80,
   "id": "b394da80-40b3-412d-a485-269e3d449f97",
   "metadata": {},
   "outputs": [],
   "source": [
    "def modified(src_path, stat, is_directory, is_synthetic, cursor):\n",
    "    if is_synthetic:\n",
    "        print('synthetic modified',src_path, is_directory)\n",
    "        return\n",
    "    ids = path2ids(src_path,cursor)\n",
    "    if ids[-1] is None:\n",
    "        print('do modified as created',src_path, time())\n",
    "        return created1(ids, src_path, is_directory,cursor)\n",
    "    return modified1(ids[-1], stat, is_directory,cursor)\n",
    "\n",
    "def created(src_path, stat, is_directory, is_synthetic, cursor):\n",
    "    if is_synthetic:\n",
    "        print('synthetic created',src_path, is_directory)\n",
    "        return\n",
    "    ids = path2ids(src_path,cursor)\n",
    "    if ids[-1] is not None:\n",
    "        # если было удалено, но это не было зафиксировано, а потом создалось - считаем, что просто изменилось\n",
    "        print('do created as modified',src_path, time())\n",
    "        return modified1(ids[-1], src_path, is_directory,cursor)\n",
    "    return created1(ids, src_path, stat, is_directory,cursor)\n",
    "\n",
    "def deleted(src_path, is_directory, s_synthetic, cursor):\n",
    "    if is_synthetic:\n",
    "        print('synthetic deleted',src_path, is_directory)\n",
    "        return\n",
    "    ids = path2ids(src_path,cursor)\n",
    "    if ids[-1] is not None:\n",
    "        print('deleted unknown object:',src_path)\n",
    "        return\n",
    "    deleted1(ids[-1],cursor)\n",
    "\n",
    "def moved(src_path, dest_path, stat, is_directory, is_synthetic, cursor):\n",
    "    if is_synthetic:\n",
    "        print('synthetic moved',src_path, dest_path, is_directory)\n",
    "        return\n",
    "    ids = path2ids(src_path,cursor)\n",
    "    if ids[-1] is None:\n",
    "        print('do moved as created',src_path, dest_path, time())\n",
    "        return created1(ids, dest_path, stat, is_directory,cursor)\n",
    "    moved1(ids[-1],dest_path, cursor)\n"
   ]
  },
  {
   "cell_type": "code",
   "execution_count": null,
   "id": "436adcb0-5367-45c1-9538-51cfa5c0858f",
   "metadata": {},
   "outputs": [],
   "source": []
  },
  {
   "cell_type": "code",
   "execution_count": 61,
   "id": "110b533a-6db1-4726-834d-0e516819eba7",
   "metadata": {},
   "outputs": [],
   "source": [
    "with CON:\n",
    "    created('/home/feelus/pyfiles/src/test2', os.stat('/home/feelus/pyfiles/src/test2'), False, False, CUR)"
   ]
  },
  {
   "cell_type": "code",
   "execution_count": 70,
   "id": "04baaa44-78bb-4360-8861-74e35288bb4f",
   "metadata": {},
   "outputs": [
    {
     "name": "stdout",
     "output_type": "stream",
     "text": [
      "('parent_id', 'name', 'id', 'type', 'modified') ('id', 'type', 'st_mode', 't_ino', 'st_dev', 'st_nlink', 'st_uid', 'st_gid', 'st_size', 'st_atime', 'st_mtime', 'st_ctime', 'st_blocks', 'st_blksize', 'data', 'owner')\n",
      "----------------------\n",
      "(4, '.git', 6, 1, 0) (6, 1, 33204, 1347053, 2052, 1, 1000, 1000, 4, 1737264453.0284715, 1737265048.293555, 1737265048.293555, 8, 4096, '50c293df67fe695e907200d8595ec169', 3)\n",
      "(4, '.gitignore', 11, 0, 0) (11, 0, 33204, 1347053, 2052, 1, 1000, 1000, 4, 1737264453.0284715, 1737265048.293555, 1737265048.293555, 8, 4096, '428490a10499a80bc48ec83f3cdbcdaa', None)\n",
      "(4, '.ipynb_checkpoints', 5, 1, 0) (5, 1, 33204, 1347053, 2052, 1, 1000, 1000, 4, 1737264453.0284715, 1737265048.293555, 1737265048.293555, 8, 4096, '3589b2ff9683a4f362625f173839c744', None)\n",
      "(4, 'Untitled.ipynb', 7, 0, 0) (7, 0, 33204, 1347053, 2052, 1, 1000, 1000, 4, 1737264453.0284715, 1737265048.293555, 1737265048.293555, 8, 4096, '36d331a00bf15e8f6cab65d0e0614e90', None)\n",
      "(4, 'backup.sql', 10, 0, 0) (10, 0, 33204, 1347053, 2052, 1, 1000, 1000, 4, 1737264453.0284715, 1737265048.293555, 1737265048.293555, 8, 4096, 'ccd1ee9c869088c865b1237b27147cc2', None)\n",
      "(4, 'files.db', 8, 0, 0) (8, 0, 33204, 1347053, 2052, 1, 1000, 1000, 4, 1737264453.0284715, 1737265048.293555, 1737265048.293555, 8, 4096, '1691fc18f126cb116505fa62c87ba7ae', None)\n",
      "(4, 'files1.db', 14, 0, 0) (14, 0, 33204, 1347053, 2052, 1, 1000, 1000, 4, 1737264453.0284715, 1737265048.293555, 1737265048.293555, 8, 4096, '2e37e83cb16f3ad10cd2dfd225a09aac', None)\n",
      "(4, 'files2.db', 17, 0, 0) (17, 0, 33204, 1347053, 2052, 1, 1000, 1000, 4, 1737264453.0284715, 1737265048.293555, 1737265048.293555, 8, 4096, 'f16d29d1b994d48fa5ab2b12fd838a09', None)\n",
      "(4, 'files2.db-journal', 13, 0, 0) (13, 0, 33204, 1347053, 2052, 1, 1000, 1000, 4, 1737264453.0284715, 1737265048.293555, 1737265048.293555, 8, 4096, '2d25e4ea91d14d6ff066b8846afe5e15', None)\n",
      "(4, 'notify.py', 9, 0, 0) (9, 0, 33204, 1347053, 2052, 1, 1000, 1000, 4, 1737264453.0284715, 1737265048.293555, 1737265048.293555, 8, 4096, 'd10192406f1f74ddcd95ddb1360b704c', None)\n",
      "(4, 'pyfiles.py', 12, 0, 0) (12, 0, 33204, 1347053, 2052, 1, 1000, 1000, 4, 1737264453.0284715, 1737265048.293555, 1737265048.293555, 8, 4096, '03078892139cf77b505ae7e129b71921', None)\n",
      "(4, 'test', 16, 0, 0) (16, 0, 33204, 1347053, 2052, 1, 1000, 1000, 4, 1737264453.0284715, 1737265048.293555, 1737265048.293555, 8, 4096, 'd41d8cd98f00b204e9800998ecf8427e', None)\n",
      "(4, 'test.db', 15, 0, 0) (15, 0, 33204, 1347053, 2052, 1, 1000, 1000, 4, 1737264453.0284715, 1737265048.293555, 1737265048.293555, 8, 4096, 'd41d8cd98f00b204e9800998ecf8427e', None)\n",
      "(4, 'test2', 87, 0, 1) (87, 0, 33204, 1347053, 2052, 1, 1000, 1000, 4, 1737264453.0284715, 1737265048.293555, 1737265048.293555, 8, 4096, None, None)\n"
     ]
    }
   ],
   "source": [
    "ls('/home/feelus/pyfiles/src')"
   ]
  },
  {
   "cell_type": "code",
   "execution_count": 63,
   "id": "be129918-4707-49a1-9ca9-91558b675c96",
   "metadata": {},
   "outputs": [],
   "source": [
    "with CON:\n",
    "    modified('/home/feelus/pyfiles/src/test2', os.stat('/home/feelus/pyfiles/src/test2'), False, False, CUR)"
   ]
  },
  {
   "cell_type": "code",
   "execution_count": 81,
   "id": "3fdc1750-60fb-4f34-b594-28104a7519be",
   "metadata": {},
   "outputs": [],
   "source": [
    "with CON:\n",
    "    moved('/home/feelus/pyfiles/src/test2','/home/feelus/pyfiles/src/test3', os.stat('/home/feelus/pyfiles/src/test3'), False, False, CUR)"
   ]
  },
  {
   "cell_type": "code",
   "execution_count": 82,
   "id": "ce8ff3f4-142a-46ca-8dee-a69768ed5f7c",
   "metadata": {},
   "outputs": [
    {
     "name": "stdout",
     "output_type": "stream",
     "text": [
      "[(-1, '-1', 87, 0, 1, -1, -1, -1, -1, -1, -1, -1, -1.0, -1.0, -1.0, -1, -1, '-1', -1, 1737264682.8804104, 0), (4, 'test2', 87, 0, 2, 33204, 1347053, 2052, 1, 1000, 1000, 0, 1737264453.0284715, 1737264453.0284715, 1737264453.0284715, 0, 4096, None, None, 1737265079.6888766, 0), (4, 'test2', 87, 0, 3, 33204, 1347053, 2052, 1, 1000, 1000, 4, 1737264453.0284715, 1737265048.293555, 1737265048.293555, 8, 4096, None, None, 1737266342.30002, 0)]\n"
     ]
    }
   ],
   "source": [
    "with CON:\n",
    "    print(CUR.execute('SELECT * FROM hist').fetchall())"
   ]
  },
  {
   "cell_type": "code",
   "execution_count": null,
   "id": "bf9d62fd-99d9-41e2-bb13-41bc49e20441",
   "metadata": {},
   "outputs": [],
   "source": []
  },
  {
   "cell_type": "code",
   "execution_count": null,
   "id": "5e7911d4-1f6f-45b1-9853-a741bc1db9c5",
   "metadata": {},
   "outputs": [],
   "source": []
  },
  {
   "cell_type": "code",
   "execution_count": null,
   "id": "e4195391-3e4d-442b-b0cc-05f1e97a5ab4",
   "metadata": {},
   "outputs": [],
   "source": []
  },
  {
   "cell_type": "code",
   "execution_count": null,
   "id": "9d5b3458-c667-44fc-9219-47fc633516b6",
   "metadata": {},
   "outputs": [],
   "source": []
  },
  {
   "cell_type": "code",
   "execution_count": 27,
   "id": "d5a12ae0-420c-4925-ac97-0c3e46c10d85",
   "metadata": {},
   "outputs": [
    {
     "name": "stdout",
     "output_type": "stream",
     "text": [
      "Observer запущен. Все запущены... MainThread\n",
      " Thread-182\n",
      "modified /root/.ipython/profile_default/history.sqlite-journal\n",
      "modified /root/.ipython/profile_default/history.sqlite\n",
      "modified /root/.ipython/profile_default/history.sqlite-journal\n",
      "modified /root/.ipython/profile_default\n",
      "deleted /root/.ipython/profile_default/history.sqlite-journal\n",
      "modified /root/.ipython/profile_default\n",
      "modified /home/feelus/snap/firefox/common/.cache/mozilla/firefox/2yebzj4a.default/cache2/entries/F7B4C542C6E1E26E0E409039C4214EF6DA3BE75F\n",
      "modified /home/feelus/snap/firefox/common/.cache/mozilla/firefox/2yebzj4a.default/cache2/entries/F7B4C542C6E1E26E0E409039C4214EF6DA3BE75F\n",
      "modified /home/feelus/snap/firefox/common/.cache/mozilla/firefox/2yebzj4a.default/cache2/entries\n",
      "modified /home/feelus/snap/firefox/common/.mozilla/firefox/2yebzj4a.default/storage-sync-v2.sqlite-wal\n",
      "modified /home/feelus/snap/firefox/common/.mozilla/firefox/2yebzj4a.default/storage/default/moz-extension+++9af6ae16-950a-4ac8-b634-8f433c84e0ae^userContextId=4294967295/idb/3647222921wleabcEoxlt-eengsairo.sqlite-wal\n",
      "modified /home/feelus/snap/firefox/common/.mozilla/firefox/2yebzj4a.default/storage/default/moz-extension+++9af6ae16-950a-4ac8-b634-8f433c84e0ae^userContextId=4294967295/idb\n",
      "created /home/feelus/pyfiles/src/files1.db-wal\n",
      "modified /home/feelus/pyfiles/src\n",
      "modified /home/feelus/pyfiles/src/files1.db-wal\n",
      "created /home/feelus/pyfiles/src/files1.db-shm\n",
      "modified /home/feelus/pyfiles/src\n",
      "modified /home/feelus/pyfiles/src/files1.db-shm\n",
      "modified /home/feelus/snap/firefox/common/.cache/mozilla/firefox/2yebzj4a.default/cache2/entries/4AA4E76C498646B899792E9A81AE4395206C9814\n",
      "modified /home/feelus/snap/firefox/common/.cache/mozilla/firefox/2yebzj4a.default/cache2/entries/4AA4E76C498646B899792E9A81AE4395206C9814\n",
      "modified /home/feelus/snap/firefox/common/.cache/mozilla/firefox/2yebzj4a.default/cache2/entries/4AA4E76C498646B899792E9A81AE4395206C9814\n",
      "modified /home/feelus/snap/firefox/common/.cache/mozilla/firefox/2yebzj4a.default/cache2/entries\n",
      "modified /home/feelus/snap/firefox/common/.cache/mozilla/firefox/2yebzj4a.default/cache2/entries/EE16810C280311A3EE8A486F7EFE7E0BD101E583\n",
      "modified /home/feelus/snap/firefox/common/.cache/mozilla/firefox/2yebzj4a.default/cache2/entries/EE16810C280311A3EE8A486F7EFE7E0BD101E583\n",
      "modified /home/feelus/snap/firefox/common/.cache/mozilla/firefox/2yebzj4a.default/cache2/entries\n",
      "modified /home/feelus/snap/firefox/common/.cache/mozilla/firefox/2yebzj4a.default/cache2/entries/F7B4C542C6E1E26E0E409039C4214EF6DA3BE75F\n",
      "modified /home/feelus/snap/firefox/common/.cache/mozilla/firefox/2yebzj4a.default/cache2/entries/F7B4C542C6E1E26E0E409039C4214EF6DA3BE75F\n",
      "modified /home/feelus/snap/firefox/common/.cache/mozilla/firefox/2yebzj4a.default/cache2/entries\n",
      "modified /home/feelus/snap/firefox/common/.mozilla/firefox/2yebzj4a.default/storage/default/moz-extension+++9af6ae16-950a-4ac8-b634-8f433c84e0ae^userContextId=4294967295/idb/3647222921wleabcEoxlt-eengsairo.sqlite-wal\n",
      "modified /home/feelus/snap/firefox/common/.mozilla/firefox/2yebzj4a.default/storage/default/moz-extension+++9af6ae16-950a-4ac8-b634-8f433c84e0ae^userContextId=4294967295/idb/3647222921wleabcEoxlt-eengsairo.sqlite-wal\n",
      "modified /home/feelus/snap/firefox/common/.mozilla/firefox/2yebzj4a.default/storage/default/moz-extension+++9af6ae16-950a-4ac8-b634-8f433c84e0ae^userContextId=4294967295/idb/3647222921wleabcEoxlt-eengsairo.sqlite-wal\n",
      "modified /home/feelus/snap/firefox/common/.mozilla/firefox/2yebzj4a.default/storage/default/moz-extension+++9af6ae16-950a-4ac8-b634-8f433c84e0ae^userContextId=4294967295/idb\n",
      "modified /home/feelus/snap/firefox/common/.mozilla/firefox/2yebzj4a.default/storage/default/moz-extension+++9af6ae16-950a-4ac8-b634-8f433c84e0ae^userContextId=4294967295/idb/3647222921wleabcEoxlt-eengsairo.sqlite-wal\n",
      "created /home/feelus/snap/firefox/common/.mozilla/firefox/2yebzj4a.default/storage/default/https+++vk.com/ls/data.sqlite-journal\n",
      "modified /home/feelus/snap/firefox/common/.mozilla/firefox/2yebzj4a.default/storage/default/https+++vk.com/ls\n",
      "modified /home/feelus/snap/firefox/common/.mozilla/firefox/2yebzj4a.default/storage/default/https+++vk.com/ls/data.sqlite-journal\n",
      "created /home/feelus/snap/firefox/common/.mozilla/firefox/2yebzj4a.default/storage/default/https+++vk.com/ls/usage-journal\n",
      "modified /home/feelus/snap/firefox/common/.mozilla/firefox/2yebzj4a.default/storage/default/https+++vk.com/ls\n",
      "modified /home/feelus/snap/firefox/common/.mozilla/firefox/2yebzj4a.default/storage/default/https+++vk.com/ls/usage-journal\n",
      "modified /home/feelus/snap/firefox/common/.mozilla/firefox/2yebzj4a.default/storage/default/https+++vk.com/ls\n",
      "modified /home/feelus/snap/firefox/common/.mozilla/firefox/2yebzj4a.default/storage/default/https+++vk.com/ls/usage\n",
      "modified /home/feelus/snap/firefox/common/.mozilla/firefox/2yebzj4a.default/storage/default/https+++vk.com/ls/usage\n",
      "modified /home/feelus/snap/firefox/common/.mozilla/firefox/2yebzj4a.default/storage/default/https+++vk.com/ls\n",
      "modified /home/feelus/snap/firefox/common/.mozilla/firefox/2yebzj4a.default/storage/default/https+++vk.com/ls/data.sqlite-journal\n",
      "modified /home/feelus/snap/firefox/common/.mozilla/firefox/2yebzj4a.default/storage/default/https+++vk.com/ls/data.sqlite-journal\n",
      "modified /home/feelus/snap/firefox/common/.mozilla/firefox/2yebzj4a.default/storage/default/https+++vk.com/ls/data.sqlite\n",
      "modified /home/feelus/snap/firefox/common/.mozilla/firefox/2yebzj4a.default/storage/default/https+++vk.com/ls/data.sqlite-journal\n",
      "modified /home/feelus/snap/firefox/common/.mozilla/firefox/2yebzj4a.default/storage/default/https+++vk.com/ls\n",
      "deleted /home/feelus/snap/firefox/common/.mozilla/firefox/2yebzj4a.default/storage/default/https+++vk.com/ls/data.sqlite-journal\n",
      "modified /home/feelus/snap/firefox/common/.mozilla/firefox/2yebzj4a.default/storage/default/https+++vk.com/ls\n",
      "deleted /home/feelus/snap/firefox/common/.mozilla/firefox/2yebzj4a.default/storage/default/https+++vk.com/ls/usage-journal\n",
      "modified /home/feelus/snap/firefox/common/.mozilla/firefox/2yebzj4a.default/storage/default/https+++vk.com/ls\n",
      "modified /home/feelus/snap/firefox/common/.cache/mozilla/firefox/2yebzj4a.default/cache2/entries/F7B4C542C6E1E26E0E409039C4214EF6DA3BE75F\n",
      "modified /home/feelus/snap/firefox/common/.cache/mozilla/firefox/2yebzj4a.default/cache2/entries/F7B4C542C6E1E26E0E409039C4214EF6DA3BE75F\n",
      "modified /home/feelus/snap/firefox/common/.cache/mozilla/firefox/2yebzj4a.default/cache2/entries\n",
      "modified /home/feelus/snap/firefox/common/.mozilla/firefox/2yebzj4a.default/storage/default/moz-extension+++9af6ae16-950a-4ac8-b634-8f433c84e0ae^userContextId=4294967295/idb/3647222921wleabcEoxlt-eengsairo.sqlite-wal\n",
      "modified /home/feelus/snap/firefox/common/.mozilla/firefox/2yebzj4a.default/storage/default/moz-extension+++9af6ae16-950a-4ac8-b634-8f433c84e0ae^userContextId=4294967295/idb\n",
      "modified /home/feelus/snap/firefox/common/.mozilla/firefox/2yebzj4a.default/storage/default/moz-extension+++9af6ae16-950a-4ac8-b634-8f433c84e0ae^userContextId=4294967295/idb/3647222921wleabcEoxlt-eengsairo.sqlite-wal\n",
      "modified /home/feelus/snap/firefox/common/.mozilla/firefox/2yebzj4a.default/storage-sync-v2.sqlite-wal\n",
      "modified /home/feelus/snap/firefox/common/.mozilla/firefox/2yebzj4a.default/cookies.sqlite-wal\n",
      "modified /home/feelus/snap/firefox/common/.mozilla/firefox/2yebzj4a.default/cookies.sqlite\n",
      "modified /home/feelus/snap/firefox/common/.mozilla/firefox/2yebzj4a.default/cookies.sqlite\n",
      "modified /home/feelus/snap/firefox/common/.mozilla/firefox/2yebzj4a.default/storage-sync-v2.sqlite-wal\n",
      "modified /home/feelus/snap/firefox/common/.mozilla/firefox/2yebzj4a.default/storage-sync-v2.sqlite-wal\n",
      "modified /home/feelus/snap/firefox/common/.mozilla/firefox/2yebzj4a.default/storage-sync-v2.sqlite-wal\n",
      "modified /home/feelus/snap/firefox/common/.mozilla/firefox/2yebzj4a.default/storage/default/moz-extension+++9af6ae16-950a-4ac8-b634-8f433c84e0ae^userContextId=4294967295/idb/3647222921wleabcEoxlt-eengsairo.sqlite\n",
      "modified /home/feelus/snap/firefox/common/.mozilla/firefox/2yebzj4a.default/storage/default/moz-extension+++9af6ae16-950a-4ac8-b634-8f433c84e0ae^userContextId=4294967295/idb/3647222921wleabcEoxlt-eengsairo.sqlite\n",
      "modified /home/feelus/snap/firefox/common/.mozilla/firefox/2yebzj4a.default/storage/default/moz-extension+++9af6ae16-950a-4ac8-b634-8f433c84e0ae^userContextId=4294967295/idb/3647222921wleabcEoxlt-eengsairo.sqlite-wal\n",
      "modified /home/feelus/snap/firefox/common/.mozilla/firefox/2yebzj4a.default/storage-sync-v2.sqlite-wal\n",
      "modified /home/feelus/snap/firefox/common/.mozilla/firefox/2yebzj4a.default/storage-sync-v2.sqlite-wal\n",
      "modified /home/feelus/snap/firefox/common/.mozilla/firefox/2yebzj4a.default/storage-sync-v2.sqlite-wal\n",
      "COMMIT 1736945779.6454732\n",
      "modified /home/feelus/snap/firefox/common/.mozilla/firefox/2yebzj4a.default/storage-sync-v2.sqlite-wal\n",
      "modified /home/feelus/snap/firefox/common/.mozilla/firefox/2yebzj4a.default/storage-sync-v2.sqlite-wal\n",
      "modified /home/feelus/snap/firefox/common/.mozilla/firefox/2yebzj4a.default/storage-sync-v2.sqlite-wal\n",
      "modified /home/feelus/snap/firefox/common/.mozilla/firefox/2yebzj4a.default/storage-sync-v2.sqlite-wal\n",
      "modified /home/feelus/snap/firefox/common/.mozilla/firefox/2yebzj4a.default/storage-sync-v2.sqlite-wal\n",
      "created /home/feelus/snap/firefox/common/.mozilla/firefox/2yebzj4a.default/storage/default/https+++vk.com/ls/data.sqlite-journal\n",
      "modified /home/feelus/snap/firefox/common/.mozilla/firefox/2yebzj4a.default/storage/default/https+++vk.com/ls\n",
      "modified /home/feelus/snap/firefox/common/.mozilla/firefox/2yebzj4a.default/storage/default/https+++vk.com/ls/data.sqlite-journal\n",
      "modified /home/feelus/snap/firefox/common/.mozilla/firefox/2yebzj4a.default/storage/default/https+++vk.com/ls/data.sqlite-journal\n",
      "created /home/feelus/snap/firefox/common/.mozilla/firefox/2yebzj4a.default/storage/default/https+++vk.com/ls/usage-journal\n",
      "modified /home/feelus/snap/firefox/common/.mozilla/firefox/2yebzj4a.default/storage/default/https+++vk.com/ls\n",
      "modified /home/feelus/snap/firefox/common/.mozilla/firefox/2yebzj4a.default/storage/default/https+++vk.com/ls/usage-journal\n",
      "modified /home/feelus/snap/firefox/common/.mozilla/firefox/2yebzj4a.default/storage/default/https+++vk.com/ls\n",
      "modified /home/feelus/snap/firefox/common/.mozilla/firefox/2yebzj4a.default/storage/default/https+++vk.com/ls/usage\n",
      "modified /home/feelus/snap/firefox/common/.mozilla/firefox/2yebzj4a.default/storage/default/https+++vk.com/ls/usage\n",
      "modified /home/feelus/snap/firefox/common/.mozilla/firefox/2yebzj4a.default/storage/default/https+++vk.com/ls\n",
      "modified /home/feelus/snap/firefox/common/.mozilla/firefox/2yebzj4a.default/storage/default/https+++vk.com/ls/data.sqlite-journal\n",
      "modified /home/feelus/snap/firefox/common/.mozilla/firefox/2yebzj4a.default/storage/default/https+++vk.com/ls/data.sqlite-journal\n",
      "modified /home/feelus/snap/firefox/common/.mozilla/firefox/2yebzj4a.default/storage/default/https+++vk.com/ls/data.sqlite\n",
      "modified /home/feelus/snap/firefox/common/.mozilla/firefox/2yebzj4a.default/storage/default/https+++vk.com/ls/data.sqlite-journal\n",
      "modified /home/feelus/snap/firefox/common/.mozilla/firefox/2yebzj4a.default/storage/default/https+++vk.com/ls\n",
      "deleted /home/feelus/snap/firefox/common/.mozilla/firefox/2yebzj4a.default/storage/default/https+++vk.com/ls/data.sqlite-journal\n",
      "modified /home/feelus/snap/firefox/common/.mozilla/firefox/2yebzj4a.default/storage/default/https+++vk.com/ls\n",
      "deleted /home/feelus/snap/firefox/common/.mozilla/firefox/2yebzj4a.default/storage/default/https+++vk.com/ls/usage-journal\n",
      "modified /home/feelus/snap/firefox/common/.mozilla/firefox/2yebzj4a.default/storage/default/https+++vk.com/ls\n",
      "modified /var/lib/systemd/timesync/clock\n",
      "moved /home/feelus/snap/firefox/common/.cache/mozilla/firefox/2yebzj4a.default/cache2/entries/5BD6F2E532FFC423441AAEB508E975210566CE55\n",
      "modified /home/feelus/snap/firefox/common/.cache/mozilla/firefox/2yebzj4a.default/cache2/entries\n",
      "modified /home/feelus/snap/firefox/common/.cache/mozilla/firefox/2yebzj4a.default/cache2/doomed\n",
      "deleted /home/feelus/snap/firefox/common/.cache/mozilla/firefox/2yebzj4a.default/cache2/doomed/1578290625\n",
      "modified /home/feelus/snap/firefox/common/.cache/mozilla/firefox/2yebzj4a.default/cache2/doomed\n",
      "modified /home/feelus/snap/firefox/common/.mozilla/firefox/2yebzj4a.default/storage-sync-v2.sqlite-wal\n",
      "modified /home/feelus/snap/firefox/common/.mozilla/firefox/2yebzj4a.default/cookies.sqlite-wal\n",
      "moved /home/feelus/snap/firefox/common/.cache/mozilla/firefox/2yebzj4a.default/cache2/entries/4C26839F5297EC72877F62B611CFA32BED8AFCE9\n",
      "modified /home/feelus/snap/firefox/common/.cache/mozilla/firefox/2yebzj4a.default/cache2/entries\n",
      "modified /home/feelus/snap/firefox/common/.cache/mozilla/firefox/2yebzj4a.default/cache2/doomed\n",
      "deleted /home/feelus/snap/firefox/common/.cache/mozilla/firefox/2yebzj4a.default/cache2/doomed/873870077\n",
      "modified /home/feelus/snap/firefox/common/.cache/mozilla/firefox/2yebzj4a.default/cache2/doomed\n",
      "modified /home/feelus/snap/firefox/common/.mozilla/firefox/2yebzj4a.default/storage-sync-v2.sqlite-wal\n",
      "modified /home/feelus/snap/firefox/common/.mozilla/firefox/2yebzj4a.default/storage-sync-v2.sqlite-wal\n",
      "modified /home/feelus/snap/firefox/common/.mozilla/firefox/2yebzj4a.default/storage-sync-v2.sqlite-wal\n",
      "modified /home/feelus/snap/firefox/common/.mozilla/firefox/2yebzj4a.default/storage-sync-v2.sqlite-wal\n",
      "COMMIT 1736945785.7572637\n",
      "modified /home/feelus/snap/firefox/common/.mozilla/firefox/2yebzj4a.default/storage/default/moz-extension+++9af6ae16-950a-4ac8-b634-8f433c84e0ae^userContextId=4294967295/idb/3647222921wleabcEoxlt-eengsairo.sqlite-wal\n",
      "modified /home/feelus/snap/firefox/common/.mozilla/firefox/2yebzj4a.default/storage/default/moz-extension+++9af6ae16-950a-4ac8-b634-8f433c84e0ae^userContextId=4294967295/idb\n",
      "modified /home/feelus/snap/firefox/common/.mozilla/firefox/2yebzj4a.default/storage/default/moz-extension+++9af6ae16-950a-4ac8-b634-8f433c84e0ae^userContextId=4294967295/idb/3647222921wleabcEoxlt-eengsairo.sqlite\n",
      "modified /home/feelus/snap/firefox/common/.mozilla/firefox/2yebzj4a.default/storage/default/moz-extension+++9af6ae16-950a-4ac8-b634-8f433c84e0ae^userContextId=4294967295/idb\n",
      "modified /home/feelus/snap/firefox/common/.mozilla/firefox/2yebzj4a.default/storage-sync-v2.sqlite-wal\n",
      "created /home/feelus/snap/firefox/common/.cache/mozilla/firefox/2yebzj4a.default/cache2/entries/6A737F6CDFF8235FB6BB543397A7744DF2530112\n",
      "modified /home/feelus/snap/firefox/common/.cache/mozilla/firefox/2yebzj4a.default/cache2/entries\n",
      "created /home/feelus/snap/firefox/common/.mozilla/firefox/2yebzj4a.default/storage/default/https+++vk.com/ls/data.sqlite-journal\n",
      "modified /home/feelus/snap/firefox/common/.mozilla/firefox/2yebzj4a.default/storage/default/https+++vk.com/ls\n",
      "modified /home/feelus/snap/firefox/common/.cache/mozilla/firefox/2yebzj4a.default/cache2/entries/6A737F6CDFF8235FB6BB543397A7744DF2530112\n",
      "modified /home/feelus/snap/firefox/common/.mozilla/firefox/2yebzj4a.default/storage/default/https+++vk.com/ls/data.sqlite-journal\n",
      "created /home/feelus/snap/firefox/common/.cache/mozilla/firefox/2yebzj4a.default/cache2/entries/72E72A977B29D924B025B39C3A07D7C16D8B2E22\n",
      "modified /home/feelus/snap/firefox/common/.cache/mozilla/firefox/2yebzj4a.default/cache2/entries\n",
      "modified /home/feelus/snap/firefox/common/.mozilla/firefox/2yebzj4a.default/storage/default/https+++vk.com/ls/data.sqlite-journal\n",
      "modified /home/feelus/snap/firefox/common/.cache/mozilla/firefox/2yebzj4a.default/cache2/entries/72E72A977B29D924B025B39C3A07D7C16D8B2E22\n",
      "created /home/feelus/snap/firefox/common/.mozilla/firefox/2yebzj4a.default/storage/default/https+++vk.com/ls/usage-journal\n",
      "modified /home/feelus/snap/firefox/common/.mozilla/firefox/2yebzj4a.default/storage/default/https+++vk.com/ls\n",
      "modified /home/feelus/snap/firefox/common/.cache/mozilla/firefox/2yebzj4a.default/cache2/entries/6A737F6CDFF8235FB6BB543397A7744DF2530112\n",
      "modified /home/feelus/snap/firefox/common/.cache/mozilla/firefox/2yebzj4a.default/cache2/entries\n",
      "modified /home/feelus/snap/firefox/common/.mozilla/firefox/2yebzj4a.default/storage/default/https+++vk.com/ls/usage-journal\n",
      "modified /home/feelus/snap/firefox/common/.mozilla/firefox/2yebzj4a.default/storage/default/https+++vk.com/ls\n",
      "modified /home/feelus/snap/firefox/common/.cache/mozilla/firefox/2yebzj4a.default/cache2/entries/72E72A977B29D924B025B39C3A07D7C16D8B2E22\n",
      "modified /home/feelus/snap/firefox/common/.cache/mozilla/firefox/2yebzj4a.default/cache2/entries\n",
      "modified /home/feelus/snap/firefox/common/.mozilla/firefox/2yebzj4a.default/storage/default/https+++vk.com/ls/usage\n",
      "modified /home/feelus/snap/firefox/common/.mozilla/firefox/2yebzj4a.default/storage/default/https+++vk.com/ls/usage\n",
      "modified /home/feelus/snap/firefox/common/.mozilla/firefox/2yebzj4a.default/storage/default/https+++vk.com/ls\n",
      "modified /home/feelus/snap/firefox/common/.mozilla/firefox/2yebzj4a.default/storage/default/https+++vk.com/ls/data.sqlite-journal\n",
      "modified /home/feelus/snap/firefox/common/.mozilla/firefox/2yebzj4a.default/storage/default/https+++vk.com/ls/data.sqlite-journal\n",
      "modified /home/feelus/snap/firefox/common/.mozilla/firefox/2yebzj4a.default/storage/default/https+++vk.com/ls/data.sqlite\n",
      "modified /home/feelus/snap/firefox/common/.mozilla/firefox/2yebzj4a.default/storage/default/https+++vk.com/ls/data.sqlite-journal\n",
      "modified /home/feelus/snap/firefox/common/.mozilla/firefox/2yebzj4a.default/storage/default/https+++vk.com/ls\n",
      "deleted /home/feelus/snap/firefox/common/.mozilla/firefox/2yebzj4a.default/storage/default/https+++vk.com/ls/data.sqlite-journal\n",
      "modified /home/feelus/snap/firefox/common/.mozilla/firefox/2yebzj4a.default/storage/default/https+++vk.com/ls\n",
      "deleted /home/feelus/snap/firefox/common/.mozilla/firefox/2yebzj4a.default/storage/default/https+++vk.com/ls/usage-journal\n",
      "modified /home/feelus/snap/firefox/common/.mozilla/firefox/2yebzj4a.default/storage/default/https+++vk.com/ls\n",
      "modified /home/feelus/snap/firefox/common/.mozilla/firefox/2yebzj4a.default/storage-sync-v2.sqlite-wal\n",
      "moved /home/feelus/snap/firefox/common/.mozilla/firefox/2yebzj4a.default/sessionstore-backups/recovery.jsonlz4\n",
      "modified /home/feelus/snap/firefox/common/.mozilla/firefox/2yebzj4a.default/sessionstore-backups\n",
      "created /home/feelus/snap/firefox/common/.mozilla/firefox/2yebzj4a.default/sessionstore-backups/recovery.jsonlz4.tmp\n",
      "modified /home/feelus/snap/firefox/common/.mozilla/firefox/2yebzj4a.default/sessionstore-backups\n",
      "modified /home/feelus/snap/firefox/common/.mozilla/firefox/2yebzj4a.default/sessionstore-backups/recovery.jsonlz4.tmp\n",
      "modified /home/feelus/snap/firefox/common/.mozilla/firefox/2yebzj4a.default/sessionstore-backups/recovery.jsonlz4.tmp\n",
      "modified /home/feelus/snap/firefox/common/.mozilla/firefox/2yebzj4a.default/sessionstore-backups\n",
      "moved /home/feelus/snap/firefox/common/.mozilla/firefox/2yebzj4a.default/sessionstore-backups/recovery.jsonlz4.tmp\n",
      "modified /home/feelus/snap/firefox/common/.mozilla/firefox/2yebzj4a.default/sessionstore-backups\n",
      "moved /home/feelus/snap/firefox/common/.cache/mozilla/firefox/2yebzj4a.default/cache2/entries/6A737F6CDFF8235FB6BB543397A7744DF2530112\n",
      "modified /home/feelus/snap/firefox/common/.cache/mozilla/firefox/2yebzj4a.default/cache2/entries\n",
      "modified /home/feelus/snap/firefox/common/.cache/mozilla/firefox/2yebzj4a.default/cache2/doomed\n",
      "deleted /home/feelus/snap/firefox/common/.cache/mozilla/firefox/2yebzj4a.default/cache2/doomed/345448099\n",
      "modified /home/feelus/snap/firefox/common/.cache/mozilla/firefox/2yebzj4a.default/cache2/doomed\n",
      "modified /home/feelus/snap/firefox/common/.mozilla/firefox/2yebzj4a.default/storage-sync-v2.sqlite-wal\n",
      "modified /home/feelus/snap/firefox/common/.mozilla/firefox/2yebzj4a.default/storage-sync-v2.sqlite-wal\n",
      "modified /home/feelus/snap/firefox/common/.mozilla/firefox/2yebzj4a.default/storage-sync-v2.sqlite-wal\n",
      "modified /home/feelus/snap/firefox/common/.mozilla/firefox/2yebzj4a.default/storage-sync-v2.sqlite-wal\n",
      "modified /home/feelus/snap/firefox/common/.mozilla/firefox/2yebzj4a.default/storage-sync-v2.sqlite-wal\n",
      "COMMIT 1736945791.8123057\n",
      "moved /home/feelus/snap/firefox/common/.cache/mozilla/firefox/2yebzj4a.default/cache2/entries/8981DFE58FA273E49BBD34C3AB5791D443C1010F\n",
      "modified /home/feelus/snap/firefox/common/.cache/mozilla/firefox/2yebzj4a.default/cache2/entries\n",
      "modified /home/feelus/snap/firefox/common/.cache/mozilla/firefox/2yebzj4a.default/cache2/doomed\n",
      "deleted /home/feelus/snap/firefox/common/.cache/mozilla/firefox/2yebzj4a.default/cache2/doomed/1853433027\n",
      "modified /home/feelus/snap/firefox/common/.cache/mozilla/firefox/2yebzj4a.default/cache2/doomed\n",
      "modified /home/feelus/snap/firefox/common/.mozilla/firefox/2yebzj4a.default/storage-sync-v2.sqlite-wal\n",
      "created /home/feelus/snap/firefox/common/.cache/mozilla/firefox/2yebzj4a.default/cache2/entries/40E970FC28C9248E5A5D98F6AD4A32951D1C4D98\n",
      "modified /home/feelus/snap/firefox/common/.cache/mozilla/firefox/2yebzj4a.default/cache2/entries\n",
      "created /home/feelus/snap/firefox/common/.mozilla/firefox/2yebzj4a.default/storage/default/https+++vk.com/ls/data.sqlite-journal\n",
      "modified /home/feelus/snap/firefox/common/.mozilla/firefox/2yebzj4a.default/storage/default/https+++vk.com/ls\n",
      "modified /home/feelus/snap/firefox/common/.mozilla/firefox/2yebzj4a.default/storage/default/https+++vk.com/ls/data.sqlite-journal\n",
      "modified /home/feelus/snap/firefox/common/.cache/mozilla/firefox/2yebzj4a.default/cache2/entries/40E970FC28C9248E5A5D98F6AD4A32951D1C4D98\n",
      "modified /home/feelus/snap/firefox/common/.mozilla/firefox/2yebzj4a.default/storage/default/https+++vk.com/ls/data.sqlite-journal\n",
      "modified /home/feelus/snap/firefox/common/.cache/mozilla/firefox/2yebzj4a.default/cache2/entries/40E970FC28C9248E5A5D98F6AD4A32951D1C4D98\n",
      "modified /home/feelus/snap/firefox/common/.mozilla/firefox/2yebzj4a.default/storage/default/https+++vk.com/ls/data.sqlite-journal\n",
      "modified /home/feelus/snap/firefox/common/.cache/mozilla/firefox/2yebzj4a.default/cache2/entries/40E970FC28C9248E5A5D98F6AD4A32951D1C4D98\n",
      "modified /home/feelus/snap/firefox/common/.cache/mozilla/firefox/2yebzj4a.default/cache2/entries\n",
      "modified /home/feelus/snap/firefox/common/.mozilla/firefox/2yebzj4a.default/storage/default/https+++vk.com/ls/data.sqlite-journal\n",
      "created /home/feelus/snap/firefox/common/.mozilla/firefox/2yebzj4a.default/storage/default/https+++vk.com/ls/usage-journal\n",
      "modified /home/feelus/snap/firefox/common/.mozilla/firefox/2yebzj4a.default/storage/default/https+++vk.com/ls\n",
      "modified /home/feelus/snap/firefox/common/.mozilla/firefox/2yebzj4a.default/storage/default/https+++vk.com/ls/usage-journal\n",
      "modified /home/feelus/snap/firefox/common/.mozilla/firefox/2yebzj4a.default/storage/default/https+++vk.com/ls\n",
      "modified /home/feelus/snap/firefox/common/.mozilla/firefox/2yebzj4a.default/storage/default/https+++vk.com/ls/usage\n",
      "modified /home/feelus/snap/firefox/common/.mozilla/firefox/2yebzj4a.default/storage/default/https+++vk.com/ls/usage\n",
      "modified /home/feelus/snap/firefox/common/.mozilla/firefox/2yebzj4a.default/storage/default/https+++vk.com/ls\n",
      "modified /home/feelus/snap/firefox/common/.mozilla/firefox/2yebzj4a.default/storage/default/https+++vk.com/ls/data.sqlite-journal\n",
      "modified /home/feelus/snap/firefox/common/.mozilla/firefox/2yebzj4a.default/storage/default/https+++vk.com/ls/data.sqlite-journal\n",
      "modified /home/feelus/snap/firefox/common/.mozilla/firefox/2yebzj4a.default/storage/default/https+++vk.com/ls/data.sqlite\n",
      "moved /home/feelus/snap/firefox/common/.cache/mozilla/firefox/2yebzj4a.default/cache2/entries/EBF779EEEC2C01C65138DAD6806E0D3B6EDCDD1B\n",
      "modified /home/feelus/snap/firefox/common/.cache/mozilla/firefox/2yebzj4a.default/cache2/entries\n",
      "modified /home/feelus/snap/firefox/common/.cache/mozilla/firefox/2yebzj4a.default/cache2/doomed\n",
      "deleted /home/feelus/snap/firefox/common/.cache/mozilla/firefox/2yebzj4a.default/cache2/doomed/82558618\n",
      "modified /home/feelus/snap/firefox/common/.cache/mozilla/firefox/2yebzj4a.default/cache2/doomed\n",
      "modified /home/feelus/snap/firefox/common/.mozilla/firefox/2yebzj4a.default/storage/default/https+++vk.com/ls/data.sqlite-journal\n",
      "modified /home/feelus/snap/firefox/common/.mozilla/firefox/2yebzj4a.default/storage/default/https+++vk.com/ls\n",
      "deleted /home/feelus/snap/firefox/common/.mozilla/firefox/2yebzj4a.default/storage/default/https+++vk.com/ls/data.sqlite-journal\n",
      "modified /home/feelus/snap/firefox/common/.mozilla/firefox/2yebzj4a.default/storage/default/https+++vk.com/ls\n",
      "deleted /home/feelus/snap/firefox/common/.mozilla/firefox/2yebzj4a.default/storage/default/https+++vk.com/ls/usage-journal\n",
      "modified /home/feelus/snap/firefox/common/.mozilla/firefox/2yebzj4a.default/storage/default/https+++vk.com/ls\n",
      "modified /home/feelus/snap/firefox/common/.cache/mozilla/firefox/2yebzj4a.default/cache2/entries/FE766096FAB983335E299352D305F153E86F1611\n",
      "modified /home/feelus/snap/firefox/common/.cache/mozilla/firefox/2yebzj4a.default/cache2/entries/FE766096FAB983335E299352D305F153E86F1611\n",
      "modified /home/feelus/snap/firefox/common/.cache/mozilla/firefox/2yebzj4a.default/cache2/entries\n",
      "created /home/feelus/snap/firefox/common/.mozilla/firefox/2yebzj4a.default/settings/data.safe.tmp\n",
      "modified /home/feelus/snap/firefox/common/.mozilla/firefox/2yebzj4a.default/settings\n",
      "modified /home/feelus/snap/firefox/common/.mozilla/firefox/2yebzj4a.default/settings/data.safe.tmp\n",
      "modified /home/feelus/snap/firefox/common/.mozilla/firefox/2yebzj4a.default/settings/data.safe.tmp\n",
      "modified /home/feelus/snap/firefox/common/.mozilla/firefox/2yebzj4a.default/settings\n",
      "moved /home/feelus/snap/firefox/common/.mozilla/firefox/2yebzj4a.default/settings/data.safe.tmp\n",
      "modified /home/feelus/snap/firefox/common/.mozilla/firefox/2yebzj4a.default/settings\n",
      "modified /home/feelus/snap/firefox/common/.mozilla/firefox/2yebzj4a.default/storage-sync-v2.sqlite-wal\n"
     ]
    },
    {
     "name": "stdin",
     "output_type": "stream",
     "text": [
      " q\n"
     ]
    },
    {
     "name": "stdout",
     "output_type": "stream",
     "text": [
      "Observer остановлен.  Thread-182\n"
     ]
    }
   ],
   "source": [
    "# взаимодействуем с ФС\n",
    "from watchdog.events import FileSystemEvent, FileSystemEventHandler\n",
    "from watchdog.observers import Observer\n",
    "import threading\n",
    "lock = threading.Lock()\n",
    "from time import time, sleep\n",
    "\n",
    "# todo список полностью игнорируемых путей\n",
    "if 1:\n",
    "    def modified(src_path, is_directory, is_synthetic, cursor):\n",
    "        print('modified',src_path)\n",
    "    \n",
    "    def created(src_path, is_directory, is_synthetic, cursor):\n",
    "        print('created',src_path)\n",
    "    \n",
    "    def deleted(src_path, is_directory, s_synthetic, cursor):\n",
    "        print('deleted',src_path)\n",
    "    \n",
    "    def moved(src_path, dest_path, is_directory, s_synthetic, cursor):\n",
    "        print('moved',src_path)\n",
    "    \n",
    "class MyEventHandler(FileSystemEventHandler):\n",
    "    def update(self):\n",
    "        if time()-self.last_update>60:\n",
    "            if self.connection.in_transaction:\n",
    "                self.cursor.execute('COMMIT')\n",
    "                print('COMMIT',self.last_update)\n",
    "            self.last_update = time()\n",
    "    def on_any_event(self, event: FileSystemEvent) -> None:\n",
    "        if event.event_type=='closed_no_write':\n",
    "            pass\n",
    "        elif event.event_type=='opened':\n",
    "            pass\n",
    "        elif event.event_type=='modified' or event.event_type=='closed':\n",
    "            try:\n",
    "                stat = os.stat(event.src_path,follow_symlinks=False)\n",
    "                with lock:\n",
    "                    modified(event.src_path, stat, event.is_directory, event.is_synthetic, self.cursor)\n",
    "                    self.update()\n",
    "            except FileNotFoundError as e:\n",
    "                print('error in modified event:', e, event.src_path, event.is_directory, event.is_synthetic)\n",
    "        elif event.event_type=='created':\n",
    "            try:\n",
    "                stat = os.stat(event.src_path,follow_symlinks=False)\n",
    "                with lock:\n",
    "                    created(event.src_path, stat, event.is_directory, event.is_synthetic, self.cursor)\n",
    "                    self.update()\n",
    "            except FileNotFoundError as e:\n",
    "                print('error in created event:', e, event.src_path, event.is_directory, event.is_synthetic)\n",
    "        elif event.event_type=='deleted':\n",
    "            with lock:\n",
    "                deleted(event.src_path, event.is_directory, event.is_synthetic, self.cursor)\n",
    "                self.update()\n",
    "        elif event.event_type=='moved':\n",
    "            try:\n",
    "                stat = os.stat(event.dest_path,follow_symlinks=False)\n",
    "            except FileNotFoundError:\n",
    "                stat = make_dict(st_mode=None,st_ino=None,st_dev=None,st_nlink=None,st_uid=None,st_gid=None,st_size=None,\n",
    "                       st_atime=None,st_mtime=None,st_ctime=None,st_blocks=None,st_blksize=None)\n",
    "            with lock:\n",
    "                moved(event.src_path, event.dest_path, stat, event.is_directory, event.is_synthetic, self.cursor)\n",
    "                self.update()\n",
    "        else:\n",
    "            raise Exception(event)\n",
    "            \n",
    "class MyObserver(Observer):\n",
    "    def __init__(self, event_handler):\n",
    "        super().__init__()\n",
    "        self.event_handler = event_handler\n",
    "\n",
    "    def run(self):\n",
    "        self.on_observer_start()  # Вызываем функцию при старте и передаем переменную в обработчик\n",
    "        try:\n",
    "            super().run()  # Запускаем стандартный обработчик\n",
    "        finally:\n",
    "            self.on_observer_stop()  # Вызываем функцию при завершении\n",
    "\n",
    "    def on_observer_start(self):\n",
    "        print(\"Observer запущен. \", threading.current_thread().name)\n",
    "\n",
    "        self.event_handler.connection = sqlite3.connect(FILES_DB)\n",
    "        self.event_handler.cursor = self.event_handler.connection.cursor()    \n",
    "        self.event_handler.cursor.execute(\"PRAGMA journal_mode=WAL;\")\n",
    "\n",
    "        self.event_handler.last_update = time()\n",
    "\n",
    "    def on_observer_stop(self):\n",
    "        self.event_handler.connection.commit()\n",
    "        print(\"Observer остановлен. \", threading.current_thread().name)\n",
    "\n",
    "if __name__ == \"__main__\":\n",
    "    def observe(root_dirs):\n",
    "        event_handler = MyEventHandler()  # Создаем обработчик с временным значением shared_data\n",
    "        observer = MyObserver(event_handler)\n",
    "\n",
    "        for dr in root_dirs:\n",
    "            observer.schedule(event_handler, '/'+dr, recursive=True)\n",
    "        observer.start()\n",
    "        return observer\n",
    "\n",
    "    observer = observe(get_root_dirs())\n",
    "\n",
    "    print(\"Все запущены...\", threading.current_thread().name)\n",
    "\n",
    "    try:\n",
    "        while True:\n",
    "            x = input()\n",
    "            if x == 'q':\n",
    "                break\n",
    "            print(x)\n",
    "    finally:\n",
    "        observer.stop()  # Останавливаем Observer\n",
    "        observer.join()  # Ждем завершения потока\n"
   ]
  },
  {
   "cell_type": "code",
   "execution_count": null,
   "id": "e7652468-e4f0-4143-aae5-afdc59f12d92",
   "metadata": {},
   "outputs": [],
   "source": []
  },
  {
   "cell_type": "code",
   "execution_count": null,
   "id": "2eb3b10e-2970-4b45-9ad8-c682618f6211",
   "metadata": {},
   "outputs": [],
   "source": []
  },
  {
   "cell_type": "code",
   "execution_count": 20,
   "id": "e925b186-ef3c-47c5-b733-fcfe9cea62fc",
   "metadata": {},
   "outputs": [],
   "source": [
    "f = open('test','w')"
   ]
  },
  {
   "cell_type": "code",
   "execution_count": 21,
   "id": "585e5c10-5cb3-4398-82de-0db6b358642c",
   "metadata": {},
   "outputs": [],
   "source": [
    "f.close()"
   ]
  },
  {
   "cell_type": "code",
   "execution_count": 22,
   "id": "5a6db225-6e1d-43b2-86df-2344de70f84a",
   "metadata": {},
   "outputs": [],
   "source": [
    "connection = sqlite3.connect('test.db')\n"
   ]
  },
  {
   "cell_type": "code",
   "execution_count": 23,
   "id": "068aa1fb-c4c6-4f06-ac6d-0324cfb093f4",
   "metadata": {},
   "outputs": [],
   "source": [
    "connection.close()"
   ]
  },
  {
   "cell_type": "code",
   "execution_count": 24,
   "id": "88860890-eedc-4f6a-adbf-379b95e48a19",
   "metadata": {},
   "outputs": [],
   "source": [
    "with sqlite3.connect('test.db') as connection:\n",
    "    pass"
   ]
  },
  {
   "cell_type": "code",
   "execution_count": null,
   "id": "7a9a6e0f-7899-44d7-8400-b60accd97bd4",
   "metadata": {},
   "outputs": [],
   "source": []
  },
  {
   "cell_type": "code",
   "execution_count": 22,
   "id": "1daf79f1-6441-4eea-b743-1a968591a706",
   "metadata": {},
   "outputs": [
    {
     "data": {
      "text/plain": [
       "os.stat_result(st_mode=16893, st_ino=1318666, st_dev=2052, st_nlink=4, st_uid=1000, st_gid=1000, st_size=4096, st_atime=1737211130, st_mtime=1737211130, st_ctime=1737211130)"
      ]
     },
     "execution_count": 22,
     "metadata": {},
     "output_type": "execute_result"
    }
   ],
   "source": [
    "os.stat('.')"
   ]
  },
  {
   "cell_type": "code",
   "execution_count": 23,
   "id": "6670533c-daa2-43d7-8980-a11596d4aba4",
   "metadata": {},
   "outputs": [
    {
     "data": {
      "text/plain": [
       "os.stat_result(st_mode=41471, st_ino=12, st_dev=2052, st_nlink=1, st_uid=0, st_gid=0, st_size=7, st_atime=1737177301, st_mtime=1713791283, st_ctime=1729561328)"
      ]
     },
     "execution_count": 23,
     "metadata": {},
     "output_type": "execute_result"
    }
   ],
   "source": [
    "os.stat('/bin',follow_symlinks=False)"
   ]
  },
  {
   "cell_type": "code",
   "execution_count": 26,
   "id": "fce34747-5935-4927-8078-7a1de75428b8",
   "metadata": {},
   "outputs": [
    {
     "data": {
      "text/plain": [
       "'usr/bin'"
      ]
     },
     "execution_count": 26,
     "metadata": {},
     "output_type": "execute_result"
    }
   ],
   "source": [
    "os.readlink('/bin')"
   ]
  },
  {
   "cell_type": "code",
   "execution_count": 27,
   "id": "06ba1841-8c69-46e1-98cc-9e6e491988d3",
   "metadata": {},
   "outputs": [
    {
     "data": {
      "text/plain": [
       "'1691fc18f126cb116505fa62c87ba7ae'"
      ]
     },
     "execution_count": 27,
     "metadata": {},
     "output_type": "execute_result"
    }
   ],
   "source": [
    "hashstr = hashlib.md5(open('files.db','rb').read()).hexdigest()\n",
    "hashstr"
   ]
  },
  {
   "cell_type": "code",
   "execution_count": 28,
   "id": "f8bfc6c3-9fd2-4cab-98a1-fc1e70f78206",
   "metadata": {},
   "outputs": [
    {
     "data": {
      "text/plain": [
       "'00000000000000000000000000000000'"
      ]
     },
     "execution_count": 28,
     "metadata": {},
     "output_type": "execute_result"
    }
   ],
   "source": [
    "hex( int(hashstr, 16) ^ int(hashstr, 16) )[2:].zfill(32)"
   ]
  },
  {
   "cell_type": "code",
   "execution_count": 29,
   "id": "6c829244-9ac9-434c-afb9-284c03f47bca",
   "metadata": {},
   "outputs": [
    {
     "data": {
      "text/plain": [
       "2"
      ]
     },
     "execution_count": 29,
     "metadata": {},
     "output_type": "execute_result"
    }
   ],
   "source": [
    "len(os.listdir('/home'))"
   ]
  },
  {
   "cell_type": "code",
   "execution_count": 30,
   "id": "613bf919-b53a-4b68-b024-00c309fb1c47",
   "metadata": {},
   "outputs": [
    {
     "data": {
      "text/plain": [
       "'0b1010000000000000'"
      ]
     },
     "execution_count": 30,
     "metadata": {},
     "output_type": "execute_result"
    }
   ],
   "source": [
    "bin(STAT.S_IFLNK) # 1010_0000_0000_0000"
   ]
  },
  {
   "cell_type": "code",
   "execution_count": 31,
   "id": "763c6bd4-ac73-42aa-b3f4-68d6895b395d",
   "metadata": {},
   "outputs": [
    {
     "data": {
      "text/plain": [
       "'0b100000000000000'"
      ]
     },
     "execution_count": 31,
     "metadata": {},
     "output_type": "execute_result"
    }
   ],
   "source": [
    "bin(STAT.S_IFDIR) # 0100_0000_0000_0000"
   ]
  },
  {
   "cell_type": "code",
   "execution_count": 32,
   "id": "815389e8-32b2-462f-9714-6f93077ba747",
   "metadata": {},
   "outputs": [
    {
     "data": {
      "text/plain": [
       "'0b1000000000000000'"
      ]
     },
     "execution_count": 32,
     "metadata": {},
     "output_type": "execute_result"
    }
   ],
   "source": [
    "bin(STAT.S_IFREG) # 1000_0000_0000_0000"
   ]
  },
  {
   "cell_type": "code",
   "execution_count": 33,
   "id": "961a3951-4491-4bc4-966a-6cdb8a2f2919",
   "metadata": {},
   "outputs": [
    {
     "name": "stdout",
     "output_type": "stream",
     "text": [
      "0b100000000000000\n",
      "0b10000000000000\n",
      "0b110000000000000\n",
      "0b1000000000000000\n",
      "0b1000000000000\n",
      "0b1010000000000000\n",
      "0b1100000000000000\n",
      "0b0\n"
     ]
    }
   ],
   "source": [
    "print(bin(STAT.S_IFDIR))\n",
    "print(bin(STAT.S_IFCHR))\n",
    "print(bin(STAT.S_IFBLK))\n",
    "print(bin(STAT.S_IFREG))\n",
    "print(bin(STAT.S_IFIFO))\n",
    "print(bin(STAT.S_IFLNK))\n",
    "print(bin(STAT.S_IFSOCK))\n",
    "print(bin(STAT.S_IFDOOR))"
   ]
  }
 ],
 "metadata": {
  "kernelspec": {
   "display_name": "Python 3 (ipykernel)",
   "language": "python",
   "name": "python3"
  },
  "language_info": {
   "codemirror_mode": {
    "name": "ipython",
    "version": 3
   },
   "file_extension": ".py",
   "mimetype": "text/x-python",
   "name": "python",
   "nbconvert_exporter": "python",
   "pygments_lexer": "ipython3",
   "version": "3.12.3"
  }
 },
 "nbformat": 4,
 "nbformat_minor": 5
}
