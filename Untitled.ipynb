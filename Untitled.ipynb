{
 "cells": [
  {
   "cell_type": "code",
   "execution_count": 1,
   "id": "50fef2e5-f781-433b-86a4-b0ba84d52aed",
   "metadata": {},
   "outputs": [],
   "source": [
    "import os\n",
    "import stat as STAT\n",
    "import sqlite3\n",
    "from tqdm import tqdm\n",
    "import hashlib\n",
    "from time import time\n",
    "\n",
    "# cur_dirs:type\n",
    "MFILE = 0\n",
    "MDIR = 1\n",
    "MLINK = 2\n",
    "MOTHER = 3 # встречаются всякие сокеты, именованные каналы. Не смотря на то, что в /sys, /dev, /proc, /run - не лезем\n",
    "\n",
    "# cur_dirs:modified\n",
    "# 1 - modified\n",
    "# 0 - not modified\n",
    "\n",
    "class AttrDict(dict):\n",
    "    def __getattr__(self, key):\n",
    "        if key not in self:\n",
    "            raise AttributeError(key) # essential for testing by hasattr\n",
    "        return self[key]\n",
    "    def __setattr__(self, key, value):\n",
    "        self[key] = value\n",
    "def make_dict(**kwargs):\n",
    "    return AttrDict(kwargs)"
   ]
  },
  {
   "cell_type": "code",
   "execution_count": 2,
   "id": "7a63b47a-c9be-4a75-9c46-9822617e64bb",
   "metadata": {},
   "outputs": [],
   "source": [
    "def is_link(mode): return STAT.S_ISLNK(mode)\n",
    "def is_dir(mode):  return STAT.S_ISDIR(mode) \n",
    "def is_file(mode): return STAT.S_ISREG(mode) \n",
    "def is_other(mode):return STAT.S_ISCHR(mode) or STAT.S_ISBLK(mode) or\\\n",
    "                    STAT.S_ISFIFO(mode) or STAT.S_ISSOCK(mode) or\\\n",
    "                    STAT.S_ISDOOR(mode) or STAT.S_ISPORT(mode) or\\\n",
    "                    STAT.S_ISWHT(mode) \n",
    "def simple_type(mode):\n",
    "    typ = MLINK if STAT.S_ISLNK(mode) else\\\n",
    "        MDIR if STAT.S_ISDIR(mode) else\\\n",
    "        MFILE if STAT.S_ISREG(mode) else\\\n",
    "        MOTHER if STAT.S_ISCHR(mode) or STAT.S_ISBLK(mode) or\\\n",
    "            STAT.S_ISFIFO(mode) or STAT.S_ISSOCK(mode) or\\\n",
    "            STAT.S_ISDOOR(mode) or STAT.S_ISPORT(mode) or\\\n",
    "            STAT.S_ISWHT(mode) else \\\n",
    "        None\n",
    "    if typ is None:\n",
    "        raise Exception('unknown type')\n",
    "    return typ\n",
    " "
   ]
  },
  {
   "cell_type": "code",
   "execution_count": 3,
   "id": "ca2394c7-5910-4818-baa2-d909b68eadcc",
   "metadata": {},
   "outputs": [],
   "source": [
    "# получить список корневых папок для отслеживания\n",
    "def get_root_dirs():\n",
    "    dirs = []\n",
    "    for rd in os.listdir(path='/'):\n",
    "        if rd in ['media','cdrom','mnt','proc','sys','dev','run']:\n",
    "            continue\n",
    "        mode = os.stat('/'+rd,follow_symlinks=False).st_mode\n",
    "        if STAT.S_ISDIR(mode) and not STAT.S_ISLNK(mode):\n",
    "            dirs.append(rd)\n",
    "    return dirs\n"
   ]
  },
  {
   "cell_type": "code",
   "execution_count": 4,
   "id": "4c77fd9d-d467-41b5-bb35-d1c27d972f61",
   "metadata": {},
   "outputs": [
    {
     "data": {
      "text/plain": [
       "['srv',\n",
       " 'bin.usr-is-merged',\n",
       " 'home',\n",
       " 'tmp',\n",
       " 'etc',\n",
       " 'boot',\n",
       " 'var',\n",
       " 'sbin.usr-is-merged',\n",
       " 'snap',\n",
       " 'root',\n",
       " 'lost+found',\n",
       " 'usr',\n",
       " 'opt',\n",
       " 'lib.usr-is-merged']"
      ]
     },
     "execution_count": 4,
     "metadata": {},
     "output_type": "execute_result"
    }
   ],
   "source": [
    "get_root_dirs()"
   ]
  },
  {
   "cell_type": "code",
   "execution_count": 5,
   "id": "97067d8f-7f43-4ae5-9b9d-81642ac340e6",
   "metadata": {},
   "outputs": [],
   "source": [
    "def path2ids(path,cursor):\n",
    "    ids = []\n",
    "    cur_id = 0\n",
    "    for name in path.split('/'):\n",
    "        if name=='': continue\n",
    "        n = cursor.execute('SELECT id FROM cur_dirs WHERE parent_id = ? AND name = ?',(cur_id,name)).fetchone()\n",
    "        if n is None:\n",
    "            return ids+[None]\n",
    "            #raise Exception(f\"can't find {name} in {cur_id}\")\n",
    "        cur_id = n[0]\n",
    "        ids.append(cur_id)\n",
    "    return ids\n",
    "    "
   ]
  },
  {
   "cell_type": "code",
   "execution_count": 6,
   "id": "79c9cde0-6563-47c6-99dd-895c42f1c7cb",
   "metadata": {},
   "outputs": [],
   "source": [
    "def id2path(fid,cursor):\n",
    "    path = ''\n",
    "    while fid!=0:\n",
    "        n = cursor.execute('SELECT parent_id, name FROM cur_dirs WHERE id = ? ',(fid,)).fetchone()\n",
    "        assert n is not None\n",
    "        path = '/'+n[1]+path\n",
    "        fid = n[0]\n",
    "    return path"
   ]
  },
  {
   "cell_type": "code",
   "execution_count": 30,
   "id": "e6df4af1-7bc0-478a-9ed7-f576a66ca9f2",
   "metadata": {},
   "outputs": [],
   "source": [
    "def is_modified(fid, cursor):\n",
    "    n = cursor.execute('SELECT modified FROM cur_dirs WHERE id = ?',(fid,)).fetchone()\n",
    "    if n is None: raise Exception(f\"can't find fid {fid}\")\n",
    "    return n[0]==1\n",
    "\n",
    "def set_modified(fid, cursor):\n",
    "    if fid==0: return\n",
    "    n = cursor.execute('SELECT parent_id, modified FROM cur_dirs WHERE id = ?',(fid,)).fetchone()\n",
    "    if n is None: raise Exception(f\"can't find fid {fid}\")\n",
    "    if n[1]==0:\n",
    "        #print('set_modified', fid)\n",
    "        cursor.execute('UPDATE cur_dirs SET modified = 1 WHERE id = ?',(fid,))\n",
    "        set_modified(n[0], cursor)\n",
    "    "
   ]
  },
  {
   "cell_type": "code",
   "execution_count": 8,
   "id": "c27fd561-a110-467f-a98d-bc80b0a28420",
   "metadata": {},
   "outputs": [],
   "source": [
    "if 0:\n",
    "    CON = sqlite3.connect('files1.db')\n",
    "    ROOT_DIRS = get_root_dirs()\n",
    "if 1:\n",
    "    CON = sqlite3.connect('files2.db')\n",
    "    ROOT_DIRS = [os.getcwd()]"
   ]
  },
  {
   "cell_type": "code",
   "execution_count": 45,
   "id": "382be082-bc1d-404b-b14d-58652e620200",
   "metadata": {},
   "outputs": [],
   "source": [
    "def ls(fid):\n",
    "    print(('parent_id','name','id','type','modified'),\n",
    "          ('id','type',\n",
    "           'st_mode','t_ino','st_dev','st_nlink','st_uid','st_gid','st_size','st_atime','st_mtime','st_ctime','st_blocks','st_blksize',\n",
    "            'data','owner'))\n",
    "    print('----------------------')\n",
    "    with CON:\n",
    "        if type(fid)is str:\n",
    "            fid = path2ids(fid,CON)[-1]\n",
    "        n = CON.execute('SELECT * FROM cur_dirs WHERE parent_id = ?',(fid,)).fetchall()\n",
    "        for t in n:\n",
    "            print(t,CON.execute('SELECT * FROM cur_stat WHERE id = ?',(t[2],)).fetchone())\n",
    "        "
   ]
  },
  {
   "cell_type": "code",
   "execution_count": 10,
   "id": "627b4da8-c0f9-4096-9a95-fb591f1b5e12",
   "metadata": {},
   "outputs": [
    {
     "data": {
      "text/plain": [
       "'/home/feelus/pyfiles/src'"
      ]
     },
     "execution_count": 10,
     "metadata": {},
     "output_type": "execute_result"
    }
   ],
   "source": [
    "os.getcwd()"
   ]
  },
  {
   "cell_type": "code",
   "execution_count": 11,
   "id": "2fedf964-40d5-485e-b3b0-e3cdf50ea23e",
   "metadata": {},
   "outputs": [],
   "source": [
    "def check_db_exist():\n",
    "    with CON:\n",
    "        tables = list(CON.execute(\"SELECT name FROM sqlite_master\").fetchall())\n",
    "        print(tables)\n",
    "        return ('cur_dirs',) in tables"
   ]
  },
  {
   "cell_type": "code",
   "execution_count": 12,
   "id": "c7847fb0-9558-485a-af68-3a07d294f1ff",
   "metadata": {},
   "outputs": [
    {
     "name": "stdout",
     "output_type": "stream",
     "text": [
      "[]\n"
     ]
    },
    {
     "data": {
      "text/plain": [
       "True"
      ]
     },
     "execution_count": 12,
     "metadata": {},
     "output_type": "execute_result"
    }
   ],
   "source": [
    "INIT_MODE = not check_db_exist()\n",
    "INIT_MODE"
   ]
  },
  {
   "cell_type": "code",
   "execution_count": 14,
   "id": "6941ac37-889a-4e7c-a6a7-1566cd8185f4",
   "metadata": {},
   "outputs": [],
   "source": [
    "if not INIT_MODE:\n",
    "    with CON:\n",
    "        print(CON.execute('SELECT * FROM cur_dirs').fetchall()[:100])"
   ]
  },
  {
   "cell_type": "code",
   "execution_count": 15,
   "id": "bf0cc3fe-f70c-4ef4-8410-7069997d1f2d",
   "metadata": {},
   "outputs": [],
   "source": [
    "def create_root(path,cursor):\n",
    "    ids = path2ids(path,cursor)\n",
    "    assert ids[-1] is None\n",
    "    fid = 0 if len(ids)==1 else ids[-2]\n",
    "\n",
    "    # рассчитываем, что src_path - обсолютный путь, не симлинк, не содержит // типа '/a//b/c'\n",
    "    path = path.split('/')\n",
    "\n",
    "    #print(ids,fid,path)\n",
    "    for name in path[len(ids):-1]:\n",
    "        cursor.execute('INSERT INTO cur_dirs (parent_id, name, modified, type) VALUES (?, ?, 2, ?)',(fid, name, MDIR))\n",
    "        (fid,) = cursor.execute('SELECT id FROM cur_dirs WHERE parent_id =? AND name=?',(fid,name)).fetchone()\n",
    "    cursor.execute('INSERT INTO cur_dirs (parent_id, name, modified, type) VALUES (?, ?, 0, ?)',(fid, path[-1], MDIR))\n",
    "    (fid,) = cursor.execute('SELECT id FROM cur_dirs WHERE parent_id =? AND name=?',(fid,path[-1])).fetchone()\n",
    "    return fid\n"
   ]
  },
  {
   "cell_type": "code",
   "execution_count": 16,
   "id": "a84a3f15-760f-4033-9c4f-46c99f4d6133",
   "metadata": {},
   "outputs": [
    {
     "name": "stdout",
     "output_type": "stream",
     "text": [
      "[(0, 'boot', 1, 1, 0)]\n",
      "[(0, 'boot', 1, 1, 0), (0, 'home', 2, 1, 0)]\n"
     ]
    }
   ],
   "source": [
    "if INIT_MODE:\n",
    "    with CON:\n",
    "        if CON.in_transaction:\n",
    "            CON.execute('COMMIT')\n",
    "        CON.execute('DROP TABLE IF EXISTS cur_dirs')\n",
    "        CON.execute('''\n",
    "        CREATE TABLE cur_dirs (\n",
    "            parent_id INTEGER NOT NULL,           /* id папки, в которой лежит данный объект */\n",
    "            name TEXT NOT NULL,                   /* имя объекта в папке */\n",
    "            id INTEGER PRIMARY KEY AUTOINCREMENT, /* идентификатор объекта во всей БД */\n",
    "            type INTEGER NOT NULL,                /* MFILE, MDIR, MLINK, MOTHER */\n",
    "            modified INTEGER NOT NULL,            /* параметр обхода:\n",
    "                0 - заходим при полном обходе\n",
    "                1 - заходим приобходе модифицированных объектов\n",
    "                2 - по таблице заходим всегда, но в ФС никогда не просматриваем (и даже stat не делаем) */\n",
    "        UNIQUE(parent_id, name)\n",
    "        )\n",
    "        ''')\n",
    "        create_root('/boot',CON)\n",
    "    \n",
    "        print(CON.execute('SELECT * FROM cur_dirs').fetchall())\n",
    "    \n",
    "        create_root('/home',CON)\n",
    "        print(CON.execute('SELECT * FROM cur_dirs').fetchall())\n",
    "        CON.execute('DROP TABLE cur_dirs')\n",
    "        CON.execute('COMMIT')"
   ]
  },
  {
   "cell_type": "code",
   "execution_count": 17,
   "id": "67a067d5-11ea-42c1-823b-6ad3602059d7",
   "metadata": {},
   "outputs": [],
   "source": [
    "def init_cur_dirs(root_dirs):\n",
    "    with CON:\n",
    "        CON.execute('''\n",
    "        CREATE TABLE cur_dirs (\n",
    "            parent_id INTEGER NOT NULL,           /* id папки, в которой лежит данный объект */\n",
    "            name TEXT NOT NULL,                   /* имя объекта в папке */\n",
    "            id INTEGER PRIMARY KEY AUTOINCREMENT, /* идентификатор объекта во всей БД */\n",
    "            type INTEGER NOT NULL,                /* MFILE, MDIR, MLINK, MOTHER */\n",
    "            modified INTEGER NOT NULL,            /* параметр обхода:\n",
    "                0 - заходим при полном обходе\n",
    "                1 - заходим приобходе модифицированных объектов\n",
    "                2 - по таблице заходим всегда, но в ФС никогда не просматриваем (и даже stat не делаем) */\n",
    "        UNIQUE(parent_id, name)\n",
    "        )\n",
    "        ''')\n",
    "        CON.execute('CREATE INDEX id_cur_dirs ON cur_dirs (id)')\n",
    "        CON.execute('CREATE INDEX parname_cur_dirs ON cur_dirs (parent_id, name)')\n",
    "\n",
    "        for root_dir in tqdm(root_dirs):\n",
    "            #print(root_dir)\n",
    "            create_root(root_dir,CON)\n",
    "            for root, dirs, files in os.walk('/'+root_dir):\n",
    "                pathids = path2ids(root,CON)\n",
    "                assert pathids[-1] is not None\n",
    "                #print(root,pathids,dirs)\n",
    "                CON.executemany('INSERT INTO cur_dirs (parent_id, name, modified, type) VALUES (?, ?, 0, ?)', [(pathids[-1], x, MDIR) for x in dirs])\n",
    "                CON.executemany('INSERT INTO cur_dirs (parent_id, name, modified, type) VALUES (?, ?, 0, ?)', [(pathids[-1], x, MDIR) for x in files])\n",
    "\n",
    "        "
   ]
  },
  {
   "cell_type": "code",
   "execution_count": 18,
   "id": "7b6c8e4a-3174-4c9c-832e-c9f79cedb9c8",
   "metadata": {},
   "outputs": [
    {
     "name": "stderr",
     "output_type": "stream",
     "text": [
      "100%|████████████████████████████████████████████| 1/1 [00:00<00:00, 139.39it/s]"
     ]
    },
    {
     "name": "stdout",
     "output_type": "stream",
     "text": [
      "0.4729197025299072\n"
     ]
    },
    {
     "name": "stderr",
     "output_type": "stream",
     "text": [
      "\n"
     ]
    }
   ],
   "source": [
    "if INIT_MODE:\n",
    "    with CON:\n",
    "        CON.execute('DROP TABLE IF EXISTS cur_dirs; ')\n",
    "    start = time()\n",
    "    init_cur_dirs(ROOT_DIRS)\n",
    "    print(time() - start)\n",
    "# ~ 2min"
   ]
  },
  {
   "cell_type": "code",
   "execution_count": null,
   "id": "8ef0cd68-9654-4362-9d7f-f56e551ec38b",
   "metadata": {},
   "outputs": [],
   "source": []
  },
  {
   "cell_type": "code",
   "execution_count": 19,
   "id": "fd9e4625-2f31-42d5-9929-ac2cb3d48b77",
   "metadata": {
    "scrolled": true
   },
   "outputs": [
    {
     "name": "stdout",
     "output_type": "stream",
     "text": [
      "86\n",
      "(0, 'home', 1, 1, 2)\n",
      "(1, 'feelus', 2, 1, 2)\n",
      "(2, 'pyfiles', 3, 1, 2)\n",
      "(3, 'src', 4, 1, 0)\n",
      "(4, '.ipynb_checkpoints', 5, 1, 0)\n",
      "(4, '.git', 6, 1, 0)\n",
      "(4, 'Untitled.ipynb', 7, 1, 0)\n",
      "(4, 'files.db', 8, 1, 0)\n",
      "(4, 'notify.py', 9, 1, 0)\n",
      "(4, 'backup.sql', 10, 1, 0)\n",
      "(4, '.gitignore', 11, 1, 0)\n",
      "(4, 'pyfiles.py', 12, 1, 0)\n",
      "(4, 'files2.db-journal', 13, 1, 0)\n",
      "(4, 'files1.db', 14, 1, 0)\n",
      "(4, 'test.db', 15, 1, 0)\n",
      "(4, 'test', 16, 1, 0)\n",
      "(4, 'files2.db', 17, 1, 0)\n",
      "(5, 'Untitled-checkpoint.ipynb', 18, 1, 0)\n",
      "(5, 'pyfiles-checkpoint.py', 19, 1, 0)\n",
      "(6, 'refs', 20, 1, 0)\n",
      "(6, 'objects', 21, 1, 0)\n",
      "(6, 'info', 22, 1, 0)\n",
      "(6, 'logs', 23, 1, 0)\n",
      "(6, 'hooks', 24, 1, 0)\n",
      "(6, 'branches', 25, 1, 0)\n",
      "(6, 'COMMIT_EDITMSG', 26, 1, 0)\n",
      "(6, 'index', 27, 1, 0)\n",
      "(6, 'description', 28, 1, 0)\n",
      "(6, 'config', 29, 1, 0)\n",
      "(6, 'HEAD', 30, 1, 0)\n",
      "(20, 'heads', 31, 1, 0)\n",
      "(20, 'tags', 32, 1, 0)\n",
      "(31, 'master', 33, 1, 0)\n",
      "(21, 'pack', 34, 1, 0)\n",
      "(21, '10', 35, 1, 0)\n",
      "(21, '23', 36, 1, 0)\n",
      "(21, 'fa', 37, 1, 0)\n",
      "(21, '26', 38, 1, 0)\n",
      "(21, '45', 39, 1, 0)\n",
      "(21, '93', 40, 1, 0)\n",
      "(21, 'ba', 41, 1, 0)\n",
      "(21, 'ad', 42, 1, 0)\n",
      "(21, '91', 43, 1, 0)\n",
      "(21, '98', 44, 1, 0)\n",
      "(21, 'b1', 45, 1, 0)\n",
      "(21, '5c', 46, 1, 0)\n",
      "(21, 'info', 47, 1, 0)\n",
      "(21, '04', 48, 1, 0)\n",
      "(21, '3b', 49, 1, 0)\n",
      "(21, '56', 50, 1, 0)\n",
      "(21, 'd8', 51, 1, 0)\n",
      "(35, '1c776297d45e4abe90a7226544c01a3ef21474', 52, 1, 0)\n",
      "(36, 'ff026db3ffb96d5313f8e8b2ebc6a583687ab9', 53, 1, 0)\n",
      "(37, '35185d2649d89c4ef276f0210f4dd5ba62b967', 54, 1, 0)\n",
      "(38, '40e313bcf6f16877bf367d91075aa6864c0ab2', 55, 1, 0)\n",
      "(39, 'a60472ef26539269d683039e71e488e3587921', 56, 1, 0)\n",
      "(40, '7539b42734d1b86caaae24aca1ad5a9b278261', 57, 1, 0)\n",
      "(41, '786f9b9400c4ce5a16c243c6834c81d2390fed', 58, 1, 0)\n",
      "(42, 'c454b39427013e7b037058bb4f0c5e63f2016d', 59, 1, 0)\n",
      "(43, '5a77d801b565863926525bafc067ad4dc597d9', 60, 1, 0)\n",
      "(44, 'e6ef67fad8af56cb3721edbd420b3d6fcc0bb1', 61, 1, 0)\n",
      "(45, 'e41ead66493a01646ca2165d0c6956d13333d0', 62, 1, 0)\n",
      "(46, 'c5e241e8363380a7ea3d5163212b0a7c124ed3', 63, 1, 0)\n",
      "(48, '8cb8deb88f1aba0612e887c33dc28371cefcde', 64, 1, 0)\n",
      "(49, '1eafb697668adf592c612e00ba3326b99c7b96', 65, 1, 0)\n",
      "(50, '7c911c411c39a4297dcf082c2cdeb65f653ce8', 66, 1, 0)\n",
      "(51, 'a25ee1ccc41f763ad41dc9247ee1308698f47b', 67, 1, 0)\n",
      "(22, 'exclude', 68, 1, 0)\n",
      "(23, 'refs', 69, 1, 0)\n",
      "(23, 'HEAD', 70, 1, 0)\n",
      "(69, 'heads', 71, 1, 0)\n",
      "(71, 'master', 72, 1, 0)\n",
      "(24, 'post-update.sample', 73, 1, 0)\n",
      "(24, 'commit-msg.sample', 74, 1, 0)\n",
      "(24, 'pre-receive.sample', 75, 1, 0)\n",
      "(24, 'sendemail-validate.sample', 76, 1, 0)\n",
      "(24, 'pre-push.sample', 77, 1, 0)\n",
      "(24, 'push-to-checkout.sample', 78, 1, 0)\n",
      "(24, 'pre-rebase.sample', 79, 1, 0)\n",
      "(24, 'pre-merge-commit.sample', 80, 1, 0)\n",
      "(24, 'update.sample', 81, 1, 0)\n",
      "(24, 'pre-applypatch.sample', 82, 1, 0)\n",
      "(24, 'pre-commit.sample', 83, 1, 0)\n",
      "(24, 'prepare-commit-msg.sample', 84, 1, 0)\n",
      "(24, 'applypatch-msg.sample', 85, 1, 0)\n",
      "(24, 'fsmonitor-watchman.sample', 86, 1, 0)\n"
     ]
    }
   ],
   "source": [
    "with CON:\n",
    "    dirs = CON.execute('SELECT * FROM cur_dirs').fetchall()\n",
    "    # Выводим результаты\n",
    "    print(len(dirs))\n",
    "    for file in dirs[0:1000]:\n",
    "        print(file)\n",
    "    "
   ]
  },
  {
   "cell_type": "code",
   "execution_count": 20,
   "id": "abc1b51a-9be6-4e68-b6b7-41a92307fb7c",
   "metadata": {
    "scrolled": true
   },
   "outputs": [],
   "source": [
    "def list_modified():\n",
    "    with CON:\n",
    "        def my_walk(did,path):\n",
    "            n = CON.execute('SELECT name,id,type,modified FROM cur_dirs WHERE parent_id = ? AND (modified = 1 OR modified = 2)',(did,)).fetchall()\n",
    "            for name,fid,ftype,modified in n:\n",
    "                if ftype==MDIR and modified !=0:\n",
    "                    if modified==1:\n",
    "                        print(path+'/'+name+'/')\n",
    "                    my_walk(fid,path+'/'+name)\n",
    "                else:\n",
    "                    print(path+'/'+name)\n",
    "        my_walk(0,'')\n",
    "list_modified()"
   ]
  },
  {
   "cell_type": "code",
   "execution_count": 21,
   "id": "a51e2323-1c08-493b-991d-5bcfc523ee27",
   "metadata": {},
   "outputs": [
    {
     "name": "stdout",
     "output_type": "stream",
     "text": [
      "[None]\n"
     ]
    }
   ],
   "source": [
    "with CON:\n",
    "    print(path2ids('/boot',CON))"
   ]
  },
  {
   "cell_type": "code",
   "execution_count": 22,
   "id": "b06e47c5-6e8b-4d28-b329-1baaae1c0d19",
   "metadata": {},
   "outputs": [
    {
     "name": "stdout",
     "output_type": "stream",
     "text": [
      "/home/feelus/pyfiles\n"
     ]
    }
   ],
   "source": [
    "with CON:\n",
    "    print(id2path(3,CON))"
   ]
  },
  {
   "cell_type": "code",
   "execution_count": null,
   "id": "06d4b074-24b9-4f65-95ba-55870bce6cb4",
   "metadata": {},
   "outputs": [],
   "source": []
  },
  {
   "cell_type": "code",
   "execution_count": 23,
   "id": "dbe32c9d-c025-422d-9e1f-2cc2fdf4a48f",
   "metadata": {},
   "outputs": [],
   "source": [
    "if INIT_MODE:\n",
    "    with CON:\n",
    "        if CON.in_transaction:\n",
    "            CON.execute('COMMIT')\n",
    "        CON.execute('DROP TABLE IF EXISTS cur_stat')\n",
    "        CON.execute('''\n",
    "        CREATE TABLE IF NOT EXISTS cur_stat  (\n",
    "        id INTEGER PRIMARY KEY,\n",
    "        type INTEGER NOT NULL,\n",
    "        \n",
    "        st_mode INTEGER, /* поля stat */\n",
    "        st_ino  INTEGER,\n",
    "        st_dev  INTEGER,\n",
    "        st_nlink  INTEGER,\n",
    "        st_uid  INTEGER,\n",
    "        st_gid  INTEGER,\n",
    "        st_size  INTEGER,\n",
    "        st_atime  REAL,\n",
    "        st_mtime  REAL,\n",
    "        st_ctime REAL,\n",
    "        st_blocks INTEGER,\n",
    "        st_blksize INTEGER,\n",
    "        \n",
    "        data TEXT, /* для файлов - хэш, для папок - хэш = xor хэшей вложенных объектов, для симлинков - сама ссылка */\n",
    "        owner INTEGER /*  */\n",
    "        )\n",
    "        ''')\n",
    "        "
   ]
  },
  {
   "cell_type": "code",
   "execution_count": 24,
   "id": "60266a73-e8e3-43b1-b932-fa401a7efbb0",
   "metadata": {},
   "outputs": [],
   "source": [
    "with CON:\n",
    "    # для файлов и папок data это hash, для симлинков - ссылка\n",
    "    CON.execute('CREATE INDEX IF NOT EXISTS id_cur_stat ON cur_stat (id)')"
   ]
  },
  {
   "cell_type": "code",
   "execution_count": 25,
   "id": "a5f35972-fa97-4724-a204-df85ef3612e5",
   "metadata": {},
   "outputs": [
    {
     "name": "stderr",
     "output_type": "stream",
     "text": [
      "100%|█████████████████████████████████████████| 83/83 [00:00<00:00, 9397.16it/s]\n"
     ]
    }
   ],
   "source": [
    "# do stat первый раз\n",
    "if INIT_MODE:\n",
    "    with CON:\n",
    "        # Выбираем всех пользователей\n",
    "        ids = CON.execute('SELECT id FROM cur_dirs WHERE modified !=2').fetchall()\n",
    "        cnt = 0\n",
    "        for fid in tqdm(ids):\n",
    "            fid = fid[0]\n",
    "            path = None\n",
    "            try:\n",
    "                path = id2path(fid,CON)\n",
    "                stat = os.stat(path,follow_symlinks=False)\n",
    "                if not is_link(stat.st_mode) and not is_dir(stat.st_mode) and not is_file(stat.st_mode) and not is_other(stat.st_mode):\n",
    "                    raise Exception('unknown type')\n",
    "                    \n",
    "                CON.execute('UPDATE cur_dirs SET type = ? WHERE id = ?',(simple_type(stat.st_mode),fid))\n",
    "                CON.execute('''INSERT INTO cur_stat \n",
    "                (id,type,\n",
    "                st_mode,st_ino,st_dev,st_nlink,st_uid,st_gid,st_size,\n",
    "                st_atime,st_mtime,st_ctime,st_blocks,st_blksize) VALUES (?,?,?,?,?,?,?,?,?,?,?,?,?,?)''',\n",
    "                              (fid,simple_type(stat.st_mode),\n",
    "                               stat.st_mode,stat.st_ino,stat.st_dev,stat.st_nlink,stat.st_uid,stat.st_gid,stat.st_size,\n",
    "                               stat.st_atime,stat.st_mtime,stat.st_ctime,stat.st_blocks,stat.st_blksize)\n",
    "                              )\n",
    "                cnt+=1\n",
    "                if cnt%1000000==0:\n",
    "                    CON.execute('COMMIT')\n",
    "            except FileNotFoundError:\n",
    "                #print(e)\n",
    "                set_modified(fid, cursor)\n",
    "            except Exception as e:\n",
    "                print(fid,path,type(e),e)\n",
    "    # 45 s\n",
    "list_modified()"
   ]
  },
  {
   "cell_type": "code",
   "execution_count": 26,
   "id": "6b89493d-fb84-453c-a18f-6d915b842de2",
   "metadata": {
    "scrolled": true
   },
   "outputs": [
    {
     "name": "stderr",
     "output_type": "stream",
     "text": [
      "100%|███████████████████████████████████████████| 52/52 [00:07<00:00,  7.24it/s]\n"
     ]
    }
   ],
   "source": [
    "# calc hashes of files\n",
    "if INIT_MODE:\n",
    "    with CON:\n",
    "        cursor = CON.cursor()\n",
    "        ids = cursor.execute('SELECT id FROM cur_stat WHERE type = ?',(MFILE,)).fetchall()\n",
    "        cnt = 0\n",
    "        for fid in tqdm(ids):\n",
    "            fid = fid[0]\n",
    "            path = None\n",
    "            try:\n",
    "                path = id2path(fid,cursor)\n",
    "                hsh = hashlib.md5(open(path,'rb').read()).hexdigest()\n",
    "                cursor.execute('UPDATE cur_stat SET data = ? WHERE id = ?',(hsh,fid))\n",
    "                cnt+=1\n",
    "                if cnt%1000000==0:\n",
    "                    cursor.execute('COMMIT')\n",
    "            except FileNotFoundError:\n",
    "                set_modified(fid, cursor)\n",
    "            except Exception as e:\n",
    "                print(fid,path,type(e),e)\n",
    "list_modified()"
   ]
  },
  {
   "cell_type": "code",
   "execution_count": 27,
   "id": "e8f4f073-78a2-47c6-b8ed-a89c7f81971e",
   "metadata": {},
   "outputs": [],
   "source": [
    "with CON:\n",
    "    ids = CON.execute('UPDATE cur_stat SET data = \"00000000000000000000000000000000\" WHERE type = ?',(MOTHER,)).fetchall()"
   ]
  },
  {
   "cell_type": "code",
   "execution_count": 28,
   "id": "6ed82813-a1a4-4f28-882c-ea3a0680e6c4",
   "metadata": {},
   "outputs": [
    {
     "name": "stdout",
     "output_type": "stream",
     "text": [
      "ok\n"
     ]
    }
   ],
   "source": [
    "with CON:\n",
    "    print(*CON.execute('PRAGMA integrity_check;').fetchone())\n",
    "list_modified()"
   ]
  },
  {
   "cell_type": "code",
   "execution_count": 29,
   "id": "a1463cd8-c809-4d3a-8314-02aade12e28c",
   "metadata": {},
   "outputs": [
    {
     "name": "stdout",
     "output_type": "stream",
     "text": [
      "set_modified 4\n",
      "/home/feelus/pyfiles/src/\n"
     ]
    }
   ],
   "source": [
    "# обновить симлинки, директории, сынтегрировать хеши\n",
    "if INIT_MODE:\n",
    "    with CON:\n",
    "        cursor = CON.cursor()\n",
    "        def my_walk(did,root):\n",
    "            n = cursor.execute('SELECT name,id,type,modified FROM cur_dirs WHERE parent_id = ? ',(did,)).fetchall()\n",
    "            if not root:\n",
    "                try:\n",
    "                    if len(n)!=len(os.listdir(id2path(did,cursor))):\n",
    "                        set_modified(did, cursor)\n",
    "                except FileNotFoundError:\n",
    "                    set_modified(did, cursor)\n",
    "            hsh = 0\n",
    "            for name,fid,ftype,modified in n:\n",
    "                if ftype==MFILE:\n",
    "                    n = cursor.execute('SELECT data FROM cur_stat WHERE id = ?',(fid,)).fetchone()\n",
    "                    if n is None: raise Exception(f\"can't find fid {fid} in cur_stat_file\")\n",
    "                    lhsh = n[0]\n",
    "                elif ftype==MLINK:\n",
    "                    try:\n",
    "                        lnk = os.readlink(id2path(fid,cursor))\n",
    "                        lhsh = hashlib.md5(lnk.encode()).hexdigest()\n",
    "                        cursor.execute('UPDATE cur_stat SET data = ? WHERE id = ?',(lnk,fid))\n",
    "                    except FileNotFoundError:\n",
    "                        set_modified(fid, cursor)\n",
    "                        lhsh = None\n",
    "                elif ftype==MDIR:\n",
    "                    lhsh = my_walk(fid,modified==2)\n",
    "                elif ftype==MOTHER:\n",
    "                    lhsh = hex( 0 )[2:].zfill(32)\n",
    "                else: \n",
    "                    assert False, (name,fid,ftype)\n",
    "                    \n",
    "                if lhsh is None:\n",
    "                    hsh = None\n",
    "                if hsh is not None:\n",
    "                    hsh ^= int(lhsh, 16)\n",
    "    \n",
    "            if hsh is not None:\n",
    "                hsh = hex( hsh )[2:].zfill(32)\n",
    "                if not root:\n",
    "                    cursor.execute('UPDATE cur_stat SET data = ? WHERE id = ?',(hsh,did))\n",
    "            return hsh\n",
    "        my_walk(0,True)     \n",
    "list_modified()"
   ]
  },
  {
   "cell_type": "code",
   "execution_count": 31,
   "id": "00c9642c-0549-4813-a975-f316618ccb77",
   "metadata": {},
   "outputs": [
    {
     "name": "stdout",
     "output_type": "stream",
     "text": [
      "{'st_mode': 16893, 'st_ino': 1346764, 'st_dev': 2052, 'st_nlink': 2, 'st_uid': 1000, 'st_gid': 1000, 'st_size': 4096, 'st_atime': 1737208359.3988495, 'st_mtime': 1737091280.9950309, 'st_ctime': 1737091280.9950309, 'st_blocks': 8, 'st_blksize': 4096}\n",
      "{'st_mode': 16877, 'st_ino': 1048577, 'st_dev': 2052, 'st_nlink': 3, 'st_uid': 0, 'st_gid': 0, 'st_size': 4096, 'st_atime': 1737189243.211488, 'st_mtime': 1729599119.2648318, 'st_ctime': 1729599119.2648318, 'st_blocks': 8, 'st_blksize': 4096}\n",
      "{'st_mode': 16893, 'st_ino': 1346764, 'st_dev': 2052, 'st_nlink': 2, 'st_uid': 1000, 'st_gid': 1000, 'st_size': 4096, 'st_atime': 1737208359.3988495, 'st_mtime': 1737091280.9950309, 'st_ctime': 1737091280.9950309, 'st_blocks': 8, 'st_blksize': 4096}\n"
     ]
    }
   ],
   "source": [
    "def update_stat(fid, stat, cursor):\n",
    "    cursor.execute('''UPDATE cur_stat SET\n",
    "        st_mode=?,st_ino=?,st_dev=?,st_nlink=?,st_uid=?,st_gid=?,st_size=?,\n",
    "        st_atime=?,st_mtime=?,st_ctime=?,st_blocks=?,st_blksize=?''',\n",
    "        (stat.st_mode,stat.st_ino,stat.st_dev,stat.st_nlink,stat.st_uid,stat.st_gid,stat.st_size,\n",
    "        stat.st_atime,stat.st_mtime,stat.st_ctime,stat.st_blocks,stat.st_blksize)\n",
    "    )\n",
    "def get_stat(fid, cursor):\n",
    "    (st_mode,st_ino,st_dev,st_nlink,st_uid,st_gid,st_size,\n",
    "        st_atime,st_mtime,st_ctime,st_blocks,st_blksize) = \\\n",
    "    cursor.execute('''SELECT \n",
    "        st_mode,st_ino,st_dev,st_nlink,st_uid,st_gid,st_size,\n",
    "        st_atime,st_mtime,st_ctime,st_blocks,st_blksize\n",
    "        FROM cur_stat WHERE id = ?''',(fid,)\n",
    "    ).fetchone()\n",
    "    return make_dict(st_mode=st_mode,st_ino=st_ino,st_dev=st_dev,st_nlink=st_nlink,st_uid=st_uid,st_gid=st_gid,st_size=st_size,\n",
    "                       st_atime=st_atime,st_mtime=st_mtime,st_ctime=st_ctime,st_blocks=st_blocks,st_blksize=st_blksize)\n",
    "\n",
    "with CON:\n",
    "    ost = get_stat(45,CON)\n",
    "    print(ost)\n",
    "    update_stat(45,os.stat('/home'),CON)\n",
    "    print(get_stat(45,CON))\n",
    "    update_stat(45,ost,CON)\n",
    "    print(get_stat(45,CON))\n",
    "    "
   ]
  },
  {
   "cell_type": "code",
   "execution_count": 32,
   "id": "518ddaa5-bba2-4c55-8780-9417506481fa",
   "metadata": {},
   "outputs": [
    {
     "name": "stdout",
     "output_type": "stream",
     "text": [
      "[(3, 'src', 4, 1, 1)]\n"
     ]
    }
   ],
   "source": [
    "with CON:\n",
    "    print(CON.execute('SELECT * FROM cur_dirs WHERE modified = 1').fetchall())"
   ]
  },
  {
   "cell_type": "code",
   "execution_count": 33,
   "id": "d14e3f46-e2f3-4295-9a72-53ab96b21cbb",
   "metadata": {},
   "outputs": [
    {
     "name": "stdout",
     "output_type": "stream",
     "text": [
      "/home/feelus/pyfiles/src/\n"
     ]
    }
   ],
   "source": [
    "list_modified()"
   ]
  },
  {
   "cell_type": "code",
   "execution_count": 34,
   "id": "392524f6-0fd9-40fd-9264-4e29f9db31e2",
   "metadata": {},
   "outputs": [
    {
     "name": "stdout",
     "output_type": "stream",
     "text": [
      "[(0, 'home', 1, 1, 2), (1, 'feelus', 2, 1, 2), (2, 'pyfiles', 3, 1, 2)]\n"
     ]
    }
   ],
   "source": [
    "with CON:\n",
    "    print(CON.execute('SELECT * FROM cur_dirs WHERE modified = 2').fetchall())"
   ]
  },
  {
   "cell_type": "code",
   "execution_count": 35,
   "id": "ca851f9d-6b53-49f4-8c52-f958ff9936a3",
   "metadata": {},
   "outputs": [],
   "source": [
    "with CON:\n",
    "    # todo описание, таймаут, логгирование изменений (diff) для особо выжных файлов\n",
    "\n",
    "    if CON.in_transaction:\n",
    "        CON.execute('COMMIT')\n",
    "    CON.execute('''\n",
    "    CREATE TABLE IF NOT EXISTS owners  (\n",
    "        id INTEGER PRIMARY KEY AUTOINCREMENT,\n",
    "        name TEXT NOT NULL, /* например система-код система-логи программа-код, программа-конфиг, программа-данные, человек-проект */\n",
    "        save INTEGER NOT NULL, /* bool - сохранять ли данные об изменении этого объекта в hist */\n",
    "        name1 TEXT, /* если у объекта несколько владельцев, то для каждой группы владельцев свой id, имена через запятую */\n",
    "        name2 TEXT, /* а здесь имена каждого владельца по отдельности */\n",
    "        name3 TEXT,\n",
    "        name4 TEXT,\n",
    "        name5 TEXT,\n",
    "        UNIQUE(name)\n",
    "    )\n",
    "    ''')\n",
    "    CON.execute('CREATE INDEX IF NOT EXISTS id_owners ON owners (id)')\n",
    "    CON.execute('CREATE INDEX IF NOT EXISTS name_owners ON owners (name)')\n",
    "    "
   ]
  },
  {
   "cell_type": "code",
   "execution_count": 40,
   "id": "5c872b24-ad7a-4022-8ef0-7472414f1d00",
   "metadata": {},
   "outputs": [],
   "source": [
    "def update_owner(name,save):\n",
    "    with CON:\n",
    "        CON.execute('''INSERT INTO owners (name, save) VALUES (?, ?) ON CONFLICT(name) DO UPDATE SET\n",
    "            name = excluded.name,    save = excluded.save ''', (name,save))\n",
    "def set_owner(path,name):\n",
    "    # todo добавить флаг, чтобы если есть поддерево с уже установленным владельцем - не менять его\n",
    "    with CON:\n",
    "        cursor = CON.cursor()\n",
    "        if name is not None:\n",
    "            (oid,) = cursor.execute('SELECT id FROM owners WHERE name = ?',(name,)).fetchone()\n",
    "        else:\n",
    "            oid = None\n",
    "        def my_walk(did):\n",
    "            n = cursor.execute('SELECT name,id,type FROM cur_dirs WHERE parent_id = ? ',(did,)).fetchall()\n",
    "            for name,fid,ftype in n:\n",
    "                cursor.execute('UPDATE cur_stat SET owner = ? WHERE id = ?',(oid,fid))\n",
    "                if ftype==MDIR:\n",
    "                    my_walk(fid)\n",
    "        fid = path2ids(path,cursor)[-1]\n",
    "        cursor.execute('UPDATE cur_stat SET owner = ? WHERE id = ?',(oid,fid))\n",
    "        (typ,) = cursor.execute('SELECT type FROM cur_dirs WHERE id = ?',(fid,)).fetchone()\n",
    "        if typ==MDIR:\n",
    "            my_walk(fid)\n"
   ]
  },
  {
   "cell_type": "code",
   "execution_count": 47,
   "id": "46fcc6c0-7447-4003-bab9-c49c9eefe103",
   "metadata": {},
   "outputs": [
    {
     "name": "stdout",
     "output_type": "stream",
     "text": [
      "[(1, 'name', 0, None, None, None, None, None), (3, 'git', 1, None, None, None, None, None)]\n"
     ]
    }
   ],
   "source": [
    "update_owner('name',False)\n",
    "update_owner('git',True)\n",
    "\n",
    "with CON:\n",
    "    print(CON.execute('SELECT * FROM owners').fetchall())"
   ]
  },
  {
   "cell_type": "code",
   "execution_count": 48,
   "id": "60510f67-5167-4f98-a952-6dab4b1005bd",
   "metadata": {},
   "outputs": [],
   "source": [
    "set_owner('/home/feelus/pyfiles/src/.git','git')"
   ]
  },
  {
   "cell_type": "code",
   "execution_count": 49,
   "id": "6a7fb8e4-4ba8-44d1-a3ec-7d58e903ac76",
   "metadata": {},
   "outputs": [
    {
     "name": "stdout",
     "output_type": "stream",
     "text": [
      "('parent_id', 'name', 'id', 'type', 'modified') ('id', 'type', 'st_mode', 't_ino', 'st_dev', 'st_nlink', 'st_uid', 'st_gid', 'st_size', 'st_atime', 'st_mtime', 'st_ctime', 'st_blocks', 'st_blksize', 'data', 'owner')\n",
      "----------------------\n",
      "(6, 'COMMIT_EDITMSG', 26, 0, 0) (26, 0, 16893, 1346764, 2052, 2, 1000, 1000, 4096, 1737208359.3988495, 1737091280.9950309, 1737091280.9950309, 8, 4096, '6683eecac67610f0bfad4a8ca9fdf982', 3)\n",
      "(6, 'HEAD', 30, 0, 0) (30, 0, 16893, 1346764, 2052, 2, 1000, 1000, 4096, 1737208359.3988495, 1737091280.9950309, 1737091280.9950309, 8, 4096, '4cf2d64e44205fe628ddd534e1151b58', 3)\n",
      "(6, 'branches', 25, 1, 0) (25, 1, 16893, 1346764, 2052, 2, 1000, 1000, 4096, 1737208359.3988495, 1737091280.9950309, 1737091280.9950309, 8, 4096, '00000000000000000000000000000000', 3)\n",
      "(6, 'config', 29, 0, 0) (29, 0, 16893, 1346764, 2052, 2, 1000, 1000, 4096, 1737208359.3988495, 1737091280.9950309, 1737091280.9950309, 8, 4096, '5b603c2c0801a9ded3b79159fc38b404', 3)\n",
      "(6, 'description', 28, 0, 0) (28, 0, 16893, 1346764, 2052, 2, 1000, 1000, 4096, 1737208359.3988495, 1737091280.9950309, 1737091280.9950309, 8, 4096, 'a0a7c3fff21f2aea3cfa1d0316dd816c', 3)\n",
      "(6, 'hooks', 24, 1, 0) (24, 1, 16893, 1346764, 2052, 2, 1000, 1000, 4096, 1737208359.3988495, 1737091280.9950309, 1737091280.9950309, 8, 4096, '8b610a27e1fe999d70712bdc3a2029bc', 3)\n",
      "(6, 'index', 27, 0, 0) (27, 0, 16893, 1346764, 2052, 2, 1000, 1000, 4096, 1737208359.3988495, 1737091280.9950309, 1737091280.9950309, 8, 4096, '072e655d2dd2252fa6914aff58599926', 3)\n",
      "(6, 'info', 22, 1, 0) (22, 1, 16893, 1346764, 2052, 2, 1000, 1000, 4096, 1737208359.3988495, 1737091280.9950309, 1737091280.9950309, 8, 4096, '036208b4a1ab4a235d75c181e685e5a3', 3)\n",
      "(6, 'logs', 23, 1, 0) (23, 1, 16893, 1346764, 2052, 2, 1000, 1000, 4096, 1737208359.3988495, 1737091280.9950309, 1737091280.9950309, 8, 4096, '00000000000000000000000000000000', 3)\n",
      "(6, 'objects', 21, 1, 0) (21, 1, 16893, 1346764, 2052, 2, 1000, 1000, 4096, 1737208359.3988495, 1737091280.9950309, 1737091280.9950309, 8, 4096, 'b09e5e803e2d274e29e2acf67d14ee7f', 3)\n",
      "(6, 'refs', 20, 1, 0) (20, 1, 16893, 1346764, 2052, 2, 1000, 1000, 4096, 1737208359.3988495, 1737091280.9950309, 1737091280.9950309, 8, 4096, 'bec76dc64c1c74a34a381f6e02bbad9d', 3)\n"
     ]
    }
   ],
   "source": [
    "ls('/home/feelus/pyfiles/src/.git')"
   ]
  },
  {
   "cell_type": "code",
   "execution_count": 50,
   "id": "e64353ac-3739-4bcd-84a9-be600551703d",
   "metadata": {},
   "outputs": [],
   "source": [
    "ECREAT = 1 # в этом случае все старые записи == -1\n",
    "EMODIF = 2\n",
    "EMOVE = 3\n",
    "EDEL = 4\n",
    "with CON:\n",
    "    cursor = CON.cursor()\n",
    "\n",
    "    # на id может быть несколько записей\n",
    "    # если объект создан, то поля старого stat = -1\n",
    "    #cursor.execute('DROP TABLE hist_crmod')\n",
    "    cursor.execute('''\n",
    "    CREATE TABLE IF NOT EXISTS hist  (\n",
    "    parent_id INTEGER NOT NULL, /* старая запись из cur_dirs */\n",
    "    name TEXT NOT NULL, /* старая запись из cur_dirs */\n",
    "    id INTEGER NOT NULL, /* на id может быть несколько записей */\n",
    "    type INTEGER NOT NULL, \n",
    "    event_type INTEGER NOT NULL, /* ECREAT, EMODIF, EMOVE, EDEL */\n",
    "    \n",
    "    st_mode INTEGER, /* старая запись из cur_stat */\n",
    "    st_ino  INTEGER,\n",
    "    st_dev  INTEGER,\n",
    "    st_nlink  INTEGER,\n",
    "    st_uid  INTEGER,\n",
    "    st_gid  INTEGER,\n",
    "    st_size  INTEGER,\n",
    "    st_atime  REAL,\n",
    "    st_mtime  REAL,\n",
    "    st_ctime REAL,\n",
    "    st_blocks INTEGER,\n",
    "    st_blksize INTEGER,\n",
    "    data TEXT, /* старая запись из cur_stat */\n",
    "    owner INTEGER, /* старая запись из cur_stat */\n",
    "\n",
    "    time REAL NOT NULL, /* время события */\n",
    "    static_found INTEGER NOT NULL /* 0 - обнаружено watchdog-ом, 1 - статитсеский обход дерева каталогов */\n",
    "    )\n",
    "    ''')\n",
    "    cursor.execute('CREATE INDEX IF NOT EXISTS id_hist ON hist (id)')\n",
    "    cursor.execute('CREATE INDEX IF NOT EXISTS time_hist ON hist (time)')\n",
    "\n",
    "def add_event(fid, typ, etyp, static_found, cursor):\n",
    "    if etyp==ECREAT:\n",
    "        cursor.execute('''INSERT INTO hist (parent_id, name, id, type, event_type, \n",
    "            st_mode,st_ino,st_dev,st_nlink,st_uid,st_gid,st_size,\n",
    "            st_atime,st_mtime,st_ctime,st_blocks,st_blksize,data,owner,\n",
    "            time,static_found) VALUES (-1,-1,?,?,?,-1,-1,-1,-1,-1,-1,-1,-1,-1,-1,-1,-1,-1,-1,?,?)''',\n",
    "                       (fid,typ,etyp,time(),static_found))\n",
    "    else:\n",
    "        # просто чать данных копируем а чать заполняем вручную\n",
    "        if typ is not None:\n",
    "            (otyp,) = cursor.execute('SELECT type FROM cur_dirs WHERE id = ?',(fid,)).fetchone()\n",
    "            assert typ == otyp , (typ, otyp)\n",
    "        cursor.execute('''INSERT INTO hist (parent_id, name, id, type, event_type, \n",
    "            st_mode,st_ino,st_dev,st_nlink,st_uid,st_gid,st_size,\n",
    "            st_atime,st_mtime,st_ctime,st_blocks,st_blksize,data,owner,\n",
    "            time,static_found) \n",
    "            SELECT t1.parent_id, t1.name, ?, ?, ?, \n",
    "            t2.st_mode,t2.st_ino,t2.st_dev,t2.st_nlink,t2.st_uid,t2.st_gid,t2.st_size,\n",
    "            t2.st_atime,t2.st_mtime,t2.st_ctime,t2.st_blocks,t2.st_blksize,t2.data,t2.owner,\n",
    "            ?,?\n",
    "            FROM cur_dirs AS t1\n",
    "            JOIN cur_stat AS t2\n",
    "            ON 1=1\n",
    "            WHERE t1.id = ? AND t2.id = ?\n",
    "            ''',\n",
    "                       (fid,typ,etyp,time(),static_found,fid,fid)\n",
    "        )\n",
    "            # INSERT INTO table_target (col1, col2, col3, col4, col5)\n",
    "            # SELECT t1.col1, t1.col2, t2.col3, t2.col4, ?\n",
    "            # FROM table1 AS t1\n",
    "            # JOIN table2 AS t2\n",
    "            # ON 1=1\n",
    "            # WHERE t1.id = ? AND t2.id = ?;        \n",
    "        "
   ]
  },
  {
   "cell_type": "code",
   "execution_count": 51,
   "id": "bb2699a6-1f95-4a4f-9a0f-7a1a9846c7bc",
   "metadata": {},
   "outputs": [
    {
     "name": "stdout",
     "output_type": "stream",
     "text": [
      "[(-1, '-1', 2, 3, 1, -1, -1, -1, -1, -1, -1, -1, -1.0, -1.0, -1.0, -1, -1, '-1', -1, 1737258047.4243934, 0), (4, '.ipynb_checkpoints', 5, 1, 4, 16893, 1346764, 2052, 2, 1000, 1000, 4096, 1737208359.3988495, 1737091280.9950309, 1737091280.9950309, 8, 4096, '3589b2ff9683a4f362625f173839c744', None, 1737258047.4260247, 1)]\n",
      "[]\n"
     ]
    }
   ],
   "source": [
    "with CON:\n",
    "    add_event(2, MOTHER, ECREAT, False, CON)\n",
    "    add_event(5, MDIR, EDEL, True, CON)\n",
    "    print(CON.execute('SELECT * FROM hist').fetchall())\n",
    "    CON.execute('DELETE FROM hist')\n",
    "    print(CON.execute('SELECT * FROM hist').fetchall())\n",
    "    "
   ]
  },
  {
   "cell_type": "code",
   "execution_count": 52,
   "id": "df0f0f4c-ac48-4878-9309-9f75351b2f6d",
   "metadata": {},
   "outputs": [],
   "source": [
    "# не взаимодействуем с ФС, кроме create_parents\n",
    "\n",
    "# todo написать тесты отдельно от цикла\n",
    "def owner_save(fid,cursor):\n",
    "    (owner,) = cursor.execute('SELECT owner FROM cur_stat WHERE id = ?',(fid,)).fetchone()\n",
    "    if owner is not None:\n",
    "        (save,) = cursor.execute('SELECT save FROM owners WHERE id = ?',(owner,)).fetchone()\n",
    "    else:\n",
    "        save = True\n",
    "    return (owner,save)\n",
    "\n",
    "\n",
    "# исхоодый объект известен, целевой объект известен, работаем с БД\n",
    "def modified1(fid, stat, is_directory, cursor):\n",
    "    already = is_modified(fid, cursor)\n",
    "    if not already: set_modified(fid, cursor)\n",
    "\n",
    "    (owner,save) = owner_save(fid,cursor)\n",
    "    if save:\n",
    "        # cохранить старый stat. с датой. \n",
    "        # для файла - если дата больше 10 сек\n",
    "        # для папки - если изменился её stat (st_atime, st_mtime не учитываем)\n",
    "        ostat = cursor.execute('''SELECT \n",
    "            id, type,\n",
    "            st_mode,st_ino,st_dev,st_nlink,st_uid,st_gid,st_size,\n",
    "            st_atime,st_mtime,st_ctime,st_blocks,st_blksize,\n",
    "            data,time\n",
    "        FROM hist WHERE id = ? ORDER BY time DESC LIMIT 1;''',(fid,)).fetchone()\n",
    "        if ostat is not None: # раньше этот файл уже обновлялся\n",
    "            (ofid,otype,\n",
    "                           ost_mode,ost_ino,ost_dev,ost_nlink,ost_uid,ost_gid,ost_size,\n",
    "                           ost_atime,ost_mtime,ost_ctime,ost_blocks,ost_blksize, \n",
    "                odata, otime ) = ostat\n",
    "            if simple_type(stat.st_mode)==MDIR:\n",
    "                save = (stat.st_mode,stat.st_ino,stat.st_dev,stat.st_nlink,stat.st_uid,stat.st_gid,stat.st_size,\n",
    "                       stat.st_ctime,stat.st_blocks,stat.st_blksize) != \\\n",
    "                (ost_mode,ost_ino,ost_dev,ost_nlink,ost_uid,ost_gid,ost_size,\n",
    "                           ost_ctime,ost_blocks,ost_blksize,)\n",
    "            else:\n",
    "                save = abs(otime - time())>10\n",
    "        else:\n",
    "            save = True\n",
    "        if save:\n",
    "            add_event(fid, simple_type(stat.st_mode), EMODIF, False, cursor)\n",
    "    \n",
    "    # обновить stat в cur\n",
    "    update_stat(fid,stat,cursor)\n",
    "    \n",
    "def created2(parent_id, name, stat, static_find, save, owner, cursor):\n",
    "    set_modified(parent_id, cursor)\n",
    "    cursor.execute('INSERT INTO cur_dirs (parent_id, name, modified, type) VALUES (?, ?, 1, ?)',(parent_id, name, simple_type(stat.st_mode)))\n",
    "    (fid,) = cursor.execute('SELECT id FROM cur_dirs WHERE parent_id =? AND name=?',(parent_id,name)).fetchone()\n",
    "    if save:\n",
    "        add_event(fid, simple_type(stat.st_mode), ECREAT, static_find, cursor)\n",
    "    # обновить stat в cur\n",
    "    cursor.execute('INSERT INTO cur_stat (id,type,owner) VALUES (?,?,?)',(fid,simple_type(stat.st_mode),owner))\n",
    "    update_stat(fid,stat,cursor)\n",
    "    return fid\n",
    "    \n",
    "def deleted1(fid,cursor):\n",
    "    (owner,save) = owner_save(fid,cursor)\n",
    "\n",
    "    def my_walk(did):\n",
    "        n = cursor.execute('SELECT name,id,type FROM cur_dirs WHERE parent_id = ? ',(did,)).fetchall()\n",
    "        for name,fid,ftype in n:\n",
    "            if ftype==MDIR:\n",
    "                my_walk(fid)\n",
    "            if save:\n",
    "                add_event(fid, None, EDEL, True, cursor)\n",
    "            cursor.execute('DELETE FROM cur_stat WHERE id = ?',(fid,))\n",
    "            cursor.execute('DELETE FROM cur_dirs WHERE id = ?',(fid,))\n",
    "            \n",
    "    my_walk(fid)\n",
    "    if save:\n",
    "        add_event(fid, None, EDEL, False, cursor)\n",
    "    cursor.execute('DELETE FROM cur_stat WHERE id = ?',(fid,))\n",
    "    cursor.execute('DELETE FROM cur_dirs WHERE id = ?',(fid,))\n",
    "\n",
    "def create_parents(path,cursor,ids=None):\n",
    "    if ids is None:\n",
    "        ids = path2ids(path,cursor)\n",
    "        \n",
    "    # рассчитываем, что src_path - обсолютный путь, не симлинк, не содержит // типа '/a//b/c'\n",
    "    path = path.split('/')\n",
    "\n",
    "    fid = ids[-2]\n",
    "    (owner,save) = owner_save(fid,cursor)\n",
    "\n",
    "    parent_path = '/'.join(path[:len(ids)])\n",
    "    for name in path[len(ids):-1]:\n",
    "        parent_path+= ('/'+name)\n",
    "        lstat = os.stat(parent_path, follow_symlinks=False) # FileNotFoundError будет пойман в области watchdog-а\n",
    "        assert simple_type(lstat.st_mode)==MDIR, simple_type(lstat.st_mode)\n",
    "        fid = created2(fid, name, lstat, True, save, owner, cursor)\n",
    "\n",
    "    return fid, save, owner, path[-1]\n",
    "\n",
    "def created1(ids, src_path, stat, is_directory, owner, cursor):\n",
    "    (fid, save, owner, name) = create_parents(src_path,cursor,ids)\n",
    "    created2(fid, name, stat, False, save, owner, cursor)\n",
    "\n",
    "def moved1(fid, dest_path, cursor):\n",
    "    (parent_id, _, _, name) = create_parents(dest_path,cursor)\n",
    "    (_,save) = owner_save(fid,cursor)\n",
    "    if save:\n",
    "        add_event(fid, None, EMOVE, False, cursor)\n",
    "    cursor.execute('UPDATE cur_dirs SET parent_id = ?, name = ? WHERE id = ?',(parent_id, name, fid))\n",
    "\n"
   ]
  },
  {
   "cell_type": "code",
   "execution_count": 53,
   "id": "b394da80-40b3-412d-a485-269e3d449f97",
   "metadata": {},
   "outputs": [],
   "source": [
    "def modified(src_path, stat, is_directory, is_synthetic, cursor):\n",
    "    if is_synthetic:\n",
    "        print('synthetic modified',src_path, is_directory)\n",
    "        return\n",
    "    ids = path2ids(src_path,cursor)\n",
    "    if ids[-1] is None:\n",
    "        print('do modified as created',src_path, time())\n",
    "        return created1(ids, src_path, is_directory)\n",
    "    return modified1(ids[-1], stat, is_directory)\n",
    "\n",
    "def created(src_path, stat, is_directory, is_synthetic, cursor):\n",
    "    if is_synthetic:\n",
    "        print('synthetic created',src_path, is_directory)\n",
    "        return\n",
    "    ids = path2ids(src_path,cursor)\n",
    "    if ids[-1] is not None:\n",
    "        # если было удалено, но это не было зафиксировано, а потом создалось - считаем, что просто изменилось\n",
    "        print('do created as modified',src_path, time())\n",
    "        return modified1(ids[-1], src_path, is_directory)\n",
    "    return created1(ids, src_path, stat, is_directory)\n",
    "\n",
    "def deleted(src_path, is_directory, s_synthetic, cursor):\n",
    "    if is_synthetic:\n",
    "        print('synthetic deleted',src_path, is_directory)\n",
    "        return\n",
    "    ids = path2ids(src_path,cursor)\n",
    "    if ids[-1] is not None:\n",
    "        print('deleted unknown object:',src_path)\n",
    "        return\n",
    "    deleted1(ids[-1],cursor)\n",
    "\n",
    "def moved(src_path, dest_path, stat, is_directory, s_synthetic, cursor):\n",
    "    if is_synthetic:\n",
    "        print('synthetic moved',src_path, dest_path, is_directory)\n",
    "        return\n",
    "    ids = path2ids(src_path,cursor)\n",
    "    if ids[-1] is not None:\n",
    "        print('do moved as created',src_path, dest_path, time())\n",
    "        return created1(ids, dest_path, is_directory)\n",
    "    moved1(ids[-1],dest_path, cursor)\n"
   ]
  },
  {
   "cell_type": "code",
   "execution_count": null,
   "id": "436adcb0-5367-45c1-9538-51cfa5c0858f",
   "metadata": {},
   "outputs": [],
   "source": []
  },
  {
   "cell_type": "code",
   "execution_count": null,
   "id": "110b533a-6db1-4726-834d-0e516819eba7",
   "metadata": {},
   "outputs": [],
   "source": []
  },
  {
   "cell_type": "code",
   "execution_count": null,
   "id": "04baaa44-78bb-4360-8861-74e35288bb4f",
   "metadata": {},
   "outputs": [],
   "source": []
  },
  {
   "cell_type": "code",
   "execution_count": 27,
   "id": "d5a12ae0-420c-4925-ac97-0c3e46c10d85",
   "metadata": {},
   "outputs": [
    {
     "name": "stdout",
     "output_type": "stream",
     "text": [
      "Observer запущен. Все запущены... MainThread\n",
      " Thread-182\n",
      "modified /root/.ipython/profile_default/history.sqlite-journal\n",
      "modified /root/.ipython/profile_default/history.sqlite\n",
      "modified /root/.ipython/profile_default/history.sqlite-journal\n",
      "modified /root/.ipython/profile_default\n",
      "deleted /root/.ipython/profile_default/history.sqlite-journal\n",
      "modified /root/.ipython/profile_default\n",
      "modified /home/feelus/snap/firefox/common/.cache/mozilla/firefox/2yebzj4a.default/cache2/entries/F7B4C542C6E1E26E0E409039C4214EF6DA3BE75F\n",
      "modified /home/feelus/snap/firefox/common/.cache/mozilla/firefox/2yebzj4a.default/cache2/entries/F7B4C542C6E1E26E0E409039C4214EF6DA3BE75F\n",
      "modified /home/feelus/snap/firefox/common/.cache/mozilla/firefox/2yebzj4a.default/cache2/entries\n",
      "modified /home/feelus/snap/firefox/common/.mozilla/firefox/2yebzj4a.default/storage-sync-v2.sqlite-wal\n",
      "modified /home/feelus/snap/firefox/common/.mozilla/firefox/2yebzj4a.default/storage/default/moz-extension+++9af6ae16-950a-4ac8-b634-8f433c84e0ae^userContextId=4294967295/idb/3647222921wleabcEoxlt-eengsairo.sqlite-wal\n",
      "modified /home/feelus/snap/firefox/common/.mozilla/firefox/2yebzj4a.default/storage/default/moz-extension+++9af6ae16-950a-4ac8-b634-8f433c84e0ae^userContextId=4294967295/idb\n",
      "created /home/feelus/pyfiles/src/files1.db-wal\n",
      "modified /home/feelus/pyfiles/src\n",
      "modified /home/feelus/pyfiles/src/files1.db-wal\n",
      "created /home/feelus/pyfiles/src/files1.db-shm\n",
      "modified /home/feelus/pyfiles/src\n",
      "modified /home/feelus/pyfiles/src/files1.db-shm\n",
      "modified /home/feelus/snap/firefox/common/.cache/mozilla/firefox/2yebzj4a.default/cache2/entries/4AA4E76C498646B899792E9A81AE4395206C9814\n",
      "modified /home/feelus/snap/firefox/common/.cache/mozilla/firefox/2yebzj4a.default/cache2/entries/4AA4E76C498646B899792E9A81AE4395206C9814\n",
      "modified /home/feelus/snap/firefox/common/.cache/mozilla/firefox/2yebzj4a.default/cache2/entries/4AA4E76C498646B899792E9A81AE4395206C9814\n",
      "modified /home/feelus/snap/firefox/common/.cache/mozilla/firefox/2yebzj4a.default/cache2/entries\n",
      "modified /home/feelus/snap/firefox/common/.cache/mozilla/firefox/2yebzj4a.default/cache2/entries/EE16810C280311A3EE8A486F7EFE7E0BD101E583\n",
      "modified /home/feelus/snap/firefox/common/.cache/mozilla/firefox/2yebzj4a.default/cache2/entries/EE16810C280311A3EE8A486F7EFE7E0BD101E583\n",
      "modified /home/feelus/snap/firefox/common/.cache/mozilla/firefox/2yebzj4a.default/cache2/entries\n",
      "modified /home/feelus/snap/firefox/common/.cache/mozilla/firefox/2yebzj4a.default/cache2/entries/F7B4C542C6E1E26E0E409039C4214EF6DA3BE75F\n",
      "modified /home/feelus/snap/firefox/common/.cache/mozilla/firefox/2yebzj4a.default/cache2/entries/F7B4C542C6E1E26E0E409039C4214EF6DA3BE75F\n",
      "modified /home/feelus/snap/firefox/common/.cache/mozilla/firefox/2yebzj4a.default/cache2/entries\n",
      "modified /home/feelus/snap/firefox/common/.mozilla/firefox/2yebzj4a.default/storage/default/moz-extension+++9af6ae16-950a-4ac8-b634-8f433c84e0ae^userContextId=4294967295/idb/3647222921wleabcEoxlt-eengsairo.sqlite-wal\n",
      "modified /home/feelus/snap/firefox/common/.mozilla/firefox/2yebzj4a.default/storage/default/moz-extension+++9af6ae16-950a-4ac8-b634-8f433c84e0ae^userContextId=4294967295/idb/3647222921wleabcEoxlt-eengsairo.sqlite-wal\n",
      "modified /home/feelus/snap/firefox/common/.mozilla/firefox/2yebzj4a.default/storage/default/moz-extension+++9af6ae16-950a-4ac8-b634-8f433c84e0ae^userContextId=4294967295/idb/3647222921wleabcEoxlt-eengsairo.sqlite-wal\n",
      "modified /home/feelus/snap/firefox/common/.mozilla/firefox/2yebzj4a.default/storage/default/moz-extension+++9af6ae16-950a-4ac8-b634-8f433c84e0ae^userContextId=4294967295/idb\n",
      "modified /home/feelus/snap/firefox/common/.mozilla/firefox/2yebzj4a.default/storage/default/moz-extension+++9af6ae16-950a-4ac8-b634-8f433c84e0ae^userContextId=4294967295/idb/3647222921wleabcEoxlt-eengsairo.sqlite-wal\n",
      "created /home/feelus/snap/firefox/common/.mozilla/firefox/2yebzj4a.default/storage/default/https+++vk.com/ls/data.sqlite-journal\n",
      "modified /home/feelus/snap/firefox/common/.mozilla/firefox/2yebzj4a.default/storage/default/https+++vk.com/ls\n",
      "modified /home/feelus/snap/firefox/common/.mozilla/firefox/2yebzj4a.default/storage/default/https+++vk.com/ls/data.sqlite-journal\n",
      "created /home/feelus/snap/firefox/common/.mozilla/firefox/2yebzj4a.default/storage/default/https+++vk.com/ls/usage-journal\n",
      "modified /home/feelus/snap/firefox/common/.mozilla/firefox/2yebzj4a.default/storage/default/https+++vk.com/ls\n",
      "modified /home/feelus/snap/firefox/common/.mozilla/firefox/2yebzj4a.default/storage/default/https+++vk.com/ls/usage-journal\n",
      "modified /home/feelus/snap/firefox/common/.mozilla/firefox/2yebzj4a.default/storage/default/https+++vk.com/ls\n",
      "modified /home/feelus/snap/firefox/common/.mozilla/firefox/2yebzj4a.default/storage/default/https+++vk.com/ls/usage\n",
      "modified /home/feelus/snap/firefox/common/.mozilla/firefox/2yebzj4a.default/storage/default/https+++vk.com/ls/usage\n",
      "modified /home/feelus/snap/firefox/common/.mozilla/firefox/2yebzj4a.default/storage/default/https+++vk.com/ls\n",
      "modified /home/feelus/snap/firefox/common/.mozilla/firefox/2yebzj4a.default/storage/default/https+++vk.com/ls/data.sqlite-journal\n",
      "modified /home/feelus/snap/firefox/common/.mozilla/firefox/2yebzj4a.default/storage/default/https+++vk.com/ls/data.sqlite-journal\n",
      "modified /home/feelus/snap/firefox/common/.mozilla/firefox/2yebzj4a.default/storage/default/https+++vk.com/ls/data.sqlite\n",
      "modified /home/feelus/snap/firefox/common/.mozilla/firefox/2yebzj4a.default/storage/default/https+++vk.com/ls/data.sqlite-journal\n",
      "modified /home/feelus/snap/firefox/common/.mozilla/firefox/2yebzj4a.default/storage/default/https+++vk.com/ls\n",
      "deleted /home/feelus/snap/firefox/common/.mozilla/firefox/2yebzj4a.default/storage/default/https+++vk.com/ls/data.sqlite-journal\n",
      "modified /home/feelus/snap/firefox/common/.mozilla/firefox/2yebzj4a.default/storage/default/https+++vk.com/ls\n",
      "deleted /home/feelus/snap/firefox/common/.mozilla/firefox/2yebzj4a.default/storage/default/https+++vk.com/ls/usage-journal\n",
      "modified /home/feelus/snap/firefox/common/.mozilla/firefox/2yebzj4a.default/storage/default/https+++vk.com/ls\n",
      "modified /home/feelus/snap/firefox/common/.cache/mozilla/firefox/2yebzj4a.default/cache2/entries/F7B4C542C6E1E26E0E409039C4214EF6DA3BE75F\n",
      "modified /home/feelus/snap/firefox/common/.cache/mozilla/firefox/2yebzj4a.default/cache2/entries/F7B4C542C6E1E26E0E409039C4214EF6DA3BE75F\n",
      "modified /home/feelus/snap/firefox/common/.cache/mozilla/firefox/2yebzj4a.default/cache2/entries\n",
      "modified /home/feelus/snap/firefox/common/.mozilla/firefox/2yebzj4a.default/storage/default/moz-extension+++9af6ae16-950a-4ac8-b634-8f433c84e0ae^userContextId=4294967295/idb/3647222921wleabcEoxlt-eengsairo.sqlite-wal\n",
      "modified /home/feelus/snap/firefox/common/.mozilla/firefox/2yebzj4a.default/storage/default/moz-extension+++9af6ae16-950a-4ac8-b634-8f433c84e0ae^userContextId=4294967295/idb\n",
      "modified /home/feelus/snap/firefox/common/.mozilla/firefox/2yebzj4a.default/storage/default/moz-extension+++9af6ae16-950a-4ac8-b634-8f433c84e0ae^userContextId=4294967295/idb/3647222921wleabcEoxlt-eengsairo.sqlite-wal\n",
      "modified /home/feelus/snap/firefox/common/.mozilla/firefox/2yebzj4a.default/storage-sync-v2.sqlite-wal\n",
      "modified /home/feelus/snap/firefox/common/.mozilla/firefox/2yebzj4a.default/cookies.sqlite-wal\n",
      "modified /home/feelus/snap/firefox/common/.mozilla/firefox/2yebzj4a.default/cookies.sqlite\n",
      "modified /home/feelus/snap/firefox/common/.mozilla/firefox/2yebzj4a.default/cookies.sqlite\n",
      "modified /home/feelus/snap/firefox/common/.mozilla/firefox/2yebzj4a.default/storage-sync-v2.sqlite-wal\n",
      "modified /home/feelus/snap/firefox/common/.mozilla/firefox/2yebzj4a.default/storage-sync-v2.sqlite-wal\n",
      "modified /home/feelus/snap/firefox/common/.mozilla/firefox/2yebzj4a.default/storage-sync-v2.sqlite-wal\n",
      "modified /home/feelus/snap/firefox/common/.mozilla/firefox/2yebzj4a.default/storage/default/moz-extension+++9af6ae16-950a-4ac8-b634-8f433c84e0ae^userContextId=4294967295/idb/3647222921wleabcEoxlt-eengsairo.sqlite\n",
      "modified /home/feelus/snap/firefox/common/.mozilla/firefox/2yebzj4a.default/storage/default/moz-extension+++9af6ae16-950a-4ac8-b634-8f433c84e0ae^userContextId=4294967295/idb/3647222921wleabcEoxlt-eengsairo.sqlite\n",
      "modified /home/feelus/snap/firefox/common/.mozilla/firefox/2yebzj4a.default/storage/default/moz-extension+++9af6ae16-950a-4ac8-b634-8f433c84e0ae^userContextId=4294967295/idb/3647222921wleabcEoxlt-eengsairo.sqlite-wal\n",
      "modified /home/feelus/snap/firefox/common/.mozilla/firefox/2yebzj4a.default/storage-sync-v2.sqlite-wal\n",
      "modified /home/feelus/snap/firefox/common/.mozilla/firefox/2yebzj4a.default/storage-sync-v2.sqlite-wal\n",
      "modified /home/feelus/snap/firefox/common/.mozilla/firefox/2yebzj4a.default/storage-sync-v2.sqlite-wal\n",
      "COMMIT 1736945779.6454732\n",
      "modified /home/feelus/snap/firefox/common/.mozilla/firefox/2yebzj4a.default/storage-sync-v2.sqlite-wal\n",
      "modified /home/feelus/snap/firefox/common/.mozilla/firefox/2yebzj4a.default/storage-sync-v2.sqlite-wal\n",
      "modified /home/feelus/snap/firefox/common/.mozilla/firefox/2yebzj4a.default/storage-sync-v2.sqlite-wal\n",
      "modified /home/feelus/snap/firefox/common/.mozilla/firefox/2yebzj4a.default/storage-sync-v2.sqlite-wal\n",
      "modified /home/feelus/snap/firefox/common/.mozilla/firefox/2yebzj4a.default/storage-sync-v2.sqlite-wal\n",
      "created /home/feelus/snap/firefox/common/.mozilla/firefox/2yebzj4a.default/storage/default/https+++vk.com/ls/data.sqlite-journal\n",
      "modified /home/feelus/snap/firefox/common/.mozilla/firefox/2yebzj4a.default/storage/default/https+++vk.com/ls\n",
      "modified /home/feelus/snap/firefox/common/.mozilla/firefox/2yebzj4a.default/storage/default/https+++vk.com/ls/data.sqlite-journal\n",
      "modified /home/feelus/snap/firefox/common/.mozilla/firefox/2yebzj4a.default/storage/default/https+++vk.com/ls/data.sqlite-journal\n",
      "created /home/feelus/snap/firefox/common/.mozilla/firefox/2yebzj4a.default/storage/default/https+++vk.com/ls/usage-journal\n",
      "modified /home/feelus/snap/firefox/common/.mozilla/firefox/2yebzj4a.default/storage/default/https+++vk.com/ls\n",
      "modified /home/feelus/snap/firefox/common/.mozilla/firefox/2yebzj4a.default/storage/default/https+++vk.com/ls/usage-journal\n",
      "modified /home/feelus/snap/firefox/common/.mozilla/firefox/2yebzj4a.default/storage/default/https+++vk.com/ls\n",
      "modified /home/feelus/snap/firefox/common/.mozilla/firefox/2yebzj4a.default/storage/default/https+++vk.com/ls/usage\n",
      "modified /home/feelus/snap/firefox/common/.mozilla/firefox/2yebzj4a.default/storage/default/https+++vk.com/ls/usage\n",
      "modified /home/feelus/snap/firefox/common/.mozilla/firefox/2yebzj4a.default/storage/default/https+++vk.com/ls\n",
      "modified /home/feelus/snap/firefox/common/.mozilla/firefox/2yebzj4a.default/storage/default/https+++vk.com/ls/data.sqlite-journal\n",
      "modified /home/feelus/snap/firefox/common/.mozilla/firefox/2yebzj4a.default/storage/default/https+++vk.com/ls/data.sqlite-journal\n",
      "modified /home/feelus/snap/firefox/common/.mozilla/firefox/2yebzj4a.default/storage/default/https+++vk.com/ls/data.sqlite\n",
      "modified /home/feelus/snap/firefox/common/.mozilla/firefox/2yebzj4a.default/storage/default/https+++vk.com/ls/data.sqlite-journal\n",
      "modified /home/feelus/snap/firefox/common/.mozilla/firefox/2yebzj4a.default/storage/default/https+++vk.com/ls\n",
      "deleted /home/feelus/snap/firefox/common/.mozilla/firefox/2yebzj4a.default/storage/default/https+++vk.com/ls/data.sqlite-journal\n",
      "modified /home/feelus/snap/firefox/common/.mozilla/firefox/2yebzj4a.default/storage/default/https+++vk.com/ls\n",
      "deleted /home/feelus/snap/firefox/common/.mozilla/firefox/2yebzj4a.default/storage/default/https+++vk.com/ls/usage-journal\n",
      "modified /home/feelus/snap/firefox/common/.mozilla/firefox/2yebzj4a.default/storage/default/https+++vk.com/ls\n",
      "modified /var/lib/systemd/timesync/clock\n",
      "moved /home/feelus/snap/firefox/common/.cache/mozilla/firefox/2yebzj4a.default/cache2/entries/5BD6F2E532FFC423441AAEB508E975210566CE55\n",
      "modified /home/feelus/snap/firefox/common/.cache/mozilla/firefox/2yebzj4a.default/cache2/entries\n",
      "modified /home/feelus/snap/firefox/common/.cache/mozilla/firefox/2yebzj4a.default/cache2/doomed\n",
      "deleted /home/feelus/snap/firefox/common/.cache/mozilla/firefox/2yebzj4a.default/cache2/doomed/1578290625\n",
      "modified /home/feelus/snap/firefox/common/.cache/mozilla/firefox/2yebzj4a.default/cache2/doomed\n",
      "modified /home/feelus/snap/firefox/common/.mozilla/firefox/2yebzj4a.default/storage-sync-v2.sqlite-wal\n",
      "modified /home/feelus/snap/firefox/common/.mozilla/firefox/2yebzj4a.default/cookies.sqlite-wal\n",
      "moved /home/feelus/snap/firefox/common/.cache/mozilla/firefox/2yebzj4a.default/cache2/entries/4C26839F5297EC72877F62B611CFA32BED8AFCE9\n",
      "modified /home/feelus/snap/firefox/common/.cache/mozilla/firefox/2yebzj4a.default/cache2/entries\n",
      "modified /home/feelus/snap/firefox/common/.cache/mozilla/firefox/2yebzj4a.default/cache2/doomed\n",
      "deleted /home/feelus/snap/firefox/common/.cache/mozilla/firefox/2yebzj4a.default/cache2/doomed/873870077\n",
      "modified /home/feelus/snap/firefox/common/.cache/mozilla/firefox/2yebzj4a.default/cache2/doomed\n",
      "modified /home/feelus/snap/firefox/common/.mozilla/firefox/2yebzj4a.default/storage-sync-v2.sqlite-wal\n",
      "modified /home/feelus/snap/firefox/common/.mozilla/firefox/2yebzj4a.default/storage-sync-v2.sqlite-wal\n",
      "modified /home/feelus/snap/firefox/common/.mozilla/firefox/2yebzj4a.default/storage-sync-v2.sqlite-wal\n",
      "modified /home/feelus/snap/firefox/common/.mozilla/firefox/2yebzj4a.default/storage-sync-v2.sqlite-wal\n",
      "COMMIT 1736945785.7572637\n",
      "modified /home/feelus/snap/firefox/common/.mozilla/firefox/2yebzj4a.default/storage/default/moz-extension+++9af6ae16-950a-4ac8-b634-8f433c84e0ae^userContextId=4294967295/idb/3647222921wleabcEoxlt-eengsairo.sqlite-wal\n",
      "modified /home/feelus/snap/firefox/common/.mozilla/firefox/2yebzj4a.default/storage/default/moz-extension+++9af6ae16-950a-4ac8-b634-8f433c84e0ae^userContextId=4294967295/idb\n",
      "modified /home/feelus/snap/firefox/common/.mozilla/firefox/2yebzj4a.default/storage/default/moz-extension+++9af6ae16-950a-4ac8-b634-8f433c84e0ae^userContextId=4294967295/idb/3647222921wleabcEoxlt-eengsairo.sqlite\n",
      "modified /home/feelus/snap/firefox/common/.mozilla/firefox/2yebzj4a.default/storage/default/moz-extension+++9af6ae16-950a-4ac8-b634-8f433c84e0ae^userContextId=4294967295/idb\n",
      "modified /home/feelus/snap/firefox/common/.mozilla/firefox/2yebzj4a.default/storage-sync-v2.sqlite-wal\n",
      "created /home/feelus/snap/firefox/common/.cache/mozilla/firefox/2yebzj4a.default/cache2/entries/6A737F6CDFF8235FB6BB543397A7744DF2530112\n",
      "modified /home/feelus/snap/firefox/common/.cache/mozilla/firefox/2yebzj4a.default/cache2/entries\n",
      "created /home/feelus/snap/firefox/common/.mozilla/firefox/2yebzj4a.default/storage/default/https+++vk.com/ls/data.sqlite-journal\n",
      "modified /home/feelus/snap/firefox/common/.mozilla/firefox/2yebzj4a.default/storage/default/https+++vk.com/ls\n",
      "modified /home/feelus/snap/firefox/common/.cache/mozilla/firefox/2yebzj4a.default/cache2/entries/6A737F6CDFF8235FB6BB543397A7744DF2530112\n",
      "modified /home/feelus/snap/firefox/common/.mozilla/firefox/2yebzj4a.default/storage/default/https+++vk.com/ls/data.sqlite-journal\n",
      "created /home/feelus/snap/firefox/common/.cache/mozilla/firefox/2yebzj4a.default/cache2/entries/72E72A977B29D924B025B39C3A07D7C16D8B2E22\n",
      "modified /home/feelus/snap/firefox/common/.cache/mozilla/firefox/2yebzj4a.default/cache2/entries\n",
      "modified /home/feelus/snap/firefox/common/.mozilla/firefox/2yebzj4a.default/storage/default/https+++vk.com/ls/data.sqlite-journal\n",
      "modified /home/feelus/snap/firefox/common/.cache/mozilla/firefox/2yebzj4a.default/cache2/entries/72E72A977B29D924B025B39C3A07D7C16D8B2E22\n",
      "created /home/feelus/snap/firefox/common/.mozilla/firefox/2yebzj4a.default/storage/default/https+++vk.com/ls/usage-journal\n",
      "modified /home/feelus/snap/firefox/common/.mozilla/firefox/2yebzj4a.default/storage/default/https+++vk.com/ls\n",
      "modified /home/feelus/snap/firefox/common/.cache/mozilla/firefox/2yebzj4a.default/cache2/entries/6A737F6CDFF8235FB6BB543397A7744DF2530112\n",
      "modified /home/feelus/snap/firefox/common/.cache/mozilla/firefox/2yebzj4a.default/cache2/entries\n",
      "modified /home/feelus/snap/firefox/common/.mozilla/firefox/2yebzj4a.default/storage/default/https+++vk.com/ls/usage-journal\n",
      "modified /home/feelus/snap/firefox/common/.mozilla/firefox/2yebzj4a.default/storage/default/https+++vk.com/ls\n",
      "modified /home/feelus/snap/firefox/common/.cache/mozilla/firefox/2yebzj4a.default/cache2/entries/72E72A977B29D924B025B39C3A07D7C16D8B2E22\n",
      "modified /home/feelus/snap/firefox/common/.cache/mozilla/firefox/2yebzj4a.default/cache2/entries\n",
      "modified /home/feelus/snap/firefox/common/.mozilla/firefox/2yebzj4a.default/storage/default/https+++vk.com/ls/usage\n",
      "modified /home/feelus/snap/firefox/common/.mozilla/firefox/2yebzj4a.default/storage/default/https+++vk.com/ls/usage\n",
      "modified /home/feelus/snap/firefox/common/.mozilla/firefox/2yebzj4a.default/storage/default/https+++vk.com/ls\n",
      "modified /home/feelus/snap/firefox/common/.mozilla/firefox/2yebzj4a.default/storage/default/https+++vk.com/ls/data.sqlite-journal\n",
      "modified /home/feelus/snap/firefox/common/.mozilla/firefox/2yebzj4a.default/storage/default/https+++vk.com/ls/data.sqlite-journal\n",
      "modified /home/feelus/snap/firefox/common/.mozilla/firefox/2yebzj4a.default/storage/default/https+++vk.com/ls/data.sqlite\n",
      "modified /home/feelus/snap/firefox/common/.mozilla/firefox/2yebzj4a.default/storage/default/https+++vk.com/ls/data.sqlite-journal\n",
      "modified /home/feelus/snap/firefox/common/.mozilla/firefox/2yebzj4a.default/storage/default/https+++vk.com/ls\n",
      "deleted /home/feelus/snap/firefox/common/.mozilla/firefox/2yebzj4a.default/storage/default/https+++vk.com/ls/data.sqlite-journal\n",
      "modified /home/feelus/snap/firefox/common/.mozilla/firefox/2yebzj4a.default/storage/default/https+++vk.com/ls\n",
      "deleted /home/feelus/snap/firefox/common/.mozilla/firefox/2yebzj4a.default/storage/default/https+++vk.com/ls/usage-journal\n",
      "modified /home/feelus/snap/firefox/common/.mozilla/firefox/2yebzj4a.default/storage/default/https+++vk.com/ls\n",
      "modified /home/feelus/snap/firefox/common/.mozilla/firefox/2yebzj4a.default/storage-sync-v2.sqlite-wal\n",
      "moved /home/feelus/snap/firefox/common/.mozilla/firefox/2yebzj4a.default/sessionstore-backups/recovery.jsonlz4\n",
      "modified /home/feelus/snap/firefox/common/.mozilla/firefox/2yebzj4a.default/sessionstore-backups\n",
      "created /home/feelus/snap/firefox/common/.mozilla/firefox/2yebzj4a.default/sessionstore-backups/recovery.jsonlz4.tmp\n",
      "modified /home/feelus/snap/firefox/common/.mozilla/firefox/2yebzj4a.default/sessionstore-backups\n",
      "modified /home/feelus/snap/firefox/common/.mozilla/firefox/2yebzj4a.default/sessionstore-backups/recovery.jsonlz4.tmp\n",
      "modified /home/feelus/snap/firefox/common/.mozilla/firefox/2yebzj4a.default/sessionstore-backups/recovery.jsonlz4.tmp\n",
      "modified /home/feelus/snap/firefox/common/.mozilla/firefox/2yebzj4a.default/sessionstore-backups\n",
      "moved /home/feelus/snap/firefox/common/.mozilla/firefox/2yebzj4a.default/sessionstore-backups/recovery.jsonlz4.tmp\n",
      "modified /home/feelus/snap/firefox/common/.mozilla/firefox/2yebzj4a.default/sessionstore-backups\n",
      "moved /home/feelus/snap/firefox/common/.cache/mozilla/firefox/2yebzj4a.default/cache2/entries/6A737F6CDFF8235FB6BB543397A7744DF2530112\n",
      "modified /home/feelus/snap/firefox/common/.cache/mozilla/firefox/2yebzj4a.default/cache2/entries\n",
      "modified /home/feelus/snap/firefox/common/.cache/mozilla/firefox/2yebzj4a.default/cache2/doomed\n",
      "deleted /home/feelus/snap/firefox/common/.cache/mozilla/firefox/2yebzj4a.default/cache2/doomed/345448099\n",
      "modified /home/feelus/snap/firefox/common/.cache/mozilla/firefox/2yebzj4a.default/cache2/doomed\n",
      "modified /home/feelus/snap/firefox/common/.mozilla/firefox/2yebzj4a.default/storage-sync-v2.sqlite-wal\n",
      "modified /home/feelus/snap/firefox/common/.mozilla/firefox/2yebzj4a.default/storage-sync-v2.sqlite-wal\n",
      "modified /home/feelus/snap/firefox/common/.mozilla/firefox/2yebzj4a.default/storage-sync-v2.sqlite-wal\n",
      "modified /home/feelus/snap/firefox/common/.mozilla/firefox/2yebzj4a.default/storage-sync-v2.sqlite-wal\n",
      "modified /home/feelus/snap/firefox/common/.mozilla/firefox/2yebzj4a.default/storage-sync-v2.sqlite-wal\n",
      "COMMIT 1736945791.8123057\n",
      "moved /home/feelus/snap/firefox/common/.cache/mozilla/firefox/2yebzj4a.default/cache2/entries/8981DFE58FA273E49BBD34C3AB5791D443C1010F\n",
      "modified /home/feelus/snap/firefox/common/.cache/mozilla/firefox/2yebzj4a.default/cache2/entries\n",
      "modified /home/feelus/snap/firefox/common/.cache/mozilla/firefox/2yebzj4a.default/cache2/doomed\n",
      "deleted /home/feelus/snap/firefox/common/.cache/mozilla/firefox/2yebzj4a.default/cache2/doomed/1853433027\n",
      "modified /home/feelus/snap/firefox/common/.cache/mozilla/firefox/2yebzj4a.default/cache2/doomed\n",
      "modified /home/feelus/snap/firefox/common/.mozilla/firefox/2yebzj4a.default/storage-sync-v2.sqlite-wal\n",
      "created /home/feelus/snap/firefox/common/.cache/mozilla/firefox/2yebzj4a.default/cache2/entries/40E970FC28C9248E5A5D98F6AD4A32951D1C4D98\n",
      "modified /home/feelus/snap/firefox/common/.cache/mozilla/firefox/2yebzj4a.default/cache2/entries\n",
      "created /home/feelus/snap/firefox/common/.mozilla/firefox/2yebzj4a.default/storage/default/https+++vk.com/ls/data.sqlite-journal\n",
      "modified /home/feelus/snap/firefox/common/.mozilla/firefox/2yebzj4a.default/storage/default/https+++vk.com/ls\n",
      "modified /home/feelus/snap/firefox/common/.mozilla/firefox/2yebzj4a.default/storage/default/https+++vk.com/ls/data.sqlite-journal\n",
      "modified /home/feelus/snap/firefox/common/.cache/mozilla/firefox/2yebzj4a.default/cache2/entries/40E970FC28C9248E5A5D98F6AD4A32951D1C4D98\n",
      "modified /home/feelus/snap/firefox/common/.mozilla/firefox/2yebzj4a.default/storage/default/https+++vk.com/ls/data.sqlite-journal\n",
      "modified /home/feelus/snap/firefox/common/.cache/mozilla/firefox/2yebzj4a.default/cache2/entries/40E970FC28C9248E5A5D98F6AD4A32951D1C4D98\n",
      "modified /home/feelus/snap/firefox/common/.mozilla/firefox/2yebzj4a.default/storage/default/https+++vk.com/ls/data.sqlite-journal\n",
      "modified /home/feelus/snap/firefox/common/.cache/mozilla/firefox/2yebzj4a.default/cache2/entries/40E970FC28C9248E5A5D98F6AD4A32951D1C4D98\n",
      "modified /home/feelus/snap/firefox/common/.cache/mozilla/firefox/2yebzj4a.default/cache2/entries\n",
      "modified /home/feelus/snap/firefox/common/.mozilla/firefox/2yebzj4a.default/storage/default/https+++vk.com/ls/data.sqlite-journal\n",
      "created /home/feelus/snap/firefox/common/.mozilla/firefox/2yebzj4a.default/storage/default/https+++vk.com/ls/usage-journal\n",
      "modified /home/feelus/snap/firefox/common/.mozilla/firefox/2yebzj4a.default/storage/default/https+++vk.com/ls\n",
      "modified /home/feelus/snap/firefox/common/.mozilla/firefox/2yebzj4a.default/storage/default/https+++vk.com/ls/usage-journal\n",
      "modified /home/feelus/snap/firefox/common/.mozilla/firefox/2yebzj4a.default/storage/default/https+++vk.com/ls\n",
      "modified /home/feelus/snap/firefox/common/.mozilla/firefox/2yebzj4a.default/storage/default/https+++vk.com/ls/usage\n",
      "modified /home/feelus/snap/firefox/common/.mozilla/firefox/2yebzj4a.default/storage/default/https+++vk.com/ls/usage\n",
      "modified /home/feelus/snap/firefox/common/.mozilla/firefox/2yebzj4a.default/storage/default/https+++vk.com/ls\n",
      "modified /home/feelus/snap/firefox/common/.mozilla/firefox/2yebzj4a.default/storage/default/https+++vk.com/ls/data.sqlite-journal\n",
      "modified /home/feelus/snap/firefox/common/.mozilla/firefox/2yebzj4a.default/storage/default/https+++vk.com/ls/data.sqlite-journal\n",
      "modified /home/feelus/snap/firefox/common/.mozilla/firefox/2yebzj4a.default/storage/default/https+++vk.com/ls/data.sqlite\n",
      "moved /home/feelus/snap/firefox/common/.cache/mozilla/firefox/2yebzj4a.default/cache2/entries/EBF779EEEC2C01C65138DAD6806E0D3B6EDCDD1B\n",
      "modified /home/feelus/snap/firefox/common/.cache/mozilla/firefox/2yebzj4a.default/cache2/entries\n",
      "modified /home/feelus/snap/firefox/common/.cache/mozilla/firefox/2yebzj4a.default/cache2/doomed\n",
      "deleted /home/feelus/snap/firefox/common/.cache/mozilla/firefox/2yebzj4a.default/cache2/doomed/82558618\n",
      "modified /home/feelus/snap/firefox/common/.cache/mozilla/firefox/2yebzj4a.default/cache2/doomed\n",
      "modified /home/feelus/snap/firefox/common/.mozilla/firefox/2yebzj4a.default/storage/default/https+++vk.com/ls/data.sqlite-journal\n",
      "modified /home/feelus/snap/firefox/common/.mozilla/firefox/2yebzj4a.default/storage/default/https+++vk.com/ls\n",
      "deleted /home/feelus/snap/firefox/common/.mozilla/firefox/2yebzj4a.default/storage/default/https+++vk.com/ls/data.sqlite-journal\n",
      "modified /home/feelus/snap/firefox/common/.mozilla/firefox/2yebzj4a.default/storage/default/https+++vk.com/ls\n",
      "deleted /home/feelus/snap/firefox/common/.mozilla/firefox/2yebzj4a.default/storage/default/https+++vk.com/ls/usage-journal\n",
      "modified /home/feelus/snap/firefox/common/.mozilla/firefox/2yebzj4a.default/storage/default/https+++vk.com/ls\n",
      "modified /home/feelus/snap/firefox/common/.cache/mozilla/firefox/2yebzj4a.default/cache2/entries/FE766096FAB983335E299352D305F153E86F1611\n",
      "modified /home/feelus/snap/firefox/common/.cache/mozilla/firefox/2yebzj4a.default/cache2/entries/FE766096FAB983335E299352D305F153E86F1611\n",
      "modified /home/feelus/snap/firefox/common/.cache/mozilla/firefox/2yebzj4a.default/cache2/entries\n",
      "created /home/feelus/snap/firefox/common/.mozilla/firefox/2yebzj4a.default/settings/data.safe.tmp\n",
      "modified /home/feelus/snap/firefox/common/.mozilla/firefox/2yebzj4a.default/settings\n",
      "modified /home/feelus/snap/firefox/common/.mozilla/firefox/2yebzj4a.default/settings/data.safe.tmp\n",
      "modified /home/feelus/snap/firefox/common/.mozilla/firefox/2yebzj4a.default/settings/data.safe.tmp\n",
      "modified /home/feelus/snap/firefox/common/.mozilla/firefox/2yebzj4a.default/settings\n",
      "moved /home/feelus/snap/firefox/common/.mozilla/firefox/2yebzj4a.default/settings/data.safe.tmp\n",
      "modified /home/feelus/snap/firefox/common/.mozilla/firefox/2yebzj4a.default/settings\n",
      "modified /home/feelus/snap/firefox/common/.mozilla/firefox/2yebzj4a.default/storage-sync-v2.sqlite-wal\n"
     ]
    },
    {
     "name": "stdin",
     "output_type": "stream",
     "text": [
      " q\n"
     ]
    },
    {
     "name": "stdout",
     "output_type": "stream",
     "text": [
      "Observer остановлен.  Thread-182\n"
     ]
    }
   ],
   "source": [
    "# взаимодействуем с ФС\n",
    "from watchdog.events import FileSystemEvent, FileSystemEventHandler\n",
    "from watchdog.observers import Observer\n",
    "import threading\n",
    "lock = threading.Lock()\n",
    "from time import time, sleep\n",
    "\n",
    "# todo список полностью игнорируемых путей\n",
    "if 1:\n",
    "    def modified(src_path, is_directory, is_synthetic, cursor):\n",
    "        print('modified',src_path)\n",
    "    \n",
    "    def created(src_path, is_directory, is_synthetic, cursor):\n",
    "        print('created',src_path)\n",
    "    \n",
    "    def deleted(src_path, is_directory, s_synthetic, cursor):\n",
    "        print('deleted',src_path)\n",
    "    \n",
    "    def moved(src_path, dest_path, is_directory, s_synthetic, cursor):\n",
    "        print('moved',src_path)\n",
    "    \n",
    "class MyEventHandler(FileSystemEventHandler):\n",
    "    def update(self):\n",
    "        if time()-self.last_update>60:\n",
    "            if self.connection.in_transaction:\n",
    "                self.cursor.execute('COMMIT')\n",
    "                print('COMMIT',self.last_update)\n",
    "            self.last_update = time()\n",
    "    def on_any_event(self, event: FileSystemEvent) -> None:\n",
    "        if event.event_type=='closed_no_write':\n",
    "            pass\n",
    "        elif event.event_type=='opened':\n",
    "            pass\n",
    "        elif event.event_type=='modified' or event.event_type=='closed':\n",
    "            try:\n",
    "                stat = os.stat(event.src_path,follow_symlinks=False)\n",
    "                with lock:\n",
    "                    modified(event.src_path, stat, event.is_directory, event.is_synthetic, self.cursor)\n",
    "                    self.update()\n",
    "            except FileNotFoundError as e:\n",
    "                print('error in modified event:', e, event.src_path, event.is_directory, event.is_synthetic)\n",
    "        elif event.event_type=='created':\n",
    "            try:\n",
    "                stat = os.stat(event.src_path,follow_symlinks=False)\n",
    "                with lock:\n",
    "                    created(event.src_path, stat, event.is_directory, event.is_synthetic, self.cursor)\n",
    "                    self.update()\n",
    "            except FileNotFoundError as e:\n",
    "                print('error in created event:', e, event.src_path, event.is_directory, event.is_synthetic)\n",
    "        elif event.event_type=='deleted':\n",
    "            with lock:\n",
    "                deleted(event.src_path, event.is_directory, event.is_synthetic, self.cursor)\n",
    "                self.update()\n",
    "        elif event.event_type=='moved':\n",
    "            try:\n",
    "                stat = os.stat(event.dest_path,follow_symlinks=False)\n",
    "            except FileNotFoundError:\n",
    "                stat = make_dict(st_mode=None,st_ino=None,st_dev=None,st_nlink=None,st_uid=None,st_gid=None,st_size=None,\n",
    "                       st_atime=None,st_mtime=None,st_ctime=None,st_blocks=None,st_blksize=None)\n",
    "            with lock:\n",
    "                moved(event.src_path, event.dest_path, stat, event.is_directory, event.is_synthetic, self.cursor)\n",
    "                self.update()\n",
    "        else:\n",
    "            raise Exception(event)\n",
    "            \n",
    "class MyObserver(Observer):\n",
    "    def __init__(self, event_handler):\n",
    "        super().__init__()\n",
    "        self.event_handler = event_handler\n",
    "\n",
    "    def run(self):\n",
    "        self.on_observer_start()  # Вызываем функцию при старте и передаем переменную в обработчик\n",
    "        try:\n",
    "            super().run()  # Запускаем стандартный обработчик\n",
    "        finally:\n",
    "            self.on_observer_stop()  # Вызываем функцию при завершении\n",
    "\n",
    "    def on_observer_start(self):\n",
    "        print(\"Observer запущен. \", threading.current_thread().name)\n",
    "\n",
    "        self.event_handler.connection = sqlite3.connect(FILES_DB)\n",
    "        self.event_handler.cursor = self.event_handler.connection.cursor()    \n",
    "        self.event_handler.cursor.execute(\"PRAGMA journal_mode=WAL;\")\n",
    "\n",
    "        self.event_handler.last_update = time()\n",
    "\n",
    "    def on_observer_stop(self):\n",
    "        self.event_handler.connection.commit()\n",
    "        print(\"Observer остановлен. \", threading.current_thread().name)\n",
    "\n",
    "if __name__ == \"__main__\":\n",
    "    def observe(root_dirs):\n",
    "        event_handler = MyEventHandler()  # Создаем обработчик с временным значением shared_data\n",
    "        observer = MyObserver(event_handler)\n",
    "\n",
    "        for dr in root_dirs:\n",
    "            observer.schedule(event_handler, '/'+dr, recursive=True)\n",
    "        observer.start()\n",
    "        return observer\n",
    "\n",
    "    observer = observe(get_root_dirs())\n",
    "\n",
    "    print(\"Все запущены...\", threading.current_thread().name)\n",
    "\n",
    "    try:\n",
    "        while True:\n",
    "            x = input()\n",
    "            if x == 'q':\n",
    "                break\n",
    "            print(x)\n",
    "    finally:\n",
    "        observer.stop()  # Останавливаем Observer\n",
    "        observer.join()  # Ждем завершения потока\n"
   ]
  },
  {
   "cell_type": "code",
   "execution_count": null,
   "id": "e7652468-e4f0-4143-aae5-afdc59f12d92",
   "metadata": {},
   "outputs": [],
   "source": []
  },
  {
   "cell_type": "code",
   "execution_count": null,
   "id": "2eb3b10e-2970-4b45-9ad8-c682618f6211",
   "metadata": {},
   "outputs": [],
   "source": []
  },
  {
   "cell_type": "code",
   "execution_count": 20,
   "id": "e925b186-ef3c-47c5-b733-fcfe9cea62fc",
   "metadata": {},
   "outputs": [],
   "source": [
    "f = open('test','w')"
   ]
  },
  {
   "cell_type": "code",
   "execution_count": 21,
   "id": "585e5c10-5cb3-4398-82de-0db6b358642c",
   "metadata": {},
   "outputs": [],
   "source": [
    "f.close()"
   ]
  },
  {
   "cell_type": "code",
   "execution_count": 22,
   "id": "5a6db225-6e1d-43b2-86df-2344de70f84a",
   "metadata": {},
   "outputs": [],
   "source": [
    "connection = sqlite3.connect('test.db')\n"
   ]
  },
  {
   "cell_type": "code",
   "execution_count": 23,
   "id": "068aa1fb-c4c6-4f06-ac6d-0324cfb093f4",
   "metadata": {},
   "outputs": [],
   "source": [
    "connection.close()"
   ]
  },
  {
   "cell_type": "code",
   "execution_count": 24,
   "id": "88860890-eedc-4f6a-adbf-379b95e48a19",
   "metadata": {},
   "outputs": [],
   "source": [
    "with sqlite3.connect('test.db') as connection:\n",
    "    pass"
   ]
  },
  {
   "cell_type": "code",
   "execution_count": null,
   "id": "7a9a6e0f-7899-44d7-8400-b60accd97bd4",
   "metadata": {},
   "outputs": [],
   "source": []
  },
  {
   "cell_type": "code",
   "execution_count": 22,
   "id": "1daf79f1-6441-4eea-b743-1a968591a706",
   "metadata": {},
   "outputs": [
    {
     "data": {
      "text/plain": [
       "os.stat_result(st_mode=16893, st_ino=1318666, st_dev=2052, st_nlink=4, st_uid=1000, st_gid=1000, st_size=4096, st_atime=1737211130, st_mtime=1737211130, st_ctime=1737211130)"
      ]
     },
     "execution_count": 22,
     "metadata": {},
     "output_type": "execute_result"
    }
   ],
   "source": [
    "os.stat('.')"
   ]
  },
  {
   "cell_type": "code",
   "execution_count": 23,
   "id": "6670533c-daa2-43d7-8980-a11596d4aba4",
   "metadata": {},
   "outputs": [
    {
     "data": {
      "text/plain": [
       "os.stat_result(st_mode=41471, st_ino=12, st_dev=2052, st_nlink=1, st_uid=0, st_gid=0, st_size=7, st_atime=1737177301, st_mtime=1713791283, st_ctime=1729561328)"
      ]
     },
     "execution_count": 23,
     "metadata": {},
     "output_type": "execute_result"
    }
   ],
   "source": [
    "os.stat('/bin',follow_symlinks=False)"
   ]
  },
  {
   "cell_type": "code",
   "execution_count": 24,
   "id": "7998079b-00d6-4f1f-ab2c-d6d1be877535",
   "metadata": {},
   "outputs": [],
   "source": [
    "def access_mode(st_mode):\n",
    "    mode = STAT.S_IMODE(st_mode)\n",
    "    assert mode < 2**9\n",
    "    s = ''\n",
    "    for i in range(6,-1,-3):\n",
    "        s+= 'r' if mode & 2**(i+2) else '-'\n",
    "        s+= 'w' if mode & 2**(i+1) else '-'\n",
    "        s+= 'x' if mode & 2**(i+0) else '-'\n",
    "    return s"
   ]
  },
  {
   "cell_type": "code",
   "execution_count": 25,
   "id": "f6792af6-0d96-40ea-9c2b-6b138dd0cd6e",
   "metadata": {},
   "outputs": [
    {
     "data": {
      "text/plain": [
       "'rwxr-xr-x'"
      ]
     },
     "execution_count": 25,
     "metadata": {},
     "output_type": "execute_result"
    }
   ],
   "source": [
    "access_mode(16877)"
   ]
  },
  {
   "cell_type": "code",
   "execution_count": 26,
   "id": "fce34747-5935-4927-8078-7a1de75428b8",
   "metadata": {},
   "outputs": [
    {
     "data": {
      "text/plain": [
       "'usr/bin'"
      ]
     },
     "execution_count": 26,
     "metadata": {},
     "output_type": "execute_result"
    }
   ],
   "source": [
    "os.readlink('/bin')"
   ]
  },
  {
   "cell_type": "code",
   "execution_count": 27,
   "id": "06ba1841-8c69-46e1-98cc-9e6e491988d3",
   "metadata": {},
   "outputs": [
    {
     "data": {
      "text/plain": [
       "'1691fc18f126cb116505fa62c87ba7ae'"
      ]
     },
     "execution_count": 27,
     "metadata": {},
     "output_type": "execute_result"
    }
   ],
   "source": [
    "hashstr = hashlib.md5(open('files.db','rb').read()).hexdigest()\n",
    "hashstr"
   ]
  },
  {
   "cell_type": "code",
   "execution_count": 28,
   "id": "f8bfc6c3-9fd2-4cab-98a1-fc1e70f78206",
   "metadata": {},
   "outputs": [
    {
     "data": {
      "text/plain": [
       "'00000000000000000000000000000000'"
      ]
     },
     "execution_count": 28,
     "metadata": {},
     "output_type": "execute_result"
    }
   ],
   "source": [
    "hex( int(hashstr, 16) ^ int(hashstr, 16) )[2:].zfill(32)"
   ]
  },
  {
   "cell_type": "code",
   "execution_count": 29,
   "id": "6c829244-9ac9-434c-afb9-284c03f47bca",
   "metadata": {},
   "outputs": [
    {
     "data": {
      "text/plain": [
       "2"
      ]
     },
     "execution_count": 29,
     "metadata": {},
     "output_type": "execute_result"
    }
   ],
   "source": [
    "len(os.listdir('/home'))"
   ]
  },
  {
   "cell_type": "code",
   "execution_count": 30,
   "id": "613bf919-b53a-4b68-b024-00c309fb1c47",
   "metadata": {},
   "outputs": [
    {
     "data": {
      "text/plain": [
       "'0b1010000000000000'"
      ]
     },
     "execution_count": 30,
     "metadata": {},
     "output_type": "execute_result"
    }
   ],
   "source": [
    "bin(STAT.S_IFLNK) # 1010_0000_0000_0000"
   ]
  },
  {
   "cell_type": "code",
   "execution_count": 31,
   "id": "763c6bd4-ac73-42aa-b3f4-68d6895b395d",
   "metadata": {},
   "outputs": [
    {
     "data": {
      "text/plain": [
       "'0b100000000000000'"
      ]
     },
     "execution_count": 31,
     "metadata": {},
     "output_type": "execute_result"
    }
   ],
   "source": [
    "bin(STAT.S_IFDIR) # 0100_0000_0000_0000"
   ]
  },
  {
   "cell_type": "code",
   "execution_count": 32,
   "id": "815389e8-32b2-462f-9714-6f93077ba747",
   "metadata": {},
   "outputs": [
    {
     "data": {
      "text/plain": [
       "'0b1000000000000000'"
      ]
     },
     "execution_count": 32,
     "metadata": {},
     "output_type": "execute_result"
    }
   ],
   "source": [
    "bin(STAT.S_IFREG) # 1000_0000_0000_0000"
   ]
  },
  {
   "cell_type": "code",
   "execution_count": 33,
   "id": "961a3951-4491-4bc4-966a-6cdb8a2f2919",
   "metadata": {},
   "outputs": [
    {
     "name": "stdout",
     "output_type": "stream",
     "text": [
      "0b100000000000000\n",
      "0b10000000000000\n",
      "0b110000000000000\n",
      "0b1000000000000000\n",
      "0b1000000000000\n",
      "0b1010000000000000\n",
      "0b1100000000000000\n",
      "0b0\n"
     ]
    }
   ],
   "source": [
    "print(bin(STAT.S_IFDIR))\n",
    "print(bin(STAT.S_IFCHR))\n",
    "print(bin(STAT.S_IFBLK))\n",
    "print(bin(STAT.S_IFREG))\n",
    "print(bin(STAT.S_IFIFO))\n",
    "print(bin(STAT.S_IFLNK))\n",
    "print(bin(STAT.S_IFSOCK))\n",
    "print(bin(STAT.S_IFDOOR))"
   ]
  }
 ],
 "metadata": {
  "kernelspec": {
   "display_name": "Python 3 (ipykernel)",
   "language": "python",
   "name": "python3"
  },
  "language_info": {
   "codemirror_mode": {
    "name": "ipython",
    "version": 3
   },
   "file_extension": ".py",
   "mimetype": "text/x-python",
   "name": "python",
   "nbconvert_exporter": "python",
   "pygments_lexer": "ipython3",
   "version": "3.12.3"
  }
 },
 "nbformat": 4,
 "nbformat_minor": 5
}
