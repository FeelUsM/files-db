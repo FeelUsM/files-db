{
 "cells": [
  {
   "cell_type": "code",
   "execution_count": 1,
   "id": "5bdbc9fb-bbc0-4300-84ec-29aae94985b5",
   "metadata": {},
   "outputs": [
    {
     "data": {
      "text/plain": [
       "'\\ntodo\\n\\nсинхронизировать 2 пишущих потока\\n\\nмониторинговые и интерфейсные функции\\n\\nlist_owners(path, show_deleted)\\n    # выводить только если owner и owner родителя не совпадают\\n    deleted - с пометками\\n\\nset_owner(path, owner, *, save, update, in_deleted, del_hist)\\n\\nls_hist(path, owner, static_modified)\\n\\nпо 1-2 теста независимых на каждую функцию\\n\\npause, continue, stop\\n\\nловля ошибок и восстановление в режиме PRODUCTION_MODE\\n\\nсделать журнал с ошибками берущимися из ФС\\n\\nподготовиться к ошибкам permission denied\\n\\nrotate(time)\\n\\nполе с сообщением в hist\\n\\nразмер папок хранить в stat\\n\\nхранить историю размеров некоторых папок\\n\\nкэшировать id2path/path2ids\\n'"
      ]
     },
     "execution_count": 1,
     "metadata": {},
     "output_type": "execute_result"
    }
   ],
   "source": [
    "'''\n",
    "todo\n",
    "\n",
    "по 1-2 теста независимых на каждую функцию\n",
    "\n",
    "pause, continue, stop\n",
    "\n",
    "ловля ошибок и восстановление в режиме PRODUCTION_MODE\n",
    "\n",
    "сделать журнал с ошибками берущимися из ФС\n",
    "\n",
    "подготовиться к ошибкам permission denied\n",
    "\n",
    "rotate(time)\n",
    "\n",
    "поле с сообщением в hist\n",
    "\n",
    "размер папок хранить в stat\n",
    "\n",
    "хранить историю размеров некоторых папок\n",
    "\n",
    "кэшировать id2path/path2ids\n",
    "'''"
   ]
  },
  {
   "cell_type": "code",
   "execution_count": 12,
   "id": "eace7c9f-1ca7-4c06-8e5c-aba645d826e6",
   "metadata": {},
   "outputs": [],
   "source": [
    "%load_ext autoreload\n",
    "%autoreload 2"
   ]
  },
  {
   "cell_type": "code",
   "execution_count": 13,
   "id": "1323645a-39b5-489c-9a0d-642fd564f2e2",
   "metadata": {},
   "outputs": [],
   "source": [
    "#!rm -f files2.db"
   ]
  },
  {
   "cell_type": "code",
   "execution_count": 135,
   "id": "b324653e-f8f2-40ee-bcbc-aab0c6284724",
   "metadata": {},
   "outputs": [
    {
     "name": "stdout",
     "output_type": "stream",
     "text": [
      "walk root_dirs:\n"
     ]
    },
    {
     "name": "stderr",
     "output_type": "stream",
     "text": [
      "100%|█████████████████████████████████████████████| 1/1 [00:00<00:00, 55.28it/s]\n"
     ]
    },
    {
     "name": "stdout",
     "output_type": "stream",
     "text": [
      "calc hashes:\n"
     ]
    },
    {
     "name": "stderr",
     "output_type": "stream",
     "text": [
      "100%|███████████████████████████████████████████| 69/69 [00:01<00:00, 54.04it/s]\n"
     ]
    }
   ],
   "source": [
    "import pyfiles\n",
    "pyfiles.init_connction('files2.db','.',ro=False)"
   ]
  },
  {
   "cell_type": "code",
   "execution_count": 136,
   "id": "ae88c6e2-c24f-4fb7-8391-5d0c82ee8f13",
   "metadata": {},
   "outputs": [
    {
     "data": {
      "text/plain": [
       "<sqlite3.Cursor at 0x74a8e39ec8c0>"
      ]
     },
     "execution_count": 136,
     "metadata": {},
     "output_type": "execute_result"
    }
   ],
   "source": [
    "pyfiles.CUR"
   ]
  },
  {
   "cell_type": "code",
   "execution_count": null,
   "id": "8d70b99c-7ebc-49d4-b758-7f56c8cdd690",
   "metadata": {
    "scrolled": true
   },
   "outputs": [
    {
     "name": "stdout",
     "output_type": "stream",
     "text": [
      "start walk_stat_all\n",
      "2025-01-26 01:24:20.161340 D True 18 - /home/feelus/pyfiles/src/files2.db-journal\n",
      "2025-01-26 01:24:20.248081 M True 10 - /home/feelus/pyfiles/src/Untitled.ipynb\n",
      "2025-01-26 01:24:20.272521 M True 22 - /home/feelus/pyfiles/src/files2.db\n",
      "2025-01-26 01:24:20.297098 C True 126 - /home/feelus/pyfiles/src/files2.db-wal\n",
      "2025-01-26 01:24:20.321242 C True 127 - /home/feelus/pyfiles/src/files2.db-shm\n",
      "walk_stat_all finished\n",
      "All started... MainThread 2025-01-26 01:24:20.379550\n"
     ]
    }
   ],
   "source": [
    "pyfiles.watch()"
   ]
  },
  {
   "cell_type": "code",
   "execution_count": 35,
   "id": "5a9302d3-dee8-4ffe-ad47-be2571320db6",
   "metadata": {},
   "outputs": [
    {
     "data": {
      "text/plain": [
       "<sqlite3.Connection at 0x74a910df8c70>"
      ]
     },
     "execution_count": 35,
     "metadata": {},
     "output_type": "execute_result"
    }
   ],
   "source": [
    "pyfiles.CON"
   ]
  },
  {
   "cell_type": "code",
   "execution_count": 96,
   "id": "c98bb342-4eac-4b4a-b8fa-44ddb415be67",
   "metadata": {},
   "outputs": [
    {
     "name": "stdout",
     "output_type": "stream",
     "text": [
      "/home/feelus/pyfiles/src/\n",
      "/home/feelus/pyfiles/src/.ipynb_checkpoints/\n",
      "/home/feelus/pyfiles/src/.ipynb_checkpoints/Untitled-checkpoint.ipynb\n",
      "/home/feelus/pyfiles/src/Untitled.ipynb\n",
      "/home/feelus/pyfiles/src/files2.db-wal\n",
      "/home/feelus/pyfiles/src/link\n"
     ]
    }
   ],
   "source": [
    "pyfiles.list_modified()"
   ]
  },
  {
   "cell_type": "code",
   "execution_count": 97,
   "id": "e1d6c7d1-6424-437d-a8d2-7dca3728a4d7",
   "metadata": {},
   "outputs": [
    {
     "name": "stdout",
     "output_type": "stream",
     "text": [
      "cnt\tid ?D\tpath\n",
      "--------------------\n",
      "3\t33  \t/home/feelus/pyfiles/src/.git/COMMIT_EDITMSG\n",
      "2\t37  \t/home/feelus/pyfiles/src/.git/HEAD\n",
      "2\t36  \t/home/feelus/pyfiles/src/.git/config\n",
      "2\t35  \t/home/feelus/pyfiles/src/.git/description\n",
      "2\t116  \t/home/feelus/pyfiles/src/.git/hooks/applypatch-msg.sample\n",
      "2\t105  \t/home/feelus/pyfiles/src/.git/hooks/commit-msg.sample\n",
      "2\t117  \t/home/feelus/pyfiles/src/.git/hooks/fsmonitor-watchman.sample\n",
      "2\t104  \t/home/feelus/pyfiles/src/.git/hooks/post-update.sample\n",
      "2\t113  \t/home/feelus/pyfiles/src/.git/hooks/pre-applypatch.sample\n",
      "2\t114  \t/home/feelus/pyfiles/src/.git/hooks/pre-commit.sample\n",
      "2\t111  \t/home/feelus/pyfiles/src/.git/hooks/pre-merge-commit.sample\n",
      "2\t108  \t/home/feelus/pyfiles/src/.git/hooks/pre-push.sample\n",
      "2\t110  \t/home/feelus/pyfiles/src/.git/hooks/pre-rebase.sample\n",
      "2\t106  \t/home/feelus/pyfiles/src/.git/hooks/pre-receive.sample\n",
      "2\t115  \t/home/feelus/pyfiles/src/.git/hooks/prepare-commit-msg.sample\n",
      "2\t109  \t/home/feelus/pyfiles/src/.git/hooks/push-to-checkout.sample\n",
      "2\t107  \t/home/feelus/pyfiles/src/.git/hooks/sendemail-validate.sample\n",
      "2\t112  \t/home/feelus/pyfiles/src/.git/hooks/update.sample\n",
      "3\t34  \t/home/feelus/pyfiles/src/.git/index\n",
      "2\t96  \t/home/feelus/pyfiles/src/.git/info/exclude\n",
      "3\t98  \t/home/feelus/pyfiles/src/.git/logs/HEAD\n",
      "3\t103  \t/home/feelus/pyfiles/src/.git/logs/refs/heads/master\n",
      "3\t102  \t/home/feelus/pyfiles/src/.git/logs/refs/remotes/origin/master\n",
      "2\t91  \t/home/feelus/pyfiles/src/.git/objects/04/8cb8deb88f1aba0612e887c33dc28371cefcde\n",
      "2\t72  \t/home/feelus/pyfiles/src/.git/objects/10/1c776297d45e4abe90a7226544c01a3ef21474\n",
      "2\t74  \t/home/feelus/pyfiles/src/.git/objects/23/ff026db3ffb96d5313f8e8b2ebc6a583687ab9\n",
      "2\t78  \t/home/feelus/pyfiles/src/.git/objects/26/40e313bcf6f16877bf367d91075aa6864c0ab2\n",
      "2\t93  \t/home/feelus/pyfiles/src/.git/objects/3b/1eafb697668adf592c612e00ba3326b99c7b96\n",
      "2\t77  \t/home/feelus/pyfiles/src/.git/objects/42/3450db162c43f9b35b42aab2255876b8567d2a\n",
      "1\t121  \t/home/feelus/pyfiles/src/.git/objects/44\n",
      "3\t122  \t/home/feelus/pyfiles/src/.git/objects/44/81f6512e4ded2040f7450a3759485244f91841\n",
      "2\t79  \t/home/feelus/pyfiles/src/.git/objects/45/a60472ef26539269d683039e71e488e3587921\n",
      "2\t73  \t/home/feelus/pyfiles/src/.git/objects/4e/7aaf0c6bf6a9b3dc0a90f4abf16571a3b02501\n",
      "2\t94  \t/home/feelus/pyfiles/src/.git/objects/56/7c911c411c39a4297dcf082c2cdeb65f653ce8\n",
      "2\t83  \t/home/feelus/pyfiles/src/.git/objects/58/f4f78a903c850204725f1ac42336d4b5dee5fe\n",
      "2\t90  \t/home/feelus/pyfiles/src/.git/objects/5c/c5e241e8363380a7ea3d5163212b0a7c124ed3\n",
      "2\t92  \t/home/feelus/pyfiles/src/.git/objects/7e/7dc452c14760e02715cba9aab557be6260088b\n",
      "2\t87  \t/home/feelus/pyfiles/src/.git/objects/89/18465454f2743946777a79ad93ab781c8fb261\n",
      "2\t71  \t/home/feelus/pyfiles/src/.git/objects/90/a08884128dda359968cc6e5a78c37154af1768\n",
      "2\t85  \t/home/feelus/pyfiles/src/.git/objects/91/5a77d801b565863926525bafc067ad4dc597d9\n",
      "2\t80  \t/home/feelus/pyfiles/src/.git/objects/93/7539b42734d1b86caaae24aca1ad5a9b278261\n",
      "2\t88  \t/home/feelus/pyfiles/src/.git/objects/98/e6ef67fad8af56cb3721edbd420b3d6fcc0bb1\n",
      "2\t75  \t/home/feelus/pyfiles/src/.git/objects/a1/9405f020d0e2d525a5782fa08bcf30a2fd0c47\n",
      "1\t123  \t/home/feelus/pyfiles/src/.git/objects/a9\n",
      "3\t124  \t/home/feelus/pyfiles/src/.git/objects/a9/deb8841eed41f05d6289d04badb273782acd3e\n",
      "2\t84  \t/home/feelus/pyfiles/src/.git/objects/ad/c454b39427013e7b037058bb4f0c5e63f2016d\n",
      "2\t89  \t/home/feelus/pyfiles/src/.git/objects/b1/e41ead66493a01646ca2165d0c6956d13333d0\n",
      "2\t81  \t/home/feelus/pyfiles/src/.git/objects/ba/786f9b9400c4ce5a16c243c6834c81d2390fed\n",
      "2\t82  \t/home/feelus/pyfiles/src/.git/objects/bb/93da1c6a49cc7b87339f3153c1565f520ae0d2\n",
      "1\t125  \t/home/feelus/pyfiles/src/.git/objects/c6\n",
      "3\t126  \t/home/feelus/pyfiles/src/.git/objects/c6/e5986f6092952167d14c7ba193c2937b596bcf\n",
      "2\t95  \t/home/feelus/pyfiles/src/.git/objects/d8/a25ee1ccc41f763ad41dc9247ee1308698f47b\n",
      "2\t86  \t/home/feelus/pyfiles/src/.git/objects/e6/6ec043cbde7d52ec0db7049adeafc3426648ee\n",
      "1\t127  \t/home/feelus/pyfiles/src/.git/objects/f4\n",
      "3\t128  \t/home/feelus/pyfiles/src/.git/objects/f4/906b390ada26c6367e8a71e21186da9a78909b\n",
      "2\t76  \t/home/feelus/pyfiles/src/.git/objects/fa/35185d2649d89c4ef276f0210f4dd5ba62b967\n",
      "3\t43  \t/home/feelus/pyfiles/src/.git/refs/heads/master\n",
      "3\t42  \t/home/feelus/pyfiles/src/.git/refs/remotes/origin/master\n",
      "2\t16  \t/home/feelus/pyfiles/src/.gitignore\n",
      "22\t25  \t/home/feelus/pyfiles/src/.ipynb_checkpoints/Untitled-checkpoint.ipynb\n",
      "2\t26  \t/home/feelus/pyfiles/src/.ipynb_checkpoints/pyfiles-checkpoint.py\n",
      "30\t10  \t/home/feelus/pyfiles/src/Untitled.ipynb\n",
      "2\t23  \t/home/feelus/pyfiles/src/__pycache__/pyfiles.cpython-312.pyc\n",
      "2\t15  \t/home/feelus/pyfiles/src/backup.sql\n",
      "2\t12  \t/home/feelus/pyfiles/src/files.db\n",
      "2\t19  \t/home/feelus/pyfiles/src/files1.db\n",
      "8\t22  \t/home/feelus/pyfiles/src/files2.db\n",
      "28\t119  \t/home/feelus/pyfiles/src/files2.db-shm\n",
      "665\t118  \t/home/feelus/pyfiles/src/files2.db-wal\n",
      "2\t21  \t/home/feelus/pyfiles/src/files3.db\n",
      "2\t11  \t/home/feelus/pyfiles/src/files:files2.db?mode=ro\n",
      "2\t14  \t/home/feelus/pyfiles/src/notify.py\n",
      "33\t17  \t/home/feelus/pyfiles/src/pyfiles.py\n",
      "2\t20  \t/home/feelus/pyfiles/src/test\n",
      "42\t120 D\t/home/feelus/pyfiles/src/.~Untitled.ipynb\n",
      "1\t18 D\t/home/feelus/pyfiles/src/files2.db-journal\n"
     ]
    }
   ],
   "source": [
    "pyfiles.ls_hist()"
   ]
  },
  {
   "cell_type": "code",
   "execution_count": 98,
   "id": "37d6a703-c62c-49df-bd48-14e3e804368a",
   "metadata": {},
   "outputs": [
    {
     "name": "stdout",
     "output_type": "stream",
     "text": [
      "True\tNone\t4  \t/home/feelus/pyfiles/src\n"
     ]
    }
   ],
   "source": [
    "pyfiles.list_owners()"
   ]
  },
  {
   "cell_type": "code",
   "execution_count": 99,
   "id": "ad55e238-b47c-4709-80a1-cd1f71058d59",
   "metadata": {},
   "outputs": [],
   "source": [
    "pyfiles.update_owner('pyfiles-git',False)"
   ]
  },
  {
   "cell_type": "code",
   "execution_count": 100,
   "id": "57ef4b55-162f-4e3d-8404-1376642b6359",
   "metadata": {},
   "outputs": [
    {
     "data": {
      "text/plain": [
       "9"
      ]
     },
     "execution_count": 100,
     "metadata": {},
     "output_type": "execute_result"
    }
   ],
   "source": [
    "pyfiles.set_owner('.git','pyfiles-git')"
   ]
  },
  {
   "cell_type": "code",
   "execution_count": 128,
   "id": "13a9be56-5b5a-4e28-8c35-6322d6e6b93c",
   "metadata": {},
   "outputs": [
    {
     "name": "stdout",
     "output_type": "stream",
     "text": [
      "[1, 2, 3, 4]\n",
      "- 9\tdrwxrwxr-x\t2025-01-24 13:40:02.058160\t.git\t\n",
      "- 16\t-rw-rw-r--\t2025-01-14 15:40:53.793935\t.gitignore\t\n",
      "- 8\tdrwxrwxr-x\t2025-01-13 08:34:06.240780\t.ipynb_checkpoints\t\n",
      "- 10\t-rw-rw-r--\t2025-01-26 00:42:16.476048\tUntitled.ipynb\t\n",
      "- 5\tdrwxr-xr-x\t2025-01-21 20:49:29.131182\t__pycache__\t\n",
      "- 6\tdrwxr-xr-x\t2025-01-20 16:06:39.900124\ta\t\n",
      "- 15\t-rw-rw-r--\t2025-01-16 12:56:40.531080\tbackup.sql\t\n",
      "- 12\t-rw-r--r--\t2025-01-14 14:42:09.380068\tfiles.db\t\n",
      "- 19\t-rw-r--r--\t2025-01-16 13:15:31.733491\tfiles1.db\t\n",
      "- 22\t-rw-r--r--\t2025-01-26 00:42:36.265038\tfiles2.db\t\n",
      "- 18\t-rw-r--r--\t2025-01-26 00:42:36.304038\tfiles2.db-journal\t\n",
      "- 21\t-rw-r--r--\t2025-01-21 20:16:22.474247\tfiles3.db\t\n",
      "- 11\t-rw-r--r--\t2025-01-24 09:55:31.319546\tfiles:files2.db?mode=ro\t\n",
      "- 7\tlrwxrwxrwx\t2025-01-19 14:20:40.827281\tlink\t\n",
      "- 14\t-rw-rw-r--\t2025-01-14 04:24:33.066536\tnotify.py\t\n",
      "- 13\tprw-rw-r--\t2025-01-19 14:20:49.398276\tpipe\t\n",
      "- 17\t-rw-rw-r--\t2025-01-26 00:42:27.271044\tpyfiles.py\t\n",
      "- 20\t-rw-rw-r--\t2025-01-23 19:29:55.544149\ttest\t\n",
      "/home/feelus/pyfiles/src/.git :\n",
      "- 33\t-rw-rw-r--\t2025-01-24 13:40:02.058160\tCOMMIT_EDITMSG\t\n",
      "- 37\t-rw-rw-r--\t2025-01-21 19:32:25.142279\tHEAD\t\n",
      "- 32\tdrwxrwxr-x\t2025-01-14 15:39:20.944929\tbranches\t\n",
      "- 36\t-rw-rw-r--\t2025-01-21 19:42:17.528071\tconfig\t\n",
      "- 35\t-rw-rw-r--\t2025-01-14 15:39:20.597929\tdescription\t\n",
      "- 31\tdrwxrwxr-x\t2025-01-14 15:39:20.944929\thooks\t\n",
      "- 34\t-rw-rw-r--\t2025-01-24 13:40:02.057159\tindex\t\n",
      "- 29\tdrwxrwxr-x\t2025-01-14 15:39:20.535928\tinfo\t\n",
      "- 30\tdrwxrwxr-x\t2025-01-14 15:44:36.214953\tlogs\t\n",
      "- 28\tdrwxrwxr-x\t2025-01-24 13:40:02.065160\tobjects\t\n",
      "- 27\tdrwxrwxr-x\t2025-01-21 19:42:17.529071\trefs\t\n",
      "/home/feelus/pyfiles/src/.git/branches :\n",
      "/home/feelus/pyfiles/src/.git/hooks :\n",
      "- 124\t-rwxrwxr-x\t2025-01-14 15:39:20.943928\tapplypatch-msg.sample\t\n",
      "- 113\t-rwxrwxr-x\t2025-01-14 15:39:20.599929\tcommit-msg.sample\t\n",
      "- 125\t-rwxrwxr-x\t2025-01-14 15:39:20.944929\tfsmonitor-watchman.sample\t\n",
      "- 112\t-rwxrwxr-x\t2025-01-14 15:39:20.598928\tpost-update.sample\t\n",
      "- 121\t-rwxrwxr-x\t2025-01-14 15:39:20.942929\tpre-applypatch.sample\t\n",
      "- 122\t-rwxrwxr-x\t2025-01-14 15:39:20.943928\tpre-commit.sample\t\n",
      "- 119\t-rwxrwxr-x\t2025-01-14 15:39:20.941929\tpre-merge-commit.sample\t\n",
      "- 116\t-rwxrwxr-x\t2025-01-14 15:39:20.928929\tpre-push.sample\t\n",
      "- 118\t-rwxrwxr-x\t2025-01-14 15:39:20.941929\tpre-rebase.sample\t\n",
      "- 114\t-rwxrwxr-x\t2025-01-14 15:39:20.599929\tpre-receive.sample\t\n",
      "- 123\t-rwxrwxr-x\t2025-01-14 15:39:20.943928\tprepare-commit-msg.sample\t\n",
      "- 117\t-rwxrwxr-x\t2025-01-14 15:39:20.940928\tpush-to-checkout.sample\t\n",
      "- 115\t-rwxrwxr-x\t2025-01-14 15:39:20.730928\tsendemail-validate.sample\t\n",
      "- 120\t-rwxrwxr-x\t2025-01-14 15:39:20.942929\tupdate.sample\t\n",
      "/home/feelus/pyfiles/src/.git/info :\n",
      "- 104\t-rw-rw-r--\t2025-01-14 15:39:20.546928\texclude\t\n",
      "/home/feelus/pyfiles/src/.git/logs :\n",
      "- 106\t-rw-rw-r--\t2025-01-24 13:40:02.058160\tHEAD\t\n",
      "- 105\tdrwxrwxr-x\t2025-01-21 19:42:17.529071\trefs\t\n",
      "/home/feelus/pyfiles/src/.git/logs/refs :\n",
      "- 108\tdrwxrwxr-x\t2025-01-21 19:32:25.141279\theads\t\n",
      "- 107\tdrwxrwxr-x\t2025-01-21 19:42:17.530071\tremotes\t\n",
      "/home/feelus/pyfiles/src/.git/logs/refs/heads :\n",
      "- 111\t-rw-rw-r--\t2025-01-24 13:40:02.058160\tmaster\t\n",
      "/home/feelus/pyfiles/src/.git/logs/refs/remotes :\n",
      "- 109\tdrwxrwxr-x\t2025-01-21 19:42:17.530071\torigin\t\n",
      "/home/feelus/pyfiles/src/.git/logs/refs/remotes/origin :\n",
      "- 110\t-rw-rw-r--\t2025-01-24 13:40:08.835136\tmaster\t\n",
      "/home/feelus/pyfiles/src/.git/objects :\n",
      "- 69\tdrwxrwxr-x\t2025-01-16 14:58:57.933949\t04\t\n",
      "- 46\tdrwxrwxr-x\t2025-01-16 14:58:57.935949\t10\t\n",
      "- 49\tdrwxrwxr-x\t2025-01-15 19:00:34.574902\t23\t\n",
      "- 54\tdrwxrwxr-x\t2025-01-15 19:00:34.575902\t26\t\n",
      "- 71\tdrwxrwxr-x\t2025-01-14 15:44:07.042950\t3b\t\n",
      "- 53\tdrwxrwxr-x\t2025-01-19 06:42:27.272799\t42\t\n",
      "- 48\tdrwxrwxr-x\t2025-01-24 13:40:02.058160\t44\t\n",
      "- 55\tdrwxrwxr-x\t2025-01-14 15:44:36.209953\t45\t\n",
      "- 47\tdrwxrwxr-x\t2025-01-21 19:23:59.882441\t4e\t\n",
      "- 73\tdrwxrwxr-x\t2025-01-14 15:44:06.985950\t56\t\n",
      "- 60\tdrwxrwxr-x\t2025-01-20 11:29:50.542135\t58\t\n",
      "- 67\tdrwxrwxr-x\t2025-01-14 15:44:06.941950\t5c\t\n",
      "- 70\tdrwxrwxr-x\t2025-01-20 11:29:50.543135\t7e\t\n",
      "- 64\tdrwxrwxr-x\t2025-01-21 19:23:59.884441\t89\t\n",
      "- 45\tdrwxrwxr-x\t2025-01-21 19:23:59.883441\t90\t\n",
      "- 62\tdrwxrwxr-x\t2025-01-14 15:44:36.212953\t91\t\n",
      "- 56\tdrwxrwxr-x\t2025-01-15 19:00:34.574902\t93\t\n",
      "- 65\tdrwxrwxr-x\t2025-01-14 15:44:06.937950\t98\t\n",
      "- 51\tdrwxrwxr-x\t2025-01-20 11:29:50.541135\ta1\t\n",
      "- 50\tdrwxrwxr-x\t2025-01-24 13:40:02.057159\ta9\t\n",
      "- 61\tdrwxrwxr-x\t2025-01-17 08:21:20.993031\tad\t\n",
      "- 66\tdrwxrwxr-x\t2025-01-17 08:21:20.995031\tb1\t\n",
      "- 57\tdrwxrwxr-x\t2025-01-16 14:58:57.934949\tba\t\n",
      "- 58\tdrwxrwxr-x\t2025-01-19 06:42:27.271799\tbb\t\n",
      "- 59\tdrwxrwxr-x\t2025-01-24 13:40:02.055160\tc6\t\n",
      "- 74\tdrwxrwxr-x\t2025-01-17 08:21:20.992031\td8\t\n",
      "- 63\tdrwxrwxr-x\t2025-01-19 06:42:27.274799\te6\t\n",
      "- 72\tdrwxrwxr-x\t2025-01-24 13:40:02.057159\tf4\t\n",
      "- 52\tdrwxrwxr-x\t2025-01-15 19:00:34.577902\tfa\t\n",
      "- 68\tdrwxrwxr-x\t2025-01-14 15:39:20.962929\tinfo\t\n",
      "- 44\tdrwxrwxr-x\t2025-01-14 15:39:20.962929\tpack\t\n",
      "/home/feelus/pyfiles/src/.git/objects/04 :\n",
      "- 98\t-r--r--r--\t2025-01-16 14:58:57.933949\t8cb8deb88f1aba0612e887c33dc28371cefcde\t\n",
      "/home/feelus/pyfiles/src/.git/objects/10 :\n",
      "- 76\t-r--r--r--\t2025-01-16 14:58:57.935949\t1c776297d45e4abe90a7226544c01a3ef21474\t\n",
      "/home/feelus/pyfiles/src/.git/objects/23 :\n",
      "- 79\t-r--r--r--\t2025-01-15 19:00:34.574902\tff026db3ffb96d5313f8e8b2ebc6a583687ab9\t\n",
      "/home/feelus/pyfiles/src/.git/objects/26 :\n",
      "- 84\t-r--r--r--\t2025-01-15 19:00:34.575902\t40e313bcf6f16877bf367d91075aa6864c0ab2\t\n",
      "/home/feelus/pyfiles/src/.git/objects/3b :\n",
      "- 100\t-r--r--r--\t2025-01-14 15:44:07.042950\t1eafb697668adf592c612e00ba3326b99c7b96\t\n",
      "/home/feelus/pyfiles/src/.git/objects/42 :\n",
      "- 83\t-r--r--r--\t2025-01-19 06:42:27.272799\t3450db162c43f9b35b42aab2255876b8567d2a\t\n",
      "/home/feelus/pyfiles/src/.git/objects/44 :\n",
      "- 78\t-r--r--r--\t2025-01-24 13:40:02.058160\t81f6512e4ded2040f7450a3759485244f91841\t\n",
      "/home/feelus/pyfiles/src/.git/objects/45 :\n",
      "- 85\t-r--r--r--\t2025-01-14 15:44:36.209953\ta60472ef26539269d683039e71e488e3587921\t\n",
      "/home/feelus/pyfiles/src/.git/objects/4e :\n",
      "- 77\t-r--r--r--\t2025-01-21 19:23:59.882441\t7aaf0c6bf6a9b3dc0a90f4abf16571a3b02501\t\n",
      "/home/feelus/pyfiles/src/.git/objects/56 :\n",
      "- 102\t-r--r--r--\t2025-01-14 15:44:06.985950\t7c911c411c39a4297dcf082c2cdeb65f653ce8\t\n",
      "/home/feelus/pyfiles/src/.git/objects/58 :\n",
      "- 90\t-r--r--r--\t2025-01-20 11:29:50.542135\tf4f78a903c850204725f1ac42336d4b5dee5fe\t\n",
      "/home/feelus/pyfiles/src/.git/objects/5c :\n",
      "- 97\t-r--r--r--\t2025-01-14 15:44:06.941950\tc5e241e8363380a7ea3d5163212b0a7c124ed3\t\n",
      "/home/feelus/pyfiles/src/.git/objects/7e :\n",
      "- 99\t-r--r--r--\t2025-01-20 11:29:50.543135\t7dc452c14760e02715cba9aab557be6260088b\t\n",
      "/home/feelus/pyfiles/src/.git/objects/89 :\n",
      "- 94\t-r--r--r--\t2025-01-21 19:23:59.884441\t18465454f2743946777a79ad93ab781c8fb261\t\n",
      "/home/feelus/pyfiles/src/.git/objects/90 :\n",
      "- 75\t-r--r--r--\t2025-01-21 19:23:59.883441\ta08884128dda359968cc6e5a78c37154af1768\t\n",
      "/home/feelus/pyfiles/src/.git/objects/91 :\n",
      "- 92\t-r--r--r--\t2025-01-14 15:44:36.212953\t5a77d801b565863926525bafc067ad4dc597d9\t\n",
      "/home/feelus/pyfiles/src/.git/objects/93 :\n",
      "- 86\t-r--r--r--\t2025-01-15 19:00:34.574902\t7539b42734d1b86caaae24aca1ad5a9b278261\t\n",
      "/home/feelus/pyfiles/src/.git/objects/98 :\n",
      "- 95\t-r--r--r--\t2025-01-14 15:44:06.937950\te6ef67fad8af56cb3721edbd420b3d6fcc0bb1\t\n",
      "/home/feelus/pyfiles/src/.git/objects/a1 :\n",
      "- 81\t-r--r--r--\t2025-01-20 11:29:50.541135\t9405f020d0e2d525a5782fa08bcf30a2fd0c47\t\n",
      "/home/feelus/pyfiles/src/.git/objects/a9 :\n",
      "- 80\t-r--r--r--\t2025-01-24 13:40:02.057159\tdeb8841eed41f05d6289d04badb273782acd3e\t\n",
      "/home/feelus/pyfiles/src/.git/objects/ad :\n",
      "- 91\t-r--r--r--\t2025-01-17 08:21:20.993031\tc454b39427013e7b037058bb4f0c5e63f2016d\t\n",
      "/home/feelus/pyfiles/src/.git/objects/b1 :\n",
      "- 96\t-r--r--r--\t2025-01-17 08:21:20.994031\te41ead66493a01646ca2165d0c6956d13333d0\t\n",
      "/home/feelus/pyfiles/src/.git/objects/ba :\n",
      "- 87\t-r--r--r--\t2025-01-16 14:58:57.934949\t786f9b9400c4ce5a16c243c6834c81d2390fed\t\n",
      "/home/feelus/pyfiles/src/.git/objects/bb :\n",
      "- 88\t-r--r--r--\t2025-01-19 06:42:27.271799\t93da1c6a49cc7b87339f3153c1565f520ae0d2\t\n",
      "/home/feelus/pyfiles/src/.git/objects/c6 :\n",
      "- 89\t-r--r--r--\t2025-01-24 13:40:02.055160\te5986f6092952167d14c7ba193c2937b596bcf\t\n",
      "/home/feelus/pyfiles/src/.git/objects/d8 :\n",
      "- 103\t-r--r--r--\t2025-01-17 08:21:20.992031\ta25ee1ccc41f763ad41dc9247ee1308698f47b\t\n",
      "/home/feelus/pyfiles/src/.git/objects/e6 :\n",
      "- 93\t-r--r--r--\t2025-01-19 06:42:27.274799\t6ec043cbde7d52ec0db7049adeafc3426648ee\t\n",
      "/home/feelus/pyfiles/src/.git/objects/f4 :\n",
      "- 101\t-r--r--r--\t2025-01-24 13:40:02.057159\t906b390ada26c6367e8a71e21186da9a78909b\t\n",
      "/home/feelus/pyfiles/src/.git/objects/fa :\n",
      "- 82\t-r--r--r--\t2025-01-15 19:00:34.577902\t35185d2649d89c4ef276f0210f4dd5ba62b967\t\n",
      "/home/feelus/pyfiles/src/.git/objects/info :\n",
      "/home/feelus/pyfiles/src/.git/objects/pack :\n",
      "/home/feelus/pyfiles/src/.git/refs :\n",
      "- 39\tdrwxrwxr-x\t2025-01-24 13:40:02.058160\theads\t\n",
      "- 38\tdrwxrwxr-x\t2025-01-21 19:42:17.529071\tremotes\t\n",
      "- 40\tdrwxrwxr-x\t2025-01-14 15:39:20.945929\ttags\t\n",
      "/home/feelus/pyfiles/src/.git/refs/heads :\n",
      "- 43\t-rw-rw-r--\t2025-01-24 13:40:02.058160\tmaster\t\n",
      "/home/feelus/pyfiles/src/.git/refs/remotes :\n",
      "- 41\tdrwxrwxr-x\t2025-01-24 13:40:08.836136\torigin\t\n",
      "/home/feelus/pyfiles/src/.git/refs/remotes/origin :\n",
      "- 42\t-rw-rw-r--\t2025-01-24 13:40:08.835136\tmaster\t\n",
      "/home/feelus/pyfiles/src/.git/refs/tags :\n",
      "/home/feelus/pyfiles/src/.ipynb_checkpoints :\n",
      "- 25\t-rw-rw-r--\t2025-01-25 20:44:01.297971\tUntitled-checkpoint.ipynb\t\n",
      "- 26\t-rw-rw-r--\t2025-01-12 16:11:30.088646\tpyfiles-checkpoint.py\t\n",
      "/home/feelus/pyfiles/src/__pycache__ :\n",
      "- 23\t-rw-r--r--\t2025-01-21 20:49:29.131182\tpyfiles.cpython-312.pyc\t\n",
      "/home/feelus/pyfiles/src/a :\n",
      "- 24\tdrwxr-xr-x\t2025-01-21 10:45:22.412671\tb\t\n",
      "/home/feelus/pyfiles/src/a/b :\n"
     ]
    }
   ],
   "source": [
    "pyfiles.ls_r()"
   ]
  },
  {
   "cell_type": "code",
   "execution_count": 103,
   "id": "70c0f5c3-52cb-49e6-90c3-2765cd3cade6",
   "metadata": {},
   "outputs": [
    {
     "data": {
      "text/plain": [
       "'/home/feelus/pyfiles/src/link'"
      ]
     },
     "execution_count": 103,
     "metadata": {},
     "output_type": "execute_result"
    }
   ],
   "source": [
    "pyfiles.id2path(7,pyfiles.CUR)"
   ]
  },
  {
   "cell_type": "code",
   "execution_count": 130,
   "id": "f70132a3-9a3c-4b5f-b335-792d19d51028",
   "metadata": {},
   "outputs": [
    {
     "data": {
      "text/plain": [
       "[(0, 'home', 1, 1, 2),\n",
       " (1, 'feelus', 2, 1, 2),\n",
       " (2, 'pyfiles', 3, 1, 2),\n",
       " (3, 'src', 4, 1, 0),\n",
       " (4, '__pycache__', 5, 1, 0),\n",
       " (4, 'a', 6, 1, 0)]"
      ]
     },
     "execution_count": 130,
     "metadata": {},
     "output_type": "execute_result"
    }
   ],
   "source": [
    "pyfiles.CON.execute('SELECT * FROM cur_dirs WHERE id < 7').fetchall()"
   ]
  },
  {
   "cell_type": "code",
   "execution_count": null,
   "id": "e3e77f7d-6386-4d16-ae08-9f7fc802508f",
   "metadata": {},
   "outputs": [],
   "source": []
  },
  {
   "cell_type": "code",
   "execution_count": null,
   "id": "380ad1eb-55e4-4b45-afcb-6806806394d2",
   "metadata": {},
   "outputs": [],
   "source": []
  },
  {
   "cell_type": "code",
   "execution_count": null,
   "id": "0b4c3239-1280-458f-b570-374c5e63546d",
   "metadata": {},
   "outputs": [],
   "source": []
  },
  {
   "cell_type": "code",
   "execution_count": null,
   "id": "938a3f2b-c354-4670-b69a-6b4295151d1f",
   "metadata": {},
   "outputs": [],
   "source": []
  },
  {
   "cell_type": "code",
   "execution_count": null,
   "id": "5aff90c1-d806-48c6-835d-4491a9da7b4e",
   "metadata": {},
   "outputs": [],
   "source": []
  },
  {
   "cell_type": "code",
   "execution_count": null,
   "id": "6e3018ed-a341-4039-9c0c-53fab421d08c",
   "metadata": {},
   "outputs": [],
   "source": []
  },
  {
   "cell_type": "code",
   "execution_count": null,
   "id": "4e987b90-3b74-4bbc-aa7c-7ebd72d8ab67",
   "metadata": {},
   "outputs": [],
   "source": []
  },
  {
   "cell_type": "code",
   "execution_count": null,
   "id": "60a6c968-a74e-45f3-a7f7-9a3f90475089",
   "metadata": {},
   "outputs": [],
   "source": []
  },
  {
   "cell_type": "code",
   "execution_count": null,
   "id": "d12cc88a-39b0-482c-add8-f4470a05527e",
   "metadata": {},
   "outputs": [],
   "source": []
  },
  {
   "cell_type": "code",
   "execution_count": null,
   "id": "044f141b-dcb3-446a-8357-0c3afb132958",
   "metadata": {},
   "outputs": [],
   "source": []
  },
  {
   "cell_type": "code",
   "execution_count": null,
   "id": "a5f9dd25-34cb-4fc7-a88a-6273fdcfd01b",
   "metadata": {},
   "outputs": [],
   "source": []
  },
  {
   "cell_type": "code",
   "execution_count": 1,
   "id": "b127405d-7227-45f4-b443-90fcdbfbdddb",
   "metadata": {},
   "outputs": [],
   "source": [
    "import tomllib"
   ]
  },
  {
   "cell_type": "code",
   "execution_count": 2,
   "id": "f849c191-f4cc-41ab-87cc-7a0d08acfcf8",
   "metadata": {},
   "outputs": [
    {
     "ename": "TOMLDecodeError",
     "evalue": "Expected newline or end of document after a statement (at line 1, column 4)",
     "output_type": "error",
     "traceback": [
      "\u001b[0;31m---------------------------------------------------------------------------\u001b[0m",
      "\u001b[0;31mTOMLDecodeError\u001b[0m                           Traceback (most recent call last)",
      "Cell \u001b[0;32mIn[2], line 1\u001b[0m\n\u001b[0;32m----> 1\u001b[0m \u001b[43mtomllib\u001b[49m\u001b[38;5;241;43m.\u001b[39;49m\u001b[43mloads\u001b[49m\u001b[43m(\u001b[49m\u001b[38;5;124;43m'\u001b[39;49m\u001b[38;5;124;43ma=2, b=3\u001b[39;49m\u001b[38;5;124;43m'\u001b[39;49m\u001b[43m)\u001b[49m\n",
      "File \u001b[0;32m/usr/lib/python3.12/tomllib/_parser.py:127\u001b[0m, in \u001b[0;36mloads\u001b[0;34m(s, parse_float)\u001b[0m\n\u001b[1;32m    125\u001b[0m         \u001b[38;5;28;01mbreak\u001b[39;00m\n\u001b[1;32m    126\u001b[0m     \u001b[38;5;28;01mif\u001b[39;00m char \u001b[38;5;241m!=\u001b[39m \u001b[38;5;124m\"\u001b[39m\u001b[38;5;130;01m\\n\u001b[39;00m\u001b[38;5;124m\"\u001b[39m:\n\u001b[0;32m--> 127\u001b[0m         \u001b[38;5;28;01mraise\u001b[39;00m suffixed_err(\n\u001b[1;32m    128\u001b[0m             src, pos, \u001b[38;5;124m\"\u001b[39m\u001b[38;5;124mExpected newline or end of document after a statement\u001b[39m\u001b[38;5;124m\"\u001b[39m\n\u001b[1;32m    129\u001b[0m         )\n\u001b[1;32m    130\u001b[0m     pos \u001b[38;5;241m+\u001b[39m\u001b[38;5;241m=\u001b[39m \u001b[38;5;241m1\u001b[39m\n\u001b[1;32m    132\u001b[0m \u001b[38;5;28;01mreturn\u001b[39;00m out\u001b[38;5;241m.\u001b[39mdata\u001b[38;5;241m.\u001b[39mdict\n",
      "\u001b[0;31mTOMLDecodeError\u001b[0m: Expected newline or end of document after a statement (at line 1, column 4)"
     ]
    }
   ],
   "source": [
    "tomllib.loads('a=2, b=3')"
   ]
  },
  {
   "cell_type": "code",
   "execution_count": 42,
   "id": "50fef2e5-f781-433b-86a4-b0ba84d52aed",
   "metadata": {},
   "outputs": [],
   "source": [
    "import sqlite3"
   ]
  },
  {
   "cell_type": "code",
   "execution_count": null,
   "id": "edcd7d33-650c-42ed-bc9f-2d632e07d693",
   "metadata": {},
   "outputs": [],
   "source": []
  },
  {
   "cell_type": "code",
   "execution_count": null,
   "id": "be2cc325-00a5-478a-8c39-500488aa458d",
   "metadata": {},
   "outputs": [],
   "source": []
  },
  {
   "cell_type": "code",
   "execution_count": 3,
   "id": "60b0fd1a-8230-4da7-8530-ca4ee244f000",
   "metadata": {},
   "outputs": [],
   "source": [
    "import yaml"
   ]
  },
  {
   "cell_type": "code",
   "execution_count": 19,
   "id": "3e331c54-4d12-48e8-9509-cd72147a1eb8",
   "metadata": {},
   "outputs": [
    {
     "data": {
      "text/plain": [
       "['help', []]"
      ]
     },
     "execution_count": 19,
     "metadata": {},
     "output_type": "execute_result"
    }
   ],
   "source": [
    "yaml.safe_load('[help, []]')"
   ]
  },
  {
   "cell_type": "code",
   "execution_count": null,
   "id": "8ea965c5-39b4-42ad-b3d2-cfddf9146666",
   "metadata": {},
   "outputs": [],
   "source": []
  },
  {
   "cell_type": "code",
   "execution_count": null,
   "id": "d248b49f-9465-4607-8a54-7fb878af757e",
   "metadata": {},
   "outputs": [],
   "source": []
  },
  {
   "cell_type": "code",
   "execution_count": null,
   "id": "97c6415c-23aa-4f14-9d48-48ce9a435592",
   "metadata": {},
   "outputs": [],
   "source": []
  },
  {
   "cell_type": "code",
   "execution_count": 43,
   "id": "ca2394c7-5910-4818-baa2-d909b68eadcc",
   "metadata": {},
   "outputs": [],
   "source": [
    "CON = sqlite3.connect('files2.db')\n",
    "CUR = CON.cursor()"
   ]
  },
  {
   "cell_type": "code",
   "execution_count": 44,
   "id": "eb6eb61f-52d6-4410-9885-be8d68717061",
   "metadata": {},
   "outputs": [
    {
     "data": {
      "text/plain": [
       "[(1,),\n",
       " (2,),\n",
       " (3,),\n",
       " (4,),\n",
       " (5,),\n",
       " (6,),\n",
       " (7,),\n",
       " (8,),\n",
       " (9,),\n",
       " (10,),\n",
       " (11,),\n",
       " (12,),\n",
       " (13,),\n",
       " (14,),\n",
       " (15,),\n",
       " (16,),\n",
       " (17,),\n",
       " (18,),\n",
       " (19,),\n",
       " (20,),\n",
       " (21,),\n",
       " (22,),\n",
       " (23,),\n",
       " (24,),\n",
       " (25,),\n",
       " (26,),\n",
       " (27,),\n",
       " (28,),\n",
       " (29,),\n",
       " (30,),\n",
       " (31,),\n",
       " (32,),\n",
       " (33,),\n",
       " (34,),\n",
       " (35,),\n",
       " (36,),\n",
       " (37,),\n",
       " (38,),\n",
       " (39,),\n",
       " (40,),\n",
       " (41,),\n",
       " (42,),\n",
       " (43,),\n",
       " (44,),\n",
       " (45,),\n",
       " (46,),\n",
       " (47,),\n",
       " (48,),\n",
       " (49,),\n",
       " (50,),\n",
       " (51,),\n",
       " (52,),\n",
       " (53,),\n",
       " (54,),\n",
       " (55,),\n",
       " (56,),\n",
       " (57,),\n",
       " (58,),\n",
       " (59,),\n",
       " (60,),\n",
       " (61,),\n",
       " (62,),\n",
       " (63,),\n",
       " (64,),\n",
       " (65,),\n",
       " (66,),\n",
       " (67,),\n",
       " (68,),\n",
       " (69,),\n",
       " (70,),\n",
       " (71,),\n",
       " (72,),\n",
       " (73,),\n",
       " (74,),\n",
       " (75,),\n",
       " (76,),\n",
       " (77,),\n",
       " (78,),\n",
       " (79,),\n",
       " (80,),\n",
       " (81,),\n",
       " (82,),\n",
       " (83,),\n",
       " (84,),\n",
       " (85,),\n",
       " (86,),\n",
       " (87,),\n",
       " (88,),\n",
       " (89,),\n",
       " (90,),\n",
       " (91,),\n",
       " (92,),\n",
       " (93,),\n",
       " (94,),\n",
       " (95,),\n",
       " (96,),\n",
       " (97,),\n",
       " (98,),\n",
       " (99,),\n",
       " (100,),\n",
       " (101,),\n",
       " (102,),\n",
       " (103,),\n",
       " (104,),\n",
       " (105,),\n",
       " (106,),\n",
       " (107,),\n",
       " (108,),\n",
       " (109,),\n",
       " (110,),\n",
       " (111,),\n",
       " (112,),\n",
       " (113,),\n",
       " (114,)]"
      ]
     },
     "execution_count": 44,
     "metadata": {},
     "output_type": "execute_result"
    }
   ],
   "source": [
    "CUR.execute('SELECT id FROM cur_dirs WHERE modified !=2').fetchall()"
   ]
  },
  {
   "cell_type": "code",
   "execution_count": 36,
   "id": "d1921a96-407d-43d9-8606-97c34a2433e2",
   "metadata": {},
   "outputs": [
    {
     "data": {
      "text/plain": [
       "[(1,\n",
       "  1,\n",
       "  16877,\n",
       "  2,\n",
       "  2052,\n",
       "  23,\n",
       "  0,\n",
       "  0,\n",
       "  4096,\n",
       "  1737445335.9309125,\n",
       "  1736555666.500639,\n",
       "  1736555666.500639,\n",
       "  8,\n",
       "  4096,\n",
       "  None,\n",
       "  None)]"
      ]
     },
     "execution_count": 36,
     "metadata": {},
     "output_type": "execute_result"
    }
   ],
   "source": [
    "CUR.execute('SELECT * FROM cur_stat').fetchall()"
   ]
  },
  {
   "cell_type": "code",
   "execution_count": 37,
   "id": "94db12bf-28ba-4255-90c6-e3de25e679dd",
   "metadata": {},
   "outputs": [],
   "source": [
    "CON.close()"
   ]
  },
  {
   "cell_type": "code",
   "execution_count": null,
   "id": "f557f15d-3f02-4de0-b255-0b64399053ab",
   "metadata": {},
   "outputs": [],
   "source": []
  },
  {
   "cell_type": "code",
   "execution_count": null,
   "id": "98865664-3266-40f4-bf2a-795e0ca2acc6",
   "metadata": {},
   "outputs": [],
   "source": []
  },
  {
   "cell_type": "code",
   "execution_count": null,
   "id": "147f713f-4be1-439b-8279-23e6a93fb3b1",
   "metadata": {},
   "outputs": [],
   "source": []
  },
  {
   "cell_type": "code",
   "execution_count": 59,
   "id": "82b03ee7-12d7-4f28-8f57-4ba66842c78f",
   "metadata": {},
   "outputs": [
    {
     "data": {
      "text/plain": [
       "'/home'"
      ]
     },
     "execution_count": 59,
     "metadata": {},
     "output_type": "execute_result"
    }
   ],
   "source": [
    "os.path.abspath('/boot/..//home')"
   ]
  },
  {
   "cell_type": "code",
   "execution_count": null,
   "id": "5be21a23-c491-462b-b5da-9c293a635fb6",
   "metadata": {},
   "outputs": [],
   "source": []
  },
  {
   "cell_type": "code",
   "execution_count": null,
   "id": "13b8dd25-8594-45b3-98f1-4930b71eaf22",
   "metadata": {},
   "outputs": [],
   "source": []
  },
  {
   "cell_type": "code",
   "execution_count": null,
   "id": "26d5224c-8c9b-44f4-ba04-eb4e7e122189",
   "metadata": {},
   "outputs": [],
   "source": []
  },
  {
   "cell_type": "code",
   "execution_count": 3,
   "id": "4c77fd9d-d467-41b5-bb35-d1c27d972f61",
   "metadata": {},
   "outputs": [
    {
     "data": {
      "text/plain": [
       "['/srv',\n",
       " '/bin.usr-is-merged',\n",
       " '/home',\n",
       " '/tmp',\n",
       " '/etc',\n",
       " '/boot',\n",
       " '/var',\n",
       " '/sbin.usr-is-merged',\n",
       " '/snap',\n",
       " '/root',\n",
       " '/lost+found',\n",
       " '/usr',\n",
       " '/opt',\n",
       " '/lib.usr-is-merged']"
      ]
     },
     "execution_count": 3,
     "metadata": {},
     "output_type": "execute_result"
    }
   ],
   "source": [
    "get_root_dirs()"
   ]
  },
  {
   "cell_type": "code",
   "execution_count": 5,
   "id": "9ab2c358-e509-471c-b04a-a1bc0baad2f9",
   "metadata": {},
   "outputs": [
    {
     "data": {
      "text/plain": [
       "1"
      ]
     },
     "execution_count": 5,
     "metadata": {},
     "output_type": "execute_result"
    }
   ],
   "source": [
    "import pyfiles as fd\n",
    "fd.VERBOSE"
   ]
  },
  {
   "cell_type": "code",
   "execution_count": 5,
   "id": "c27fd561-a110-467f-a98d-bc80b0a28420",
   "metadata": {},
   "outputs": [],
   "source": [
    "if 0:\n",
    "    fd.init_connction('files1.db')#['/']\n",
    "if 0:\n",
    "    fd.init_connction('files2.db')#[os.getcwd()]\n",
    "if 1:\n",
    "    fd.init_connction('files1.db',['/home/feelus/pyfiles'])\n",
    "\n"
   ]
  },
  {
   "cell_type": "code",
   "execution_count": 6,
   "id": "318a0cad-ed73-4cd0-9001-d9dfc7cda8fd",
   "metadata": {},
   "outputs": [],
   "source": [
    "# CON.close()"
   ]
  },
  {
   "cell_type": "code",
   "execution_count": 6,
   "id": "627b4da8-c0f9-4096-9a95-fb591f1b5e12",
   "metadata": {},
   "outputs": [
    {
     "data": {
      "text/plain": [
       "'/home/feelus/pyfiles/src'"
      ]
     },
     "execution_count": 6,
     "metadata": {},
     "output_type": "execute_result"
    }
   ],
   "source": [
    "os.getcwd()"
   ]
  },
  {
   "cell_type": "code",
   "execution_count": 9,
   "id": "6941ac37-889a-4e7c-a6a7-1566cd8185f4",
   "metadata": {},
   "outputs": [
    {
     "name": "stdout",
     "output_type": "stream",
     "text": [
      "[(0, 'home', 1, 1, 2), (1, 'feelus', 2, 1, 2), (2, 'pyfiles', 3, 1, 2), (3, 'src', 4, 1, 1), (4, 'link', 5, 2, 0), (4, '.ipynb_checkpoints', 6, 1, 0), (4, '.git', 7, 1, 0), (4, 'Untitled.ipynb', 8, 0, 1), (4, 'files.db', 9, 0, 0), (4, 'pipe', 10, 3, 0), (4, 'notify.py', 11, 0, 0), (4, 'backup.sql', 12, 0, 0), (4, '.gitignore', 13, 0, 0), (4, 'pyfiles.py', 14, 0, 0), (4, 'files2.db-journal', 15, 0, 1), (4, 'files1.db', 16, 0, 0), (4, 'files2.db', 17, 0, 0), (6, 'Untitled-checkpoint.ipynb', 18, 0, 0), (6, 'pyfiles-checkpoint.py', 19, 0, 0), (7, 'refs', 20, 1, 0), (7, 'objects', 21, 1, 0), (7, 'info', 22, 1, 0), (7, 'logs', 23, 1, 0), (7, 'hooks', 24, 1, 0), (7, 'branches', 25, 1, 0), (7, 'COMMIT_EDITMSG', 26, 0, 0), (7, 'index', 27, 0, 0), (7, 'description', 28, 0, 0), (7, 'config', 29, 0, 0), (7, 'HEAD', 30, 0, 0), (20, 'heads', 31, 1, 0), (20, 'tags', 32, 1, 0), (31, 'master', 33, 0, 0), (21, 'pack', 34, 1, 0), (21, '10', 35, 1, 0), (21, '23', 36, 1, 0), (21, 'fa', 37, 1, 0), (21, '42', 38, 1, 0), (21, '26', 39, 1, 0), (21, '45', 40, 1, 0), (21, '93', 41, 1, 0), (21, 'ba', 42, 1, 0), (21, 'bb', 43, 1, 0), (21, 'ad', 44, 1, 0), (21, '91', 45, 1, 0), (21, 'e6', 46, 1, 0), (21, '98', 47, 1, 0), (21, 'b1', 48, 1, 0), (21, '5c', 49, 1, 0), (21, 'info', 50, 1, 0), (21, '04', 51, 1, 0), (21, '3b', 52, 1, 0), (21, '56', 53, 1, 0), (21, 'd8', 54, 1, 0), (35, '1c776297d45e4abe90a7226544c01a3ef21474', 55, 0, 0), (36, 'ff026db3ffb96d5313f8e8b2ebc6a583687ab9', 56, 0, 0), (37, '35185d2649d89c4ef276f0210f4dd5ba62b967', 57, 0, 0), (38, '3450db162c43f9b35b42aab2255876b8567d2a', 58, 0, 0), (39, '40e313bcf6f16877bf367d91075aa6864c0ab2', 59, 0, 0), (40, 'a60472ef26539269d683039e71e488e3587921', 60, 0, 0), (41, '7539b42734d1b86caaae24aca1ad5a9b278261', 61, 0, 0), (42, '786f9b9400c4ce5a16c243c6834c81d2390fed', 62, 0, 0), (43, '93da1c6a49cc7b87339f3153c1565f520ae0d2', 63, 0, 0), (44, 'c454b39427013e7b037058bb4f0c5e63f2016d', 64, 0, 0), (45, '5a77d801b565863926525bafc067ad4dc597d9', 65, 0, 0), (46, '6ec043cbde7d52ec0db7049adeafc3426648ee', 66, 0, 0), (47, 'e6ef67fad8af56cb3721edbd420b3d6fcc0bb1', 67, 0, 0), (48, 'e41ead66493a01646ca2165d0c6956d13333d0', 68, 0, 0), (49, 'c5e241e8363380a7ea3d5163212b0a7c124ed3', 69, 0, 0), (51, '8cb8deb88f1aba0612e887c33dc28371cefcde', 70, 0, 0), (52, '1eafb697668adf592c612e00ba3326b99c7b96', 71, 0, 0), (53, '7c911c411c39a4297dcf082c2cdeb65f653ce8', 72, 0, 0), (54, 'a25ee1ccc41f763ad41dc9247ee1308698f47b', 73, 0, 0), (22, 'exclude', 74, 0, 0), (23, 'refs', 75, 1, 0), (23, 'HEAD', 76, 0, 0), (75, 'heads', 77, 1, 0), (77, 'master', 78, 0, 0), (24, 'post-update.sample', 79, 0, 0), (24, 'commit-msg.sample', 80, 0, 0), (24, 'pre-receive.sample', 81, 0, 0), (24, 'sendemail-validate.sample', 82, 0, 0), (24, 'pre-push.sample', 83, 0, 0), (24, 'push-to-checkout.sample', 84, 0, 0), (24, 'pre-rebase.sample', 85, 0, 0), (24, 'pre-merge-commit.sample', 86, 0, 0), (24, 'update.sample', 87, 0, 0), (24, 'pre-applypatch.sample', 88, 0, 0), (24, 'pre-commit.sample', 89, 0, 0), (24, 'prepare-commit-msg.sample', 90, 0, 0), (24, 'applypatch-msg.sample', 91, 0, 0), (24, 'fsmonitor-watchman.sample', 92, 0, 0), (4, 'a', 94, 1, 1), (94, 'b', 95, 1, 1), (4, 'src', 99, 1, 1), (99, 'files2.db-wal', 100, 0, 1), (4, 'files2.db-wal', 101, 0, 1)]\n"
     ]
    }
   ],
   "source": [
    "if not INIT_MODE:\n",
    "    with CON:\n",
    "        print(CUR.execute('SELECT * FROM cur_dirs').fetchall()[:100])"
   ]
  },
  {
   "cell_type": "markdown",
   "id": "8c32b058-7051-4ca8-85d0-5ccdfebcdd27",
   "metadata": {},
   "source": [
    "## cur_dirs"
   ]
  },
  {
   "cell_type": "code",
   "execution_count": 10,
   "id": "7a63b47a-c9be-4a75-9c46-9822617e64bb",
   "metadata": {},
   "outputs": [],
   "source": []
  },
  {
   "cell_type": "code",
   "execution_count": 11,
   "id": "97067d8f-7f43-4ae5-9b9d-81642ac340e6",
   "metadata": {},
   "outputs": [],
   "source": []
  },
  {
   "cell_type": "code",
   "execution_count": 12,
   "id": "79c9cde0-6563-47c6-99dd-895c42f1c7cb",
   "metadata": {},
   "outputs": [],
   "source": []
  },
  {
   "cell_type": "code",
   "execution_count": 13,
   "id": "e6df4af1-7bc0-478a-9ed7-f576a66ca9f2",
   "metadata": {},
   "outputs": [],
   "source": []
  },
  {
   "cell_type": "code",
   "execution_count": 14,
   "id": "bf0cc3fe-f70c-4ef4-8410-7069997d1f2d",
   "metadata": {},
   "outputs": [],
   "source": []
  },
  {
   "cell_type": "code",
   "execution_count": 15,
   "id": "a84a3f15-760f-4033-9c4f-46c99f4d6133",
   "metadata": {},
   "outputs": [],
   "source": [
    "if INIT_MODE:\n",
    "    with CON:\n",
    "        if CON.in_transaction:\n",
    "            CUR.execute('COMMIT')\n",
    "        CUR.execute('DROP TABLE IF EXISTS cur_dirs')\n",
    "        CUR.execute('''\n",
    "        CREATE TABLE cur_dirs (\n",
    "            parent_id INTEGER NOT NULL,           /* id папки, в которой лежит данный объект */\n",
    "            name TEXT NOT NULL,                   /* имя объекта в папке */\n",
    "            id INTEGER PRIMARY KEY AUTOINCREMENT, /* идентификатор объекта во всей БД */\n",
    "            type INTEGER NOT NULL,                /* MFILE, MDIR, MLINK, MOTHER */\n",
    "            modified INTEGER NOT NULL,            /* параметр обхода:\n",
    "                0 - заходим при полном обходе\n",
    "                1 - заходим приобходе модифицированных объектов\n",
    "                2 - по таблице заходим всегда, но в ФС никогда не просматриваем (и даже stat не делаем) */\n",
    "        UNIQUE(parent_id, name)\n",
    "        )\n",
    "        ''')\n",
    "        create_root('/boot',CUR)\n",
    "    \n",
    "        print(CUR.execute('SELECT * FROM cur_dirs').fetchall())\n",
    "    \n",
    "        create_root('/home',CUR)\n",
    "        print(CUR.execute('SELECT * FROM cur_dirs').fetchall())\n",
    "        CUR.execute('DROP TABLE cur_dirs')\n",
    "        CUR.execute('COMMIT')"
   ]
  },
  {
   "cell_type": "code",
   "execution_count": 16,
   "id": "67a067d5-11ea-42c1-823b-6ad3602059d7",
   "metadata": {},
   "outputs": [],
   "source": []
  },
  {
   "cell_type": "code",
   "execution_count": 17,
   "id": "7b6c8e4a-3174-4c9c-832e-c9f79cedb9c8",
   "metadata": {},
   "outputs": [],
   "source": [
    "if INIT_MODE:\n",
    "    with CON:\n",
    "        CUR.execute('DROP TABLE IF EXISTS cur_dirs; ')\n",
    "    start = time()\n",
    "    init_cur_dirs(ROOT_DIRS)\n",
    "    print(time() - start)\n",
    "# ~ 2min"
   ]
  },
  {
   "cell_type": "code",
   "execution_count": null,
   "id": "8ef0cd68-9654-4362-9d7f-f56e551ec38b",
   "metadata": {},
   "outputs": [],
   "source": []
  },
  {
   "cell_type": "code",
   "execution_count": 18,
   "id": "fd9e4625-2f31-42d5-9929-ac2cb3d48b77",
   "metadata": {
    "scrolled": true
   },
   "outputs": [
    {
     "name": "stdout",
     "output_type": "stream",
     "text": [
      "97\n",
      "(0, 'home', 1, 1, 2)\n",
      "(1, 'feelus', 2, 1, 2)\n",
      "(2, 'pyfiles', 3, 1, 2)\n",
      "(3, 'src', 4, 1, 1)\n",
      "(4, 'link', 5, 2, 0)\n",
      "(4, '.ipynb_checkpoints', 6, 1, 0)\n",
      "(4, '.git', 7, 1, 0)\n",
      "(4, 'Untitled.ipynb', 8, 0, 1)\n",
      "(4, 'files.db', 9, 0, 0)\n",
      "(4, 'pipe', 10, 3, 0)\n",
      "(4, 'notify.py', 11, 0, 0)\n",
      "(4, 'backup.sql', 12, 0, 0)\n",
      "(4, '.gitignore', 13, 0, 0)\n",
      "(4, 'pyfiles.py', 14, 0, 0)\n",
      "(4, 'files2.db-journal', 15, 0, 1)\n",
      "(4, 'files1.db', 16, 0, 0)\n",
      "(4, 'files2.db', 17, 0, 0)\n",
      "(6, 'Untitled-checkpoint.ipynb', 18, 0, 0)\n",
      "(6, 'pyfiles-checkpoint.py', 19, 0, 0)\n",
      "(7, 'refs', 20, 1, 0)\n",
      "(7, 'objects', 21, 1, 0)\n",
      "(7, 'info', 22, 1, 0)\n",
      "(7, 'logs', 23, 1, 0)\n",
      "(7, 'hooks', 24, 1, 0)\n",
      "(7, 'branches', 25, 1, 0)\n",
      "(7, 'COMMIT_EDITMSG', 26, 0, 0)\n",
      "(7, 'index', 27, 0, 0)\n",
      "(7, 'description', 28, 0, 0)\n",
      "(7, 'config', 29, 0, 0)\n",
      "(7, 'HEAD', 30, 0, 0)\n",
      "(20, 'heads', 31, 1, 0)\n",
      "(20, 'tags', 32, 1, 0)\n",
      "(31, 'master', 33, 0, 0)\n",
      "(21, 'pack', 34, 1, 0)\n",
      "(21, '10', 35, 1, 0)\n",
      "(21, '23', 36, 1, 0)\n",
      "(21, 'fa', 37, 1, 0)\n",
      "(21, '42', 38, 1, 0)\n",
      "(21, '26', 39, 1, 0)\n",
      "(21, '45', 40, 1, 0)\n",
      "(21, '93', 41, 1, 0)\n",
      "(21, 'ba', 42, 1, 0)\n",
      "(21, 'bb', 43, 1, 0)\n",
      "(21, 'ad', 44, 1, 0)\n",
      "(21, '91', 45, 1, 0)\n",
      "(21, 'e6', 46, 1, 0)\n",
      "(21, '98', 47, 1, 0)\n",
      "(21, 'b1', 48, 1, 0)\n",
      "(21, '5c', 49, 1, 0)\n",
      "(21, 'info', 50, 1, 0)\n",
      "(21, '04', 51, 1, 0)\n",
      "(21, '3b', 52, 1, 0)\n",
      "(21, '56', 53, 1, 0)\n",
      "(21, 'd8', 54, 1, 0)\n",
      "(35, '1c776297d45e4abe90a7226544c01a3ef21474', 55, 0, 0)\n",
      "(36, 'ff026db3ffb96d5313f8e8b2ebc6a583687ab9', 56, 0, 0)\n",
      "(37, '35185d2649d89c4ef276f0210f4dd5ba62b967', 57, 0, 0)\n",
      "(38, '3450db162c43f9b35b42aab2255876b8567d2a', 58, 0, 0)\n",
      "(39, '40e313bcf6f16877bf367d91075aa6864c0ab2', 59, 0, 0)\n",
      "(40, 'a60472ef26539269d683039e71e488e3587921', 60, 0, 0)\n",
      "(41, '7539b42734d1b86caaae24aca1ad5a9b278261', 61, 0, 0)\n",
      "(42, '786f9b9400c4ce5a16c243c6834c81d2390fed', 62, 0, 0)\n",
      "(43, '93da1c6a49cc7b87339f3153c1565f520ae0d2', 63, 0, 0)\n",
      "(44, 'c454b39427013e7b037058bb4f0c5e63f2016d', 64, 0, 0)\n",
      "(45, '5a77d801b565863926525bafc067ad4dc597d9', 65, 0, 0)\n",
      "(46, '6ec043cbde7d52ec0db7049adeafc3426648ee', 66, 0, 0)\n",
      "(47, 'e6ef67fad8af56cb3721edbd420b3d6fcc0bb1', 67, 0, 0)\n",
      "(48, 'e41ead66493a01646ca2165d0c6956d13333d0', 68, 0, 0)\n",
      "(49, 'c5e241e8363380a7ea3d5163212b0a7c124ed3', 69, 0, 0)\n",
      "(51, '8cb8deb88f1aba0612e887c33dc28371cefcde', 70, 0, 0)\n",
      "(52, '1eafb697668adf592c612e00ba3326b99c7b96', 71, 0, 0)\n",
      "(53, '7c911c411c39a4297dcf082c2cdeb65f653ce8', 72, 0, 0)\n",
      "(54, 'a25ee1ccc41f763ad41dc9247ee1308698f47b', 73, 0, 0)\n",
      "(22, 'exclude', 74, 0, 0)\n",
      "(23, 'refs', 75, 1, 0)\n",
      "(23, 'HEAD', 76, 0, 0)\n",
      "(75, 'heads', 77, 1, 0)\n",
      "(77, 'master', 78, 0, 0)\n",
      "(24, 'post-update.sample', 79, 0, 0)\n",
      "(24, 'commit-msg.sample', 80, 0, 0)\n",
      "(24, 'pre-receive.sample', 81, 0, 0)\n",
      "(24, 'sendemail-validate.sample', 82, 0, 0)\n",
      "(24, 'pre-push.sample', 83, 0, 0)\n",
      "(24, 'push-to-checkout.sample', 84, 0, 0)\n",
      "(24, 'pre-rebase.sample', 85, 0, 0)\n",
      "(24, 'pre-merge-commit.sample', 86, 0, 0)\n",
      "(24, 'update.sample', 87, 0, 0)\n",
      "(24, 'pre-applypatch.sample', 88, 0, 0)\n",
      "(24, 'pre-commit.sample', 89, 0, 0)\n",
      "(24, 'prepare-commit-msg.sample', 90, 0, 0)\n",
      "(24, 'applypatch-msg.sample', 91, 0, 0)\n",
      "(24, 'fsmonitor-watchman.sample', 92, 0, 0)\n",
      "(4, 'a', 94, 1, 1)\n",
      "(94, 'b', 95, 1, 1)\n",
      "(4, 'src', 99, 1, 1)\n",
      "(99, 'files2.db-wal', 100, 0, 1)\n",
      "(4, 'files2.db-wal', 101, 0, 1)\n"
     ]
    }
   ],
   "source": [
    "with CON:\n",
    "    dirs = CUR.execute('SELECT * FROM cur_dirs').fetchall()\n",
    "    # Выводим результаты\n",
    "    print(len(dirs))\n",
    "    for file in dirs[0:1000]:\n",
    "        print(file)\n",
    "    "
   ]
  },
  {
   "cell_type": "code",
   "execution_count": 19,
   "id": "abc1b51a-9be6-4e68-b6b7-41a92307fb7c",
   "metadata": {
    "scrolled": true
   },
   "outputs": [
    {
     "name": "stdout",
     "output_type": "stream",
     "text": [
      "/home/feelus/pyfiles/src/\n",
      "/home/feelus/pyfiles/src/Untitled.ipynb\n",
      "/home/feelus/pyfiles/src/a/\n",
      "/home/feelus/pyfiles/src/a/b/\n",
      "/home/feelus/pyfiles/src/files2.db-journal\n",
      "/home/feelus/pyfiles/src/files2.db-wal\n",
      "/home/feelus/pyfiles/src/src/\n",
      "/home/feelus/pyfiles/src/src/files2.db-wal\n"
     ]
    }
   ],
   "source": [
    "\n",
    "list_modified()"
   ]
  },
  {
   "cell_type": "code",
   "execution_count": 20,
   "id": "a51e2323-1c08-493b-991d-5bcfc523ee27",
   "metadata": {},
   "outputs": [
    {
     "name": "stdout",
     "output_type": "stream",
     "text": [
      "[None]\n"
     ]
    }
   ],
   "source": [
    "with CON:\n",
    "    print(path2ids('/boot',CUR))"
   ]
  },
  {
   "cell_type": "code",
   "execution_count": 21,
   "id": "b06e47c5-6e8b-4d28-b329-1baaae1c0d19",
   "metadata": {},
   "outputs": [
    {
     "name": "stdout",
     "output_type": "stream",
     "text": [
      "/home/feelus/pyfiles\n"
     ]
    }
   ],
   "source": [
    "with CON:\n",
    "    print(id2path(3,CUR))"
   ]
  },
  {
   "cell_type": "markdown",
   "id": "195db08e-7a4f-4a06-a4c4-3668347d8ee1",
   "metadata": {},
   "source": [
    "## cur_stat"
   ]
  },
  {
   "cell_type": "code",
   "execution_count": 24,
   "id": "06d4b074-24b9-4f65-95ba-55870bce6cb4",
   "metadata": {},
   "outputs": [
    {
     "name": "stdout",
     "output_type": "stream",
     "text": [
      "[(0, 'home', 1, 1, 2)]\n"
     ]
    }
   ],
   "source": [
    "with CON:\n",
    "    print(CUR.execute('SELECT * from cur_dirs WHERE parent_id=0').fetchall())"
   ]
  },
  {
   "cell_type": "code",
   "execution_count": 25,
   "id": "7998079b-00d6-4f1f-ab2c-d6d1be877535",
   "metadata": {},
   "outputs": [],
   "source": []
  },
  {
   "cell_type": "code",
   "execution_count": 26,
   "id": "f6792af6-0d96-40ea-9c2b-6b138dd0cd6e",
   "metadata": {},
   "outputs": [
    {
     "data": {
      "text/plain": [
       "'rwxr-xr-x'"
      ]
     },
     "execution_count": 26,
     "metadata": {},
     "output_type": "execute_result"
    }
   ],
   "source": [
    "access_mode(16877)"
   ]
  },
  {
   "cell_type": "code",
   "execution_count": 27,
   "id": "d7311d38-f61a-4550-a890-9fbc1dbabafe",
   "metadata": {},
   "outputs": [
    {
     "data": {
      "text/plain": [
       "'feelus'"
      ]
     },
     "execution_count": 27,
     "metadata": {},
     "output_type": "execute_result"
    }
   ],
   "source": [
    "\n",
    "\n",
    "get_username_by_uid(1000)\n"
   ]
  },
  {
   "cell_type": "code",
   "execution_count": 28,
   "id": "b6f2a8aa-181e-4a7f-b97b-4536cb7ffab8",
   "metadata": {},
   "outputs": [
    {
     "data": {
      "text/plain": [
       "'feelus'"
      ]
     },
     "execution_count": 28,
     "metadata": {},
     "output_type": "execute_result"
    }
   ],
   "source": [
    "\n",
    "\n",
    "get_groupname_by_gid(1000)\n"
   ]
  },
  {
   "cell_type": "code",
   "execution_count": 29,
   "id": "4dd28a70-7648-4b8a-a017-ab8eefb6d84a",
   "metadata": {},
   "outputs": [],
   "source": []
  },
  {
   "cell_type": "code",
   "execution_count": 30,
   "id": "382be082-bc1d-404b-b14d-58652e620200",
   "metadata": {},
   "outputs": [],
   "source": []
  },
  {
   "cell_type": "code",
   "execution_count": 31,
   "id": "898e2b4b-4a86-48f3-be5c-ae8dd21da32b",
   "metadata": {
    "scrolled": true
   },
   "outputs": [
    {
     "name": "stdout",
     "output_type": "stream",
     "text": [
      " :\n",
      "R 1\td\thome\n",
      "/home :\n",
      "R 2\td\tfeelus\n",
      "/home/feelus :\n",
      "R 3\td\tpyfiles\n",
      "/home/feelus/pyfiles :\n",
      "M 4\tdrwxrwxr-x\t2025-01-20 17:30:48.554845\tsrc\t\n",
      "/home/feelus/pyfiles/src :\n",
      "- 7\tdrwxrwxr-x\t2025-01-19 06:42:27.275799\t.git\t<=git\n",
      "- 13\t-rw-rw-r--\t2025-01-14 15:40:53.793935\t.gitignore\t\n",
      "- 6\tdrwxrwxr-x\t2025-01-13 08:34:06.240780\t.ipynb_checkpoints\t\n",
      "M 8\t-rw-rw-r--\t2025-01-20 17:27:56.247324\tUntitled.ipynb\t\n",
      "M 94\tdrwxr-xr-x\t2025-01-20 16:06:39.900124\ta\t\n",
      "- 12\t-rw-rw-r--\t2025-01-16 12:56:40.531080\tbackup.sql\t\n",
      "- 9\t-rw-r--r--\t2025-01-14 14:42:09.380068\tfiles.db\t\n",
      "- 16\t-rw-r--r--\t2025-01-16 13:15:31.733491\tfiles1.db\t\n",
      "- 17\t-rw-r--r--\t2025-01-20 11:20:09.034473\tfiles2.db\t\n",
      "M 15\t-rw-r--r--\t2025-01-20 11:20:10.984473\tfiles2.db-journal\t\n",
      "M 101\t-rw-r--r--\t2025-01-20 17:29:44.936019\tfiles2.db-wal\t\n",
      "- 5\tlrwxrwxrwx\t2025-01-19 14:20:40.827281\tlink\t\n",
      "- 11\t-rw-rw-r--\t2025-01-14 04:24:33.066536\tnotify.py\t\n",
      "- 10\tprw-rw-r--\t2025-01-19 14:20:49.398276\tpipe\t\n",
      "- 14\t-rw-rw-r--\t2025-01-15 06:54:08.153996\tpyfiles.py\t\n",
      "M 99\tdrwxrwxr-x\t2025-01-20 16:23:30.484017\tsrc\t\n",
      "/home/feelus/pyfiles/src/.git :\n",
      "- 26\t-rw-rw-r--\t2025-01-19 06:42:27.273798\tCOMMIT_EDITMSG\t<=git\n",
      "- 30\t-rw-rw-r--\t2025-01-14 15:39:20.947928\tHEAD\t<=git\n",
      "- 25\tdrwxrwxr-x\t2025-01-14 15:39:20.944929\tbranches\t<=git\n",
      "- 29\t-rw-rw-r--\t2025-01-14 15:39:20.961929\tconfig\t<=git\n",
      "- 28\t-rw-rw-r--\t2025-01-14 15:39:20.597929\tdescription\t<=git\n",
      "- 24\tdrwxrwxr-x\t2025-01-14 15:39:20.944929\thooks\t<=git\n",
      "- 27\t-rw-rw-r--\t2025-01-19 06:42:27.272799\tindex\t<=git\n",
      "- 22\tdrwxrwxr-x\t2025-01-14 15:39:20.535928\tinfo\t<=git\n",
      "- 23\tdrwxrwxr-x\t2025-01-14 15:44:36.214953\tlogs\t<=git\n",
      "- 21\tdrwxrwxr-x\t2025-01-19 06:42:27.317798\tobjects\t<=git\n",
      "- 20\tdrwxrwxr-x\t2025-01-14 15:39:20.945929\trefs\t<=git\n",
      "/home/feelus/pyfiles/src/.git/branches :\n",
      "/home/feelus/pyfiles/src/.git/hooks :\n",
      "- 91\t-rwxrwxr-x\t2025-01-14 15:39:20.943928\tapplypatch-msg.sample\t<=git\n",
      "- 80\t-rwxrwxr-x\t2025-01-14 15:39:20.599929\tcommit-msg.sample\t<=git\n",
      "- 92\t-rwxrwxr-x\t2025-01-14 15:39:20.944929\tfsmonitor-watchman.sample\t<=git\n",
      "- 79\t-rwxrwxr-x\t2025-01-14 15:39:20.598928\tpost-update.sample\t<=git\n",
      "- 88\t-rwxrwxr-x\t2025-01-14 15:39:20.942929\tpre-applypatch.sample\t<=git\n",
      "- 89\t-rwxrwxr-x\t2025-01-14 15:39:20.943928\tpre-commit.sample\t<=git\n",
      "- 86\t-rwxrwxr-x\t2025-01-14 15:39:20.941929\tpre-merge-commit.sample\t<=git\n",
      "- 83\t-rwxrwxr-x\t2025-01-14 15:39:20.928929\tpre-push.sample\t<=git\n",
      "- 85\t-rwxrwxr-x\t2025-01-14 15:39:20.941929\tpre-rebase.sample\t<=git\n",
      "- 81\t-rwxrwxr-x\t2025-01-14 15:39:20.599929\tpre-receive.sample\t<=git\n",
      "- 90\t-rwxrwxr-x\t2025-01-14 15:39:20.943928\tprepare-commit-msg.sample\t<=git\n",
      "- 84\t-rwxrwxr-x\t2025-01-14 15:39:20.940928\tpush-to-checkout.sample\t<=git\n",
      "- 82\t-rwxrwxr-x\t2025-01-14 15:39:20.730928\tsendemail-validate.sample\t<=git\n",
      "- 87\t-rwxrwxr-x\t2025-01-14 15:39:20.942929\tupdate.sample\t<=git\n",
      "/home/feelus/pyfiles/src/.git/info :\n",
      "- 74\t-rw-rw-r--\t2025-01-14 15:39:20.546928\texclude\t<=git\n",
      "/home/feelus/pyfiles/src/.git/logs :\n",
      "- 76\t-rw-rw-r--\t2025-01-19 06:42:27.274799\tHEAD\t<=git\n",
      "- 75\tdrwxrwxr-x\t2025-01-14 15:44:36.214953\trefs\t<=git\n",
      "/home/feelus/pyfiles/src/.git/logs/refs :\n",
      "- 77\tdrwxrwxr-x\t2025-01-14 15:44:36.214953\theads\t<=git\n",
      "/home/feelus/pyfiles/src/.git/logs/refs/heads :\n",
      "- 78\t-rw-rw-r--\t2025-01-19 06:42:27.274799\tmaster\t<=git\n",
      "/home/feelus/pyfiles/src/.git/objects :\n",
      "- 51\tdrwxrwxr-x\t2025-01-16 14:58:57.933949\t04\t<=git\n",
      "- 35\tdrwxrwxr-x\t2025-01-16 14:58:57.935949\t10\t<=git\n",
      "- 36\tdrwxrwxr-x\t2025-01-15 19:00:34.574902\t23\t<=git\n",
      "- 39\tdrwxrwxr-x\t2025-01-15 19:00:34.575902\t26\t<=git\n",
      "- 52\tdrwxrwxr-x\t2025-01-14 15:44:07.042950\t3b\t<=git\n",
      "- 38\tdrwxrwxr-x\t2025-01-19 06:42:27.272799\t42\t<=git\n",
      "- 40\tdrwxrwxr-x\t2025-01-14 15:44:36.209953\t45\t<=git\n",
      "- 53\tdrwxrwxr-x\t2025-01-14 15:44:06.985950\t56\t<=git\n",
      "- 49\tdrwxrwxr-x\t2025-01-14 15:44:06.941950\t5c\t<=git\n",
      "- 45\tdrwxrwxr-x\t2025-01-14 15:44:36.212953\t91\t<=git\n",
      "- 41\tdrwxrwxr-x\t2025-01-15 19:00:34.574902\t93\t<=git\n",
      "- 47\tdrwxrwxr-x\t2025-01-14 15:44:06.937950\t98\t<=git\n",
      "- 44\tdrwxrwxr-x\t2025-01-17 08:21:20.993031\tad\t<=git\n",
      "- 48\tdrwxrwxr-x\t2025-01-17 08:21:20.995031\tb1\t<=git\n",
      "- 42\tdrwxrwxr-x\t2025-01-16 14:58:57.934949\tba\t<=git\n",
      "- 43\tdrwxrwxr-x\t2025-01-19 06:42:27.271799\tbb\t<=git\n",
      "- 54\tdrwxrwxr-x\t2025-01-17 08:21:20.992031\td8\t<=git\n",
      "- 46\tdrwxrwxr-x\t2025-01-19 06:42:27.274799\te6\t<=git\n",
      "- 37\tdrwxrwxr-x\t2025-01-15 19:00:34.577902\tfa\t<=git\n",
      "- 50\tdrwxrwxr-x\t2025-01-14 15:39:20.962929\tinfo\t<=git\n",
      "- 34\tdrwxrwxr-x\t2025-01-14 15:39:20.962929\tpack\t<=git\n",
      "/home/feelus/pyfiles/src/.git/objects/04 :\n",
      "- 70\t-r--r--r--\t2025-01-16 14:58:57.933949\t8cb8deb88f1aba0612e887c33dc28371cefcde\t<=git\n",
      "/home/feelus/pyfiles/src/.git/objects/10 :\n",
      "- 55\t-r--r--r--\t2025-01-16 14:58:57.935949\t1c776297d45e4abe90a7226544c01a3ef21474\t<=git\n",
      "/home/feelus/pyfiles/src/.git/objects/23 :\n",
      "- 56\t-r--r--r--\t2025-01-15 19:00:34.574902\tff026db3ffb96d5313f8e8b2ebc6a583687ab9\t<=git\n",
      "/home/feelus/pyfiles/src/.git/objects/26 :\n",
      "- 59\t-r--r--r--\t2025-01-15 19:00:34.575902\t40e313bcf6f16877bf367d91075aa6864c0ab2\t<=git\n",
      "/home/feelus/pyfiles/src/.git/objects/3b :\n",
      "- 71\t-r--r--r--\t2025-01-14 15:44:07.042950\t1eafb697668adf592c612e00ba3326b99c7b96\t<=git\n",
      "/home/feelus/pyfiles/src/.git/objects/42 :\n",
      "- 58\t-r--r--r--\t2025-01-19 06:42:27.272799\t3450db162c43f9b35b42aab2255876b8567d2a\t<=git\n",
      "/home/feelus/pyfiles/src/.git/objects/45 :\n",
      "- 60\t-r--r--r--\t2025-01-14 15:44:36.209953\ta60472ef26539269d683039e71e488e3587921\t<=git\n",
      "/home/feelus/pyfiles/src/.git/objects/56 :\n",
      "- 72\t-r--r--r--\t2025-01-14 15:44:06.985950\t7c911c411c39a4297dcf082c2cdeb65f653ce8\t<=git\n",
      "/home/feelus/pyfiles/src/.git/objects/5c :\n",
      "- 69\t-r--r--r--\t2025-01-14 15:44:06.941950\tc5e241e8363380a7ea3d5163212b0a7c124ed3\t<=git\n",
      "/home/feelus/pyfiles/src/.git/objects/91 :\n",
      "- 65\t-r--r--r--\t2025-01-14 15:44:36.212953\t5a77d801b565863926525bafc067ad4dc597d9\t<=git\n",
      "/home/feelus/pyfiles/src/.git/objects/93 :\n",
      "- 61\t-r--r--r--\t2025-01-15 19:00:34.574902\t7539b42734d1b86caaae24aca1ad5a9b278261\t<=git\n",
      "/home/feelus/pyfiles/src/.git/objects/98 :\n",
      "- 67\t-r--r--r--\t2025-01-14 15:44:06.937950\te6ef67fad8af56cb3721edbd420b3d6fcc0bb1\t<=git\n",
      "/home/feelus/pyfiles/src/.git/objects/ad :\n",
      "- 64\t-r--r--r--\t2025-01-17 08:21:20.993031\tc454b39427013e7b037058bb4f0c5e63f2016d\t<=git\n",
      "/home/feelus/pyfiles/src/.git/objects/b1 :\n",
      "- 68\t-r--r--r--\t2025-01-17 08:21:20.994031\te41ead66493a01646ca2165d0c6956d13333d0\t<=git\n",
      "/home/feelus/pyfiles/src/.git/objects/ba :\n",
      "- 62\t-r--r--r--\t2025-01-16 14:58:57.934949\t786f9b9400c4ce5a16c243c6834c81d2390fed\t<=git\n",
      "/home/feelus/pyfiles/src/.git/objects/bb :\n",
      "- 63\t-r--r--r--\t2025-01-19 06:42:27.271799\t93da1c6a49cc7b87339f3153c1565f520ae0d2\t<=git\n",
      "/home/feelus/pyfiles/src/.git/objects/d8 :\n",
      "- 73\t-r--r--r--\t2025-01-17 08:21:20.992031\ta25ee1ccc41f763ad41dc9247ee1308698f47b\t<=git\n",
      "/home/feelus/pyfiles/src/.git/objects/e6 :\n",
      "- 66\t-r--r--r--\t2025-01-19 06:42:27.274799\t6ec043cbde7d52ec0db7049adeafc3426648ee\t<=git\n",
      "/home/feelus/pyfiles/src/.git/objects/fa :\n",
      "- 57\t-r--r--r--\t2025-01-15 19:00:34.577902\t35185d2649d89c4ef276f0210f4dd5ba62b967\t<=git\n",
      "/home/feelus/pyfiles/src/.git/objects/info :\n",
      "/home/feelus/pyfiles/src/.git/objects/pack :\n",
      "/home/feelus/pyfiles/src/.git/refs :\n",
      "- 31\tdrwxrwxr-x\t2025-01-19 06:42:27.275799\theads\t<=git\n",
      "- 32\tdrwxrwxr-x\t2025-01-14 15:39:20.945929\ttags\t<=git\n",
      "/home/feelus/pyfiles/src/.git/refs/heads :\n",
      "- 33\t-rw-rw-r--\t2025-01-19 06:42:27.274799\tmaster\t<=git\n",
      "/home/feelus/pyfiles/src/.git/refs/tags :\n",
      "/home/feelus/pyfiles/src/.ipynb_checkpoints :\n",
      "- 18\t-rw-rw-r--\t2025-01-20 10:49:01.349173\tUntitled-checkpoint.ipynb\t\n",
      "- 19\t-rw-rw-r--\t2025-01-12 16:11:30.088646\tpyfiles-checkpoint.py\t\n",
      "/home/feelus/pyfiles/src/a :\n",
      "M 95\tdrwxr-xr-x\t2025-01-20 16:06:39.901124\tb\t\n",
      "/home/feelus/pyfiles/src/a/b :\n",
      "/home/feelus/pyfiles/src/src :\n",
      "M 100\t-rw-r--r--\t2025-01-20 16:19:40.293242\tfiles2.db-wal\t\n"
     ]
    }
   ],
   "source": [
    "ls_r(0,strict=False)"
   ]
  },
  {
   "cell_type": "code",
   "execution_count": 32,
   "id": "b8861078-720d-4514-9009-9b1cd180f773",
   "metadata": {},
   "outputs": [
    {
     "name": "stdout",
     "output_type": "stream",
     "text": [
      "- 7\tdrwxrwxr-x\t2025-01-19 06:42:27.275799\t.git\t<=git\n",
      "- 13\t-rw-rw-r--\t2025-01-14 15:40:53.793935\t.gitignore\t\n",
      "- 6\tdrwxrwxr-x\t2025-01-13 08:34:06.240780\t.ipynb_checkpoints\t\n",
      "M 8\t-rw-rw-r--\t2025-01-20 17:27:56.247324\tUntitled.ipynb\t\n",
      "M 94\tdrwxr-xr-x\t2025-01-20 16:06:39.900124\ta\t\n",
      "- 12\t-rw-rw-r--\t2025-01-16 12:56:40.531080\tbackup.sql\t\n",
      "- 9\t-rw-r--r--\t2025-01-14 14:42:09.380068\tfiles.db\t\n",
      "- 16\t-rw-r--r--\t2025-01-16 13:15:31.733491\tfiles1.db\t\n",
      "- 17\t-rw-r--r--\t2025-01-20 11:20:09.034473\tfiles2.db\t\n",
      "M 15\t-rw-r--r--\t2025-01-20 11:20:10.984473\tfiles2.db-journal\t\n",
      "M 101\t-rw-r--r--\t2025-01-20 17:29:44.936019\tfiles2.db-wal\t\n",
      "- 5\tlrwxrwxrwx\t2025-01-19 14:20:40.827281\tlink\t\n",
      "- 11\t-rw-rw-r--\t2025-01-14 04:24:33.066536\tnotify.py\t\n",
      "- 10\tprw-rw-r--\t2025-01-19 14:20:49.398276\tpipe\t\n",
      "- 14\t-rw-rw-r--\t2025-01-15 06:54:08.153996\tpyfiles.py\t\n",
      "M 99\tdrwxrwxr-x\t2025-01-20 16:23:30.484017\tsrc\t\n"
     ]
    }
   ],
   "source": [
    "ls(4,strict=False)"
   ]
  },
  {
   "cell_type": "code",
   "execution_count": null,
   "id": "350e827f-7cd3-49e4-94b6-15ce5501ddc6",
   "metadata": {},
   "outputs": [],
   "source": []
  },
  {
   "cell_type": "code",
   "execution_count": 33,
   "id": "a5f35972-fa97-4724-a204-df85ef3612e5",
   "metadata": {},
   "outputs": [
    {
     "name": "stdout",
     "output_type": "stream",
     "text": [
      "/home/feelus/pyfiles/src/\n",
      "/home/feelus/pyfiles/src/Untitled.ipynb\n",
      "/home/feelus/pyfiles/src/a/\n",
      "/home/feelus/pyfiles/src/a/b/\n",
      "/home/feelus/pyfiles/src/files2.db-journal\n",
      "/home/feelus/pyfiles/src/files2.db-wal\n",
      "/home/feelus/pyfiles/src/src/\n",
      "/home/feelus/pyfiles/src/src/files2.db-wal\n"
     ]
    }
   ],
   "source": [
    "# do stat первый раз\n",
    "if INIT_MODE:\n",
    "\n",
    "    # 45 s\n",
    "list_modified()"
   ]
  },
  {
   "cell_type": "code",
   "execution_count": 34,
   "id": "01d81761-90d4-4ed2-b05e-fbdf247b8604",
   "metadata": {
    "scrolled": true
   },
   "outputs": [
    {
     "name": "stdout",
     "output_type": "stream",
     "text": [
      " :\n",
      "R 1\td\thome\n",
      "/home :\n",
      "R 2\td\tfeelus\n",
      "/home/feelus :\n",
      "R 3\td\tpyfiles\n",
      "/home/feelus/pyfiles :\n",
      "M 4\tdrwxrwxr-x\t2025-01-20 17:30:48.554845\tsrc\t\n",
      "/home/feelus/pyfiles/src :\n",
      "- 7\tdrwxrwxr-x\t2025-01-19 06:42:27.275799\t.git\t<=git\n",
      "- 13\t-rw-rw-r--\t2025-01-14 15:40:53.793935\t.gitignore\t\n",
      "- 6\tdrwxrwxr-x\t2025-01-13 08:34:06.240780\t.ipynb_checkpoints\t\n",
      "M 8\t-rw-rw-r--\t2025-01-20 17:27:56.247324\tUntitled.ipynb\t\n",
      "M 94\tdrwxr-xr-x\t2025-01-20 16:06:39.900124\ta\t\n",
      "- 12\t-rw-rw-r--\t2025-01-16 12:56:40.531080\tbackup.sql\t\n",
      "- 9\t-rw-r--r--\t2025-01-14 14:42:09.380068\tfiles.db\t\n",
      "- 16\t-rw-r--r--\t2025-01-16 13:15:31.733491\tfiles1.db\t\n",
      "- 17\t-rw-r--r--\t2025-01-20 11:20:09.034473\tfiles2.db\t\n",
      "M 15\t-rw-r--r--\t2025-01-20 11:20:10.984473\tfiles2.db-journal\t\n",
      "M 101\t-rw-r--r--\t2025-01-20 17:29:44.936019\tfiles2.db-wal\t\n",
      "- 5\tlrwxrwxrwx\t2025-01-19 14:20:40.827281\tlink\t\n",
      "- 11\t-rw-rw-r--\t2025-01-14 04:24:33.066536\tnotify.py\t\n",
      "- 10\tprw-rw-r--\t2025-01-19 14:20:49.398276\tpipe\t\n",
      "- 14\t-rw-rw-r--\t2025-01-15 06:54:08.153996\tpyfiles.py\t\n",
      "M 99\tdrwxrwxr-x\t2025-01-20 16:23:30.484017\tsrc\t\n",
      "/home/feelus/pyfiles/src/.git :\n",
      "- 26\t-rw-rw-r--\t2025-01-19 06:42:27.273798\tCOMMIT_EDITMSG\t<=git\n",
      "- 30\t-rw-rw-r--\t2025-01-14 15:39:20.947928\tHEAD\t<=git\n",
      "- 25\tdrwxrwxr-x\t2025-01-14 15:39:20.944929\tbranches\t<=git\n",
      "- 29\t-rw-rw-r--\t2025-01-14 15:39:20.961929\tconfig\t<=git\n",
      "- 28\t-rw-rw-r--\t2025-01-14 15:39:20.597929\tdescription\t<=git\n",
      "- 24\tdrwxrwxr-x\t2025-01-14 15:39:20.944929\thooks\t<=git\n",
      "- 27\t-rw-rw-r--\t2025-01-19 06:42:27.272799\tindex\t<=git\n",
      "- 22\tdrwxrwxr-x\t2025-01-14 15:39:20.535928\tinfo\t<=git\n",
      "- 23\tdrwxrwxr-x\t2025-01-14 15:44:36.214953\tlogs\t<=git\n",
      "- 21\tdrwxrwxr-x\t2025-01-19 06:42:27.317798\tobjects\t<=git\n",
      "- 20\tdrwxrwxr-x\t2025-01-14 15:39:20.945929\trefs\t<=git\n",
      "/home/feelus/pyfiles/src/.git/branches :\n",
      "/home/feelus/pyfiles/src/.git/hooks :\n",
      "- 91\t-rwxrwxr-x\t2025-01-14 15:39:20.943928\tapplypatch-msg.sample\t<=git\n",
      "- 80\t-rwxrwxr-x\t2025-01-14 15:39:20.599929\tcommit-msg.sample\t<=git\n",
      "- 92\t-rwxrwxr-x\t2025-01-14 15:39:20.944929\tfsmonitor-watchman.sample\t<=git\n",
      "- 79\t-rwxrwxr-x\t2025-01-14 15:39:20.598928\tpost-update.sample\t<=git\n",
      "- 88\t-rwxrwxr-x\t2025-01-14 15:39:20.942929\tpre-applypatch.sample\t<=git\n",
      "- 89\t-rwxrwxr-x\t2025-01-14 15:39:20.943928\tpre-commit.sample\t<=git\n",
      "- 86\t-rwxrwxr-x\t2025-01-14 15:39:20.941929\tpre-merge-commit.sample\t<=git\n",
      "- 83\t-rwxrwxr-x\t2025-01-14 15:39:20.928929\tpre-push.sample\t<=git\n",
      "- 85\t-rwxrwxr-x\t2025-01-14 15:39:20.941929\tpre-rebase.sample\t<=git\n",
      "- 81\t-rwxrwxr-x\t2025-01-14 15:39:20.599929\tpre-receive.sample\t<=git\n",
      "- 90\t-rwxrwxr-x\t2025-01-14 15:39:20.943928\tprepare-commit-msg.sample\t<=git\n",
      "- 84\t-rwxrwxr-x\t2025-01-14 15:39:20.940928\tpush-to-checkout.sample\t<=git\n",
      "- 82\t-rwxrwxr-x\t2025-01-14 15:39:20.730928\tsendemail-validate.sample\t<=git\n",
      "- 87\t-rwxrwxr-x\t2025-01-14 15:39:20.942929\tupdate.sample\t<=git\n",
      "/home/feelus/pyfiles/src/.git/info :\n",
      "- 74\t-rw-rw-r--\t2025-01-14 15:39:20.546928\texclude\t<=git\n",
      "/home/feelus/pyfiles/src/.git/logs :\n",
      "- 76\t-rw-rw-r--\t2025-01-19 06:42:27.274799\tHEAD\t<=git\n",
      "- 75\tdrwxrwxr-x\t2025-01-14 15:44:36.214953\trefs\t<=git\n",
      "/home/feelus/pyfiles/src/.git/logs/refs :\n",
      "- 77\tdrwxrwxr-x\t2025-01-14 15:44:36.214953\theads\t<=git\n",
      "/home/feelus/pyfiles/src/.git/logs/refs/heads :\n",
      "- 78\t-rw-rw-r--\t2025-01-19 06:42:27.274799\tmaster\t<=git\n",
      "/home/feelus/pyfiles/src/.git/objects :\n",
      "- 51\tdrwxrwxr-x\t2025-01-16 14:58:57.933949\t04\t<=git\n",
      "- 35\tdrwxrwxr-x\t2025-01-16 14:58:57.935949\t10\t<=git\n",
      "- 36\tdrwxrwxr-x\t2025-01-15 19:00:34.574902\t23\t<=git\n",
      "- 39\tdrwxrwxr-x\t2025-01-15 19:00:34.575902\t26\t<=git\n",
      "- 52\tdrwxrwxr-x\t2025-01-14 15:44:07.042950\t3b\t<=git\n",
      "- 38\tdrwxrwxr-x\t2025-01-19 06:42:27.272799\t42\t<=git\n",
      "- 40\tdrwxrwxr-x\t2025-01-14 15:44:36.209953\t45\t<=git\n",
      "- 53\tdrwxrwxr-x\t2025-01-14 15:44:06.985950\t56\t<=git\n",
      "- 49\tdrwxrwxr-x\t2025-01-14 15:44:06.941950\t5c\t<=git\n",
      "- 45\tdrwxrwxr-x\t2025-01-14 15:44:36.212953\t91\t<=git\n",
      "- 41\tdrwxrwxr-x\t2025-01-15 19:00:34.574902\t93\t<=git\n",
      "- 47\tdrwxrwxr-x\t2025-01-14 15:44:06.937950\t98\t<=git\n",
      "- 44\tdrwxrwxr-x\t2025-01-17 08:21:20.993031\tad\t<=git\n",
      "- 48\tdrwxrwxr-x\t2025-01-17 08:21:20.995031\tb1\t<=git\n",
      "- 42\tdrwxrwxr-x\t2025-01-16 14:58:57.934949\tba\t<=git\n",
      "- 43\tdrwxrwxr-x\t2025-01-19 06:42:27.271799\tbb\t<=git\n",
      "- 54\tdrwxrwxr-x\t2025-01-17 08:21:20.992031\td8\t<=git\n",
      "- 46\tdrwxrwxr-x\t2025-01-19 06:42:27.274799\te6\t<=git\n",
      "- 37\tdrwxrwxr-x\t2025-01-15 19:00:34.577902\tfa\t<=git\n",
      "- 50\tdrwxrwxr-x\t2025-01-14 15:39:20.962929\tinfo\t<=git\n",
      "- 34\tdrwxrwxr-x\t2025-01-14 15:39:20.962929\tpack\t<=git\n",
      "/home/feelus/pyfiles/src/.git/objects/04 :\n",
      "- 70\t-r--r--r--\t2025-01-16 14:58:57.933949\t8cb8deb88f1aba0612e887c33dc28371cefcde\t<=git\n",
      "/home/feelus/pyfiles/src/.git/objects/10 :\n",
      "- 55\t-r--r--r--\t2025-01-16 14:58:57.935949\t1c776297d45e4abe90a7226544c01a3ef21474\t<=git\n",
      "/home/feelus/pyfiles/src/.git/objects/23 :\n",
      "- 56\t-r--r--r--\t2025-01-15 19:00:34.574902\tff026db3ffb96d5313f8e8b2ebc6a583687ab9\t<=git\n",
      "/home/feelus/pyfiles/src/.git/objects/26 :\n",
      "- 59\t-r--r--r--\t2025-01-15 19:00:34.575902\t40e313bcf6f16877bf367d91075aa6864c0ab2\t<=git\n",
      "/home/feelus/pyfiles/src/.git/objects/3b :\n",
      "- 71\t-r--r--r--\t2025-01-14 15:44:07.042950\t1eafb697668adf592c612e00ba3326b99c7b96\t<=git\n",
      "/home/feelus/pyfiles/src/.git/objects/42 :\n",
      "- 58\t-r--r--r--\t2025-01-19 06:42:27.272799\t3450db162c43f9b35b42aab2255876b8567d2a\t<=git\n",
      "/home/feelus/pyfiles/src/.git/objects/45 :\n",
      "- 60\t-r--r--r--\t2025-01-14 15:44:36.209953\ta60472ef26539269d683039e71e488e3587921\t<=git\n",
      "/home/feelus/pyfiles/src/.git/objects/56 :\n",
      "- 72\t-r--r--r--\t2025-01-14 15:44:06.985950\t7c911c411c39a4297dcf082c2cdeb65f653ce8\t<=git\n",
      "/home/feelus/pyfiles/src/.git/objects/5c :\n",
      "- 69\t-r--r--r--\t2025-01-14 15:44:06.941950\tc5e241e8363380a7ea3d5163212b0a7c124ed3\t<=git\n",
      "/home/feelus/pyfiles/src/.git/objects/91 :\n",
      "- 65\t-r--r--r--\t2025-01-14 15:44:36.212953\t5a77d801b565863926525bafc067ad4dc597d9\t<=git\n",
      "/home/feelus/pyfiles/src/.git/objects/93 :\n",
      "- 61\t-r--r--r--\t2025-01-15 19:00:34.574902\t7539b42734d1b86caaae24aca1ad5a9b278261\t<=git\n",
      "/home/feelus/pyfiles/src/.git/objects/98 :\n",
      "- 67\t-r--r--r--\t2025-01-14 15:44:06.937950\te6ef67fad8af56cb3721edbd420b3d6fcc0bb1\t<=git\n",
      "/home/feelus/pyfiles/src/.git/objects/ad :\n",
      "- 64\t-r--r--r--\t2025-01-17 08:21:20.993031\tc454b39427013e7b037058bb4f0c5e63f2016d\t<=git\n",
      "/home/feelus/pyfiles/src/.git/objects/b1 :\n",
      "- 68\t-r--r--r--\t2025-01-17 08:21:20.994031\te41ead66493a01646ca2165d0c6956d13333d0\t<=git\n",
      "/home/feelus/pyfiles/src/.git/objects/ba :\n",
      "- 62\t-r--r--r--\t2025-01-16 14:58:57.934949\t786f9b9400c4ce5a16c243c6834c81d2390fed\t<=git\n",
      "/home/feelus/pyfiles/src/.git/objects/bb :\n",
      "- 63\t-r--r--r--\t2025-01-19 06:42:27.271799\t93da1c6a49cc7b87339f3153c1565f520ae0d2\t<=git\n",
      "/home/feelus/pyfiles/src/.git/objects/d8 :\n",
      "- 73\t-r--r--r--\t2025-01-17 08:21:20.992031\ta25ee1ccc41f763ad41dc9247ee1308698f47b\t<=git\n",
      "/home/feelus/pyfiles/src/.git/objects/e6 :\n",
      "- 66\t-r--r--r--\t2025-01-19 06:42:27.274799\t6ec043cbde7d52ec0db7049adeafc3426648ee\t<=git\n",
      "/home/feelus/pyfiles/src/.git/objects/fa :\n",
      "- 57\t-r--r--r--\t2025-01-15 19:00:34.577902\t35185d2649d89c4ef276f0210f4dd5ba62b967\t<=git\n",
      "/home/feelus/pyfiles/src/.git/objects/info :\n",
      "/home/feelus/pyfiles/src/.git/objects/pack :\n",
      "/home/feelus/pyfiles/src/.git/refs :\n",
      "- 31\tdrwxrwxr-x\t2025-01-19 06:42:27.275799\theads\t<=git\n",
      "- 32\tdrwxrwxr-x\t2025-01-14 15:39:20.945929\ttags\t<=git\n",
      "/home/feelus/pyfiles/src/.git/refs/heads :\n",
      "- 33\t-rw-rw-r--\t2025-01-19 06:42:27.274799\tmaster\t<=git\n",
      "/home/feelus/pyfiles/src/.git/refs/tags :\n",
      "/home/feelus/pyfiles/src/.ipynb_checkpoints :\n",
      "- 18\t-rw-rw-r--\t2025-01-20 10:49:01.349173\tUntitled-checkpoint.ipynb\t\n",
      "- 19\t-rw-rw-r--\t2025-01-12 16:11:30.088646\tpyfiles-checkpoint.py\t\n",
      "/home/feelus/pyfiles/src/a :\n",
      "M 95\tdrwxr-xr-x\t2025-01-20 16:06:39.901124\tb\t\n",
      "/home/feelus/pyfiles/src/a/b :\n",
      "/home/feelus/pyfiles/src/src :\n",
      "M 100\t-rw-r--r--\t2025-01-20 16:19:40.293242\tfiles2.db-wal\t\n"
     ]
    }
   ],
   "source": [
    "ls_r(0)"
   ]
  },
  {
   "cell_type": "code",
   "execution_count": 35,
   "id": "6b89493d-fb84-453c-a18f-6d915b842de2",
   "metadata": {
    "scrolled": true
   },
   "outputs": [
    {
     "name": "stdout",
     "output_type": "stream",
     "text": [
      "/home/feelus/pyfiles/src/\n",
      "/home/feelus/pyfiles/src/Untitled.ipynb\n",
      "/home/feelus/pyfiles/src/a/\n",
      "/home/feelus/pyfiles/src/a/b/\n",
      "/home/feelus/pyfiles/src/files2.db-journal\n",
      "/home/feelus/pyfiles/src/files2.db-wal\n",
      "/home/feelus/pyfiles/src/src/\n",
      "/home/feelus/pyfiles/src/src/files2.db-wal\n"
     ]
    }
   ],
   "source": [
    "# calc hashes of files\n",
    "if INIT_MODE:\n",
    "\n",
    "list_modified()"
   ]
  },
  {
   "cell_type": "code",
   "execution_count": 36,
   "id": "e8f4f073-78a2-47c6-b8ed-a89c7f81971e",
   "metadata": {},
   "outputs": [],
   "source": [
    "with CON:\n",
    "    ids = CUR.execute('UPDATE cur_stat SET data = \"00000000000000000000000000000000\" WHERE type = ?',(MOTHER,)).fetchall()"
   ]
  },
  {
   "cell_type": "code",
   "execution_count": 37,
   "id": "6ed82813-a1a4-4f28-882c-ea3a0680e6c4",
   "metadata": {},
   "outputs": [
    {
     "name": "stdout",
     "output_type": "stream",
     "text": [
      "ok\n",
      "/home/feelus/pyfiles/src/\n",
      "/home/feelus/pyfiles/src/Untitled.ipynb\n",
      "/home/feelus/pyfiles/src/a/\n",
      "/home/feelus/pyfiles/src/a/b/\n",
      "/home/feelus/pyfiles/src/files2.db-journal\n",
      "/home/feelus/pyfiles/src/files2.db-wal\n",
      "/home/feelus/pyfiles/src/src/\n",
      "/home/feelus/pyfiles/src/src/files2.db-wal\n"
     ]
    }
   ],
   "source": [
    "with CON:\n",
    "    print(*CUR.execute('PRAGMA integrity_check;').fetchone())\n",
    "list_modified()"
   ]
  },
  {
   "cell_type": "code",
   "execution_count": 38,
   "id": "a1463cd8-c809-4d3a-8314-02aade12e28c",
   "metadata": {},
   "outputs": [
    {
     "name": "stdout",
     "output_type": "stream",
     "text": [
      "/home/feelus/pyfiles/src/\n",
      "/home/feelus/pyfiles/src/Untitled.ipynb\n",
      "/home/feelus/pyfiles/src/a/\n",
      "/home/feelus/pyfiles/src/a/b/\n",
      "/home/feelus/pyfiles/src/files2.db-journal\n",
      "/home/feelus/pyfiles/src/files2.db-wal\n",
      "/home/feelus/pyfiles/src/src/\n",
      "/home/feelus/pyfiles/src/src/files2.db-wal\n"
     ]
    }
   ],
   "source": [
    "# обновить симлинки, директории, сынтегрировать хеши\n",
    "if INIT_MODE:\n",
    "   \n",
    "list_modified()"
   ]
  },
  {
   "cell_type": "code",
   "execution_count": 39,
   "id": "19e0f66f-cec2-4873-998a-f431e321ea25",
   "metadata": {
    "scrolled": true
   },
   "outputs": [
    {
     "name": "stdout",
     "output_type": "stream",
     "text": [
      " :\n",
      "R 1\td\thome\n",
      "/home :\n",
      "R 2\td\tfeelus\n",
      "/home/feelus :\n",
      "R 3\td\tpyfiles\n",
      "/home/feelus/pyfiles :\n",
      "M 4\tdrwxrwxr-x\t2025-01-20 17:30:48.554845\tsrc\t\n",
      "/home/feelus/pyfiles/src :\n",
      "- 7\tdrwxrwxr-x\t2025-01-19 06:42:27.275799\t.git\t<=git\n",
      "- 13\t-rw-rw-r--\t2025-01-14 15:40:53.793935\t.gitignore\t\n",
      "- 6\tdrwxrwxr-x\t2025-01-13 08:34:06.240780\t.ipynb_checkpoints\t\n",
      "M 8\t-rw-rw-r--\t2025-01-20 17:27:56.247324\tUntitled.ipynb\t\n",
      "M 94\tdrwxr-xr-x\t2025-01-20 16:06:39.900124\ta\t\n",
      "- 12\t-rw-rw-r--\t2025-01-16 12:56:40.531080\tbackup.sql\t\n",
      "- 9\t-rw-r--r--\t2025-01-14 14:42:09.380068\tfiles.db\t\n",
      "- 16\t-rw-r--r--\t2025-01-16 13:15:31.733491\tfiles1.db\t\n",
      "- 17\t-rw-r--r--\t2025-01-20 11:20:09.034473\tfiles2.db\t\n",
      "M 15\t-rw-r--r--\t2025-01-20 11:20:10.984473\tfiles2.db-journal\t\n",
      "M 101\t-rw-r--r--\t2025-01-20 17:29:44.936019\tfiles2.db-wal\t\n",
      "- 5\tlrwxrwxrwx\t2025-01-19 14:20:40.827281\tlink\t\n",
      "- 11\t-rw-rw-r--\t2025-01-14 04:24:33.066536\tnotify.py\t\n",
      "- 10\tprw-rw-r--\t2025-01-19 14:20:49.398276\tpipe\t\n",
      "- 14\t-rw-rw-r--\t2025-01-15 06:54:08.153996\tpyfiles.py\t\n",
      "M 99\tdrwxrwxr-x\t2025-01-20 16:23:30.484017\tsrc\t\n",
      "/home/feelus/pyfiles/src/.git :\n",
      "- 26\t-rw-rw-r--\t2025-01-19 06:42:27.273798\tCOMMIT_EDITMSG\t<=git\n",
      "- 30\t-rw-rw-r--\t2025-01-14 15:39:20.947928\tHEAD\t<=git\n",
      "- 25\tdrwxrwxr-x\t2025-01-14 15:39:20.944929\tbranches\t<=git\n",
      "- 29\t-rw-rw-r--\t2025-01-14 15:39:20.961929\tconfig\t<=git\n",
      "- 28\t-rw-rw-r--\t2025-01-14 15:39:20.597929\tdescription\t<=git\n",
      "- 24\tdrwxrwxr-x\t2025-01-14 15:39:20.944929\thooks\t<=git\n",
      "- 27\t-rw-rw-r--\t2025-01-19 06:42:27.272799\tindex\t<=git\n",
      "- 22\tdrwxrwxr-x\t2025-01-14 15:39:20.535928\tinfo\t<=git\n",
      "- 23\tdrwxrwxr-x\t2025-01-14 15:44:36.214953\tlogs\t<=git\n",
      "- 21\tdrwxrwxr-x\t2025-01-19 06:42:27.317798\tobjects\t<=git\n",
      "- 20\tdrwxrwxr-x\t2025-01-14 15:39:20.945929\trefs\t<=git\n",
      "/home/feelus/pyfiles/src/.git/branches :\n",
      "/home/feelus/pyfiles/src/.git/hooks :\n",
      "- 91\t-rwxrwxr-x\t2025-01-14 15:39:20.943928\tapplypatch-msg.sample\t<=git\n",
      "- 80\t-rwxrwxr-x\t2025-01-14 15:39:20.599929\tcommit-msg.sample\t<=git\n",
      "- 92\t-rwxrwxr-x\t2025-01-14 15:39:20.944929\tfsmonitor-watchman.sample\t<=git\n",
      "- 79\t-rwxrwxr-x\t2025-01-14 15:39:20.598928\tpost-update.sample\t<=git\n",
      "- 88\t-rwxrwxr-x\t2025-01-14 15:39:20.942929\tpre-applypatch.sample\t<=git\n",
      "- 89\t-rwxrwxr-x\t2025-01-14 15:39:20.943928\tpre-commit.sample\t<=git\n",
      "- 86\t-rwxrwxr-x\t2025-01-14 15:39:20.941929\tpre-merge-commit.sample\t<=git\n",
      "- 83\t-rwxrwxr-x\t2025-01-14 15:39:20.928929\tpre-push.sample\t<=git\n",
      "- 85\t-rwxrwxr-x\t2025-01-14 15:39:20.941929\tpre-rebase.sample\t<=git\n",
      "- 81\t-rwxrwxr-x\t2025-01-14 15:39:20.599929\tpre-receive.sample\t<=git\n",
      "- 90\t-rwxrwxr-x\t2025-01-14 15:39:20.943928\tprepare-commit-msg.sample\t<=git\n",
      "- 84\t-rwxrwxr-x\t2025-01-14 15:39:20.940928\tpush-to-checkout.sample\t<=git\n",
      "- 82\t-rwxrwxr-x\t2025-01-14 15:39:20.730928\tsendemail-validate.sample\t<=git\n",
      "- 87\t-rwxrwxr-x\t2025-01-14 15:39:20.942929\tupdate.sample\t<=git\n",
      "/home/feelus/pyfiles/src/.git/info :\n",
      "- 74\t-rw-rw-r--\t2025-01-14 15:39:20.546928\texclude\t<=git\n",
      "/home/feelus/pyfiles/src/.git/logs :\n",
      "- 76\t-rw-rw-r--\t2025-01-19 06:42:27.274799\tHEAD\t<=git\n",
      "- 75\tdrwxrwxr-x\t2025-01-14 15:44:36.214953\trefs\t<=git\n",
      "/home/feelus/pyfiles/src/.git/logs/refs :\n",
      "- 77\tdrwxrwxr-x\t2025-01-14 15:44:36.214953\theads\t<=git\n",
      "/home/feelus/pyfiles/src/.git/logs/refs/heads :\n",
      "- 78\t-rw-rw-r--\t2025-01-19 06:42:27.274799\tmaster\t<=git\n",
      "/home/feelus/pyfiles/src/.git/objects :\n",
      "- 51\tdrwxrwxr-x\t2025-01-16 14:58:57.933949\t04\t<=git\n",
      "- 35\tdrwxrwxr-x\t2025-01-16 14:58:57.935949\t10\t<=git\n",
      "- 36\tdrwxrwxr-x\t2025-01-15 19:00:34.574902\t23\t<=git\n",
      "- 39\tdrwxrwxr-x\t2025-01-15 19:00:34.575902\t26\t<=git\n",
      "- 52\tdrwxrwxr-x\t2025-01-14 15:44:07.042950\t3b\t<=git\n",
      "- 38\tdrwxrwxr-x\t2025-01-19 06:42:27.272799\t42\t<=git\n",
      "- 40\tdrwxrwxr-x\t2025-01-14 15:44:36.209953\t45\t<=git\n",
      "- 53\tdrwxrwxr-x\t2025-01-14 15:44:06.985950\t56\t<=git\n",
      "- 49\tdrwxrwxr-x\t2025-01-14 15:44:06.941950\t5c\t<=git\n",
      "- 45\tdrwxrwxr-x\t2025-01-14 15:44:36.212953\t91\t<=git\n",
      "- 41\tdrwxrwxr-x\t2025-01-15 19:00:34.574902\t93\t<=git\n",
      "- 47\tdrwxrwxr-x\t2025-01-14 15:44:06.937950\t98\t<=git\n",
      "- 44\tdrwxrwxr-x\t2025-01-17 08:21:20.993031\tad\t<=git\n",
      "- 48\tdrwxrwxr-x\t2025-01-17 08:21:20.995031\tb1\t<=git\n",
      "- 42\tdrwxrwxr-x\t2025-01-16 14:58:57.934949\tba\t<=git\n",
      "- 43\tdrwxrwxr-x\t2025-01-19 06:42:27.271799\tbb\t<=git\n",
      "- 54\tdrwxrwxr-x\t2025-01-17 08:21:20.992031\td8\t<=git\n",
      "- 46\tdrwxrwxr-x\t2025-01-19 06:42:27.274799\te6\t<=git\n",
      "- 37\tdrwxrwxr-x\t2025-01-15 19:00:34.577902\tfa\t<=git\n",
      "- 50\tdrwxrwxr-x\t2025-01-14 15:39:20.962929\tinfo\t<=git\n",
      "- 34\tdrwxrwxr-x\t2025-01-14 15:39:20.962929\tpack\t<=git\n",
      "/home/feelus/pyfiles/src/.git/objects/04 :\n",
      "- 70\t-r--r--r--\t2025-01-16 14:58:57.933949\t8cb8deb88f1aba0612e887c33dc28371cefcde\t<=git\n",
      "/home/feelus/pyfiles/src/.git/objects/10 :\n",
      "- 55\t-r--r--r--\t2025-01-16 14:58:57.935949\t1c776297d45e4abe90a7226544c01a3ef21474\t<=git\n",
      "/home/feelus/pyfiles/src/.git/objects/23 :\n",
      "- 56\t-r--r--r--\t2025-01-15 19:00:34.574902\tff026db3ffb96d5313f8e8b2ebc6a583687ab9\t<=git\n",
      "/home/feelus/pyfiles/src/.git/objects/26 :\n",
      "- 59\t-r--r--r--\t2025-01-15 19:00:34.575902\t40e313bcf6f16877bf367d91075aa6864c0ab2\t<=git\n",
      "/home/feelus/pyfiles/src/.git/objects/3b :\n",
      "- 71\t-r--r--r--\t2025-01-14 15:44:07.042950\t1eafb697668adf592c612e00ba3326b99c7b96\t<=git\n",
      "/home/feelus/pyfiles/src/.git/objects/42 :\n",
      "- 58\t-r--r--r--\t2025-01-19 06:42:27.272799\t3450db162c43f9b35b42aab2255876b8567d2a\t<=git\n",
      "/home/feelus/pyfiles/src/.git/objects/45 :\n",
      "- 60\t-r--r--r--\t2025-01-14 15:44:36.209953\ta60472ef26539269d683039e71e488e3587921\t<=git\n",
      "/home/feelus/pyfiles/src/.git/objects/56 :\n",
      "- 72\t-r--r--r--\t2025-01-14 15:44:06.985950\t7c911c411c39a4297dcf082c2cdeb65f653ce8\t<=git\n",
      "/home/feelus/pyfiles/src/.git/objects/5c :\n",
      "- 69\t-r--r--r--\t2025-01-14 15:44:06.941950\tc5e241e8363380a7ea3d5163212b0a7c124ed3\t<=git\n",
      "/home/feelus/pyfiles/src/.git/objects/91 :\n",
      "- 65\t-r--r--r--\t2025-01-14 15:44:36.212953\t5a77d801b565863926525bafc067ad4dc597d9\t<=git\n",
      "/home/feelus/pyfiles/src/.git/objects/93 :\n",
      "- 61\t-r--r--r--\t2025-01-15 19:00:34.574902\t7539b42734d1b86caaae24aca1ad5a9b278261\t<=git\n",
      "/home/feelus/pyfiles/src/.git/objects/98 :\n",
      "- 67\t-r--r--r--\t2025-01-14 15:44:06.937950\te6ef67fad8af56cb3721edbd420b3d6fcc0bb1\t<=git\n",
      "/home/feelus/pyfiles/src/.git/objects/ad :\n",
      "- 64\t-r--r--r--\t2025-01-17 08:21:20.993031\tc454b39427013e7b037058bb4f0c5e63f2016d\t<=git\n",
      "/home/feelus/pyfiles/src/.git/objects/b1 :\n",
      "- 68\t-r--r--r--\t2025-01-17 08:21:20.994031\te41ead66493a01646ca2165d0c6956d13333d0\t<=git\n",
      "/home/feelus/pyfiles/src/.git/objects/ba :\n",
      "- 62\t-r--r--r--\t2025-01-16 14:58:57.934949\t786f9b9400c4ce5a16c243c6834c81d2390fed\t<=git\n",
      "/home/feelus/pyfiles/src/.git/objects/bb :\n",
      "- 63\t-r--r--r--\t2025-01-19 06:42:27.271799\t93da1c6a49cc7b87339f3153c1565f520ae0d2\t<=git\n",
      "/home/feelus/pyfiles/src/.git/objects/d8 :\n",
      "- 73\t-r--r--r--\t2025-01-17 08:21:20.992031\ta25ee1ccc41f763ad41dc9247ee1308698f47b\t<=git\n",
      "/home/feelus/pyfiles/src/.git/objects/e6 :\n",
      "- 66\t-r--r--r--\t2025-01-19 06:42:27.274799\t6ec043cbde7d52ec0db7049adeafc3426648ee\t<=git\n",
      "/home/feelus/pyfiles/src/.git/objects/fa :\n",
      "- 57\t-r--r--r--\t2025-01-15 19:00:34.577902\t35185d2649d89c4ef276f0210f4dd5ba62b967\t<=git\n",
      "/home/feelus/pyfiles/src/.git/objects/info :\n",
      "/home/feelus/pyfiles/src/.git/objects/pack :\n",
      "/home/feelus/pyfiles/src/.git/refs :\n",
      "- 31\tdrwxrwxr-x\t2025-01-19 06:42:27.275799\theads\t<=git\n",
      "- 32\tdrwxrwxr-x\t2025-01-14 15:39:20.945929\ttags\t<=git\n",
      "/home/feelus/pyfiles/src/.git/refs/heads :\n",
      "- 33\t-rw-rw-r--\t2025-01-19 06:42:27.274799\tmaster\t<=git\n",
      "/home/feelus/pyfiles/src/.git/refs/tags :\n",
      "/home/feelus/pyfiles/src/.ipynb_checkpoints :\n",
      "- 18\t-rw-rw-r--\t2025-01-20 10:49:01.349173\tUntitled-checkpoint.ipynb\t\n",
      "- 19\t-rw-rw-r--\t2025-01-12 16:11:30.088646\tpyfiles-checkpoint.py\t\n",
      "/home/feelus/pyfiles/src/a :\n",
      "M 95\tdrwxr-xr-x\t2025-01-20 16:06:39.901124\tb\t\n",
      "/home/feelus/pyfiles/src/a/b :\n",
      "/home/feelus/pyfiles/src/src :\n",
      "M 100\t-rw-r--r--\t2025-01-20 16:19:40.293242\tfiles2.db-wal\t\n"
     ]
    }
   ],
   "source": [
    "ls_r(0)"
   ]
  },
  {
   "cell_type": "code",
   "execution_count": 40,
   "id": "00c9642c-0549-4813-a975-f316618ccb77",
   "metadata": {},
   "outputs": [
    {
     "name": "stdout",
     "output_type": "stream",
     "text": [
      "{'st_mode': 16893, 'st_ino': 1341934, 'st_dev': 2052, 'st_nlink': 2, 'st_uid': 1000, 'st_gid': 1000, 'st_size': 4096, 'st_atime': 1737357214.1095748, 'st_mtime': 1736858676.212953, 'st_ctime': 1736858676.212953, 'st_blocks': 8, 'st_blksize': 4096}\n",
      "{'st_mode': 16877, 'st_ino': 1048577, 'st_dev': 2052, 'st_nlink': 3, 'st_uid': 0, 'st_gid': 0, 'st_size': 4096, 'st_atime': 1737189243.211488, 'st_mtime': 1729599119.2648318, 'st_ctime': 1729599119.2648318, 'st_blocks': 8, 'st_blksize': 4096}\n",
      "{'st_mode': 16893, 'st_ino': 1341934, 'st_dev': 2052, 'st_nlink': 2, 'st_uid': 1000, 'st_gid': 1000, 'st_size': 4096, 'st_atime': 1737357214.1095748, 'st_mtime': 1736858676.212953, 'st_ctime': 1736858676.212953, 'st_blocks': 8, 'st_blksize': 4096}\n"
     ]
    }
   ],
   "source": [
    "\n",
    "with CON:\n",
    "    ost = get_stat(45,CUR)\n",
    "    print(ost)\n",
    "    update_stat(45,os.stat('/home'),CUR)\n",
    "    print(get_stat(45,CUR))\n",
    "    update_stat(45,ost,CUR)\n",
    "    print(get_stat(45,CUR))\n",
    "    "
   ]
  },
  {
   "cell_type": "code",
   "execution_count": 41,
   "id": "518ddaa5-bba2-4c55-8780-9417506481fa",
   "metadata": {},
   "outputs": [
    {
     "name": "stdout",
     "output_type": "stream",
     "text": [
      "[(3, 'src', 4, 1, 1), (4, 'Untitled.ipynb', 8, 0, 1), (4, 'files2.db-journal', 15, 0, 1), (4, 'a', 94, 1, 1), (94, 'b', 95, 1, 1), (4, 'src', 99, 1, 1), (99, 'files2.db-wal', 100, 0, 1), (4, 'files2.db-wal', 101, 0, 1)]\n"
     ]
    }
   ],
   "source": [
    "with CON:\n",
    "    print(CUR.execute('SELECT * FROM cur_dirs WHERE modified = 1').fetchall())"
   ]
  },
  {
   "cell_type": "code",
   "execution_count": 42,
   "id": "d14e3f46-e2f3-4295-9a72-53ab96b21cbb",
   "metadata": {},
   "outputs": [
    {
     "name": "stdout",
     "output_type": "stream",
     "text": [
      "/home/feelus/pyfiles/src/\n",
      "/home/feelus/pyfiles/src/Untitled.ipynb\n",
      "/home/feelus/pyfiles/src/a/\n",
      "/home/feelus/pyfiles/src/a/b/\n",
      "/home/feelus/pyfiles/src/files2.db-journal\n",
      "/home/feelus/pyfiles/src/files2.db-wal\n",
      "/home/feelus/pyfiles/src/src/\n",
      "/home/feelus/pyfiles/src/src/files2.db-wal\n"
     ]
    }
   ],
   "source": [
    "list_modified()"
   ]
  },
  {
   "cell_type": "code",
   "execution_count": 43,
   "id": "392524f6-0fd9-40fd-9264-4e29f9db31e2",
   "metadata": {},
   "outputs": [
    {
     "name": "stdout",
     "output_type": "stream",
     "text": [
      "[(0, 'home', 1, 1, 2), (1, 'feelus', 2, 1, 2), (2, 'pyfiles', 3, 1, 2)]\n"
     ]
    }
   ],
   "source": [
    "with CON:\n",
    "    print(CUR.execute('SELECT * FROM cur_dirs WHERE modified = 2').fetchall())"
   ]
  },
  {
   "cell_type": "code",
   "execution_count": 44,
   "id": "68d28667-d256-4850-a1a2-aea15fcb07fb",
   "metadata": {
    "scrolled": true
   },
   "outputs": [
    {
     "name": "stdout",
     "output_type": "stream",
     "text": [
      " :\n",
      "R 1\td\thome\n",
      "/home :\n",
      "R 2\td\tfeelus\n",
      "/home/feelus :\n",
      "R 3\td\tpyfiles\n",
      "/home/feelus/pyfiles :\n",
      "M 4\tdrwxrwxr-x\t2025-01-20 17:30:48.554845\tsrc\t\n",
      "/home/feelus/pyfiles/src :\n",
      "- 7\tdrwxrwxr-x\t2025-01-19 06:42:27.275799\t.git\t<=git\n",
      "- 13\t-rw-rw-r--\t2025-01-14 15:40:53.793935\t.gitignore\t\n",
      "- 6\tdrwxrwxr-x\t2025-01-13 08:34:06.240780\t.ipynb_checkpoints\t\n",
      "M 8\t-rw-rw-r--\t2025-01-20 17:27:56.247324\tUntitled.ipynb\t\n",
      "M 94\tdrwxr-xr-x\t2025-01-20 16:06:39.900124\ta\t\n",
      "- 12\t-rw-rw-r--\t2025-01-16 12:56:40.531080\tbackup.sql\t\n",
      "- 9\t-rw-r--r--\t2025-01-14 14:42:09.380068\tfiles.db\t\n",
      "- 16\t-rw-r--r--\t2025-01-16 13:15:31.733491\tfiles1.db\t\n",
      "- 17\t-rw-r--r--\t2025-01-20 11:20:09.034473\tfiles2.db\t\n",
      "M 15\t-rw-r--r--\t2025-01-20 11:20:10.984473\tfiles2.db-journal\t\n",
      "M 101\t-rw-r--r--\t2025-01-20 17:29:44.936019\tfiles2.db-wal\t\n",
      "- 5\tlrwxrwxrwx\t2025-01-19 14:20:40.827281\tlink\t\n",
      "- 11\t-rw-rw-r--\t2025-01-14 04:24:33.066536\tnotify.py\t\n",
      "- 10\tprw-rw-r--\t2025-01-19 14:20:49.398276\tpipe\t\n",
      "- 14\t-rw-rw-r--\t2025-01-15 06:54:08.153996\tpyfiles.py\t\n",
      "M 99\tdrwxrwxr-x\t2025-01-20 16:23:30.484017\tsrc\t\n",
      "/home/feelus/pyfiles/src/.git :\n",
      "- 26\t-rw-rw-r--\t2025-01-19 06:42:27.273798\tCOMMIT_EDITMSG\t<=git\n",
      "- 30\t-rw-rw-r--\t2025-01-14 15:39:20.947928\tHEAD\t<=git\n",
      "- 25\tdrwxrwxr-x\t2025-01-14 15:39:20.944929\tbranches\t<=git\n",
      "- 29\t-rw-rw-r--\t2025-01-14 15:39:20.961929\tconfig\t<=git\n",
      "- 28\t-rw-rw-r--\t2025-01-14 15:39:20.597929\tdescription\t<=git\n",
      "- 24\tdrwxrwxr-x\t2025-01-14 15:39:20.944929\thooks\t<=git\n",
      "- 27\t-rw-rw-r--\t2025-01-19 06:42:27.272799\tindex\t<=git\n",
      "- 22\tdrwxrwxr-x\t2025-01-14 15:39:20.535928\tinfo\t<=git\n",
      "- 23\tdrwxrwxr-x\t2025-01-14 15:44:36.214953\tlogs\t<=git\n",
      "- 21\tdrwxrwxr-x\t2025-01-19 06:42:27.317798\tobjects\t<=git\n",
      "- 20\tdrwxrwxr-x\t2025-01-14 15:39:20.945929\trefs\t<=git\n",
      "/home/feelus/pyfiles/src/.git/branches :\n",
      "/home/feelus/pyfiles/src/.git/hooks :\n",
      "- 91\t-rwxrwxr-x\t2025-01-14 15:39:20.943928\tapplypatch-msg.sample\t<=git\n",
      "- 80\t-rwxrwxr-x\t2025-01-14 15:39:20.599929\tcommit-msg.sample\t<=git\n",
      "- 92\t-rwxrwxr-x\t2025-01-14 15:39:20.944929\tfsmonitor-watchman.sample\t<=git\n",
      "- 79\t-rwxrwxr-x\t2025-01-14 15:39:20.598928\tpost-update.sample\t<=git\n",
      "- 88\t-rwxrwxr-x\t2025-01-14 15:39:20.942929\tpre-applypatch.sample\t<=git\n",
      "- 89\t-rwxrwxr-x\t2025-01-14 15:39:20.943928\tpre-commit.sample\t<=git\n",
      "- 86\t-rwxrwxr-x\t2025-01-14 15:39:20.941929\tpre-merge-commit.sample\t<=git\n",
      "- 83\t-rwxrwxr-x\t2025-01-14 15:39:20.928929\tpre-push.sample\t<=git\n",
      "- 85\t-rwxrwxr-x\t2025-01-14 15:39:20.941929\tpre-rebase.sample\t<=git\n",
      "- 81\t-rwxrwxr-x\t2025-01-14 15:39:20.599929\tpre-receive.sample\t<=git\n",
      "- 90\t-rwxrwxr-x\t2025-01-14 15:39:20.943928\tprepare-commit-msg.sample\t<=git\n",
      "- 84\t-rwxrwxr-x\t2025-01-14 15:39:20.940928\tpush-to-checkout.sample\t<=git\n",
      "- 82\t-rwxrwxr-x\t2025-01-14 15:39:20.730928\tsendemail-validate.sample\t<=git\n",
      "- 87\t-rwxrwxr-x\t2025-01-14 15:39:20.942929\tupdate.sample\t<=git\n",
      "/home/feelus/pyfiles/src/.git/info :\n",
      "- 74\t-rw-rw-r--\t2025-01-14 15:39:20.546928\texclude\t<=git\n",
      "/home/feelus/pyfiles/src/.git/logs :\n",
      "- 76\t-rw-rw-r--\t2025-01-19 06:42:27.274799\tHEAD\t<=git\n",
      "- 75\tdrwxrwxr-x\t2025-01-14 15:44:36.214953\trefs\t<=git\n",
      "/home/feelus/pyfiles/src/.git/logs/refs :\n",
      "- 77\tdrwxrwxr-x\t2025-01-14 15:44:36.214953\theads\t<=git\n",
      "/home/feelus/pyfiles/src/.git/logs/refs/heads :\n",
      "- 78\t-rw-rw-r--\t2025-01-19 06:42:27.274799\tmaster\t<=git\n",
      "/home/feelus/pyfiles/src/.git/objects :\n",
      "- 51\tdrwxrwxr-x\t2025-01-16 14:58:57.933949\t04\t<=git\n",
      "- 35\tdrwxrwxr-x\t2025-01-16 14:58:57.935949\t10\t<=git\n",
      "- 36\tdrwxrwxr-x\t2025-01-15 19:00:34.574902\t23\t<=git\n",
      "- 39\tdrwxrwxr-x\t2025-01-15 19:00:34.575902\t26\t<=git\n",
      "- 52\tdrwxrwxr-x\t2025-01-14 15:44:07.042950\t3b\t<=git\n",
      "- 38\tdrwxrwxr-x\t2025-01-19 06:42:27.272799\t42\t<=git\n",
      "- 40\tdrwxrwxr-x\t2025-01-14 15:44:36.209953\t45\t<=git\n",
      "- 53\tdrwxrwxr-x\t2025-01-14 15:44:06.985950\t56\t<=git\n",
      "- 49\tdrwxrwxr-x\t2025-01-14 15:44:06.941950\t5c\t<=git\n",
      "- 45\tdrwxrwxr-x\t2025-01-14 15:44:36.212953\t91\t<=git\n",
      "- 41\tdrwxrwxr-x\t2025-01-15 19:00:34.574902\t93\t<=git\n",
      "- 47\tdrwxrwxr-x\t2025-01-14 15:44:06.937950\t98\t<=git\n",
      "- 44\tdrwxrwxr-x\t2025-01-17 08:21:20.993031\tad\t<=git\n",
      "- 48\tdrwxrwxr-x\t2025-01-17 08:21:20.995031\tb1\t<=git\n",
      "- 42\tdrwxrwxr-x\t2025-01-16 14:58:57.934949\tba\t<=git\n",
      "- 43\tdrwxrwxr-x\t2025-01-19 06:42:27.271799\tbb\t<=git\n",
      "- 54\tdrwxrwxr-x\t2025-01-17 08:21:20.992031\td8\t<=git\n",
      "- 46\tdrwxrwxr-x\t2025-01-19 06:42:27.274799\te6\t<=git\n",
      "- 37\tdrwxrwxr-x\t2025-01-15 19:00:34.577902\tfa\t<=git\n",
      "- 50\tdrwxrwxr-x\t2025-01-14 15:39:20.962929\tinfo\t<=git\n",
      "- 34\tdrwxrwxr-x\t2025-01-14 15:39:20.962929\tpack\t<=git\n",
      "/home/feelus/pyfiles/src/.git/objects/04 :\n",
      "- 70\t-r--r--r--\t2025-01-16 14:58:57.933949\t8cb8deb88f1aba0612e887c33dc28371cefcde\t<=git\n",
      "/home/feelus/pyfiles/src/.git/objects/10 :\n",
      "- 55\t-r--r--r--\t2025-01-16 14:58:57.935949\t1c776297d45e4abe90a7226544c01a3ef21474\t<=git\n",
      "/home/feelus/pyfiles/src/.git/objects/23 :\n",
      "- 56\t-r--r--r--\t2025-01-15 19:00:34.574902\tff026db3ffb96d5313f8e8b2ebc6a583687ab9\t<=git\n",
      "/home/feelus/pyfiles/src/.git/objects/26 :\n",
      "- 59\t-r--r--r--\t2025-01-15 19:00:34.575902\t40e313bcf6f16877bf367d91075aa6864c0ab2\t<=git\n",
      "/home/feelus/pyfiles/src/.git/objects/3b :\n",
      "- 71\t-r--r--r--\t2025-01-14 15:44:07.042950\t1eafb697668adf592c612e00ba3326b99c7b96\t<=git\n",
      "/home/feelus/pyfiles/src/.git/objects/42 :\n",
      "- 58\t-r--r--r--\t2025-01-19 06:42:27.272799\t3450db162c43f9b35b42aab2255876b8567d2a\t<=git\n",
      "/home/feelus/pyfiles/src/.git/objects/45 :\n",
      "- 60\t-r--r--r--\t2025-01-14 15:44:36.209953\ta60472ef26539269d683039e71e488e3587921\t<=git\n",
      "/home/feelus/pyfiles/src/.git/objects/56 :\n",
      "- 72\t-r--r--r--\t2025-01-14 15:44:06.985950\t7c911c411c39a4297dcf082c2cdeb65f653ce8\t<=git\n",
      "/home/feelus/pyfiles/src/.git/objects/5c :\n",
      "- 69\t-r--r--r--\t2025-01-14 15:44:06.941950\tc5e241e8363380a7ea3d5163212b0a7c124ed3\t<=git\n",
      "/home/feelus/pyfiles/src/.git/objects/91 :\n",
      "- 65\t-r--r--r--\t2025-01-14 15:44:36.212953\t5a77d801b565863926525bafc067ad4dc597d9\t<=git\n",
      "/home/feelus/pyfiles/src/.git/objects/93 :\n",
      "- 61\t-r--r--r--\t2025-01-15 19:00:34.574902\t7539b42734d1b86caaae24aca1ad5a9b278261\t<=git\n",
      "/home/feelus/pyfiles/src/.git/objects/98 :\n",
      "- 67\t-r--r--r--\t2025-01-14 15:44:06.937950\te6ef67fad8af56cb3721edbd420b3d6fcc0bb1\t<=git\n",
      "/home/feelus/pyfiles/src/.git/objects/ad :\n",
      "- 64\t-r--r--r--\t2025-01-17 08:21:20.993031\tc454b39427013e7b037058bb4f0c5e63f2016d\t<=git\n",
      "/home/feelus/pyfiles/src/.git/objects/b1 :\n",
      "- 68\t-r--r--r--\t2025-01-17 08:21:20.994031\te41ead66493a01646ca2165d0c6956d13333d0\t<=git\n",
      "/home/feelus/pyfiles/src/.git/objects/ba :\n",
      "- 62\t-r--r--r--\t2025-01-16 14:58:57.934949\t786f9b9400c4ce5a16c243c6834c81d2390fed\t<=git\n",
      "/home/feelus/pyfiles/src/.git/objects/bb :\n",
      "- 63\t-r--r--r--\t2025-01-19 06:42:27.271799\t93da1c6a49cc7b87339f3153c1565f520ae0d2\t<=git\n",
      "/home/feelus/pyfiles/src/.git/objects/d8 :\n",
      "- 73\t-r--r--r--\t2025-01-17 08:21:20.992031\ta25ee1ccc41f763ad41dc9247ee1308698f47b\t<=git\n",
      "/home/feelus/pyfiles/src/.git/objects/e6 :\n",
      "- 66\t-r--r--r--\t2025-01-19 06:42:27.274799\t6ec043cbde7d52ec0db7049adeafc3426648ee\t<=git\n",
      "/home/feelus/pyfiles/src/.git/objects/fa :\n",
      "- 57\t-r--r--r--\t2025-01-15 19:00:34.577902\t35185d2649d89c4ef276f0210f4dd5ba62b967\t<=git\n",
      "/home/feelus/pyfiles/src/.git/objects/info :\n",
      "/home/feelus/pyfiles/src/.git/objects/pack :\n",
      "/home/feelus/pyfiles/src/.git/refs :\n",
      "- 31\tdrwxrwxr-x\t2025-01-19 06:42:27.275799\theads\t<=git\n",
      "- 32\tdrwxrwxr-x\t2025-01-14 15:39:20.945929\ttags\t<=git\n",
      "/home/feelus/pyfiles/src/.git/refs/heads :\n",
      "- 33\t-rw-rw-r--\t2025-01-19 06:42:27.274799\tmaster\t<=git\n",
      "/home/feelus/pyfiles/src/.git/refs/tags :\n",
      "/home/feelus/pyfiles/src/.ipynb_checkpoints :\n",
      "- 18\t-rw-rw-r--\t2025-01-20 10:49:01.349173\tUntitled-checkpoint.ipynb\t\n",
      "- 19\t-rw-rw-r--\t2025-01-12 16:11:30.088646\tpyfiles-checkpoint.py\t\n",
      "/home/feelus/pyfiles/src/a :\n",
      "M 95\tdrwxr-xr-x\t2025-01-20 16:06:39.901124\tb\t\n",
      "/home/feelus/pyfiles/src/a/b :\n",
      "/home/feelus/pyfiles/src/src :\n",
      "M 100\t-rw-r--r--\t2025-01-20 16:19:40.293242\tfiles2.db-wal\t\n"
     ]
    }
   ],
   "source": [
    "ls_r(0)"
   ]
  },
  {
   "cell_type": "markdown",
   "id": "a04e3163-d88a-480e-b3b1-a511e162b905",
   "metadata": {},
   "source": [
    "## owners"
   ]
  },
  {
   "cell_type": "code",
   "execution_count": 143,
   "id": "5c872b24-ad7a-4022-8ef0-7472414f1d00",
   "metadata": {},
   "outputs": [],
   "source": []
  },
  {
   "cell_type": "code",
   "execution_count": 47,
   "id": "46fcc6c0-7447-4003-bab9-c49c9eefe103",
   "metadata": {},
   "outputs": [
    {
     "name": "stdout",
     "output_type": "stream",
     "text": [
      "[(1, 'name', 0, None, None, None, None, None), (2, 'git', 1, None, None, None, None, None)]\n"
     ]
    }
   ],
   "source": [
    "update_owner('name',False)\n",
    "update_owner('git',True)\n",
    "\n",
    "with CON:\n",
    "    print(CUR.execute('SELECT * FROM owners').fetchall())"
   ]
  },
  {
   "cell_type": "code",
   "execution_count": 48,
   "id": "60510f67-5167-4f98-a952-6dab4b1005bd",
   "metadata": {},
   "outputs": [],
   "source": [
    "set_owner('/home/feelus/pyfiles/src/.git','git')"
   ]
  },
  {
   "cell_type": "code",
   "execution_count": null,
   "id": "b70aae85-6b51-4357-bc64-633b151fb10a",
   "metadata": {},
   "outputs": [],
   "source": []
  },
  {
   "cell_type": "code",
   "execution_count": 49,
   "id": "2f695d2d-ffd1-4057-92f8-d9875425f27d",
   "metadata": {},
   "outputs": [
    {
     "name": "stdout",
     "output_type": "stream",
     "text": [
      "(13, 0, 33204, 1341872, 2052, 1, 1000, 1000, 5, 1737357214.1105747, 1736858453.7939346, 1736858453.7939346, 8, 4096, '428490a10499a80bc48ec83f3cdbcdaa', None)\n",
      "(4, '.gitignore', 13, 0, 0)\n"
     ]
    }
   ],
   "source": [
    "with CON:\n",
    "    print(CUR.execute('SELECT * FROM cur_stat WHERE id = 13').fetchone())\n",
    "    print(CUR.execute('SELECT * FROM cur_dirs WHERE id = 13').fetchone())"
   ]
  },
  {
   "cell_type": "code",
   "execution_count": 50,
   "id": "f3caa183-c01e-4c2e-8f1d-abb292f25dec",
   "metadata": {},
   "outputs": [
    {
     "data": {
      "text/plain": [
       "1"
      ]
     },
     "execution_count": 50,
     "metadata": {},
     "output_type": "execute_result"
    }
   ],
   "source": [
    "simple_type(16893)"
   ]
  },
  {
   "cell_type": "code",
   "execution_count": 51,
   "id": "9ab30d65-c638-4f13-94ba-aca7cee8512c",
   "metadata": {
    "scrolled": true
   },
   "outputs": [
    {
     "name": "stdout",
     "output_type": "stream",
     "text": [
      " :\n",
      "R 1\td\thome\n",
      "/home :\n",
      "R 2\td\tfeelus\n",
      "/home/feelus :\n",
      "R 3\td\tpyfiles\n",
      "/home/feelus/pyfiles :\n",
      "M 4\tdrwxrwxr-x\t2025-01-20 17:30:48.554845\tsrc\t\n",
      "/home/feelus/pyfiles/src :\n",
      "- 7\tdrwxrwxr-x\t2025-01-19 06:42:27.275799\t.git\t<=git\n",
      "- 13\t-rw-rw-r--\t2025-01-14 15:40:53.793935\t.gitignore\t\n",
      "- 6\tdrwxrwxr-x\t2025-01-13 08:34:06.240780\t.ipynb_checkpoints\t\n",
      "M 8\t-rw-rw-r--\t2025-01-20 17:27:56.247324\tUntitled.ipynb\t\n",
      "M 94\tdrwxr-xr-x\t2025-01-20 16:06:39.900124\ta\t\n",
      "- 12\t-rw-rw-r--\t2025-01-16 12:56:40.531080\tbackup.sql\t\n",
      "- 9\t-rw-r--r--\t2025-01-14 14:42:09.380068\tfiles.db\t\n",
      "- 16\t-rw-r--r--\t2025-01-16 13:15:31.733491\tfiles1.db\t\n",
      "- 17\t-rw-r--r--\t2025-01-20 11:20:09.034473\tfiles2.db\t\n",
      "M 15\t-rw-r--r--\t2025-01-20 11:20:10.984473\tfiles2.db-journal\t\n",
      "M 101\t-rw-r--r--\t2025-01-20 17:29:44.936019\tfiles2.db-wal\t\n",
      "- 5\tlrwxrwxrwx\t2025-01-19 14:20:40.827281\tlink\t\n",
      "- 11\t-rw-rw-r--\t2025-01-14 04:24:33.066536\tnotify.py\t\n",
      "- 10\tprw-rw-r--\t2025-01-19 14:20:49.398276\tpipe\t\n",
      "- 14\t-rw-rw-r--\t2025-01-15 06:54:08.153996\tpyfiles.py\t\n",
      "M 99\tdrwxrwxr-x\t2025-01-20 16:23:30.484017\tsrc\t\n",
      "/home/feelus/pyfiles/src/.git :\n",
      "- 26\t-rw-rw-r--\t2025-01-19 06:42:27.273798\tCOMMIT_EDITMSG\t<=git\n",
      "- 30\t-rw-rw-r--\t2025-01-14 15:39:20.947928\tHEAD\t<=git\n",
      "- 25\tdrwxrwxr-x\t2025-01-14 15:39:20.944929\tbranches\t<=git\n",
      "- 29\t-rw-rw-r--\t2025-01-14 15:39:20.961929\tconfig\t<=git\n",
      "- 28\t-rw-rw-r--\t2025-01-14 15:39:20.597929\tdescription\t<=git\n",
      "- 24\tdrwxrwxr-x\t2025-01-14 15:39:20.944929\thooks\t<=git\n",
      "- 27\t-rw-rw-r--\t2025-01-19 06:42:27.272799\tindex\t<=git\n",
      "- 22\tdrwxrwxr-x\t2025-01-14 15:39:20.535928\tinfo\t<=git\n",
      "- 23\tdrwxrwxr-x\t2025-01-14 15:44:36.214953\tlogs\t<=git\n",
      "- 21\tdrwxrwxr-x\t2025-01-19 06:42:27.317798\tobjects\t<=git\n",
      "- 20\tdrwxrwxr-x\t2025-01-14 15:39:20.945929\trefs\t<=git\n",
      "/home/feelus/pyfiles/src/.git/branches :\n",
      "/home/feelus/pyfiles/src/.git/hooks :\n",
      "- 91\t-rwxrwxr-x\t2025-01-14 15:39:20.943928\tapplypatch-msg.sample\t<=git\n",
      "- 80\t-rwxrwxr-x\t2025-01-14 15:39:20.599929\tcommit-msg.sample\t<=git\n",
      "- 92\t-rwxrwxr-x\t2025-01-14 15:39:20.944929\tfsmonitor-watchman.sample\t<=git\n",
      "- 79\t-rwxrwxr-x\t2025-01-14 15:39:20.598928\tpost-update.sample\t<=git\n",
      "- 88\t-rwxrwxr-x\t2025-01-14 15:39:20.942929\tpre-applypatch.sample\t<=git\n",
      "- 89\t-rwxrwxr-x\t2025-01-14 15:39:20.943928\tpre-commit.sample\t<=git\n",
      "- 86\t-rwxrwxr-x\t2025-01-14 15:39:20.941929\tpre-merge-commit.sample\t<=git\n",
      "- 83\t-rwxrwxr-x\t2025-01-14 15:39:20.928929\tpre-push.sample\t<=git\n",
      "- 85\t-rwxrwxr-x\t2025-01-14 15:39:20.941929\tpre-rebase.sample\t<=git\n",
      "- 81\t-rwxrwxr-x\t2025-01-14 15:39:20.599929\tpre-receive.sample\t<=git\n",
      "- 90\t-rwxrwxr-x\t2025-01-14 15:39:20.943928\tprepare-commit-msg.sample\t<=git\n",
      "- 84\t-rwxrwxr-x\t2025-01-14 15:39:20.940928\tpush-to-checkout.sample\t<=git\n",
      "- 82\t-rwxrwxr-x\t2025-01-14 15:39:20.730928\tsendemail-validate.sample\t<=git\n",
      "- 87\t-rwxrwxr-x\t2025-01-14 15:39:20.942929\tupdate.sample\t<=git\n",
      "/home/feelus/pyfiles/src/.git/info :\n",
      "- 74\t-rw-rw-r--\t2025-01-14 15:39:20.546928\texclude\t<=git\n",
      "/home/feelus/pyfiles/src/.git/logs :\n",
      "- 76\t-rw-rw-r--\t2025-01-19 06:42:27.274799\tHEAD\t<=git\n",
      "- 75\tdrwxrwxr-x\t2025-01-14 15:44:36.214953\trefs\t<=git\n",
      "/home/feelus/pyfiles/src/.git/logs/refs :\n",
      "- 77\tdrwxrwxr-x\t2025-01-14 15:44:36.214953\theads\t<=git\n",
      "/home/feelus/pyfiles/src/.git/logs/refs/heads :\n",
      "- 78\t-rw-rw-r--\t2025-01-19 06:42:27.274799\tmaster\t<=git\n",
      "/home/feelus/pyfiles/src/.git/objects :\n",
      "- 51\tdrwxrwxr-x\t2025-01-16 14:58:57.933949\t04\t<=git\n",
      "- 35\tdrwxrwxr-x\t2025-01-16 14:58:57.935949\t10\t<=git\n",
      "- 36\tdrwxrwxr-x\t2025-01-15 19:00:34.574902\t23\t<=git\n",
      "- 39\tdrwxrwxr-x\t2025-01-15 19:00:34.575902\t26\t<=git\n",
      "- 52\tdrwxrwxr-x\t2025-01-14 15:44:07.042950\t3b\t<=git\n",
      "- 38\tdrwxrwxr-x\t2025-01-19 06:42:27.272799\t42\t<=git\n",
      "- 40\tdrwxrwxr-x\t2025-01-14 15:44:36.209953\t45\t<=git\n",
      "- 53\tdrwxrwxr-x\t2025-01-14 15:44:06.985950\t56\t<=git\n",
      "- 49\tdrwxrwxr-x\t2025-01-14 15:44:06.941950\t5c\t<=git\n",
      "- 45\tdrwxrwxr-x\t2025-01-14 15:44:36.212953\t91\t<=git\n",
      "- 41\tdrwxrwxr-x\t2025-01-15 19:00:34.574902\t93\t<=git\n",
      "- 47\tdrwxrwxr-x\t2025-01-14 15:44:06.937950\t98\t<=git\n",
      "- 44\tdrwxrwxr-x\t2025-01-17 08:21:20.993031\tad\t<=git\n",
      "- 48\tdrwxrwxr-x\t2025-01-17 08:21:20.995031\tb1\t<=git\n",
      "- 42\tdrwxrwxr-x\t2025-01-16 14:58:57.934949\tba\t<=git\n",
      "- 43\tdrwxrwxr-x\t2025-01-19 06:42:27.271799\tbb\t<=git\n",
      "- 54\tdrwxrwxr-x\t2025-01-17 08:21:20.992031\td8\t<=git\n",
      "- 46\tdrwxrwxr-x\t2025-01-19 06:42:27.274799\te6\t<=git\n",
      "- 37\tdrwxrwxr-x\t2025-01-15 19:00:34.577902\tfa\t<=git\n",
      "- 50\tdrwxrwxr-x\t2025-01-14 15:39:20.962929\tinfo\t<=git\n",
      "- 34\tdrwxrwxr-x\t2025-01-14 15:39:20.962929\tpack\t<=git\n",
      "/home/feelus/pyfiles/src/.git/objects/04 :\n",
      "- 70\t-r--r--r--\t2025-01-16 14:58:57.933949\t8cb8deb88f1aba0612e887c33dc28371cefcde\t<=git\n",
      "/home/feelus/pyfiles/src/.git/objects/10 :\n",
      "- 55\t-r--r--r--\t2025-01-16 14:58:57.935949\t1c776297d45e4abe90a7226544c01a3ef21474\t<=git\n",
      "/home/feelus/pyfiles/src/.git/objects/23 :\n",
      "- 56\t-r--r--r--\t2025-01-15 19:00:34.574902\tff026db3ffb96d5313f8e8b2ebc6a583687ab9\t<=git\n",
      "/home/feelus/pyfiles/src/.git/objects/26 :\n",
      "- 59\t-r--r--r--\t2025-01-15 19:00:34.575902\t40e313bcf6f16877bf367d91075aa6864c0ab2\t<=git\n",
      "/home/feelus/pyfiles/src/.git/objects/3b :\n",
      "- 71\t-r--r--r--\t2025-01-14 15:44:07.042950\t1eafb697668adf592c612e00ba3326b99c7b96\t<=git\n",
      "/home/feelus/pyfiles/src/.git/objects/42 :\n",
      "- 58\t-r--r--r--\t2025-01-19 06:42:27.272799\t3450db162c43f9b35b42aab2255876b8567d2a\t<=git\n",
      "/home/feelus/pyfiles/src/.git/objects/45 :\n",
      "- 60\t-r--r--r--\t2025-01-14 15:44:36.209953\ta60472ef26539269d683039e71e488e3587921\t<=git\n",
      "/home/feelus/pyfiles/src/.git/objects/56 :\n",
      "- 72\t-r--r--r--\t2025-01-14 15:44:06.985950\t7c911c411c39a4297dcf082c2cdeb65f653ce8\t<=git\n",
      "/home/feelus/pyfiles/src/.git/objects/5c :\n",
      "- 69\t-r--r--r--\t2025-01-14 15:44:06.941950\tc5e241e8363380a7ea3d5163212b0a7c124ed3\t<=git\n",
      "/home/feelus/pyfiles/src/.git/objects/91 :\n",
      "- 65\t-r--r--r--\t2025-01-14 15:44:36.212953\t5a77d801b565863926525bafc067ad4dc597d9\t<=git\n",
      "/home/feelus/pyfiles/src/.git/objects/93 :\n",
      "- 61\t-r--r--r--\t2025-01-15 19:00:34.574902\t7539b42734d1b86caaae24aca1ad5a9b278261\t<=git\n",
      "/home/feelus/pyfiles/src/.git/objects/98 :\n",
      "- 67\t-r--r--r--\t2025-01-14 15:44:06.937950\te6ef67fad8af56cb3721edbd420b3d6fcc0bb1\t<=git\n",
      "/home/feelus/pyfiles/src/.git/objects/ad :\n",
      "- 64\t-r--r--r--\t2025-01-17 08:21:20.993031\tc454b39427013e7b037058bb4f0c5e63f2016d\t<=git\n",
      "/home/feelus/pyfiles/src/.git/objects/b1 :\n",
      "- 68\t-r--r--r--\t2025-01-17 08:21:20.994031\te41ead66493a01646ca2165d0c6956d13333d0\t<=git\n",
      "/home/feelus/pyfiles/src/.git/objects/ba :\n",
      "- 62\t-r--r--r--\t2025-01-16 14:58:57.934949\t786f9b9400c4ce5a16c243c6834c81d2390fed\t<=git\n",
      "/home/feelus/pyfiles/src/.git/objects/bb :\n",
      "- 63\t-r--r--r--\t2025-01-19 06:42:27.271799\t93da1c6a49cc7b87339f3153c1565f520ae0d2\t<=git\n",
      "/home/feelus/pyfiles/src/.git/objects/d8 :\n",
      "- 73\t-r--r--r--\t2025-01-17 08:21:20.992031\ta25ee1ccc41f763ad41dc9247ee1308698f47b\t<=git\n",
      "/home/feelus/pyfiles/src/.git/objects/e6 :\n",
      "- 66\t-r--r--r--\t2025-01-19 06:42:27.274799\t6ec043cbde7d52ec0db7049adeafc3426648ee\t<=git\n",
      "/home/feelus/pyfiles/src/.git/objects/fa :\n",
      "- 57\t-r--r--r--\t2025-01-15 19:00:34.577902\t35185d2649d89c4ef276f0210f4dd5ba62b967\t<=git\n",
      "/home/feelus/pyfiles/src/.git/objects/info :\n",
      "/home/feelus/pyfiles/src/.git/objects/pack :\n",
      "/home/feelus/pyfiles/src/.git/refs :\n",
      "- 31\tdrwxrwxr-x\t2025-01-19 06:42:27.275799\theads\t<=git\n",
      "- 32\tdrwxrwxr-x\t2025-01-14 15:39:20.945929\ttags\t<=git\n",
      "/home/feelus/pyfiles/src/.git/refs/heads :\n",
      "- 33\t-rw-rw-r--\t2025-01-19 06:42:27.274799\tmaster\t<=git\n",
      "/home/feelus/pyfiles/src/.git/refs/tags :\n",
      "/home/feelus/pyfiles/src/.ipynb_checkpoints :\n",
      "- 18\t-rw-rw-r--\t2025-01-20 10:49:01.349173\tUntitled-checkpoint.ipynb\t\n",
      "- 19\t-rw-rw-r--\t2025-01-12 16:11:30.088646\tpyfiles-checkpoint.py\t\n",
      "/home/feelus/pyfiles/src/a :\n",
      "M 95\tdrwxr-xr-x\t2025-01-20 16:06:39.901124\tb\t\n",
      "/home/feelus/pyfiles/src/a/b :\n",
      "/home/feelus/pyfiles/src/src :\n",
      "M 100\t-rw-r--r--\t2025-01-20 16:19:40.293242\tfiles2.db-wal\t\n"
     ]
    }
   ],
   "source": [
    "ls_r(0)"
   ]
  },
  {
   "cell_type": "code",
   "execution_count": 52,
   "id": "6a7fb8e4-4ba8-44d1-a3ec-7d58e903ac76",
   "metadata": {},
   "outputs": [
    {
     "name": "stdout",
     "output_type": "stream",
     "text": [
      "[1, 2, 3, 4, 7]\n",
      "- 26\t-rw-rw-r--\t2025-01-19 06:42:27.273798\tCOMMIT_EDITMSG\t<=git\n",
      "- 30\t-rw-rw-r--\t2025-01-14 15:39:20.947928\tHEAD\t<=git\n",
      "- 25\tdrwxrwxr-x\t2025-01-14 15:39:20.944929\tbranches\t<=git\n",
      "- 29\t-rw-rw-r--\t2025-01-14 15:39:20.961929\tconfig\t<=git\n",
      "- 28\t-rw-rw-r--\t2025-01-14 15:39:20.597929\tdescription\t<=git\n",
      "- 24\tdrwxrwxr-x\t2025-01-14 15:39:20.944929\thooks\t<=git\n",
      "- 27\t-rw-rw-r--\t2025-01-19 06:42:27.272799\tindex\t<=git\n",
      "- 22\tdrwxrwxr-x\t2025-01-14 15:39:20.535928\tinfo\t<=git\n",
      "- 23\tdrwxrwxr-x\t2025-01-14 15:44:36.214953\tlogs\t<=git\n",
      "- 21\tdrwxrwxr-x\t2025-01-19 06:42:27.317798\tobjects\t<=git\n",
      "- 20\tdrwxrwxr-x\t2025-01-14 15:39:20.945929\trefs\t<=git\n"
     ]
    }
   ],
   "source": [
    "ls('/home/feelus/pyfiles/src/.git')"
   ]
  },
  {
   "cell_type": "code",
   "execution_count": 53,
   "id": "4ae2d31a-d6eb-45ba-a1f1-54ebf5abf810",
   "metadata": {},
   "outputs": [
    {
     "name": "stdout",
     "output_type": "stream",
     "text": [
      "[1, 2, 3, 4, 7, 23]\n",
      "- 76\t-rw-rw-r--\t2025-01-19 06:42:27.274799\tHEAD\t<=git\n",
      "- 75\tdrwxrwxr-x\t2025-01-14 15:44:36.214953\trefs\t<=git\n"
     ]
    }
   ],
   "source": [
    "ls('/home/feelus/pyfiles/src/.git/logs')"
   ]
  },
  {
   "cell_type": "code",
   "execution_count": 54,
   "id": "aef996d1-5656-43b1-8b4b-dcb6c9d5c510",
   "metadata": {},
   "outputs": [
    {
     "name": "stdout",
     "output_type": "stream",
     "text": [
      "[1, 2, 3, 4, 7, 23, 75]\n",
      "- 77\tdrwxrwxr-x\t2025-01-14 15:44:36.214953\theads\t<=git\n"
     ]
    }
   ],
   "source": [
    "ls('/home/feelus/pyfiles/src/.git/logs/refs')"
   ]
  },
  {
   "cell_type": "markdown",
   "id": "617abb93-2aa5-4f7b-a368-b509d0c79025",
   "metadata": {},
   "source": [
    "## deleted"
   ]
  },
  {
   "cell_type": "code",
   "execution_count": 138,
   "id": "54963780-e5df-4d86-aaaa-d6f3d1552144",
   "metadata": {},
   "outputs": [],
   "source": [
    "\n"
   ]
  },
  {
   "cell_type": "code",
   "execution_count": 140,
   "id": "19c2c74b-3b83-442b-a310-6fda9a8b3ae7",
   "metadata": {},
   "outputs": [],
   "source": []
  },
  {
   "cell_type": "code",
   "execution_count": 141,
   "id": "fb8efee7-c21b-4efe-a3e5-4a52a8f7132e",
   "metadata": {},
   "outputs": [
    {
     "name": "stdout",
     "output_type": "stream",
     "text": [
      "('/home/feelus/pyfiles/src/.git/refs/heads/master', False)\n"
     ]
    }
   ],
   "source": [
    "with CON:\n",
    "    print(id2path_hist(33,CUR))"
   ]
  },
  {
   "cell_type": "code",
   "execution_count": 142,
   "id": "0a115655-93b9-48aa-be03-fd672e2dff3b",
   "metadata": {},
   "outputs": [],
   "source": []
  },
  {
   "cell_type": "markdown",
   "id": "1fc890b1-d030-4abe-8343-0d4bc76bfaa4",
   "metadata": {},
   "source": [
    "## hist"
   ]
  },
  {
   "cell_type": "code",
   "execution_count": 131,
   "id": "e64353ac-3739-4bcd-84a9-be600551703d",
   "metadata": {},
   "outputs": [],
   "source": [
    "\n",
    "     \n",
    "        "
   ]
  },
  {
   "cell_type": "code",
   "execution_count": null,
   "id": "1103fc7f-195a-431a-b349-bb5f395065fa",
   "metadata": {},
   "outputs": [],
   "source": []
  },
  {
   "cell_type": "code",
   "execution_count": 58,
   "id": "be3dae41-0812-4de4-b47b-688128a54654",
   "metadata": {},
   "outputs": [],
   "source": []
  },
  {
   "cell_type": "code",
   "execution_count": 59,
   "id": "1e8b8328-43f3-4eec-b60e-78df07a9169f",
   "metadata": {},
   "outputs": [
    {
     "name": "stdout",
     "output_type": "stream",
     "text": [
      "18 4 /home/feelus/pyfiles/src\n",
      "2 8 /home/feelus/pyfiles/src/Untitled.ipynb\n",
      "5 93 /home/feelus/pyfiles/src/test3\n",
      "1 94 /home/feelus/pyfiles/src/a\n",
      "1 95 /home/feelus/pyfiles/src/a/b\n",
      "3 96 /home/feelus/pyfiles/src/c/d/e\n",
      "2 97 /home/feelus/pyfiles/src/c\n",
      "2 98 /home/feelus/pyfiles/src/c/d\n",
      "1 99 /home/feelus/pyfiles/src/src\n",
      "1 100 /home/feelus/pyfiles/src/src/files2.db-wal\n",
      "8 101 /home/feelus/pyfiles/src/files2.db-wal\n",
      "2 102 /home/feelus/pyfiles/src/test2\n",
      "2 103 /home/feelus/pyfiles/src/test2\n",
      "2 104 /home/feelus/pyfiles/src/test2\n",
      "2 105 /home/feelus/pyfiles/src/.~Untitled.ipynb\n",
      "3 106 /home/feelus/pyfiles/src/test2\n",
      "2 107 /home/feelus/pyfiles/src/.~Untitled.ipynb\n"
     ]
    }
   ],
   "source": [
    "ls_hist()"
   ]
  },
  {
   "cell_type": "code",
   "execution_count": 60,
   "id": "00e4e269-b922-4d75-8157-16dfd7c5f199",
   "metadata": {},
   "outputs": [],
   "source": []
  },
  {
   "cell_type": "code",
   "execution_count": 61,
   "id": "a4cc9b45-ae71-458d-981b-fee5335e9425",
   "metadata": {},
   "outputs": [
    {
     "name": "stdout",
     "output_type": "stream",
     "text": [
      "[(-1, '-1', 93, 0, 1, -1, -1, -1, -1, -1, -1, -1, -1.0, -1.0, -1.0, -1, -1, '-1', -1, 1737362017.8649435, 0), (4, 'test2', 93, 0, 2, 33204, 1348653, 2052, 1, 1000, 1000, 0, 1737362015.415834, 1737362015.415834, 1737362015.415834, 0, 4096, None, None, 1737362108.1086524, 0), (4, 'test2', 93, 0, 2, 33204, 1348653, 2052, 1, 1000, 1000, 4, 1737362015.415834, 1737362102.1757042, 1737362102.1757042, 8, 4096, None, None, 1737362280.992503, 0), (4, 'test2', 93, 0, 3, 33204, 1348653, 2052, 1, 1000, 1000, 4, 1737362015.415834, 1737362280.399421, 1737362280.399421, 8, 4096, None, None, 1737362605.6334498, 0), (4, 'test3', 93, 0, 4, 33204, 1348653, 2052, 1, 1000, 1000, 4, 1737362015.415834, 1737362280.399421, 1737362280.399421, 8, 4096, None, None, 1737364158.2099063, 0), (-1, '-1', 94, 1, 1, -1, -1, -1, -1, -1, -1, -1, -1.0, -1.0, -1.0, -1, -1, '-1', -1, 1737378436.954634, 1), (-1, '-1', 95, 1, 1, -1, -1, -1, -1, -1, -1, -1, -1.0, -1.0, -1.0, -1, -1, '-1', -1, 1737378436.9551497, 1), (-1, '-1', 96, 0, 1, -1, -1, -1, -1, -1, -1, -1, -1.0, -1.0, -1.0, -1, -1, '-1', -1, 1737378436.9553094, 0), (-1, '-1', 97, 1, 1, -1, -1, -1, -1, -1, -1, -1, -1.0, -1.0, -1.0, -1, -1, '-1', -1, 1737378738.3088477, 1), (-1, '-1', 98, 1, 1, -1, -1, -1, -1, -1, -1, -1, -1.0, -1.0, -1.0, -1, -1, '-1', -1, 1737378738.3093898, 1), (95, 'test', 96, 0, 3, 33188, 1348922, 2052, 1, 0, 0, 0, 1737378399.9011245, 1737378399.9011245, 1737378399.9011245, 0, 4096, None, None, 1737378738.3094318, 0), (98, 'e', 96, 0, 4, 33188, 1348922, 2052, 1, 0, 0, 0, 1737378399.9011245, 1737378399.9011245, 1737378399.9011245, 0, 4096, None, None, 1737378909.4029357, 1), (97, 'd', 98, 1, 4, 16877, 1348932, 2052, 2, 0, 0, 4096, 1737378687.0034552, 1737378686.9064553, 1737378686.9064553, 8, 4096, None, None, 1737378909.403341, 1), (4, 'c', 97, 1, 4, 16877, 1348930, 2052, 3, 0, 0, 4096, 1737378687.0034552, 1737378686.9044552, 1737378686.9044552, 8, 4096, None, None, 1737378909.403391, 0), (-1, '-1', 99, 1, 1, -1, -1, -1, -1, -1, -1, -1, -1.0, -1.0, -1.0, -1, -1, '-1', -1, 1737379435.8007836, 1), (-1, '-1', 100, 0, 1, -1, -1, -1, -1, -1, -1, -1, -1.0, -1.0, -1.0, -1, -1, '-1', -1, 1737379435.8009503, 0), (-1, '-1', 101, 0, 1, -1, -1, -1, -1, -1, -1, -1, -1.0, -1.0, -1.0, -1, -1, '-1', -1, 1737381815.5576694, 0), (-1, '-1', 102, 0, 1, -1, -1, -1, -1, -1, -1, -1, -1.0, -1.0, -1.0, -1, -1, '-1', -1, 1737381831.9875386, 0), (3, 'src', 4, 1, 2, 16893, 1318666, 2052, 4, 1000, 1000, 4096, 1737361209.097473, 1737361209.084473, 1737361209.084473, 8, 4096, '000000000000000000000000f0f9fdb7', None, 1737381831.98917, 0), (3, 'src', 4, 1, 2, 16893, 1318666, 2052, 5, 1000, 1000, 4096, 1737381815.0779457, 1737381831.9829068, 1737381831.9829068, 8, 4096, '000000000000000000000000f0f9fdb7', None, 1737381831.9920177, 0), (4, 'test2', 102, 0, 4, 33204, 1349068, 2052, 1, 1000, 1000, 0, 1737381831.9839067, 1737381831.9839067, 1737381831.9839067, 0, 4096, None, None, 1737381841.5062976, 0), (3, 'src', 4, 1, 2, 16893, 1318666, 2052, 5, 1000, 1000, 4096, 1737381815.0779457, 1737381831.9829068, 1737381831.9829068, 8, 4096, '000000000000000000000000f0f9fdb7', None, 1737381841.5075622, 0), (4, 'files2.db-wal', 101, 0, 2, 33188, 1348922, 2052, 1, 0, 0, 45352, 1737381423.1378849, 1737379504.0939, 1737381815.5539446, 96, 4096, None, None, 1737382669.8928082, 0), (-1, '-1', 103, 0, 1, -1, -1, -1, -1, -1, -1, -1, -1.0, -1.0, -1.0, -1, -1, '-1', -1, 1737382681.0152926, 0), (3, 'src', 4, 1, 2, 16893, 1318666, 2052, 5, 1000, 1000, 4096, 1737381832.0859065, 1737381841.5028849, 1737381841.5028849, 8, 4096, '000000000000000000000000f0f9fdb7', None, 1737382681.0160491, 0), (3, 'src', 4, 1, 2, 16893, 1318666, 2052, 5, 1000, 1000, 4096, 1737382656.550089, 1737382681.0120363, 1737382681.0120363, 8, 4096, '000000000000000000000000f0f9fdb7', None, 1737382681.0177302, 0), (4, 'files2.db-wal', 101, 0, 2, 33188, 1348922, 2052, 1, 0, 0, 90672, 1737382192.3700979, 1737381913.0107217, 1737382669.8900602, 184, 4096, None, None, 1737382912.7023904, 0), (4, 'test2', 103, 0, 4, 33204, 1349086, 2052, 1, 1000, 1000, 0, 1737382681.0130365, 1737382681.0130365, 1737382681.0130365, 0, 4096, None, None, 1737382918.1817884, 0), (4, 'files2.db-wal', 101, 0, 2, 33188, 1348922, 2052, 1, 0, 0, 135992, 1737382669.8910604, 1737382689.935017, 1737382912.6994648, 272, 4096, None, None, 1737382945.1806295, 0), (-1, '-1', 104, 0, 1, -1, -1, -1, -1, -1, -1, -1, -1.0, -1.0, -1.0, -1, -1, '-1', -1, 1737382948.6592314, 0), (3, 'src', 4, 1, 2, 16893, 1318666, 2052, 5, 1000, 1000, 4096, 1737382656.550089, 1737382681.0120363, 1737382681.0120363, 8, 4096, '000000000000000000000000f0f9fdb7', None, 1737382948.6597204, 0), (3, 'src', 4, 1, 2, 16893, 1318666, 2052, 5, 1000, 1000, 4096, 1737382918.2844453, 1737382948.6573412, 1737382948.6573412, 8, 4096, '000000000000000000000000f0f9fdb7', None, 1737382948.6602967, 0), (4, 'files2.db-wal', 101, 0, 2, 33188, 1348922, 2052, 1, 0, 0, 173072, 1737382912.7004647, 1737382918.1814456, 1737382945.177353, 344, 4096, None, None, 1737383006.7340984, 0), (4, 'test2', 104, 0, 4, 33204, 1349086, 2052, 1, 1000, 1000, 0, 1737382948.6573412, 1737382948.6573412, 1737382948.6573412, 0, 4096, None, None, 1737383010.2213628, 0), (3, 'src', 4, 1, 2, 16893, 1318666, 2052, 5, 1000, 1000, 4096, 1737382918.2844453, 1737382948.6573412, 1737382948.6573412, 8, 4096, '000000000000000000000000f0f9fdb7', None, 1737383010.222055, 0), (-1, '-1', 105, 0, 1, -1, -1, -1, -1, -1, -1, -1, -1.0, -1.0, -1.0, -1, -1, '-1', -1, 1737383018.5505848, 0), (3, 'src', 4, 1, 2, 16893, 1318666, 2052, 5, 1000, 1000, 4096, 1737382948.7603407, 1737383010.219136, 1737383010.219136, 8, 4096, '000000000000000000000000f0f9fdb7', None, 1737383018.5516176, 0), (3, 'src', 4, 1, 2, 16893, 1318666, 2052, 5, 1000, 1000, 4096, 1737383010.3221357, 1737383018.5481088, 1737383018.5481088, 8, 4096, '000000000000000000000000f0f9fdb7', None, 1737383018.5539305, 0), (4, 'Untitled.ipynb', 8, 0, 2, 33204, 1333160, 2052, 1, 1000, 1000, 157305, 1737361145.4854434, 1737361145.2904432, 1737361145.2904432, 312, 4096, '5793e6e79b6a611f195eaf722d332bb6', None, 1737383018.5544856, 0), (3, 'src', 4, 1, 2, 16893, 1318666, 2052, 5, 1000, 1000, 4096, 1737383010.3221357, 1737383018.5481088, 1737383018.5481088, 8, 4096, '000000000000000000000000f0f9fdb7', None, 1737383018.6158047, 0), (4, '.~Untitled.ipynb', 105, 0, 4, 33204, 1349086, 2052, 1, 0, 0, 151764, 1737382898.2295153, 1737382897.121519, 1737383018.549109, 304, 4096, None, None, 1737383018.6158893, 0), (3, 'src', 4, 1, 2, 16893, 1318666, 2052, 5, 1000, 1000, 4096, 1737383010.3221357, 1737383018.6141086, 1737383018.6141086, 8, 4096, '000000000000000000000000f0f9fdb7', None, 1737383018.6160836, 0), (4, 'files2.db-wal', 101, 0, 2, 33188, 1348922, 2052, 1, 0, 0, 218392, 1737382945.179353, 1737382967.2162786, 1737383006.7311475, 432, 4096, None, None, 1737383161.398668, 0), (-1, '-1', 106, 0, 1, -1, -1, -1, -1, -1, -1, -1, -1.0, -1.0, -1.0, -1, -1, '-1', -1, 1737383168.43842, 0), (3, 'src', 4, 1, 2, 16893, 1318666, 2052, 5, 1000, 1000, 4096, 1737383010.3221357, 1737383018.6141086, 1737383018.6141086, 8, 4096, '000000000000000000000000f0f9fdb7', None, 1737383168.4396534, 0), (3, 'src', 4, 1, 2, 16893, 1318666, 2052, 5, 1000, 1000, 4096, 1737383156.1226778, 1737383168.4356406, 1737383168.4356406, 8, 4096, '000000000000000000000000f0f9fdb7', None, 1737383168.4413157, 0), (-1, '-1', 107, 0, 1, -1, -1, -1, -1, -1, -1, -1, -1.0, -1.0, -1.0, -1, -1, '-1', -1, 1737383276.2187052, 0), (3, 'src', 4, 1, 2, 16893, 1318666, 2052, 5, 1000, 1000, 4096, 1737383156.1226778, 1737383168.4356406, 1737383168.4356406, 8, 4096, '000000000000000000000000f0f9fdb7', None, 1737383276.2426317, 0), (3, 'src', 4, 1, 2, 16893, 1318666, 2052, 5, 1000, 1000, 4096, 1737383168.5396404, 1737383276.2163243, 1737383276.2163243, 8, 4096, '000000000000000000000000f0f9fdb7', None, 1737383276.2438362, 0), (4, 'Untitled.ipynb', 8, 0, 2, 33204, 1333160, 2052, 1, 1000, 1000, 152295, 1737382898.2295153, 1737383018.5861087, 1737383018.5861087, 304, 4096, '5793e6e79b6a611f195eaf722d332bb6', None, 1737383276.2444425, 0), (4, 'files2.db-wal', 101, 0, 2, 33188, 1348922, 2052, 1, 0, 0, 263712, 1737383006.7321475, 1737383043.568028, 1737383161.3956618, 520, 4096, None, None, 1737383276.2447395, 0), (3, 'src', 4, 1, 2, 16893, 1318666, 2052, 5, 1000, 1000, 4096, 1737383168.5396404, 1737383276.2163243, 1737383276.2163243, 8, 4096, '000000000000000000000000f0f9fdb7', None, 1737383276.2745001, 0), (4, '.~Untitled.ipynb', 107, 0, 4, 33204, 1349103, 2052, 1, 0, 0, 152937, 1737383156.0956779, 1737383156.051678, 1737383276.2163243, 304, 4096, None, None, 1737383276.2748914, 0), (3, 'src', 4, 1, 2, 16893, 1318666, 2052, 5, 1000, 1000, 4096, 1737383168.5396404, 1737383276.272324, 1737383276.272324, 8, 4096, '000000000000000000000000f0f9fdb7', None, 1737383276.2757688, 0), (4, 'files2.db-wal', 101, 0, 2, 33188, 1348922, 2052, 1, 0, 0, 309032, 1737383161.397662, 1737383276.2183244, 1737383276.2183244, 608, 4096, None, None, 1737383440.0281973, 0), (4, 'test2', 106, 0, 2, 33204, 1349101, 2052, 1, 1000, 1000, 0, 1737383168.4356406, 1737383168.4356406, 1737383168.4356406, 0, 4096, None, None, 1737383444.7171226, 0), (4, 'test2', 106, 0, 4, 33204, 1349101, 2052, 1, 1000, 1000, 0, 1737383444.7148557, 1737383444.7148557, 1737383444.7148557, 0, 4096, None, None, 1737383448.5564117, 0)]\n"
     ]
    }
   ],
   "source": [
    "print(CUR.execute('SELECT * FROM hist').fetchall())"
   ]
  },
  {
   "cell_type": "code",
   "execution_count": 62,
   "id": "bb2699a6-1f95-4a4f-9a0f-7a1a9846c7bc",
   "metadata": {},
   "outputs": [
    {
     "name": "stdout",
     "output_type": "stream",
     "text": [
      "1 2 /home/feelus\n",
      "18 4 /home/feelus/pyfiles/src\n",
      "1 5 /home/feelus/pyfiles/src/link\n",
      "2 8 /home/feelus/pyfiles/src/Untitled.ipynb\n",
      "5 93 /home/feelus/pyfiles/src/test3\n",
      "1 94 /home/feelus/pyfiles/src/a\n",
      "1 95 /home/feelus/pyfiles/src/a/b\n",
      "3 96 /home/feelus/pyfiles/src/c/d/e\n",
      "2 97 /home/feelus/pyfiles/src/c\n",
      "2 98 /home/feelus/pyfiles/src/c/d\n",
      "1 99 /home/feelus/pyfiles/src/src\n",
      "1 100 /home/feelus/pyfiles/src/src/files2.db-wal\n",
      "8 101 /home/feelus/pyfiles/src/files2.db-wal\n",
      "2 102 /home/feelus/pyfiles/src/test2\n",
      "2 103 /home/feelus/pyfiles/src/test2\n",
      "2 104 /home/feelus/pyfiles/src/test2\n",
      "2 105 /home/feelus/pyfiles/src/.~Untitled.ipynb\n",
      "3 106 /home/feelus/pyfiles/src/test2\n",
      "2 107 /home/feelus/pyfiles/src/.~Untitled.ipynb\n",
      "/home/feelus\n",
      "R 2\td\tfeelus\n",
      "C W 2025-01-21 10:43:34.812443\n",
      "/home/feelus/pyfiles/src/link\n",
      "- 5\tlrwxrwxrwx\t2025-01-19 14:20:40.827281\tlink\t\n",
      "D S 2025-01-21 10:43:34.813981\n",
      "---\n"
     ]
    }
   ],
   "source": [
    "with CON:\n",
    "    add_event(2, MDIR, ECREAT, False, CUR)\n",
    "    add_event(5, MLINK, EDEL, True, CUR)\n",
    "    ls_hist()\n",
    "    hist_byid(2)\n",
    "    hist_byid(5)\n",
    "    CUR.execute('DELETE FROM hist')\n",
    "    print('---')\n",
    "    ls_hist()\n",
    "    "
   ]
  },
  {
   "cell_type": "code",
   "execution_count": 11,
   "id": "df0f0f4c-ac48-4878-9309-9f75351b2f6d",
   "metadata": {},
   "outputs": [
    {
     "data": {
      "text/plain": [
       "os.stat_result(st_mode=16893, st_ino=1318666, st_dev=2052, st_nlink=6, st_uid=1000, st_gid=1000, st_size=4096, st_atime=1737628944, st_mtime=1737628943, st_ctime=1737628943)"
      ]
     },
     "execution_count": 11,
     "metadata": {},
     "output_type": "execute_result"
    }
   ],
   "source": [
    "import os\n",
    "os.stat('.')"
   ]
  },
  {
   "cell_type": "code",
   "execution_count": 125,
   "id": "b394da80-40b3-412d-a485-269e3d449f97",
   "metadata": {},
   "outputs": [],
   "source": [
    "\n"
   ]
  },
  {
   "cell_type": "markdown",
   "id": "ad1dfd19-091e-49fb-9ec2-585b1fbd1652",
   "metadata": {
    "jp-MarkdownHeadingCollapsed": true
   },
   "source": [
    "### простой файл"
   ]
  },
  {
   "cell_type": "code",
   "execution_count": 65,
   "id": "436adcb0-5367-45c1-9538-51cfa5c0858f",
   "metadata": {},
   "outputs": [
    {
     "data": {
      "text/plain": [
       "0"
      ]
     },
     "execution_count": 65,
     "metadata": {},
     "output_type": "execute_result"
    }
   ],
   "source": [
    "os.system('touch test2')"
   ]
  },
  {
   "cell_type": "code",
   "execution_count": 66,
   "id": "110b533a-6db1-4726-834d-0e516819eba7",
   "metadata": {},
   "outputs": [],
   "source": [
    "with CON:\n",
    "    created('/home/feelus/pyfiles/src/test2', os.stat('/home/feelus/pyfiles/src/test2'), False, False, CUR)"
   ]
  },
  {
   "cell_type": "code",
   "execution_count": 67,
   "id": "04baaa44-78bb-4360-8861-74e35288bb4f",
   "metadata": {},
   "outputs": [
    {
     "name": "stdout",
     "output_type": "stream",
     "text": [
      "[1, 2, 3, 4]\n",
      "- 7\tdrwxrwxr-x\t2025-01-19 06:42:27.275799\t.git\t<=git\n",
      "- 13\t-rw-rw-r--\t2025-01-14 15:40:53.793935\t.gitignore\t\n",
      "- 6\tdrwxrwxr-x\t2025-01-13 08:34:06.240780\t.ipynb_checkpoints\t\n",
      "M 8\t-rw-rw-r--\t2025-01-20 17:27:56.247324\tUntitled.ipynb\t\n",
      "M 94\tdrwxr-xr-x\t2025-01-20 16:06:39.900124\ta\t\n",
      "- 12\t-rw-rw-r--\t2025-01-16 12:56:40.531080\tbackup.sql\t\n",
      "- 9\t-rw-r--r--\t2025-01-14 14:42:09.380068\tfiles.db\t\n",
      "- 16\t-rw-r--r--\t2025-01-16 13:15:31.733491\tfiles1.db\t\n",
      "- 17\t-rw-r--r--\t2025-01-20 11:20:09.034473\tfiles2.db\t\n",
      "M 15\t-rw-r--r--\t2025-01-20 11:20:10.984473\tfiles2.db-journal\t\n",
      "M 101\t-rw-r--r--\t2025-01-20 17:29:44.936019\tfiles2.db-wal\t\n",
      "- 5\tlrwxrwxrwx\t2025-01-19 14:20:40.827281\tlink\t\n",
      "- 11\t-rw-rw-r--\t2025-01-14 04:24:33.066536\tnotify.py\t\n",
      "- 10\tprw-rw-r--\t2025-01-19 14:20:49.398276\tpipe\t\n",
      "- 14\t-rw-rw-r--\t2025-01-15 06:54:08.153996\tpyfiles.py\t\n",
      "M 99\tdrwxrwxr-x\t2025-01-20 16:23:30.484017\tsrc\t\n",
      "M 108\t-rw-r--r--\t2025-01-21 10:43:36.906808\ttest2\t\n"
     ]
    }
   ],
   "source": [
    "ls('/home/feelus/pyfiles/src')"
   ]
  },
  {
   "cell_type": "code",
   "execution_count": 68,
   "id": "113dd474-36c3-4630-b213-248f2140678b",
   "metadata": {},
   "outputs": [
    {
     "name": "stdout",
     "output_type": "stream",
     "text": [
      "1 108 /home/feelus/pyfiles/src/test2\n"
     ]
    }
   ],
   "source": [
    "ls_hist()"
   ]
  },
  {
   "cell_type": "code",
   "execution_count": 71,
   "id": "c8688ee2-bd12-4243-ba29-064924ea71e2",
   "metadata": {},
   "outputs": [
    {
     "name": "stdout",
     "output_type": "stream",
     "text": [
      "/home/feelus/pyfiles/src/test2\n",
      "M 108\t-rw-r--r--\t2025-01-21 10:43:36.906808\ttest2\t\n",
      "C W 2025-01-21 10:43:37.244680\n"
     ]
    }
   ],
   "source": [
    "hist_byid(108)"
   ]
  },
  {
   "cell_type": "code",
   "execution_count": null,
   "id": "1a5bdfee-f2de-4e8d-a35d-18d7f45ac442",
   "metadata": {},
   "outputs": [],
   "source": []
  },
  {
   "cell_type": "code",
   "execution_count": 72,
   "id": "65e6b753-8f7e-4116-9d0f-5c5a104c406e",
   "metadata": {},
   "outputs": [
    {
     "data": {
      "text/plain": [
       "0"
      ]
     },
     "execution_count": 72,
     "metadata": {},
     "output_type": "execute_result"
    }
   ],
   "source": [
    "os.system('echo 123 > test2')"
   ]
  },
  {
   "cell_type": "code",
   "execution_count": 73,
   "id": "be129918-4707-49a1-9ca9-91558b675c96",
   "metadata": {},
   "outputs": [],
   "source": [
    "with CON:\n",
    "    modified('/home/feelus/pyfiles/src/test2', os.stat('/home/feelus/pyfiles/src/test2'), False, False, CUR)"
   ]
  },
  {
   "cell_type": "code",
   "execution_count": 74,
   "id": "4fccb80b-8904-44d5-a9ed-e775d7f57e09",
   "metadata": {},
   "outputs": [
    {
     "name": "stdout",
     "output_type": "stream",
     "text": [
      "[1, 2, 3, 4]\n",
      "- 7\tdrwxrwxr-x\t8\tfeelus\tfeelus\t4096\t2025-01-19 06:42:27.275799\t.git\t000000000000000000000000b033787a\t<=git\n",
      "- 13\t-rw-rw-r--\t1\tfeelus\tfeelus\t5\t2025-01-14 15:40:53.793935\t.gitignore\t428490a10499a80bc48ec83f3cdbcdaa\t\n",
      "- 6\tdrwxrwxr-x\t2\tfeelus\tfeelus\t4096\t2025-01-13 08:34:06.240780\t.ipynb_checkpoints\t000000000000000000000000a5176ea8\t\n",
      "M 8\t-rw-rw-r--\t1\tfeelus\tfeelus\t152428\t2025-01-20 17:27:56.247324\tUntitled.ipynb\t5793e6e79b6a611f195eaf722d332bb6\t\n",
      "M 94\tdrwxr-xr-x\t3\troot\troot\t4096\t2025-01-20 16:06:39.900124\ta\tNone\t\n",
      "- 12\t-rw-rw-r--\t1\tfeelus\tfeelus\t162029520\t2025-01-16 12:56:40.531080\tbackup.sql\tccd1ee9c869088c865b1237b27147cc2\t\n",
      "- 9\t-rw-r--r--\t1\troot\troot\t220545024\t2025-01-14 14:42:09.380068\tfiles.db\t1691fc18f126cb116505fa62c87ba7ae\t\n",
      "- 16\t-rw-r--r--\t1\tfeelus\tfeelus\t147574784\t2025-01-16 13:15:31.733491\tfiles1.db\t2e37e83cb16f3ad10cd2dfd225a09aac\t\n",
      "- 17\t-rw-r--r--\t1\troot\troot\t32768\t2025-01-20 11:20:09.034473\tfiles2.db\t2285ecb25d98e7323a7a43f7b5c4dfba\t\n",
      "M 15\t-rw-r--r--\t1\troot\troot\t12824\t2025-01-20 11:20:10.984473\tfiles2.db-journal\t42f557fa53797f8a73958a3a26468e70\t\n",
      "M 101\t-rw-r--r--\t1\troot\troot\t362592\t2025-01-20 17:29:44.936019\tfiles2.db-wal\tNone\t\n",
      "- 5\tlrwxrwxrwx\t1\tfeelus\tfeelus\t4\t2025-01-19 14:20:40.827281\tlink\t->.git\t\n",
      "- 11\t-rw-rw-r--\t1\tfeelus\tfeelus\t1422\t2025-01-14 04:24:33.066536\tnotify.py\td10192406f1f74ddcd95ddb1360b704c\t\n",
      "- 10\tprw-rw-r--\t1\tfeelus\tfeelus\t0\t2025-01-19 14:20:49.398276\tpipe\t00000000000000000000000000000000\t\n",
      "- 14\t-rw-rw-r--\t1\tfeelus\tfeelus\t1893\t2025-01-15 06:54:08.153996\tpyfiles.py\t03078892139cf77b505ae7e129b71921\t\n",
      "M 99\tdrwxrwxr-x\t5\tfeelus\tfeelus\t4096\t2025-01-20 16:23:30.484017\tsrc\tNone\t\n",
      "M 108\t-rw-r--r--\t1\troot\troot\t4\t2025-01-21 10:44:00.116778\ttest2\tNone\t\n"
     ]
    }
   ],
   "source": [
    "ls(short=False)"
   ]
  },
  {
   "cell_type": "code",
   "execution_count": 75,
   "id": "3f20756d-394a-49be-8b30-758a273325bf",
   "metadata": {},
   "outputs": [
    {
     "name": "stdout",
     "output_type": "stream",
     "text": [
      "2 108 /home/feelus/pyfiles/src/test2\n"
     ]
    }
   ],
   "source": [
    "ls_hist()"
   ]
  },
  {
   "cell_type": "code",
   "execution_count": 76,
   "id": "4e0b3d78-718c-44ff-95e9-13f864c32b10",
   "metadata": {},
   "outputs": [
    {
     "name": "stdout",
     "output_type": "stream",
     "text": [
      "/home/feelus/pyfiles/src/test2\n",
      "M 108\t-rw-r--r--\t2025-01-21 10:44:00.116778\ttest2\t\n",
      "M W 2025-01-21 10:44:01.929998\n",
      "C W 2025-01-21 10:43:37.244680\n"
     ]
    }
   ],
   "source": [
    "hist_byid(108)"
   ]
  },
  {
   "cell_type": "code",
   "execution_count": null,
   "id": "b0aabf18-760c-4dc5-9ad9-d30c19941d3a",
   "metadata": {},
   "outputs": [],
   "source": []
  },
  {
   "cell_type": "code",
   "execution_count": 77,
   "id": "14c1becb-84d6-43b3-ad90-39a1c0fee1bc",
   "metadata": {},
   "outputs": [
    {
     "data": {
      "text/plain": [
       "0"
      ]
     },
     "execution_count": 77,
     "metadata": {},
     "output_type": "execute_result"
    }
   ],
   "source": [
    "os.system('mv test2 test3')"
   ]
  },
  {
   "cell_type": "code",
   "execution_count": 78,
   "id": "3fdc1750-60fb-4f34-b594-28104a7519be",
   "metadata": {},
   "outputs": [],
   "source": [
    "with CON:\n",
    "    moved('/home/feelus/pyfiles/src/test2','/home/feelus/pyfiles/src/test3', os.stat('/home/feelus/pyfiles/src/test3'), False, False, CUR)"
   ]
  },
  {
   "cell_type": "code",
   "execution_count": 79,
   "id": "2d95ac11-7db4-4bb1-a422-872cc22a35a7",
   "metadata": {},
   "outputs": [
    {
     "name": "stdout",
     "output_type": "stream",
     "text": [
      "[1, 2, 3, 4]\n",
      "- 7\tdrwxrwxr-x\t8\tfeelus\tfeelus\t4096\t2025-01-19 06:42:27.275799\t.git\t000000000000000000000000b033787a\t<=git\n",
      "- 13\t-rw-rw-r--\t1\tfeelus\tfeelus\t5\t2025-01-14 15:40:53.793935\t.gitignore\t428490a10499a80bc48ec83f3cdbcdaa\t\n",
      "- 6\tdrwxrwxr-x\t2\tfeelus\tfeelus\t4096\t2025-01-13 08:34:06.240780\t.ipynb_checkpoints\t000000000000000000000000a5176ea8\t\n",
      "M 8\t-rw-rw-r--\t1\tfeelus\tfeelus\t152428\t2025-01-20 17:27:56.247324\tUntitled.ipynb\t5793e6e79b6a611f195eaf722d332bb6\t\n",
      "M 94\tdrwxr-xr-x\t3\troot\troot\t4096\t2025-01-20 16:06:39.900124\ta\tNone\t\n",
      "- 12\t-rw-rw-r--\t1\tfeelus\tfeelus\t162029520\t2025-01-16 12:56:40.531080\tbackup.sql\tccd1ee9c869088c865b1237b27147cc2\t\n",
      "- 9\t-rw-r--r--\t1\troot\troot\t220545024\t2025-01-14 14:42:09.380068\tfiles.db\t1691fc18f126cb116505fa62c87ba7ae\t\n",
      "- 16\t-rw-r--r--\t1\tfeelus\tfeelus\t147574784\t2025-01-16 13:15:31.733491\tfiles1.db\t2e37e83cb16f3ad10cd2dfd225a09aac\t\n",
      "- 17\t-rw-r--r--\t1\troot\troot\t32768\t2025-01-20 11:20:09.034473\tfiles2.db\t2285ecb25d98e7323a7a43f7b5c4dfba\t\n",
      "M 15\t-rw-r--r--\t1\troot\troot\t12824\t2025-01-20 11:20:10.984473\tfiles2.db-journal\t42f557fa53797f8a73958a3a26468e70\t\n",
      "M 101\t-rw-r--r--\t1\troot\troot\t362592\t2025-01-20 17:29:44.936019\tfiles2.db-wal\tNone\t\n",
      "- 5\tlrwxrwxrwx\t1\tfeelus\tfeelus\t4\t2025-01-19 14:20:40.827281\tlink\t->.git\t\n",
      "- 11\t-rw-rw-r--\t1\tfeelus\tfeelus\t1422\t2025-01-14 04:24:33.066536\tnotify.py\td10192406f1f74ddcd95ddb1360b704c\t\n",
      "- 10\tprw-rw-r--\t1\tfeelus\tfeelus\t0\t2025-01-19 14:20:49.398276\tpipe\t00000000000000000000000000000000\t\n",
      "- 14\t-rw-rw-r--\t1\tfeelus\tfeelus\t1893\t2025-01-15 06:54:08.153996\tpyfiles.py\t03078892139cf77b505ae7e129b71921\t\n",
      "M 99\tdrwxrwxr-x\t5\tfeelus\tfeelus\t4096\t2025-01-20 16:23:30.484017\tsrc\tNone\t\n",
      "M 108\t-rw-r--r--\t1\troot\troot\t4\t2025-01-21 10:44:00.116778\ttest3\tNone\t\n"
     ]
    }
   ],
   "source": [
    "ls(short=False)"
   ]
  },
  {
   "cell_type": "code",
   "execution_count": 80,
   "id": "e3a38450-90a4-4ee8-9b2f-489d81c64343",
   "metadata": {},
   "outputs": [
    {
     "name": "stdout",
     "output_type": "stream",
     "text": [
      "3 108 /home/feelus/pyfiles/src/test3\n"
     ]
    }
   ],
   "source": [
    "ls_hist()"
   ]
  },
  {
   "cell_type": "code",
   "execution_count": 81,
   "id": "6d4b4950-b9e3-4ab5-a3a0-0cfb6fc3155c",
   "metadata": {},
   "outputs": [
    {
     "name": "stdout",
     "output_type": "stream",
     "text": [
      "/home/feelus/pyfiles/src/test3\n",
      "M 108\t-rw-r--r--\t2025-01-21 10:44:00.116778\ttest3\t\n",
      "V W 2025-01-21 10:44:15.190038 /home/feelus/pyfiles/src/test2\n",
      "M W 2025-01-21 10:44:01.929998\n",
      "C W 2025-01-21 10:43:37.244680\n"
     ]
    }
   ],
   "source": [
    "hist_byid(108)"
   ]
  },
  {
   "cell_type": "code",
   "execution_count": null,
   "id": "8f39f43b-2489-4f84-8395-ad929cb04483",
   "metadata": {},
   "outputs": [],
   "source": []
  },
  {
   "cell_type": "code",
   "execution_count": 82,
   "id": "5181483d-f867-4462-a6d6-1e85e4ae5e3c",
   "metadata": {},
   "outputs": [
    {
     "data": {
      "text/plain": [
       "0"
      ]
     },
     "execution_count": 82,
     "metadata": {},
     "output_type": "execute_result"
    }
   ],
   "source": [
    "os.system('rm test3')"
   ]
  },
  {
   "cell_type": "code",
   "execution_count": 83,
   "id": "49ca6ca2-0833-406c-ad9a-d138c66cc5c0",
   "metadata": {},
   "outputs": [],
   "source": [
    "with CON:\n",
    "    deleted('/home/feelus/pyfiles/src/test3', False, False, CUR)"
   ]
  },
  {
   "cell_type": "code",
   "execution_count": 84,
   "id": "c50d8ea7-53aa-46c3-af39-ecc14e988c87",
   "metadata": {},
   "outputs": [
    {
     "name": "stdout",
     "output_type": "stream",
     "text": [
      "[1, 2, 3, 4]\n",
      "- 7\tdrwxrwxr-x\t8\tfeelus\tfeelus\t4096\t2025-01-19 06:42:27.275799\t.git\t000000000000000000000000b033787a\t<=git\n",
      "- 13\t-rw-rw-r--\t1\tfeelus\tfeelus\t5\t2025-01-14 15:40:53.793935\t.gitignore\t428490a10499a80bc48ec83f3cdbcdaa\t\n",
      "- 6\tdrwxrwxr-x\t2\tfeelus\tfeelus\t4096\t2025-01-13 08:34:06.240780\t.ipynb_checkpoints\t000000000000000000000000a5176ea8\t\n",
      "M 8\t-rw-rw-r--\t1\tfeelus\tfeelus\t152428\t2025-01-20 17:27:56.247324\tUntitled.ipynb\t5793e6e79b6a611f195eaf722d332bb6\t\n",
      "M 94\tdrwxr-xr-x\t3\troot\troot\t4096\t2025-01-20 16:06:39.900124\ta\tNone\t\n",
      "- 12\t-rw-rw-r--\t1\tfeelus\tfeelus\t162029520\t2025-01-16 12:56:40.531080\tbackup.sql\tccd1ee9c869088c865b1237b27147cc2\t\n",
      "- 9\t-rw-r--r--\t1\troot\troot\t220545024\t2025-01-14 14:42:09.380068\tfiles.db\t1691fc18f126cb116505fa62c87ba7ae\t\n",
      "- 16\t-rw-r--r--\t1\tfeelus\tfeelus\t147574784\t2025-01-16 13:15:31.733491\tfiles1.db\t2e37e83cb16f3ad10cd2dfd225a09aac\t\n",
      "- 17\t-rw-r--r--\t1\troot\troot\t32768\t2025-01-20 11:20:09.034473\tfiles2.db\t2285ecb25d98e7323a7a43f7b5c4dfba\t\n",
      "M 15\t-rw-r--r--\t1\troot\troot\t12824\t2025-01-20 11:20:10.984473\tfiles2.db-journal\t42f557fa53797f8a73958a3a26468e70\t\n",
      "M 101\t-rw-r--r--\t1\troot\troot\t362592\t2025-01-20 17:29:44.936019\tfiles2.db-wal\tNone\t\n",
      "- 5\tlrwxrwxrwx\t1\tfeelus\tfeelus\t4\t2025-01-19 14:20:40.827281\tlink\t->.git\t\n",
      "- 11\t-rw-rw-r--\t1\tfeelus\tfeelus\t1422\t2025-01-14 04:24:33.066536\tnotify.py\td10192406f1f74ddcd95ddb1360b704c\t\n",
      "- 10\tprw-rw-r--\t1\tfeelus\tfeelus\t0\t2025-01-19 14:20:49.398276\tpipe\t00000000000000000000000000000000\t\n",
      "- 14\t-rw-rw-r--\t1\tfeelus\tfeelus\t1893\t2025-01-15 06:54:08.153996\tpyfiles.py\t03078892139cf77b505ae7e129b71921\t\n",
      "M 99\tdrwxrwxr-x\t5\tfeelus\tfeelus\t4096\t2025-01-20 16:23:30.484017\tsrc\tNone\t\n"
     ]
    }
   ],
   "source": [
    "ls(short=False)"
   ]
  },
  {
   "cell_type": "code",
   "execution_count": 85,
   "id": "c5816b5d-abb4-4d70-a052-d5cee343aad5",
   "metadata": {},
   "outputs": [
    {
     "name": "stdout",
     "output_type": "stream",
     "text": [
      "4 108 /home/feelus/pyfiles/src/test3\n"
     ]
    }
   ],
   "source": [
    "ls_hist()"
   ]
  },
  {
   "cell_type": "code",
   "execution_count": 86,
   "id": "044107ba-7648-487b-afdb-aea3a736a81c",
   "metadata": {},
   "outputs": [
    {
     "name": "stdout",
     "output_type": "stream",
     "text": [
      "/home/feelus/pyfiles/src/test3\n",
      "D W 2025-01-21 10:44:29.848975\n",
      "V W 2025-01-21 10:44:15.190038 /home/feelus/pyfiles/src/test2\n",
      "M W 2025-01-21 10:44:01.929998\n",
      "C W 2025-01-21 10:43:37.244680\n"
     ]
    }
   ],
   "source": [
    "hist_byid(108)"
   ]
  },
  {
   "cell_type": "code",
   "execution_count": 87,
   "id": "9f8c856b-10d2-411b-a399-f13efa12dcbd",
   "metadata": {},
   "outputs": [
    {
     "name": "stdout",
     "output_type": "stream",
     "text": [
      "/home/feelus/pyfiles/src/\n",
      "/home/feelus/pyfiles/src/Untitled.ipynb\n",
      "/home/feelus/pyfiles/src/a/\n",
      "/home/feelus/pyfiles/src/a/b/\n",
      "/home/feelus/pyfiles/src/files2.db-journal\n",
      "/home/feelus/pyfiles/src/files2.db-wal\n",
      "/home/feelus/pyfiles/src/src/\n",
      "/home/feelus/pyfiles/src/src/files2.db-wal\n"
     ]
    }
   ],
   "source": [
    "list_modified()"
   ]
  },
  {
   "cell_type": "markdown",
   "id": "e840d9fb-6003-4bfb-8d74-c6ff062b30d6",
   "metadata": {
    "jp-MarkdownHeadingCollapsed": true
   },
   "source": [
    "### вложенные папки"
   ]
  },
  {
   "cell_type": "code",
   "execution_count": 88,
   "id": "bf9d62fd-99d9-41e2-bb13-41bc49e20441",
   "metadata": {},
   "outputs": [
    {
     "name": "stderr",
     "output_type": "stream",
     "text": [
      "mkdir: невозможно создать каталог «a»: Файл существует\n",
      "mkdir: невозможно создать каталог «a/b»: Файл существует\n"
     ]
    },
    {
     "data": {
      "text/plain": [
       "0"
      ]
     },
     "execution_count": 88,
     "metadata": {},
     "output_type": "execute_result"
    }
   ],
   "source": [
    "os.system('mkdir a')\n",
    "os.system('mkdir a/b')\n",
    "os.system('touch a/b/test')"
   ]
  },
  {
   "cell_type": "code",
   "execution_count": 89,
   "id": "5e7911d4-1f6f-45b1-9853-a741bc1db9c5",
   "metadata": {},
   "outputs": [],
   "source": [
    "with CON:\n",
    "    created('/home/feelus/pyfiles/src/a/b/test', os.stat('/home/feelus/pyfiles/src/a/b/test'), False, False, CUR)"
   ]
  },
  {
   "cell_type": "code",
   "execution_count": 90,
   "id": "e4195391-3e4d-442b-b0cc-05f1e97a5ab4",
   "metadata": {},
   "outputs": [
    {
     "name": "stdout",
     "output_type": "stream",
     "text": [
      "[1, 2, 3, 4]\n",
      "- 7\tdrwxrwxr-x\t2025-01-19 06:42:27.275799\t.git\t<=git\n",
      "- 13\t-rw-rw-r--\t2025-01-14 15:40:53.793935\t.gitignore\t\n",
      "- 6\tdrwxrwxr-x\t2025-01-13 08:34:06.240780\t.ipynb_checkpoints\t\n",
      "M 8\t-rw-rw-r--\t2025-01-20 17:27:56.247324\tUntitled.ipynb\t\n",
      "M 94\tdrwxr-xr-x\t2025-01-20 16:06:39.900124\ta\t\n",
      "- 12\t-rw-rw-r--\t2025-01-16 12:56:40.531080\tbackup.sql\t\n",
      "- 9\t-rw-r--r--\t2025-01-14 14:42:09.380068\tfiles.db\t\n",
      "- 16\t-rw-r--r--\t2025-01-16 13:15:31.733491\tfiles1.db\t\n",
      "- 17\t-rw-r--r--\t2025-01-20 11:20:09.034473\tfiles2.db\t\n",
      "M 15\t-rw-r--r--\t2025-01-20 11:20:10.984473\tfiles2.db-journal\t\n",
      "M 101\t-rw-r--r--\t2025-01-20 17:29:44.936019\tfiles2.db-wal\t\n",
      "- 5\tlrwxrwxrwx\t2025-01-19 14:20:40.827281\tlink\t\n",
      "- 11\t-rw-rw-r--\t2025-01-14 04:24:33.066536\tnotify.py\t\n",
      "- 10\tprw-rw-r--\t2025-01-19 14:20:49.398276\tpipe\t\n",
      "- 14\t-rw-rw-r--\t2025-01-15 06:54:08.153996\tpyfiles.py\t\n",
      "M 99\tdrwxrwxr-x\t2025-01-20 16:23:30.484017\tsrc\t\n"
     ]
    }
   ],
   "source": [
    "ls()"
   ]
  },
  {
   "cell_type": "code",
   "execution_count": 91,
   "id": "9d5b3458-c667-44fc-9219-47fc633516b6",
   "metadata": {},
   "outputs": [
    {
     "name": "stdout",
     "output_type": "stream",
     "text": [
      "[1, 2, 3, 4, 94]\n",
      "M 95\tdrwxr-xr-x\t2025-01-20 16:06:39.901124\tb\t\n",
      "/home/feelus/pyfiles/src/a/b :\n",
      "M 109\t-rw-r--r--\t2025-01-21 10:44:38.838727\ttest\t\n"
     ]
    }
   ],
   "source": [
    "ls_r('a')"
   ]
  },
  {
   "cell_type": "code",
   "execution_count": 92,
   "id": "f2ab2d6a-931e-407c-9549-cd5fe9083306",
   "metadata": {},
   "outputs": [
    {
     "name": "stdout",
     "output_type": "stream",
     "text": [
      "4 108 /home/feelus/pyfiles/src/test3\n",
      "1 109 /home/feelus/pyfiles/src/a/b/test\n"
     ]
    }
   ],
   "source": [
    "ls_hist()"
   ]
  },
  {
   "cell_type": "code",
   "execution_count": 93,
   "id": "d3e84328-c727-41fb-8ba9-01f80cc2e8f9",
   "metadata": {},
   "outputs": [
    {
     "name": "stdout",
     "output_type": "stream",
     "text": [
      "/home/feelus/pyfiles/src/a/b/test\n",
      "M 109\t-rw-r--r--\t2025-01-21 10:44:38.838727\ttest\t\n",
      "C W 2025-01-21 10:44:53.800452\n"
     ]
    }
   ],
   "source": [
    "#hist_byid(94)\n",
    "#hist_byid(95)\n",
    "hist_byid(109)\n"
   ]
  },
  {
   "cell_type": "code",
   "execution_count": null,
   "id": "8187bdb7-f196-440d-affa-b14134bbebad",
   "metadata": {},
   "outputs": [],
   "source": []
  },
  {
   "cell_type": "code",
   "execution_count": 94,
   "id": "87063555-5ae7-4c70-80ee-2772c4cb192b",
   "metadata": {},
   "outputs": [
    {
     "data": {
      "text/plain": [
       "0"
      ]
     },
     "execution_count": 94,
     "metadata": {},
     "output_type": "execute_result"
    }
   ],
   "source": [
    "os.system('mkdir c')\n",
    "os.system('mkdir c/d')\n",
    "os.system('mv a/b/test c/d/e')"
   ]
  },
  {
   "cell_type": "code",
   "execution_count": 95,
   "id": "b1847fa7-55e0-47d4-a21c-9ad0aec6176b",
   "metadata": {},
   "outputs": [],
   "source": [
    "with CON:\n",
    "    moved('/home/feelus/pyfiles/src/a/b/test','/home/feelus/pyfiles/src/c/d/e', os.stat('/home/feelus/pyfiles/src/c/d/e'), False, False, CUR)"
   ]
  },
  {
   "cell_type": "code",
   "execution_count": 96,
   "id": "1c1ee9a8-c248-4403-9874-12bbc6e3f062",
   "metadata": {},
   "outputs": [
    {
     "name": "stdout",
     "output_type": "stream",
     "text": [
      "[1, 2, 3, 4]\n",
      "- 7\tdrwxrwxr-x\t2025-01-19 06:42:27.275799\t.git\t<=git\n",
      "- 13\t-rw-rw-r--\t2025-01-14 15:40:53.793935\t.gitignore\t\n",
      "- 6\tdrwxrwxr-x\t2025-01-13 08:34:06.240780\t.ipynb_checkpoints\t\n",
      "M 8\t-rw-rw-r--\t2025-01-20 17:27:56.247324\tUntitled.ipynb\t\n",
      "M 94\tdrwxr-xr-x\t2025-01-20 16:06:39.900124\ta\t\n",
      "- 12\t-rw-rw-r--\t2025-01-16 12:56:40.531080\tbackup.sql\t\n",
      "M 110\tdrwxr-xr-x\t2025-01-21 10:45:22.408671\tc\t\n",
      "- 9\t-rw-r--r--\t2025-01-14 14:42:09.380068\tfiles.db\t\n",
      "- 16\t-rw-r--r--\t2025-01-16 13:15:31.733491\tfiles1.db\t\n",
      "- 17\t-rw-r--r--\t2025-01-20 11:20:09.034473\tfiles2.db\t\n",
      "M 15\t-rw-r--r--\t2025-01-20 11:20:10.984473\tfiles2.db-journal\t\n",
      "M 101\t-rw-r--r--\t2025-01-20 17:29:44.936019\tfiles2.db-wal\t\n",
      "- 5\tlrwxrwxrwx\t2025-01-19 14:20:40.827281\tlink\t\n",
      "- 11\t-rw-rw-r--\t2025-01-14 04:24:33.066536\tnotify.py\t\n",
      "- 10\tprw-rw-r--\t2025-01-19 14:20:49.398276\tpipe\t\n",
      "- 14\t-rw-rw-r--\t2025-01-15 06:54:08.153996\tpyfiles.py\t\n",
      "M 99\tdrwxrwxr-x\t2025-01-20 16:23:30.484017\tsrc\t\n"
     ]
    }
   ],
   "source": [
    "ls()"
   ]
  },
  {
   "cell_type": "code",
   "execution_count": 97,
   "id": "f655c78e-fd39-4dda-a90e-285e1dc1b11b",
   "metadata": {},
   "outputs": [
    {
     "name": "stdout",
     "output_type": "stream",
     "text": [
      "[1, 2, 3, 4, 110]\n",
      "M 111\tdrwxr-xr-x\t2025-01-21 10:45:22.412671\td\t\n",
      "/home/feelus/pyfiles/src/c/d :\n",
      "M 109\t-rw-r--r--\t2025-01-21 10:44:38.838727\te\t\n"
     ]
    }
   ],
   "source": [
    "ls_r('c')"
   ]
  },
  {
   "cell_type": "code",
   "execution_count": 98,
   "id": "090a254f-7155-46ab-adb1-de018518224c",
   "metadata": {},
   "outputs": [
    {
     "name": "stdout",
     "output_type": "stream",
     "text": [
      "4 108 /home/feelus/pyfiles/src/test3\n",
      "2 109 /home/feelus/pyfiles/src/c/d/e\n",
      "1 110 /home/feelus/pyfiles/src/c\n",
      "1 111 /home/feelus/pyfiles/src/c/d\n"
     ]
    }
   ],
   "source": [
    "ls_hist()"
   ]
  },
  {
   "cell_type": "code",
   "execution_count": 99,
   "id": "f9b20f09-e485-4bac-9765-37aa4389e802",
   "metadata": {},
   "outputs": [
    {
     "name": "stdout",
     "output_type": "stream",
     "text": [
      "/home/feelus/pyfiles/src/c/d/e\n",
      "M 109\t-rw-r--r--\t2025-01-21 10:44:38.838727\te\t\n",
      "V W 2025-01-21 10:45:23.720583 /home/feelus/pyfiles/src/a/b/test\n",
      "C W 2025-01-21 10:44:53.800452\n"
     ]
    }
   ],
   "source": [
    "hist_byid(109)"
   ]
  },
  {
   "cell_type": "code",
   "execution_count": null,
   "id": "c4b609a2-fcd0-4b8b-b926-89a09c220c22",
   "metadata": {},
   "outputs": [],
   "source": []
  },
  {
   "cell_type": "code",
   "execution_count": 100,
   "id": "90c03076-2949-4702-80f7-a79f43efd92e",
   "metadata": {},
   "outputs": [
    {
     "data": {
      "text/plain": [
       "0"
      ]
     },
     "execution_count": 100,
     "metadata": {},
     "output_type": "execute_result"
    }
   ],
   "source": [
    "os.system('rm -rf c')"
   ]
  },
  {
   "cell_type": "code",
   "execution_count": 101,
   "id": "161108a6-cc47-4be0-bb8c-d8698ab012a9",
   "metadata": {},
   "outputs": [],
   "source": [
    "with CON:\n",
    "    deleted('/home/feelus/pyfiles/src/c', False, False, CUR)"
   ]
  },
  {
   "cell_type": "code",
   "execution_count": 102,
   "id": "2576d5f7-6cff-487b-ad97-6a04d94cca66",
   "metadata": {},
   "outputs": [
    {
     "name": "stdout",
     "output_type": "stream",
     "text": [
      "[1, 2, 3, 4]\n",
      "- 7\tdrwxrwxr-x\t2025-01-19 06:42:27.275799\t.git\t<=git\n",
      "- 13\t-rw-rw-r--\t2025-01-14 15:40:53.793935\t.gitignore\t\n",
      "- 6\tdrwxrwxr-x\t2025-01-13 08:34:06.240780\t.ipynb_checkpoints\t\n",
      "M 8\t-rw-rw-r--\t2025-01-20 17:27:56.247324\tUntitled.ipynb\t\n",
      "M 94\tdrwxr-xr-x\t2025-01-20 16:06:39.900124\ta\t\n",
      "- 12\t-rw-rw-r--\t2025-01-16 12:56:40.531080\tbackup.sql\t\n",
      "- 9\t-rw-r--r--\t2025-01-14 14:42:09.380068\tfiles.db\t\n",
      "- 16\t-rw-r--r--\t2025-01-16 13:15:31.733491\tfiles1.db\t\n",
      "- 17\t-rw-r--r--\t2025-01-20 11:20:09.034473\tfiles2.db\t\n",
      "M 15\t-rw-r--r--\t2025-01-20 11:20:10.984473\tfiles2.db-journal\t\n",
      "M 101\t-rw-r--r--\t2025-01-20 17:29:44.936019\tfiles2.db-wal\t\n",
      "- 5\tlrwxrwxrwx\t2025-01-19 14:20:40.827281\tlink\t\n",
      "- 11\t-rw-rw-r--\t2025-01-14 04:24:33.066536\tnotify.py\t\n",
      "- 10\tprw-rw-r--\t2025-01-19 14:20:49.398276\tpipe\t\n",
      "- 14\t-rw-rw-r--\t2025-01-15 06:54:08.153996\tpyfiles.py\t\n",
      "M 99\tdrwxrwxr-x\t2025-01-20 16:23:30.484017\tsrc\t\n"
     ]
    }
   ],
   "source": [
    "ls()"
   ]
  },
  {
   "cell_type": "code",
   "execution_count": 103,
   "id": "fa2b74e7-0f82-4a4b-822b-ef8249bfca8e",
   "metadata": {},
   "outputs": [
    {
     "name": "stdout",
     "output_type": "stream",
     "text": [
      "4 108 /home/feelus/pyfiles/src/test3\n",
      "3 109 /home/feelus/pyfiles/src/c/d/e\n",
      "2 110 /home/feelus/pyfiles/src/c\n",
      "2 111 /home/feelus/pyfiles/src/c/d\n"
     ]
    }
   ],
   "source": [
    "ls_hist()"
   ]
  },
  {
   "cell_type": "code",
   "execution_count": null,
   "id": "95020836-0f5e-4e04-af2b-41a1800bbec0",
   "metadata": {},
   "outputs": [],
   "source": []
  },
  {
   "cell_type": "markdown",
   "id": "b5604f17-3127-4652-ac78-8b4385ef40fe",
   "metadata": {},
   "source": [
    "### онлайн"
   ]
  },
  {
   "cell_type": "code",
   "execution_count": null,
   "id": "8a3de2b1-c6e2-45c0-a80e-2f80e3fc2eff",
   "metadata": {},
   "outputs": [],
   "source": [
    "def set_owner_hist(path, oname, save):\n",
    "    fid = set_owner(path,oname,save)\n",
    "    "
   ]
  },
  {
   "cell_type": "code",
   "execution_count": 132,
   "id": "d5a12ae0-420c-4925-ac97-0c3e46c10d85",
   "metadata": {},
   "outputs": [
    {
     "name": "stdout",
     "output_type": "stream",
     "text": [
      "Observer запущен.  Thread-32\n",
      "Все запущены... MainThread 2025-01-21 11:34:59.158473\n",
      "2025-01-21 11:34:59.161895 M False 101 - /home/feelus/pyfiles/src/files2.db-wal\n",
      "do created as modified /home/feelus/pyfiles/src/.~Untitled.ipynb 2025-01-21 11:35:04.658956\n",
      "2025-01-21 11:35:04.660096 M False 116 - /home/feelus/pyfiles/src/.~Untitled.ipynb\n",
      "2025-01-21 11:35:04.662123 M False 8 - /home/feelus/pyfiles/src/Untitled.ipynb\n",
      "2025-01-21 11:35:04.716453 D False 116 - /home/feelus/pyfiles/src/.~Untitled.ipynb\n",
      "2025-01-21 11:35:04.768903 M False 18 - /home/feelus/pyfiles/src/.ipynb_checkpoints/Untitled-checkpoint.ipynb\n",
      "2025-01-21 11:36:44.595975 C False 117 - /home/feelus/pyfiles/src/.~Untitled.ipynb\n",
      "COMMIT 2025-01-21 11:34:59.160784\n",
      "2025-01-21 11:36:44.627218 M False 8 - /home/feelus/pyfiles/src/Untitled.ipynb\n",
      "2025-01-21 11:36:44.627524 M False 101 - /home/feelus/pyfiles/src/files2.db-wal\n",
      "2025-01-21 11:36:44.660230 D False 117 - /home/feelus/pyfiles/src/.~Untitled.ipynb\n",
      "2025-01-21 11:36:44.707455 M False 18 - /home/feelus/pyfiles/src/.ipynb_checkpoints/Untitled-checkpoint.ipynb\n",
      "2025-01-21 11:36:45.035326 C False 118 - /home/feelus/pyfiles/src/.~Untitled.ipynb\n",
      "2025-01-21 11:36:45.099443 D False 118 - /home/feelus/pyfiles/src/.~Untitled.ipynb\n"
     ]
    },
    {
     "name": "stdin",
     "output_type": "stream",
     "text": [
      " q\n"
     ]
    },
    {
     "name": "stdout",
     "output_type": "stream",
     "text": [
      "Observer остановлен.  Thread-32\n"
     ]
    }
   ],
   "source": []
  },
  {
   "cell_type": "code",
   "execution_count": 135,
   "id": "e4caad1e-697e-4611-b8b6-fdff4ef0f379",
   "metadata": {},
   "outputs": [],
   "source": [
    "with CON:\n",
    "    CUR.execute('INSERT INTO cur_dirs (parent_id, name, type, modified) VALUES (0, \"qwer\", 0, 0)')"
   ]
  },
  {
   "cell_type": "code",
   "execution_count": 136,
   "id": "e8caac39-277e-43af-a2a9-cf38b9b231f7",
   "metadata": {
    "scrolled": true
   },
   "outputs": [
    {
     "name": "stdout",
     "output_type": "stream",
     "text": [
      "[(0, 'home', 1, 1, 2), (1, 'feelus', 2, 1, 2), (2, 'pyfiles', 3, 1, 2), (3, 'src', 4, 1, 1), (4, 'link', 5, 2, 0), (4, '.ipynb_checkpoints', 6, 1, 1), (4, '.git', 7, 1, 0), (4, 'Untitled.ipynb', 8, 0, 1), (4, 'files.db', 9, 0, 0), (4, 'pipe', 10, 3, 0), (4, 'notify.py', 11, 0, 0), (4, 'backup.sql', 12, 0, 0), (4, '.gitignore', 13, 0, 0), (4, 'pyfiles.py', 14, 0, 0), (4, 'files2.db-journal', 15, 0, 1), (4, 'files1.db', 16, 0, 0), (4, 'files2.db', 17, 0, 0), (6, 'Untitled-checkpoint.ipynb', 18, 0, 1), (6, 'pyfiles-checkpoint.py', 19, 0, 0), (7, 'refs', 20, 1, 0), (7, 'objects', 21, 1, 0), (7, 'info', 22, 1, 0), (7, 'logs', 23, 1, 0), (7, 'hooks', 24, 1, 0), (7, 'branches', 25, 1, 0), (7, 'COMMIT_EDITMSG', 26, 0, 0), (7, 'index', 27, 0, 0), (7, 'description', 28, 0, 0), (7, 'config', 29, 0, 0), (7, 'HEAD', 30, 0, 0), (20, 'heads', 31, 1, 0), (20, 'tags', 32, 1, 0), (31, 'master', 33, 0, 0), (21, 'pack', 34, 1, 0), (21, '10', 35, 1, 0), (21, '23', 36, 1, 0), (21, 'fa', 37, 1, 0), (21, '42', 38, 1, 0), (21, '26', 39, 1, 0), (21, '45', 40, 1, 0), (21, '93', 41, 1, 0), (21, 'ba', 42, 1, 0), (21, 'bb', 43, 1, 0), (21, 'ad', 44, 1, 0), (21, '91', 45, 1, 0), (21, 'e6', 46, 1, 0), (21, '98', 47, 1, 0), (21, 'b1', 48, 1, 0), (21, '5c', 49, 1, 0), (21, 'info', 50, 1, 0), (21, '04', 51, 1, 0), (21, '3b', 52, 1, 0), (21, '56', 53, 1, 0), (21, 'd8', 54, 1, 0), (35, '1c776297d45e4abe90a7226544c01a3ef21474', 55, 0, 0), (36, 'ff026db3ffb96d5313f8e8b2ebc6a583687ab9', 56, 0, 0), (37, '35185d2649d89c4ef276f0210f4dd5ba62b967', 57, 0, 0), (38, '3450db162c43f9b35b42aab2255876b8567d2a', 58, 0, 0), (39, '40e313bcf6f16877bf367d91075aa6864c0ab2', 59, 0, 0), (40, 'a60472ef26539269d683039e71e488e3587921', 60, 0, 0), (41, '7539b42734d1b86caaae24aca1ad5a9b278261', 61, 0, 0), (42, '786f9b9400c4ce5a16c243c6834c81d2390fed', 62, 0, 0), (43, '93da1c6a49cc7b87339f3153c1565f520ae0d2', 63, 0, 0), (44, 'c454b39427013e7b037058bb4f0c5e63f2016d', 64, 0, 0), (45, '5a77d801b565863926525bafc067ad4dc597d9', 65, 0, 0), (46, '6ec043cbde7d52ec0db7049adeafc3426648ee', 66, 0, 0), (47, 'e6ef67fad8af56cb3721edbd420b3d6fcc0bb1', 67, 0, 0), (48, 'e41ead66493a01646ca2165d0c6956d13333d0', 68, 0, 0), (49, 'c5e241e8363380a7ea3d5163212b0a7c124ed3', 69, 0, 0), (51, '8cb8deb88f1aba0612e887c33dc28371cefcde', 70, 0, 0), (52, '1eafb697668adf592c612e00ba3326b99c7b96', 71, 0, 0), (53, '7c911c411c39a4297dcf082c2cdeb65f653ce8', 72, 0, 0), (54, 'a25ee1ccc41f763ad41dc9247ee1308698f47b', 73, 0, 0), (22, 'exclude', 74, 0, 0), (23, 'refs', 75, 1, 0), (23, 'HEAD', 76, 0, 0), (75, 'heads', 77, 1, 0), (77, 'master', 78, 0, 0), (24, 'post-update.sample', 79, 0, 0), (24, 'commit-msg.sample', 80, 0, 0), (24, 'pre-receive.sample', 81, 0, 0), (24, 'sendemail-validate.sample', 82, 0, 0), (24, 'pre-push.sample', 83, 0, 0), (24, 'push-to-checkout.sample', 84, 0, 0), (24, 'pre-rebase.sample', 85, 0, 0), (24, 'pre-merge-commit.sample', 86, 0, 0), (24, 'update.sample', 87, 0, 0), (24, 'pre-applypatch.sample', 88, 0, 0), (24, 'pre-commit.sample', 89, 0, 0), (24, 'prepare-commit-msg.sample', 90, 0, 0), (24, 'applypatch-msg.sample', 91, 0, 0), (24, 'fsmonitor-watchman.sample', 92, 0, 0), (4, 'a', 94, 1, 1), (94, 'b', 95, 1, 1), (4, 'src', 99, 1, 1), (99, 'files2.db-wal', 100, 0, 1), (4, 'files2.db-wal', 101, 0, 1), (0, 'asdf', 200, 0, 0), (0, 'qwer', 201, 0, 0)]\n"
     ]
    }
   ],
   "source": [
    "with CON:\n",
    "    print(CUR.execute('SELECT * FROM cur_dirs').fetchall())"
   ]
  },
  {
   "cell_type": "code",
   "execution_count": null,
   "id": "fcadc03b-f64b-4aa2-b2ae-005b02b13c3b",
   "metadata": {},
   "outputs": [],
   "source": []
  },
  {
   "cell_type": "code",
   "execution_count": 175,
   "id": "e7652468-e4f0-4143-aae5-afdc59f12d92",
   "metadata": {},
   "outputs": [
    {
     "name": "stdout",
     "output_type": "stream",
     "text": [
      "- 7\tdrwxrwxr-x\t2025-01-19 06:42:27.275799\t.git\t<=git\n",
      "- 13\t-rw-rw-r--\t2025-01-14 15:40:53.793935\t.gitignore\t\n",
      "- 6\tdrwxrwxr-x\t2025-01-13 08:34:06.240780\t.ipynb_checkpoints\t\n",
      "M 8\t-rw-rw-r--\t2025-01-20 17:27:56.247324\tUntitled.ipynb\t\n",
      "M 94\tdrwxr-xr-x\t2025-01-20 16:06:39.900124\ta\t\n",
      "- 12\t-rw-rw-r--\t2025-01-16 12:56:40.531080\tbackup.sql\t\n",
      "- 9\t-rw-r--r--\t2025-01-14 14:42:09.380068\tfiles.db\t\n",
      "- 16\t-rw-r--r--\t2025-01-16 13:15:31.733491\tfiles1.db\t\n",
      "- 17\t-rw-r--r--\t2025-01-20 11:20:09.034473\tfiles2.db\t\n",
      "M 15\t-rw-r--r--\t2025-01-20 11:20:10.984473\tfiles2.db-journal\t\n",
      "M 101\t-rw-r--r--\t2025-01-20 17:29:44.936019\tfiles2.db-wal\t\n",
      "- 5\tlrwxrwxrwx\t2025-01-19 14:20:40.827281\tlink\t\n",
      "- 11\t-rw-rw-r--\t2025-01-14 04:24:33.066536\tnotify.py\t\n",
      "- 10\tprw-rw-r--\t2025-01-19 14:20:49.398276\tpipe\t\n",
      "- 14\t-rw-rw-r--\t2025-01-15 06:54:08.153996\tpyfiles.py\t\n",
      "M 99\tdrwxrwxr-x\t2025-01-20 16:23:30.484017\tsrc\t\n"
     ]
    }
   ],
   "source": [
    "ls(4)"
   ]
  },
  {
   "cell_type": "code",
   "execution_count": 145,
   "id": "2eb3b10e-2970-4b45-9ad8-c682618f6211",
   "metadata": {},
   "outputs": [
    {
     "name": "stdout",
     "output_type": "stream",
     "text": [
      "[1, 2, 3, 4]\n",
      "- 7\tdrwxrwxr-x\t2025-01-19 06:42:27.275799\t.git\t<=git\n",
      "- 13\t-rw-rw-r--\t2025-01-14 15:40:53.793935\t.gitignore\t\n",
      "- 6\tdrwxrwxr-x\t2025-01-13 08:34:06.240780\t.ipynb_checkpoints\t\n",
      "- 8\t-rw-rw-r--\t2025-01-20 11:19:05.290443\tUntitled.ipynb\t\n",
      "M 94\tdrwxr-xr-x\t2025-01-20 16:06:39.900124\ta\t\n",
      "- 12\t-rw-rw-r--\t2025-01-16 12:56:40.531080\tbackup.sql\t\n",
      "- 9\t-rw-r--r--\t2025-01-14 14:42:09.380068\tfiles.db\t\n",
      "- 16\t-rw-r--r--\t2025-01-16 13:15:31.733491\tfiles1.db\t\n",
      "- 17\t-rw-r--r--\t2025-01-20 11:20:09.034473\tfiles2.db\t\n",
      "M 15\t-rw-r--r--\t2025-01-20 11:20:10.984473\tfiles2.db-journal\t\n",
      "- 5\tlrwxrwxrwx\t2025-01-19 14:20:40.827281\tlink\t\n",
      "- 11\t-rw-rw-r--\t2025-01-14 04:24:33.066536\tnotify.py\t\n",
      "- 10\tprw-rw-r--\t2025-01-19 14:20:49.398276\tpipe\t\n",
      "- 14\t-rw-rw-r--\t2025-01-15 06:54:08.153996\tpyfiles.py\t\n",
      "M 99\tdrwxrwxr-x\t2025-01-20 16:23:30.484017\tsrc\t\n"
     ]
    }
   ],
   "source": [
    "ls()"
   ]
  },
  {
   "cell_type": "code",
   "execution_count": 176,
   "id": "7a9a6e0f-7899-44d7-8400-b60accd97bd4",
   "metadata": {},
   "outputs": [
    {
     "name": "stdout",
     "output_type": "stream",
     "text": [
      "18 4 /home/feelus/pyfiles/src\n",
      "2 8 /home/feelus/pyfiles/src/Untitled.ipynb\n",
      "5 93 /home/feelus/pyfiles/src/test3\n",
      "1 94 /home/feelus/pyfiles/src/a\n",
      "1 95 /home/feelus/pyfiles/src/a/b\n",
      "3 96 /home/feelus/pyfiles/src/c/d/e\n",
      "2 97 /home/feelus/pyfiles/src/c\n",
      "2 98 /home/feelus/pyfiles/src/c/d\n",
      "1 99 /home/feelus/pyfiles/src/src\n",
      "1 100 /home/feelus/pyfiles/src/src/files2.db-wal\n",
      "8 101 /home/feelus/pyfiles/src/files2.db-wal\n",
      "2 102 /home/feelus/pyfiles/src/test2\n",
      "2 103 /home/feelus/pyfiles/src/test2\n",
      "2 104 /home/feelus/pyfiles/src/test2\n",
      "2 105 /home/feelus/pyfiles/src/.~Untitled.ipynb\n",
      "3 106 /home/feelus/pyfiles/src/test2\n",
      "2 107 /home/feelus/pyfiles/src/.~Untitled.ipynb\n"
     ]
    }
   ],
   "source": [
    "ls_hist()"
   ]
  },
  {
   "cell_type": "code",
   "execution_count": 159,
   "id": "3c1f6d02-9ad4-459f-8847-233a26862069",
   "metadata": {},
   "outputs": [
    {
     "name": "stdout",
     "output_type": "stream",
     "text": [
      "/home/feelus/pyfiles/src\n",
      "M 4\tdrwxrwxr-x\t2025-01-20 17:04:01.502885\tsrc\t\n",
      "M W 2025-01-20 17:04:01.507562\n",
      "M W 2025-01-20 17:03:51.992018\n",
      "M W 2025-01-20 17:03:51.989170\n"
     ]
    }
   ],
   "source": [
    "hist_byid(4)"
   ]
  },
  {
   "cell_type": "code",
   "execution_count": null,
   "id": "434ed909-77d0-4918-ab95-dade723fe0c6",
   "metadata": {},
   "outputs": [],
   "source": []
  },
  {
   "cell_type": "code",
   "execution_count": null,
   "id": "10c87d72-6430-42d9-bc5e-ce6f7af6268c",
   "metadata": {},
   "outputs": [],
   "source": []
  },
  {
   "cell_type": "code",
   "execution_count": null,
   "id": "e690ab62-3999-45b5-a191-737a02f189eb",
   "metadata": {},
   "outputs": [],
   "source": []
  },
  {
   "cell_type": "code",
   "execution_count": 163,
   "id": "1df7c585-d119-44e4-ba01-d628b9d9d03b",
   "metadata": {},
   "outputs": [
    {
     "data": {
      "text/plain": [
       "(1, 2, 3)"
      ]
     },
     "execution_count": 163,
     "metadata": {},
     "output_type": "execute_result"
    }
   ],
   "source": [
    "(1,2,3,)"
   ]
  },
  {
   "cell_type": "code",
   "execution_count": null,
   "id": "a416ebc5-ca5e-4da8-8dd7-2ce43ba50d7b",
   "metadata": {},
   "outputs": [],
   "source": []
  },
  {
   "cell_type": "code",
   "execution_count": null,
   "id": "46231896-e094-4033-a374-1f89a8064e62",
   "metadata": {},
   "outputs": [],
   "source": []
  },
  {
   "cell_type": "code",
   "execution_count": 22,
   "id": "1daf79f1-6441-4eea-b743-1a968591a706",
   "metadata": {},
   "outputs": [
    {
     "data": {
      "text/plain": [
       "os.stat_result(st_mode=16893, st_ino=1318666, st_dev=2052, st_nlink=4, st_uid=1000, st_gid=1000, st_size=4096, st_atime=1737211130, st_mtime=1737211130, st_ctime=1737211130)"
      ]
     },
     "execution_count": 22,
     "metadata": {},
     "output_type": "execute_result"
    }
   ],
   "source": [
    "os.stat('.')"
   ]
  },
  {
   "cell_type": "code",
   "execution_count": 23,
   "id": "6670533c-daa2-43d7-8980-a11596d4aba4",
   "metadata": {},
   "outputs": [
    {
     "data": {
      "text/plain": [
       "os.stat_result(st_mode=41471, st_ino=12, st_dev=2052, st_nlink=1, st_uid=0, st_gid=0, st_size=7, st_atime=1737177301, st_mtime=1713791283, st_ctime=1729561328)"
      ]
     },
     "execution_count": 23,
     "metadata": {},
     "output_type": "execute_result"
    }
   ],
   "source": [
    "os.stat('/bin',follow_symlinks=False)"
   ]
  },
  {
   "cell_type": "code",
   "execution_count": 26,
   "id": "fce34747-5935-4927-8078-7a1de75428b8",
   "metadata": {},
   "outputs": [
    {
     "data": {
      "text/plain": [
       "'usr/bin'"
      ]
     },
     "execution_count": 26,
     "metadata": {},
     "output_type": "execute_result"
    }
   ],
   "source": [
    "os.readlink('/bin')"
   ]
  },
  {
   "cell_type": "code",
   "execution_count": 27,
   "id": "06ba1841-8c69-46e1-98cc-9e6e491988d3",
   "metadata": {},
   "outputs": [
    {
     "data": {
      "text/plain": [
       "'1691fc18f126cb116505fa62c87ba7ae'"
      ]
     },
     "execution_count": 27,
     "metadata": {},
     "output_type": "execute_result"
    }
   ],
   "source": [
    "hashstr = hashlib.md5(open('files.db','rb').read()).hexdigest()\n",
    "hashstr"
   ]
  },
  {
   "cell_type": "code",
   "execution_count": 28,
   "id": "f8bfc6c3-9fd2-4cab-98a1-fc1e70f78206",
   "metadata": {},
   "outputs": [
    {
     "data": {
      "text/plain": [
       "'00000000000000000000000000000000'"
      ]
     },
     "execution_count": 28,
     "metadata": {},
     "output_type": "execute_result"
    }
   ],
   "source": [
    "hex( int(hashstr, 16) ^ int(hashstr, 16) )[2:].zfill(32)"
   ]
  },
  {
   "cell_type": "code",
   "execution_count": 29,
   "id": "6c829244-9ac9-434c-afb9-284c03f47bca",
   "metadata": {},
   "outputs": [
    {
     "data": {
      "text/plain": [
       "2"
      ]
     },
     "execution_count": 29,
     "metadata": {},
     "output_type": "execute_result"
    }
   ],
   "source": [
    "len(os.listdir('/home'))"
   ]
  },
  {
   "cell_type": "code",
   "execution_count": 30,
   "id": "613bf919-b53a-4b68-b024-00c309fb1c47",
   "metadata": {},
   "outputs": [
    {
     "data": {
      "text/plain": [
       "'0b1010000000000000'"
      ]
     },
     "execution_count": 30,
     "metadata": {},
     "output_type": "execute_result"
    }
   ],
   "source": [
    "bin(STAT.S_IFLNK) # 1010_0000_0000_0000"
   ]
  },
  {
   "cell_type": "code",
   "execution_count": 31,
   "id": "763c6bd4-ac73-42aa-b3f4-68d6895b395d",
   "metadata": {},
   "outputs": [
    {
     "data": {
      "text/plain": [
       "'0b100000000000000'"
      ]
     },
     "execution_count": 31,
     "metadata": {},
     "output_type": "execute_result"
    }
   ],
   "source": [
    "bin(STAT.S_IFDIR) # 0100_0000_0000_0000"
   ]
  },
  {
   "cell_type": "code",
   "execution_count": 32,
   "id": "815389e8-32b2-462f-9714-6f93077ba747",
   "metadata": {},
   "outputs": [
    {
     "data": {
      "text/plain": [
       "'0b1000000000000000'"
      ]
     },
     "execution_count": 32,
     "metadata": {},
     "output_type": "execute_result"
    }
   ],
   "source": [
    "bin(STAT.S_IFREG) # 1000_0000_0000_0000"
   ]
  },
  {
   "cell_type": "code",
   "execution_count": 33,
   "id": "961a3951-4491-4bc4-966a-6cdb8a2f2919",
   "metadata": {},
   "outputs": [
    {
     "name": "stdout",
     "output_type": "stream",
     "text": [
      "0b100000000000000\n",
      "0b10000000000000\n",
      "0b110000000000000\n",
      "0b1000000000000000\n",
      "0b1000000000000\n",
      "0b1010000000000000\n",
      "0b1100000000000000\n",
      "0b0\n"
     ]
    }
   ],
   "source": [
    "print(bin(STAT.S_IFDIR))\n",
    "print(bin(STAT.S_IFCHR))\n",
    "print(bin(STAT.S_IFBLK))\n",
    "print(bin(STAT.S_IFREG))\n",
    "print(bin(STAT.S_IFIFO))\n",
    "print(bin(STAT.S_IFLNK))\n",
    "print(bin(STAT.S_IFSOCK))\n",
    "print(bin(STAT.S_IFDOOR))"
   ]
  },
  {
   "cell_type": "code",
   "execution_count": 103,
   "id": "efdc355d-3df6-481f-b2db-abb0335b0ba5",
   "metadata": {},
   "outputs": [
    {
     "data": {
      "text/plain": [
       "True"
      ]
     },
     "execution_count": 103,
     "metadata": {},
     "output_type": "execute_result"
    }
   ],
   "source": [
    "check_identifiers()"
   ]
  },
  {
   "cell_type": "code",
   "execution_count": 151,
   "id": "d1b065b7-c505-4a35-a98d-d4a1c69355f4",
   "metadata": {},
   "outputs": [
    {
     "name": "stdout",
     "output_type": "stream",
     "text": [
      "asd\n"
     ]
    }
   ],
   "source": [
    "def foo(x : int):\n",
    "    print(x)\n",
    "foo('asd')"
   ]
  },
  {
   "cell_type": "code",
   "execution_count": null,
   "id": "010c4758-0cf6-46ce-8778-5ca339a10d15",
   "metadata": {},
   "outputs": [],
   "source": []
  },
  {
   "cell_type": "code",
   "execution_count": null,
   "id": "d29e0082-49d8-4930-b5f8-ed47a3c2ecbb",
   "metadata": {},
   "outputs": [],
   "source": []
  },
  {
   "cell_type": "code",
   "execution_count": null,
   "id": "b8ba6d3f-fa90-4fe0-892c-ae17ac93b181",
   "metadata": {},
   "outputs": [],
   "source": []
  },
  {
   "cell_type": "code",
   "execution_count": null,
   "id": "868285c8-830d-4673-b286-77c472ab3407",
   "metadata": {},
   "outputs": [],
   "source": []
  },
  {
   "cell_type": "code",
   "execution_count": null,
   "id": "f2187031-5d19-4342-bd62-e5895c22cc49",
   "metadata": {},
   "outputs": [],
   "source": []
  },
  {
   "cell_type": "code",
   "execution_count": 2,
   "id": "2ec8bae8-ae8e-4758-9b29-39775ac97b2e",
   "metadata": {},
   "outputs": [
    {
     "data": {
      "text/plain": [
       "'/home/feelus/pyfiles/src'"
      ]
     },
     "execution_count": 2,
     "metadata": {},
     "output_type": "execute_result"
    }
   ],
   "source": [
    "import os\n",
    "os.getcwd()"
   ]
  },
  {
   "cell_type": "code",
   "execution_count": 3,
   "id": "35ca2c8a-9833-49cd-9fc3-dc96485c76af",
   "metadata": {},
   "outputs": [
    {
     "data": {
      "text/plain": [
       "()"
      ]
     },
     "execution_count": 3,
     "metadata": {},
     "output_type": "execute_result"
    }
   ],
   "source": [
    "tuple()"
   ]
  },
  {
   "cell_type": "code",
   "execution_count": null,
   "id": "c838507b-1354-4738-b5cf-b61972ec16de",
   "metadata": {},
   "outputs": [],
   "source": []
  }
 ],
 "metadata": {
  "kernelspec": {
   "display_name": "Python 3 (ipykernel)",
   "language": "python",
   "name": "python3"
  },
  "language_info": {
   "codemirror_mode": {
    "name": "ipython",
    "version": 3
   },
   "file_extension": ".py",
   "mimetype": "text/x-python",
   "name": "python",
   "nbconvert_exporter": "python",
   "pygments_lexer": "ipython3",
   "version": "3.12.3"
  }
 },
 "nbformat": 4,
 "nbformat_minor": 5
}
